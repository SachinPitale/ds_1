{
  "nbformat": 4,
  "nbformat_minor": 0,
  "metadata": {
    "colab": {
      "name": "nlp_emmeding.ipynb",
      "provenance": [],
      "collapsed_sections": []
    },
    "kernelspec": {
      "name": "python3",
      "display_name": "Python 3"
    },
    "language_info": {
      "name": "python"
    },
    "accelerator": "GPU",
    "gpuClass": "standard"
  },
  "cells": [
    {
      "cell_type": "code",
      "execution_count": 1,
      "metadata": {
        "colab": {
          "base_uri": "https://localhost:8080/"
        },
        "id": "fN0wqiNiSc6q",
        "outputId": "e5c3e089-c601-46ba-a8a1-0f73c5a281f4"
      },
      "outputs": [
        {
          "output_type": "stream",
          "name": "stdout",
          "text": [
            "Looking in indexes: https://pypi.org/simple, https://us-python.pkg.dev/colab-wheels/public/simple/\n",
            "Collecting tensorflow-gpu\n",
            "  Downloading tensorflow_gpu-2.9.1-cp37-cp37m-manylinux_2_17_x86_64.manylinux2014_x86_64.whl (511.7 MB)\n",
            "\u001b[K     |████████████████████████████████| 511.7 MB 6.5 kB/s \n",
            "\u001b[?25hRequirement already satisfied: keras-preprocessing>=1.1.1 in /usr/local/lib/python3.7/dist-packages (from tensorflow-gpu) (1.1.2)\n",
            "Requirement already satisfied: protobuf<3.20,>=3.9.2 in /usr/local/lib/python3.7/dist-packages (from tensorflow-gpu) (3.17.3)\n",
            "Requirement already satisfied: google-pasta>=0.1.1 in /usr/local/lib/python3.7/dist-packages (from tensorflow-gpu) (0.2.0)\n",
            "Collecting tensorboard<2.10,>=2.9\n",
            "  Downloading tensorboard-2.9.1-py3-none-any.whl (5.8 MB)\n",
            "\u001b[K     |████████████████████████████████| 5.8 MB 46.4 MB/s \n",
            "\u001b[?25hRequirement already satisfied: termcolor>=1.1.0 in /usr/local/lib/python3.7/dist-packages (from tensorflow-gpu) (1.1.0)\n",
            "Requirement already satisfied: numpy>=1.20 in /usr/local/lib/python3.7/dist-packages (from tensorflow-gpu) (1.21.6)\n",
            "Requirement already satisfied: six>=1.12.0 in /usr/local/lib/python3.7/dist-packages (from tensorflow-gpu) (1.15.0)\n",
            "Requirement already satisfied: libclang>=13.0.0 in /usr/local/lib/python3.7/dist-packages (from tensorflow-gpu) (14.0.1)\n",
            "Requirement already satisfied: setuptools in /usr/local/lib/python3.7/dist-packages (from tensorflow-gpu) (57.4.0)\n",
            "Requirement already satisfied: tensorflow-io-gcs-filesystem>=0.23.1 in /usr/local/lib/python3.7/dist-packages (from tensorflow-gpu) (0.26.0)\n",
            "Requirement already satisfied: typing-extensions>=3.6.6 in /usr/local/lib/python3.7/dist-packages (from tensorflow-gpu) (4.1.1)\n",
            "Collecting flatbuffers<2,>=1.12\n",
            "  Downloading flatbuffers-1.12-py2.py3-none-any.whl (15 kB)\n",
            "Requirement already satisfied: h5py>=2.9.0 in /usr/local/lib/python3.7/dist-packages (from tensorflow-gpu) (3.1.0)\n",
            "Requirement already satisfied: grpcio<2.0,>=1.24.3 in /usr/local/lib/python3.7/dist-packages (from tensorflow-gpu) (1.46.3)\n",
            "Collecting tensorflow-estimator<2.10.0,>=2.9.0rc0\n",
            "  Downloading tensorflow_estimator-2.9.0-py2.py3-none-any.whl (438 kB)\n",
            "\u001b[K     |████████████████████████████████| 438 kB 53.6 MB/s \n",
            "\u001b[?25hRequirement already satisfied: astunparse>=1.6.0 in /usr/local/lib/python3.7/dist-packages (from tensorflow-gpu) (1.6.3)\n",
            "Collecting gast<=0.4.0,>=0.2.1\n",
            "  Downloading gast-0.4.0-py3-none-any.whl (9.8 kB)\n",
            "Requirement already satisfied: wrapt>=1.11.0 in /usr/local/lib/python3.7/dist-packages (from tensorflow-gpu) (1.14.1)\n",
            "Collecting keras<2.10.0,>=2.9.0rc0\n",
            "  Downloading keras-2.9.0-py2.py3-none-any.whl (1.6 MB)\n",
            "\u001b[K     |████████████████████████████████| 1.6 MB 47.7 MB/s \n",
            "\u001b[?25hRequirement already satisfied: packaging in /usr/local/lib/python3.7/dist-packages (from tensorflow-gpu) (21.3)\n",
            "Requirement already satisfied: opt-einsum>=2.3.2 in /usr/local/lib/python3.7/dist-packages (from tensorflow-gpu) (3.3.0)\n",
            "Requirement already satisfied: absl-py>=1.0.0 in /usr/local/lib/python3.7/dist-packages (from tensorflow-gpu) (1.1.0)\n",
            "Requirement already satisfied: wheel<1.0,>=0.23.0 in /usr/local/lib/python3.7/dist-packages (from astunparse>=1.6.0->tensorflow-gpu) (0.37.1)\n",
            "Requirement already satisfied: cached-property in /usr/local/lib/python3.7/dist-packages (from h5py>=2.9.0->tensorflow-gpu) (1.5.2)\n",
            "Requirement already satisfied: werkzeug>=1.0.1 in /usr/local/lib/python3.7/dist-packages (from tensorboard<2.10,>=2.9->tensorflow-gpu) (1.0.1)\n",
            "Requirement already satisfied: tensorboard-data-server<0.7.0,>=0.6.0 in /usr/local/lib/python3.7/dist-packages (from tensorboard<2.10,>=2.9->tensorflow-gpu) (0.6.1)\n",
            "Requirement already satisfied: google-auth-oauthlib<0.5,>=0.4.1 in /usr/local/lib/python3.7/dist-packages (from tensorboard<2.10,>=2.9->tensorflow-gpu) (0.4.6)\n",
            "Requirement already satisfied: google-auth<3,>=1.6.3 in /usr/local/lib/python3.7/dist-packages (from tensorboard<2.10,>=2.9->tensorflow-gpu) (1.35.0)\n",
            "Requirement already satisfied: markdown>=2.6.8 in /usr/local/lib/python3.7/dist-packages (from tensorboard<2.10,>=2.9->tensorflow-gpu) (3.3.7)\n",
            "Requirement already satisfied: tensorboard-plugin-wit>=1.6.0 in /usr/local/lib/python3.7/dist-packages (from tensorboard<2.10,>=2.9->tensorflow-gpu) (1.8.1)\n",
            "Requirement already satisfied: requests<3,>=2.21.0 in /usr/local/lib/python3.7/dist-packages (from tensorboard<2.10,>=2.9->tensorflow-gpu) (2.23.0)\n",
            "Requirement already satisfied: cachetools<5.0,>=2.0.0 in /usr/local/lib/python3.7/dist-packages (from google-auth<3,>=1.6.3->tensorboard<2.10,>=2.9->tensorflow-gpu) (4.2.4)\n",
            "Requirement already satisfied: rsa<5,>=3.1.4 in /usr/local/lib/python3.7/dist-packages (from google-auth<3,>=1.6.3->tensorboard<2.10,>=2.9->tensorflow-gpu) (4.8)\n",
            "Requirement already satisfied: pyasn1-modules>=0.2.1 in /usr/local/lib/python3.7/dist-packages (from google-auth<3,>=1.6.3->tensorboard<2.10,>=2.9->tensorflow-gpu) (0.2.8)\n",
            "Requirement already satisfied: requests-oauthlib>=0.7.0 in /usr/local/lib/python3.7/dist-packages (from google-auth-oauthlib<0.5,>=0.4.1->tensorboard<2.10,>=2.9->tensorflow-gpu) (1.3.1)\n",
            "Requirement already satisfied: importlib-metadata>=4.4 in /usr/local/lib/python3.7/dist-packages (from markdown>=2.6.8->tensorboard<2.10,>=2.9->tensorflow-gpu) (4.11.4)\n",
            "Requirement already satisfied: zipp>=0.5 in /usr/local/lib/python3.7/dist-packages (from importlib-metadata>=4.4->markdown>=2.6.8->tensorboard<2.10,>=2.9->tensorflow-gpu) (3.8.0)\n",
            "Requirement already satisfied: pyasn1<0.5.0,>=0.4.6 in /usr/local/lib/python3.7/dist-packages (from pyasn1-modules>=0.2.1->google-auth<3,>=1.6.3->tensorboard<2.10,>=2.9->tensorflow-gpu) (0.4.8)\n",
            "Requirement already satisfied: certifi>=2017.4.17 in /usr/local/lib/python3.7/dist-packages (from requests<3,>=2.21.0->tensorboard<2.10,>=2.9->tensorflow-gpu) (2022.6.15)\n",
            "Requirement already satisfied: idna<3,>=2.5 in /usr/local/lib/python3.7/dist-packages (from requests<3,>=2.21.0->tensorboard<2.10,>=2.9->tensorflow-gpu) (2.10)\n",
            "Requirement already satisfied: chardet<4,>=3.0.2 in /usr/local/lib/python3.7/dist-packages (from requests<3,>=2.21.0->tensorboard<2.10,>=2.9->tensorflow-gpu) (3.0.4)\n",
            "Requirement already satisfied: urllib3!=1.25.0,!=1.25.1,<1.26,>=1.21.1 in /usr/local/lib/python3.7/dist-packages (from requests<3,>=2.21.0->tensorboard<2.10,>=2.9->tensorflow-gpu) (1.24.3)\n",
            "Requirement already satisfied: oauthlib>=3.0.0 in /usr/local/lib/python3.7/dist-packages (from requests-oauthlib>=0.7.0->google-auth-oauthlib<0.5,>=0.4.1->tensorboard<2.10,>=2.9->tensorflow-gpu) (3.2.0)\n",
            "Requirement already satisfied: pyparsing!=3.0.5,>=2.0.2 in /usr/local/lib/python3.7/dist-packages (from packaging->tensorflow-gpu) (3.0.9)\n",
            "Installing collected packages: tensorflow-estimator, tensorboard, keras, gast, flatbuffers, tensorflow-gpu\n",
            "  Attempting uninstall: tensorflow-estimator\n",
            "    Found existing installation: tensorflow-estimator 2.8.0\n",
            "    Uninstalling tensorflow-estimator-2.8.0:\n",
            "      Successfully uninstalled tensorflow-estimator-2.8.0\n",
            "  Attempting uninstall: tensorboard\n",
            "    Found existing installation: tensorboard 2.8.0\n",
            "    Uninstalling tensorboard-2.8.0:\n",
            "      Successfully uninstalled tensorboard-2.8.0\n",
            "  Attempting uninstall: keras\n",
            "    Found existing installation: keras 2.8.0\n",
            "    Uninstalling keras-2.8.0:\n",
            "      Successfully uninstalled keras-2.8.0\n",
            "  Attempting uninstall: gast\n",
            "    Found existing installation: gast 0.5.3\n",
            "    Uninstalling gast-0.5.3:\n",
            "      Successfully uninstalled gast-0.5.3\n",
            "  Attempting uninstall: flatbuffers\n",
            "    Found existing installation: flatbuffers 2.0\n",
            "    Uninstalling flatbuffers-2.0:\n",
            "      Successfully uninstalled flatbuffers-2.0\n",
            "\u001b[31mERROR: pip's dependency resolver does not currently take into account all the packages that are installed. This behaviour is the source of the following dependency conflicts.\n",
            "tensorflow 2.8.2+zzzcolab20220527125636 requires keras<2.9,>=2.8.0rc0, but you have keras 2.9.0 which is incompatible.\n",
            "tensorflow 2.8.2+zzzcolab20220527125636 requires tensorboard<2.9,>=2.8, but you have tensorboard 2.9.1 which is incompatible.\n",
            "tensorflow 2.8.2+zzzcolab20220527125636 requires tensorflow-estimator<2.9,>=2.8, but you have tensorflow-estimator 2.9.0 which is incompatible.\u001b[0m\n",
            "Successfully installed flatbuffers-1.12 gast-0.4.0 keras-2.9.0 tensorboard-2.9.1 tensorflow-estimator-2.9.0 tensorflow-gpu-2.9.1\n"
          ]
        }
      ],
      "source": [
        "!pip install tensorflow-gpu"
      ]
    },
    {
      "cell_type": "code",
      "source": [
        "import tensorflow as tf"
      ],
      "metadata": {
        "id": "r2BQ22E7U6WA"
      },
      "execution_count": 2,
      "outputs": []
    },
    {
      "cell_type": "code",
      "source": [
        "print(tf.__version__)"
      ],
      "metadata": {
        "colab": {
          "base_uri": "https://localhost:8080/"
        },
        "id": "y4WqRSnNVkkD",
        "outputId": "743b7a93-e35c-4e83-df7e-f00742ebd7a4"
      },
      "execution_count": 3,
      "outputs": [
        {
          "output_type": "stream",
          "name": "stdout",
          "text": [
            "2.9.1\n"
          ]
        }
      ]
    },
    {
      "cell_type": "code",
      "source": [
        "from tensorflow.keras.preprocessing.text import one_hot"
      ],
      "metadata": {
        "id": "c-3SZQmcVomB"
      },
      "execution_count": 4,
      "outputs": []
    },
    {
      "cell_type": "code",
      "source": [
        "### sentences\n",
        "sent=[  'the glass of milk',\n",
        "     'the glass of juice',\n",
        "     'the cup of tea',\n",
        "    'I am a good boy',\n",
        "     'I am a good developer',\n",
        "     'understand the meaning of words',\n",
        "     'your videos are good']"
      ],
      "metadata": {
        "id": "iiqffgs4V6Bc"
      },
      "execution_count": 5,
      "outputs": []
    },
    {
      "cell_type": "code",
      "source": [
        "sent"
      ],
      "metadata": {
        "colab": {
          "base_uri": "https://localhost:8080/"
        },
        "id": "X_q53IrsV-zf",
        "outputId": "de3572bc-dcc6-4e3a-a8f0-dd2d00b3af79"
      },
      "execution_count": 6,
      "outputs": [
        {
          "output_type": "execute_result",
          "data": {
            "text/plain": [
              "['the glass of milk',\n",
              " 'the glass of juice',\n",
              " 'the cup of tea',\n",
              " 'I am a good boy',\n",
              " 'I am a good developer',\n",
              " 'understand the meaning of words',\n",
              " 'your videos are good']"
            ]
          },
          "metadata": {},
          "execution_count": 6
        }
      ]
    },
    {
      "cell_type": "code",
      "source": [
        "voc_size = 10000"
      ],
      "metadata": {
        "id": "qvfNobzZV_du"
      },
      "execution_count": 11,
      "outputs": []
    },
    {
      "cell_type": "code",
      "source": [
        "onehot_repr=[one_hot(words,voc_size) for words in sent]\n",
        "print(onehot_repr)"
      ],
      "metadata": {
        "colab": {
          "base_uri": "https://localhost:8080/"
        },
        "id": "JKfpDX8XWRrc",
        "outputId": "19f962de-277f-4e2d-89db-683636b57e1e"
      },
      "execution_count": 12,
      "outputs": [
        {
          "output_type": "stream",
          "name": "stdout",
          "text": [
            "[[9365, 88, 3276, 7081], [9365, 88, 3276, 601], [9365, 9002, 3276, 9231], [5123, 5119, 9109, 2042, 1924], [5123, 5119, 9109, 2042, 6178], [7166, 9365, 8785, 3276, 2836], [3269, 1236, 4749, 2042]]\n"
          ]
        }
      ]
    },
    {
      "cell_type": "code",
      "source": [
        "from tensorflow.keras.layers import Embedding\n",
        "from tensorflow.keras.preprocessing.sequence import pad_sequences\n",
        "from tensorflow.keras.models import Sequential"
      ],
      "metadata": {
        "id": "u9ksrnamW_kO"
      },
      "execution_count": 13,
      "outputs": []
    },
    {
      "cell_type": "code",
      "source": [
        "import numpy as np"
      ],
      "metadata": {
        "id": "4T7sBfZnYPLF"
      },
      "execution_count": 14,
      "outputs": []
    },
    {
      "cell_type": "code",
      "source": [
        "## pre padding\n",
        "sent_length = 8\n",
        "embedded_docs=pad_sequences(onehot_repr,padding='pre',maxlen=sent_length)\n",
        "print(embedded_docs)"
      ],
      "metadata": {
        "colab": {
          "base_uri": "https://localhost:8080/"
        },
        "id": "BfBm3j66YjIv",
        "outputId": "11a82440-0b93-4459-ba72-794bd45f062a"
      },
      "execution_count": 16,
      "outputs": [
        {
          "output_type": "stream",
          "name": "stdout",
          "text": [
            "[[   0    0    0    0 9365   88 3276 7081]\n",
            " [   0    0    0    0 9365   88 3276  601]\n",
            " [   0    0    0    0 9365 9002 3276 9231]\n",
            " [   0    0    0 5123 5119 9109 2042 1924]\n",
            " [   0    0    0 5123 5119 9109 2042 6178]\n",
            " [   0    0    0 7166 9365 8785 3276 2836]\n",
            " [   0    0    0    0 3269 1236 4749 2042]]\n"
          ]
        }
      ]
    },
    {
      "cell_type": "code",
      "source": [
        "## 10 feature dimesnions\n",
        "dim=10\n"
      ],
      "metadata": {
        "id": "aXKEWQdPZBqL"
      },
      "execution_count": 17,
      "outputs": []
    },
    {
      "cell_type": "code",
      "source": [
        "model=Sequential()\n",
        "model.add(Embedding(voc_size,10,input_length=sent_length))\n",
        "model.compile('adam','mse')\n"
      ],
      "metadata": {
        "id": "bla_bBKmbPfS"
      },
      "execution_count": 23,
      "outputs": []
    },
    {
      "cell_type": "code",
      "source": [
        "model.summary()"
      ],
      "metadata": {
        "colab": {
          "base_uri": "https://localhost:8080/"
        },
        "id": "4v3SnQLJbVeI",
        "outputId": "b6adc3cc-5cff-401b-c73a-23cc9c6d046c"
      },
      "execution_count": 24,
      "outputs": [
        {
          "output_type": "stream",
          "name": "stdout",
          "text": [
            "Model: \"sequential_2\"\n",
            "_________________________________________________________________\n",
            " Layer (type)                Output Shape              Param #   \n",
            "=================================================================\n",
            " embedding_2 (Embedding)     (None, 8, 10)             100000    \n",
            "                                                                 \n",
            "=================================================================\n",
            "Total params: 100,000\n",
            "Trainable params: 100,000\n",
            "Non-trainable params: 0\n",
            "_________________________________________________________________\n"
          ]
        }
      ]
    },
    {
      "cell_type": "code",
      "source": [
        "##'the glass of milk',\n",
        "embedded_docs[0]"
      ],
      "metadata": {
        "colab": {
          "base_uri": "https://localhost:8080/"
        },
        "id": "3Fnw2qzubYZn",
        "outputId": "494565a3-d4b0-4ff9-d74a-893cb0b36c3e"
      },
      "execution_count": 25,
      "outputs": [
        {
          "output_type": "execute_result",
          "data": {
            "text/plain": [
              "array([   0,    0,    0,    0, 9365,   88, 3276, 7081], dtype=int32)"
            ]
          },
          "metadata": {},
          "execution_count": 25
        }
      ]
    },
    {
      "cell_type": "code",
      "source": [
        "model.predict(embedded_docs[0])"
      ],
      "metadata": {
        "colab": {
          "base_uri": "https://localhost:8080/"
        },
        "id": "4_WWy2iibvd5",
        "outputId": "46aabf10-f160-485d-abad-5095e14bb040"
      },
      "execution_count": 26,
      "outputs": [
        {
          "output_type": "stream",
          "name": "stdout",
          "text": [
            "WARNING:tensorflow:Model was constructed with shape (None, 8) for input KerasTensor(type_spec=TensorSpec(shape=(None, 8), dtype=tf.float32, name='embedding_2_input'), name='embedding_2_input', description=\"created by layer 'embedding_2_input'\"), but it was called on an input with incompatible shape (None,).\n",
            "1/1 [==============================] - 0s 64ms/step\n"
          ]
        },
        {
          "output_type": "execute_result",
          "data": {
            "text/plain": [
              "array([[ 0.02254668, -0.03467371, -0.04071005,  0.04833687, -0.02766365,\n",
              "        -0.03874596,  0.00580305,  0.02757757, -0.022999  , -0.03814012],\n",
              "       [ 0.02254668, -0.03467371, -0.04071005,  0.04833687, -0.02766365,\n",
              "        -0.03874596,  0.00580305,  0.02757757, -0.022999  , -0.03814012],\n",
              "       [ 0.02254668, -0.03467371, -0.04071005,  0.04833687, -0.02766365,\n",
              "        -0.03874596,  0.00580305,  0.02757757, -0.022999  , -0.03814012],\n",
              "       [ 0.02254668, -0.03467371, -0.04071005,  0.04833687, -0.02766365,\n",
              "        -0.03874596,  0.00580305,  0.02757757, -0.022999  , -0.03814012],\n",
              "       [-0.02609651,  0.02563605,  0.0473325 ,  0.0304338 ,  0.01944745,\n",
              "         0.0199814 ,  0.02515909,  0.03050848,  0.04697831, -0.01570594],\n",
              "       [ 0.03394833, -0.03569539, -0.02608092,  0.03447677,  0.0188751 ,\n",
              "        -0.03304424, -0.04090254, -0.01275325,  0.02098453,  0.04609554],\n",
              "       [ 0.02595602,  0.02258687, -0.03916916, -0.03397846,  0.04922863,\n",
              "        -0.01828157,  0.04808501, -0.02719213,  0.01164008, -0.04033552],\n",
              "       [ 0.04146706,  0.0255363 ,  0.03406892,  0.04123521, -0.02869071,\n",
              "        -0.0428993 , -0.04422459, -0.02440004, -0.02740812, -0.02958294]],\n",
              "      dtype=float32)"
            ]
          },
          "metadata": {},
          "execution_count": 26
        }
      ]
    },
    {
      "cell_type": "code",
      "source": [
        "print(model.predict(embedded_docs))"
      ],
      "metadata": {
        "colab": {
          "base_uri": "https://localhost:8080/"
        },
        "id": "L6OTnrEDbypw",
        "outputId": "f72c7052-6792-4b07-fd90-f194463334cc"
      },
      "execution_count": 27,
      "outputs": [
        {
          "output_type": "stream",
          "name": "stdout",
          "text": [
            "1/1 [==============================] - 0s 42ms/step\n",
            "[[[ 0.02254668 -0.03467371 -0.04071005  0.04833687 -0.02766365\n",
            "   -0.03874596  0.00580305  0.02757757 -0.022999   -0.03814012]\n",
            "  [ 0.02254668 -0.03467371 -0.04071005  0.04833687 -0.02766365\n",
            "   -0.03874596  0.00580305  0.02757757 -0.022999   -0.03814012]\n",
            "  [ 0.02254668 -0.03467371 -0.04071005  0.04833687 -0.02766365\n",
            "   -0.03874596  0.00580305  0.02757757 -0.022999   -0.03814012]\n",
            "  [ 0.02254668 -0.03467371 -0.04071005  0.04833687 -0.02766365\n",
            "   -0.03874596  0.00580305  0.02757757 -0.022999   -0.03814012]\n",
            "  [-0.02609651  0.02563605  0.0473325   0.0304338   0.01944745\n",
            "    0.0199814   0.02515909  0.03050848  0.04697831 -0.01570594]\n",
            "  [ 0.03394833 -0.03569539 -0.02608092  0.03447677  0.0188751\n",
            "   -0.03304424 -0.04090254 -0.01275325  0.02098453  0.04609554]\n",
            "  [ 0.02595602  0.02258687 -0.03916916 -0.03397846  0.04922863\n",
            "   -0.01828157  0.04808501 -0.02719213  0.01164008 -0.04033552]\n",
            "  [ 0.04146706  0.0255363   0.03406892  0.04123521 -0.02869071\n",
            "   -0.0428993  -0.04422459 -0.02440004 -0.02740812 -0.02958294]]\n",
            "\n",
            " [[ 0.02254668 -0.03467371 -0.04071005  0.04833687 -0.02766365\n",
            "   -0.03874596  0.00580305  0.02757757 -0.022999   -0.03814012]\n",
            "  [ 0.02254668 -0.03467371 -0.04071005  0.04833687 -0.02766365\n",
            "   -0.03874596  0.00580305  0.02757757 -0.022999   -0.03814012]\n",
            "  [ 0.02254668 -0.03467371 -0.04071005  0.04833687 -0.02766365\n",
            "   -0.03874596  0.00580305  0.02757757 -0.022999   -0.03814012]\n",
            "  [ 0.02254668 -0.03467371 -0.04071005  0.04833687 -0.02766365\n",
            "   -0.03874596  0.00580305  0.02757757 -0.022999   -0.03814012]\n",
            "  [-0.02609651  0.02563605  0.0473325   0.0304338   0.01944745\n",
            "    0.0199814   0.02515909  0.03050848  0.04697831 -0.01570594]\n",
            "  [ 0.03394833 -0.03569539 -0.02608092  0.03447677  0.0188751\n",
            "   -0.03304424 -0.04090254 -0.01275325  0.02098453  0.04609554]\n",
            "  [ 0.02595602  0.02258687 -0.03916916 -0.03397846  0.04922863\n",
            "   -0.01828157  0.04808501 -0.02719213  0.01164008 -0.04033552]\n",
            "  [-0.01366149  0.04541376 -0.02683675 -0.02225303 -0.04153115\n",
            "    0.02032998  0.01911094 -0.01402379 -0.03102063  0.01748555]]\n",
            "\n",
            " [[ 0.02254668 -0.03467371 -0.04071005  0.04833687 -0.02766365\n",
            "   -0.03874596  0.00580305  0.02757757 -0.022999   -0.03814012]\n",
            "  [ 0.02254668 -0.03467371 -0.04071005  0.04833687 -0.02766365\n",
            "   -0.03874596  0.00580305  0.02757757 -0.022999   -0.03814012]\n",
            "  [ 0.02254668 -0.03467371 -0.04071005  0.04833687 -0.02766365\n",
            "   -0.03874596  0.00580305  0.02757757 -0.022999   -0.03814012]\n",
            "  [ 0.02254668 -0.03467371 -0.04071005  0.04833687 -0.02766365\n",
            "   -0.03874596  0.00580305  0.02757757 -0.022999   -0.03814012]\n",
            "  [-0.02609651  0.02563605  0.0473325   0.0304338   0.01944745\n",
            "    0.0199814   0.02515909  0.03050848  0.04697831 -0.01570594]\n",
            "  [-0.03125942 -0.01976041  0.01821167 -0.01748266 -0.01379579\n",
            "    0.01433626  0.0307929   0.04092428  0.04337395  0.04359451]\n",
            "  [ 0.02595602  0.02258687 -0.03916916 -0.03397846  0.04922863\n",
            "   -0.01828157  0.04808501 -0.02719213  0.01164008 -0.04033552]\n",
            "  [-0.03521926  0.01802229  0.04825426 -0.03852558 -0.02533397\n",
            "    0.0274365  -0.01052631  0.03354769 -0.03641159 -0.0099305 ]]\n",
            "\n",
            " [[ 0.02254668 -0.03467371 -0.04071005  0.04833687 -0.02766365\n",
            "   -0.03874596  0.00580305  0.02757757 -0.022999   -0.03814012]\n",
            "  [ 0.02254668 -0.03467371 -0.04071005  0.04833687 -0.02766365\n",
            "   -0.03874596  0.00580305  0.02757757 -0.022999   -0.03814012]\n",
            "  [ 0.02254668 -0.03467371 -0.04071005  0.04833687 -0.02766365\n",
            "   -0.03874596  0.00580305  0.02757757 -0.022999   -0.03814012]\n",
            "  [ 0.00167044  0.00988747 -0.00520818 -0.0168321  -0.01605606\n",
            "   -0.02849171 -0.03857844  0.00822815 -0.01665388  0.04455363]\n",
            "  [ 0.04575669 -0.00281034 -0.03710538 -0.0113001   0.0142\n",
            "   -0.01301758  0.01559078  0.02417921 -0.02467403 -0.03659064]\n",
            "  [ 0.04685755  0.00046868 -0.00675141  0.04234869  0.04124923\n",
            "   -0.04301591  0.01648179 -0.01659282  0.02805265  0.01443601]\n",
            "  [ 0.03464938  0.02334154 -0.01535865 -0.03996836 -0.03344065\n",
            "    0.02289276  0.01766589  0.03215552 -0.0462562  -0.03520658]\n",
            "  [ 0.03975925 -0.0126031   0.01617107 -0.02128749 -0.04250139\n",
            "   -0.00609535  0.01790643 -0.03698369  0.03322626 -0.02566625]]\n",
            "\n",
            " [[ 0.02254668 -0.03467371 -0.04071005  0.04833687 -0.02766365\n",
            "   -0.03874596  0.00580305  0.02757757 -0.022999   -0.03814012]\n",
            "  [ 0.02254668 -0.03467371 -0.04071005  0.04833687 -0.02766365\n",
            "   -0.03874596  0.00580305  0.02757757 -0.022999   -0.03814012]\n",
            "  [ 0.02254668 -0.03467371 -0.04071005  0.04833687 -0.02766365\n",
            "   -0.03874596  0.00580305  0.02757757 -0.022999   -0.03814012]\n",
            "  [ 0.00167044  0.00988747 -0.00520818 -0.0168321  -0.01605606\n",
            "   -0.02849171 -0.03857844  0.00822815 -0.01665388  0.04455363]\n",
            "  [ 0.04575669 -0.00281034 -0.03710538 -0.0113001   0.0142\n",
            "   -0.01301758  0.01559078  0.02417921 -0.02467403 -0.03659064]\n",
            "  [ 0.04685755  0.00046868 -0.00675141  0.04234869  0.04124923\n",
            "   -0.04301591  0.01648179 -0.01659282  0.02805265  0.01443601]\n",
            "  [ 0.03464938  0.02334154 -0.01535865 -0.03996836 -0.03344065\n",
            "    0.02289276  0.01766589  0.03215552 -0.0462562  -0.03520658]\n",
            "  [-0.02329376 -0.03901929 -0.00980527 -0.00193609 -0.00420441\n",
            "    0.03267106 -0.01422174  0.03864675 -0.02144722 -0.0156706 ]]\n",
            "\n",
            " [[ 0.02254668 -0.03467371 -0.04071005  0.04833687 -0.02766365\n",
            "   -0.03874596  0.00580305  0.02757757 -0.022999   -0.03814012]\n",
            "  [ 0.02254668 -0.03467371 -0.04071005  0.04833687 -0.02766365\n",
            "   -0.03874596  0.00580305  0.02757757 -0.022999   -0.03814012]\n",
            "  [ 0.02254668 -0.03467371 -0.04071005  0.04833687 -0.02766365\n",
            "   -0.03874596  0.00580305  0.02757757 -0.022999   -0.03814012]\n",
            "  [ 0.00615712  0.02905316  0.04856351 -0.0326543  -0.02490561\n",
            "   -0.00089727  0.02065805  0.00253449 -0.04648196  0.01184087]\n",
            "  [-0.02609651  0.02563605  0.0473325   0.0304338   0.01944745\n",
            "    0.0199814   0.02515909  0.03050848  0.04697831 -0.01570594]\n",
            "  [ 0.00599144  0.02376289 -0.00593797 -0.02855444  0.01642722\n",
            "   -0.02047216  0.04665716 -0.046016    0.03702265 -0.02719088]\n",
            "  [ 0.02595602  0.02258687 -0.03916916 -0.03397846  0.04922863\n",
            "   -0.01828157  0.04808501 -0.02719213  0.01164008 -0.04033552]\n",
            "  [ 0.02494452  0.01587192 -0.03902022 -0.04424414 -0.03819937\n",
            "    0.03707384 -0.03164694 -0.04313195  0.04109206  0.01984188]]\n",
            "\n",
            " [[ 0.02254668 -0.03467371 -0.04071005  0.04833687 -0.02766365\n",
            "   -0.03874596  0.00580305  0.02757757 -0.022999   -0.03814012]\n",
            "  [ 0.02254668 -0.03467371 -0.04071005  0.04833687 -0.02766365\n",
            "   -0.03874596  0.00580305  0.02757757 -0.022999   -0.03814012]\n",
            "  [ 0.02254668 -0.03467371 -0.04071005  0.04833687 -0.02766365\n",
            "   -0.03874596  0.00580305  0.02757757 -0.022999   -0.03814012]\n",
            "  [ 0.02254668 -0.03467371 -0.04071005  0.04833687 -0.02766365\n",
            "   -0.03874596  0.00580305  0.02757757 -0.022999   -0.03814012]\n",
            "  [ 0.03350094 -0.00381049 -0.00835007 -0.00715756  0.04676255\n",
            "    0.04597694 -0.0123304   0.03145141 -0.01873125  0.03806851]\n",
            "  [-0.01485145  0.02796311 -0.03376917  0.03983193  0.04079168\n",
            "    0.02770283  0.02409952 -0.02051865  0.03234618  0.01996917]\n",
            "  [-0.02071437 -0.0049795   0.040218   -0.00862199  0.04579811\n",
            "   -0.00406313 -0.01845205  0.04061811 -0.00731541  0.03959514]\n",
            "  [ 0.03464938  0.02334154 -0.01535865 -0.03996836 -0.03344065\n",
            "    0.02289276  0.01766589  0.03215552 -0.0462562  -0.03520658]]]\n"
          ]
        }
      ]
    },
    {
      "cell_type": "code",
      "source": [
        "embedded_docs[0]"
      ],
      "metadata": {
        "colab": {
          "base_uri": "https://localhost:8080/"
        },
        "id": "7qu_FjVAcPsk",
        "outputId": "4b22c6af-d653-447d-a303-d726f5c17e42"
      },
      "execution_count": 28,
      "outputs": [
        {
          "output_type": "execute_result",
          "data": {
            "text/plain": [
              "array([   0,    0,    0,    0, 9365,   88, 3276, 7081], dtype=int32)"
            ]
          },
          "metadata": {},
          "execution_count": 28
        }
      ]
    },
    {
      "cell_type": "code",
      "source": [
        "print(model.predict(embedded_docs)[0])"
      ],
      "metadata": {
        "colab": {
          "base_uri": "https://localhost:8080/"
        },
        "id": "u8dRz5TIcSU-",
        "outputId": "c78a92b5-342f-4767-b768-6a3460d00042"
      },
      "execution_count": 29,
      "outputs": [
        {
          "output_type": "stream",
          "name": "stdout",
          "text": [
            "1/1 [==============================] - 0s 16ms/step\n",
            "[[ 0.02254668 -0.03467371 -0.04071005  0.04833687 -0.02766365 -0.03874596\n",
            "   0.00580305  0.02757757 -0.022999   -0.03814012]\n",
            " [ 0.02254668 -0.03467371 -0.04071005  0.04833687 -0.02766365 -0.03874596\n",
            "   0.00580305  0.02757757 -0.022999   -0.03814012]\n",
            " [ 0.02254668 -0.03467371 -0.04071005  0.04833687 -0.02766365 -0.03874596\n",
            "   0.00580305  0.02757757 -0.022999   -0.03814012]\n",
            " [ 0.02254668 -0.03467371 -0.04071005  0.04833687 -0.02766365 -0.03874596\n",
            "   0.00580305  0.02757757 -0.022999   -0.03814012]\n",
            " [-0.02609651  0.02563605  0.0473325   0.0304338   0.01944745  0.0199814\n",
            "   0.02515909  0.03050848  0.04697831 -0.01570594]\n",
            " [ 0.03394833 -0.03569539 -0.02608092  0.03447677  0.0188751  -0.03304424\n",
            "  -0.04090254 -0.01275325  0.02098453  0.04609554]\n",
            " [ 0.02595602  0.02258687 -0.03916916 -0.03397846  0.04922863 -0.01828157\n",
            "   0.04808501 -0.02719213  0.01164008 -0.04033552]\n",
            " [ 0.04146706  0.0255363   0.03406892  0.04123521 -0.02869071 -0.0428993\n",
            "  -0.04422459 -0.02440004 -0.02740812 -0.02958294]]\n"
          ]
        }
      ]
    },
    {
      "cell_type": "code",
      "source": [
        "### Assignment\n",
        "\n",
        "sent1=[\"The world is a better place\",\n",
        "      \"Marvel series is my favourite movie\",\n",
        "      \"I like DC movies\",\n",
        "      \"the cat is eating the food\",\n",
        "      \"Tom and Jerry is my favourite movie\",\n",
        "      \"Python is my favourite programming language\"\n",
        "      ]"
      ],
      "metadata": {
        "id": "RZK9ee8AcU4g"
      },
      "execution_count": 31,
      "outputs": []
    },
    {
      "cell_type": "code",
      "source": [
        "### Vocabulary size\n",
        "voc_size1=200"
      ],
      "metadata": {
        "id": "GEzoNrJvcXxP"
      },
      "execution_count": 34,
      "outputs": []
    },
    {
      "cell_type": "code",
      "source": [
        "onehot_repr1=[one_hot(words1,voc_size1)for words1 in sent1] \n",
        "print(onehot_repr1)"
      ],
      "metadata": {
        "colab": {
          "base_uri": "https://localhost:8080/"
        },
        "id": "QTPQlN50crCI",
        "outputId": "ac80375e-e2ac-45d7-f57f-a97be158ba92"
      },
      "execution_count": 35,
      "outputs": [
        {
          "output_type": "stream",
          "name": "stdout",
          "text": [
            "[[151, 120, 126, 15, 171, 127], [197, 47, 126, 43, 159, 28], [49, 160, 164, 94], [151, 198, 126, 40, 151, 150], [10, 74, 75, 126, 43, 159, 28], [191, 126, 43, 159, 96, 193]]\n"
          ]
        }
      ]
    },
    {
      "cell_type": "code",
      "source": [
        "## pre padding\n",
        "sent_length1=12\n",
        "embedded_docs1=pad_sequences(onehot_repr1,padding='pre',maxlen=sent_length1)\n",
        "print(embedded_docs1)"
      ],
      "metadata": {
        "colab": {
          "base_uri": "https://localhost:8080/"
        },
        "id": "YRQPgFjpc0d5",
        "outputId": "b3c52847-c075-4384-b1fc-e524bc5efc93"
      },
      "execution_count": 36,
      "outputs": [
        {
          "output_type": "stream",
          "name": "stdout",
          "text": [
            "[[  0   0   0   0   0   0 151 120 126  15 171 127]\n",
            " [  0   0   0   0   0   0 197  47 126  43 159  28]\n",
            " [  0   0   0   0   0   0   0   0  49 160 164  94]\n",
            " [  0   0   0   0   0   0 151 198 126  40 151 150]\n",
            " [  0   0   0   0   0  10  74  75 126  43 159  28]\n",
            " [  0   0   0   0   0   0 191 126  43 159  96 193]]\n"
          ]
        }
      ]
    },
    {
      "cell_type": "code",
      "source": [
        "## 10 feature dimesnions\n",
        "dim=12"
      ],
      "metadata": {
        "id": "9Y7Fs_bfdJeY"
      },
      "execution_count": 37,
      "outputs": []
    },
    {
      "cell_type": "code",
      "source": [
        "model1=Sequential()\n",
        "model1.add(Embedding(voc_size1,12,input_length=sent_length1))\n",
        "model1.compile('adam','mse')"
      ],
      "metadata": {
        "id": "shMNGLgQdLrf"
      },
      "execution_count": 38,
      "outputs": []
    },
    {
      "cell_type": "code",
      "source": [
        "model1.summary()"
      ],
      "metadata": {
        "colab": {
          "base_uri": "https://localhost:8080/"
        },
        "id": "4Ny6chEidS2K",
        "outputId": "5b7d6fdf-6f15-4bee-e916-64e74a0e383a"
      },
      "execution_count": 40,
      "outputs": [
        {
          "output_type": "stream",
          "name": "stdout",
          "text": [
            "Model: \"sequential_3\"\n",
            "_________________________________________________________________\n",
            " Layer (type)                Output Shape              Param #   \n",
            "=================================================================\n",
            " embedding_3 (Embedding)     (None, 12, 12)            2400      \n",
            "                                                                 \n",
            "=================================================================\n",
            "Total params: 2,400\n",
            "Trainable params: 2,400\n",
            "Non-trainable params: 0\n",
            "_________________________________________________________________\n"
          ]
        }
      ]
    },
    {
      "cell_type": "code",
      "source": [
        "embedded_docs1[0]"
      ],
      "metadata": {
        "colab": {
          "base_uri": "https://localhost:8080/"
        },
        "id": "h9iTfNtUdXJp",
        "outputId": "95e25fa0-4072-4563-d30c-62ffc1911747"
      },
      "execution_count": 41,
      "outputs": [
        {
          "output_type": "execute_result",
          "data": {
            "text/plain": [
              "array([  0,   0,   0,   0,   0,   0, 151, 120, 126,  15, 171, 127],\n",
              "      dtype=int32)"
            ]
          },
          "metadata": {},
          "execution_count": 41
        }
      ]
    },
    {
      "cell_type": "code",
      "source": [
        "model1.predict(embedded_docs1[0])"
      ],
      "metadata": {
        "colab": {
          "base_uri": "https://localhost:8080/"
        },
        "id": "4kGldxJQdgiv",
        "outputId": "2e6fcfd5-42de-44d7-a8e0-e6afbc78c3b6"
      },
      "execution_count": 44,
      "outputs": [
        {
          "output_type": "stream",
          "name": "stdout",
          "text": [
            "WARNING:tensorflow:Model was constructed with shape (None, 12) for input KerasTensor(type_spec=TensorSpec(shape=(None, 12), dtype=tf.float32, name='embedding_3_input'), name='embedding_3_input', description=\"created by layer 'embedding_3_input'\"), but it was called on an input with incompatible shape (None,).\n",
            "1/1 [==============================] - 0s 32ms/step\n"
          ]
        },
        {
          "output_type": "execute_result",
          "data": {
            "text/plain": [
              "array([[ 0.00969126, -0.01868799, -0.04667976,  0.04006154, -0.0122355 ,\n",
              "        -0.00230545,  0.04061153,  0.04274333,  0.01704443,  0.0143596 ,\n",
              "         0.02134098,  0.01044123],\n",
              "       [ 0.00969126, -0.01868799, -0.04667976,  0.04006154, -0.0122355 ,\n",
              "        -0.00230545,  0.04061153,  0.04274333,  0.01704443,  0.0143596 ,\n",
              "         0.02134098,  0.01044123],\n",
              "       [ 0.00969126, -0.01868799, -0.04667976,  0.04006154, -0.0122355 ,\n",
              "        -0.00230545,  0.04061153,  0.04274333,  0.01704443,  0.0143596 ,\n",
              "         0.02134098,  0.01044123],\n",
              "       [ 0.00969126, -0.01868799, -0.04667976,  0.04006154, -0.0122355 ,\n",
              "        -0.00230545,  0.04061153,  0.04274333,  0.01704443,  0.0143596 ,\n",
              "         0.02134098,  0.01044123],\n",
              "       [ 0.00969126, -0.01868799, -0.04667976,  0.04006154, -0.0122355 ,\n",
              "        -0.00230545,  0.04061153,  0.04274333,  0.01704443,  0.0143596 ,\n",
              "         0.02134098,  0.01044123],\n",
              "       [ 0.00969126, -0.01868799, -0.04667976,  0.04006154, -0.0122355 ,\n",
              "        -0.00230545,  0.04061153,  0.04274333,  0.01704443,  0.0143596 ,\n",
              "         0.02134098,  0.01044123],\n",
              "       [ 0.01913214,  0.04330317,  0.02199128,  0.0485652 , -0.01095015,\n",
              "        -0.01307382,  0.04292328,  0.00094609,  0.03221508,  0.02529366,\n",
              "        -0.03880272,  0.02113961],\n",
              "       [-0.03665239,  0.01330514,  0.02791097,  0.01357807, -0.03340232,\n",
              "         0.00750368, -0.01073843, -0.02923017,  0.00429363,  0.04794962,\n",
              "        -0.02314174,  0.0254971 ],\n",
              "       [-0.04551987, -0.04188098, -0.02158763,  0.03479222, -0.00884622,\n",
              "        -0.04821893, -0.01422541, -0.04765823, -0.01650937,  0.03025169,\n",
              "        -0.04485499,  0.02118994],\n",
              "       [ 0.04749044,  0.04550639, -0.04457116, -0.00887823,  0.00503673,\n",
              "         0.01383317, -0.03928638,  0.02876058, -0.03964571, -0.04253901,\n",
              "         0.04624266, -0.04371759],\n",
              "       [-0.04456091, -0.02380235,  0.04080342,  0.0044677 , -0.01395962,\n",
              "         0.04698713, -0.0053202 , -0.02701514,  0.03352776, -0.02444105,\n",
              "        -0.04135463, -0.01387675],\n",
              "       [-0.00078069, -0.00042555,  0.02586693,  0.01898981, -0.04213736,\n",
              "        -0.02902899,  0.02869469,  0.04582992,  0.02767993, -0.01961651,\n",
              "         0.00298895,  0.00749841]], dtype=float32)"
            ]
          },
          "metadata": {},
          "execution_count": 44
        }
      ]
    },
    {
      "cell_type": "code",
      "source": [
        ""
      ],
      "metadata": {
        "id": "qwU_nhhzdjh3"
      },
      "execution_count": null,
      "outputs": []
    }
  ]
}