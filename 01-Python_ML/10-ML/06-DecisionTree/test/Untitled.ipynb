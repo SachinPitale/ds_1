{
 "cells": [
  {
   "cell_type": "code",
   "execution_count": 152,
   "id": "441b8454",
   "metadata": {},
   "outputs": [],
   "source": [
    "import pandas as pd\n",
    "import numpy as np\n",
    "from sklearn.tree import DecisionTreeClassifier\n",
    "from sklearn import tree\n",
    "from sklearn.model_selection import train_test_split, GridSearchCV\n",
    "from sklearn.metrics import accuracy_score, roc_auc_score, roc_curve, confusion_matrix\n",
    "from pandas_profiling import ProfileReport\n"
   ]
  },
  {
   "cell_type": "code",
   "execution_count": 2,
   "id": "f7b0a34e",
   "metadata": {},
   "outputs": [],
   "source": [
    "df = pd.read_csv(\"https://raw.githubusercontent.com/aniruddhachoudhury/Red-Wine-Quality/master/winequality-red.csv\")"
   ]
  },
  {
   "cell_type": "code",
   "execution_count": 3,
   "id": "f8ad1b39",
   "metadata": {},
   "outputs": [
    {
     "data": {
      "text/html": [
       "<div>\n",
       "<style scoped>\n",
       "    .dataframe tbody tr th:only-of-type {\n",
       "        vertical-align: middle;\n",
       "    }\n",
       "\n",
       "    .dataframe tbody tr th {\n",
       "        vertical-align: top;\n",
       "    }\n",
       "\n",
       "    .dataframe thead th {\n",
       "        text-align: right;\n",
       "    }\n",
       "</style>\n",
       "<table border=\"1\" class=\"dataframe\">\n",
       "  <thead>\n",
       "    <tr style=\"text-align: right;\">\n",
       "      <th></th>\n",
       "      <th>fixed acidity</th>\n",
       "      <th>volatile acidity</th>\n",
       "      <th>citric acid</th>\n",
       "      <th>residual sugar</th>\n",
       "      <th>chlorides</th>\n",
       "      <th>free sulfur dioxide</th>\n",
       "      <th>total sulfur dioxide</th>\n",
       "      <th>density</th>\n",
       "      <th>pH</th>\n",
       "      <th>sulphates</th>\n",
       "      <th>alcohol</th>\n",
       "      <th>quality</th>\n",
       "    </tr>\n",
       "  </thead>\n",
       "  <tbody>\n",
       "    <tr>\n",
       "      <th>0</th>\n",
       "      <td>7.4</td>\n",
       "      <td>0.700</td>\n",
       "      <td>0.00</td>\n",
       "      <td>1.9</td>\n",
       "      <td>0.076</td>\n",
       "      <td>11.0</td>\n",
       "      <td>34.0</td>\n",
       "      <td>0.99780</td>\n",
       "      <td>3.51</td>\n",
       "      <td>0.56</td>\n",
       "      <td>9.4</td>\n",
       "      <td>5</td>\n",
       "    </tr>\n",
       "    <tr>\n",
       "      <th>1</th>\n",
       "      <td>7.8</td>\n",
       "      <td>0.880</td>\n",
       "      <td>0.00</td>\n",
       "      <td>2.6</td>\n",
       "      <td>0.098</td>\n",
       "      <td>25.0</td>\n",
       "      <td>67.0</td>\n",
       "      <td>0.99680</td>\n",
       "      <td>3.20</td>\n",
       "      <td>0.68</td>\n",
       "      <td>9.8</td>\n",
       "      <td>5</td>\n",
       "    </tr>\n",
       "    <tr>\n",
       "      <th>2</th>\n",
       "      <td>7.8</td>\n",
       "      <td>0.760</td>\n",
       "      <td>0.04</td>\n",
       "      <td>2.3</td>\n",
       "      <td>0.092</td>\n",
       "      <td>15.0</td>\n",
       "      <td>54.0</td>\n",
       "      <td>0.99700</td>\n",
       "      <td>3.26</td>\n",
       "      <td>0.65</td>\n",
       "      <td>9.8</td>\n",
       "      <td>5</td>\n",
       "    </tr>\n",
       "    <tr>\n",
       "      <th>3</th>\n",
       "      <td>11.2</td>\n",
       "      <td>0.280</td>\n",
       "      <td>0.56</td>\n",
       "      <td>1.9</td>\n",
       "      <td>0.075</td>\n",
       "      <td>17.0</td>\n",
       "      <td>60.0</td>\n",
       "      <td>0.99800</td>\n",
       "      <td>3.16</td>\n",
       "      <td>0.58</td>\n",
       "      <td>9.8</td>\n",
       "      <td>6</td>\n",
       "    </tr>\n",
       "    <tr>\n",
       "      <th>4</th>\n",
       "      <td>7.4</td>\n",
       "      <td>0.700</td>\n",
       "      <td>0.00</td>\n",
       "      <td>1.9</td>\n",
       "      <td>0.076</td>\n",
       "      <td>11.0</td>\n",
       "      <td>34.0</td>\n",
       "      <td>0.99780</td>\n",
       "      <td>3.51</td>\n",
       "      <td>0.56</td>\n",
       "      <td>9.4</td>\n",
       "      <td>5</td>\n",
       "    </tr>\n",
       "    <tr>\n",
       "      <th>...</th>\n",
       "      <td>...</td>\n",
       "      <td>...</td>\n",
       "      <td>...</td>\n",
       "      <td>...</td>\n",
       "      <td>...</td>\n",
       "      <td>...</td>\n",
       "      <td>...</td>\n",
       "      <td>...</td>\n",
       "      <td>...</td>\n",
       "      <td>...</td>\n",
       "      <td>...</td>\n",
       "      <td>...</td>\n",
       "    </tr>\n",
       "    <tr>\n",
       "      <th>1594</th>\n",
       "      <td>6.2</td>\n",
       "      <td>0.600</td>\n",
       "      <td>0.08</td>\n",
       "      <td>2.0</td>\n",
       "      <td>0.090</td>\n",
       "      <td>32.0</td>\n",
       "      <td>44.0</td>\n",
       "      <td>0.99490</td>\n",
       "      <td>3.45</td>\n",
       "      <td>0.58</td>\n",
       "      <td>10.5</td>\n",
       "      <td>5</td>\n",
       "    </tr>\n",
       "    <tr>\n",
       "      <th>1595</th>\n",
       "      <td>5.9</td>\n",
       "      <td>0.550</td>\n",
       "      <td>0.10</td>\n",
       "      <td>2.2</td>\n",
       "      <td>0.062</td>\n",
       "      <td>39.0</td>\n",
       "      <td>51.0</td>\n",
       "      <td>0.99512</td>\n",
       "      <td>3.52</td>\n",
       "      <td>0.76</td>\n",
       "      <td>11.2</td>\n",
       "      <td>6</td>\n",
       "    </tr>\n",
       "    <tr>\n",
       "      <th>1596</th>\n",
       "      <td>6.3</td>\n",
       "      <td>0.510</td>\n",
       "      <td>0.13</td>\n",
       "      <td>2.3</td>\n",
       "      <td>0.076</td>\n",
       "      <td>29.0</td>\n",
       "      <td>40.0</td>\n",
       "      <td>0.99574</td>\n",
       "      <td>3.42</td>\n",
       "      <td>0.75</td>\n",
       "      <td>11.0</td>\n",
       "      <td>6</td>\n",
       "    </tr>\n",
       "    <tr>\n",
       "      <th>1597</th>\n",
       "      <td>5.9</td>\n",
       "      <td>0.645</td>\n",
       "      <td>0.12</td>\n",
       "      <td>2.0</td>\n",
       "      <td>0.075</td>\n",
       "      <td>32.0</td>\n",
       "      <td>44.0</td>\n",
       "      <td>0.99547</td>\n",
       "      <td>3.57</td>\n",
       "      <td>0.71</td>\n",
       "      <td>10.2</td>\n",
       "      <td>5</td>\n",
       "    </tr>\n",
       "    <tr>\n",
       "      <th>1598</th>\n",
       "      <td>6.0</td>\n",
       "      <td>0.310</td>\n",
       "      <td>0.47</td>\n",
       "      <td>3.6</td>\n",
       "      <td>0.067</td>\n",
       "      <td>18.0</td>\n",
       "      <td>42.0</td>\n",
       "      <td>0.99549</td>\n",
       "      <td>3.39</td>\n",
       "      <td>0.66</td>\n",
       "      <td>11.0</td>\n",
       "      <td>6</td>\n",
       "    </tr>\n",
       "  </tbody>\n",
       "</table>\n",
       "<p>1599 rows × 12 columns</p>\n",
       "</div>"
      ],
      "text/plain": [
       "      fixed acidity  volatile acidity  citric acid  residual sugar  chlorides  \\\n",
       "0               7.4             0.700         0.00             1.9      0.076   \n",
       "1               7.8             0.880         0.00             2.6      0.098   \n",
       "2               7.8             0.760         0.04             2.3      0.092   \n",
       "3              11.2             0.280         0.56             1.9      0.075   \n",
       "4               7.4             0.700         0.00             1.9      0.076   \n",
       "...             ...               ...          ...             ...        ...   \n",
       "1594            6.2             0.600         0.08             2.0      0.090   \n",
       "1595            5.9             0.550         0.10             2.2      0.062   \n",
       "1596            6.3             0.510         0.13             2.3      0.076   \n",
       "1597            5.9             0.645         0.12             2.0      0.075   \n",
       "1598            6.0             0.310         0.47             3.6      0.067   \n",
       "\n",
       "      free sulfur dioxide  total sulfur dioxide  density    pH  sulphates  \\\n",
       "0                    11.0                  34.0  0.99780  3.51       0.56   \n",
       "1                    25.0                  67.0  0.99680  3.20       0.68   \n",
       "2                    15.0                  54.0  0.99700  3.26       0.65   \n",
       "3                    17.0                  60.0  0.99800  3.16       0.58   \n",
       "4                    11.0                  34.0  0.99780  3.51       0.56   \n",
       "...                   ...                   ...      ...   ...        ...   \n",
       "1594                 32.0                  44.0  0.99490  3.45       0.58   \n",
       "1595                 39.0                  51.0  0.99512  3.52       0.76   \n",
       "1596                 29.0                  40.0  0.99574  3.42       0.75   \n",
       "1597                 32.0                  44.0  0.99547  3.57       0.71   \n",
       "1598                 18.0                  42.0  0.99549  3.39       0.66   \n",
       "\n",
       "      alcohol  quality  \n",
       "0         9.4        5  \n",
       "1         9.8        5  \n",
       "2         9.8        5  \n",
       "3         9.8        6  \n",
       "4         9.4        5  \n",
       "...       ...      ...  \n",
       "1594     10.5        5  \n",
       "1595     11.2        6  \n",
       "1596     11.0        6  \n",
       "1597     10.2        5  \n",
       "1598     11.0        6  \n",
       "\n",
       "[1599 rows x 12 columns]"
      ]
     },
     "execution_count": 3,
     "metadata": {},
     "output_type": "execute_result"
    }
   ],
   "source": [
    "df"
   ]
  },
  {
   "cell_type": "code",
   "execution_count": 4,
   "id": "b5ba9ad0",
   "metadata": {},
   "outputs": [],
   "source": [
    "y = df.quality"
   ]
  },
  {
   "cell_type": "code",
   "execution_count": 6,
   "id": "ab94269f",
   "metadata": {},
   "outputs": [],
   "source": [
    "x = df.drop(columns='quality')"
   ]
  },
  {
   "cell_type": "code",
   "execution_count": 100,
   "id": "99d65024",
   "metadata": {},
   "outputs": [],
   "source": [
    "x_train, x_test, y_train, y_test=train_test_split(x,y, random_state=100, test_size=0.40)"
   ]
  },
  {
   "cell_type": "code",
   "execution_count": 101,
   "id": "bbff0627",
   "metadata": {},
   "outputs": [],
   "source": [
    "dt_model = DecisionTreeClassifier()"
   ]
  },
  {
   "cell_type": "code",
   "execution_count": 102,
   "id": "5c8a87e3",
   "metadata": {},
   "outputs": [
    {
     "data": {
      "text/plain": [
       "DecisionTreeClassifier()"
      ]
     },
     "execution_count": 102,
     "metadata": {},
     "output_type": "execute_result"
    }
   ],
   "source": [
    "dt_model.fit(x_train,y_train)"
   ]
  },
  {
   "cell_type": "code",
   "execution_count": 103,
   "id": "a40a4564",
   "metadata": {},
   "outputs": [
    {
     "data": {
      "text/plain": [
       "array([6, 7, 5, 6, 6, 6, 5, 6, 6, 7, 8, 5, 5, 5, 6, 5, 5, 5, 6, 5, 7, 5,\n",
       "       6, 7, 6, 6, 5, 5, 5, 5, 5, 5, 5, 7, 5, 6, 6, 5, 7, 5, 5, 7, 6, 6,\n",
       "       5, 5, 6, 7, 3, 6, 5, 6, 6, 5, 5, 6, 6, 6, 5, 6, 7, 6, 7, 7, 5, 6,\n",
       "       5, 5, 5, 5, 6, 7, 6, 6, 7, 6, 5, 6, 6, 6, 6, 4, 7, 6, 6, 4, 5, 6,\n",
       "       5, 6, 6, 6, 6, 5, 8, 5, 5, 5, 4, 7, 6, 4, 6, 5, 5, 7, 6, 8, 5, 5,\n",
       "       5, 6, 7, 6, 6, 7, 5, 5, 6, 5, 7, 6, 8, 5, 6, 6, 7, 5, 5, 5, 6, 6,\n",
       "       5, 6, 8, 6, 7, 6, 6, 7, 5, 5, 7, 7, 6, 5, 6, 5, 7, 5, 6, 5, 7, 6,\n",
       "       7, 5, 5, 6, 6, 8, 6, 6, 6, 5, 6, 4, 6, 5, 4, 6, 5, 6, 6, 6, 6, 7,\n",
       "       6, 7, 5, 7, 6, 5, 5, 6, 8, 5, 6, 6, 7, 5, 5, 7, 5, 6, 5, 6, 5, 6,\n",
       "       6, 5, 6, 5, 6, 6, 5, 6, 5, 6, 7, 7, 5, 7, 5, 5, 6, 5, 5, 7, 5, 6,\n",
       "       5, 6, 5, 5, 7, 6, 5, 7, 6, 5, 5, 5, 6, 7, 7, 6, 6, 5, 5, 5, 5, 5,\n",
       "       6, 6, 6, 5, 5, 6, 6, 8, 5, 6, 6, 6, 5, 5, 5, 6, 5, 5, 5, 5, 7, 6,\n",
       "       6, 5, 5, 6, 7, 5, 5, 7, 6, 6, 6, 5, 6, 4, 5, 6, 5, 5, 7, 7, 5, 5,\n",
       "       8, 6, 5, 5, 6, 5, 6, 6, 6, 6, 6, 5, 4, 7, 5, 5, 6, 6, 5, 4, 5, 5,\n",
       "       6, 6, 6, 5, 5, 6, 7, 6, 6, 6, 6, 5, 6, 5, 5, 6, 6, 5, 5, 6, 4, 5,\n",
       "       6, 6, 6, 6, 4, 5, 5, 6, 5, 6, 5, 6, 6, 6, 6, 6, 5, 4, 6, 5, 5, 6,\n",
       "       7, 6, 5, 6, 5, 6, 5, 7, 6, 6, 7, 5, 5, 6, 5, 6, 7, 5, 5, 5, 5, 6,\n",
       "       6, 5, 6, 6, 5, 7, 6, 6, 6, 6, 5, 6, 6, 6, 7, 7, 7, 6, 6, 5, 6, 5,\n",
       "       5, 5, 5, 6, 7, 5, 5, 5, 7, 6, 7, 5, 5, 5, 7, 6, 5, 7, 6, 6, 7, 5,\n",
       "       6, 4, 5, 6, 5, 6, 5, 5, 7, 5, 5, 5, 5, 7, 7, 5, 5, 6, 5, 5, 6, 5,\n",
       "       6, 6, 5, 6, 5, 5, 5, 5, 7, 7, 5, 5, 6, 6, 5, 6, 5, 6, 7, 5, 5, 5,\n",
       "       5, 7, 5, 5, 5, 5, 5, 6, 6, 5, 6, 6, 5, 6, 5, 7, 6, 5, 7, 5, 5, 6,\n",
       "       6, 6, 4, 5, 5, 6, 6, 5, 7, 5, 5, 6, 5, 6, 5, 5, 5, 5, 6, 6, 6, 6,\n",
       "       6, 6, 5, 6, 5, 5, 7, 6, 5, 7, 5, 5, 6, 7, 6, 6, 4, 5, 7, 5, 6, 7,\n",
       "       5, 5, 7, 5, 5, 6, 6, 7, 5, 5, 6, 5, 5, 7, 6, 5, 5, 6, 7, 6, 5, 5,\n",
       "       6, 7, 7, 6, 5, 6, 5, 5, 7, 6, 5, 5, 6, 5, 7, 6, 4, 6, 6, 6, 5, 5,\n",
       "       5, 6, 7, 5, 7, 5, 5, 5, 6, 6, 6, 6, 7, 6, 5, 5, 6, 5, 6, 7, 5, 6,\n",
       "       5, 6, 5, 6, 6, 5, 7, 6, 6, 5, 5, 5, 5, 6, 6, 6, 5, 6, 7, 3, 7, 6,\n",
       "       6, 6, 5, 6, 6, 7, 6, 5, 6, 5, 5, 6, 6, 6, 6, 6, 6, 6, 5, 4, 5, 6,\n",
       "       6, 6], dtype=int64)"
      ]
     },
     "execution_count": 103,
     "metadata": {},
     "output_type": "execute_result"
    }
   ],
   "source": [
    "dt_model.predict(x_test)"
   ]
  },
  {
   "cell_type": "code",
   "execution_count": 104,
   "id": "289cab92",
   "metadata": {},
   "outputs": [
    {
     "data": {
      "text/plain": [
       "1.0"
      ]
     },
     "execution_count": 104,
     "metadata": {},
     "output_type": "execute_result"
    }
   ],
   "source": [
    "dt_model.score(x_train,y_train)"
   ]
  },
  {
   "cell_type": "code",
   "execution_count": 105,
   "id": "9387ee7b",
   "metadata": {},
   "outputs": [
    {
     "data": {
      "text/plain": [
       "0.5671875"
      ]
     },
     "execution_count": 105,
     "metadata": {},
     "output_type": "execute_result"
    }
   ],
   "source": [
    "dt_model.score(x_test,y_test)"
   ]
  },
  {
   "cell_type": "code",
   "execution_count": 106,
   "id": "694d6e2a",
   "metadata": {},
   "outputs": [],
   "source": [
    "import sklearn\n",
    "import matplotlib.pyplot as plt\n",
    "from sklearn import tree\n",
    "%matplotlib inline"
   ]
  },
  {
   "cell_type": "code",
   "execution_count": 107,
   "id": "c5a9ed52",
   "metadata": {},
   "outputs": [],
   "source": [
    "df1 = df.head(500)"
   ]
  },
  {
   "cell_type": "code",
   "execution_count": 108,
   "id": "baaf5935",
   "metadata": {},
   "outputs": [
    {
     "data": {
      "text/html": [
       "<div>\n",
       "<style scoped>\n",
       "    .dataframe tbody tr th:only-of-type {\n",
       "        vertical-align: middle;\n",
       "    }\n",
       "\n",
       "    .dataframe tbody tr th {\n",
       "        vertical-align: top;\n",
       "    }\n",
       "\n",
       "    .dataframe thead th {\n",
       "        text-align: right;\n",
       "    }\n",
       "</style>\n",
       "<table border=\"1\" class=\"dataframe\">\n",
       "  <thead>\n",
       "    <tr style=\"text-align: right;\">\n",
       "      <th></th>\n",
       "      <th>fixed acidity</th>\n",
       "      <th>volatile acidity</th>\n",
       "      <th>citric acid</th>\n",
       "      <th>residual sugar</th>\n",
       "      <th>chlorides</th>\n",
       "      <th>free sulfur dioxide</th>\n",
       "      <th>total sulfur dioxide</th>\n",
       "      <th>density</th>\n",
       "      <th>pH</th>\n",
       "      <th>sulphates</th>\n",
       "      <th>alcohol</th>\n",
       "      <th>quality</th>\n",
       "    </tr>\n",
       "  </thead>\n",
       "  <tbody>\n",
       "    <tr>\n",
       "      <th>0</th>\n",
       "      <td>7.4</td>\n",
       "      <td>0.70</td>\n",
       "      <td>0.00</td>\n",
       "      <td>1.9</td>\n",
       "      <td>0.076</td>\n",
       "      <td>11.0</td>\n",
       "      <td>34.0</td>\n",
       "      <td>0.9978</td>\n",
       "      <td>3.51</td>\n",
       "      <td>0.56</td>\n",
       "      <td>9.4</td>\n",
       "      <td>5</td>\n",
       "    </tr>\n",
       "    <tr>\n",
       "      <th>1</th>\n",
       "      <td>7.8</td>\n",
       "      <td>0.88</td>\n",
       "      <td>0.00</td>\n",
       "      <td>2.6</td>\n",
       "      <td>0.098</td>\n",
       "      <td>25.0</td>\n",
       "      <td>67.0</td>\n",
       "      <td>0.9968</td>\n",
       "      <td>3.20</td>\n",
       "      <td>0.68</td>\n",
       "      <td>9.8</td>\n",
       "      <td>5</td>\n",
       "    </tr>\n",
       "    <tr>\n",
       "      <th>2</th>\n",
       "      <td>7.8</td>\n",
       "      <td>0.76</td>\n",
       "      <td>0.04</td>\n",
       "      <td>2.3</td>\n",
       "      <td>0.092</td>\n",
       "      <td>15.0</td>\n",
       "      <td>54.0</td>\n",
       "      <td>0.9970</td>\n",
       "      <td>3.26</td>\n",
       "      <td>0.65</td>\n",
       "      <td>9.8</td>\n",
       "      <td>5</td>\n",
       "    </tr>\n",
       "    <tr>\n",
       "      <th>3</th>\n",
       "      <td>11.2</td>\n",
       "      <td>0.28</td>\n",
       "      <td>0.56</td>\n",
       "      <td>1.9</td>\n",
       "      <td>0.075</td>\n",
       "      <td>17.0</td>\n",
       "      <td>60.0</td>\n",
       "      <td>0.9980</td>\n",
       "      <td>3.16</td>\n",
       "      <td>0.58</td>\n",
       "      <td>9.8</td>\n",
       "      <td>6</td>\n",
       "    </tr>\n",
       "    <tr>\n",
       "      <th>4</th>\n",
       "      <td>7.4</td>\n",
       "      <td>0.70</td>\n",
       "      <td>0.00</td>\n",
       "      <td>1.9</td>\n",
       "      <td>0.076</td>\n",
       "      <td>11.0</td>\n",
       "      <td>34.0</td>\n",
       "      <td>0.9978</td>\n",
       "      <td>3.51</td>\n",
       "      <td>0.56</td>\n",
       "      <td>9.4</td>\n",
       "      <td>5</td>\n",
       "    </tr>\n",
       "    <tr>\n",
       "      <th>...</th>\n",
       "      <td>...</td>\n",
       "      <td>...</td>\n",
       "      <td>...</td>\n",
       "      <td>...</td>\n",
       "      <td>...</td>\n",
       "      <td>...</td>\n",
       "      <td>...</td>\n",
       "      <td>...</td>\n",
       "      <td>...</td>\n",
       "      <td>...</td>\n",
       "      <td>...</td>\n",
       "      <td>...</td>\n",
       "    </tr>\n",
       "    <tr>\n",
       "      <th>495</th>\n",
       "      <td>10.7</td>\n",
       "      <td>0.35</td>\n",
       "      <td>0.53</td>\n",
       "      <td>2.6</td>\n",
       "      <td>0.070</td>\n",
       "      <td>5.0</td>\n",
       "      <td>16.0</td>\n",
       "      <td>0.9972</td>\n",
       "      <td>3.15</td>\n",
       "      <td>0.65</td>\n",
       "      <td>11.0</td>\n",
       "      <td>8</td>\n",
       "    </tr>\n",
       "    <tr>\n",
       "      <th>496</th>\n",
       "      <td>7.8</td>\n",
       "      <td>0.52</td>\n",
       "      <td>0.25</td>\n",
       "      <td>1.9</td>\n",
       "      <td>0.081</td>\n",
       "      <td>14.0</td>\n",
       "      <td>38.0</td>\n",
       "      <td>0.9984</td>\n",
       "      <td>3.43</td>\n",
       "      <td>0.65</td>\n",
       "      <td>9.0</td>\n",
       "      <td>6</td>\n",
       "    </tr>\n",
       "    <tr>\n",
       "      <th>497</th>\n",
       "      <td>7.2</td>\n",
       "      <td>0.34</td>\n",
       "      <td>0.32</td>\n",
       "      <td>2.5</td>\n",
       "      <td>0.090</td>\n",
       "      <td>43.0</td>\n",
       "      <td>113.0</td>\n",
       "      <td>0.9966</td>\n",
       "      <td>3.32</td>\n",
       "      <td>0.79</td>\n",
       "      <td>11.1</td>\n",
       "      <td>5</td>\n",
       "    </tr>\n",
       "    <tr>\n",
       "      <th>498</th>\n",
       "      <td>10.7</td>\n",
       "      <td>0.35</td>\n",
       "      <td>0.53</td>\n",
       "      <td>2.6</td>\n",
       "      <td>0.070</td>\n",
       "      <td>5.0</td>\n",
       "      <td>16.0</td>\n",
       "      <td>0.9972</td>\n",
       "      <td>3.15</td>\n",
       "      <td>0.65</td>\n",
       "      <td>11.0</td>\n",
       "      <td>8</td>\n",
       "    </tr>\n",
       "    <tr>\n",
       "      <th>499</th>\n",
       "      <td>8.7</td>\n",
       "      <td>0.69</td>\n",
       "      <td>0.31</td>\n",
       "      <td>3.0</td>\n",
       "      <td>0.086</td>\n",
       "      <td>23.0</td>\n",
       "      <td>81.0</td>\n",
       "      <td>1.0002</td>\n",
       "      <td>3.48</td>\n",
       "      <td>0.74</td>\n",
       "      <td>11.6</td>\n",
       "      <td>6</td>\n",
       "    </tr>\n",
       "  </tbody>\n",
       "</table>\n",
       "<p>500 rows × 12 columns</p>\n",
       "</div>"
      ],
      "text/plain": [
       "     fixed acidity  volatile acidity  citric acid  residual sugar  chlorides  \\\n",
       "0              7.4              0.70         0.00             1.9      0.076   \n",
       "1              7.8              0.88         0.00             2.6      0.098   \n",
       "2              7.8              0.76         0.04             2.3      0.092   \n",
       "3             11.2              0.28         0.56             1.9      0.075   \n",
       "4              7.4              0.70         0.00             1.9      0.076   \n",
       "..             ...               ...          ...             ...        ...   \n",
       "495           10.7              0.35         0.53             2.6      0.070   \n",
       "496            7.8              0.52         0.25             1.9      0.081   \n",
       "497            7.2              0.34         0.32             2.5      0.090   \n",
       "498           10.7              0.35         0.53             2.6      0.070   \n",
       "499            8.7              0.69         0.31             3.0      0.086   \n",
       "\n",
       "     free sulfur dioxide  total sulfur dioxide  density    pH  sulphates  \\\n",
       "0                   11.0                  34.0   0.9978  3.51       0.56   \n",
       "1                   25.0                  67.0   0.9968  3.20       0.68   \n",
       "2                   15.0                  54.0   0.9970  3.26       0.65   \n",
       "3                   17.0                  60.0   0.9980  3.16       0.58   \n",
       "4                   11.0                  34.0   0.9978  3.51       0.56   \n",
       "..                   ...                   ...      ...   ...        ...   \n",
       "495                  5.0                  16.0   0.9972  3.15       0.65   \n",
       "496                 14.0                  38.0   0.9984  3.43       0.65   \n",
       "497                 43.0                 113.0   0.9966  3.32       0.79   \n",
       "498                  5.0                  16.0   0.9972  3.15       0.65   \n",
       "499                 23.0                  81.0   1.0002  3.48       0.74   \n",
       "\n",
       "     alcohol  quality  \n",
       "0        9.4        5  \n",
       "1        9.8        5  \n",
       "2        9.8        5  \n",
       "3        9.8        6  \n",
       "4        9.4        5  \n",
       "..       ...      ...  \n",
       "495     11.0        8  \n",
       "496      9.0        6  \n",
       "497     11.1        5  \n",
       "498     11.0        8  \n",
       "499     11.6        6  \n",
       "\n",
       "[500 rows x 12 columns]"
      ]
     },
     "execution_count": 108,
     "metadata": {},
     "output_type": "execute_result"
    }
   ],
   "source": [
    "df1"
   ]
  },
  {
   "cell_type": "code",
   "execution_count": 109,
   "id": "a2146dff",
   "metadata": {},
   "outputs": [],
   "source": [
    "y1 = df1.quality"
   ]
  },
  {
   "cell_type": "code",
   "execution_count": 110,
   "id": "b820bb84",
   "metadata": {},
   "outputs": [],
   "source": [
    "x1 = df1.drop(columns='quality')"
   ]
  },
  {
   "cell_type": "code",
   "execution_count": 111,
   "id": "04b49d5d",
   "metadata": {},
   "outputs": [
    {
     "data": {
      "text/html": [
       "<div>\n",
       "<style scoped>\n",
       "    .dataframe tbody tr th:only-of-type {\n",
       "        vertical-align: middle;\n",
       "    }\n",
       "\n",
       "    .dataframe tbody tr th {\n",
       "        vertical-align: top;\n",
       "    }\n",
       "\n",
       "    .dataframe thead th {\n",
       "        text-align: right;\n",
       "    }\n",
       "</style>\n",
       "<table border=\"1\" class=\"dataframe\">\n",
       "  <thead>\n",
       "    <tr style=\"text-align: right;\">\n",
       "      <th></th>\n",
       "      <th>fixed acidity</th>\n",
       "      <th>volatile acidity</th>\n",
       "      <th>citric acid</th>\n",
       "      <th>residual sugar</th>\n",
       "      <th>chlorides</th>\n",
       "      <th>free sulfur dioxide</th>\n",
       "      <th>total sulfur dioxide</th>\n",
       "      <th>density</th>\n",
       "      <th>pH</th>\n",
       "      <th>sulphates</th>\n",
       "      <th>alcohol</th>\n",
       "    </tr>\n",
       "  </thead>\n",
       "  <tbody>\n",
       "    <tr>\n",
       "      <th>0</th>\n",
       "      <td>7.4</td>\n",
       "      <td>0.70</td>\n",
       "      <td>0.00</td>\n",
       "      <td>1.9</td>\n",
       "      <td>0.076</td>\n",
       "      <td>11.0</td>\n",
       "      <td>34.0</td>\n",
       "      <td>0.9978</td>\n",
       "      <td>3.51</td>\n",
       "      <td>0.56</td>\n",
       "      <td>9.4</td>\n",
       "    </tr>\n",
       "    <tr>\n",
       "      <th>1</th>\n",
       "      <td>7.8</td>\n",
       "      <td>0.88</td>\n",
       "      <td>0.00</td>\n",
       "      <td>2.6</td>\n",
       "      <td>0.098</td>\n",
       "      <td>25.0</td>\n",
       "      <td>67.0</td>\n",
       "      <td>0.9968</td>\n",
       "      <td>3.20</td>\n",
       "      <td>0.68</td>\n",
       "      <td>9.8</td>\n",
       "    </tr>\n",
       "    <tr>\n",
       "      <th>2</th>\n",
       "      <td>7.8</td>\n",
       "      <td>0.76</td>\n",
       "      <td>0.04</td>\n",
       "      <td>2.3</td>\n",
       "      <td>0.092</td>\n",
       "      <td>15.0</td>\n",
       "      <td>54.0</td>\n",
       "      <td>0.9970</td>\n",
       "      <td>3.26</td>\n",
       "      <td>0.65</td>\n",
       "      <td>9.8</td>\n",
       "    </tr>\n",
       "    <tr>\n",
       "      <th>3</th>\n",
       "      <td>11.2</td>\n",
       "      <td>0.28</td>\n",
       "      <td>0.56</td>\n",
       "      <td>1.9</td>\n",
       "      <td>0.075</td>\n",
       "      <td>17.0</td>\n",
       "      <td>60.0</td>\n",
       "      <td>0.9980</td>\n",
       "      <td>3.16</td>\n",
       "      <td>0.58</td>\n",
       "      <td>9.8</td>\n",
       "    </tr>\n",
       "    <tr>\n",
       "      <th>4</th>\n",
       "      <td>7.4</td>\n",
       "      <td>0.70</td>\n",
       "      <td>0.00</td>\n",
       "      <td>1.9</td>\n",
       "      <td>0.076</td>\n",
       "      <td>11.0</td>\n",
       "      <td>34.0</td>\n",
       "      <td>0.9978</td>\n",
       "      <td>3.51</td>\n",
       "      <td>0.56</td>\n",
       "      <td>9.4</td>\n",
       "    </tr>\n",
       "    <tr>\n",
       "      <th>...</th>\n",
       "      <td>...</td>\n",
       "      <td>...</td>\n",
       "      <td>...</td>\n",
       "      <td>...</td>\n",
       "      <td>...</td>\n",
       "      <td>...</td>\n",
       "      <td>...</td>\n",
       "      <td>...</td>\n",
       "      <td>...</td>\n",
       "      <td>...</td>\n",
       "      <td>...</td>\n",
       "    </tr>\n",
       "    <tr>\n",
       "      <th>495</th>\n",
       "      <td>10.7</td>\n",
       "      <td>0.35</td>\n",
       "      <td>0.53</td>\n",
       "      <td>2.6</td>\n",
       "      <td>0.070</td>\n",
       "      <td>5.0</td>\n",
       "      <td>16.0</td>\n",
       "      <td>0.9972</td>\n",
       "      <td>3.15</td>\n",
       "      <td>0.65</td>\n",
       "      <td>11.0</td>\n",
       "    </tr>\n",
       "    <tr>\n",
       "      <th>496</th>\n",
       "      <td>7.8</td>\n",
       "      <td>0.52</td>\n",
       "      <td>0.25</td>\n",
       "      <td>1.9</td>\n",
       "      <td>0.081</td>\n",
       "      <td>14.0</td>\n",
       "      <td>38.0</td>\n",
       "      <td>0.9984</td>\n",
       "      <td>3.43</td>\n",
       "      <td>0.65</td>\n",
       "      <td>9.0</td>\n",
       "    </tr>\n",
       "    <tr>\n",
       "      <th>497</th>\n",
       "      <td>7.2</td>\n",
       "      <td>0.34</td>\n",
       "      <td>0.32</td>\n",
       "      <td>2.5</td>\n",
       "      <td>0.090</td>\n",
       "      <td>43.0</td>\n",
       "      <td>113.0</td>\n",
       "      <td>0.9966</td>\n",
       "      <td>3.32</td>\n",
       "      <td>0.79</td>\n",
       "      <td>11.1</td>\n",
       "    </tr>\n",
       "    <tr>\n",
       "      <th>498</th>\n",
       "      <td>10.7</td>\n",
       "      <td>0.35</td>\n",
       "      <td>0.53</td>\n",
       "      <td>2.6</td>\n",
       "      <td>0.070</td>\n",
       "      <td>5.0</td>\n",
       "      <td>16.0</td>\n",
       "      <td>0.9972</td>\n",
       "      <td>3.15</td>\n",
       "      <td>0.65</td>\n",
       "      <td>11.0</td>\n",
       "    </tr>\n",
       "    <tr>\n",
       "      <th>499</th>\n",
       "      <td>8.7</td>\n",
       "      <td>0.69</td>\n",
       "      <td>0.31</td>\n",
       "      <td>3.0</td>\n",
       "      <td>0.086</td>\n",
       "      <td>23.0</td>\n",
       "      <td>81.0</td>\n",
       "      <td>1.0002</td>\n",
       "      <td>3.48</td>\n",
       "      <td>0.74</td>\n",
       "      <td>11.6</td>\n",
       "    </tr>\n",
       "  </tbody>\n",
       "</table>\n",
       "<p>500 rows × 11 columns</p>\n",
       "</div>"
      ],
      "text/plain": [
       "     fixed acidity  volatile acidity  citric acid  residual sugar  chlorides  \\\n",
       "0              7.4              0.70         0.00             1.9      0.076   \n",
       "1              7.8              0.88         0.00             2.6      0.098   \n",
       "2              7.8              0.76         0.04             2.3      0.092   \n",
       "3             11.2              0.28         0.56             1.9      0.075   \n",
       "4              7.4              0.70         0.00             1.9      0.076   \n",
       "..             ...               ...          ...             ...        ...   \n",
       "495           10.7              0.35         0.53             2.6      0.070   \n",
       "496            7.8              0.52         0.25             1.9      0.081   \n",
       "497            7.2              0.34         0.32             2.5      0.090   \n",
       "498           10.7              0.35         0.53             2.6      0.070   \n",
       "499            8.7              0.69         0.31             3.0      0.086   \n",
       "\n",
       "     free sulfur dioxide  total sulfur dioxide  density    pH  sulphates  \\\n",
       "0                   11.0                  34.0   0.9978  3.51       0.56   \n",
       "1                   25.0                  67.0   0.9968  3.20       0.68   \n",
       "2                   15.0                  54.0   0.9970  3.26       0.65   \n",
       "3                   17.0                  60.0   0.9980  3.16       0.58   \n",
       "4                   11.0                  34.0   0.9978  3.51       0.56   \n",
       "..                   ...                   ...      ...   ...        ...   \n",
       "495                  5.0                  16.0   0.9972  3.15       0.65   \n",
       "496                 14.0                  38.0   0.9984  3.43       0.65   \n",
       "497                 43.0                 113.0   0.9966  3.32       0.79   \n",
       "498                  5.0                  16.0   0.9972  3.15       0.65   \n",
       "499                 23.0                  81.0   1.0002  3.48       0.74   \n",
       "\n",
       "     alcohol  \n",
       "0        9.4  \n",
       "1        9.8  \n",
       "2        9.8  \n",
       "3        9.8  \n",
       "4        9.4  \n",
       "..       ...  \n",
       "495     11.0  \n",
       "496      9.0  \n",
       "497     11.1  \n",
       "498     11.0  \n",
       "499     11.6  \n",
       "\n",
       "[500 rows x 11 columns]"
      ]
     },
     "execution_count": 111,
     "metadata": {},
     "output_type": "execute_result"
    }
   ],
   "source": [
    "x1"
   ]
  },
  {
   "cell_type": "code",
   "execution_count": 112,
   "id": "06e7b2ff",
   "metadata": {},
   "outputs": [],
   "source": [
    "dt_model1 = DecisionTreeClassifier()"
   ]
  },
  {
   "cell_type": "code",
   "execution_count": 113,
   "id": "b132cefc",
   "metadata": {},
   "outputs": [
    {
     "data": {
      "text/plain": [
       "DecisionTreeClassifier()"
      ]
     },
     "execution_count": 113,
     "metadata": {},
     "output_type": "execute_result"
    }
   ],
   "source": [
    "dt_model1.fit(x1,y1)"
   ]
  },
  {
   "cell_type": "code",
   "execution_count": 114,
   "id": "fb75fef7",
   "metadata": {},
   "outputs": [
    {
     "data": {
      "text/plain": [
       "[Text(503.8375654138915, 1055.2235294117647, 'alcohol <= 9.85\\ngini = 0.624\\nsamples = 500\\nvalue = [1, 16, 239, 184, 52, 8]\\nclass = 5'),\n",
       " Text(316.29733587059945, 991.2705882352941, 'total sulfur dioxide <= 62.5\\ngini = 0.504\\nsamples = 259\\nvalue = [1, 12, 167, 72, 6, 1]\\nclass = 5'),\n",
       " Text(197.23786869647955, 927.3176470588236, 'citric acid <= 0.415\\ngini = 0.576\\nsamples = 169\\nvalue = [1, 9, 91, 61, 6, 1]\\nclass = 5'),\n",
       " Text(88.66412940057089, 863.364705882353, 'alcohol <= 9.05\\ngini = 0.525\\nsamples = 131\\nvalue = [0, 8, 81, 39, 3, 0]\\nclass = 5'),\n",
       " Text(33.9790675547098, 799.4117647058824, 'sulphates <= 0.54\\ngini = 0.403\\nsamples = 12\\nvalue = [0, 2, 1, 9, 0, 0]\\nclass = 6'),\n",
       " Text(25.48430066603235, 735.4588235294118, 'sulphates <= 0.515\\ngini = 0.444\\nsamples = 3\\nvalue = [0, 2, 1, 0, 0, 0]\\nclass = 4'),\n",
       " Text(16.9895337773549, 671.5058823529412, 'gini = 0.0\\nsamples = 2\\nvalue = [0, 2, 0, 0, 0, 0]\\nclass = 4'),\n",
       " Text(33.9790675547098, 671.5058823529412, 'gini = 0.0\\nsamples = 1\\nvalue = [0, 0, 1, 0, 0, 0]\\nclass = 5'),\n",
       " Text(42.47383444338725, 735.4588235294118, 'gini = 0.0\\nsamples = 9\\nvalue = [0, 0, 0, 9, 0, 0]\\nclass = 6'),\n",
       " Text(143.34919124643196, 799.4117647058824, 'density <= 0.999\\ngini = 0.481\\nsamples = 119\\nvalue = [0, 6, 80, 30, 3, 0]\\nclass = 5'),\n",
       " Text(91.31874405328259, 735.4588235294118, 'pH <= 3.285\\ngini = 0.443\\nsamples = 108\\nvalue = [0, 5, 77, 23, 3, 0]\\nclass = 5'),\n",
       " Text(50.9686013320647, 671.5058823529412, 'residual sugar <= 2.75\\ngini = 0.216\\nsamples = 34\\nvalue = [0, 2, 30, 1, 1, 0]\\nclass = 5'),\n",
       " Text(42.47383444338725, 607.5529411764707, 'citric acid <= 0.11\\ngini = 0.171\\nsamples = 33\\nvalue = [0, 1, 30, 1, 1, 0]\\nclass = 5'),\n",
       " Text(25.48430066603235, 543.6, 'sulphates <= 0.905\\ngini = 0.449\\nsamples = 7\\nvalue = [0, 1, 5, 1, 0, 0]\\nclass = 5'),\n",
       " Text(16.9895337773549, 479.6470588235295, 'citric acid <= 0.065\\ngini = 0.278\\nsamples = 6\\nvalue = [0, 0, 5, 1, 0, 0]\\nclass = 5'),\n",
       " Text(8.49476688867745, 415.6941176470589, 'gini = 0.0\\nsamples = 5\\nvalue = [0, 0, 5, 0, 0, 0]\\nclass = 5'),\n",
       " Text(25.48430066603235, 415.6941176470589, 'gini = 0.0\\nsamples = 1\\nvalue = [0, 0, 0, 1, 0, 0]\\nclass = 6'),\n",
       " Text(33.9790675547098, 479.6470588235295, 'gini = 0.0\\nsamples = 1\\nvalue = [0, 1, 0, 0, 0, 0]\\nclass = 4'),\n",
       " Text(59.463368220742154, 543.6, 'volatile acidity <= 0.395\\ngini = 0.074\\nsamples = 26\\nvalue = [0, 0, 25, 0, 1, 0]\\nclass = 5'),\n",
       " Text(50.9686013320647, 479.6470588235295, 'sulphates <= 0.715\\ngini = 0.375\\nsamples = 4\\nvalue = [0, 0, 3, 0, 1, 0]\\nclass = 5'),\n",
       " Text(42.47383444338725, 415.6941176470589, 'gini = 0.0\\nsamples = 3\\nvalue = [0, 0, 3, 0, 0, 0]\\nclass = 5'),\n",
       " Text(59.463368220742154, 415.6941176470589, 'gini = 0.0\\nsamples = 1\\nvalue = [0, 0, 0, 0, 1, 0]\\nclass = 7'),\n",
       " Text(67.9581351094196, 479.6470588235295, 'gini = 0.0\\nsamples = 22\\nvalue = [0, 0, 22, 0, 0, 0]\\nclass = 5'),\n",
       " Text(59.463368220742154, 607.5529411764707, 'gini = 0.0\\nsamples = 1\\nvalue = [0, 1, 0, 0, 0, 0]\\nclass = 4'),\n",
       " Text(131.66888677450046, 671.5058823529412, 'volatile acidity <= 0.665\\ngini = 0.506\\nsamples = 74\\nvalue = [0, 3, 47, 22, 2, 0]\\nclass = 5'),\n",
       " Text(110.43196955280685, 607.5529411764707, 'density <= 0.996\\ngini = 0.53\\nsamples = 52\\nvalue = [0, 0, 28, 22, 2, 0]\\nclass = 5'),\n",
       " Text(93.44243577545195, 543.6, 'citric acid <= 0.06\\ngini = 0.291\\nsamples = 17\\nvalue = [0, 0, 14, 3, 0, 0]\\nclass = 5'),\n",
       " Text(84.9476688867745, 479.6470588235295, 'fixed acidity <= 6.7\\ngini = 0.48\\nsamples = 5\\nvalue = [0, 0, 2, 3, 0, 0]\\nclass = 6'),\n",
       " Text(76.45290199809705, 415.6941176470589, 'gini = 0.0\\nsamples = 3\\nvalue = [0, 0, 0, 3, 0, 0]\\nclass = 6'),\n",
       " Text(93.44243577545195, 415.6941176470589, 'gini = 0.0\\nsamples = 2\\nvalue = [0, 0, 2, 0, 0, 0]\\nclass = 5'),\n",
       " Text(101.9372026641294, 479.6470588235295, 'gini = 0.0\\nsamples = 12\\nvalue = [0, 0, 12, 0, 0, 0]\\nclass = 5'),\n",
       " Text(127.42150333016176, 543.6, 'chlorides <= 0.087\\ngini = 0.542\\nsamples = 35\\nvalue = [0, 0, 14, 19, 2, 0]\\nclass = 6'),\n",
       " Text(118.92673644148431, 479.6470588235295, 'sulphates <= 0.635\\ngini = 0.561\\nsamples = 29\\nvalue = [0, 0, 14, 13, 2, 0]\\nclass = 5'),\n",
       " Text(110.43196955280685, 415.6941176470589, 'volatile acidity <= 0.47\\ngini = 0.541\\nsamples = 22\\nvalue = [0, 0, 7, 13, 2, 0]\\nclass = 6'),\n",
       " Text(101.9372026641294, 351.74117647058824, 'gini = 0.0\\nsamples = 7\\nvalue = [0, 0, 0, 7, 0, 0]\\nclass = 6'),\n",
       " Text(118.92673644148431, 351.74117647058824, 'residual sugar <= 2.1\\ngini = 0.604\\nsamples = 15\\nvalue = [0, 0, 7, 6, 2, 0]\\nclass = 5'),\n",
       " Text(110.43196955280685, 287.7882352941177, 'residual sugar <= 1.85\\ngini = 0.595\\nsamples = 11\\nvalue = [0, 0, 3, 6, 2, 0]\\nclass = 6'),\n",
       " Text(93.44243577545195, 223.8352941176471, 'alcohol <= 9.7\\ngini = 0.375\\nsamples = 4\\nvalue = [0, 0, 3, 1, 0, 0]\\nclass = 5'),\n",
       " Text(84.9476688867745, 159.88235294117646, 'gini = 0.0\\nsamples = 3\\nvalue = [0, 0, 3, 0, 0, 0]\\nclass = 5'),\n",
       " Text(101.9372026641294, 159.88235294117646, 'gini = 0.0\\nsamples = 1\\nvalue = [0, 0, 0, 1, 0, 0]\\nclass = 6'),\n",
       " Text(127.42150333016176, 223.8352941176471, 'volatile acidity <= 0.6\\ngini = 0.408\\nsamples = 7\\nvalue = [0, 0, 0, 5, 2, 0]\\nclass = 6'),\n",
       " Text(118.92673644148431, 159.88235294117646, 'free sulfur dioxide <= 8.0\\ngini = 0.444\\nsamples = 3\\nvalue = [0, 0, 0, 1, 2, 0]\\nclass = 7'),\n",
       " Text(110.43196955280685, 95.92941176470595, 'gini = 0.0\\nsamples = 1\\nvalue = [0, 0, 0, 1, 0, 0]\\nclass = 6'),\n",
       " Text(127.42150333016176, 95.92941176470595, 'gini = 0.0\\nsamples = 2\\nvalue = [0, 0, 0, 0, 2, 0]\\nclass = 7'),\n",
       " Text(135.9162702188392, 159.88235294117646, 'gini = 0.0\\nsamples = 4\\nvalue = [0, 0, 0, 4, 0, 0]\\nclass = 6'),\n",
       " Text(127.42150333016176, 287.7882352941177, 'gini = 0.0\\nsamples = 4\\nvalue = [0, 0, 4, 0, 0, 0]\\nclass = 5'),\n",
       " Text(127.42150333016176, 415.6941176470589, 'gini = 0.0\\nsamples = 7\\nvalue = [0, 0, 7, 0, 0, 0]\\nclass = 5'),\n",
       " Text(135.9162702188392, 479.6470588235295, 'gini = 0.0\\nsamples = 6\\nvalue = [0, 0, 0, 6, 0, 0]\\nclass = 6'),\n",
       " Text(152.9058039961941, 607.5529411764707, 'sulphates <= 0.485\\ngini = 0.236\\nsamples = 22\\nvalue = [0, 3, 19, 0, 0, 0]\\nclass = 5'),\n",
       " Text(144.41103710751665, 543.6, 'gini = 0.0\\nsamples = 2\\nvalue = [0, 2, 0, 0, 0, 0]\\nclass = 4'),\n",
       " Text(161.40057088487154, 543.6, 'citric acid <= 0.24\\ngini = 0.095\\nsamples = 20\\nvalue = [0, 1, 19, 0, 0, 0]\\nclass = 5'),\n",
       " Text(152.9058039961941, 479.6470588235295, 'gini = 0.0\\nsamples = 19\\nvalue = [0, 0, 19, 0, 0, 0]\\nclass = 5'),\n",
       " Text(169.895337773549, 479.6470588235295, 'gini = 0.0\\nsamples = 1\\nvalue = [0, 1, 0, 0, 0, 0]\\nclass = 4'),\n",
       " Text(195.37963843958136, 735.4588235294118, 'alcohol <= 9.65\\ngini = 0.512\\nsamples = 11\\nvalue = [0, 1, 3, 7, 0, 0]\\nclass = 6'),\n",
       " Text(178.39010466222646, 671.5058823529412, 'fixed acidity <= 10.3\\ngini = 0.219\\nsamples = 8\\nvalue = [0, 0, 1, 7, 0, 0]\\nclass = 6'),\n",
       " Text(169.895337773549, 607.5529411764707, 'gini = 0.0\\nsamples = 7\\nvalue = [0, 0, 0, 7, 0, 0]\\nclass = 6'),\n",
       " Text(186.8848715509039, 607.5529411764707, 'gini = 0.0\\nsamples = 1\\nvalue = [0, 0, 1, 0, 0, 0]\\nclass = 5'),\n",
       " Text(212.36917221693625, 671.5058823529412, 'citric acid <= 0.01\\ngini = 0.444\\nsamples = 3\\nvalue = [0, 1, 2, 0, 0, 0]\\nclass = 5'),\n",
       " Text(203.8744053282588, 607.5529411764707, 'gini = 0.0\\nsamples = 1\\nvalue = [0, 1, 0, 0, 0, 0]\\nclass = 4'),\n",
       " Text(220.8639391056137, 607.5529411764707, 'gini = 0.0\\nsamples = 2\\nvalue = [0, 0, 2, 0, 0, 0]\\nclass = 5'),\n",
       " Text(305.8116079923882, 863.364705882353, 'citric acid <= 0.565\\ngini = 0.587\\nsamples = 38\\nvalue = [1, 1, 10, 22, 3, 1]\\nclass = 6'),\n",
       " Text(271.8325404376784, 799.4117647058824, 'fixed acidity <= 12.35\\ngini = 0.438\\nsamples = 26\\nvalue = [0, 1, 3, 19, 3, 0]\\nclass = 6'),\n",
       " Text(254.8430066603235, 735.4588235294118, 'density <= 1.0\\ngini = 0.245\\nsamples = 21\\nvalue = [0, 0, 3, 18, 0, 0]\\nclass = 6'),\n",
       " Text(246.34823977164606, 671.5058823529412, 'sulphates <= 0.52\\ngini = 0.18\\nsamples = 20\\nvalue = [0, 0, 2, 18, 0, 0]\\nclass = 6'),\n",
       " Text(237.85347288296862, 607.5529411764707, 'gini = 0.0\\nsamples = 1\\nvalue = [0, 0, 1, 0, 0, 0]\\nclass = 5'),\n",
       " Text(254.8430066603235, 607.5529411764707, 'residual sugar <= 1.65\\ngini = 0.1\\nsamples = 19\\nvalue = [0, 0, 1, 18, 0, 0]\\nclass = 6'),\n",
       " Text(246.34823977164606, 543.6, 'gini = 0.0\\nsamples = 1\\nvalue = [0, 0, 1, 0, 0, 0]\\nclass = 5'),\n",
       " Text(263.33777354900093, 543.6, 'gini = 0.0\\nsamples = 18\\nvalue = [0, 0, 0, 18, 0, 0]\\nclass = 6'),\n",
       " Text(263.33777354900093, 671.5058823529412, 'gini = 0.0\\nsamples = 1\\nvalue = [0, 0, 1, 0, 0, 0]\\nclass = 5'),\n",
       " Text(288.8220742150333, 735.4588235294118, 'sulphates <= 0.825\\ngini = 0.56\\nsamples = 5\\nvalue = [0, 1, 0, 1, 3, 0]\\nclass = 7'),\n",
       " Text(280.3273073263559, 671.5058823529412, 'fixed acidity <= 12.9\\ngini = 0.5\\nsamples = 2\\nvalue = [0, 1, 0, 1, 0, 0]\\nclass = 4'),\n",
       " Text(271.8325404376784, 607.5529411764707, 'gini = 0.0\\nsamples = 1\\nvalue = [0, 1, 0, 0, 0, 0]\\nclass = 4'),\n",
       " Text(288.8220742150333, 607.5529411764707, 'gini = 0.0\\nsamples = 1\\nvalue = [0, 0, 0, 1, 0, 0]\\nclass = 6'),\n",
       " Text(297.3168411037108, 671.5058823529412, 'gini = 0.0\\nsamples = 3\\nvalue = [0, 0, 0, 0, 3, 0]\\nclass = 7'),\n",
       " Text(339.790675547098, 799.4117647058824, 'pH <= 3.165\\ngini = 0.583\\nsamples = 12\\nvalue = [1, 0, 7, 3, 0, 1]\\nclass = 5'),\n",
       " Text(322.8011417697431, 735.4588235294118, 'fixed acidity <= 12.45\\ngini = 0.37\\nsamples = 9\\nvalue = [0, 0, 7, 1, 0, 1]\\nclass = 5'),\n",
       " Text(314.30637488106566, 671.5058823529412, 'gini = 0.0\\nsamples = 7\\nvalue = [0, 0, 7, 0, 0, 0]\\nclass = 5'),\n",
       " Text(331.29590865842056, 671.5058823529412, 'pH <= 3.02\\ngini = 0.5\\nsamples = 2\\nvalue = [0, 0, 0, 1, 0, 1]\\nclass = 6'),\n",
       " Text(322.8011417697431, 607.5529411764707, 'gini = 0.0\\nsamples = 1\\nvalue = [0, 0, 0, 0, 0, 1]\\nclass = 8'),\n",
       " Text(339.790675547098, 607.5529411764707, 'gini = 0.0\\nsamples = 1\\nvalue = [0, 0, 0, 1, 0, 0]\\nclass = 6'),\n",
       " Text(356.7802093244529, 735.4588235294118, 'sulphates <= 0.595\\ngini = 0.444\\nsamples = 3\\nvalue = [1, 0, 0, 2, 0, 0]\\nclass = 6'),\n",
       " Text(348.28544243577545, 671.5058823529412, 'gini = 0.0\\nsamples = 1\\nvalue = [1, 0, 0, 0, 0, 0]\\nclass = 3'),\n",
       " Text(365.27497621313034, 671.5058823529412, 'gini = 0.0\\nsamples = 2\\nvalue = [0, 0, 0, 2, 0, 0]\\nclass = 6'),\n",
       " Text(435.3568030447193, 927.3176470588236, 'sulphates <= 1.99\\ngini = 0.271\\nsamples = 90\\nvalue = [0, 3, 76, 11, 0, 0]\\nclass = 5'),\n",
       " Text(426.8620361560419, 863.364705882353, 'pH <= 3.335\\ngini = 0.255\\nsamples = 89\\nvalue = [0, 2, 76, 11, 0, 0]\\nclass = 5'),\n",
       " Text(390.7592768791627, 799.4117647058824, 'chlorides <= 0.067\\ngini = 0.176\\nsamples = 73\\nvalue = [0, 1, 66, 6, 0, 0]\\nclass = 5'),\n",
       " Text(382.26450999048524, 735.4588235294118, 'gini = 0.0\\nsamples = 1\\nvalue = [0, 0, 0, 1, 0, 0]\\nclass = 6'),\n",
       " Text(399.25404376784013, 735.4588235294118, 'residual sugar <= 1.55\\ngini = 0.155\\nsamples = 72\\nvalue = [0, 1, 66, 5, 0, 0]\\nclass = 5'),\n",
       " Text(382.26450999048524, 671.5058823529412, 'alcohol <= 9.15\\ngini = 0.5\\nsamples = 2\\nvalue = [0, 1, 1, 0, 0, 0]\\nclass = 4'),\n",
       " Text(373.7697431018078, 607.5529411764707, 'gini = 0.0\\nsamples = 1\\nvalue = [0, 1, 0, 0, 0, 0]\\nclass = 4'),\n",
       " Text(390.7592768791627, 607.5529411764707, 'gini = 0.0\\nsamples = 1\\nvalue = [0, 0, 1, 0, 0, 0]\\nclass = 5'),\n",
       " Text(416.2435775451951, 671.5058823529412, 'density <= 0.996\\ngini = 0.133\\nsamples = 70\\nvalue = [0, 0, 65, 5, 0, 0]\\nclass = 5'),\n",
       " Text(407.7488106565176, 607.5529411764707, 'gini = 0.0\\nsamples = 1\\nvalue = [0, 0, 0, 1, 0, 0]\\nclass = 6'),\n",
       " Text(424.7383444338725, 607.5529411764707, 'sulphates <= 1.6\\ngini = 0.109\\nsamples = 69\\nvalue = [0, 0, 65, 4, 0, 0]\\nclass = 5'),\n",
       " Text(407.7488106565176, 543.6, 'pH <= 3.265\\ngini = 0.086\\nsamples = 67\\nvalue = [0, 0, 64, 3, 0, 0]\\nclass = 5'),\n",
       " Text(399.25404376784013, 479.6470588235295, 'gini = 0.0\\nsamples = 46\\nvalue = [0, 0, 46, 0, 0, 0]\\nclass = 5'),\n",
       " Text(416.2435775451951, 479.6470588235295, 'fixed acidity <= 10.1\\ngini = 0.245\\nsamples = 21\\nvalue = [0, 0, 18, 3, 0, 0]\\nclass = 5'),\n",
       " Text(407.7488106565176, 415.6941176470589, 'volatile acidity <= 0.545\\ngini = 0.18\\nsamples = 20\\nvalue = [0, 0, 18, 2, 0, 0]\\nclass = 5'),\n",
       " Text(399.25404376784013, 351.74117647058824, 'free sulfur dioxide <= 21.5\\ngini = 0.48\\nsamples = 5\\nvalue = [0, 0, 3, 2, 0, 0]\\nclass = 5'),\n",
       " Text(390.7592768791627, 287.7882352941177, 'gini = 0.0\\nsamples = 2\\nvalue = [0, 0, 0, 2, 0, 0]\\nclass = 6'),\n",
       " Text(407.7488106565176, 287.7882352941177, 'gini = 0.0\\nsamples = 3\\nvalue = [0, 0, 3, 0, 0, 0]\\nclass = 5'),\n",
       " Text(416.2435775451951, 351.74117647058824, 'gini = 0.0\\nsamples = 15\\nvalue = [0, 0, 15, 0, 0, 0]\\nclass = 5'),\n",
       " Text(424.7383444338725, 415.6941176470589, 'gini = 0.0\\nsamples = 1\\nvalue = [0, 0, 0, 1, 0, 0]\\nclass = 6'),\n",
       " Text(441.7278782112274, 543.6, 'volatile acidity <= 0.54\\ngini = 0.5\\nsamples = 2\\nvalue = [0, 0, 1, 1, 0, 0]\\nclass = 5'),\n",
       " Text(433.23311132255, 479.6470588235295, 'gini = 0.0\\nsamples = 1\\nvalue = [0, 0, 1, 0, 0, 0]\\nclass = 5'),\n",
       " Text(450.22264509990487, 479.6470588235295, 'gini = 0.0\\nsamples = 1\\nvalue = [0, 0, 0, 1, 0, 0]\\nclass = 6'),\n",
       " Text(462.96479543292105, 799.4117647058824, 'citric acid <= 0.145\\ngini = 0.508\\nsamples = 16\\nvalue = [0, 1, 10, 5, 0, 0]\\nclass = 5'),\n",
       " Text(441.7278782112274, 735.4588235294118, 'total sulfur dioxide <= 75.0\\ngini = 0.444\\nsamples = 3\\nvalue = [0, 1, 0, 2, 0, 0]\\nclass = 6'),\n",
       " Text(433.23311132255, 671.5058823529412, 'gini = 0.0\\nsamples = 1\\nvalue = [0, 1, 0, 0, 0, 0]\\nclass = 4'),\n",
       " Text(450.22264509990487, 671.5058823529412, 'gini = 0.0\\nsamples = 2\\nvalue = [0, 0, 0, 2, 0, 0]\\nclass = 6'),\n",
       " Text(484.20171265461465, 735.4588235294118, 'fixed acidity <= 7.9\\ngini = 0.355\\nsamples = 13\\nvalue = [0, 0, 10, 3, 0, 0]\\nclass = 5'),\n",
       " Text(467.21217887725976, 671.5058823529412, 'pH <= 3.565\\ngini = 0.18\\nsamples = 10\\nvalue = [0, 0, 9, 1, 0, 0]\\nclass = 5'),\n",
       " Text(458.7174119885823, 607.5529411764707, 'gini = 0.0\\nsamples = 9\\nvalue = [0, 0, 9, 0, 0, 0]\\nclass = 5'),\n",
       " Text(475.70694576593723, 607.5529411764707, 'gini = 0.0\\nsamples = 1\\nvalue = [0, 0, 0, 1, 0, 0]\\nclass = 6'),\n",
       " Text(501.19124643196955, 671.5058823529412, 'residual sugar <= 2.45\\ngini = 0.444\\nsamples = 3\\nvalue = [0, 0, 1, 2, 0, 0]\\nclass = 6'),\n",
       " Text(492.6964795432921, 607.5529411764707, 'gini = 0.0\\nsamples = 1\\nvalue = [0, 0, 1, 0, 0, 0]\\nclass = 5'),\n",
       " Text(509.686013320647, 607.5529411764707, 'gini = 0.0\\nsamples = 2\\nvalue = [0, 0, 0, 2, 0, 0]\\nclass = 6'),\n",
       " Text(443.8515699333968, 863.364705882353, 'gini = 0.0\\nsamples = 1\\nvalue = [0, 1, 0, 0, 0, 0]\\nclass = 4'),\n",
       " Text(691.3777949571836, 991.2705882352941, 'sulphates <= 0.545\\ngini = 0.657\\nsamples = 241\\nvalue = [0, 4, 72, 112, 46, 7]\\nclass = 6'),\n",
       " Text(543.6650808753568, 927.3176470588236, 'chlorides <= 0.08\\ngini = 0.408\\nsamples = 32\\nvalue = [0, 2, 24, 5, 1, 0]\\nclass = 5'),\n",
       " Text(535.1703139866794, 863.364705882353, 'density <= 0.995\\ngini = 0.675\\nsamples = 13\\nvalue = [0, 2, 5, 5, 1, 0]\\nclass = 5'),\n",
       " Text(518.1807802093244, 799.4117647058824, 'chlorides <= 0.063\\ngini = 0.444\\nsamples = 3\\nvalue = [0, 2, 0, 0, 1, 0]\\nclass = 4'),\n",
       " Text(509.686013320647, 735.4588235294118, 'gini = 0.0\\nsamples = 2\\nvalue = [0, 2, 0, 0, 0, 0]\\nclass = 4'),\n",
       " Text(526.6755470980019, 735.4588235294118, 'gini = 0.0\\nsamples = 1\\nvalue = [0, 0, 0, 0, 1, 0]\\nclass = 7'),\n",
       " Text(552.1598477640342, 799.4117647058824, 'total sulfur dioxide <= 54.5\\ngini = 0.5\\nsamples = 10\\nvalue = [0, 0, 5, 5, 0, 0]\\nclass = 5'),\n",
       " Text(543.6650808753568, 735.4588235294118, 'pH <= 3.23\\ngini = 0.408\\nsamples = 7\\nvalue = [0, 0, 2, 5, 0, 0]\\nclass = 6'),\n",
       " Text(535.1703139866794, 671.5058823529412, 'volatile acidity <= 0.657\\ngini = 0.444\\nsamples = 3\\nvalue = [0, 0, 2, 1, 0, 0]\\nclass = 5'),\n",
       " Text(526.6755470980019, 607.5529411764707, 'gini = 0.0\\nsamples = 1\\nvalue = [0, 0, 0, 1, 0, 0]\\nclass = 6'),\n",
       " Text(543.6650808753568, 607.5529411764707, 'gini = 0.0\\nsamples = 2\\nvalue = [0, 0, 2, 0, 0, 0]\\nclass = 5'),\n",
       " Text(552.1598477640342, 671.5058823529412, 'gini = 0.0\\nsamples = 4\\nvalue = [0, 0, 0, 4, 0, 0]\\nclass = 6'),\n",
       " Text(560.6546146527118, 735.4588235294118, 'gini = 0.0\\nsamples = 3\\nvalue = [0, 0, 3, 0, 0, 0]\\nclass = 5'),\n",
       " Text(552.1598477640342, 863.364705882353, 'gini = 0.0\\nsamples = 19\\nvalue = [0, 0, 19, 0, 0, 0]\\nclass = 5'),\n",
       " Text(839.0905090390105, 927.3176470588236, 'sulphates <= 0.705\\ngini = 0.638\\nsamples = 209\\nvalue = [0, 2, 48, 107, 45, 7]\\nclass = 6'),\n",
       " Text(683.4969077069458, 863.364705882353, 'citric acid <= 0.745\\ngini = 0.53\\nsamples = 100\\nvalue = [0, 2, 23, 64, 8, 3]\\nclass = 6'),\n",
       " Text(675.0021408182683, 799.4117647058824, 'pH <= 3.485\\ngini = 0.513\\nsamples = 98\\nvalue = [0, 2, 23, 64, 6, 3]\\nclass = 6'),\n",
       " Text(599.279257849667, 735.4588235294118, 'pH <= 3.055\\ngini = 0.45\\nsamples = 83\\nvalue = [0, 1, 17, 59, 3, 3]\\nclass = 6'),\n",
       " Text(569.1493815413892, 671.5058823529412, 'density <= 0.998\\ngini = 0.375\\nsamples = 4\\nvalue = [0, 0, 3, 1, 0, 0]\\nclass = 5'),\n",
       " Text(560.6546146527118, 607.5529411764707, 'gini = 0.0\\nsamples = 1\\nvalue = [0, 0, 0, 1, 0, 0]\\nclass = 6'),\n",
       " Text(577.6441484300666, 607.5529411764707, 'gini = 0.0\\nsamples = 3\\nvalue = [0, 0, 3, 0, 0, 0]\\nclass = 5'),\n",
       " Text(629.4091341579448, 671.5058823529412, 'free sulfur dioxide <= 5.5\\ngini = 0.427\\nsamples = 79\\nvalue = [0, 1, 14, 58, 3, 3]\\nclass = 6'),\n",
       " Text(594.6336822074215, 607.5529411764707, 'total sulfur dioxide <= 19.0\\ngini = 0.656\\nsamples = 8\\nvalue = [0, 0, 3, 3, 0, 2]\\nclass = 5'),\n",
       " Text(586.138915318744, 543.6, 'volatile acidity <= 0.355\\ngini = 0.48\\nsamples = 5\\nvalue = [0, 0, 0, 3, 0, 2]\\nclass = 6'),\n",
       " Text(577.6441484300666, 479.6470588235295, 'gini = 0.0\\nsamples = 2\\nvalue = [0, 0, 0, 0, 0, 2]\\nclass = 8'),\n",
       " Text(594.6336822074215, 479.6470588235295, 'gini = 0.0\\nsamples = 3\\nvalue = [0, 0, 0, 3, 0, 0]\\nclass = 6'),\n",
       " Text(603.128449096099, 543.6, 'gini = 0.0\\nsamples = 3\\nvalue = [0, 0, 3, 0, 0, 0]\\nclass = 5'),\n",
       " Text(664.1845861084681, 607.5529411764707, 'pH <= 3.385\\ngini = 0.374\\nsamples = 71\\nvalue = [0, 1, 11, 55, 3, 1]\\nclass = 6'),\n",
       " Text(620.1179828734539, 543.6, 'residual sugar <= 4.65\\ngini = 0.324\\nsamples = 54\\nvalue = [0, 1, 5, 44, 3, 1]\\nclass = 6'),\n",
       " Text(611.6232159847764, 479.6470588235295, 'citric acid <= 0.035\\ngini = 0.298\\nsamples = 53\\nvalue = [0, 1, 5, 44, 3, 0]\\nclass = 6'),\n",
       " Text(603.128449096099, 415.6941176470589, 'gini = 0.0\\nsamples = 1\\nvalue = [0, 0, 1, 0, 0, 0]\\nclass = 5'),\n",
       " Text(620.1179828734539, 415.6941176470589, 'density <= 1.0\\ngini = 0.274\\nsamples = 52\\nvalue = [0, 1, 4, 44, 3, 0]\\nclass = 6'),\n",
       " Text(582.95337773549, 351.74117647058824, 'citric acid <= 0.305\\ngini = 0.228\\nsamples = 48\\nvalue = [0, 1, 3, 42, 2, 0]\\nclass = 6'),\n",
       " Text(555.3453853472884, 287.7882352941177, 'pH <= 3.155\\ngini = 0.08\\nsamples = 24\\nvalue = [0, 0, 1, 23, 0, 0]\\nclass = 6'),\n",
       " Text(546.8506184586108, 223.8352941176471, 'gini = 0.0\\nsamples = 1\\nvalue = [0, 0, 1, 0, 0, 0]\\nclass = 5'),\n",
       " Text(563.8401522359658, 223.8352941176471, 'gini = 0.0\\nsamples = 23\\nvalue = [0, 0, 0, 23, 0, 0]\\nclass = 6'),\n",
       " Text(610.5613701236917, 287.7882352941177, 'alcohol <= 10.45\\ngini = 0.358\\nsamples = 24\\nvalue = [0, 1, 2, 19, 2, 0]\\nclass = 6'),\n",
       " Text(580.8296860133206, 223.8352941176471, 'fixed acidity <= 8.1\\ngini = 0.75\\nsamples = 4\\nvalue = [0, 1, 1, 1, 1, 0]\\nclass = 4'),\n",
       " Text(572.3349191246432, 159.88235294117646, 'gini = 0.0\\nsamples = 1\\nvalue = [0, 0, 1, 0, 0, 0]\\nclass = 5'),\n",
       " Text(589.3244529019981, 159.88235294117646, 'chlorides <= 0.079\\ngini = 0.667\\nsamples = 3\\nvalue = [0, 1, 0, 1, 1, 0]\\nclass = 4'),\n",
       " Text(580.8296860133206, 95.92941176470595, 'gini = 0.0\\nsamples = 1\\nvalue = [0, 0, 0, 1, 0, 0]\\nclass = 6'),\n",
       " Text(597.8192197906756, 95.92941176470595, 'residual sugar <= 2.25\\ngini = 0.5\\nsamples = 2\\nvalue = [0, 1, 0, 0, 1, 0]\\nclass = 4'),\n",
       " Text(589.3244529019981, 31.976470588235316, 'gini = 0.0\\nsamples = 1\\nvalue = [0, 1, 0, 0, 0, 0]\\nclass = 4'),\n",
       " Text(606.313986679353, 31.976470588235316, 'gini = 0.0\\nsamples = 1\\nvalue = [0, 0, 0, 0, 1, 0]\\nclass = 7'),\n",
       " Text(640.2930542340628, 223.8352941176471, 'volatile acidity <= 0.3\\ngini = 0.185\\nsamples = 20\\nvalue = [0, 0, 1, 18, 1, 0]\\nclass = 6'),\n",
       " Text(623.3035204567079, 159.88235294117646, 'citric acid <= 0.54\\ngini = 0.5\\nsamples = 2\\nvalue = [0, 0, 1, 1, 0, 0]\\nclass = 5'),\n",
       " Text(614.8087535680304, 95.92941176470595, 'gini = 0.0\\nsamples = 1\\nvalue = [0, 0, 0, 1, 0, 0]\\nclass = 6'),\n",
       " Text(631.7982873453853, 95.92941176470595, 'gini = 0.0\\nsamples = 1\\nvalue = [0, 0, 1, 0, 0, 0]\\nclass = 5'),\n",
       " Text(657.2825880114177, 159.88235294117646, 'density <= 0.996\\ngini = 0.105\\nsamples = 18\\nvalue = [0, 0, 0, 17, 1, 0]\\nclass = 6'),\n",
       " Text(648.7878211227403, 95.92941176470595, 'volatile acidity <= 0.435\\ngini = 0.5\\nsamples = 2\\nvalue = [0, 0, 0, 1, 1, 0]\\nclass = 6'),\n",
       " Text(640.2930542340628, 31.976470588235316, 'gini = 0.0\\nsamples = 1\\nvalue = [0, 0, 0, 1, 0, 0]\\nclass = 6'),\n",
       " Text(657.2825880114177, 31.976470588235316, 'gini = 0.0\\nsamples = 1\\nvalue = [0, 0, 0, 0, 1, 0]\\nclass = 7'),\n",
       " Text(665.7773549000951, 95.92941176470595, 'gini = 0.0\\nsamples = 16\\nvalue = [0, 0, 0, 16, 0, 0]\\nclass = 6'),\n",
       " Text(657.2825880114177, 351.74117647058824, 'chlorides <= 0.091\\ngini = 0.625\\nsamples = 4\\nvalue = [0, 0, 1, 2, 1, 0]\\nclass = 6'),\n",
       " Text(648.7878211227403, 287.7882352941177, 'gini = 0.0\\nsamples = 2\\nvalue = [0, 0, 0, 2, 0, 0]\\nclass = 6'),\n",
       " Text(665.7773549000951, 287.7882352941177, 'free sulfur dioxide <= 24.5\\ngini = 0.5\\nsamples = 2\\nvalue = [0, 0, 1, 0, 1, 0]\\nclass = 5'),\n",
       " Text(657.2825880114177, 223.8352941176471, 'gini = 0.0\\nsamples = 1\\nvalue = [0, 0, 0, 0, 1, 0]\\nclass = 7'),\n",
       " Text(674.2721217887726, 223.8352941176471, 'gini = 0.0\\nsamples = 1\\nvalue = [0, 0, 1, 0, 0, 0]\\nclass = 5'),\n",
       " Text(628.6127497621313, 479.6470588235295, 'gini = 0.0\\nsamples = 1\\nvalue = [0, 0, 0, 0, 0, 1]\\nclass = 8'),\n",
       " Text(708.2511893434825, 543.6, 'total sulfur dioxide <= 26.5\\ngini = 0.457\\nsamples = 17\\nvalue = [0, 0, 6, 11, 0, 0]\\nclass = 6'),\n",
       " Text(699.7564224548049, 479.6470588235295, 'gini = 0.0\\nsamples = 2\\nvalue = [0, 0, 2, 0, 0, 0]\\nclass = 5'),\n",
       " Text(716.7459562321599, 479.6470588235295, 'total sulfur dioxide <= 53.5\\ngini = 0.391\\nsamples = 15\\nvalue = [0, 0, 4, 11, 0, 0]\\nclass = 6'),\n",
       " Text(699.7564224548049, 415.6941176470589, 'pH <= 3.415\\ngini = 0.165\\nsamples = 11\\nvalue = [0, 0, 1, 10, 0, 0]\\nclass = 6'),\n",
       " Text(691.2616555661275, 351.74117647058824, 'pH <= 3.405\\ngini = 0.444\\nsamples = 3\\nvalue = [0, 0, 1, 2, 0, 0]\\nclass = 6'),\n",
       " Text(682.7668886774501, 287.7882352941177, 'gini = 0.0\\nsamples = 2\\nvalue = [0, 0, 0, 2, 0, 0]\\nclass = 6'),\n",
       " Text(699.7564224548049, 287.7882352941177, 'gini = 0.0\\nsamples = 1\\nvalue = [0, 0, 1, 0, 0, 0]\\nclass = 5'),\n",
       " Text(708.2511893434825, 351.74117647058824, 'gini = 0.0\\nsamples = 8\\nvalue = [0, 0, 0, 8, 0, 0]\\nclass = 6'),\n",
       " Text(733.7354900095147, 415.6941176470589, 'residual sugar <= 5.45\\ngini = 0.375\\nsamples = 4\\nvalue = [0, 0, 3, 1, 0, 0]\\nclass = 5'),\n",
       " Text(725.2407231208373, 351.74117647058824, 'gini = 0.0\\nsamples = 3\\nvalue = [0, 0, 3, 0, 0, 0]\\nclass = 5'),\n",
       " Text(742.2302568981922, 351.74117647058824, 'gini = 0.0\\nsamples = 1\\nvalue = [0, 0, 0, 1, 0, 0]\\nclass = 6'),\n",
       " Text(750.7250237868697, 735.4588235294118, 'sulphates <= 0.625\\ngini = 0.684\\nsamples = 15\\nvalue = [0, 1, 6, 5, 3, 0]\\nclass = 5'),\n",
       " Text(742.2302568981922, 671.5058823529412, 'free sulfur dioxide <= 18.0\\ngini = 0.568\\nsamples = 9\\nvalue = [0, 1, 0, 5, 3, 0]\\nclass = 6'),\n",
       " Text(733.7354900095147, 607.5529411764707, 'residual sugar <= 2.2\\ngini = 0.278\\nsamples = 6\\nvalue = [0, 1, 0, 5, 0, 0]\\nclass = 6'),\n",
       " Text(725.2407231208373, 543.6, 'gini = 0.0\\nsamples = 1\\nvalue = [0, 1, 0, 0, 0, 0]\\nclass = 4'),\n",
       " Text(742.2302568981922, 543.6, 'gini = 0.0\\nsamples = 5\\nvalue = [0, 0, 0, 5, 0, 0]\\nclass = 6'),\n",
       " Text(750.7250237868697, 607.5529411764707, 'gini = 0.0\\nsamples = 3\\nvalue = [0, 0, 0, 0, 3, 0]\\nclass = 7'),\n",
       " Text(759.2197906755471, 671.5058823529412, 'gini = 0.0\\nsamples = 6\\nvalue = [0, 0, 6, 0, 0, 0]\\nclass = 5'),\n",
       " Text(691.9916745956232, 799.4117647058824, 'gini = 0.0\\nsamples = 2\\nvalue = [0, 0, 0, 0, 2, 0]\\nclass = 7'),\n",
       " Text(994.6841103710751, 863.364705882353, 'sulphates <= 0.925\\ngini = 0.675\\nsamples = 109\\nvalue = [0, 0, 25, 43, 37, 4]\\nclass = 6'),\n",
       " Text(915.8420551855376, 799.4117647058824, 'total sulfur dioxide <= 62.0\\ngini = 0.687\\nsamples = 88\\nvalue = [0, 0, 24, 26, 34, 4]\\nclass = 7'),\n",
       " Text(838.8582302568982, 735.4588235294118, 'alcohol <= 10.45\\ngini = 0.632\\nsamples = 62\\nvalue = [0, 0, 8, 21, 30, 3]\\nclass = 7'),\n",
       " Text(784.7040913415794, 671.5058823529412, 'free sulfur dioxide <= 10.5\\ngini = 0.521\\nsamples = 19\\nvalue = [0, 0, 2, 12, 5, 0]\\nclass = 6'),\n",
       " Text(767.7145575642246, 607.5529411764707, 'pH <= 3.23\\ngini = 0.531\\nsamples = 8\\nvalue = [0, 0, 1, 2, 5, 0]\\nclass = 7'),\n",
       " Text(759.2197906755471, 543.6, 'pH <= 3.03\\ngini = 0.278\\nsamples = 6\\nvalue = [0, 0, 1, 0, 5, 0]\\nclass = 7'),\n",
       " Text(750.7250237868697, 479.6470588235295, 'gini = 0.0\\nsamples = 1\\nvalue = [0, 0, 1, 0, 0, 0]\\nclass = 5'),\n",
       " Text(767.7145575642246, 479.6470588235295, 'gini = 0.0\\nsamples = 5\\nvalue = [0, 0, 0, 0, 5, 0]\\nclass = 7'),\n",
       " Text(776.209324452902, 543.6, 'gini = 0.0\\nsamples = 2\\nvalue = [0, 0, 0, 2, 0, 0]\\nclass = 6'),\n",
       " Text(801.6936251189344, 607.5529411764707, 'citric acid <= 0.215\\ngini = 0.165\\nsamples = 11\\nvalue = [0, 0, 1, 10, 0, 0]\\nclass = 6'),\n",
       " Text(793.1988582302569, 543.6, 'gini = 0.0\\nsamples = 1\\nvalue = [0, 0, 1, 0, 0, 0]\\nclass = 5'),\n",
       " Text(810.1883920076118, 543.6, 'gini = 0.0\\nsamples = 10\\nvalue = [0, 0, 0, 10, 0, 0]\\nclass = 6'),\n",
       " Text(893.012369172217, 671.5058823529412, 'pH <= 3.33\\ngini = 0.594\\nsamples = 43\\nvalue = [0, 0, 6, 9, 25, 3]\\nclass = 7'),\n",
       " Text(856.9096098953378, 607.5529411764707, 'citric acid <= 0.615\\ngini = 0.678\\nsamples = 30\\nvalue = [0, 0, 6, 9, 13, 2]\\nclass = 7'),\n",
       " Text(827.1779257849668, 543.6, 'volatile acidity <= 0.415\\ngini = 0.711\\nsamples = 22\\nvalue = [0, 0, 6, 8, 6, 2]\\nclass = 6'),\n",
       " Text(793.1988582302569, 479.6470588235295, 'total sulfur dioxide <= 18.5\\ngini = 0.678\\nsamples = 11\\nvalue = [0, 0, 3, 1, 5, 2]\\nclass = 7'),\n",
       " Text(776.209324452902, 415.6941176470589, 'residual sugar <= 2.45\\ngini = 0.5\\nsamples = 4\\nvalue = [0, 0, 2, 0, 0, 2]\\nclass = 5'),\n",
       " Text(767.7145575642246, 351.74117647058824, 'gini = 0.0\\nsamples = 2\\nvalue = [0, 0, 2, 0, 0, 0]\\nclass = 5'),\n",
       " Text(784.7040913415794, 351.74117647058824, 'gini = 0.0\\nsamples = 2\\nvalue = [0, 0, 0, 0, 0, 2]\\nclass = 8'),\n",
       " Text(810.1883920076118, 415.6941176470589, 'density <= 0.999\\ngini = 0.449\\nsamples = 7\\nvalue = [0, 0, 1, 1, 5, 0]\\nclass = 7'),\n",
       " Text(801.6936251189344, 351.74117647058824, 'gini = 0.0\\nsamples = 5\\nvalue = [0, 0, 0, 0, 5, 0]\\nclass = 7'),\n",
       " Text(818.6831588962892, 351.74117647058824, 'total sulfur dioxide <= 39.5\\ngini = 0.5\\nsamples = 2\\nvalue = [0, 0, 1, 1, 0, 0]\\nclass = 5'),\n",
       " Text(810.1883920076118, 287.7882352941177, 'gini = 0.0\\nsamples = 1\\nvalue = [0, 0, 0, 1, 0, 0]\\nclass = 6'),\n",
       " Text(827.1779257849668, 287.7882352941177, 'gini = 0.0\\nsamples = 1\\nvalue = [0, 0, 1, 0, 0, 0]\\nclass = 5'),\n",
       " Text(861.1569933396765, 479.6470588235295, 'residual sugar <= 3.05\\ngini = 0.512\\nsamples = 11\\nvalue = [0, 0, 3, 7, 1, 0]\\nclass = 6'),\n",
       " Text(844.1674595623216, 415.6941176470589, 'pH <= 3.1\\ngini = 0.346\\nsamples = 9\\nvalue = [0, 0, 2, 7, 0, 0]\\nclass = 6'),\n",
       " Text(835.6726926736442, 351.74117647058824, 'gini = 0.0\\nsamples = 1\\nvalue = [0, 0, 1, 0, 0, 0]\\nclass = 5'),\n",
       " Text(852.662226450999, 351.74117647058824, 'chlorides <= 0.105\\ngini = 0.219\\nsamples = 8\\nvalue = [0, 0, 1, 7, 0, 0]\\nclass = 6'),\n",
       " Text(844.1674595623216, 287.7882352941177, 'gini = 0.0\\nsamples = 6\\nvalue = [0, 0, 0, 6, 0, 0]\\nclass = 6'),\n",
       " Text(861.1569933396765, 287.7882352941177, 'alcohol <= 10.85\\ngini = 0.5\\nsamples = 2\\nvalue = [0, 0, 1, 1, 0, 0]\\nclass = 5'),\n",
       " Text(852.662226450999, 223.8352941176471, 'gini = 0.0\\nsamples = 1\\nvalue = [0, 0, 0, 1, 0, 0]\\nclass = 6'),\n",
       " Text(869.651760228354, 223.8352941176471, 'gini = 0.0\\nsamples = 1\\nvalue = [0, 0, 1, 0, 0, 0]\\nclass = 5'),\n",
       " Text(878.1465271170314, 415.6941176470589, 'fixed acidity <= 11.1\\ngini = 0.5\\nsamples = 2\\nvalue = [0, 0, 1, 0, 1, 0]\\nclass = 5'),\n",
       " Text(869.651760228354, 351.74117647058824, 'gini = 0.0\\nsamples = 1\\nvalue = [0, 0, 1, 0, 0, 0]\\nclass = 5'),\n",
       " Text(886.6412940057088, 351.74117647058824, 'gini = 0.0\\nsamples = 1\\nvalue = [0, 0, 0, 0, 1, 0]\\nclass = 7'),\n",
       " Text(886.6412940057088, 543.6, 'total sulfur dioxide <= 38.0\\ngini = 0.219\\nsamples = 8\\nvalue = [0, 0, 0, 1, 7, 0]\\nclass = 7'),\n",
       " Text(878.1465271170314, 479.6470588235295, 'gini = 0.0\\nsamples = 7\\nvalue = [0, 0, 0, 0, 7, 0]\\nclass = 7'),\n",
       " Text(895.1360608943863, 479.6470588235295, 'gini = 0.0\\nsamples = 1\\nvalue = [0, 0, 0, 1, 0, 0]\\nclass = 6'),\n",
       " Text(929.1151284490961, 607.5529411764707, 'volatile acidity <= 0.375\\ngini = 0.142\\nsamples = 13\\nvalue = [0, 0, 0, 0, 12, 1]\\nclass = 7'),\n",
       " Text(920.6203615604187, 543.6, 'free sulfur dioxide <= 14.5\\ngini = 0.5\\nsamples = 2\\nvalue = [0, 0, 0, 0, 1, 1]\\nclass = 7'),\n",
       " Text(912.1255946717412, 479.6470588235295, 'gini = 0.0\\nsamples = 1\\nvalue = [0, 0, 0, 0, 1, 0]\\nclass = 7'),\n",
       " Text(929.1151284490961, 479.6470588235295, 'gini = 0.0\\nsamples = 1\\nvalue = [0, 0, 0, 0, 0, 1]\\nclass = 8'),\n",
       " Text(937.6098953377735, 543.6, 'gini = 0.0\\nsamples = 11\\nvalue = [0, 0, 0, 0, 11, 0]\\nclass = 7'),\n",
       " Text(992.8258801141769, 735.4588235294118, 'alcohol <= 11.35\\ngini = 0.559\\nsamples = 26\\nvalue = [0, 0, 16, 5, 4, 1]\\nclass = 5'),\n",
       " Text(954.5994291151285, 671.5058823529412, 'chlorides <= 0.078\\ngini = 0.29\\nsamples = 18\\nvalue = [0, 0, 15, 1, 2, 0]\\nclass = 5'),\n",
       " Text(946.104662226451, 607.5529411764707, 'gini = 0.0\\nsamples = 13\\nvalue = [0, 0, 13, 0, 0, 0]\\nclass = 5'),\n",
       " Text(963.0941960038059, 607.5529411764707, 'volatile acidity <= 0.33\\ngini = 0.64\\nsamples = 5\\nvalue = [0, 0, 2, 1, 2, 0]\\nclass = 5'),\n",
       " Text(954.5994291151285, 543.6, 'gini = 0.0\\nsamples = 2\\nvalue = [0, 0, 0, 0, 2, 0]\\nclass = 7'),\n",
       " Text(971.5889628924833, 543.6, 'free sulfur dioxide <= 28.0\\ngini = 0.444\\nsamples = 3\\nvalue = [0, 0, 2, 1, 0, 0]\\nclass = 5'),\n",
       " Text(963.0941960038059, 479.6470588235295, 'gini = 0.0\\nsamples = 1\\nvalue = [0, 0, 0, 1, 0, 0]\\nclass = 6'),\n",
       " Text(980.0837297811609, 479.6470588235295, 'gini = 0.0\\nsamples = 2\\nvalue = [0, 0, 2, 0, 0, 0]\\nclass = 5'),\n",
       " Text(1031.0523311132256, 671.5058823529412, 'volatile acidity <= 0.762\\ngini = 0.656\\nsamples = 8\\nvalue = [0, 0, 1, 4, 2, 1]\\nclass = 6'),\n",
       " Text(1014.0627973358706, 607.5529411764707, 'pH <= 3.38\\ngini = 0.5\\nsamples = 6\\nvalue = [0, 0, 1, 4, 1, 0]\\nclass = 6'),\n",
       " Text(1005.5680304471931, 543.6, 'alcohol <= 12.4\\ngini = 0.5\\nsamples = 2\\nvalue = [0, 0, 1, 0, 1, 0]\\nclass = 5'),\n",
       " Text(997.0732635585157, 479.6470588235295, 'gini = 0.0\\nsamples = 1\\nvalue = [0, 0, 0, 0, 1, 0]\\nclass = 7'),\n",
       " Text(1014.0627973358706, 479.6470588235295, 'gini = 0.0\\nsamples = 1\\nvalue = [0, 0, 1, 0, 0, 0]\\nclass = 5'),\n",
       " Text(1022.5575642245481, 543.6, 'gini = 0.0\\nsamples = 4\\nvalue = [0, 0, 0, 4, 0, 0]\\nclass = 6'),\n",
       " Text(1048.0418648905804, 607.5529411764707, 'total sulfur dioxide <= 90.5\\ngini = 0.5\\nsamples = 2\\nvalue = [0, 0, 0, 0, 1, 1]\\nclass = 7'),\n",
       " Text(1039.547098001903, 543.6, 'gini = 0.0\\nsamples = 1\\nvalue = [0, 0, 0, 0, 0, 1]\\nclass = 8'),\n",
       " Text(1056.536631779258, 543.6, 'gini = 0.0\\nsamples = 1\\nvalue = [0, 0, 0, 0, 1, 0]\\nclass = 7'),\n",
       " Text(1073.5261655566128, 799.4117647058824, 'total sulfur dioxide <= 18.5\\ngini = 0.322\\nsamples = 21\\nvalue = [0, 0, 1, 17, 3, 0]\\nclass = 6'),\n",
       " Text(1056.536631779258, 735.4588235294118, 'sulphates <= 1.005\\ngini = 0.375\\nsamples = 4\\nvalue = [0, 0, 0, 1, 3, 0]\\nclass = 7'),\n",
       " Text(1048.0418648905804, 671.5058823529412, 'gini = 0.0\\nsamples = 1\\nvalue = [0, 0, 0, 1, 0, 0]\\nclass = 6'),\n",
       " Text(1065.0313986679353, 671.5058823529412, 'gini = 0.0\\nsamples = 3\\nvalue = [0, 0, 0, 0, 3, 0]\\nclass = 7'),\n",
       " Text(1090.5156993339676, 735.4588235294118, 'sulphates <= 1.155\\ngini = 0.111\\nsamples = 17\\nvalue = [0, 0, 1, 16, 0, 0]\\nclass = 6'),\n",
       " Text(1082.02093244529, 671.5058823529412, 'gini = 0.0\\nsamples = 14\\nvalue = [0, 0, 0, 14, 0, 0]\\nclass = 6'),\n",
       " Text(1099.0104662226452, 671.5058823529412, 'alcohol <= 10.1\\ngini = 0.444\\nsamples = 3\\nvalue = [0, 0, 1, 2, 0, 0]\\nclass = 6'),\n",
       " Text(1090.5156993339676, 607.5529411764707, 'gini = 0.0\\nsamples = 2\\nvalue = [0, 0, 0, 2, 0, 0]\\nclass = 6'),\n",
       " Text(1107.5052331113225, 607.5529411764707, 'gini = 0.0\\nsamples = 1\\nvalue = [0, 0, 1, 0, 0, 0]\\nclass = 5')]"
      ]
     },
     "execution_count": 114,
     "metadata": {},
     "output_type": "execute_result"
    },
    {
     "data": {
      "image/png": "[encoded data removed]",
      "text/plain": [
       "<Figure size 1440x1440 with 1 Axes>"
      ]
     },
     "metadata": {
      "needs_background": "light"
     },
     "output_type": "display_data"
    }
   ],
   "source": [
    "plt.figure(figsize=(20,20))\n",
    "tree.plot_tree(dt_model1, filled=True, class_names=[str(i) for i in set(y1)],feature_names=x1.columns )"
   ]
  },
  {
   "cell_type": "code",
   "execution_count": 115,
   "id": "465a9b77",
   "metadata": {},
   "outputs": [
    {
     "data": {
      "text/plain": [
       "array([5, 6, 7, 4, 8, 3], dtype=int64)"
      ]
     },
     "execution_count": 115,
     "metadata": {},
     "output_type": "execute_result"
    }
   ],
   "source": [
    "y1.unique()"
   ]
  },
  {
   "cell_type": "code",
   "execution_count": 116,
   "id": "efd34830",
   "metadata": {},
   "outputs": [
    {
     "data": {
      "text/plain": [
       "array([5, 5, 5, 6, 5, 5, 5, 7, 7, 5, 5, 5, 5, 5, 5, 5, 7, 5, 4, 6, 6, 5,\n",
       "       5, 5, 6, 5, 5, 5, 5, 6, 5, 6, 5, 6, 5, 6, 6, 7, 4, 5, 5, 4, 6, 5,\n",
       "       5, 4, 5, 5, 5, 5, 5, 6, 6, 5, 6, 5, 5, 5, 5, 6, 5, 5, 7, 5, 5, 5,\n",
       "       5, 5, 5, 6, 6, 5, 5, 4, 5, 5, 5, 6, 5, 4, 5, 5, 5, 5, 6, 5, 6, 5,\n",
       "       5, 5, 5, 6, 5, 5, 4, 6, 5, 5, 5, 6, 6, 6, 6, 5, 5, 5, 5, 5, 6, 5,\n",
       "       5, 5, 5, 6, 5, 6, 6, 6, 6, 6, 5, 6, 5, 5, 5, 5, 5, 5, 7, 5, 5, 5,\n",
       "       5, 6, 6, 5, 5, 5, 5, 5, 5, 5, 6, 5, 6, 5, 5, 5, 6, 6, 6, 4, 5, 5,\n",
       "       5, 5, 5, 5, 5, 6, 5, 4, 6, 5, 5, 5, 5, 4, 6, 5, 4, 6, 6, 6, 5, 5,\n",
       "       5, 6, 5, 5, 5, 5, 5, 5, 6, 5, 5, 5, 5, 5, 5, 6, 5, 5, 5, 5, 5, 6,\n",
       "       7, 4, 7, 5, 5, 5, 6, 7, 7, 5, 5, 7, 6, 6, 6, 5, 6, 5, 5, 5, 5, 5,\n",
       "       6, 5, 5, 6, 4, 6, 6, 5, 6, 5, 7, 6, 6, 5, 6, 6, 6, 6, 6, 6, 5, 6,\n",
       "       6, 7, 7, 6, 5, 5, 6, 6, 6, 6, 5, 5, 6, 5, 5, 5, 5, 7, 5, 4, 5, 5,\n",
       "       5, 7, 4, 8, 6, 6, 6, 6, 5, 5, 5, 6, 6, 6, 8, 7, 6, 7, 5, 7, 5, 5,\n",
       "       6, 6, 7, 5, 7, 5, 6, 6, 6, 5, 5, 5, 5, 5, 6, 6, 5, 5, 5, 6, 5, 6,\n",
       "       6, 6, 6, 6, 6, 5, 5, 6, 5, 6, 7, 6, 7, 5, 5, 6, 6, 6, 7, 5, 6, 5,\n",
       "       6, 6, 6, 5, 7, 7, 6, 5, 6, 7, 6, 6, 6, 6, 6, 5, 7, 6, 6, 6, 6, 6,\n",
       "       5, 5, 6, 6, 5, 7, 7, 6, 5, 6, 5, 5, 7, 6, 7, 5, 5, 7, 5, 6, 6, 5,\n",
       "       6, 7, 6, 7, 6, 6, 6, 6, 6, 6, 5, 6, 6, 6, 6, 7, 8, 6, 5, 5, 5, 7,\n",
       "       5, 6, 6, 5, 5, 6, 6, 6, 5, 6, 6, 7, 6, 4, 6, 5, 5, 7, 5, 5, 6, 5,\n",
       "       6, 5, 7, 7, 5, 7, 5, 7, 6, 6, 5, 6, 7, 5, 6, 5, 6, 5, 6, 6, 6, 5,\n",
       "       8, 6, 7, 7, 7, 6, 5, 5, 6, 6, 6, 6, 6, 7, 5, 8, 5, 5, 7, 3, 6, 5,\n",
       "       5, 5, 6, 5, 6, 6, 6, 5, 5, 6, 6, 5, 6, 5, 5, 6, 5, 6, 5, 8, 5, 5,\n",
       "       6, 5, 5, 6, 7, 6, 6, 7, 7, 6, 6, 8, 6, 5, 8, 6], dtype=int64)"
      ]
     },
     "execution_count": 116,
     "metadata": {},
     "output_type": "execute_result"
    }
   ],
   "source": [
    "dt_model1.predict(x1)"
   ]
  },
  {
   "cell_type": "code",
   "execution_count": 117,
   "id": "61720104",
   "metadata": {},
   "outputs": [
    {
     "data": {
      "text/plain": [
       "array([6, 6, 5, 5, 5, 8, 5, 6, 6, 6, 7, 5, 5, 5, 6, 5, 6, 6, 7, 5, 5, 5,\n",
       "       6, 8, 6, 6, 6, 7, 6, 5, 5, 5, 4, 5, 5, 6, 5, 6, 5, 5, 5, 8, 6, 5,\n",
       "       6, 5, 6, 6, 6, 4, 6, 5, 7, 5, 6, 7, 6, 7, 5, 5, 7, 6, 5, 7, 5, 4,\n",
       "       6, 6, 5, 6, 6, 7, 6, 6, 4, 6, 5, 6, 6, 6, 6, 6, 5, 6, 4, 5, 6, 6,\n",
       "       5, 6, 6, 6, 5, 5, 7, 5, 5, 5, 4, 6, 6, 6, 7, 5, 6, 7, 5, 6, 5, 5,\n",
       "       5, 5, 6, 5, 6, 7, 6, 6, 5, 6, 6, 6, 6, 7, 6, 6, 6, 5, 5, 5, 5, 4,\n",
       "       6, 7, 6, 6, 7, 5, 5, 5, 5, 5, 6, 5, 6, 5, 5, 5, 7, 6, 5, 6, 4, 6,\n",
       "       7, 6, 6, 5, 5, 6, 6, 7, 6, 5, 5, 5, 6, 5, 5, 5, 5, 5, 5, 5, 6, 6,\n",
       "       6, 8, 5, 7, 5, 5, 5, 6, 6, 6, 6, 5, 6, 5, 6, 6, 5, 7, 5, 6, 5, 7,\n",
       "       5, 5, 7, 6, 6, 6, 5, 7, 6, 5, 5, 6, 5, 7, 5, 5, 6, 6, 6, 4, 5, 5,\n",
       "       6, 5, 5, 5, 6, 5, 5, 6, 6, 7, 5, 6, 5, 6, 6, 6, 8, 5, 6, 4, 5, 5,\n",
       "       5, 5, 5, 5, 5, 6, 5, 6, 6, 6, 6, 5, 5, 6, 7, 7, 4, 5, 5, 6, 6, 5,\n",
       "       5, 8, 5, 5, 7, 6, 5, 7, 6, 6, 7, 5, 6, 5, 6, 5, 5, 5, 8, 5, 5, 5,\n",
       "       6, 7, 6, 5, 5, 5, 6, 4, 6, 5, 6, 5, 6, 6, 6, 6, 6, 6, 5, 6, 6, 5,\n",
       "       5, 6, 6, 5, 5, 5, 7, 5, 5, 5, 6, 5, 6, 5, 5, 5, 6, 6, 5, 6, 8, 5,\n",
       "       6, 5, 7, 6, 6, 6, 6, 6, 5, 5, 6, 4, 7, 7, 7, 5, 5, 5, 6, 6, 6, 5,\n",
       "       6, 7, 6, 7, 6, 5, 5, 6, 6, 7, 7, 5, 5, 4, 5, 5, 6, 6, 5, 5, 8, 6,\n",
       "       5, 6, 6, 7, 6, 6, 6, 7, 5, 5, 5, 7, 5, 5, 4, 6, 7, 5, 5, 5, 6, 6,\n",
       "       5, 5, 5, 7, 7, 5, 5, 6, 7, 4, 7, 5, 4, 5, 7, 5, 6, 7, 5, 6, 7, 5,\n",
       "       4, 6, 6, 6, 7, 5, 6, 5, 5, 4, 5, 6, 5, 6, 6, 5, 5, 6, 5, 5, 6, 6,\n",
       "       5, 8, 5, 4, 5, 5, 5, 6, 5, 8, 5, 6, 6, 6, 5, 6, 7, 6, 7, 5, 6, 4,\n",
       "       6, 6, 5, 5, 5, 5, 5, 7, 5, 7, 6, 5, 5, 7, 5, 6, 8, 5, 6, 5, 5, 5,\n",
       "       6, 7, 8, 5, 4, 5, 6, 5, 5, 5, 5, 5, 5, 5, 5, 5, 5, 5, 7, 6, 5, 6,\n",
       "       6, 5, 5, 6, 6, 6, 6, 6, 7, 6, 5, 5, 8, 6, 6, 7, 4, 5, 5, 5, 8, 6,\n",
       "       4, 7, 6, 5, 5, 6, 5, 7, 5, 6, 6, 5, 5, 7, 6, 6, 4, 6, 7, 6, 5, 4,\n",
       "       6, 6, 6, 6, 5, 6, 6, 5, 7, 7, 5, 5, 6, 5, 6, 7, 5, 6, 7, 6, 6, 6,\n",
       "       7, 5, 6, 5, 5, 5, 6, 5, 5, 7, 4, 5, 7, 6, 5, 5, 5, 5, 8, 7, 6, 6,\n",
       "       6, 6, 6, 6, 5, 5, 7, 5, 5, 5, 5, 5, 5, 7, 6, 6, 5, 6, 7, 5, 6, 7,\n",
       "       6, 5, 5, 5, 5, 4, 8, 6, 6, 6, 5, 5, 6, 7, 5, 6, 8, 5, 6, 5, 6, 7,\n",
       "       6, 7], dtype=int64)"
      ]
     },
     "execution_count": 117,
     "metadata": {},
     "output_type": "execute_result"
    }
   ],
   "source": [
    "dt_model1.predict(x_test)"
   ]
  },
  {
   "cell_type": "code",
   "execution_count": 118,
   "id": "c57e2711",
   "metadata": {},
   "outputs": [
    {
     "data": {
      "text/plain": [
       "1.0"
      ]
     },
     "execution_count": 118,
     "metadata": {},
     "output_type": "execute_result"
    }
   ],
   "source": [
    "dt_model1.score(x1,y1)"
   ]
  },
  {
   "cell_type": "code",
   "execution_count": 119,
   "id": "f0994bc6",
   "metadata": {},
   "outputs": [
    {
     "data": {
      "text/plain": [
       "0.6046875"
      ]
     },
     "execution_count": 119,
     "metadata": {},
     "output_type": "execute_result"
    }
   ],
   "source": [
    "dt_model1.score(x_test,y_test)"
   ]
  },
  {
   "cell_type": "code",
   "execution_count": 120,
   "id": "c0d83bc0",
   "metadata": {},
   "outputs": [],
   "source": [
    "path = dt_model1.cost_complexity_pruning_path(x1,y1)"
   ]
  },
  {
   "cell_type": "code",
   "execution_count": 121,
   "id": "fa68677d",
   "metadata": {},
   "outputs": [
    {
     "data": {
      "text/plain": [
       "{'ccp_alphas': array([0.        , 0.00175   , 0.00181818, 0.00184615, 0.00185   ,\n",
       "        0.00188235, 0.00192308, 0.002     , 0.002     , 0.002     ,\n",
       "        0.002     , 0.002     , 0.002     , 0.002     , 0.002     ,\n",
       "        0.002     , 0.002     , 0.00247552, 0.00261111, 0.00262769,\n",
       "        0.00266667, 0.00266667, 0.00266667, 0.00266667, 0.00266667,\n",
       "        0.00266667, 0.00266667, 0.00266667, 0.00266667, 0.00272222,\n",
       "        0.003     , 0.003     , 0.003     , 0.003     , 0.00304762,\n",
       "        0.00304762, 0.00305051, 0.00308418, 0.00325   , 0.00328205,\n",
       "        0.00333333, 0.00333333, 0.00334032, 0.00336606, 0.00342857,\n",
       "        0.00343316, 0.0035    , 0.0035    , 0.0036    , 0.00363636,\n",
       "        0.00373333, 0.00373809, 0.0038    , 0.0038237 , 0.004     ,\n",
       "        0.00404444, 0.00428571, 0.00428571, 0.00437662, 0.00462338,\n",
       "        0.00465709, 0.00466667, 0.0048    , 0.00487179, 0.00504242,\n",
       "        0.00508235, 0.00509091, 0.00510606, 0.00516667, 0.00568485,\n",
       "        0.00589394, 0.00656364, 0.00671079, 0.0067591 , 0.00688352,\n",
       "        0.00688889, 0.007     , 0.00701299, 0.00706234, 0.00725171,\n",
       "        0.00759048, 0.00771182, 0.00786235, 0.00813248, 0.00858654,\n",
       "        0.01285167, 0.01310242, 0.01335452, 0.01789286, 0.02414791,\n",
       "        0.04600728]),\n",
       " 'impurities': array([0.        , 0.0035    , 0.00713636, 0.01082867, 0.01822867,\n",
       "        0.02199338, 0.02583953, 0.02783953, 0.02983953, 0.03183953,\n",
       "        0.03383953, 0.03983953, 0.04183953, 0.04383953, 0.04583953,\n",
       "        0.04783953, 0.04983953, 0.0572661 , 0.07554388, 0.08868234,\n",
       "        0.09134901, 0.09401568, 0.09668234, 0.09934901, 0.10201568,\n",
       "        0.10468234, 0.10734901, 0.11001568, 0.11268234, 0.11540457,\n",
       "        0.11840457, 0.12140457, 0.12440457, 0.12740457, 0.13045219,\n",
       "        0.1334998 , 0.13655031, 0.13963449, 0.14613449, 0.15269859,\n",
       "        0.15603193, 0.15936526, 0.16270558, 0.16607164, 0.17635735,\n",
       "        0.17979051, 0.18329051, 0.18679051, 0.19039051, 0.19402687,\n",
       "        0.1977602 , 0.20897449, 0.21277449, 0.22424558, 0.22824558,\n",
       "        0.23229003, 0.23657574, 0.24086146, 0.24523808, 0.24986146,\n",
       "        0.26848983, 0.27782316, 0.28262316, 0.28749496, 0.29253738,\n",
       "        0.29761974, 0.30271064, 0.3078167 , 0.31298337, 0.31866822,\n",
       "        0.32456216, 0.3311258 , 0.33783659, 0.34459569, 0.35147921,\n",
       "        0.3583681 , 0.3653681 , 0.38640708, 0.40053176, 0.40778347,\n",
       "        0.42296443, 0.44609989, 0.45396224, 0.46209471, 0.47068125,\n",
       "        0.4963846 , 0.52258943, 0.53594395, 0.55383681, 0.57798472,\n",
       "        0.623992  ])}"
      ]
     },
     "execution_count": 121,
     "metadata": {},
     "output_type": "execute_result"
    }
   ],
   "source": [
    "path"
   ]
  },
  {
   "cell_type": "code",
   "execution_count": 122,
   "id": "4470067f",
   "metadata": {},
   "outputs": [],
   "source": [
    "ccp_alphas = path['ccp_alphas']"
   ]
  },
  {
   "cell_type": "code",
   "execution_count": 123,
   "id": "ee627cb2",
   "metadata": {},
   "outputs": [
    {
     "data": {
      "text/plain": [
       "array([0.        , 0.00175   , 0.00181818, 0.00184615, 0.00185   ,\n",
       "       0.00188235, 0.00192308, 0.002     , 0.002     , 0.002     ,\n",
       "       0.002     , 0.002     , 0.002     , 0.002     , 0.002     ,\n",
       "       0.002     , 0.002     , 0.00247552, 0.00261111, 0.00262769,\n",
       "       0.00266667, 0.00266667, 0.00266667, 0.00266667, 0.00266667,\n",
       "       0.00266667, 0.00266667, 0.00266667, 0.00266667, 0.00272222,\n",
       "       0.003     , 0.003     , 0.003     , 0.003     , 0.00304762,\n",
       "       0.00304762, 0.00305051, 0.00308418, 0.00325   , 0.00328205,\n",
       "       0.00333333, 0.00333333, 0.00334032, 0.00336606, 0.00342857,\n",
       "       0.00343316, 0.0035    , 0.0035    , 0.0036    , 0.00363636,\n",
       "       0.00373333, 0.00373809, 0.0038    , 0.0038237 , 0.004     ,\n",
       "       0.00404444, 0.00428571, 0.00428571, 0.00437662, 0.00462338,\n",
       "       0.00465709, 0.00466667, 0.0048    , 0.00487179, 0.00504242,\n",
       "       0.00508235, 0.00509091, 0.00510606, 0.00516667, 0.00568485,\n",
       "       0.00589394, 0.00656364, 0.00671079, 0.0067591 , 0.00688352,\n",
       "       0.00688889, 0.007     , 0.00701299, 0.00706234, 0.00725171,\n",
       "       0.00759048, 0.00771182, 0.00786235, 0.00813248, 0.00858654,\n",
       "       0.01285167, 0.01310242, 0.01335452, 0.01789286, 0.02414791,\n",
       "       0.04600728])"
      ]
     },
     "execution_count": 123,
     "metadata": {},
     "output_type": "execute_result"
    }
   ],
   "source": [
    "ccp_alphas"
   ]
  },
  {
   "cell_type": "code",
   "execution_count": 124,
   "id": "2d3407fd",
   "metadata": {},
   "outputs": [],
   "source": [
    "dt_model2 = []\n",
    "for ccp in ccp_alphas:\n",
    "   dt_m = DecisionTreeClassifier(ccp_alpha=ccp)\n",
    "   dt_m.fit(x1,y1)\n",
    "   dt_model2.append(dt_m)"
   ]
  },
  {
   "cell_type": "code",
   "execution_count": 125,
   "id": "1e74a67b",
   "metadata": {},
   "outputs": [
    {
     "data": {
      "text/plain": [
       "[DecisionTreeClassifier(),\n",
       " DecisionTreeClassifier(ccp_alpha=0.00175),\n",
       " DecisionTreeClassifier(ccp_alpha=0.0018181818181818184),\n",
       " DecisionTreeClassifier(ccp_alpha=0.0018461538461538455),\n",
       " DecisionTreeClassifier(ccp_alpha=0.0018500000000000005),\n",
       " DecisionTreeClassifier(ccp_alpha=0.001882352941176471),\n",
       " DecisionTreeClassifier(ccp_alpha=0.0019230769230769243),\n",
       " DecisionTreeClassifier(ccp_alpha=0.002),\n",
       " DecisionTreeClassifier(ccp_alpha=0.002),\n",
       " DecisionTreeClassifier(ccp_alpha=0.002),\n",
       " DecisionTreeClassifier(ccp_alpha=0.002),\n",
       " DecisionTreeClassifier(ccp_alpha=0.002),\n",
       " DecisionTreeClassifier(ccp_alpha=0.002),\n",
       " DecisionTreeClassifier(ccp_alpha=0.002),\n",
       " DecisionTreeClassifier(ccp_alpha=0.002),\n",
       " DecisionTreeClassifier(ccp_alpha=0.002),\n",
       " DecisionTreeClassifier(ccp_alpha=0.002),\n",
       " DecisionTreeClassifier(ccp_alpha=0.0024755244755244737),\n",
       " DecisionTreeClassifier(ccp_alpha=0.0026111111111111114),\n",
       " DecisionTreeClassifier(ccp_alpha=0.0026276923076923083),\n",
       " DecisionTreeClassifier(ccp_alpha=0.0026666666666666666),\n",
       " DecisionTreeClassifier(ccp_alpha=0.0026666666666666666),\n",
       " DecisionTreeClassifier(ccp_alpha=0.0026666666666666666),\n",
       " DecisionTreeClassifier(ccp_alpha=0.0026666666666666666),\n",
       " DecisionTreeClassifier(ccp_alpha=0.0026666666666666666),\n",
       " DecisionTreeClassifier(ccp_alpha=0.0026666666666666666),\n",
       " DecisionTreeClassifier(ccp_alpha=0.0026666666666666666),\n",
       " DecisionTreeClassifier(ccp_alpha=0.0026666666666666666),\n",
       " DecisionTreeClassifier(ccp_alpha=0.0026666666666666666),\n",
       " DecisionTreeClassifier(ccp_alpha=0.002722222222222221),\n",
       " DecisionTreeClassifier(ccp_alpha=0.003),\n",
       " DecisionTreeClassifier(ccp_alpha=0.003),\n",
       " DecisionTreeClassifier(ccp_alpha=0.003),\n",
       " DecisionTreeClassifier(ccp_alpha=0.003),\n",
       " DecisionTreeClassifier(ccp_alpha=0.0030476190476190477),\n",
       " DecisionTreeClassifier(ccp_alpha=0.0030476190476190477),\n",
       " DecisionTreeClassifier(ccp_alpha=0.0030505050505050518),\n",
       " DecisionTreeClassifier(ccp_alpha=0.0030841799709724164),\n",
       " DecisionTreeClassifier(ccp_alpha=0.0032500000000000003),\n",
       " DecisionTreeClassifier(ccp_alpha=0.0032820512820512827),\n",
       " DecisionTreeClassifier(ccp_alpha=0.0033333333333333335),\n",
       " DecisionTreeClassifier(ccp_alpha=0.0033333333333333335),\n",
       " DecisionTreeClassifier(ccp_alpha=0.0033403214535289993),\n",
       " DecisionTreeClassifier(ccp_alpha=0.0033660578386605737),\n",
       " DecisionTreeClassifier(ccp_alpha=0.0034285714285714297),\n",
       " DecisionTreeClassifier(ccp_alpha=0.003433155080213907),\n",
       " DecisionTreeClassifier(ccp_alpha=0.0035),\n",
       " DecisionTreeClassifier(ccp_alpha=0.0035),\n",
       " DecisionTreeClassifier(ccp_alpha=0.0036000000000000008),\n",
       " DecisionTreeClassifier(ccp_alpha=0.003636363636363637),\n",
       " DecisionTreeClassifier(ccp_alpha=0.0037333333333333337),\n",
       " DecisionTreeClassifier(ccp_alpha=0.0037380946805604365),\n",
       " DecisionTreeClassifier(ccp_alpha=0.003799999999999999),\n",
       " DecisionTreeClassifier(ccp_alpha=0.0038236986452948873),\n",
       " DecisionTreeClassifier(ccp_alpha=0.004),\n",
       " DecisionTreeClassifier(ccp_alpha=0.004044444444444443),\n",
       " DecisionTreeClassifier(ccp_alpha=0.004285714285714286),\n",
       " DecisionTreeClassifier(ccp_alpha=0.004285714285714287),\n",
       " DecisionTreeClassifier(ccp_alpha=0.004376623376623378),\n",
       " DecisionTreeClassifier(ccp_alpha=0.004623376623376621),\n",
       " DecisionTreeClassifier(ccp_alpha=0.004657093161377905),\n",
       " DecisionTreeClassifier(ccp_alpha=0.004666666666666666),\n",
       " DecisionTreeClassifier(ccp_alpha=0.0048),\n",
       " DecisionTreeClassifier(ccp_alpha=0.004871794871794875),\n",
       " DecisionTreeClassifier(ccp_alpha=0.005042424242424239),\n",
       " DecisionTreeClassifier(ccp_alpha=0.005082352941176471),\n",
       " DecisionTreeClassifier(ccp_alpha=0.005090909090909097),\n",
       " DecisionTreeClassifier(ccp_alpha=0.005106060606060606),\n",
       " DecisionTreeClassifier(ccp_alpha=0.005166666666666667),\n",
       " DecisionTreeClassifier(ccp_alpha=0.005684848484848487),\n",
       " DecisionTreeClassifier(ccp_alpha=0.005893939393939396),\n",
       " DecisionTreeClassifier(ccp_alpha=0.0065636363636363635),\n",
       " DecisionTreeClassifier(ccp_alpha=0.0067107930828861),\n",
       " DecisionTreeClassifier(ccp_alpha=0.0067591036414565795),\n",
       " DecisionTreeClassifier(ccp_alpha=0.006883516483516483),\n",
       " DecisionTreeClassifier(ccp_alpha=0.006888888888888889),\n",
       " DecisionTreeClassifier(ccp_alpha=0.007000000000000001),\n",
       " DecisionTreeClassifier(ccp_alpha=0.007012994199018301),\n",
       " DecisionTreeClassifier(ccp_alpha=0.0070623376623376675),\n",
       " DecisionTreeClassifier(ccp_alpha=0.007251712992889445),\n",
       " DecisionTreeClassifier(ccp_alpha=0.00759048284798472),\n",
       " DecisionTreeClassifier(ccp_alpha=0.007711817594170538),\n",
       " DecisionTreeClassifier(ccp_alpha=0.007862348178137649),\n",
       " DecisionTreeClassifier(ccp_alpha=0.008132478632478634),\n",
       " DecisionTreeClassifier(ccp_alpha=0.008586538461538458),\n",
       " DecisionTreeClassifier(ccp_alpha=0.012851672777488471),\n",
       " DecisionTreeClassifier(ccp_alpha=0.013102415587766286),\n",
       " DecisionTreeClassifier(ccp_alpha=0.013354516483034151),\n",
       " DecisionTreeClassifier(ccp_alpha=0.01789286463132611),\n",
       " DecisionTreeClassifier(ccp_alpha=0.024147905954059024),\n",
       " DecisionTreeClassifier(ccp_alpha=0.046007283807814825)]"
      ]
     },
     "execution_count": 125,
     "metadata": {},
     "output_type": "execute_result"
    }
   ],
   "source": [
    "dt_model2"
   ]
  },
  {
   "cell_type": "code",
   "execution_count": 126,
   "id": "052f120a",
   "metadata": {},
   "outputs": [],
   "source": [
    "train_score = [i.score(x1,y1) for i in dt_model2]"
   ]
  },
  {
   "cell_type": "code",
   "execution_count": 127,
   "id": "881a1664",
   "metadata": {},
   "outputs": [],
   "source": [
    "test_score = [i.score(x_test, y_test) for i in dt_model2]"
   ]
  },
  {
   "cell_type": "code",
   "execution_count": 128,
   "id": "e5dbe8c3",
   "metadata": {},
   "outputs": [
    {
     "data": {
      "text/plain": [
       "[1.0,\n",
       " 0.996,\n",
       " 0.996,\n",
       " 0.992,\n",
       " 0.992,\n",
       " 0.99,\n",
       " 0.986,\n",
       " 0.96,\n",
       " 0.964,\n",
       " 0.964,\n",
       " 0.964,\n",
       " 0.96,\n",
       " 0.96,\n",
       " 0.962,\n",
       " 0.962,\n",
       " 0.964,\n",
       " 0.964,\n",
       " 0.958,\n",
       " 0.95,\n",
       " 0.95,\n",
       " 0.932,\n",
       " 0.928,\n",
       " 0.934,\n",
       " 0.932,\n",
       " 0.934,\n",
       " 0.93,\n",
       " 0.93,\n",
       " 0.934,\n",
       " 0.926,\n",
       " 0.926,\n",
       " 0.918,\n",
       " 0.92,\n",
       " 0.918,\n",
       " 0.91,\n",
       " 0.91,\n",
       " 0.908,\n",
       " 0.91,\n",
       " 0.914,\n",
       " 0.91,\n",
       " 0.904,\n",
       " 0.898,\n",
       " 0.896,\n",
       " 0.898,\n",
       " 0.894,\n",
       " 0.892,\n",
       " 0.888,\n",
       " 0.886,\n",
       " 0.886,\n",
       " 0.884,\n",
       " 0.882,\n",
       " 0.88,\n",
       " 0.868,\n",
       " 0.87,\n",
       " 0.86,\n",
       " 0.856,\n",
       " 0.854,\n",
       " 0.848,\n",
       " 0.856,\n",
       " 0.842,\n",
       " 0.848,\n",
       " 0.834,\n",
       " 0.828,\n",
       " 0.824,\n",
       " 0.824,\n",
       " 0.804,\n",
       " 0.802,\n",
       " 0.794,\n",
       " 0.79,\n",
       " 0.786,\n",
       " 0.784,\n",
       " 0.78,\n",
       " 0.776,\n",
       " 0.776,\n",
       " 0.772,\n",
       " 0.768,\n",
       " 0.762,\n",
       " 0.758,\n",
       " 0.742,\n",
       " 0.728,\n",
       " 0.718,\n",
       " 0.698,\n",
       " 0.69,\n",
       " 0.682,\n",
       " 0.676,\n",
       " 0.676,\n",
       " 0.636,\n",
       " 0.596,\n",
       " 0.596,\n",
       " 0.596,\n",
       " 0.558,\n",
       " 0.558]"
      ]
     },
     "execution_count": 128,
     "metadata": {},
     "output_type": "execute_result"
    }
   ],
   "source": [
    "train_score"
   ]
  },
  {
   "cell_type": "code",
   "execution_count": 129,
   "id": "d34a2826",
   "metadata": {},
   "outputs": [
    {
     "data": {
      "text/plain": [
       "[0.609375,\n",
       " 0.61875,\n",
       " 0.6,\n",
       " 0.6,\n",
       " 0.59375,\n",
       " 0.6015625,\n",
       " 0.5734375,\n",
       " 0.6,\n",
       " 0.6,\n",
       " 0.5984375,\n",
       " 0.58125,\n",
       " 0.6,\n",
       " 0.5828125,\n",
       " 0.5953125,\n",
       " 0.6046875,\n",
       " 0.6046875,\n",
       " 0.6046875,\n",
       " 0.603125,\n",
       " 0.5890625,\n",
       " 0.603125,\n",
       " 0.578125,\n",
       " 0.6015625,\n",
       " 0.5984375,\n",
       " 0.6015625,\n",
       " 0.5890625,\n",
       " 0.590625,\n",
       " 0.5859375,\n",
       " 0.584375,\n",
       " 0.5890625,\n",
       " 0.5984375,\n",
       " 0.5859375,\n",
       " 0.5953125,\n",
       " 0.59375,\n",
       " 0.5984375,\n",
       " 0.578125,\n",
       " 0.59375,\n",
       " 0.58125,\n",
       " 0.6046875,\n",
       " 0.584375,\n",
       " 0.5921875,\n",
       " 0.6,\n",
       " 0.60625,\n",
       " 0.590625,\n",
       " 0.590625,\n",
       " 0.6046875,\n",
       " 0.6109375,\n",
       " 0.596875,\n",
       " 0.5984375,\n",
       " 0.603125,\n",
       " 0.6015625,\n",
       " 0.5984375,\n",
       " 0.6,\n",
       " 0.603125,\n",
       " 0.609375,\n",
       " 0.603125,\n",
       " 0.603125,\n",
       " 0.596875,\n",
       " 0.603125,\n",
       " 0.5921875,\n",
       " 0.6078125,\n",
       " 0.6078125,\n",
       " 0.6046875,\n",
       " 0.60625,\n",
       " 0.6046875,\n",
       " 0.6109375,\n",
       " 0.609375,\n",
       " 0.6046875,\n",
       " 0.5984375,\n",
       " 0.6,\n",
       " 0.590625,\n",
       " 0.575,\n",
       " 0.5796875,\n",
       " 0.5796875,\n",
       " 0.578125,\n",
       " 0.5765625,\n",
       " 0.5796875,\n",
       " 0.5796875,\n",
       " 0.58125,\n",
       " 0.5765625,\n",
       " 0.578125,\n",
       " 0.5625,\n",
       " 0.565625,\n",
       " 0.5578125,\n",
       " 0.55,\n",
       " 0.55,\n",
       " 0.55,\n",
       " 0.58125,\n",
       " 0.58125,\n",
       " 0.58125,\n",
       " 0.5703125,\n",
       " 0.5703125]"
      ]
     },
     "execution_count": 129,
     "metadata": {},
     "output_type": "execute_result"
    }
   ],
   "source": [
    "test_score"
   ]
  },
  {
   "cell_type": "code",
   "execution_count": 130,
   "id": "10944f1e",
   "metadata": {},
   "outputs": [
    {
     "data": {
      "text/plain": [
       "[<matplotlib.lines.Line2D at 0x2311eccfe50>]"
      ]
     },
     "execution_count": 130,
     "metadata": {},
     "output_type": "execute_result"
    },
    {
     "data": {
      "image/png": "[encoded data removed]",
      "text/plain": [
       "<Figure size 432x288 with 1 Axes>"
      ]
     },
     "metadata": {
      "needs_background": "light"
     },
     "output_type": "display_data"
    }
   ],
   "source": [
    "fig, ax = plt.subplots()\n",
    "ax.set_xlabel(\"alpha\")\n",
    "ax.set_ylabel(\"accuracy\")\n",
    "ax.set_title(\"Accuracy vs alpha for training and testing sets\")\n",
    "ax.plot(ccp_alphas, train_score,  marker='o', drawstyle = \"steps-post\")\n",
    "ax.plot(ccp_alphas,test_score, marker='o', drawstyle=\"steps-post\")"
   ]
  },
  {
   "cell_type": "code",
   "execution_count": 131,
   "id": "7e6890ac",
   "metadata": {},
   "outputs": [
    {
     "data": {
      "text/plain": [
       "DecisionTreeClassifier(ccp_alpha=0.02, random_state=0)"
      ]
     },
     "execution_count": 131,
     "metadata": {},
     "output_type": "execute_result"
    }
   ],
   "source": [
    "dt_model_ccp = DecisionTreeClassifier(ccp_alpha=0.020, random_state=0)\n",
    "dt_model_ccp.fit(x1,y1)"
   ]
  },
  {
   "cell_type": "code",
   "execution_count": 132,
   "id": "e5b01e37",
   "metadata": {},
   "outputs": [
    {
     "data": {
      "text/plain": [
       "[Text(446.4, 906.0, 'X[10] <= 9.85\\ngini = 0.624\\nsamples = 500\\nvalue = [1, 16, 239, 184, 52, 8]'),\n",
       " Text(223.2, 543.6, 'gini = 0.504\\nsamples = 259\\nvalue = [1, 12, 167, 72, 6, 1]'),\n",
       " Text(669.5999999999999, 543.6, 'X[9] <= 0.545\\ngini = 0.657\\nsamples = 241\\nvalue = [0, 4, 72, 112, 46, 7]'),\n",
       " Text(446.4, 181.19999999999993, 'gini = 0.408\\nsamples = 32\\nvalue = [0, 2, 24, 5, 1, 0]'),\n",
       " Text(892.8, 181.19999999999993, 'gini = 0.638\\nsamples = 209\\nvalue = [0, 2, 48, 107, 45, 7]')]"
      ]
     },
     "execution_count": 132,
     "metadata": {},
     "output_type": "execute_result"
    },
    {
     "data": {
      "image/png": "[encoded data removed]",
      "text/plain": [
       "<Figure size 1440x1440 with 1 Axes>"
      ]
     },
     "metadata": {
      "needs_background": "light"
     },
     "output_type": "display_data"
    }
   ],
   "source": [
    "plt.figure(figsize=(20,20))\n",
    "tree.plot_tree(dt_model_ccp, filled=True)"
   ]
  },
  {
   "cell_type": "code",
   "execution_count": null,
   "id": "5cbf5d59",
   "metadata": {},
   "outputs": [],
   "source": []
  },
  {
   "cell_type": "code",
   "execution_count": 139,
   "id": "aead4665",
   "metadata": {},
   "outputs": [
    {
     "data": {
      "text/plain": [
       "0.596"
      ]
     },
     "execution_count": 139,
     "metadata": {},
     "output_type": "execute_result"
    }
   ],
   "source": [
    "dt_model_ccp.score(x1,y1)"
   ]
  },
  {
   "cell_type": "code",
   "execution_count": 140,
   "id": "7226ed44",
   "metadata": {},
   "outputs": [
    {
     "data": {
      "text/plain": [
       "0.58125"
      ]
     },
     "execution_count": 140,
     "metadata": {},
     "output_type": "execute_result"
    }
   ],
   "source": [
    "dt_model_ccp.score(x_test,y_test)"
   ]
  },
  {
   "cell_type": "code",
   "execution_count": 141,
   "id": "5f3f749c",
   "metadata": {},
   "outputs": [],
   "source": [
    "# Create param for gridsearch\n",
    "grid_param = {\"criterion\":['gini','entropy'],\n",
    "               \"splitter\":['best','random'],\n",
    "               \"max_depth\":range(2,40,1),\n",
    "               \"min_samples_split\": range(2,10,1),\n",
    "               \"min_samples_leaf\": range(1,10,1)\n",
    "              \n",
    "              \n",
    "             }"
   ]
  },
  {
   "cell_type": "code",
   "execution_count": 142,
   "id": "e9503c87",
   "metadata": {},
   "outputs": [],
   "source": [
    "grid_ccp =  GridSearchCV(estimator=dt_model_ccp,param_grid=grid_param, cv=5, n_jobs=-1)"
   ]
  },
  {
   "cell_type": "code",
   "execution_count": 143,
   "id": "f8e5ee69",
   "metadata": {},
   "outputs": [
    {
     "data": {
      "text/plain": [
       "GridSearchCV(cv=5,\n",
       "             estimator=DecisionTreeClassifier(ccp_alpha=0.02, random_state=0),\n",
       "             n_jobs=-1,\n",
       "             param_grid={'criterion': ['gini', 'entropy'],\n",
       "                         'max_depth': range(2, 40),\n",
       "                         'min_samples_leaf': range(1, 10),\n",
       "                         'min_samples_split': range(2, 10),\n",
       "                         'splitter': ['best', 'random']})"
      ]
     },
     "execution_count": 143,
     "metadata": {},
     "output_type": "execute_result"
    }
   ],
   "source": [
    "grid_ccp"
   ]
  },
  {
   "cell_type": "code",
   "execution_count": 144,
   "id": "1a809daa",
   "metadata": {},
   "outputs": [
    {
     "ename": "AttributeError",
     "evalue": "'GridSearchCV' object has no attribute 'best_params_'",
     "output_type": "error",
     "traceback": [
      "\u001b[1;31m---------------------------------------------------------------------------\u001b[0m",
      "\u001b[1;31mAttributeError\u001b[0m                            Traceback (most recent call last)",
      "\u001b[1;32m~\\AppData\\Local\\Temp/ipykernel_10664/186358153.py\u001b[0m in \u001b[0;36m<module>\u001b[1;34m\u001b[0m\n\u001b[1;32m----> 1\u001b[1;33m \u001b[0mgrid_ccp\u001b[0m\u001b[1;33m.\u001b[0m\u001b[0mbest_params_\u001b[0m\u001b[1;33m\u001b[0m\u001b[1;33m\u001b[0m\u001b[0m\n\u001b[0m",
      "\u001b[1;31mAttributeError\u001b[0m: 'GridSearchCV' object has no attribute 'best_params_'"
     ]
    }
   ],
   "source": [
    "grid_ccp.best_params_"
   ]
  },
  {
   "cell_type": "code",
   "execution_count": null,
   "id": "58b77f13",
   "metadata": {},
   "outputs": [],
   "source": []
  },
  {
   "cell_type": "code",
   "execution_count": 145,
   "id": "836d5e26",
   "metadata": {},
   "outputs": [],
   "source": [
    "dt_ccp_new = DecisionTreeClassifier(criterion='entropy', max_depth=15, min_samples_leaf=2, min_samples_split=3, splitter='random', ccp_alpha=0.020)"
   ]
  },
  {
   "cell_type": "code",
   "execution_count": 146,
   "id": "163adb4f",
   "metadata": {},
   "outputs": [
    {
     "data": {
      "text/plain": [
       "DecisionTreeClassifier(ccp_alpha=0.02, criterion='entropy', max_depth=15,\n",
       "                       min_samples_leaf=2, min_samples_split=3,\n",
       "                       splitter='random')"
      ]
     },
     "execution_count": 146,
     "metadata": {},
     "output_type": "execute_result"
    }
   ],
   "source": [
    "dt_ccp_new.fit(x1,y1)"
   ]
  },
  {
   "cell_type": "code",
   "execution_count": 147,
   "id": "a2647dff",
   "metadata": {},
   "outputs": [
    {
     "data": {
      "text/plain": [
       "0.592"
      ]
     },
     "execution_count": 147,
     "metadata": {},
     "output_type": "execute_result"
    }
   ],
   "source": [
    "dt_ccp_new.score(x1,y1)"
   ]
  },
  {
   "cell_type": "code",
   "execution_count": 148,
   "id": "c85a9bd0",
   "metadata": {},
   "outputs": [
    {
     "data": {
      "text/plain": [
       "0.54375"
      ]
     },
     "execution_count": 148,
     "metadata": {},
     "output_type": "execute_result"
    }
   ],
   "source": [
    "dt_ccp_new.score(x_test,y_test)"
   ]
  },
  {
   "cell_type": "code",
   "execution_count": null,
   "id": "c3c59306",
   "metadata": {},
   "outputs": [],
   "source": []
  },
  {
   "cell_type": "code",
   "execution_count": 149,
   "id": "d5c00298",
   "metadata": {},
   "outputs": [],
   "source": [
    "pred = dt_ccp_new.predict(x_train)"
   ]
  },
  {
   "cell_type": "code",
   "execution_count": 150,
   "id": "96617bb2",
   "metadata": {},
   "outputs": [
    {
     "data": {
      "text/plain": [
       "array([6, 6, 5, 5, 5, 6, 5, 6, 6, 6, 6, 5, 6, 5, 6, 6, 6, 6, 5, 5, 6, 6,\n",
       "       5, 5, 5, 6, 6, 5, 5, 6, 6, 5, 6, 7, 5, 5, 5, 6, 6, 6, 6, 7, 5, 6,\n",
       "       6, 6, 5, 6, 5, 6, 6, 6, 6, 5, 6, 5, 5, 6, 6, 5, 6, 5, 5, 6, 5, 8,\n",
       "       6, 6, 6, 5, 5, 5, 5, 5, 6, 5, 6, 5, 5, 6, 6, 5, 6, 5, 5, 6, 6, 6,\n",
       "       6, 5, 5, 6, 6, 6, 5, 6, 6, 6, 6, 5, 6, 6, 5, 5, 5, 6, 6, 6, 7, 5,\n",
       "       5, 5, 5, 6, 6, 6, 6, 6, 5, 6, 7, 6, 6, 8, 5, 6, 5, 5, 6, 5, 6, 6,\n",
       "       6, 6, 6, 6, 5, 6, 5, 6, 6, 5, 5, 6, 6, 6, 6, 6, 6, 6, 6, 6, 6, 5,\n",
       "       6, 6, 6, 6, 6, 5, 5, 6, 6, 6, 7, 6, 5, 5, 6, 6, 5, 7, 5, 6, 6, 6,\n",
       "       5, 6, 5, 6, 6, 6, 6, 6, 6, 6, 6, 6, 6, 6, 5, 5, 6, 6, 6, 6, 6, 5,\n",
       "       6, 6, 7, 6, 5, 6, 5, 5, 6, 6, 6, 5, 5, 6, 5, 6, 6, 5, 5, 6, 6, 7,\n",
       "       6, 6, 6, 6, 6, 5, 5, 6, 7, 6, 5, 6, 6, 5, 5, 5, 6, 6, 6, 5, 7, 6,\n",
       "       6, 6, 6, 5, 6, 6, 6, 5, 6, 5, 6, 6, 6, 6, 6, 6, 5, 6, 6, 6, 5, 5,\n",
       "       6, 6, 5, 6, 7, 6, 6, 5, 5, 6, 6, 5, 5, 6, 6, 6, 6, 6, 8, 6, 5, 5,\n",
       "       5, 6, 6, 6, 6, 6, 6, 6, 5, 6, 5, 6, 5, 6, 5, 6, 5, 6, 6, 5, 6, 6,\n",
       "       6, 6, 5, 6, 6, 6, 5, 6, 6, 6, 6, 5, 6, 6, 6, 5, 5, 5, 6, 6, 6, 5,\n",
       "       7, 6, 6, 6, 5, 6, 6, 5, 5, 6, 6, 6, 6, 6, 6, 5, 5, 6, 5, 6, 6, 6,\n",
       "       6, 6, 6, 7, 6, 6, 6, 5, 6, 6, 6, 6, 5, 5, 5, 8, 5, 7, 6, 5, 6, 6,\n",
       "       6, 6, 5, 6, 6, 6, 6, 6, 6, 6, 5, 6, 5, 6, 6, 6, 6, 6, 7, 6, 6, 6,\n",
       "       6, 5, 5, 6, 6, 6, 6, 6, 6, 6, 6, 6, 5, 5, 6, 6, 6, 6, 6, 5, 5, 8,\n",
       "       6, 6, 6, 5, 6, 6, 6, 6, 6, 6, 6, 6, 6, 6, 6, 6, 5, 6, 5, 6, 5, 5,\n",
       "       6, 5, 6, 5, 5, 6, 6, 6, 6, 6, 6, 5, 6, 5, 5, 6, 5, 6, 6, 5, 6, 6,\n",
       "       6, 6, 5, 6, 6, 6, 6, 6, 5, 6, 6, 6, 5, 5, 6, 6, 5, 5, 5, 6, 6, 6,\n",
       "       6, 6, 6, 6, 5, 5, 6, 6, 6, 6, 5, 5, 6, 5, 6, 6, 5, 6, 6, 5, 5, 6,\n",
       "       6, 5, 5, 6, 6, 7, 6, 6, 6, 5, 6, 6, 6, 6, 5, 5, 5, 5, 6, 6, 6, 6,\n",
       "       6, 5, 6, 6, 6, 5, 6, 6, 6, 6, 5, 5, 6, 6, 6, 8, 5, 6, 5, 5, 5, 6,\n",
       "       5, 6, 5, 6, 5, 5, 5, 6, 6, 6, 5, 6, 6, 8, 5, 6, 6, 6, 6, 6, 6, 6,\n",
       "       6, 6, 5, 5, 6, 6, 6, 5, 6, 5, 6, 6, 5, 6, 6, 6, 6, 5, 5, 5, 5, 5,\n",
       "       6, 5, 5, 6, 6, 6, 6, 6, 6, 6, 5, 6, 5, 5, 6, 5, 5, 6, 5, 6, 5, 5,\n",
       "       6, 5, 5, 5, 6, 6, 5, 5, 5, 6, 6, 6, 5, 5, 6, 6, 7, 6, 6, 6, 5, 6,\n",
       "       7, 5, 6, 6, 6, 6, 6, 6, 5, 6, 6, 6, 7, 6, 5, 6, 6, 6, 5, 6, 6, 6,\n",
       "       6, 5, 6, 5, 6, 6, 6, 6, 7, 7, 5, 6, 6, 6, 5, 5, 5, 6, 5, 6, 6, 5,\n",
       "       6, 6, 8, 6, 5, 6, 5, 6, 5, 5, 6, 5, 5, 6, 6, 6, 6, 6, 5, 5, 6, 6,\n",
       "       5, 6, 6, 6, 6, 6, 5, 5, 6, 6, 6, 6, 5, 5, 6, 7, 6, 5, 6, 6, 6, 6,\n",
       "       6, 5, 6, 5, 6, 6, 6, 6, 6, 6, 6, 5, 5, 5, 6, 6, 6, 5, 5, 6, 5, 5,\n",
       "       5, 6, 6, 6, 6, 6, 6, 5, 5, 6, 5, 5, 5, 5, 6, 6, 6, 5, 6, 6, 7, 5,\n",
       "       6, 5, 6, 6, 6, 6, 5, 5, 7, 6, 6, 6, 6, 6, 6, 6, 5, 6, 5, 6, 5, 5,\n",
       "       6, 6, 6, 5, 6, 6, 6, 6, 8, 6, 6, 7, 6, 6, 5, 6, 6, 6, 6, 6, 6, 6,\n",
       "       6, 6, 5, 6, 5, 5, 6, 5, 6, 8, 6, 5, 5, 6, 5, 6, 6, 5, 6, 6, 6, 6,\n",
       "       5, 6, 6, 6, 6, 6, 6, 6, 6, 6, 5, 5, 6, 5, 6, 6, 6, 6, 6, 6, 5, 7,\n",
       "       5, 5, 5, 6, 6, 6, 5, 5, 6, 6, 6, 6, 5, 6, 6, 5, 5, 5, 6, 5, 5, 6,\n",
       "       6, 5, 6, 5, 5, 8, 6, 6, 6, 6, 6, 7, 6, 6, 6, 6, 5, 5, 6, 6, 6, 6,\n",
       "       5, 6, 5, 6, 5, 7, 6, 6, 5, 5, 6, 6, 6, 6, 6, 5, 5, 5, 5, 6, 6, 6,\n",
       "       5, 5, 6, 5, 5, 5, 6, 6, 5, 5, 5, 6, 5, 5, 5, 6, 6, 5, 6, 5, 6, 6,\n",
       "       6, 6, 5, 6, 5, 6, 6, 5, 5, 5, 5, 5, 6], dtype=int64)"
      ]
     },
     "execution_count": 150,
     "metadata": {},
     "output_type": "execute_result"
    }
   ],
   "source": [
    "pred"
   ]
  },
  {
   "cell_type": "code",
   "execution_count": 154,
   "id": "1e7bac6f",
   "metadata": {},
   "outputs": [
    {
     "data": {
      "text/plain": [
       "array([[  0,   0,   3,   2,   1,   0],\n",
       "       [  0,   0,  14,  19,   0,   0],\n",
       "       [  0,   0, 216, 193,   4,   1],\n",
       "       [  0,   0,  74, 286,  11,   4],\n",
       "       [  0,   0,  16,  88,  11,   3],\n",
       "       [  0,   0,   0,   9,   1,   3]], dtype=int64)"
      ]
     },
     "execution_count": 154,
     "metadata": {},
     "output_type": "execute_result"
    }
   ],
   "source": [
    "confusion_matrix(y_train,pred)"
   ]
  },
  {
   "cell_type": "code",
   "execution_count": null,
   "id": "f16665a9",
   "metadata": {},
   "outputs": [],
   "source": []
  }
 ],
 "metadata": {
  "kernelspec": {
   "display_name": "Python 3 (ipykernel)",
   "language": "python",
   "name": "python3"
  },
  "language_info": {
   "codemirror_mode": {
    "name": "ipython",
    "version": 3
   },
   "file_extension": ".py",
   "mimetype": "text/x-python",
   "name": "python",
   "nbconvert_exporter": "python",
   "pygments_lexer": "ipython3",
   "version": "3.9.7"
  }
 },
 "nbformat": 4,
 "nbformat_minor": 5
}
