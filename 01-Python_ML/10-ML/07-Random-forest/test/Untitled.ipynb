{
 "cells": [
  {
   "cell_type": "code",
   "execution_count": 29,
   "id": "1c405adf",
   "metadata": {},
   "outputs": [],
   "source": [
    "import pandas as pd\n",
    "import numpy as np\n",
    "import pickle\n",
    "import matplotlib.pyplot as plt\n",
    "import sklearn\n",
    "from sklearn import tree\n",
    "from sklearn.tree import DecisionTreeClassifier\n",
    "from sklearn.model_selection import train_test_split, GridSearchCV\n",
    "from sklearn.metrics import accuracy_score, roc_auc_score, roc_curve\n",
    "from pandas_profiling import ProfileReport\n",
    "%matplotlib inline\n",
    "from sklearn.ensemble import BaggingClassifier\n",
    "from sklearn.neighbors import KNeighborsClassifier\n",
    "from sklearn.ensemble import RandomForestClassifier"
   ]
  },
  {
   "cell_type": "code",
   "execution_count": 7,
   "id": "ae19e615",
   "metadata": {},
   "outputs": [],
   "source": [
    "df = pd.read_csv(\"https://raw.githubusercontent.com/aniruddhachoudhury/Red-Wine-Quality/master/winequality-red.csv\")"
   ]
  },
  {
   "cell_type": "code",
   "execution_count": 8,
   "id": "0258bce0",
   "metadata": {},
   "outputs": [
    {
     "data": {
      "text/html": [
       "<div>\n",
       "<style scoped>\n",
       "    .dataframe tbody tr th:only-of-type {\n",
       "        vertical-align: middle;\n",
       "    }\n",
       "\n",
       "    .dataframe tbody tr th {\n",
       "        vertical-align: top;\n",
       "    }\n",
       "\n",
       "    .dataframe thead th {\n",
       "        text-align: right;\n",
       "    }\n",
       "</style>\n",
       "<table border=\"1\" class=\"dataframe\">\n",
       "  <thead>\n",
       "    <tr style=\"text-align: right;\">\n",
       "      <th></th>\n",
       "      <th>fixed acidity</th>\n",
       "      <th>volatile acidity</th>\n",
       "      <th>citric acid</th>\n",
       "      <th>residual sugar</th>\n",
       "      <th>chlorides</th>\n",
       "      <th>free sulfur dioxide</th>\n",
       "      <th>total sulfur dioxide</th>\n",
       "      <th>density</th>\n",
       "      <th>pH</th>\n",
       "      <th>sulphates</th>\n",
       "      <th>alcohol</th>\n",
       "      <th>quality</th>\n",
       "    </tr>\n",
       "  </thead>\n",
       "  <tbody>\n",
       "    <tr>\n",
       "      <th>0</th>\n",
       "      <td>7.4</td>\n",
       "      <td>0.70</td>\n",
       "      <td>0.00</td>\n",
       "      <td>1.9</td>\n",
       "      <td>0.076</td>\n",
       "      <td>11.0</td>\n",
       "      <td>34.0</td>\n",
       "      <td>0.9978</td>\n",
       "      <td>3.51</td>\n",
       "      <td>0.56</td>\n",
       "      <td>9.4</td>\n",
       "      <td>5</td>\n",
       "    </tr>\n",
       "    <tr>\n",
       "      <th>1</th>\n",
       "      <td>7.8</td>\n",
       "      <td>0.88</td>\n",
       "      <td>0.00</td>\n",
       "      <td>2.6</td>\n",
       "      <td>0.098</td>\n",
       "      <td>25.0</td>\n",
       "      <td>67.0</td>\n",
       "      <td>0.9968</td>\n",
       "      <td>3.20</td>\n",
       "      <td>0.68</td>\n",
       "      <td>9.8</td>\n",
       "      <td>5</td>\n",
       "    </tr>\n",
       "    <tr>\n",
       "      <th>2</th>\n",
       "      <td>7.8</td>\n",
       "      <td>0.76</td>\n",
       "      <td>0.04</td>\n",
       "      <td>2.3</td>\n",
       "      <td>0.092</td>\n",
       "      <td>15.0</td>\n",
       "      <td>54.0</td>\n",
       "      <td>0.9970</td>\n",
       "      <td>3.26</td>\n",
       "      <td>0.65</td>\n",
       "      <td>9.8</td>\n",
       "      <td>5</td>\n",
       "    </tr>\n",
       "    <tr>\n",
       "      <th>3</th>\n",
       "      <td>11.2</td>\n",
       "      <td>0.28</td>\n",
       "      <td>0.56</td>\n",
       "      <td>1.9</td>\n",
       "      <td>0.075</td>\n",
       "      <td>17.0</td>\n",
       "      <td>60.0</td>\n",
       "      <td>0.9980</td>\n",
       "      <td>3.16</td>\n",
       "      <td>0.58</td>\n",
       "      <td>9.8</td>\n",
       "      <td>6</td>\n",
       "    </tr>\n",
       "    <tr>\n",
       "      <th>4</th>\n",
       "      <td>7.4</td>\n",
       "      <td>0.70</td>\n",
       "      <td>0.00</td>\n",
       "      <td>1.9</td>\n",
       "      <td>0.076</td>\n",
       "      <td>11.0</td>\n",
       "      <td>34.0</td>\n",
       "      <td>0.9978</td>\n",
       "      <td>3.51</td>\n",
       "      <td>0.56</td>\n",
       "      <td>9.4</td>\n",
       "      <td>5</td>\n",
       "    </tr>\n",
       "  </tbody>\n",
       "</table>\n",
       "</div>"
      ],
      "text/plain": [
       "   fixed acidity  volatile acidity  citric acid  residual sugar  chlorides  \\\n",
       "0            7.4              0.70         0.00             1.9      0.076   \n",
       "1            7.8              0.88         0.00             2.6      0.098   \n",
       "2            7.8              0.76         0.04             2.3      0.092   \n",
       "3           11.2              0.28         0.56             1.9      0.075   \n",
       "4            7.4              0.70         0.00             1.9      0.076   \n",
       "\n",
       "   free sulfur dioxide  total sulfur dioxide  density    pH  sulphates  \\\n",
       "0                 11.0                  34.0   0.9978  3.51       0.56   \n",
       "1                 25.0                  67.0   0.9968  3.20       0.68   \n",
       "2                 15.0                  54.0   0.9970  3.26       0.65   \n",
       "3                 17.0                  60.0   0.9980  3.16       0.58   \n",
       "4                 11.0                  34.0   0.9978  3.51       0.56   \n",
       "\n",
       "   alcohol  quality  \n",
       "0      9.4        5  \n",
       "1      9.8        5  \n",
       "2      9.8        5  \n",
       "3      9.8        6  \n",
       "4      9.4        5  "
      ]
     },
     "execution_count": 8,
     "metadata": {},
     "output_type": "execute_result"
    }
   ],
   "source": [
    "df.head()"
   ]
  },
  {
   "cell_type": "code",
   "execution_count": 9,
   "id": "341dea5b",
   "metadata": {},
   "outputs": [],
   "source": [
    "x = df.drop(columns='quality')"
   ]
  },
  {
   "cell_type": "code",
   "execution_count": 11,
   "id": "b9796a70",
   "metadata": {},
   "outputs": [],
   "source": [
    "y = df.quality"
   ]
  },
  {
   "cell_type": "code",
   "execution_count": 74,
   "id": "e395c60d",
   "metadata": {},
   "outputs": [],
   "source": [
    "x_train, x_test, y_train, y_test=train_test_split(x,y, test_size = 0.50, random_state=200)"
   ]
  },
  {
   "cell_type": "code",
   "execution_count": 18,
   "id": "bdf3381e",
   "metadata": {},
   "outputs": [],
   "source": [
    "bag_dt = BaggingClassifier(DecisionTreeClassifier(), n_estimators=50)"
   ]
  },
  {
   "cell_type": "code",
   "execution_count": 19,
   "id": "8c095b2d",
   "metadata": {},
   "outputs": [
    {
     "data": {
      "text/plain": [
       "BaggingClassifier(base_estimator=DecisionTreeClassifier(), n_estimators=50)"
      ]
     },
     "execution_count": 19,
     "metadata": {},
     "output_type": "execute_result"
    }
   ],
   "source": [
    "bag_dt.fit(x_train,y_train)"
   ]
  },
  {
   "cell_type": "code",
   "execution_count": 20,
   "id": "e0397344",
   "metadata": {},
   "outputs": [
    {
     "data": {
      "text/plain": [
       "0.7"
      ]
     },
     "execution_count": 20,
     "metadata": {},
     "output_type": "execute_result"
    }
   ],
   "source": [
    "bag_dt.score(x_test,y_test)"
   ]
  },
  {
   "cell_type": "code",
   "execution_count": 21,
   "id": "c9e4e5e0",
   "metadata": {},
   "outputs": [
    {
     "data": {
      "text/plain": [
       "DecisionTreeClassifier()"
      ]
     },
     "execution_count": 21,
     "metadata": {},
     "output_type": "execute_result"
    }
   ],
   "source": [
    "bag_dt.base_estimator"
   ]
  },
  {
   "cell_type": "code",
   "execution_count": 22,
   "id": "3a5ee96d",
   "metadata": {},
   "outputs": [
    {
     "data": {
      "text/plain": [
       "array([3, 4, 5, 6, 7, 8], dtype=int64)"
      ]
     },
     "execution_count": 22,
     "metadata": {},
     "output_type": "execute_result"
    }
   ],
   "source": [
    "bag_dt.classes_"
   ]
  },
  {
   "cell_type": "code",
   "execution_count": 24,
   "id": "afb01a62",
   "metadata": {},
   "outputs": [
    {
     "data": {
      "text/plain": [
       "()"
      ]
     },
     "execution_count": 24,
     "metadata": {},
     "output_type": "execute_result"
    }
   ],
   "source": [
    "bag_dt.estimator_params"
   ]
  },
  {
   "cell_type": "code",
   "execution_count": 26,
   "id": "05d4826a",
   "metadata": {},
   "outputs": [],
   "source": [
    "bag_knn = BaggingClassifier(KNeighborsClassifier(6), n_estimators=50)"
   ]
  },
  {
   "cell_type": "code",
   "execution_count": 27,
   "id": "a7f7038d",
   "metadata": {},
   "outputs": [
    {
     "data": {
      "text/plain": [
       "BaggingClassifier(base_estimator=KNeighborsClassifier(n_neighbors=6),\n",
       "                  n_estimators=50)"
      ]
     },
     "execution_count": 27,
     "metadata": {},
     "output_type": "execute_result"
    }
   ],
   "source": [
    "bag_knn.fit(x_train, y_train)"
   ]
  },
  {
   "cell_type": "code",
   "execution_count": 28,
   "id": "81d46f87",
   "metadata": {},
   "outputs": [
    {
     "data": {
      "text/plain": [
       "0.5"
      ]
     },
     "execution_count": 28,
     "metadata": {},
     "output_type": "execute_result"
    }
   ],
   "source": [
    "bag_knn.score(x_test,y_test)"
   ]
  },
  {
   "cell_type": "code",
   "execution_count": 30,
   "id": "59a92309",
   "metadata": {},
   "outputs": [],
   "source": [
    "bag_rf = RandomForestClassifier(n_estimators=10)"
   ]
  },
  {
   "cell_type": "code",
   "execution_count": 31,
   "id": "4540bab4",
   "metadata": {},
   "outputs": [
    {
     "data": {
      "text/plain": [
       "RandomForestClassifier(n_estimators=10)"
      ]
     },
     "execution_count": 31,
     "metadata": {},
     "output_type": "execute_result"
    }
   ],
   "source": [
    "bag_rf.fit(x_train,y_train)"
   ]
  },
  {
   "cell_type": "code",
   "execution_count": 32,
   "id": "f7f35a44",
   "metadata": {},
   "outputs": [
    {
     "data": {
      "text/plain": [
       "0.684375"
      ]
     },
     "execution_count": 32,
     "metadata": {},
     "output_type": "execute_result"
    }
   ],
   "source": [
    "bag_rf.score(x_test,y_test)"
   ]
  },
  {
   "cell_type": "code",
   "execution_count": 57,
   "id": "d89b4b8e",
   "metadata": {},
   "outputs": [],
   "source": [
    "grid_param = {\n",
    "    \"n_estimators\" : [50,70,100,120],\n",
    "    \"criterion\" : [\"gini\", \"entropy\"],\n",
    "    \"max_depth\" : range(10),\n",
    "    \"min_samples_leaf\" : range(10)\n",
    "}\n",
    "\n",
    "\n"
   ]
  },
  {
   "cell_type": "code",
   "execution_count": null,
   "id": "99599139",
   "metadata": {},
   "outputs": [],
   "source": []
  },
  {
   "cell_type": "code",
   "execution_count": 58,
   "id": "44e4c558",
   "metadata": {},
   "outputs": [],
   "source": [
    "Gr_rf=GridSearchCV(param_grid=grid_param,n_jobs=-1, cv=10,verbose=1,estimator=bag_rf)"
   ]
  },
  {
   "cell_type": "code",
   "execution_count": 59,
   "id": "5edac0d8",
   "metadata": {},
   "outputs": [
    {
     "name": "stdout",
     "output_type": "stream",
     "text": [
      "Fitting 10 folds for each of 800 candidates, totalling 8000 fits\n"
     ]
    },
    {
     "name": "stderr",
     "output_type": "stream",
     "text": [
      "C:\\Users\\Delll\\anaconda3\\lib\\site-packages\\sklearn\\model_selection\\_split.py:666: UserWarning: The least populated class in y has only 8 members, which is less than n_splits=10.\n",
      "  warnings.warn((\"The least populated class in y has only %d\"\n",
      "C:\\Users\\Delll\\anaconda3\\lib\\site-packages\\sklearn\\model_selection\\_search.py:922: UserWarning: One or more of the test scores are non-finite: [       nan        nan        nan        nan        nan        nan\n",
      "        nan        nan        nan        nan        nan        nan\n",
      "        nan        nan        nan        nan        nan        nan\n",
      "        nan        nan        nan        nan        nan        nan\n",
      "        nan        nan        nan        nan        nan        nan\n",
      "        nan        nan        nan        nan        nan        nan\n",
      "        nan        nan        nan        nan        nan        nan\n",
      "        nan        nan 0.53808114 0.53910088 0.54538377 0.54951754\n",
      " 0.5401864  0.55266447 0.54223684 0.53701754 0.54430921 0.54015351\n",
      " 0.53911184 0.54223684 0.54225877 0.53699561 0.53911184 0.54014254\n",
      " 0.54428728 0.52760965 0.55578947 0.54326754 0.53697368 0.54224781\n",
      " 0.53703947 0.54849781 0.54533991 0.53805921 0.54324561 0.54119518\n",
      " 0.53389254 0.53600877 0.53389254 0.54013158 0.54323465 0.53497807\n",
      " 0.54328947 0.54015351        nan        nan        nan        nan\n",
      " 0.54640351 0.55267544 0.54328947 0.54641447 0.5464364  0.54537281\n",
      " 0.55475877 0.56205044 0.54745614 0.55474781 0.54850877 0.56307018\n",
      " 0.55368421 0.54641447 0.54955044 0.54223684 0.53703947 0.54747807\n",
      " 0.55683114 0.55161184 0.55577851 0.55578947 0.55058114 0.55163377\n",
      " 0.54746711 0.54536184 0.54641447 0.54641447 0.55474781 0.55370614\n",
      " 0.55892544 0.55787281 0.55788377 0.55369518 0.55059211 0.55788377\n",
      "        nan        nan        nan        nan 0.56515351 0.56828947\n",
      " 0.56517544 0.56516447 0.55890351 0.57351974 0.56723684 0.56724781\n",
      " 0.56200658 0.55578947 0.56411184 0.56621711 0.56619518 0.57142544\n",
      " 0.56100877 0.56620614 0.56413377 0.57559211 0.57039474 0.57350877\n",
      " 0.56827851 0.55993421 0.57453947 0.56830044 0.55890351 0.56515351\n",
      " 0.56100877 0.57663377 0.55783991 0.57247807 0.56516447 0.56621711\n",
      " 0.5641557  0.56515351 0.56205044 0.57038377        nan        nan\n",
      "        nan        nan 0.57555921 0.58703947 0.58183114 0.57871711\n",
      " 0.57765351 0.58082237 0.5839364  0.58599781 0.57559211 0.58184211\n",
      " 0.57663377 0.57767544 0.58600877 0.5745614  0.58497807 0.58287281\n",
      " 0.57451754 0.57560307 0.57347588 0.57140351 0.56410088 0.57351974\n",
      " 0.57558114 0.57767544 0.58082237 0.57035088 0.5745614  0.58182018\n",
      " 0.5766557  0.57873904 0.58185307 0.57559211 0.56830044 0.57247807\n",
      " 0.57559211 0.57662281        nan        nan        nan        nan\n",
      " 0.58497807 0.58182018 0.58495614 0.58287281 0.57660088 0.57870614\n",
      " 0.59121711 0.5776864  0.57457237 0.58701754 0.57976974 0.57766447\n",
      " 0.58185307 0.58075658 0.57873904 0.57557018 0.58497807 0.57972588\n",
      " 0.58182018 0.58182018 0.58599781 0.56725877 0.5808114  0.5829057\n",
      " 0.58811404 0.57871711 0.57872807 0.57664474 0.57350877 0.56933114\n",
      " 0.57767544 0.57350877 0.57141447 0.58288377 0.57141447 0.57038377\n",
      "        nan        nan        nan        nan 0.58913377 0.59225877\n",
      " 0.59642544 0.58599781 0.59641447 0.59746711 0.59125    0.59016447\n",
      " 0.58495614 0.58913377 0.59016447 0.58599781 0.59119518 0.58808114\n",
      " 0.58912281 0.5860307  0.58182018 0.58392544 0.58186404 0.58914474\n",
      " 0.58289474 0.56828947 0.5870614  0.57871711 0.57554825 0.59019737\n",
      " 0.57766447 0.58708333 0.56936404 0.57453947 0.58494518 0.5808114\n",
      " 0.5766557  0.57453947 0.58392544 0.57455044        nan        nan\n",
      "        nan        nan 0.60061404 0.5995614  0.60267544 0.59537281\n",
      " 0.59851974 0.59953947 0.59747807 0.60160088 0.5995614  0.59226974\n",
      " 0.59536184 0.6026864  0.60375    0.59330044 0.58912281 0.5891557\n",
      " 0.58292763 0.59224781 0.59642544 0.59644737 0.58287281 0.59225877\n",
      " 0.60686404 0.58917763 0.5891557  0.57973684 0.60167763 0.59020833\n",
      " 0.5870614  0.5860307  0.59538377 0.59539474 0.57457237 0.57348684\n",
      " 0.58080044 0.58810307        nan        nan        nan        nan\n",
      " 0.6173136  0.60162281 0.61203947 0.6120614  0.60479167 0.60373904\n",
      " 0.60060307 0.600625   0.58703947 0.5922807  0.60061404 0.5964364\n",
      " 0.5995943  0.60269737 0.6047807  0.60057018 0.5985307  0.60480263\n",
      " 0.59225877 0.59330044 0.59225877 0.59120614 0.5954057  0.60792763\n",
      " 0.58288377 0.59330044 0.59123904 0.59645833 0.59333333 0.58287281\n",
      " 0.59121711 0.59016447 0.58390351 0.58394737 0.58184211 0.58601974\n",
      "        nan        nan        nan        nan 0.61414474 0.60996711\n",
      " 0.61414474 0.61412281 0.59744518 0.61412281 0.59747807 0.61412281\n",
      " 0.59639254 0.6089364  0.59120614 0.59851974 0.59854167 0.5985307\n",
      " 0.59746711 0.60895833 0.61516447 0.5985307  0.60895833 0.59434211\n",
      " 0.59957237 0.59748904 0.59332237 0.5995614  0.59751096 0.59854167\n",
      " 0.58389254 0.60064693 0.58601974 0.59017544 0.5985307  0.5839364\n",
      " 0.59436404 0.5870614  0.58395833 0.58080044        nan        nan\n",
      "        nan        nan        nan        nan        nan        nan\n",
      "        nan        nan        nan        nan        nan        nan\n",
      "        nan        nan        nan        nan        nan        nan\n",
      "        nan        nan        nan        nan        nan        nan\n",
      "        nan        nan        nan        nan        nan        nan\n",
      "        nan        nan        nan        nan        nan        nan\n",
      "        nan        nan        nan        nan        nan        nan\n",
      " 0.52241228 0.52764254 0.53075658 0.54014254 0.52241228 0.53282895\n",
      " 0.53804825 0.53281798 0.52554825 0.52763158 0.53180921 0.52867325\n",
      " 0.53389254 0.52452851 0.53073465 0.53074561 0.52450658 0.52553728\n",
      " 0.53074561 0.52449561 0.53387061 0.54115132 0.53076754 0.53390351\n",
      " 0.53595395 0.53179825 0.52243421 0.53387061 0.52137061 0.52345395\n",
      " 0.53178728 0.53491228 0.52033991 0.53908991 0.53283991 0.53177632\n",
      "        nan        nan        nan        nan 0.54221491 0.53908991\n",
      " 0.53908991 0.54326754 0.53595395 0.54014254 0.54014254 0.53494518\n",
      " 0.54639254 0.54222588 0.53493421 0.53282895 0.54430921 0.53908991\n",
      " 0.53702851 0.53908991 0.54117325 0.54118421 0.52972588 0.54430921\n",
      " 0.53075658 0.53702851 0.53596491 0.54951754 0.54428728 0.53805921\n",
      " 0.53701754 0.54117325 0.53388158 0.54014254 0.54429825 0.53282895\n",
      " 0.53282895 0.54013158 0.53493421 0.53702851        nan        nan\n",
      "        nan        nan 0.5558114  0.55369518 0.55266447 0.55266447\n",
      " 0.55786184 0.54849781 0.55472588 0.55786184 0.55161184 0.55789474\n",
      " 0.55889254 0.55890351 0.54742325 0.55472588 0.55891447 0.55577851\n",
      " 0.55370614 0.56516447 0.55892544 0.56309211 0.54950658 0.55891447\n",
      " 0.54743421 0.56099781 0.55682018 0.55994518 0.55682018 0.55786184\n",
      " 0.55372807 0.55788377 0.55787281 0.55369518 0.55368421 0.56828947\n",
      " 0.55578947 0.56413377        nan        nan        nan        nan\n",
      " 0.56830044 0.5683114  0.5683114  0.56827851 0.56726974 0.56517544\n",
      " 0.57039474 0.56930921 0.57246711 0.55994518 0.58186404 0.56827851\n",
      " 0.57244518 0.56412281 0.55889254 0.56620614 0.56101974 0.55995614\n",
      " 0.55995614 0.56934211 0.56832237 0.56099781 0.56516447 0.57351974\n",
      " 0.56935307 0.56935307 0.56933114 0.56622807 0.57039474 0.56520833\n",
      " 0.5683114  0.56620614 0.56411184 0.56830044 0.56830044 0.57037281\n",
      "        nan        nan        nan        nan 0.58185307 0.57662281\n",
      " 0.58601974 0.58495614 0.57036184 0.58395833 0.58183114 0.57664474\n",
      " 0.57561404 0.57560307 0.57246711 0.5829057  0.57038377 0.59333333\n",
      " 0.57139254 0.56203947 0.58077851 0.5766557  0.56933114 0.58392544\n",
      " 0.55059211 0.56935307 0.5829386  0.57560307 0.57452851 0.57876096\n",
      " 0.58080044 0.57141447 0.56724781 0.57347588 0.57039474 0.57038377\n",
      " 0.55889254 0.56729167 0.55684211 0.5641557         nan        nan\n",
      "        nan        nan 0.58185307 0.58184211 0.59644737 0.58811404\n",
      " 0.57870614 0.588125   0.59957237 0.58185307 0.5839693  0.58289474\n",
      " 0.58394737 0.58496711 0.57345395 0.58497807 0.5797807  0.58814693\n",
      " 0.5776864  0.5808114  0.58392544 0.58496711 0.58287281 0.56725877\n",
      " 0.57767544 0.58392544 0.57453947 0.57247807 0.57248904 0.57661184\n",
      " 0.57871711 0.57666667 0.5776864  0.57663377 0.56621711 0.57350877\n",
      " 0.56828947 0.57560307        nan        nan        nan        nan\n",
      " 0.5891557  0.600625   0.59851974 0.60270833 0.6089364  0.5901864\n",
      " 0.59229167 0.58707237 0.594375   0.5902193  0.60794956 0.59436404\n",
      " 0.5901864  0.5891557  0.59751096 0.59542763 0.57875    0.57458333\n",
      " 0.58914474 0.59225877 0.59332237 0.59121711 0.59017544 0.5891557\n",
      " 0.58809211 0.57561404 0.58809211 0.58813596 0.59019737 0.58080044\n",
      " 0.58080044 0.58604167 0.5829386  0.56935307 0.57455044 0.57766447\n",
      "        nan        nan        nan        nan 0.60375    0.60061404\n",
      " 0.60685307 0.59850877 0.60375    0.6047807  0.59436404 0.60266447\n",
      " 0.60375    0.5995614  0.59748904 0.60371711 0.58282895 0.57975877\n",
      " 0.5954057  0.60476974 0.59225877 0.58497807 0.60372807 0.58392544\n",
      " 0.58495614 0.59955044 0.59960526 0.58811404 0.58288377 0.5901864\n",
      " 0.58810307 0.58184211 0.58912281 0.58914474 0.58083333 0.57662281\n",
      " 0.58604167 0.57869518 0.58184211 0.5839364         nan        nan\n",
      "        nan        nan 0.61314693 0.6016557  0.6172807  0.6016557\n",
      " 0.6089693  0.60265351 0.61205044 0.61621711 0.60164474 0.61205044\n",
      " 0.60371711 0.59747807 0.59226974 0.59746711 0.59119518 0.606875\n",
      " 0.58286184 0.59435307 0.5964364  0.60063596 0.59747807 0.59126096\n",
      " 0.606875   0.58708333 0.58708333 0.57868421 0.59747807 0.59958333\n",
      " 0.59226974 0.58501096 0.58391447 0.58916667 0.58497807 0.5829057\n",
      " 0.58184211 0.5829057 ]\n",
      "  warnings.warn(\n"
     ]
    },
    {
     "data": {
      "text/plain": [
       "GridSearchCV(cv=10, estimator=RandomForestClassifier(n_estimators=10),\n",
       "             n_jobs=-1,\n",
       "             param_grid={'criterion': ['gini', 'entropy'],\n",
       "                         'max_depth': range(0, 10),\n",
       "                         'min_samples_leaf': range(0, 10),\n",
       "                         'n_estimators': [50, 70, 100, 120]},\n",
       "             verbose=1)"
      ]
     },
     "execution_count": 59,
     "metadata": {},
     "output_type": "execute_result"
    }
   ],
   "source": [
    "Gr_rf.fit(x_train,y_train)"
   ]
  },
  {
   "cell_type": "code",
   "execution_count": 60,
   "id": "cb0be526",
   "metadata": {},
   "outputs": [
    {
     "data": {
      "text/plain": [
       "{'criterion': 'gini',\n",
       " 'max_depth': 8,\n",
       " 'min_samples_leaf': 1,\n",
       " 'n_estimators': 50}"
      ]
     },
     "execution_count": 60,
     "metadata": {},
     "output_type": "execute_result"
    }
   ],
   "source": [
    "Gr_rf.best_params_"
   ]
  },
  {
   "cell_type": "code",
   "execution_count": 61,
   "id": "48304750",
   "metadata": {},
   "outputs": [],
   "source": [
    "new_rf = RandomForestClassifier(criterion='entropy', max_depth=8,min_samples_leaf=1,n_estimators=50)"
   ]
  },
  {
   "cell_type": "code",
   "execution_count": 75,
   "id": "a7dbbefc",
   "metadata": {},
   "outputs": [
    {
     "data": {
      "text/plain": [
       "RandomForestClassifier(criterion='entropy', max_depth=8, n_estimators=50)"
      ]
     },
     "execution_count": 75,
     "metadata": {},
     "output_type": "execute_result"
    }
   ],
   "source": [
    "new_rf.fit(x_train,y_train)"
   ]
  },
  {
   "cell_type": "code",
   "execution_count": 76,
   "id": "2c2cb532",
   "metadata": {},
   "outputs": [
    {
     "data": {
      "text/plain": [
       "0.68375"
      ]
     },
     "execution_count": 76,
     "metadata": {},
     "output_type": "execute_result"
    }
   ],
   "source": [
    "new_rf.score(x_test,y_test)"
   ]
  },
  {
   "cell_type": "code",
   "execution_count": null,
   "id": "f8c44b9d",
   "metadata": {},
   "outputs": [],
   "source": []
  }
 ],
 "metadata": {
  "kernelspec": {
   "display_name": "Python 3 (ipykernel)",
   "language": "python",
   "name": "python3"
  },
  "language_info": {
   "codemirror_mode": {
    "name": "ipython",
    "version": 3
   },
   "file_extension": ".py",
   "mimetype": "text/x-python",
   "name": "python",
   "nbconvert_exporter": "python",
   "pygments_lexer": "ipython3",
   "version": "3.9.7"
  }
 },
 "nbformat": 4,
 "nbformat_minor": 5
}
