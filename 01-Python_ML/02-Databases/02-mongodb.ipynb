{
 "cells": [
  {
   "cell_type": "code",
   "execution_count": 1,
   "id": "8db2738c",
   "metadata": {},
   "outputs": [
    {
     "name": "stdout",
     "output_type": "stream",
     "text": [
      "Requirement already satisfied: pymongo in c:\\users\\delll\\anaconda3\\lib\\site-packages (4.0.1)\n"
     ]
    }
   ],
   "source": [
    "!python -m pip install pymongo"
   ]
  },
  {
   "cell_type": "code",
   "execution_count": 2,
   "id": "846d477a",
   "metadata": {},
   "outputs": [
    {
     "name": "stdout",
     "output_type": "stream",
     "text": [
      "Requirement already satisfied: pymongo[srv] in c:\\users\\delll\\anaconda3\\lib\\site-packages (4.0.1)\n",
      "Requirement already satisfied: dnspython<3.0.0,>=1.16.0 in c:\\users\\delll\\anaconda3\\lib\\site-packages (from pymongo[srv]) (2.1.0)\n"
     ]
    }
   ],
   "source": [
    "!pip install pymongo[srv]"
   ]
  },
  {
   "cell_type": "code",
   "execution_count": null,
   "id": "90bf774f",
   "metadata": {},
   "outputs": [],
   "source": []
  },
  {
   "cell_type": "code",
   "execution_count": null,
   "id": "c8655cde",
   "metadata": {},
   "outputs": [],
   "source": []
  },
  {
   "cell_type": "code",
   "execution_count": 2,
   "id": "38204ae7",
   "metadata": {},
   "outputs": [],
   "source": [
    "import pymongo"
   ]
  },
  {
   "cell_type": "code",
   "execution_count": 3,
   "id": "986144c7",
   "metadata": {},
   "outputs": [],
   "source": [
    "client = pymongo.MongoClient(\"mongodb://localhost:27017\")"
   ]
  },
  {
   "cell_type": "code",
   "execution_count": 4,
   "id": "67d203ec",
   "metadata": {},
   "outputs": [
    {
     "data": {
      "text/plain": [
       "MongoClient(host=['localhost:27017'], document_class=dict, tz_aware=False, connect=True)"
      ]
     },
     "execution_count": 4,
     "metadata": {},
     "output_type": "execute_result"
    }
   ],
   "source": [
    "client"
   ]
  },
  {
   "cell_type": "code",
   "execution_count": 5,
   "id": "523a04c6",
   "metadata": {},
   "outputs": [
    {
     "ename": "SyntaxError",
     "evalue": "invalid syntax (Temp/ipykernel_10864/2936055502.py, line 1)",
     "output_type": "error",
     "traceback": [
      "\u001b[1;36m  File \u001b[1;32m\"C:\\Users\\Delll\\AppData\\Local\\Temp/ipykernel_10864/2936055502.py\"\u001b[1;36m, line \u001b[1;32m1\u001b[0m\n\u001b[1;33m    show collections\u001b[0m\n\u001b[1;37m         ^\u001b[0m\n\u001b[1;31mSyntaxError\u001b[0m\u001b[1;31m:\u001b[0m invalid syntax\n"
     ]
    }
   ],
   "source": [
    "show collections"
   ]
  },
  {
   "cell_type": "code",
   "execution_count": 8,
   "id": "07fe734c",
   "metadata": {},
   "outputs": [],
   "source": [
    "# Create Database\n",
    "# once we insert the value after that, we can see the database."
   ]
  },
  {
   "cell_type": "code",
   "execution_count": 13,
   "id": "9e1db5fe",
   "metadata": {},
   "outputs": [],
   "source": [
    "db_1 = client[\"sachin\"]"
   ]
  },
  {
   "cell_type": "code",
   "execution_count": 10,
   "id": "825d3db3",
   "metadata": {},
   "outputs": [
    {
     "data": {
      "text/plain": [
       "['admin', 'config', 'local', 'sachin']"
      ]
     },
     "execution_count": 10,
     "metadata": {},
     "output_type": "execute_result"
    }
   ],
   "source": [
    "# list all the databases\n",
    "\n",
    "client.list_database_names()"
   ]
  },
  {
   "cell_type": "code",
   "execution_count": 11,
   "id": "a35b61f5",
   "metadata": {},
   "outputs": [
    {
     "data": {
      "text/plain": [
       "Database(MongoClient(host=['localhost:27017'], document_class=dict, tz_aware=False, connect=True), 'sachin')"
      ]
     },
     "execution_count": 11,
     "metadata": {},
     "output_type": "execute_result"
    }
   ],
   "source": [
    "db_1"
   ]
  },
  {
   "cell_type": "code",
   "execution_count": 12,
   "id": "b63246e2",
   "metadata": {},
   "outputs": [
    {
     "ename": "NameError",
     "evalue": "name 'sachin' is not defined",
     "output_type": "error",
     "traceback": [
      "\u001b[1;31m---------------------------------------------------------------------------\u001b[0m",
      "\u001b[1;31mNameError\u001b[0m                                 Traceback (most recent call last)",
      "\u001b[1;32m~\\AppData\\Local\\Temp/ipykernel_10864/3236616925.py\u001b[0m in \u001b[0;36m<module>\u001b[1;34m\u001b[0m\n\u001b[1;32m----> 1\u001b[1;33m \u001b[0msachin\u001b[0m\u001b[1;33m[\u001b[0m\u001b[1;34m\"test1\"\u001b[0m\u001b[1;33m]\u001b[0m\u001b[1;33m\u001b[0m\u001b[1;33m\u001b[0m\u001b[0m\n\u001b[0m",
      "\u001b[1;31mNameError\u001b[0m: name 'sachin' is not defined"
     ]
    }
   ],
   "source": [
    "sachin[\"test1\"]"
   ]
  },
  {
   "cell_type": "code",
   "execution_count": 12,
   "id": "db35a119",
   "metadata": {},
   "outputs": [],
   "source": [
    "# Create table (collection)"
   ]
  },
  {
   "cell_type": "code",
   "execution_count": 16,
   "id": "5fe685f9",
   "metadata": {},
   "outputs": [],
   "source": [
    "collection_1 = db_1[\"test\"]"
   ]
  },
  {
   "cell_type": "code",
   "execution_count": 14,
   "id": "5048e73e",
   "metadata": {},
   "outputs": [
    {
     "data": {
      "text/plain": [
       "Collection(Database(MongoClient(host=['localhost:27017'], document_class=dict, tz_aware=False, connect=True), 'sachin'), 'test')"
      ]
     },
     "execution_count": 14,
     "metadata": {},
     "output_type": "execute_result"
    }
   ],
   "source": [
    "collection_1"
   ]
  },
  {
   "cell_type": "code",
   "execution_count": null,
   "id": "2be6ec23",
   "metadata": {},
   "outputs": [],
   "source": []
  },
  {
   "cell_type": "code",
   "execution_count": 15,
   "id": "9e35732e",
   "metadata": {},
   "outputs": [],
   "source": [
    "# insert data in collection(table)"
   ]
  },
  {
   "cell_type": "code",
   "execution_count": 17,
   "id": "7ff2460d",
   "metadata": {},
   "outputs": [
    {
     "data": {
      "text/plain": [
       "<pymongo.results.InsertOneResult at 0x1c882a4da00>"
      ]
     },
     "execution_count": 17,
     "metadata": {},
     "output_type": "execute_result"
    }
   ],
   "source": [
    "record = {'CompanyName' : 'DS',\n",
    "          'Product' : 'FSDS',\n",
    "          'Course' : 'MLDL'    \n",
    "}\n",
    "\n",
    "collection_1.insert_one(record)"
   ]
  },
  {
   "cell_type": "code",
   "execution_count": 19,
   "id": "ca074af5",
   "metadata": {},
   "outputs": [
    {
     "data": {
      "text/plain": [
       "<pymongo.results.InsertOneResult at 0x1c881f2bd00>"
      ]
     },
     "execution_count": 19,
     "metadata": {},
     "output_type": "execute_result"
    }
   ],
   "source": [
    "record = {'CompanyName' : 'DS',\n",
    "          'Product' : 'FSDS',\n",
    "          'Course' : 'MLDL',  \n",
    "          'batch': [\"weekday\",\"weekend\"]\n",
    "}\n",
    "collection_1.insert_one(record)\n"
   ]
  },
  {
   "cell_type": "code",
   "execution_count": 20,
   "id": "bdd4c9e8",
   "metadata": {},
   "outputs": [
    {
     "data": {
      "text/plain": [
       "<pymongo.results.InsertOneResult at 0x1c882e0fe80>"
      ]
     },
     "execution_count": 20,
     "metadata": {},
     "output_type": "execute_result"
    }
   ],
   "source": [
    "record = {'CompanyName' : 'DS',\n",
    "          'Product' : 'FSDS',\n",
    "          'Course' : 'MLDL',  \n",
    "          'batch': [\"weekday\",\"weekend\"],\n",
    "          'record_dict' : {\"name\": 'sachin', 'email_id':'abc@gmail.com', 'Dept' :'IT'}\n",
    "}\n",
    "\n",
    "collection_1.insert_one(record)"
   ]
  },
  {
   "cell_type": "code",
   "execution_count": null,
   "id": "adae841d",
   "metadata": {},
   "outputs": [],
   "source": []
  },
  {
   "cell_type": "code",
   "execution_count": null,
   "id": "a292b8a3",
   "metadata": {},
   "outputs": [],
   "source": []
  },
  {
   "cell_type": "code",
   "execution_count": 21,
   "id": "c2d9fe13",
   "metadata": {},
   "outputs": [
    {
     "data": {
      "text/plain": [
       "<pymongo.results.InsertOneResult at 0x1c882e49980>"
      ]
     },
     "execution_count": 21,
     "metadata": {},
     "output_type": "execute_result"
    }
   ],
   "source": [
    "import pymongo\n",
    "client = pymongo.MongoClient(\"mongodb://localhost:27017\")\n",
    "client\n",
    "db_1 = client[\"sachin\"]\n",
    "collection_1 = db_1[\"test\"]\n",
    "record = {'CompanyName' : 'DS',\n",
    "          'Product' : 'FSDS',\n",
    "          'Course' : 'MLDL',  \n",
    "          'batch': [\"weekday\",\"weekend\"],\n",
    "          'record_dict' : {\"name\": 'sachin', 'email_id':'abc@gmail.com', 'Dept' :'IT'}\n",
    "}\n",
    "\n",
    "collection_1.insert_one(record)\n"
   ]
  },
  {
   "cell_type": "code",
   "execution_count": null,
   "id": "2bb7ef12",
   "metadata": {},
   "outputs": [],
   "source": []
  },
  {
   "cell_type": "code",
   "execution_count": null,
   "id": "1f96597a",
   "metadata": {},
   "outputs": [],
   "source": []
  },
  {
   "cell_type": "code",
   "execution_count": 22,
   "id": "ea5d319a",
   "metadata": {},
   "outputs": [],
   "source": [
    "# add list of data element"
   ]
  },
  {
   "cell_type": "code",
   "execution_count": 26,
   "id": "233d9e3e",
   "metadata": {},
   "outputs": [
    {
     "data": {
      "text/plain": [
       "<pymongo.results.InsertManyResult at 0x1c882e4d540>"
      ]
     },
     "execution_count": 26,
     "metadata": {},
     "output_type": "execute_result"
    }
   ],
   "source": [
    "list_of_data = [\n",
    "    {\n",
    "        'CompanyName' : 'DS',\n",
    "        'Product' :'FSDS',\n",
    "        'Course': 'ML'        \n",
    "    },\n",
    "    {\n",
    "        'CompanyName' : 'DS',\n",
    "        'Product' : 'FSDS',\n",
    "        'Course' : 'DL'\n",
    "    },\n",
    "    {\n",
    "        'CompanyName' : 'DS',\n",
    "        'Product' : 'FSDS',\n",
    "        'Course' : \"CV and NLP\"\n",
    "    }\n",
    "]\n",
    "\n",
    "collection_1.insert_many(list_of_data)"
   ]
  },
  {
   "cell_type": "code",
   "execution_count": 33,
   "id": "8bd589b7",
   "metadata": {},
   "outputs": [],
   "source": [
    "list_of_data = [\n",
    "    {\n",
    "        'CompanyName' : 'DS',\n",
    "        'Product' :'FSDS',\n",
    "        'Course': 'ML'        \n",
    "    },\n",
    "    {\n",
    "        'CompanyName' : 'DS',\n",
    "        'Product' : 'FSDS',\n",
    "        'Course' : 'DL'\n",
    "    },\n",
    "    {\n",
    "        'CompanyName' : 'DS',\n",
    "        'Product' : 'FSDS',\n",
    "        'Course' : \"CV and NLP\",\n",
    "        \"test\" : \"Practicle\",\n",
    "        'complex' : [{\"name\" : \"sachin\", 'add' : [\"add1\",\"add2\",\"aad3\",\"area\",\"pincode\"] }, {'email_id': \"abc@gmail.com\"},{'phone_no': 807330398},[4,5,7,8,12]]\n",
    "    }\n",
    "]\n",
    "\n",
    "res = collection_1.insert_many(list_of_data)"
   ]
  },
  {
   "cell_type": "code",
   "execution_count": 35,
   "id": "3ac8237d",
   "metadata": {},
   "outputs": [
    {
     "name": "stdout",
     "output_type": "stream",
     "text": [
      "0 61e124f5b13fabac74f4a119\n",
      "1 61e124f5b13fabac74f4a11a\n",
      "2 61e124f5b13fabac74f4a11b\n"
     ]
    }
   ],
   "source": [
    "# lets print the unique ID that of the record that we have inserted\n",
    "\n",
    "inserted_ids = res.inserted_ids\n",
    "for idx, unique_ids in enumerate(inserted_ids):\n",
    "    print(idx, unique_ids)\n"
   ]
  },
  {
   "cell_type": "code",
   "execution_count": null,
   "id": "4ebe1187",
   "metadata": {},
   "outputs": [],
   "source": []
  },
  {
   "cell_type": "code",
   "execution_count": null,
   "id": "ff873d9b",
   "metadata": {},
   "outputs": [],
   "source": []
  },
  {
   "cell_type": "code",
   "execution_count": 4,
   "id": "f73f61fe",
   "metadata": {},
   "outputs": [],
   "source": [
    "collection_2 = db_1['student']"
   ]
  },
  {
   "cell_type": "code",
   "execution_count": 6,
   "id": "37cf5793",
   "metadata": {},
   "outputs": [],
   "source": [
    "records = [\n",
    "    {\n",
    "        'id' : 1,\n",
    "        'name' : 'sachin',\n",
    "        'course' : 'ML'\n",
    "    },\n",
    "    {\n",
    "        'id' : 2,\n",
    "        'name' : 'kunal',\n",
    "        'course' : 'ML'\n",
    "    },\n",
    "    {\n",
    "        'id' : 3,\n",
    "        'name': \"prathamesh\",\n",
    "        'course' : 'ML'\n",
    "    }\n",
    "]\n",
    "\n",
    "student_records = collection_2.insert_many(records)"
   ]
  },
  {
   "cell_type": "code",
   "execution_count": 7,
   "id": "8c9bc24c",
   "metadata": {},
   "outputs": [],
   "source": [
    "# Create a our custom id "
   ]
  },
  {
   "cell_type": "code",
   "execution_count": 40,
   "id": "1cf2bd9f",
   "metadata": {},
   "outputs": [],
   "source": [
    "records = [\n",
    "    {\n",
    "        '_id' : 21,\n",
    "        'name' : 'sachin',\n",
    "        'course' : 'ML'\n",
    "    },\n",
    "    {\n",
    "        '_id' : 22,\n",
    "        'name' : 'kunal',\n",
    "        'course' : 'ML'\n",
    "    },\n",
    "    {\n",
    "        '_id' : 23,\n",
    "        'name': \"prathamesh\",\n",
    "        'course' : 'ML'\n",
    "    }\n",
    "]\n",
    "\n",
    "student_records = collection_2.insert_many(records)"
   ]
  },
  {
   "cell_type": "code",
   "execution_count": 11,
   "id": "8ce4a7c3",
   "metadata": {},
   "outputs": [
    {
     "data": {
      "text/plain": [
       "{'_id': ObjectId('61e12745c32e026aab10266f'),\n",
       " 'id': 1,\n",
       " 'name': 'sachin',\n",
       " 'course': 'ML'}"
      ]
     },
     "execution_count": 11,
     "metadata": {},
     "output_type": "execute_result"
    }
   ],
   "source": [
    "collection_2.find_one()"
   ]
  },
  {
   "cell_type": "code",
   "execution_count": null,
   "id": "e9c09311",
   "metadata": {},
   "outputs": [],
   "source": []
  },
  {
   "cell_type": "code",
   "execution_count": null,
   "id": "16dd71b5",
   "metadata": {},
   "outputs": [],
   "source": []
  },
  {
   "cell_type": "code",
   "execution_count": 50,
   "id": "b38d37c6",
   "metadata": {},
   "outputs": [],
   "source": [
    "# To fetch all the data from collection. \n",
    "all_data =collection_2.find()"
   ]
  },
  {
   "cell_type": "code",
   "execution_count": 51,
   "id": "85a1f91c",
   "metadata": {},
   "outputs": [
    {
     "name": "stdout",
     "output_type": "stream",
     "text": [
      "{'_id': ObjectId('61e12745c32e026aab10266f'), 'id': 1, 'name': 'sachin', 'course': 'ML'}\n",
      "{'_id': ObjectId('61e12745c32e026aab102670'), 'id': 2, 'name': 'kunal', 'course': 'ML'}\n",
      "{'_id': ObjectId('61e12745c32e026aab102671'), 'id': 3, 'name': 'prathamesh', 'course': 'ML'}\n",
      "{'_id': 11, 'name': 'sachin', 'course': 'ML'}\n",
      "{'_id': 12, 'name': 'kunal', 'course': 'ML'}\n",
      "{'_id': 13, 'name': 'prathamesh', 'course': 'ML'}\n",
      "{'_id': 21, 'name': 'sachin', 'course': 'ML'}\n",
      "{'_id': 22, 'name': 'kunal', 'course': 'ML'}\n",
      "{'_id': 23, 'name': 'prathamesh', 'course': 'ML'}\n"
     ]
    }
   ],
   "source": [
    "for i in all_data:\n",
    "    print(i)"
   ]
  },
  {
   "cell_type": "code",
   "execution_count": null,
   "id": "6e936870",
   "metadata": {},
   "outputs": [],
   "source": []
  },
  {
   "cell_type": "code",
   "execution_count": 17,
   "id": "9417709a",
   "metadata": {},
   "outputs": [
    {
     "name": "stdout",
     "output_type": "stream",
     "text": [
      "{'_id': ObjectId('61e11b0bb13fabac74f4a10a'), 'CompanyName': 'DS', 'Product': 'FSDS', 'Course': 'MLDL'}\n",
      "{'_id': ObjectId('61e11b7cb13fabac74f4a10b'), 'CompanyName': 'DS', 'Product': 'FSDS', 'Course': 'MLDLCVNLP'}\n",
      "{'_id': ObjectId('61e11bfcb13fabac74f4a10c'), 'CompanyName': 'DS', 'Product': 'FSDS', 'Course': 'MLDL', 'batch': ['weekday', 'weekend']}\n",
      "{'_id': ObjectId('61e11c83b13fabac74f4a10d'), 'CompanyName': 'DS', 'Product': 'FSDS', 'Course': 'MLDL', 'batch': ['weekday', 'weekend'], 'record_dict': {'name': 'sachin', 'email_id': 'abc@gmail.com', 'Dept': 'IT'}}\n",
      "{'_id': ObjectId('61e11db8b13fabac74f4a10f'), 'CompanyName': 'DS', 'Product': 'FSDS', 'Course': 'MLDL', 'batch': ['weekday', 'weekend'], 'record_dict': {'name': 'sachin', 'email_id': 'abc@gmail.com', 'Dept': 'IT'}}\n",
      "{'_id': ObjectId('61e12057b13fabac74f4a110'), 'CompanyName': 'DS', 'Product': 'FSDS', 'Course': 'ML'}\n",
      "{'_id': ObjectId('61e12057b13fabac74f4a111'), 'CompanyName': 'DS', 'Product': 'FSDS', 'Course': 'DL'}\n",
      "{'_id': ObjectId('61e12057b13fabac74f4a112'), 'CompanyName': 'DS', 'Product': 'FSDS', 'Course': 'CV and NLP'}\n",
      "{'_id': ObjectId('61e1216bb13fabac74f4a113'), 'CompanyName': 'DS', 'Product': 'FSDS', 'Course': 'ML'}\n",
      "{'_id': ObjectId('61e1216bb13fabac74f4a114'), 'CompanyName': 'DS', 'Product': 'FSDS', 'Course': 'DL'}\n",
      "{'_id': ObjectId('61e1216bb13fabac74f4a115'), 'CompanyName': 'DS', 'Product': 'FSDS', 'Course': 'CV and NLP', 'test': 'Practicle', 'complex': [{'name': 'sachin', 'add': ['add1', 'add2', 'aad3', 'area', 'pincode']}, {'email_id': 'abc@gmail.com'}, {'phone_no': 807330398}, [4, 5, 7, 8, 12]]}\n",
      "{'_id': ObjectId('61e1245ab13fabac74f4a116'), 'CompanyName': 'DS', 'Product': 'FSDS', 'Course': 'ML'}\n",
      "{'_id': ObjectId('61e1245ab13fabac74f4a117'), 'CompanyName': 'DS', 'Product': 'FSDS', 'Course': 'DL'}\n",
      "{'_id': ObjectId('61e1245ab13fabac74f4a118'), 'CompanyName': 'DS', 'Product': 'FSDS', 'Course': 'CV and NLP', 'test': 'Practicle', 'complex': [{'name': 'sachin', 'add': ['add1', 'add2', 'aad3', 'area', 'pincode']}, {'email_id': 'abc@gmail.com'}, {'phone_no': 807330398}, [4, 5, 7, 8, 12]]}\n",
      "{'_id': ObjectId('61e124f5b13fabac74f4a119'), 'CompanyName': 'DS', 'Product': 'FSDS', 'Course': 'ML'}\n",
      "{'_id': ObjectId('61e124f5b13fabac74f4a11a'), 'CompanyName': 'DS', 'Product': 'FSDS', 'Course': 'DL'}\n",
      "{'_id': ObjectId('61e124f5b13fabac74f4a11b'), 'CompanyName': 'DS', 'Product': 'FSDS', 'Course': 'CV and NLP', 'test': 'Practicle', 'complex': [{'name': 'sachin', 'add': ['add1', 'add2', 'aad3', 'area', 'pincode']}, {'email_id': 'abc@gmail.com'}, {'phone_no': 807330398}, [4, 5, 7, 8, 12]]}\n"
     ]
    }
   ],
   "source": [
    "data = collection_1.find()\n",
    "for i in data:\n",
    "    print(i)"
   ]
  },
  {
   "cell_type": "code",
   "execution_count": null,
   "id": "a1aa4ada",
   "metadata": {},
   "outputs": [],
   "source": []
  },
  {
   "cell_type": "code",
   "execution_count": null,
   "id": "6adc3e1e",
   "metadata": {},
   "outputs": [],
   "source": []
  },
  {
   "cell_type": "code",
   "execution_count": 18,
   "id": "da82545f",
   "metadata": {},
   "outputs": [],
   "source": [
    "# Query or filter out data in mongodb"
   ]
  },
  {
   "cell_type": "code",
   "execution_count": 25,
   "id": "7a69671a",
   "metadata": {},
   "outputs": [
    {
     "name": "stdout",
     "output_type": "stream",
     "text": [
      "{'_id': ObjectId('61e12745c32e026aab10266f'), 'id': 1, 'name': 'sachin', 'course': 'ML'}\n",
      "{'_id': 11, 'name': 'sachin', 'course': 'ML'}\n"
     ]
    }
   ],
   "source": [
    "for i in collection_2.find({\"name\": 'sachin'}):\n",
    "    print (i)"
   ]
  },
  {
   "cell_type": "code",
   "execution_count": 27,
   "id": "c947fb24",
   "metadata": {},
   "outputs": [
    {
     "name": "stdout",
     "output_type": "stream",
     "text": [
      "{'_id': 11, 'name': 'sachin', 'course': 'ML'}\n"
     ]
    }
   ],
   "source": [
    "for i in collection_2.find({\"_id\": 11}):\n",
    "    print (i)"
   ]
  },
  {
   "cell_type": "code",
   "execution_count": null,
   "id": "035082a0",
   "metadata": {},
   "outputs": [],
   "source": []
  },
  {
   "cell_type": "code",
   "execution_count": 28,
   "id": "a5460e2d",
   "metadata": {},
   "outputs": [],
   "source": [
    "# condition query"
   ]
  },
  {
   "cell_type": "code",
   "execution_count": 36,
   "id": "39da2557",
   "metadata": {},
   "outputs": [
    {
     "name": "stdout",
     "output_type": "stream",
     "text": [
      "{'_id': 12, 'name': 'kunal', 'course': 'ML'}\n",
      "{'_id': 13, 'name': 'prathamesh', 'course': 'ML'}\n"
     ]
    }
   ],
   "source": [
    "for i in collection_2.find({\"_id\" : {\"$gt\" : 11}}):\n",
    "    print(i)"
   ]
  },
  {
   "cell_type": "code",
   "execution_count": 37,
   "id": "a95c4933",
   "metadata": {},
   "outputs": [
    {
     "name": "stdout",
     "output_type": "stream",
     "text": [
      "{'_id': 11, 'name': 'sachin', 'course': 'ML'}\n"
     ]
    }
   ],
   "source": [
    "for i in collection_2.find({\"_id\" : {\"$eq\" : 11}}):\n",
    "    print(i)"
   ]
  },
  {
   "cell_type": "code",
   "execution_count": 39,
   "id": "f3a44a41",
   "metadata": {},
   "outputs": [
    {
     "name": "stdout",
     "output_type": "stream",
     "text": [
      "{'_id': 11, 'name': 'sachin', 'course': 'ML'}\n",
      "{'_id': 12, 'name': 'kunal', 'course': 'ML'}\n"
     ]
    }
   ],
   "source": [
    "for i in collection_2.find({\"_id\" : {\"$lt\" : 13}}):\n",
    "    print(i)"
   ]
  },
  {
   "cell_type": "code",
   "execution_count": null,
   "id": "28c8878d",
   "metadata": {},
   "outputs": [],
   "source": []
  },
  {
   "cell_type": "code",
   "execution_count": null,
   "id": "9da4e552",
   "metadata": {},
   "outputs": [],
   "source": []
  },
  {
   "cell_type": "code",
   "execution_count": 41,
   "id": "cd8b3520",
   "metadata": {},
   "outputs": [],
   "source": [
    "# delete the data from collection"
   ]
  },
  {
   "cell_type": "code",
   "execution_count": 52,
   "id": "b86f7286",
   "metadata": {},
   "outputs": [
    {
     "data": {
      "text/plain": [
       "<pymongo.results.DeleteResult at 0x1e1b4bd4b40>"
      ]
     },
     "execution_count": 52,
     "metadata": {},
     "output_type": "execute_result"
    }
   ],
   "source": [
    "# one value\n",
    "\n",
    "collection_2.delete_one({\"name\": 'kunal'})"
   ]
  },
  {
   "cell_type": "code",
   "execution_count": 53,
   "id": "914e6121",
   "metadata": {},
   "outputs": [
    {
     "data": {
      "text/plain": [
       "<pymongo.results.DeleteResult at 0x1e1b4a39080>"
      ]
     },
     "execution_count": 53,
     "metadata": {},
     "output_type": "execute_result"
    }
   ],
   "source": [
    "collection_2.delete_many({\"name\": 'kunal'})"
   ]
  },
  {
   "cell_type": "code",
   "execution_count": 54,
   "id": "c7185f17",
   "metadata": {},
   "outputs": [
    {
     "data": {
      "text/plain": [
       "<pymongo.results.DeleteResult at 0x1e1b4ba33c0>"
      ]
     },
     "execution_count": 54,
     "metadata": {},
     "output_type": "execute_result"
    }
   ],
   "source": [
    "collection_2.delete_many({\"_id\": {\"$gt\": 20}})"
   ]
  },
  {
   "cell_type": "code",
   "execution_count": 55,
   "id": "6d70d09a",
   "metadata": {},
   "outputs": [],
   "source": [
    "## drop the collection"
   ]
  },
  {
   "cell_type": "code",
   "execution_count": null,
   "id": "681b0e45",
   "metadata": {},
   "outputs": [],
   "source": [
    "collection_2.drop()"
   ]
  },
  {
   "cell_type": "code",
   "execution_count": null,
   "id": "c8f7fe5f",
   "metadata": {},
   "outputs": [],
   "source": []
  },
  {
   "cell_type": "code",
   "execution_count": null,
   "id": "01577b28",
   "metadata": {},
   "outputs": [],
   "source": []
  },
  {
   "cell_type": "code",
   "execution_count": null,
   "id": "4798bd58",
   "metadata": {},
   "outputs": [],
   "source": []
  }
 ],
 "metadata": {
  "kernelspec": {
   "display_name": "Python 3 (ipykernel)",
   "language": "python",
   "name": "python3"
  },
  "language_info": {
   "codemirror_mode": {
    "name": "ipython",
    "version": 3
   },
   "file_extension": ".py",
   "mimetype": "text/x-python",
   "name": "python",
   "nbconvert_exporter": "python",
   "pygments_lexer": "ipython3",
   "version": "3.9.7"
  }
 },
 "nbformat": 4,
 "nbformat_minor": 5
}
