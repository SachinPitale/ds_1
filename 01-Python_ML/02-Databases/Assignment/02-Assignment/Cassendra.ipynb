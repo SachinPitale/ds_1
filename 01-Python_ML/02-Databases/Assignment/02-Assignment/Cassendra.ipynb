{
 "cells": [
  {
   "cell_type": "code",
   "execution_count": null,
   "id": "405b176e",
   "metadata": {},
   "outputs": [],
   "source": [
    "from cassandra.cluster import Cluster\n",
    "from cassandra.auth import PlainTextAuthProvider\n",
    "\n",
    "cloud_config= {\n",
    "        'secure_connect_bundle': 'E:\\Cassandra\\secure-connect-sachin.zip'\n",
    "}\n",
    "auth_provider = PlainTextAuthProvider('mZMSDpliQjlnpqpxZzwUUxHC', 'JSs5nmqlB21MhLhauLNmOiZ-.04909CxY+eJ9vfDwAj3-1yClYFBPqfBNw16qZ50pSZQpmOoGUJW-veA7YxYwIp-J_WLjNvkRY644N8WwGIwFovy3jX5H3eRYLK15Txg')\n",
    "cluster = Cluster(cloud=cloud_config, auth_provider=auth_provider)\n",
    "session = cluster.connect()\n",
    "\n",
    "row = session.execute(\"select release_version from system.local\").one()\n",
    "if row:\n",
    "    print(row)\n",
    "    print(row[0])\n",
    "else:\n",
    "    print(\"An error occurred.\")"
   ]
  },
  {
   "cell_type": "code",
   "execution_count": 2,
   "id": "761a532a",
   "metadata": {},
   "outputs": [
    {
     "ename": "Unauthorized",
     "evalue": "Error from server: code=2100 [Unauthorized] message=\"Missing correct permission on testdb.\"",
     "output_type": "error",
     "traceback": [
      "\u001b[1;31m---------------------------------------------------------------------------\u001b[0m",
      "\u001b[1;31mUnauthorized\u001b[0m                              Traceback (most recent call last)",
      "\u001b[1;32m~\\AppData\\Local\\Temp/ipykernel_8524/3892230565.py\u001b[0m in \u001b[0;36m<module>\u001b[1;34m\u001b[0m\n\u001b[0;32m      1\u001b[0m \u001b[1;31m# create keyspace in database\u001b[0m\u001b[1;33m\u001b[0m\u001b[1;33m\u001b[0m\u001b[0m\n\u001b[1;32m----> 2\u001b[1;33m \u001b[0mrow\u001b[0m \u001b[1;33m=\u001b[0m \u001b[0msession\u001b[0m\u001b[1;33m.\u001b[0m\u001b[0mexecute\u001b[0m\u001b[1;33m(\u001b[0m\u001b[1;34m\"CREATE KEYSPACE testdb WITH replication = {'class': 'SimpleStrategy', 'replication_factor' : 4};\"\u001b[0m\u001b[1;33m)\u001b[0m\u001b[1;33m\u001b[0m\u001b[1;33m\u001b[0m\u001b[0m\n\u001b[0m",
      "\u001b[1;32m~\\anaconda3\\lib\\site-packages\\cassandra\\cluster.py\u001b[0m in \u001b[0;36mexecute\u001b[1;34m(self, query, parameters, timeout, trace, custom_payload, execution_profile, paging_state, host, execute_as)\u001b[0m\n\u001b[0;32m   2616\u001b[0m         \"\"\"\n\u001b[0;32m   2617\u001b[0m \u001b[1;33m\u001b[0m\u001b[0m\n\u001b[1;32m-> 2618\u001b[1;33m         \u001b[1;32mreturn\u001b[0m \u001b[0mself\u001b[0m\u001b[1;33m.\u001b[0m\u001b[0mexecute_async\u001b[0m\u001b[1;33m(\u001b[0m\u001b[0mquery\u001b[0m\u001b[1;33m,\u001b[0m \u001b[0mparameters\u001b[0m\u001b[1;33m,\u001b[0m \u001b[0mtrace\u001b[0m\u001b[1;33m,\u001b[0m \u001b[0mcustom_payload\u001b[0m\u001b[1;33m,\u001b[0m \u001b[0mtimeout\u001b[0m\u001b[1;33m,\u001b[0m \u001b[0mexecution_profile\u001b[0m\u001b[1;33m,\u001b[0m \u001b[0mpaging_state\u001b[0m\u001b[1;33m,\u001b[0m \u001b[0mhost\u001b[0m\u001b[1;33m,\u001b[0m \u001b[0mexecute_as\u001b[0m\u001b[1;33m)\u001b[0m\u001b[1;33m.\u001b[0m\u001b[0mresult\u001b[0m\u001b[1;33m(\u001b[0m\u001b[1;33m)\u001b[0m\u001b[1;33m\u001b[0m\u001b[1;33m\u001b[0m\u001b[0m\n\u001b[0m\u001b[0;32m   2619\u001b[0m \u001b[1;33m\u001b[0m\u001b[0m\n\u001b[0;32m   2620\u001b[0m     def execute_async(self, query, parameters=None, trace=False, custom_payload=None,\n",
      "\u001b[1;32m~\\anaconda3\\lib\\site-packages\\cassandra\\cluster.py\u001b[0m in \u001b[0;36mresult\u001b[1;34m(self)\u001b[0m\n\u001b[0;32m   4892\u001b[0m             \u001b[1;32mreturn\u001b[0m \u001b[0mResultSet\u001b[0m\u001b[1;33m(\u001b[0m\u001b[0mself\u001b[0m\u001b[1;33m,\u001b[0m \u001b[0mself\u001b[0m\u001b[1;33m.\u001b[0m\u001b[0m_final_result\u001b[0m\u001b[1;33m)\u001b[0m\u001b[1;33m\u001b[0m\u001b[1;33m\u001b[0m\u001b[0m\n\u001b[0;32m   4893\u001b[0m         \u001b[1;32melse\u001b[0m\u001b[1;33m:\u001b[0m\u001b[1;33m\u001b[0m\u001b[1;33m\u001b[0m\u001b[0m\n\u001b[1;32m-> 4894\u001b[1;33m             \u001b[1;32mraise\u001b[0m \u001b[0mself\u001b[0m\u001b[1;33m.\u001b[0m\u001b[0m_final_exception\u001b[0m\u001b[1;33m\u001b[0m\u001b[1;33m\u001b[0m\u001b[0m\n\u001b[0m\u001b[0;32m   4895\u001b[0m \u001b[1;33m\u001b[0m\u001b[0m\n\u001b[0;32m   4896\u001b[0m     \u001b[1;32mdef\u001b[0m \u001b[0mget_query_trace_ids\u001b[0m\u001b[1;33m(\u001b[0m\u001b[0mself\u001b[0m\u001b[1;33m)\u001b[0m\u001b[1;33m:\u001b[0m\u001b[1;33m\u001b[0m\u001b[1;33m\u001b[0m\u001b[0m\n",
      "\u001b[1;31mUnauthorized\u001b[0m: Error from server: code=2100 [Unauthorized] message=\"Missing correct permission on testdb.\""
     ]
    }
   ],
   "source": [
    "# create keyspace in database\n",
    "row = session.execute(\"CREATE KEYSPACE testdb WITH replication = {'class': 'SimpleStrategy', 'replication_factor' : 4};\")"
   ]
  },
  {
   "cell_type": "code",
   "execution_count": null,
   "id": "3c4ec67d",
   "metadata": {},
   "outputs": [],
   "source": []
  },
  {
   "cell_type": "code",
   "execution_count": null,
   "id": "e1f7b24e",
   "metadata": {},
   "outputs": [],
   "source": [
    "#use keyspace\n",
    "row=session.execute(\"use testdb;\")"
   ]
  },
  {
   "cell_type": "code",
   "execution_count": null,
   "id": "fcc7bd28",
   "metadata": {},
   "outputs": [],
   "source": []
  },
  {
   "cell_type": "code",
   "execution_count": null,
   "id": "c8d046eb",
   "metadata": {},
   "outputs": [],
   "source": [
    "# alter keyspace\n",
    "row=session.execute(\"ALTER KEYSPACE testdb WITH replication = {'class': 'SimpleStrategy', 'replication_factor' : 2};\")"
   ]
  },
  {
   "cell_type": "code",
   "execution_count": null,
   "id": "829148ca",
   "metadata": {},
   "outputs": [],
   "source": []
  },
  {
   "cell_type": "code",
   "execution_count": null,
   "id": "8b4133e1",
   "metadata": {},
   "outputs": [],
   "source": [
    "#dropping the keyspace\n",
    "row=session.execute(\"DROP KEYSPACE testdb;\")"
   ]
  },
  {
   "cell_type": "code",
   "execution_count": 4,
   "id": "d2a7ef61",
   "metadata": {},
   "outputs": [
    {
     "data": {
      "text/plain": [
       "<cassandra.cluster.ResultSet at 0x1e77385f970>"
      ]
     },
     "execution_count": 4,
     "metadata": {},
     "output_type": "execute_result"
    }
   ],
   "source": [
    "#creating table in the keyspace\n",
    "session.execute(\"CREATE TABLE testdb.emp(id int PRIMARY KEY , name text, age int, height int)\")"
   ]
  },
  {
   "cell_type": "code",
   "execution_count": 5,
   "id": "38551ff4",
   "metadata": {},
   "outputs": [
    {
     "data": {
      "text/plain": [
       "<cassandra.cluster.ResultSet at 0x1e773869b80>"
      ]
     },
     "execution_count": 5,
     "metadata": {},
     "output_type": "execute_result"
    }
   ],
   "source": [
    "#inserting into table\n",
    "session.execute(\"INSERT INTO testdb.emp(id,name,age,height) VALUES(1,'mohit',25,160);\")\n",
    "session.execute(\"INSERT INTO testdb.emp(id,name,age,height) VALUES(2,'sachin',30,155)\")\n",
    "session.execute(\"INSERT INTO testdb.emp(id,name,age,height) VALUES(3,'kunal',27,155)\")\n",
    "session.execute(\"INSERT INTO testdb.emp(id,name,age,height) VALUES(4,'yogesh',31,155)\")\n",
    "session.execute(\"INSERT INTO testdb.emp(id,name,age,height) VALUES(5,'ranit',26,155)\")\n",
    "session.execute(\"INSERT INTO testdb.emp(id,name,age,height) VALUES(6,'prathamesh',27,155)\")"
   ]
  },
  {
   "cell_type": "code",
   "execution_count": null,
   "id": "a49716b4",
   "metadata": {},
   "outputs": [],
   "source": [
    "row = session.execute(\"select * from testdb.emp\")\n",
    "for i in row:\n",
    "    print(i)"
   ]
  },
  {
   "cell_type": "code",
   "execution_count": 16,
   "id": "dbcdcb91",
   "metadata": {},
   "outputs": [
    {
     "data": {
      "text/plain": [
       "<cassandra.cluster.ResultSet at 0x1e7778dd940>"
      ]
     },
     "execution_count": 16,
     "metadata": {},
     "output_type": "execute_result"
    }
   ],
   "source": [
    "session.execute(\"INSERT INTO testdb.emp(id,name,age,height) VALUES(7,'Sonu',30,160) \")"
   ]
  },
  {
   "cell_type": "code",
   "execution_count": 7,
   "id": "11a724ed",
   "metadata": {},
   "outputs": [
    {
     "name": "stdout",
     "output_type": "stream",
     "text": [
      "Row(id=5, age=26, height=155, name='ranit')\n",
      "Row(id=1, age=25, height=160, name='mohit')\n",
      "Row(id=2, age=30, height=155, name='sachin')\n",
      "Row(id=4, age=31, height=155, name='yogesh')\n",
      "Row(id=7, age=30, height=160, name='Sonu')\n",
      "Row(id=6, age=27, height=155, name='prathamesh')\n",
      "Row(id=3, age=27, height=155, name='kunal')\n"
     ]
    }
   ],
   "source": [
    "row = session.execute(\"select * from testdb.emp\")\n",
    "for i in row:\n",
    "    print(i)"
   ]
  },
  {
   "cell_type": "code",
   "execution_count": null,
   "id": "4dcd4579",
   "metadata": {},
   "outputs": [],
   "source": []
  },
  {
   "cell_type": "code",
   "execution_count": null,
   "id": "1ce6b3ce",
   "metadata": {},
   "outputs": [],
   "source": [
    "#alter existing table (adding more columns to table)\n",
    "session.execute(\"ALTER TABLE testdb.emp ADD email varchar\")"
   ]
  },
  {
   "cell_type": "code",
   "execution_count": null,
   "id": "242c8a29",
   "metadata": {},
   "outputs": [],
   "source": [
    "row = session.execute(\"select * from testdb.emp\")\n",
    "for i in row:\n",
    "    print(i)"
   ]
  },
  {
   "cell_type": "code",
   "execution_count": 3,
   "id": "ec5d30fa",
   "metadata": {},
   "outputs": [],
   "source": [
    "#dropping the table\n",
    "row=session.execute(\"DROP TABLE IF EXISTS testdb.emp\")"
   ]
  },
  {
   "cell_type": "code",
   "execution_count": 8,
   "id": "188af87e",
   "metadata": {},
   "outputs": [],
   "source": [
    "#truncating (removing all data from table)\n",
    "row=session.execute(\"TRUNCATE testdb.emp;\")"
   ]
  },
  {
   "cell_type": "code",
   "execution_count": 9,
   "id": "33d7516d",
   "metadata": {},
   "outputs": [],
   "source": [
    "row = session.execute(\"select * from testdb.emp\")\n",
    "for i in row:\n",
    "    print(i)"
   ]
  },
  {
   "cell_type": "code",
   "execution_count": 10,
   "id": "3e5c3b46",
   "metadata": {},
   "outputs": [
    {
     "data": {
      "text/plain": [
       "<cassandra.cluster.ResultSet at 0x1e773854220>"
      ]
     },
     "execution_count": 10,
     "metadata": {},
     "output_type": "execute_result"
    }
   ],
   "source": [
    "#inserting into table\n",
    "session.execute(\"INSERT INTO testdb.emp(id,name,age,height) VALUES(1,'mohit',25,160);\")\n",
    "session.execute(\"INSERT INTO testdb.emp(id,name,age,height) VALUES(2,'sachin',30,155)\")\n",
    "session.execute(\"INSERT INTO testdb.emp(id,name,age,height) VALUES(3,'kunal',27,155)\")\n",
    "session.execute(\"INSERT INTO testdb.emp(id,name,age,height) VALUES(4,'yogesh',31,155)\")\n",
    "session.execute(\"INSERT INTO testdb.emp(id,name,age,height) VALUES(5,'ranit',26,155)\")\n",
    "session.execute(\"INSERT INTO testdb.emp(id,name,age,height) VALUES(6,'prathamesh',27,155)\")"
   ]
  },
  {
   "cell_type": "code",
   "execution_count": 17,
   "id": "7394be56",
   "metadata": {},
   "outputs": [
    {
     "name": "stdout",
     "output_type": "stream",
     "text": [
      "Row(id=5, age=26, height=155, name='ranit')\n",
      "Row(id=1, age=25, height=160, name='mohit')\n",
      "Row(id=2, age=30, height=155, name='sachin')\n",
      "Row(id=4, age=31, height=155, name='yogesh')\n",
      "Row(id=7, age=30, height=160, name='Sonu')\n",
      "Row(id=6, age=27, height=155, name='prathamesh')\n",
      "Row(id=3, age=27, height=155, name='kunal')\n"
     ]
    }
   ],
   "source": [
    "row = session.execute(\"select * from testdb.emp\")\n",
    "for i in row:\n",
    "    print(i)"
   ]
  },
  {
   "cell_type": "code",
   "execution_count": 13,
   "id": "abee0ac3",
   "metadata": {},
   "outputs": [],
   "source": [
    "# select specific record\n",
    "row = session.execute(\"select name, age FROM testdb.emp WHERE id = 1\")"
   ]
  },
  {
   "cell_type": "code",
   "execution_count": 15,
   "id": "82d50c12",
   "metadata": {},
   "outputs": [
    {
     "name": "stdout",
     "output_type": "stream",
     "text": [
      "Row(name='mohit', age=25)\n"
     ]
    }
   ],
   "source": [
    "for i in row:\n",
    "    print(i)"
   ]
  },
  {
   "cell_type": "code",
   "execution_count": 19,
   "id": "8b142da0",
   "metadata": {},
   "outputs": [
    {
     "data": {
      "text/plain": [
       "<cassandra.cluster.ResultSet at 0x1e7779a83d0>"
      ]
     },
     "execution_count": 19,
     "metadata": {},
     "output_type": "execute_result"
    }
   ],
   "source": [
    "session.execute(\"DELETE age FROM testdb.emp WHERE id = 7\")"
   ]
  },
  {
   "cell_type": "code",
   "execution_count": 20,
   "id": "893c9487",
   "metadata": {},
   "outputs": [
    {
     "name": "stdout",
     "output_type": "stream",
     "text": [
      "Row(id=5, age=26, height=155, name='ranit')\n",
      "Row(id=1, age=25, height=160, name='mohit')\n",
      "Row(id=2, age=30, height=155, name='sachin')\n",
      "Row(id=4, age=31, height=155, name='yogesh')\n",
      "Row(id=7, age=None, height=160, name='Sonu')\n",
      "Row(id=6, age=27, height=155, name='prathamesh')\n",
      "Row(id=3, age=27, height=155, name='kunal')\n"
     ]
    }
   ],
   "source": [
    "row = session.execute(\"select * from testdb.emp\")\n",
    "for i in row:\n",
    "    print(i)"
   ]
  },
  {
   "cell_type": "code",
   "execution_count": null,
   "id": "b1a7951a",
   "metadata": {},
   "outputs": [],
   "source": []
  },
  {
   "cell_type": "code",
   "execution_count": null,
   "id": "3b3a419d",
   "metadata": {},
   "outputs": [],
   "source": []
  },
  {
   "cell_type": "code",
   "execution_count": 31,
   "id": "a8c386db",
   "metadata": {},
   "outputs": [
    {
     "name": "stdout",
     "output_type": "stream",
     "text": [
      "5 26 155 ranit\n",
      "1 25 160 mohit\n",
      "2 30 155 sachin\n",
      "4 31 155 yogesh\n",
      "7 None 160 Sonu\n",
      "6 27 155 prathamesh\n",
      "3 27 155 kunal\n"
     ]
    }
   ],
   "source": [
    "# Select all data from a table\n",
    "row = session.execute(\"select * from testdb.emp\")\n",
    "for i in row:\n",
    "    print(i[0],i[1],i[2],i[3])"
   ]
  },
  {
   "cell_type": "code",
   "execution_count": 32,
   "id": "e60801d7",
   "metadata": {},
   "outputs": [],
   "source": [
    "# select specific record\n",
    "row = session.execute(\"select * from testdb.emp WHERE id = 6\")"
   ]
  },
  {
   "cell_type": "code",
   "execution_count": 34,
   "id": "ede45513",
   "metadata": {},
   "outputs": [
    {
     "name": "stdout",
     "output_type": "stream",
     "text": [
      "Row(id=6, age=27, height=155, name='prathamesh')\n"
     ]
    }
   ],
   "source": [
    "for i in row:\n",
    "    print(i)"
   ]
  },
  {
   "cell_type": "code",
   "execution_count": 35,
   "id": "79783986",
   "metadata": {},
   "outputs": [
    {
     "data": {
      "text/plain": [
       "<cassandra.cluster.ResultSet at 0x1e777f58a30>"
      ]
     },
     "execution_count": 35,
     "metadata": {},
     "output_type": "execute_result"
    }
   ],
   "source": [
    "# udpate record\n",
    "session.execute(\"UPDATE testdb.emp SET height = 162 WHERE id = 6\")"
   ]
  },
  {
   "cell_type": "code",
   "execution_count": 36,
   "id": "fce817a6",
   "metadata": {},
   "outputs": [
    {
     "name": "stdout",
     "output_type": "stream",
     "text": [
      "5 26 155 ranit\n",
      "1 25 160 mohit\n",
      "2 30 155 sachin\n",
      "4 31 155 yogesh\n",
      "7 None 160 Sonu\n",
      "6 27 162 prathamesh\n",
      "3 27 155 kunal\n"
     ]
    }
   ],
   "source": [
    "# Select all data from a table\n",
    "row = session.execute(\"select * from testdb.emp\")\n",
    "for i in row:\n",
    "    print(i[0],i[1],i[2],i[3])"
   ]
  },
  {
   "cell_type": "code",
   "execution_count": 37,
   "id": "90edd835",
   "metadata": {},
   "outputs": [
    {
     "data": {
      "text/plain": [
       "<cassandra.cluster.ResultSet at 0x1e777a95310>"
      ]
     },
     "execution_count": 37,
     "metadata": {},
     "output_type": "execute_result"
    }
   ],
   "source": [
    "# DELETE RECORD\n",
    "session.execute(\"DELETE FROM testdb.emp WHERE id = 7\")"
   ]
  },
  {
   "cell_type": "code",
   "execution_count": 38,
   "id": "31e699e9",
   "metadata": {},
   "outputs": [
    {
     "name": "stdout",
     "output_type": "stream",
     "text": [
      "5 26 155 ranit\n",
      "1 25 160 mohit\n",
      "2 30 155 sachin\n",
      "4 31 155 yogesh\n",
      "6 27 162 prathamesh\n",
      "3 27 155 kunal\n"
     ]
    }
   ],
   "source": [
    "# Select all data from a table\n",
    "row = session.execute(\"select * from testdb.emp\")\n",
    "for i in row:\n",
    "    print(i[0],i[1],i[2],i[3])"
   ]
  },
  {
   "cell_type": "code",
   "execution_count": 40,
   "id": "d8be4020",
   "metadata": {},
   "outputs": [
    {
     "name": "stdout",
     "output_type": "stream",
     "text": [
      "Row(id=2, age=30, height=155, name='sachin')\n",
      "Row(id=4, age=31, height=155, name='yogesh')\n"
     ]
    }
   ],
   "source": [
    "# allow filtering\n",
    "\n",
    "row= session.execute(\"select * from testdb.emp where age>29 allow filtering\")\n",
    "for i in row:\n",
    "    print(i)"
   ]
  },
  {
   "cell_type": "code",
   "execution_count": null,
   "id": "8bafc8fa",
   "metadata": {},
   "outputs": [],
   "source": []
  }
 ],
 "metadata": {
  "kernelspec": {
   "display_name": "Python 3 (ipykernel)",
   "language": "python",
   "name": "python3"
  },
  "language_info": {
   "codemirror_mode": {
    "name": "ipython",
    "version": 3
   },
   "file_extension": ".py",
   "mimetype": "text/x-python",
   "name": "python",
   "nbconvert_exporter": "python",
   "pygments_lexer": "ipython3",
   "version": "3.9.7"
  }
 },
 "nbformat": 4,
 "nbformat_minor": 5
}
