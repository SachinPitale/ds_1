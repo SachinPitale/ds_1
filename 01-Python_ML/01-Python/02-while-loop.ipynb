{
 "cells": [
  {
   "cell_type": "code",
   "execution_count": 1,
   "id": "b8dfadbb",
   "metadata": {},
   "outputs": [
    {
     "name": "stdout",
     "output_type": "stream",
     "text": [
      "This is valid statement\n"
     ]
    }
   ],
   "source": [
    "a = 10\n",
    "b = 20\n",
    "\n",
    "if a == 10 and b == 20:\n",
    "    print (\"This is valid statement\")"
   ]
  },
  {
   "cell_type": "code",
   "execution_count": 2,
   "id": "97a40a90",
   "metadata": {},
   "outputs": [
    {
     "name": "stdout",
     "output_type": "stream",
     "text": [
      "This is invalid statement\n"
     ]
    }
   ],
   "source": [
    "a = 10\n",
    "b = 20\n",
    "\n",
    "if a == 10 and b > 20:\n",
    "    print (\"This is valid statement\")\n",
    "else:\n",
    "    print (\"This is invalid statement\")"
   ]
  },
  {
   "cell_type": "code",
   "execution_count": 3,
   "id": "50a884ed",
   "metadata": {},
   "outputs": [
    {
     "name": "stdout",
     "output_type": "stream",
     "text": [
      "The elif  condition is true\n"
     ]
    }
   ],
   "source": [
    "a = 10\n",
    "b = 18\n",
    "\n",
    "if a == 10 and b > 20:\n",
    "    print (\"This is valid statement\")\n",
    "elif a == 10 and b < 20:\n",
    "    print (\"The elif  condition is true\")\n",
    "else:\n",
    "    print (\"This is invalid statement\")"
   ]
  },
  {
   "cell_type": "code",
   "execution_count": 4,
   "id": "84560ee9",
   "metadata": {},
   "outputs": [
    {
     "name": "stdout",
     "output_type": "stream",
     "text": [
      "This is valid statement\n"
     ]
    }
   ],
   "source": [
    "a = 10\n",
    "b = 20\n",
    "\n",
    "if a == 10 or b > 20:\n",
    "    print (\"This is valid statement\")\n",
    "elif a == 10 and b < 20:\n",
    "    print (\"The elif  condition is true\")\n",
    "else:\n",
    "    print (\"This is invalid statement\")"
   ]
  },
  {
   "cell_type": "code",
   "execution_count": 10,
   "id": "ee0f42c9",
   "metadata": {},
   "outputs": [
    {
     "name": "stdout",
     "output_type": "stream",
     "text": [
      "Enter your first name: djaldj\n",
      "Enter your Last namehelp\n",
      "You didn't enter your fname or lname correct \n"
     ]
    }
   ],
   "source": [
    "Fname = input(\"Enter your first name: \")\n",
    "Lname = input(\"Enter your Last name\")\n",
    "\n",
    "if Fname == \"sachin\" and Lname == \"pitale\":\n",
    "    print (\"You entered complete name as\", Fname, Lname )\n",
    "elif Fname ==\"sachin\" or Lname == \"\":\n",
    "    print (\"You entered your correct Fname  as\", Fname,)\n",
    "elif Fname ==\"\" or Lname == \"pitale\":\n",
    "    print (\"You entered your correct Lname  as\", Lname,)\n",
    "else:\n",
    "    print (\"You didn't enter your fname or lname correct \")\n",
    "    "
   ]
  },
  {
   "cell_type": "code",
   "execution_count": 11,
   "id": "71250783",
   "metadata": {},
   "outputs": [
    {
     "name": "stdout",
     "output_type": "stream",
     "text": [
      "This is my speed\n",
      "This is my speed\n",
      "This is my speed\n",
      "This is my speed\n",
      "This is my speed\n",
      "This is my speed\n",
      "This is my speed\n",
      "This is my speed\n",
      "This is my speed\n"
     ]
    }
   ],
   "source": [
    "#While loop\n",
    "\n",
    "initial_speed = 0\n",
    "final_speed = 100\n",
    "count = 1\n",
    "\n",
    "while initial_speed < final_speed:\n",
    "    print (\"This is my speed\")\n",
    "    count = count + 1\n",
    "    if count == 10:\n",
    "        break"
   ]
  },
  {
   "cell_type": "code",
   "execution_count": 12,
   "id": "9fb10f5f",
   "metadata": {},
   "outputs": [
    {
     "name": "stdout",
     "output_type": "stream",
     "text": [
      "This is my Initial_speed 0\n",
      "This is my Initial_speed 10\n",
      "This is my Initial_speed 20\n",
      "This is my Initial_speed 30\n",
      "This is my Initial_speed 40\n",
      "This is my Initial_speed 50\n",
      "This is my Initial_speed 60\n",
      "This is my Initial_speed 70\n",
      "This is my Initial_speed 80\n",
      "This is my Initial_speed 90\n"
     ]
    }
   ],
   "source": [
    "initial_speed = 0\n",
    "final_speed = 100\n",
    "count = 1\n",
    "while initial_speed < final_speed:\n",
    "    print (\"This is my Initial_speed\", initial_speed)\n",
    "    initial_speed = initial_speed + 10\n",
    "    \n",
    "    "
   ]
  },
  {
   "cell_type": "code",
   "execution_count": 25,
   "id": "75c6a7db",
   "metadata": {},
   "outputs": [
    {
     "name": "stdout",
     "output_type": "stream",
     "text": [
      "Enter your number which you want to print table:  28\n",
      "table number are 28 * 1 = 28\n",
      "table number are 28 * 2 = 56\n",
      "table number are 28 * 3 = 84\n",
      "table number are 28 * 4 = 112\n",
      "table number are 28 * 5 = 140\n",
      "table number are 28 * 6 = 168\n",
      "table number are 28 * 7 = 196\n",
      "table number are 28 * 8 = 224\n",
      "table number are 28 * 9 = 252\n",
      "table number are 28 * 10 = 280\n"
     ]
    }
   ],
   "source": [
    "#print your table \n",
    "\n",
    "num = int(input(\"Enter your number which you want to print table:  \"))\n",
    "count = 1\n",
    "while count <= 10:\n",
    "    number = num * count\n",
    "    print (\"table number are\", num, \"*\", count, \"=\", num * count)\n",
    "    count = count + 1"
   ]
  },
  {
   "cell_type": "code",
   "execution_count": 1,
   "id": "d98e8b86",
   "metadata": {},
   "outputs": [
    {
     "name": "stdout",
     "output_type": "stream",
     "text": [
      "enter your first number: 10\n",
      "enter your second number:  20\n",
      "Enter your arthematich operator like +, -, *, /, %+\n",
      "your addition of two number is 30\n"
     ]
    }
   ],
   "source": [
    "a = int(input(\"enter your first number: \"))\n",
    "b = int(input(\"enter your second number:  \"))\n",
    "c = input(\"Enter your arthematich operator like +, -, *, /, %\"  )\n",
    "\n",
    "if c == \"+\":\n",
    "    print(\"your addition of two number is\", a+b)\n",
    "elif c == \"-\":\n",
    "    print(\"your sub of two number is \", a-b)\n",
    "elif c == \"*\":\n",
    "    print(\"your multiplication of two number is\", a*b)\n",
    "elif c == \"/\":\n",
    "    print(\"your division of two number is \", a/b)\n",
    "elif c == \"%\":\n",
    "    print(\"your module of two number is \", a%b)\n",
    "else:\n",
    "    print (\"Condion is false\")"
   ]
  },
  {
   "cell_type": "code",
   "execution_count": null,
   "id": "4ab69773",
   "metadata": {},
   "outputs": [],
   "source": []
  }
 ],
 "metadata": {
  "kernelspec": {
   "display_name": "Python 3 (ipykernel)",
   "language": "python",
   "name": "python3"
  },
  "language_info": {
   "codemirror_mode": {
    "name": "ipython",
    "version": 3
   },
   "file_extension": ".py",
   "mimetype": "text/x-python",
   "name": "python",
   "nbconvert_exporter": "python",
   "pygments_lexer": "ipython3",
   "version": "3.9.7"
  }
 },
 "nbformat": 4,
 "nbformat_minor": 5
}
