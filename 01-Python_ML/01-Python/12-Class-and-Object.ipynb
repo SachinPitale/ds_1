{
 "cells": [
  {
   "cell_type": "code",
   "execution_count": 7,
   "id": "399008e6",
   "metadata": {},
   "outputs": [],
   "source": [
    "class car:\n",
    "    pass"
   ]
  },
  {
   "cell_type": "code",
   "execution_count": 9,
   "id": "f2cba243",
   "metadata": {},
   "outputs": [],
   "source": [
    "# Create a class object or class variable  for car class\n",
    "audiq7 = car()"
   ]
  },
  {
   "cell_type": "code",
   "execution_count": 10,
   "id": "a7f88f35",
   "metadata": {},
   "outputs": [],
   "source": [
    "# Create a object for audiq7 object\n",
    "audiq7.mileage = 10\n",
    "audiq7.year = 2021\n",
    "audiq7.model = \"Q7\"\n",
    "audiq7.make = 345"
   ]
  },
  {
   "cell_type": "code",
   "execution_count": 11,
   "id": "51c4386b",
   "metadata": {},
   "outputs": [
    {
     "data": {
      "text/plain": [
       "2021"
      ]
     },
     "execution_count": 11,
     "metadata": {},
     "output_type": "execute_result"
    }
   ],
   "source": [
    "#To access the particular object of audiq7\n",
    "audiq7.year"
   ]
  },
  {
   "cell_type": "code",
   "execution_count": 12,
   "id": "6527f61b",
   "metadata": {},
   "outputs": [
    {
     "data": {
      "text/plain": [
       "'Q7'"
      ]
     },
     "execution_count": 12,
     "metadata": {},
     "output_type": "execute_result"
    }
   ],
   "source": [
    "audiq7.model"
   ]
  },
  {
   "cell_type": "code",
   "execution_count": 13,
   "id": "a5141a2f",
   "metadata": {},
   "outputs": [],
   "source": [
    "nano = car()"
   ]
  },
  {
   "cell_type": "code",
   "execution_count": 14,
   "id": "bfa3ae09",
   "metadata": {},
   "outputs": [],
   "source": [
    "nano.mileage = 10\n",
    "nano.year = 2021\n",
    "nano.model = \"Q7\"\n",
    "nano.make = 345\n",
    "nano.engineno = 11924397349"
   ]
  },
  {
   "cell_type": "code",
   "execution_count": null,
   "id": "17eded63",
   "metadata": {},
   "outputs": [],
   "source": []
  },
  {
   "cell_type": "code",
   "execution_count": 15,
   "id": "ee6d110d",
   "metadata": {},
   "outputs": [],
   "source": [
    "class car:\n",
    "    def __init__(self, mileage,year,model,make):  # init is inbuild method, to pass data to class\n",
    "        self.mileage = mileage                    # self is referece of class which represet class object\n",
    "        self.year = year                          \n",
    "        self.model = model\n",
    "        self.make = make"
   ]
  },
  {
   "cell_type": "code",
   "execution_count": 20,
   "id": "83ce0290",
   "metadata": {},
   "outputs": [],
   "source": [
    "nano1 = car(10,2018,'n1',234)  # In this case self is representing nano1 and audiq71 class object or class variable\n",
    "audiq71 = car(20,2021,'q71',534)"
   ]
  },
  {
   "cell_type": "code",
   "execution_count": null,
   "id": "e7186b27",
   "metadata": {},
   "outputs": [],
   "source": []
  },
  {
   "cell_type": "code",
   "execution_count": null,
   "id": "e6c12a7c",
   "metadata": {},
   "outputs": [],
   "source": []
  },
  {
   "cell_type": "code",
   "execution_count": 5,
   "id": "d697ba4f",
   "metadata": {},
   "outputs": [],
   "source": [
    "class car:\n",
    "    def __init__(a, mi,y,mo,ma):  \n",
    "        a.mileage = mi                    \n",
    "        a.year = y                         \n",
    "        a.model = mo\n",
    "        a.make = ma\n",
    "    def age(self,current_year):\n",
    "        return current_year - self.year"
   ]
  },
  {
   "cell_type": "code",
   "execution_count": 6,
   "id": "fa4c7260",
   "metadata": {},
   "outputs": [],
   "source": [
    "nano2 = car(20,2020,'n2', 234)"
   ]
  },
  {
   "cell_type": "code",
   "execution_count": 7,
   "id": "d9cdf14e",
   "metadata": {},
   "outputs": [
    {
     "data": {
      "text/plain": [
       "1"
      ]
     },
     "execution_count": 7,
     "metadata": {},
     "output_type": "execute_result"
    }
   ],
   "source": [
    "nano2.age(2021)"
   ]
  },
  {
   "cell_type": "code",
   "execution_count": 17,
   "id": "142ca3d8",
   "metadata": {},
   "outputs": [],
   "source": [
    "class car:\n",
    "    def __init__(a, mi,y,mo,ma):  \n",
    "        a.mileage = mi                    \n",
    "        a.year = y                         \n",
    "        a.model = mo\n",
    "        a.make = ma\n",
    "    def age(self,current_year):\n",
    "        return current_year - self.year\n",
    "    \n",
    "    def mileage1(self):\n",
    "        return \"Mileage of the car\", self.mileage\n",
    "    def __str__(self):\n",
    "        return \"This is my class i have created\""
   ]
  },
  {
   "cell_type": "code",
   "execution_count": 18,
   "id": "2803380f",
   "metadata": {},
   "outputs": [],
   "source": [
    "nano2 = car(20,2020,'n2', 234)"
   ]
  },
  {
   "cell_type": "code",
   "execution_count": 19,
   "id": "579466ad",
   "metadata": {},
   "outputs": [
    {
     "data": {
      "text/plain": [
       "('Mileage of the car', 20)"
      ]
     },
     "execution_count": 19,
     "metadata": {},
     "output_type": "execute_result"
    }
   ],
   "source": [
    "nano2.mileage1()"
   ]
  },
  {
   "cell_type": "code",
   "execution_count": 20,
   "id": "297a67ab",
   "metadata": {},
   "outputs": [
    {
     "data": {
      "text/plain": [
       "<bound method car.mileage1 of <__main__.car object at 0x0000020736FF9E50>>"
      ]
     },
     "execution_count": 20,
     "metadata": {},
     "output_type": "execute_result"
    }
   ],
   "source": [
    "nano2.mileage1"
   ]
  },
  {
   "cell_type": "code",
   "execution_count": 21,
   "id": "73fbc06e",
   "metadata": {},
   "outputs": [
    {
     "data": {
      "text/plain": [
       "<__main__.car at 0x20736ff9e50>"
      ]
     },
     "execution_count": 21,
     "metadata": {},
     "output_type": "execute_result"
    }
   ],
   "source": [
    "nano2"
   ]
  },
  {
   "cell_type": "code",
   "execution_count": 24,
   "id": "849b45ae",
   "metadata": {},
   "outputs": [
    {
     "name": "stdout",
     "output_type": "stream",
     "text": [
      "This is my class i have created\n"
     ]
    }
   ],
   "source": [
    "print(nano2)"
   ]
  },
  {
   "cell_type": "code",
   "execution_count": null,
   "id": "7ef50f04",
   "metadata": {},
   "outputs": [],
   "source": []
  },
  {
   "cell_type": "code",
   "execution_count": null,
   "id": "a54a11dc",
   "metadata": {},
   "outputs": [],
   "source": []
  },
  {
   "cell_type": "code",
   "execution_count": 16,
   "id": "7077ad1f",
   "metadata": {},
   "outputs": [],
   "source": [
    "class student:\n",
    "    def __init__(self, name, rollno, joing_date,current_topic):\n",
    "        self.name = name\n",
    "        self.rollno = rollno\n",
    "        self.joing_date = joing_date\n",
    "        self.current_topic = current_topic\n",
    "    \n",
    "    def crt_topic(self):\n",
    "        print (\"Current topic class is\", self.current_topic)\n",
    "    \n",
    "    def str_rollno(self):\n",
    "        if (self.rollno) == str:\n",
    "            print (\"Do nothing\")\n",
    "        else:\n",
    "            return str(self.rollno)\n",
    "        \n",
    "    def duration(self, current_date):\n",
    "        print (\"duration of student in my class is\", current_date - self.joing_date)\n",
    "    \n",
    "    def __str__(self):\n",
    "        return \"this is student class where they can try to input there own data and they can try to \""
   ]
  },
  {
   "cell_type": "code",
   "execution_count": 17,
   "id": "791a1c88",
   "metadata": {},
   "outputs": [],
   "source": [
    "sachin = student(\"sachin\",1,2021,\"oops\")"
   ]
  },
  {
   "cell_type": "code",
   "execution_count": 18,
   "id": "8ceed9c9",
   "metadata": {},
   "outputs": [
    {
     "name": "stdout",
     "output_type": "stream",
     "text": [
      "Current topic class is oops\n"
     ]
    }
   ],
   "source": [
    "sachin.crt_topic()"
   ]
  },
  {
   "cell_type": "code",
   "execution_count": 19,
   "id": "5dac3bef",
   "metadata": {},
   "outputs": [
    {
     "name": "stdout",
     "output_type": "stream",
     "text": [
      "duration of student in my class is 0\n"
     ]
    }
   ],
   "source": [
    "sachin.duration(2021)"
   ]
  },
  {
   "cell_type": "code",
   "execution_count": 46,
   "id": "bb6e7b6a",
   "metadata": {},
   "outputs": [
    {
     "data": {
      "text/plain": [
       "'1'"
      ]
     },
     "execution_count": 46,
     "metadata": {},
     "output_type": "execute_result"
    }
   ],
   "source": [
    "sachin.str_rollno()"
   ]
  },
  {
   "cell_type": "code",
   "execution_count": 47,
   "id": "3a486c4f",
   "metadata": {},
   "outputs": [
    {
     "data": {
      "text/plain": [
       "1"
      ]
     },
     "execution_count": 47,
     "metadata": {},
     "output_type": "execute_result"
    }
   ],
   "source": [
    "sachin.rollno"
   ]
  },
  {
   "cell_type": "code",
   "execution_count": 48,
   "id": "6fbfa86b",
   "metadata": {},
   "outputs": [
    {
     "name": "stdout",
     "output_type": "stream",
     "text": [
      "this is student class where they can try to input there own data and they can try to \n"
     ]
    }
   ],
   "source": [
    "print(sachin)"
   ]
  },
  {
   "cell_type": "code",
   "execution_count": 58,
   "id": "fb81f3e3",
   "metadata": {},
   "outputs": [],
   "source": [
    "sudh = student('sudh',[2,3],2021,'database')"
   ]
  },
  {
   "cell_type": "code",
   "execution_count": 59,
   "id": "60736ebc",
   "metadata": {},
   "outputs": [
    {
     "name": "stdout",
     "output_type": "stream",
     "text": [
      "Current topic class is database\n"
     ]
    }
   ],
   "source": [
    "sudh.crt_topic()"
   ]
  },
  {
   "cell_type": "code",
   "execution_count": 60,
   "id": "39f3bc10",
   "metadata": {},
   "outputs": [],
   "source": [
    "sudh.str_rollno()"
   ]
  },
  {
   "cell_type": "code",
   "execution_count": null,
   "id": "2cdb73a1",
   "metadata": {},
   "outputs": [],
   "source": []
  },
  {
   "cell_type": "code",
   "execution_count": null,
   "id": "3b65f35f",
   "metadata": {},
   "outputs": [],
   "source": []
  },
  {
   "cell_type": "code",
   "execution_count": null,
   "id": "e75d18f0",
   "metadata": {},
   "outputs": [],
   "source": []
  },
  {
   "cell_type": "code",
   "execution_count": 69,
   "id": "1403ae8f",
   "metadata": {},
   "outputs": [],
   "source": [
    "class student:\n",
    "    def __init__(self, name, rollno, joing_date,current_topic):\n",
    "        self.name = name\n",
    "        self.rollno = rollno\n",
    "        self.joing_date = joing_date\n",
    "        self.current_topic = current_topic\n",
    "    \n",
    "    def crt_topic(self):\n",
    "        print (\"Current topic class is\", self.current_topic)\n",
    "    \n",
    "    def list_all_names(self):\n",
    "        if type(self.name) == list:\n",
    "            for i in self.name:\n",
    "                print(i)\n",
    "        else:\n",
    "            print (\"Provided name is not list type\")\n",
    "    \n",
    "    def str_rollno(self):\n",
    "        if (self.rollno) == str:\n",
    "            print (\"Do nothing\")\n",
    "        else:\n",
    "            return str(self.rollno)\n",
    "        \n",
    "    def duration(self, current_date):\n",
    "        print (\"duration of student in my class is\", current_date - self.joing_date)\n",
    "    \n",
    "    def __str__(self):\n",
    "        return \"this is student class where they can try to input there own data and they can try to \""
   ]
  },
  {
   "cell_type": "code",
   "execution_count": 70,
   "id": "e0351532",
   "metadata": {},
   "outputs": [],
   "source": [
    "fsds = student(['sachin','sudh','prakash','pavan'], [1,2,3,4],2021,'oops')"
   ]
  },
  {
   "cell_type": "code",
   "execution_count": 71,
   "id": "5ec1e758",
   "metadata": {},
   "outputs": [
    {
     "name": "stdout",
     "output_type": "stream",
     "text": [
      "sachin\n",
      "sudh\n",
      "prakash\n",
      "pavan\n"
     ]
    }
   ],
   "source": [
    "fsds.list_all_names()"
   ]
  },
  {
   "cell_type": "code",
   "execution_count": 72,
   "id": "0dca8496",
   "metadata": {},
   "outputs": [],
   "source": [
    "sachin = student(\"sachin\",1,2021,\"oops\")"
   ]
  },
  {
   "cell_type": "code",
   "execution_count": 73,
   "id": "a1df1df4",
   "metadata": {},
   "outputs": [
    {
     "name": "stdout",
     "output_type": "stream",
     "text": [
      "Provided name is not list type\n"
     ]
    }
   ],
   "source": [
    "sachin.list_all_names()"
   ]
  },
  {
   "cell_type": "code",
   "execution_count": null,
   "id": "4cccf070",
   "metadata": {},
   "outputs": [],
   "source": []
  },
  {
   "cell_type": "code",
   "execution_count": 45,
   "id": "74836486",
   "metadata": {},
   "outputs": [],
   "source": [
    "class employee:\n",
    "    def __init__(self,JoingDate,Dept,dest,location):\n",
    "        self.jod = JoingDate\n",
    "        self.Dept = Dept\n",
    "        self.Dest = dest\n",
    "        self.loc = location\n",
    "    \n",
    "    def employee_present(self,current_year):\n",
    "        print (\"Emp working in company from last \",current_year - self.jod  , \"years\")\n",
    "    \n",
    "    def emp_loc(self):\n",
    "        print(\"emp location is\", self.loc)\n",
    "    \n",
    "    def __str__(self):\n",
    "        return \"It is employee class, where you can pass employee joing date Department location  Destignation \"\n",
    "        "
   ]
  },
  {
   "cell_type": "code",
   "execution_count": 46,
   "id": "ab43ec5b",
   "metadata": {},
   "outputs": [],
   "source": [
    "sachin = employee(2020,'IT','consultant','pune')"
   ]
  },
  {
   "cell_type": "code",
   "execution_count": 47,
   "id": "7cdf6173",
   "metadata": {},
   "outputs": [
    {
     "name": "stdout",
     "output_type": "stream",
     "text": [
      "Emp working in company from last  1 years\n"
     ]
    }
   ],
   "source": [
    "sachin.employee_present(2021)"
   ]
  },
  {
   "cell_type": "code",
   "execution_count": 48,
   "id": "262b9776",
   "metadata": {},
   "outputs": [
    {
     "name": "stdout",
     "output_type": "stream",
     "text": [
      "emp location is pune\n"
     ]
    }
   ],
   "source": [
    "sachin.emp_loc()"
   ]
  },
  {
   "cell_type": "code",
   "execution_count": 49,
   "id": "0595cec7",
   "metadata": {},
   "outputs": [
    {
     "name": "stdout",
     "output_type": "stream",
     "text": [
      "It is employee class, where you can pass employee joing date Department location  Destignation \n"
     ]
    },
    {
     "name": "stderr",
     "output_type": "stream",
     "text": [
      "Exception in callback BaseSelectorEventLoop._read_from_self()\n",
      "handle: <Handle BaseSelectorEventLoop._read_from_self()>\n",
      "Traceback (most recent call last):\n",
      "  File \"C:\\Users\\Delll\\anaconda3\\lib\\asyncio\\events.py\", line 80, in _run\n",
      "    self._context.run(self._callback, *self._args)\n",
      "  File \"C:\\Users\\Delll\\anaconda3\\lib\\asyncio\\selector_events.py\", line 120, in _read_from_self\n",
      "    data = self._ssock.recv(4096)\n",
      "ConnectionResetError: [WinError 10054] An existing connection was forcibly closed by the remote host\n",
      "Exception in callback BaseSelectorEventLoop._read_from_self()\n",
      "handle: <Handle BaseSelectorEventLoop._read_from_self()>\n",
      "Traceback (most recent call last):\n",
      "  File \"C:\\Users\\Delll\\anaconda3\\lib\\asyncio\\events.py\", line 80, in _run\n",
      "    self._context.run(self._callback, *self._args)\n",
      "  File \"C:\\Users\\Delll\\anaconda3\\lib\\asyncio\\selector_events.py\", line 120, in _read_from_self\n",
      "    data = self._ssock.recv(4096)\n",
      "ConnectionResetError: [WinError 10054] An existing connection was forcibly closed by the remote host\n",
      "Exception in callback BaseSelectorEventLoop._read_from_self()\n",
      "handle: <Handle BaseSelectorEventLoop._read_from_self()>\n",
      "Traceback (most recent call last):\n",
      "  File \"C:\\Users\\Delll\\anaconda3\\lib\\asyncio\\events.py\", line 80, in _run\n",
      "    self._context.run(self._callback, *self._args)\n",
      "  File \"C:\\Users\\Delll\\anaconda3\\lib\\asyncio\\selector_events.py\", line 120, in _read_from_self\n",
      "    data = self._ssock.recv(4096)\n",
      "ConnectionResetError: [WinError 10054] An existing connection was forcibly closed by the remote host\n",
      "Exception in callback BaseSelectorEventLoop._read_from_self()\n",
      "handle: <Handle BaseSelectorEventLoop._read_from_self()>\n",
      "Traceback (most recent call last):\n",
      "  File \"C:\\Users\\Delll\\anaconda3\\lib\\asyncio\\events.py\", line 80, in _run\n",
      "    self._context.run(self._callback, *self._args)\n",
      "  File \"C:\\Users\\Delll\\anaconda3\\lib\\asyncio\\selector_events.py\", line 120, in _read_from_self\n",
      "    data = self._ssock.recv(4096)\n",
      "ConnectionResetError: [WinError 10054] An existing connection was forcibly closed by the remote host\n",
      "Exception in callback BaseSelectorEventLoop._read_from_self()\n",
      "handle: <Handle BaseSelectorEventLoop._read_from_self()>\n",
      "Traceback (most recent call last):\n",
      "  File \"C:\\Users\\Delll\\anaconda3\\lib\\asyncio\\events.py\", line 80, in _run\n",
      "    self._context.run(self._callback, *self._args)\n",
      "  File \"C:\\Users\\Delll\\anaconda3\\lib\\asyncio\\selector_events.py\", line 120, in _read_from_self\n",
      "    data = self._ssock.recv(4096)\n",
      "ConnectionResetError: [WinError 10054] An existing connection was forcibly closed by the remote host\n",
      "Exception in callback BaseSelectorEventLoop._read_from_self()\n",
      "handle: <Handle BaseSelectorEventLoop._read_from_self()>\n",
      "Traceback (most recent call last):\n",
      "  File \"C:\\Users\\Delll\\anaconda3\\lib\\asyncio\\events.py\", line 80, in _run\n",
      "    self._context.run(self._callback, *self._args)\n",
      "  File \"C:\\Users\\Delll\\anaconda3\\lib\\asyncio\\selector_events.py\", line 120, in _read_from_self\n",
      "    data = self._ssock.recv(4096)\n",
      "ConnectionResetError: [WinError 10054] An existing connection was forcibly closed by the remote host\n",
      "Exception in callback BaseSelectorEventLoop._read_from_self()\n",
      "handle: <Handle BaseSelectorEventLoop._read_from_self()>\n",
      "Traceback (most recent call last):\n",
      "  File \"C:\\Users\\Delll\\anaconda3\\lib\\asyncio\\events.py\", line 80, in _run\n",
      "    self._context.run(self._callback, *self._args)\n",
      "  File \"C:\\Users\\Delll\\anaconda3\\lib\\asyncio\\selector_events.py\", line 120, in _read_from_self\n",
      "    data = self._ssock.recv(4096)\n",
      "ConnectionResetError: [WinError 10054] An existing connection was forcibly closed by the remote host\n",
      "Exception in callback BaseSelectorEventLoop._read_from_self()\n",
      "handle: <Handle BaseSelectorEventLoop._read_from_self()>\n",
      "Traceback (most recent call last):\n",
      "  File \"C:\\Users\\Delll\\anaconda3\\lib\\asyncio\\events.py\", line 80, in _run\n",
      "    self._context.run(self._callback, *self._args)\n",
      "  File \"C:\\Users\\Delll\\anaconda3\\lib\\asyncio\\selector_events.py\", line 120, in _read_from_self\n",
      "    data = self._ssock.recv(4096)\n",
      "ConnectionResetError: [WinError 10054] An existing connection was forcibly closed by the remote host\n",
      "Exception in callback BaseSelectorEventLoop._read_from_self()\n",
      "handle: <Handle BaseSelectorEventLoop._read_from_self()>\n",
      "Traceback (most recent call last):\n",
      "  File \"C:\\Users\\Delll\\anaconda3\\lib\\asyncio\\events.py\", line 80, in _run\n",
      "    self._context.run(self._callback, *self._args)\n",
      "  File \"C:\\Users\\Delll\\anaconda3\\lib\\asyncio\\selector_events.py\", line 120, in _read_from_self\n",
      "    data = self._ssock.recv(4096)\n",
      "ConnectionResetError: [WinError 10054] An existing connection was forcibly closed by the remote host\n",
      "Exception in callback BaseSelectorEventLoop._read_from_self()\n",
      "handle: <Handle BaseSelectorEventLoop._read_from_self()>\n",
      "Traceback (most recent call last):\n",
      "  File \"C:\\Users\\Delll\\anaconda3\\lib\\asyncio\\events.py\", line 80, in _run\n",
      "    self._context.run(self._callback, *self._args)\n",
      "  File \"C:\\Users\\Delll\\anaconda3\\lib\\asyncio\\selector_events.py\", line 120, in _read_from_self\n",
      "    data = self._ssock.recv(4096)\n",
      "ConnectionResetError: [WinError 10054] An existing connection was forcibly closed by the remote host\n",
      "Exception in callback BaseSelectorEventLoop._read_from_self()\n",
      "handle: <Handle BaseSelectorEventLoop._read_from_self()>\n",
      "Traceback (most recent call last):\n",
      "  File \"C:\\Users\\Delll\\anaconda3\\lib\\asyncio\\events.py\", line 80, in _run\n",
      "    self._context.run(self._callback, *self._args)\n",
      "  File \"C:\\Users\\Delll\\anaconda3\\lib\\asyncio\\selector_events.py\", line 120, in _read_from_self\n",
      "    data = self._ssock.recv(4096)\n",
      "ConnectionResetError: [WinError 10054] An existing connection was forcibly closed by the remote host\n",
      "Exception in callback BaseSelectorEventLoop._read_from_self()\n",
      "handle: <Handle BaseSelectorEventLoop._read_from_self()>\n",
      "Traceback (most recent call last):\n",
      "  File \"C:\\Users\\Delll\\anaconda3\\lib\\asyncio\\events.py\", line 80, in _run\n",
      "    self._context.run(self._callback, *self._args)\n",
      "  File \"C:\\Users\\Delll\\anaconda3\\lib\\asyncio\\selector_events.py\", line 120, in _read_from_self\n",
      "    data = self._ssock.recv(4096)\n",
      "ConnectionResetError: [WinError 10054] An existing connection was forcibly closed by the remote host\n",
      "Exception in callback BaseSelectorEventLoop._read_from_self()\n",
      "handle: <Handle BaseSelectorEventLoop._read_from_self()>\n",
      "Traceback (most recent call last):\n",
      "  File \"C:\\Users\\Delll\\anaconda3\\lib\\asyncio\\events.py\", line 80, in _run\n",
      "    self._context.run(self._callback, *self._args)\n",
      "  File \"C:\\Users\\Delll\\anaconda3\\lib\\asyncio\\selector_events.py\", line 120, in _read_from_self\n",
      "    data = self._ssock.recv(4096)\n",
      "ConnectionResetError: [WinError 10054] An existing connection was forcibly closed by the remote host\n",
      "Exception in callback BaseSelectorEventLoop._read_from_self()\n",
      "handle: <Handle BaseSelectorEventLoop._read_from_self()>\n",
      "Traceback (most recent call last):\n",
      "  File \"C:\\Users\\Delll\\anaconda3\\lib\\asyncio\\events.py\", line 80, in _run\n",
      "    self._context.run(self._callback, *self._args)\n",
      "  File \"C:\\Users\\Delll\\anaconda3\\lib\\asyncio\\selector_events.py\", line 120, in _read_from_self\n",
      "    data = self._ssock.recv(4096)\n",
      "ConnectionResetError: [WinError 10054] An existing connection was forcibly closed by the remote host\n",
      "Exception in callback BaseSelectorEventLoop._read_from_self()\n",
      "handle: <Handle BaseSelectorEventLoop._read_from_self()>\n",
      "Traceback (most recent call last):\n",
      "  File \"C:\\Users\\Delll\\anaconda3\\lib\\asyncio\\events.py\", line 80, in _run\n",
      "    self._context.run(self._callback, *self._args)\n",
      "  File \"C:\\Users\\Delll\\anaconda3\\lib\\asyncio\\selector_events.py\", line 120, in _read_from_self\n",
      "    data = self._ssock.recv(4096)\n",
      "ConnectionResetError: [WinError 10054] An existing connection was forcibly closed by the remote host\n",
      "Exception in callback BaseSelectorEventLoop._read_from_self()\n",
      "handle: <Handle BaseSelectorEventLoop._read_from_self()>\n",
      "Traceback (most recent call last):\n",
      "  File \"C:\\Users\\Delll\\anaconda3\\lib\\asyncio\\events.py\", line 80, in _run\n",
      "    self._context.run(self._callback, *self._args)\n",
      "  File \"C:\\Users\\Delll\\anaconda3\\lib\\asyncio\\selector_events.py\", line 120, in _read_from_self\n",
      "    data = self._ssock.recv(4096)\n",
      "ConnectionResetError: [WinError 10054] An existing connection was forcibly closed by the remote host\n",
      "Exception in callback BaseSelectorEventLoop._read_from_self()\n",
      "handle: <Handle BaseSelectorEventLoop._read_from_self()>\n",
      "Traceback (most recent call last):\n",
      "  File \"C:\\Users\\Delll\\anaconda3\\lib\\asyncio\\events.py\", line 80, in _run\n",
      "    self._context.run(self._callback, *self._args)\n",
      "  File \"C:\\Users\\Delll\\anaconda3\\lib\\asyncio\\selector_events.py\", line 120, in _read_from_self\n",
      "    data = self._ssock.recv(4096)\n",
      "ConnectionResetError: [WinError 10054] An existing connection was forcibly closed by the remote host\n"
     ]
    },
    {
     "name": "stderr",
     "output_type": "stream",
     "text": [
      "Exception in callback BaseSelectorEventLoop._read_from_self()\n",
      "handle: <Handle BaseSelectorEventLoop._read_from_self()>\n",
      "Traceback (most recent call last):\n",
      "  File \"C:\\Users\\Delll\\anaconda3\\lib\\asyncio\\events.py\", line 80, in _run\n",
      "    self._context.run(self._callback, *self._args)\n",
      "  File \"C:\\Users\\Delll\\anaconda3\\lib\\asyncio\\selector_events.py\", line 120, in _read_from_self\n",
      "    data = self._ssock.recv(4096)\n",
      "ConnectionResetError: [WinError 10054] An existing connection was forcibly closed by the remote host\n",
      "Exception in callback BaseSelectorEventLoop._read_from_self()\n",
      "handle: <Handle BaseSelectorEventLoop._read_from_self()>\n",
      "Traceback (most recent call last):\n",
      "  File \"C:\\Users\\Delll\\anaconda3\\lib\\asyncio\\events.py\", line 80, in _run\n",
      "    self._context.run(self._callback, *self._args)\n",
      "  File \"C:\\Users\\Delll\\anaconda3\\lib\\asyncio\\selector_events.py\", line 120, in _read_from_self\n",
      "    data = self._ssock.recv(4096)\n",
      "ConnectionResetError: [WinError 10054] An existing connection was forcibly closed by the remote host\n",
      "Exception in callback BaseSelectorEventLoop._read_from_self()\n",
      "handle: <Handle BaseSelectorEventLoop._read_from_self()>\n",
      "Traceback (most recent call last):\n",
      "  File \"C:\\Users\\Delll\\anaconda3\\lib\\asyncio\\events.py\", line 80, in _run\n",
      "    self._context.run(self._callback, *self._args)\n",
      "  File \"C:\\Users\\Delll\\anaconda3\\lib\\asyncio\\selector_events.py\", line 120, in _read_from_self\n",
      "    data = self._ssock.recv(4096)\n",
      "ConnectionResetError: [WinError 10054] An existing connection was forcibly closed by the remote host\n",
      "Exception in callback BaseSelectorEventLoop._read_from_self()\n",
      "handle: <Handle BaseSelectorEventLoop._read_from_self()>\n",
      "Traceback (most recent call last):\n",
      "  File \"C:\\Users\\Delll\\anaconda3\\lib\\asyncio\\events.py\", line 80, in _run\n",
      "    self._context.run(self._callback, *self._args)\n",
      "  File \"C:\\Users\\Delll\\anaconda3\\lib\\asyncio\\selector_events.py\", line 120, in _read_from_self\n",
      "    data = self._ssock.recv(4096)\n",
      "ConnectionResetError: [WinError 10054] An existing connection was forcibly closed by the remote host\n",
      "Exception in callback BaseSelectorEventLoop._read_from_self()\n",
      "handle: <Handle BaseSelectorEventLoop._read_from_self()>\n",
      "Traceback (most recent call last):\n",
      "  File \"C:\\Users\\Delll\\anaconda3\\lib\\asyncio\\events.py\", line 80, in _run\n",
      "    self._context.run(self._callback, *self._args)\n",
      "  File \"C:\\Users\\Delll\\anaconda3\\lib\\asyncio\\selector_events.py\", line 120, in _read_from_self\n",
      "    data = self._ssock.recv(4096)\n",
      "ConnectionResetError: [WinError 10054] An existing connection was forcibly closed by the remote host\n",
      "Exception in callback BaseSelectorEventLoop._read_from_self()\n",
      "handle: <Handle BaseSelectorEventLoop._read_from_self()>\n",
      "Traceback (most recent call last):\n",
      "  File \"C:\\Users\\Delll\\anaconda3\\lib\\asyncio\\events.py\", line 80, in _run\n",
      "    self._context.run(self._callback, *self._args)\n",
      "  File \"C:\\Users\\Delll\\anaconda3\\lib\\asyncio\\selector_events.py\", line 120, in _read_from_self\n",
      "    data = self._ssock.recv(4096)\n",
      "ConnectionResetError: [WinError 10054] An existing connection was forcibly closed by the remote host\n",
      "Exception in callback BaseSelectorEventLoop._read_from_self()\n",
      "handle: <Handle BaseSelectorEventLoop._read_from_self()>\n",
      "Traceback (most recent call last):\n",
      "  File \"C:\\Users\\Delll\\anaconda3\\lib\\asyncio\\events.py\", line 80, in _run\n",
      "    self._context.run(self._callback, *self._args)\n",
      "  File \"C:\\Users\\Delll\\anaconda3\\lib\\asyncio\\selector_events.py\", line 120, in _read_from_self\n",
      "    data = self._ssock.recv(4096)\n",
      "ConnectionResetError: [WinError 10054] An existing connection was forcibly closed by the remote host\n",
      "Exception in callback BaseSelectorEventLoop._read_from_self()\n",
      "handle: <Handle BaseSelectorEventLoop._read_from_self()>\n",
      "Traceback (most recent call last):\n",
      "  File \"C:\\Users\\Delll\\anaconda3\\lib\\asyncio\\events.py\", line 80, in _run\n",
      "    self._context.run(self._callback, *self._args)\n",
      "  File \"C:\\Users\\Delll\\anaconda3\\lib\\asyncio\\selector_events.py\", line 120, in _read_from_self\n",
      "    data = self._ssock.recv(4096)\n",
      "ConnectionResetError: [WinError 10054] An existing connection was forcibly closed by the remote host\n",
      "Exception in callback BaseSelectorEventLoop._read_from_self()\n",
      "handle: <Handle BaseSelectorEventLoop._read_from_self()>\n",
      "Traceback (most recent call last):\n",
      "  File \"C:\\Users\\Delll\\anaconda3\\lib\\asyncio\\events.py\", line 80, in _run\n",
      "    self._context.run(self._callback, *self._args)\n",
      "  File \"C:\\Users\\Delll\\anaconda3\\lib\\asyncio\\selector_events.py\", line 120, in _read_from_self\n",
      "    data = self._ssock.recv(4096)\n",
      "ConnectionResetError: [WinError 10054] An existing connection was forcibly closed by the remote host\n",
      "Exception in callback BaseSelectorEventLoop._read_from_self()\n",
      "handle: <Handle BaseSelectorEventLoop._read_from_self()>\n",
      "Traceback (most recent call last):\n",
      "  File \"C:\\Users\\Delll\\anaconda3\\lib\\asyncio\\events.py\", line 80, in _run\n",
      "    self._context.run(self._callback, *self._args)\n",
      "  File \"C:\\Users\\Delll\\anaconda3\\lib\\asyncio\\selector_events.py\", line 120, in _read_from_self\n",
      "    data = self._ssock.recv(4096)\n",
      "ConnectionResetError: [WinError 10054] An existing connection was forcibly closed by the remote host\n",
      "Exception in callback BaseSelectorEventLoop._read_from_self()\n",
      "handle: <Handle BaseSelectorEventLoop._read_from_self()>\n",
      "Traceback (most recent call last):\n",
      "  File \"C:\\Users\\Delll\\anaconda3\\lib\\asyncio\\events.py\", line 80, in _run\n",
      "    self._context.run(self._callback, *self._args)\n",
      "  File \"C:\\Users\\Delll\\anaconda3\\lib\\asyncio\\selector_events.py\", line 120, in _read_from_self\n",
      "    data = self._ssock.recv(4096)\n",
      "ConnectionResetError: [WinError 10054] An existing connection was forcibly closed by the remote host\n",
      "Exception in callback BaseSelectorEventLoop._read_from_self()\n",
      "handle: <Handle BaseSelectorEventLoop._read_from_self()>\n",
      "Traceback (most recent call last):\n",
      "  File \"C:\\Users\\Delll\\anaconda3\\lib\\asyncio\\events.py\", line 80, in _run\n",
      "    self._context.run(self._callback, *self._args)\n",
      "  File \"C:\\Users\\Delll\\anaconda3\\lib\\asyncio\\selector_events.py\", line 120, in _read_from_self\n",
      "    data = self._ssock.recv(4096)\n",
      "ConnectionResetError: [WinError 10054] An existing connection was forcibly closed by the remote host\n",
      "Exception in callback BaseSelectorEventLoop._read_from_self()\n",
      "handle: <Handle BaseSelectorEventLoop._read_from_self()>\n",
      "Traceback (most recent call last):\n",
      "  File \"C:\\Users\\Delll\\anaconda3\\lib\\asyncio\\events.py\", line 80, in _run\n",
      "    self._context.run(self._callback, *self._args)\n",
      "  File \"C:\\Users\\Delll\\anaconda3\\lib\\asyncio\\selector_events.py\", line 120, in _read_from_self\n",
      "    data = self._ssock.recv(4096)\n",
      "ConnectionResetError: [WinError 10054] An existing connection was forcibly closed by the remote host\n",
      "Exception in callback BaseSelectorEventLoop._read_from_self()\n",
      "handle: <Handle BaseSelectorEventLoop._read_from_self()>\n",
      "Traceback (most recent call last):\n",
      "  File \"C:\\Users\\Delll\\anaconda3\\lib\\asyncio\\events.py\", line 80, in _run\n",
      "    self._context.run(self._callback, *self._args)\n",
      "  File \"C:\\Users\\Delll\\anaconda3\\lib\\asyncio\\selector_events.py\", line 120, in _read_from_self\n",
      "    data = self._ssock.recv(4096)\n",
      "ConnectionResetError: [WinError 10054] An existing connection was forcibly closed by the remote host\n",
      "Exception in callback BaseSelectorEventLoop._read_from_self()\n",
      "handle: <Handle BaseSelectorEventLoop._read_from_self()>\n",
      "Traceback (most recent call last):\n",
      "  File \"C:\\Users\\Delll\\anaconda3\\lib\\asyncio\\events.py\", line 80, in _run\n",
      "    self._context.run(self._callback, *self._args)\n",
      "  File \"C:\\Users\\Delll\\anaconda3\\lib\\asyncio\\selector_events.py\", line 120, in _read_from_self\n",
      "    data = self._ssock.recv(4096)\n",
      "ConnectionResetError: [WinError 10054] An existing connection was forcibly closed by the remote host\n"
     ]
    }
   ],
   "source": [
    "print(sachin)"
   ]
  },
  {
   "cell_type": "code",
   "execution_count": null,
   "id": "914e260d",
   "metadata": {},
   "outputs": [],
   "source": []
  }
 ],
 "metadata": {
  "kernelspec": {
   "display_name": "Python 3 (ipykernel)",
   "language": "python",
   "name": "python3"
  },
  "language_info": {
   "codemirror_mode": {
    "name": "ipython",
    "version": 3
   },
   "file_extension": ".py",
   "mimetype": "text/x-python",
   "name": "python",
   "nbconvert_exporter": "python",
   "pygments_lexer": "ipython3",
   "version": "3.9.7"
  }
 },
 "nbformat": 4,
 "nbformat_minor": 5
}
