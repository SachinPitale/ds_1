{
 "cells": [
  {
   "cell_type": "code",
   "execution_count": 1,
   "id": "c94ea38e",
   "metadata": {},
   "outputs": [
    {
     "name": "stdout",
     "output_type": "stream",
     "text": [
      "This is my first program\n"
     ]
    }
   ],
   "source": [
    "print(\"This is my first program\")"
   ]
  },
  {
   "cell_type": "code",
   "execution_count": 2,
   "id": "d8110b9e",
   "metadata": {},
   "outputs": [],
   "source": [
    "# Single line comment\n",
    "# Print (\"Hello python\")"
   ]
  },
  {
   "cell_type": "code",
   "execution_count": 3,
   "id": "d8b7bddb",
   "metadata": {},
   "outputs": [
    {
     "data": {
      "text/plain": [
       "'\\nmultiple line comment\\nI am learning python from scatch\\n'"
      ]
     },
     "execution_count": 3,
     "metadata": {},
     "output_type": "execute_result"
    }
   ],
   "source": [
    "\"\"\"\n",
    "multiple line comment\n",
    "I am learning python from scatch\n",
    "\"\"\""
   ]
  },
  {
   "cell_type": "code",
   "execution_count": 4,
   "id": "240024de",
   "metadata": {},
   "outputs": [
    {
     "data": {
      "text/plain": [
       "10"
      ]
     },
     "execution_count": 4,
     "metadata": {},
     "output_type": "execute_result"
    }
   ],
   "source": [
    "# Variable define\n",
    "a=10\n",
    "a"
   ]
  },
  {
   "cell_type": "code",
   "execution_count": 5,
   "id": "7ae173a5",
   "metadata": {},
   "outputs": [
    {
     "data": {
      "text/plain": [
       "int"
      ]
     },
     "execution_count": 5,
     "metadata": {},
     "output_type": "execute_result"
    }
   ],
   "source": [
    "#find the datatype of variable =a\n",
    "type(a)"
   ]
  },
  {
   "cell_type": "code",
   "execution_count": 10,
   "id": "7425a8b4",
   "metadata": {},
   "outputs": [
    {
     "data": {
      "text/plain": [
       "'sachin'"
      ]
     },
     "execution_count": 10,
     "metadata": {},
     "output_type": "execute_result"
    }
   ],
   "source": [
    "b=\"sachin\"\n",
    "b"
   ]
  },
  {
   "cell_type": "code",
   "execution_count": 7,
   "id": "302965af",
   "metadata": {},
   "outputs": [
    {
     "data": {
      "text/plain": [
       "str"
      ]
     },
     "execution_count": 7,
     "metadata": {},
     "output_type": "execute_result"
    }
   ],
   "source": [
    "type(b)"
   ]
  },
  {
   "cell_type": "code",
   "execution_count": 11,
   "id": "8944b8f6",
   "metadata": {},
   "outputs": [
    {
     "name": "stdout",
     "output_type": "stream",
     "text": [
      "sachin\n"
     ]
    }
   ],
   "source": [
    "print(b)"
   ]
  },
  {
   "cell_type": "code",
   "execution_count": 12,
   "id": "287acc45",
   "metadata": {},
   "outputs": [
    {
     "name": "stdout",
     "output_type": "stream",
     "text": [
      "10 sachin\n"
     ]
    }
   ],
   "source": [
    "print(a,b)"
   ]
  },
  {
   "cell_type": "code",
   "execution_count": 13,
   "id": "cc4018b9",
   "metadata": {},
   "outputs": [
    {
     "name": "stdout",
     "output_type": "stream",
     "text": [
      "10 sachin Hello\n"
     ]
    }
   ],
   "source": [
    "print(a,b, \"Hello\")"
   ]
  },
  {
   "cell_type": "code",
   "execution_count": 18,
   "id": "c22a9b53",
   "metadata": {},
   "outputs": [
    {
     "name": "stdout",
     "output_type": "stream",
     "text": [
      "sachin IT\n"
     ]
    },
    {
     "data": {
      "text/plain": [
       "'IT'"
      ]
     },
     "execution_count": 18,
     "metadata": {},
     "output_type": "execute_result"
    }
   ],
   "source": [
    "#Define the variable in single line\n",
    "\n",
    "Name, Dept = \"sachin\", \"IT\"\n",
    "\n",
    "print(Name,Dept)\n"
   ]
  },
  {
   "cell_type": "code",
   "execution_count": 21,
   "id": "ba9c0826",
   "metadata": {},
   "outputs": [
    {
     "data": {
      "text/plain": [
       "'sachin'"
      ]
     },
     "execution_count": 21,
     "metadata": {},
     "output_type": "execute_result"
    }
   ],
   "source": [
    "Name\n"
   ]
  },
  {
   "cell_type": "code",
   "execution_count": 20,
   "id": "9d83ddd5",
   "metadata": {},
   "outputs": [
    {
     "data": {
      "text/plain": [
       "'IT'"
      ]
     },
     "execution_count": 20,
     "metadata": {},
     "output_type": "execute_result"
    }
   ],
   "source": [
    "Dept"
   ]
  },
  {
   "cell_type": "code",
   "execution_count": 22,
   "id": "63e2706a",
   "metadata": {},
   "outputs": [
    {
     "data": {
      "text/plain": [
       "1.6"
      ]
     },
     "execution_count": 22,
     "metadata": {},
     "output_type": "execute_result"
    }
   ],
   "source": [
    "c = 1.6\n",
    "c"
   ]
  },
  {
   "cell_type": "code",
   "execution_count": 23,
   "id": "6320110a",
   "metadata": {},
   "outputs": [
    {
     "data": {
      "text/plain": [
       "float"
      ]
     },
     "execution_count": 23,
     "metadata": {},
     "output_type": "execute_result"
    }
   ],
   "source": [
    "type(c)"
   ]
  },
  {
   "cell_type": "code",
   "execution_count": 25,
   "id": "651de3a4",
   "metadata": {},
   "outputs": [
    {
     "data": {
      "text/plain": [
       "(True, False)"
      ]
     },
     "execution_count": 25,
     "metadata": {},
     "output_type": "execute_result"
    }
   ],
   "source": [
    "# boolen variable\n",
    "\n",
    "d = True\n",
    "e = False\n",
    "d, e"
   ]
  },
  {
   "cell_type": "code",
   "execution_count": 26,
   "id": "caeaab73",
   "metadata": {},
   "outputs": [
    {
     "data": {
      "text/plain": [
       "bool"
      ]
     },
     "execution_count": 26,
     "metadata": {},
     "output_type": "execute_result"
    }
   ],
   "source": [
    "type(d)"
   ]
  },
  {
   "cell_type": "code",
   "execution_count": 27,
   "id": "3bb5ad23",
   "metadata": {},
   "outputs": [
    {
     "data": {
      "text/plain": [
       "bool"
      ]
     },
     "execution_count": 27,
     "metadata": {},
     "output_type": "execute_result"
    }
   ],
   "source": [
    "type(e)"
   ]
  },
  {
   "cell_type": "code",
   "execution_count": 30,
   "id": "b0dafc56",
   "metadata": {},
   "outputs": [
    {
     "name": "stdout",
     "output_type": "stream",
     "text": [
      "4\n",
      "0\n"
     ]
    }
   ],
   "source": [
    "print (True + True + True + False + True )\n",
    "print (False - True + True )"
   ]
  },
  {
   "cell_type": "code",
   "execution_count": 34,
   "id": "53a4898e",
   "metadata": {},
   "outputs": [
    {
     "ename": "ZeroDivisionError",
     "evalue": "division by zero",
     "output_type": "error",
     "traceback": [
      "\u001b[1;31m---------------------------------------------------------------------------\u001b[0m",
      "\u001b[1;31mZeroDivisionError\u001b[0m                         Traceback (most recent call last)",
      "\u001b[1;32m~\\AppData\\Local\\Temp/ipykernel_11516/772423512.py\u001b[0m in \u001b[0;36m<module>\u001b[1;34m\u001b[0m\n\u001b[1;32m----> 1\u001b[1;33m \u001b[0mprint\u001b[0m \u001b[1;33m(\u001b[0m \u001b[1;32mTrue\u001b[0m \u001b[1;33m/\u001b[0m \u001b[1;32mFalse\u001b[0m \u001b[1;33m)\u001b[0m\u001b[1;33m\u001b[0m\u001b[1;33m\u001b[0m\u001b[0m\n\u001b[0m",
      "\u001b[1;31mZeroDivisionError\u001b[0m: division by zero"
     ]
    }
   ],
   "source": [
    "print ( True / False )"
   ]
  },
  {
   "cell_type": "code",
   "execution_count": 35,
   "id": "d495eb3e",
   "metadata": {},
   "outputs": [
    {
     "data": {
      "text/plain": [
       "(45+6j)"
      ]
     },
     "execution_count": 35,
     "metadata": {},
     "output_type": "execute_result"
    }
   ],
   "source": [
    "# complex data type and \"j\" is only notation for python programing. If we use any letter except j. It will  give a error.\n",
    "e = 45 + 6j\n",
    "e"
   ]
  },
  {
   "cell_type": "code",
   "execution_count": 36,
   "id": "24aa0e7b",
   "metadata": {},
   "outputs": [
    {
     "data": {
      "text/plain": [
       "complex"
      ]
     },
     "execution_count": 36,
     "metadata": {},
     "output_type": "execute_result"
    }
   ],
   "source": [
    "type(e)"
   ]
  },
  {
   "cell_type": "code",
   "execution_count": 37,
   "id": "4ace2ddd",
   "metadata": {},
   "outputs": [
    {
     "data": {
      "text/plain": [
       "45.0"
      ]
     },
     "execution_count": 37,
     "metadata": {},
     "output_type": "execute_result"
    }
   ],
   "source": [
    "# Get the real number\n",
    "e.real"
   ]
  },
  {
   "cell_type": "code",
   "execution_count": 38,
   "id": "f4aa213a",
   "metadata": {},
   "outputs": [
    {
     "data": {
      "text/plain": [
       "6.0"
      ]
     },
     "execution_count": 38,
     "metadata": {},
     "output_type": "execute_result"
    }
   ],
   "source": [
    "# Get the imag number\n",
    "e.imag"
   ]
  },
  {
   "cell_type": "code",
   "execution_count": 1,
   "id": "b1c1c505",
   "metadata": {},
   "outputs": [
    {
     "ename": "TypeError",
     "evalue": "unsupported operand type(s) for +: 'int' and 'str'",
     "output_type": "error",
     "traceback": [
      "\u001b[1;31m---------------------------------------------------------------------------\u001b[0m",
      "\u001b[1;31mTypeError\u001b[0m                                 Traceback (most recent call last)",
      "\u001b[1;32m~\\AppData\\Local\\Temp/ipykernel_10008/3910634517.py\u001b[0m in \u001b[0;36m<module>\u001b[1;34m\u001b[0m\n\u001b[1;32m----> 1\u001b[1;33m \u001b[1;36m1\u001b[0m \u001b[1;33m+\u001b[0m \u001b[1;34m\"Sachin\"\u001b[0m\u001b[1;33m\u001b[0m\u001b[1;33m\u001b[0m\u001b[0m\n\u001b[0m",
      "\u001b[1;31mTypeError\u001b[0m: unsupported operand type(s) for +: 'int' and 'str'"
     ]
    }
   ],
   "source": [
    "1 + \"Sachin\""
   ]
  },
  {
   "cell_type": "code",
   "execution_count": 2,
   "id": "c3294e49",
   "metadata": {},
   "outputs": [
    {
     "data": {
      "text/plain": [
       "'1sachin'"
      ]
     },
     "execution_count": 2,
     "metadata": {},
     "output_type": "execute_result"
    }
   ],
   "source": [
    "str(1) + \"sachin\""
   ]
  },
  {
   "cell_type": "code",
   "execution_count": 3,
   "id": "05bceb27",
   "metadata": {},
   "outputs": [
    {
     "data": {
      "text/plain": [
       "2.0"
      ]
     },
     "execution_count": 3,
     "metadata": {},
     "output_type": "execute_result"
    }
   ],
   "source": [
    "1 + 1.0"
   ]
  },
  {
   "cell_type": "code",
   "execution_count": 4,
   "id": "36fa727e",
   "metadata": {},
   "outputs": [
    {
     "data": {
      "text/plain": [
       "'sachinsachinsachin'"
      ]
     },
     "execution_count": 4,
     "metadata": {},
     "output_type": "execute_result"
    }
   ],
   "source": [
    "\"sachin\" + \"sachin\" + \"sachin\""
   ]
  },
  {
   "cell_type": "code",
   "execution_count": 5,
   "id": "492edec7",
   "metadata": {},
   "outputs": [
    {
     "data": {
      "text/plain": [
       "'sachinsachinsachin'"
      ]
     },
     "execution_count": 5,
     "metadata": {},
     "output_type": "execute_result"
    }
   ],
   "source": [
    "\"sachin\" * 3"
   ]
  },
  {
   "cell_type": "code",
   "execution_count": 7,
   "id": "aa4e09e7",
   "metadata": {},
   "outputs": [
    {
     "data": {
      "text/plain": [
       "'--------------Hello Python-------------------------------Hello Python-----------------'"
      ]
     },
     "execution_count": 7,
     "metadata": {},
     "output_type": "execute_result"
    }
   ],
   "source": [
    "\"--------------Hello Python-----------------\" * 2"
   ]
  },
  {
   "cell_type": "code",
   "execution_count": 8,
   "id": "cab7ce1f",
   "metadata": {},
   "outputs": [
    {
     "ename": "TypeError",
     "evalue": "can't multiply sequence by non-int of type 'str'",
     "output_type": "error",
     "traceback": [
      "\u001b[1;31m---------------------------------------------------------------------------\u001b[0m",
      "\u001b[1;31mTypeError\u001b[0m                                 Traceback (most recent call last)",
      "\u001b[1;32m~\\AppData\\Local\\Temp/ipykernel_10008/3201368900.py\u001b[0m in \u001b[0;36m<module>\u001b[1;34m\u001b[0m\n\u001b[1;32m----> 1\u001b[1;33m \u001b[1;34m\"sachin\"\u001b[0m \u001b[1;33m*\u001b[0m \u001b[1;34m\"sachin\"\u001b[0m\u001b[1;33m\u001b[0m\u001b[1;33m\u001b[0m\u001b[0m\n\u001b[0m",
      "\u001b[1;31mTypeError\u001b[0m: can't multiply sequence by non-int of type 'str'"
     ]
    }
   ],
   "source": []
  },
  {
   "cell_type": "code",
   "execution_count": 13,
   "id": "7822bff8",
   "metadata": {},
   "outputs": [
    {
     "name": "stdout",
     "output_type": "stream",
     "text": [
      "hello\n"
     ]
    }
   ],
   "source": [
    "# To ask value from user by input() function. It by default data type is string\n",
    "\n",
    "f_one = input()\n"
   ]
  },
  {
   "cell_type": "code",
   "execution_count": 15,
   "id": "2fff3963",
   "metadata": {},
   "outputs": [
    {
     "name": "stdout",
     "output_type": "stream",
     "text": [
      "hello\n"
     ]
    }
   ],
   "source": [
    "print (f_one)"
   ]
  },
  {
   "cell_type": "code",
   "execution_count": 12,
   "id": "eab203e0",
   "metadata": {},
   "outputs": [
    {
     "name": "stdout",
     "output_type": "stream",
     "text": [
      "Enter your name:  Sachin\n",
      "Welcome to python class  Sachin\n"
     ]
    }
   ],
   "source": [
    "Name = input(\"Enter your name:  \")\n",
    "print (\"Welcome to python class \", Name)"
   ]
  },
  {
   "cell_type": "code",
   "execution_count": 22,
   "id": "1ebb2feb",
   "metadata": {},
   "outputs": [
    {
     "name": "stdout",
     "output_type": "stream",
     "text": [
      "Enter your first number:  10\n",
      "Enter your second number:  20\n",
      "Enter your third number:  5\n",
      "6.0\n",
      "(10+5j)\n",
      "(10+5j)Sachin\n"
     ]
    }
   ],
   "source": [
    "com_number = 4+5j\n",
    "a = int(input(\"Enter your first number:  \"))\n",
    "b = int(input(\"Enter your second number:  \"))\n",
    "c = int(input(\"Enter your third number:  \"))\n",
    "\n",
    "O_one =  (a + b) / c\n",
    "print (O_one)\n",
    "O_two = O_one + com_number\n",
    "print (O_two)\n",
    "O_three = str(O_two) + \"Sachin\"\n",
    "print (O_three)"
   ]
  },
  {
   "cell_type": "code",
   "execution_count": 24,
   "id": "ca536f7e",
   "metadata": {},
   "outputs": [
    {
     "name": "stdout",
     "output_type": "stream",
     "text": [
      "Enter your three interger number:  10\n"
     ]
    },
    {
     "ename": "TypeError",
     "evalue": "int() argument must be a string, a bytes-like object or a number, not 'list'",
     "output_type": "error",
     "traceback": [
      "\u001b[1;31m---------------------------------------------------------------------------\u001b[0m",
      "\u001b[1;31mTypeError\u001b[0m                                 Traceback (most recent call last)",
      "\u001b[1;32m~\\AppData\\Local\\Temp/ipykernel_10008/3782457818.py\u001b[0m in \u001b[0;36m<module>\u001b[1;34m\u001b[0m\n\u001b[1;32m----> 1\u001b[1;33m \u001b[0mx\u001b[0m\u001b[1;33m,\u001b[0m \u001b[0my\u001b[0m\u001b[1;33m,\u001b[0m \u001b[0mz\u001b[0m \u001b[1;33m=\u001b[0m \u001b[0mint\u001b[0m\u001b[1;33m(\u001b[0m\u001b[0minput\u001b[0m\u001b[1;33m(\u001b[0m\u001b[1;34m\"Enter your three interger number:  \"\u001b[0m\u001b[1;33m)\u001b[0m\u001b[1;33m.\u001b[0m\u001b[0msplit\u001b[0m\u001b[1;33m(\u001b[0m\u001b[1;34m\" \"\u001b[0m\u001b[1;33m)\u001b[0m\u001b[1;33m)\u001b[0m\u001b[1;33m\u001b[0m\u001b[1;33m\u001b[0m\u001b[0m\n\u001b[0m\u001b[0;32m      2\u001b[0m \u001b[0mprint\u001b[0m \u001b[1;33m(\u001b[0m\u001b[0mx\u001b[0m\u001b[1;33m,\u001b[0m \u001b[0my\u001b[0m\u001b[1;33m,\u001b[0m \u001b[0mz\u001b[0m\u001b[1;33m)\u001b[0m\u001b[1;33m\u001b[0m\u001b[1;33m\u001b[0m\u001b[0m\n",
      "\u001b[1;31mTypeError\u001b[0m: int() argument must be a string, a bytes-like object or a number, not 'list'"
     ]
    }
   ],
   "source": [
    "x, y, z = int(input(\"Enter your three interger number:  \").split(\" \"))\n",
    "print (x, y, z)\n"
   ]
  },
  {
   "cell_type": "code",
   "execution_count": 28,
   "id": "f0662fc3",
   "metadata": {},
   "outputs": [
    {
     "name": "stdout",
     "output_type": "stream",
     "text": [
      "Enter your number: 59\n",
      "You enter number is greater than 34\n"
     ]
    }
   ],
   "source": [
    "a = int(input(\"Enter your number: \"))\n",
    "if a < 34:\n",
    "    print (\"You enter number is less than 34\")\n",
    "else:\n",
    "    print (\"You enter number is greater than 34\")\n",
    "    "
   ]
  },
  {
   "cell_type": "code",
   "execution_count": null,
   "id": "50c5a244",
   "metadata": {},
   "outputs": [],
   "source": [
    "b = int(input(\"Ente your number: \"))\n",
    "if b < 34:\n",
    "    print (\"You enter number is less than 34\")\n",
    "elif b < 100:\n",
    "    print (\"You enter number is less than 100\")\n",
    "else:\n",
    "    print (\"You enter number is not less than 34\")\n",
    "    "
   ]
  },
  {
   "cell_type": "code",
   "execution_count": 1,
   "id": "e96fb2ac",
   "metadata": {},
   "outputs": [
    {
     "name": "stdout",
     "output_type": "stream",
     "text": [
      "Enter your salary:  35\n",
      "You can save money\n"
     ]
    }
   ],
   "source": [
    "salary = int(input(\"Enter your salary:  \"))\n",
    "\n",
    "if salary > 100000:\n",
    "    print (\"You can buy a home: \")\n",
    "elif salary > 50000:\n",
    "    print (\"You can  buy a bike\")\n",
    "elif salary > 10000:\n",
    "    print(\"You can't buy anything\")\n",
    "else:\n",
    "    print (\"You can save money\")\n",
    "    \n",
    "        "
   ]
  },
  {
   "cell_type": "code",
   "execution_count": 5,
   "id": "bdafe59e",
   "metadata": {},
   "outputs": [
    {
     "name": "stdout",
     "output_type": "stream",
     "text": [
      "Enter your salary:  4000\n",
      "You can buy a home: \n",
      "You can buy car nano\n",
      "False statement\n"
     ]
    }
   ],
   "source": [
    "salary = int(input(\"Enter your salary:  \"))\n",
    "\n",
    "if salary > 1000:\n",
    "    print (\"You can buy a home: \")\n",
    "    if salary < 5000:\n",
    "        print (\"You can buy car nano\")\n",
    "        if True:\n",
    "            print (\"False statement\")\n",
    "    elif salary < 10000:\n",
    "        print (\"You can buy car maruti\")\n",
    "    elif salary < 50000:\n",
    "        print (\"you can buy car toyoto\")\n",
    "    else:\n",
    "        print(\"You can give a car on rent\")\n",
    "elif salary > 50000:\n",
    "    print (\"You can  buy a bike\")\n",
    "elif salary > 10000:\n",
    "    print(\"You can't buy anything\")\n",
    "else:\n",
    "    print (\"You can save money\")"
   ]
  },
  {
   "cell_type": "code",
   "execution_count": null,
   "id": "cbfa1c1a",
   "metadata": {},
   "outputs": [],
   "source": []
  }
 ],
 "metadata": {
  "kernelspec": {
   "display_name": "Python 3 (ipykernel)",
   "language": "python",
   "name": "python3"
  },
  "language_info": {
   "codemirror_mode": {
    "name": "ipython",
    "version": 3
   },
   "file_extension": ".py",
   "mimetype": "text/x-python",
   "name": "python",
   "nbconvert_exporter": "python",
   "pygments_lexer": "ipython3",
   "version": "3.9.7"
  }
 },
 "nbformat": 4,
 "nbformat_minor": 5
}
