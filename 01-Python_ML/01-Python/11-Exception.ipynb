{
 "cells": [
  {
   "cell_type": "code",
   "execution_count": 1,
   "id": "b43e8d7a",
   "metadata": {},
   "outputs": [
    {
     "ename": "SyntaxError",
     "evalue": "EOL while scanning string literal (Temp/ipykernel_11284/2872229009.py, line 1)",
     "output_type": "error",
     "traceback": [
      "\u001b[1;36m  File \u001b[1;32m\"C:\\Users\\Delll\\AppData\\Local\\Temp/ipykernel_11284/2872229009.py\"\u001b[1;36m, line \u001b[1;32m1\u001b[0m\n\u001b[1;33m    print(\"adfafa)\u001b[0m\n\u001b[1;37m                  ^\u001b[0m\n\u001b[1;31mSyntaxError\u001b[0m\u001b[1;31m:\u001b[0m EOL while scanning string literal\n"
     ]
    }
   ],
   "source": [
    "print(\"adfafa)"
   ]
  },
  {
   "cell_type": "code",
   "execution_count": 2,
   "id": "9540b8ae",
   "metadata": {},
   "outputs": [],
   "source": [
    "def test():\n",
    "    return 5/0"
   ]
  },
  {
   "cell_type": "code",
   "execution_count": 3,
   "id": "43668c85",
   "metadata": {},
   "outputs": [
    {
     "ename": "ZeroDivisionError",
     "evalue": "division by zero",
     "output_type": "error",
     "traceback": [
      "\u001b[1;31m---------------------------------------------------------------------------\u001b[0m",
      "\u001b[1;31mZeroDivisionError\u001b[0m                         Traceback (most recent call last)",
      "\u001b[1;32m~\\AppData\\Local\\Temp/ipykernel_11284/756179265.py\u001b[0m in \u001b[0;36m<module>\u001b[1;34m\u001b[0m\n\u001b[1;32m----> 1\u001b[1;33m \u001b[0mtest\u001b[0m\u001b[1;33m(\u001b[0m\u001b[1;33m)\u001b[0m\u001b[1;33m\u001b[0m\u001b[1;33m\u001b[0m\u001b[0m\n\u001b[0m",
      "\u001b[1;32m~\\AppData\\Local\\Temp/ipykernel_11284/784273055.py\u001b[0m in \u001b[0;36mtest\u001b[1;34m()\u001b[0m\n\u001b[0;32m      1\u001b[0m \u001b[1;32mdef\u001b[0m \u001b[0mtest\u001b[0m\u001b[1;33m(\u001b[0m\u001b[1;33m)\u001b[0m\u001b[1;33m:\u001b[0m\u001b[1;33m\u001b[0m\u001b[1;33m\u001b[0m\u001b[0m\n\u001b[1;32m----> 2\u001b[1;33m     \u001b[1;32mreturn\u001b[0m \u001b[1;36m5\u001b[0m\u001b[1;33m/\u001b[0m\u001b[1;36m0\u001b[0m\u001b[1;33m\u001b[0m\u001b[1;33m\u001b[0m\u001b[0m\n\u001b[0m",
      "\u001b[1;31mZeroDivisionError\u001b[0m: division by zero"
     ]
    }
   ],
   "source": [
    "test()"
   ]
  },
  {
   "cell_type": "code",
   "execution_count": 4,
   "id": "a3317d04",
   "metadata": {},
   "outputs": [],
   "source": [
    "import os"
   ]
  },
  {
   "cell_type": "code",
   "execution_count": 6,
   "id": "00b4de6d",
   "metadata": {},
   "outputs": [
    {
     "ename": "FileNotFoundError",
     "evalue": "[Errno 2] No such file or directory: 'test.txt'",
     "output_type": "error",
     "traceback": [
      "\u001b[1;31m---------------------------------------------------------------------------\u001b[0m",
      "\u001b[1;31mFileNotFoundError\u001b[0m                         Traceback (most recent call last)",
      "\u001b[1;32m~\\AppData\\Local\\Temp/ipykernel_11284/4134432122.py\u001b[0m in \u001b[0;36m<module>\u001b[1;34m\u001b[0m\n\u001b[1;32m----> 1\u001b[1;33m \u001b[0ma\u001b[0m \u001b[1;33m=\u001b[0m \u001b[0mopen\u001b[0m\u001b[1;33m(\u001b[0m\u001b[1;34m\"test.txt\"\u001b[0m\u001b[1;33m,\u001b[0m \u001b[1;34m\"r\"\u001b[0m\u001b[1;33m)\u001b[0m\u001b[1;33m\u001b[0m\u001b[1;33m\u001b[0m\u001b[0m\n\u001b[0m",
      "\u001b[1;31mFileNotFoundError\u001b[0m: [Errno 2] No such file or directory: 'test.txt'"
     ]
    }
   ],
   "source": [
    "a = open(\"test.txt\", \"r\")"
   ]
  },
  {
   "cell_type": "code",
   "execution_count": 7,
   "id": "9e33930c",
   "metadata": {},
   "outputs": [],
   "source": [
    "try:\n",
    "    a = open(\"test.txt\",\"r\")\n",
    "except:\n",
    "    pass"
   ]
  },
  {
   "cell_type": "code",
   "execution_count": 8,
   "id": "c5e4b5d2",
   "metadata": {},
   "outputs": [
    {
     "name": "stdout",
     "output_type": "stream",
     "text": [
      "There is some issue with my code\n"
     ]
    }
   ],
   "source": [
    "try:\n",
    "    a = open(\"test.txt\",\"r\")\n",
    "except:\n",
    "    print(\"There is some issue with my code\")"
   ]
  },
  {
   "cell_type": "code",
   "execution_count": null,
   "id": "9b6cbe52",
   "metadata": {},
   "outputs": [],
   "source": []
  },
  {
   "cell_type": "code",
   "execution_count": 12,
   "id": "0ef85b27",
   "metadata": {},
   "outputs": [
    {
     "name": "stdout",
     "output_type": "stream",
     "text": [
      "There is some issue with my code\n"
     ]
    }
   ],
   "source": [
    "try:\n",
    "    a = 5/0\n",
    "except :\n",
    "    print (\"There is some issue with my code\")"
   ]
  },
  {
   "cell_type": "code",
   "execution_count": 16,
   "id": "6dc5e5a5",
   "metadata": {},
   "outputs": [
    {
     "ename": "ZeroDivisionError",
     "evalue": "division by zero",
     "output_type": "error",
     "traceback": [
      "\u001b[1;31m---------------------------------------------------------------------------\u001b[0m",
      "\u001b[1;31mZeroDivisionError\u001b[0m                         Traceback (most recent call last)",
      "\u001b[1;32m~\\AppData\\Local\\Temp/ipykernel_11284/4090832167.py\u001b[0m in \u001b[0;36m<module>\u001b[1;34m\u001b[0m\n\u001b[0;32m      1\u001b[0m \u001b[1;32mtry\u001b[0m\u001b[1;33m:\u001b[0m\u001b[1;33m\u001b[0m\u001b[1;33m\u001b[0m\u001b[0m\n\u001b[1;32m----> 2\u001b[1;33m     \u001b[0ma\u001b[0m \u001b[1;33m=\u001b[0m \u001b[1;36m5\u001b[0m\u001b[1;33m/\u001b[0m\u001b[1;36m0\u001b[0m\u001b[1;33m\u001b[0m\u001b[1;33m\u001b[0m\u001b[0m\n\u001b[0m\u001b[0;32m      3\u001b[0m \u001b[1;32mexcept\u001b[0m \u001b[0mIOError\u001b[0m\u001b[1;33m:\u001b[0m\u001b[1;33m\u001b[0m\u001b[1;33m\u001b[0m\u001b[0m\n\u001b[0;32m      4\u001b[0m     \u001b[0mprint\u001b[0m \u001b[1;33m(\u001b[0m\u001b[1;34m\"There is some issue with my code\"\u001b[0m\u001b[1;33m)\u001b[0m\u001b[1;33m\u001b[0m\u001b[1;33m\u001b[0m\u001b[0m\n",
      "\u001b[1;31mZeroDivisionError\u001b[0m: division by zero"
     ]
    }
   ],
   "source": [
    "try:\n",
    "    a = 5/0\n",
    "except IOError:\n",
    "    print (\"There is some issue with my code\")"
   ]
  },
  {
   "cell_type": "code",
   "execution_count": 13,
   "id": "540681f1",
   "metadata": {},
   "outputs": [
    {
     "name": "stdout",
     "output_type": "stream",
     "text": [
      "There is some issue with my code division by zero\n"
     ]
    }
   ],
   "source": [
    "try:\n",
    "    a = 5/0\n",
    "except ArithmeticError as e:\n",
    "    print (\"There is some issue with my code\",e)"
   ]
  },
  {
   "cell_type": "code",
   "execution_count": 18,
   "id": "16cbebbd",
   "metadata": {},
   "outputs": [
    {
     "name": "stdout",
     "output_type": "stream",
     "text": [
      "This will execute once try block will execute with success\n"
     ]
    }
   ],
   "source": [
    "try:\n",
    "    a = 5/2\n",
    "except ArithmeticError as e:\n",
    "    print (\"There is some issue with my code\",e)\n",
    "else:\n",
    "    print(\"This will execute once try block will execute with success\")"
   ]
  },
  {
   "cell_type": "code",
   "execution_count": 19,
   "id": "0de65ce4",
   "metadata": {},
   "outputs": [
    {
     "name": "stdout",
     "output_type": "stream",
     "text": [
      "This will execute once try block will execute with success\n"
     ]
    },
    {
     "ename": "FileNotFoundError",
     "evalue": "[Errno 2] No such file or directory: 'test.txt'",
     "output_type": "error",
     "traceback": [
      "\u001b[1;31m---------------------------------------------------------------------------\u001b[0m",
      "\u001b[1;31mFileNotFoundError\u001b[0m                         Traceback (most recent call last)",
      "\u001b[1;32m~\\AppData\\Local\\Temp/ipykernel_11284/2711071215.py\u001b[0m in \u001b[0;36m<module>\u001b[1;34m\u001b[0m\n\u001b[0;32m      5\u001b[0m \u001b[1;32melse\u001b[0m\u001b[1;33m:\u001b[0m\u001b[1;33m\u001b[0m\u001b[1;33m\u001b[0m\u001b[0m\n\u001b[0;32m      6\u001b[0m     \u001b[0mprint\u001b[0m\u001b[1;33m(\u001b[0m\u001b[1;34m\"This will execute once try block will execute with success\"\u001b[0m\u001b[1;33m)\u001b[0m\u001b[1;33m\u001b[0m\u001b[1;33m\u001b[0m\u001b[0m\n\u001b[1;32m----> 7\u001b[1;33m     \u001b[0mb\u001b[0m \u001b[1;33m=\u001b[0m \u001b[0mopen\u001b[0m\u001b[1;33m(\u001b[0m\u001b[1;34m\"test.txt\"\u001b[0m\u001b[1;33m,\u001b[0m\u001b[1;34m\"r\"\u001b[0m\u001b[1;33m)\u001b[0m\u001b[1;33m\u001b[0m\u001b[1;33m\u001b[0m\u001b[0m\n\u001b[0m",
      "\u001b[1;31mFileNotFoundError\u001b[0m: [Errno 2] No such file or directory: 'test.txt'"
     ]
    }
   ],
   "source": [
    "try:\n",
    "    a = 5/2\n",
    "except ArithmeticError as e:\n",
    "    print (\"There is some issue with my code\",e)\n",
    "else:\n",
    "    print(\"This will execute once try block will execute with success\")\n",
    "    b = open(\"test.txt\",\"r\")"
   ]
  },
  {
   "cell_type": "code",
   "execution_count": 23,
   "id": "a337d26e",
   "metadata": {},
   "outputs": [
    {
     "name": "stdout",
     "output_type": "stream",
     "text": [
      "This will execute once try block will execute with success\n",
      "This is an issue with internal try block\n"
     ]
    }
   ],
   "source": [
    "try:\n",
    "    a = 5/2\n",
    "except ArithmeticError as e:\n",
    "    print (\"There is some issue with my code\",e)\n",
    "else:\n",
    "    print(\"This will execute once try block will execute with success\")\n",
    "    try:\n",
    "        b = open(\"test.txt\",\"r\")\n",
    "    except:\n",
    "        print(\"This is an issue with internal try block\")"
   ]
  },
  {
   "cell_type": "code",
   "execution_count": 24,
   "id": "b33352c2",
   "metadata": {},
   "outputs": [
    {
     "name": "stdout",
     "output_type": "stream",
     "text": [
      "There is some issue with my code division by zero\n"
     ]
    }
   ],
   "source": [
    "try:\n",
    "    a = 5/0\n",
    "except ArithmeticError as e:\n",
    "    print (\"There is some issue with my code\",e)\n",
    "else:\n",
    "    print(\"This will execute once try block will execute with success\")\n",
    "    try:\n",
    "        b = open(\"test.txt\",\"r\")\n",
    "    except:\n",
    "        print(\"This is an issue with internal try block\")"
   ]
  },
  {
   "cell_type": "code",
   "execution_count": 7,
   "id": "f11e6f93",
   "metadata": {},
   "outputs": [
    {
     "name": "stdout",
     "output_type": "stream",
     "text": [
      "Enter your first number: 5\n",
      "Enter your second number: 2\n",
      "This will execute once try block will execute with success\n"
     ]
    }
   ],
   "source": [
    "try:\n",
    "    a = int(input(\"Enter your first number: \"))\n",
    "    b = int(input(\"Enter your second number: \"))\n",
    "    c = a / b\n",
    "except ArithmeticError as e:\n",
    "    print (\"There is some issue with my code\",e)\n",
    "    d = open(\"test.txt\",\"w+\")\n",
    "else:\n",
    "    print(\"This will execute once try block will execute with success\")\n",
    "    try:\n",
    "        e = open(\"test.txt\",\"r\")\n",
    "    except:\n",
    "        print(\"This is an issue with internal try block\")"
   ]
  },
  {
   "cell_type": "code",
   "execution_count": 15,
   "id": "d78cb74d",
   "metadata": {},
   "outputs": [],
   "source": [
    "l1 = [3,4,5,6,7,8]"
   ]
  },
  {
   "cell_type": "code",
   "execution_count": 16,
   "id": "dff51217",
   "metadata": {},
   "outputs": [
    {
     "ename": "IndexError",
     "evalue": "list index out of range",
     "output_type": "error",
     "traceback": [
      "\u001b[1;31m---------------------------------------------------------------------------\u001b[0m",
      "\u001b[1;31mIndexError\u001b[0m                                Traceback (most recent call last)",
      "\u001b[1;32m~\\AppData\\Local\\Temp/ipykernel_460/2422500831.py\u001b[0m in \u001b[0;36m<module>\u001b[1;34m\u001b[0m\n\u001b[1;32m----> 1\u001b[1;33m \u001b[0ml1\u001b[0m\u001b[1;33m[\u001b[0m\u001b[1;36m100\u001b[0m\u001b[1;33m]\u001b[0m\u001b[1;33m\u001b[0m\u001b[1;33m\u001b[0m\u001b[0m\n\u001b[0m",
      "\u001b[1;31mIndexError\u001b[0m: list index out of range"
     ]
    }
   ],
   "source": [
    "l1[100]"
   ]
  },
  {
   "cell_type": "code",
   "execution_count": 24,
   "id": "f403df28",
   "metadata": {},
   "outputs": [
    {
     "name": "stdout",
     "output_type": "stream",
     "text": [
      "Enter your number which you want to access from list: 100\n",
      "your execution has failed because of the error:  list index out of range\n",
      "(11, 12, 21, 13, 14)\n",
      "'tuple' object does not support item assignment\n"
     ]
    }
   ],
   "source": [
    "l = [3,4,5,6,7,8]\n",
    "t = (11,12,21,13,14)\n",
    "a = int(input(\"Enter your number which you want to access from list: \"))\n",
    "\n",
    "try:\n",
    "    b = (l[a])\n",
    "except IndexError as e:\n",
    "    print(\"your execution has failed because of the error: \",e)\n",
    "    print(t)\n",
    "    try:\n",
    "        t[0] = \"sachin\"\n",
    "    except TypeError as t:\n",
    "        print (t)\n",
    "else:\n",
    "    print(b)\n",
    "    print(t)"
   ]
  },
  {
   "cell_type": "code",
   "execution_count": 22,
   "id": "ea5e5e13",
   "metadata": {},
   "outputs": [
    {
     "data": {
      "text/plain": [
       "(11, 12, 21, 13, 14)"
      ]
     },
     "execution_count": 22,
     "metadata": {},
     "output_type": "execute_result"
    }
   ],
   "source": [
    "t"
   ]
  },
  {
   "cell_type": "code",
   "execution_count": null,
   "id": "63f2fad9",
   "metadata": {},
   "outputs": [],
   "source": []
  },
  {
   "cell_type": "code",
   "execution_count": 29,
   "id": "240de380",
   "metadata": {},
   "outputs": [
    {
     "name": "stdout",
     "output_type": "stream",
     "text": [
      "try block executed successfully\n",
      "Finally block will execute by default, either try block fail or success\n"
     ]
    }
   ],
   "source": [
    "try:\n",
    "    a = open(\"test.txt\",\"r\")\n",
    "except:\n",
    "    pass\n",
    "else:\n",
    "    print (\"try block executed successfully\")\n",
    "finally:\n",
    "    print(\"Finally block will execute by default, either try block fail or success\")\n",
    "    l = [1,2,3,5]\n",
    "    try:\n",
    "        print (l[10])\n",
    "    except:\n",
    "        pass"
   ]
  },
  {
   "cell_type": "code",
   "execution_count": null,
   "id": "1270a9df",
   "metadata": {},
   "outputs": [],
   "source": []
  },
  {
   "cell_type": "code",
   "execution_count": null,
   "id": "de4cead8",
   "metadata": {},
   "outputs": [],
   "source": []
  },
  {
   "cell_type": "code",
   "execution_count": 30,
   "id": "9f42a09b",
   "metadata": {},
   "outputs": [],
   "source": [
    "# multiple except block"
   ]
  },
  {
   "cell_type": "code",
   "execution_count": 33,
   "id": "2850c948",
   "metadata": {},
   "outputs": [
    {
     "name": "stdout",
     "output_type": "stream",
     "text": [
      "Your code has failed the error is  [Errno 2] No such file or directory: 'test1.txt'\n"
     ]
    }
   ],
   "source": [
    "try:\n",
    "    f = open(\"test1.txt\", \"r\")\n",
    "except IOError as e:\n",
    "    print(\"Your code has failed the error is \", e)"
   ]
  },
  {
   "cell_type": "code",
   "execution_count": 35,
   "id": "aed81303",
   "metadata": {},
   "outputs": [
    {
     "name": "stdout",
     "output_type": "stream",
     "text": [
      "sachin\n"
     ]
    },
    {
     "ename": "ValueError",
     "evalue": "invalid literal for int() with base 10: 'sachin'",
     "output_type": "error",
     "traceback": [
      "\u001b[1;31m---------------------------------------------------------------------------\u001b[0m",
      "\u001b[1;31mValueError\u001b[0m                                Traceback (most recent call last)",
      "\u001b[1;32m~\\AppData\\Local\\Temp/ipykernel_460/2305843072.py\u001b[0m in \u001b[0;36m<module>\u001b[1;34m\u001b[0m\n\u001b[1;32m----> 1\u001b[1;33m \u001b[0ma\u001b[0m \u001b[1;33m=\u001b[0m \u001b[0mint\u001b[0m\u001b[1;33m(\u001b[0m\u001b[0minput\u001b[0m\u001b[1;33m(\u001b[0m\u001b[1;33m)\u001b[0m\u001b[1;33m)\u001b[0m\u001b[1;33m\u001b[0m\u001b[1;33m\u001b[0m\u001b[0m\n\u001b[0m",
      "\u001b[1;31mValueError\u001b[0m: invalid literal for int() with base 10: 'sachin'"
     ]
    }
   ],
   "source": [
    "a = int(input())"
   ]
  },
  {
   "cell_type": "code",
   "execution_count": null,
   "id": "499b9f68",
   "metadata": {},
   "outputs": [],
   "source": []
  },
  {
   "cell_type": "code",
   "execution_count": 10,
   "id": "f5c19423",
   "metadata": {},
   "outputs": [],
   "source": [
    "def askinteger():\n",
    "    while True:\n",
    "        try:\n",
    "            a = int(input(\"Enter your interger number : \"))\n",
    "        \n",
    "        except Exception as e:\n",
    "            print (\"your code has failed error is : \", e)\n",
    "            \n",
    "        else:\n",
    "            print (\"person entered correct value\", a)\n",
    "            break\n",
    "        finally:\n",
    "            print (\"close the issue\")"
   ]
  },
  {
   "cell_type": "code",
   "execution_count": 8,
   "id": "05342750",
   "metadata": {},
   "outputs": [
    {
     "name": "stdout",
     "output_type": "stream",
     "text": [
      "Enter your interger number : dafjdl\n",
      "your code has failed error is :  invalid literal for int() with base 10: 'dafjdl'\n",
      "close the issue\n",
      "Enter your interger number : dajflad\n",
      "your code has failed error is :  invalid literal for int() with base 10: 'dajflad'\n",
      "close the issue\n",
      "Enter your interger number : 5\n",
      "person entered correct value 5\n",
      "close the issue\n"
     ]
    }
   ],
   "source": [
    "askinteger()"
   ]
  },
  {
   "cell_type": "code",
   "execution_count": 13,
   "id": "54d05d44",
   "metadata": {},
   "outputs": [],
   "source": [
    "def askinteger():\n",
    "    while True:\n",
    "        try:\n",
    "            a = int(input(\"Enter your interger number : \"))\n",
    "        \n",
    "        except FileNotFoundError as e:\n",
    "            print (\"your code has failed error is : \", e)\n",
    "        except IndexError as e:\n",
    "            print (\"your code has failed error is : \", e)\n",
    "        else:\n",
    "            print (\"person entered correct value\", a)\n",
    "            break\n",
    "        finally:\n",
    "            print (\"close the issue\")"
   ]
  },
  {
   "cell_type": "code",
   "execution_count": 14,
   "id": "ed79d33b",
   "metadata": {},
   "outputs": [
    {
     "name": "stdout",
     "output_type": "stream",
     "text": [
      "Enter your interger number : dasljfla\n",
      "close the issue\n"
     ]
    },
    {
     "ename": "ValueError",
     "evalue": "invalid literal for int() with base 10: 'dasljfla'",
     "output_type": "error",
     "traceback": [
      "\u001b[1;31m---------------------------------------------------------------------------\u001b[0m",
      "\u001b[1;31mValueError\u001b[0m                                Traceback (most recent call last)",
      "\u001b[1;32m~\\AppData\\Local\\Temp/ipykernel_11000/1835009659.py\u001b[0m in \u001b[0;36m<module>\u001b[1;34m\u001b[0m\n\u001b[1;32m----> 1\u001b[1;33m \u001b[0maskinteger\u001b[0m\u001b[1;33m(\u001b[0m\u001b[1;33m)\u001b[0m\u001b[1;33m\u001b[0m\u001b[1;33m\u001b[0m\u001b[0m\n\u001b[0m",
      "\u001b[1;32m~\\AppData\\Local\\Temp/ipykernel_11000/1904757413.py\u001b[0m in \u001b[0;36maskinteger\u001b[1;34m()\u001b[0m\n\u001b[0;32m      2\u001b[0m     \u001b[1;32mwhile\u001b[0m \u001b[1;32mTrue\u001b[0m\u001b[1;33m:\u001b[0m\u001b[1;33m\u001b[0m\u001b[1;33m\u001b[0m\u001b[0m\n\u001b[0;32m      3\u001b[0m         \u001b[1;32mtry\u001b[0m\u001b[1;33m:\u001b[0m\u001b[1;33m\u001b[0m\u001b[1;33m\u001b[0m\u001b[0m\n\u001b[1;32m----> 4\u001b[1;33m             \u001b[0ma\u001b[0m \u001b[1;33m=\u001b[0m \u001b[0mint\u001b[0m\u001b[1;33m(\u001b[0m\u001b[0minput\u001b[0m\u001b[1;33m(\u001b[0m\u001b[1;34m\"Enter your interger number : \"\u001b[0m\u001b[1;33m)\u001b[0m\u001b[1;33m)\u001b[0m\u001b[1;33m\u001b[0m\u001b[1;33m\u001b[0m\u001b[0m\n\u001b[0m\u001b[0;32m      5\u001b[0m \u001b[1;33m\u001b[0m\u001b[0m\n\u001b[0;32m      6\u001b[0m         \u001b[1;32mexcept\u001b[0m \u001b[0mFileNotFoundError\u001b[0m \u001b[1;32mas\u001b[0m \u001b[0me\u001b[0m\u001b[1;33m:\u001b[0m\u001b[1;33m\u001b[0m\u001b[1;33m\u001b[0m\u001b[0m\n",
      "\u001b[1;31mValueError\u001b[0m: invalid literal for int() with base 10: 'dasljfla'"
     ]
    }
   ],
   "source": [
    "askinteger()"
   ]
  },
  {
   "cell_type": "code",
   "execution_count": 15,
   "id": "7821902e",
   "metadata": {},
   "outputs": [],
   "source": [
    "def askinteger():\n",
    "    while True:\n",
    "        try:\n",
    "            a = int(input(\"Enter your interger number : \"))\n",
    "        \n",
    "        except FileNotFoundError as e:\n",
    "            print (\"your code has failed error is : \", e)\n",
    "        except IndexError as e:\n",
    "            print (\"your code has failed error is : \", e)\n",
    "        except ValueError as e:\n",
    "            print (\"your code has failed error is : \", e)\n",
    "        else:\n",
    "            print (\"person entered correct value\", a)\n",
    "            break\n",
    "        finally:\n",
    "            print (\"close the issue\")"
   ]
  },
  {
   "cell_type": "code",
   "execution_count": 16,
   "id": "fe13ced8",
   "metadata": {},
   "outputs": [
    {
     "name": "stdout",
     "output_type": "stream",
     "text": [
      "Enter your interger number : daddafad\n",
      "your code has failed error is :  invalid literal for int() with base 10: 'daddafad'\n",
      "close the issue\n",
      "Enter your interger number : 10\n",
      "person entered correct value 10\n",
      "close the issue\n"
     ]
    }
   ],
   "source": [
    "askinteger()"
   ]
  },
  {
   "cell_type": "code",
   "execution_count": 17,
   "id": "d9e7c9e3",
   "metadata": {},
   "outputs": [],
   "source": [
    "def askinteger():\n",
    "    while True:\n",
    "        try:\n",
    "            a = int(input(\"Enter your interger number : \"))\n",
    "            c = 8/a\n",
    "        except FileNotFoundError as e:\n",
    "            print (\"your code has failed error is : \", e)\n",
    "        except IndexError as e:\n",
    "            print (\"your code has failed error is : \", e)\n",
    "        except ValueError as e:\n",
    "            print (\"your code has failed error is : \", e)\n",
    "        else:\n",
    "            print (\"person entered correct value\", a)\n",
    "            break\n",
    "        finally:\n",
    "            print (\"close the issue\")"
   ]
  },
  {
   "cell_type": "code",
   "execution_count": 19,
   "id": "03e4ffd2",
   "metadata": {},
   "outputs": [
    {
     "name": "stdout",
     "output_type": "stream",
     "text": [
      "Enter your interger number : 0\n",
      "close the issue\n"
     ]
    },
    {
     "ename": "ZeroDivisionError",
     "evalue": "division by zero",
     "output_type": "error",
     "traceback": [
      "\u001b[1;31m---------------------------------------------------------------------------\u001b[0m",
      "\u001b[1;31mZeroDivisionError\u001b[0m                         Traceback (most recent call last)",
      "\u001b[1;32m~\\AppData\\Local\\Temp/ipykernel_11000/1835009659.py\u001b[0m in \u001b[0;36m<module>\u001b[1;34m\u001b[0m\n\u001b[1;32m----> 1\u001b[1;33m \u001b[0maskinteger\u001b[0m\u001b[1;33m(\u001b[0m\u001b[1;33m)\u001b[0m\u001b[1;33m\u001b[0m\u001b[1;33m\u001b[0m\u001b[0m\n\u001b[0m",
      "\u001b[1;32m~\\AppData\\Local\\Temp/ipykernel_11000/30182073.py\u001b[0m in \u001b[0;36maskinteger\u001b[1;34m()\u001b[0m\n\u001b[0;32m      3\u001b[0m         \u001b[1;32mtry\u001b[0m\u001b[1;33m:\u001b[0m\u001b[1;33m\u001b[0m\u001b[1;33m\u001b[0m\u001b[0m\n\u001b[0;32m      4\u001b[0m             \u001b[0ma\u001b[0m \u001b[1;33m=\u001b[0m \u001b[0mint\u001b[0m\u001b[1;33m(\u001b[0m\u001b[0minput\u001b[0m\u001b[1;33m(\u001b[0m\u001b[1;34m\"Enter your interger number : \"\u001b[0m\u001b[1;33m)\u001b[0m\u001b[1;33m)\u001b[0m\u001b[1;33m\u001b[0m\u001b[1;33m\u001b[0m\u001b[0m\n\u001b[1;32m----> 5\u001b[1;33m             \u001b[0mc\u001b[0m \u001b[1;33m=\u001b[0m \u001b[1;36m8\u001b[0m\u001b[1;33m/\u001b[0m\u001b[0ma\u001b[0m\u001b[1;33m\u001b[0m\u001b[1;33m\u001b[0m\u001b[0m\n\u001b[0m\u001b[0;32m      6\u001b[0m         \u001b[1;32mexcept\u001b[0m \u001b[0mFileNotFoundError\u001b[0m \u001b[1;32mas\u001b[0m \u001b[0me\u001b[0m\u001b[1;33m:\u001b[0m\u001b[1;33m\u001b[0m\u001b[1;33m\u001b[0m\u001b[0m\n\u001b[0;32m      7\u001b[0m             \u001b[0mprint\u001b[0m \u001b[1;33m(\u001b[0m\u001b[1;34m\"your code has failed error is : \"\u001b[0m\u001b[1;33m,\u001b[0m \u001b[0me\u001b[0m\u001b[1;33m)\u001b[0m\u001b[1;33m\u001b[0m\u001b[1;33m\u001b[0m\u001b[0m\n",
      "\u001b[1;31mZeroDivisionError\u001b[0m: division by zero"
     ]
    }
   ],
   "source": [
    "askinteger()"
   ]
  },
  {
   "cell_type": "code",
   "execution_count": 22,
   "id": "022f9183",
   "metadata": {},
   "outputs": [],
   "source": [
    "def askinteger():\n",
    "    while True:\n",
    "        try:\n",
    "            a = int(input(\"Enter your interger number : \"))\n",
    "            c = 8/a\n",
    "        except FileNotFoundError as e:\n",
    "            print (\"your code has failed error is : \", e)\n",
    "        except IndexError as e:\n",
    "            print (\"your code has failed error is : \", e)\n",
    "        except ValueError as e:\n",
    "            print (\"your code has failed error is : \", e)\n",
    "        except ZeroDivisionError as e:\n",
    "            print (\"your code has failed error is : \", e)\n",
    "        else:\n",
    "            print (\"person entered correct value\", a)\n",
    "            break\n",
    "        finally:\n",
    "            print (\"close the issue\")"
   ]
  },
  {
   "cell_type": "code",
   "execution_count": 24,
   "id": "ff06db3f",
   "metadata": {},
   "outputs": [
    {
     "name": "stdout",
     "output_type": "stream",
     "text": [
      "Enter your interger number : 0\n",
      "your code has failed error is :  division by zero\n",
      "close the issue\n",
      "Enter your interger number : 1\n",
      "person entered correct value 1\n",
      "close the issue\n"
     ]
    }
   ],
   "source": [
    "askinteger()"
   ]
  },
  {
   "cell_type": "code",
   "execution_count": 32,
   "id": "65425b68",
   "metadata": {},
   "outputs": [],
   "source": [
    "def askinteger():\n",
    "    while True:\n",
    "        try:\n",
    "            a = int(input(\"Enter your interger number : \"))\n",
    "            c = 8/a\n",
    "        except FileNotFoundError as e:\n",
    "            print (\"your code has failed error is : \", e)\n",
    "        except IndexError as e:\n",
    "            print (\"your code has failed error is : \", e)\n",
    "        except ValueError as e:\n",
    "            print (\"your code has failed error is : \", e)\n",
    "        except ArithmeticError as e:\n",
    "            print (\"your code has failed error is ArithmeticError :  \",e)\n",
    "        except ZeroDivisionError as e:\n",
    "            print (\"your code has failed error is : \", e)\n",
    "        else:\n",
    "            print (\"person entered correct value\", a)\n",
    "            break\n",
    "        finally:\n",
    "            print (\"close the issue\")"
   ]
  },
  {
   "cell_type": "code",
   "execution_count": 33,
   "id": "8f450fb1",
   "metadata": {},
   "outputs": [
    {
     "name": "stdout",
     "output_type": "stream",
     "text": [
      "Enter your interger number : 0\n",
      "your code has failed error is ArithmeticError :   division by zero\n",
      "close the issue\n",
      "Enter your interger number : 1\n",
      "person entered correct value 1\n",
      "close the issue\n"
     ]
    }
   ],
   "source": [
    "askinteger()"
   ]
  },
  {
   "cell_type": "code",
   "execution_count": 34,
   "id": "f547d317",
   "metadata": {},
   "outputs": [],
   "source": [
    "def askinteger():\n",
    "    while True:\n",
    "        try:\n",
    "            a = int(input(\"Enter your interger number : \"))\n",
    "            c = 8/a\n",
    "        except FileNotFoundError as e:\n",
    "            print (\"your code has failed error is : \", e)\n",
    "        except IndexError as e:\n",
    "            print (\"your code has failed error is : \", e)\n",
    "        except ValueError as e:\n",
    "            print (\"your code has failed error is : \", e)\n",
    "        except Exception as e:\n",
    "            print (\"your code has failed error is Exception :  \",e)\n",
    "        except ArithmeticError as e:\n",
    "            print (\"your code has failed error is ArithmeticError :  \",e)\n",
    "        except ZeroDivisionError as e:\n",
    "            print (\"your code has failed error is : \", e)\n",
    "        else:\n",
    "            print (\"person entered correct value\", a)\n",
    "            break\n",
    "        finally:\n",
    "            print (\"close the issue\")"
   ]
  },
  {
   "cell_type": "code",
   "execution_count": 35,
   "id": "943d3283",
   "metadata": {},
   "outputs": [
    {
     "name": "stdout",
     "output_type": "stream",
     "text": [
      "Enter your interger number : 0\n",
      "your code has failed error is Exception :   division by zero\n",
      "close the issue\n",
      "Enter your interger number : 1\n",
      "person entered correct value 1\n",
      "close the issue\n"
     ]
    }
   ],
   "source": [
    "askinteger()"
   ]
  },
  {
   "cell_type": "code",
   "execution_count": 36,
   "id": "93d8aee2",
   "metadata": {},
   "outputs": [],
   "source": [
    "def askinteger():\n",
    "    while True:\n",
    "        try:\n",
    "            a = int(input(\"Enter your interger number : \"))\n",
    "            c = 8/a\n",
    "        except FileNotFoundError as e:\n",
    "            print (\"your code has failed error is : \", e)\n",
    "        except IndexError as e:\n",
    "            print (\"your code has failed error is : \", e)\n",
    "        except ValueError as e:\n",
    "            print (\"your code has failed error is : \", e)\n",
    "        except ArithmeticError as e:\n",
    "            print (\"your code has failed error is ArithmeticError :  \",e)\n",
    "        except ZeroDivisionError as e:\n",
    "            print (\"your code has failed error is : \", e)\n",
    "        except Exception as e:\n",
    "            print (\"your code has failed error is Exception :  \",e)\n",
    "        else:\n",
    "            print (\"person entered correct value\", a)\n",
    "            break\n",
    "        finally:\n",
    "            print (\"close the issue\")"
   ]
  },
  {
   "cell_type": "code",
   "execution_count": 37,
   "id": "8051bbcf",
   "metadata": {},
   "outputs": [
    {
     "name": "stdout",
     "output_type": "stream",
     "text": [
      "Enter your interger number : 0\n",
      "your code has failed error is ArithmeticError :   division by zero\n",
      "close the issue\n",
      "Enter your interger number : 1\n",
      "person entered correct value 1\n",
      "close the issue\n"
     ]
    }
   ],
   "source": [
    "askinteger()"
   ]
  },
  {
   "cell_type": "code",
   "execution_count": null,
   "id": "7ed58ce7",
   "metadata": {},
   "outputs": [],
   "source": []
  },
  {
   "cell_type": "code",
   "execution_count": 38,
   "id": "bb535ecc",
   "metadata": {},
   "outputs": [
    {
     "ename": "ZeroDivisionError",
     "evalue": "division by zero",
     "output_type": "error",
     "traceback": [
      "\u001b[1;31m---------------------------------------------------------------------------\u001b[0m",
      "\u001b[1;31mZeroDivisionError\u001b[0m                         Traceback (most recent call last)",
      "\u001b[1;32m~\\AppData\\Local\\Temp/ipykernel_11000/2874912419.py\u001b[0m in \u001b[0;36m<module>\u001b[1;34m\u001b[0m\n\u001b[1;32m----> 1\u001b[1;33m \u001b[1;36m5\u001b[0m\u001b[1;33m/\u001b[0m\u001b[1;36m0\u001b[0m\u001b[1;33m\u001b[0m\u001b[1;33m\u001b[0m\u001b[0m\n\u001b[0m",
      "\u001b[1;31mZeroDivisionError\u001b[0m: division by zero"
     ]
    }
   ],
   "source": [
    "5/0"
   ]
  },
  {
   "cell_type": "code",
   "execution_count": 39,
   "id": "d3fdc0d6",
   "metadata": {},
   "outputs": [
    {
     "data": {
      "text/plain": [
       "0.8333333333333334"
      ]
     },
     "execution_count": 39,
     "metadata": {},
     "output_type": "execute_result"
    }
   ],
   "source": [
    "5/6"
   ]
  },
  {
   "cell_type": "code",
   "execution_count": 40,
   "id": "25ec548e",
   "metadata": {},
   "outputs": [],
   "source": [
    "def create_your_exception(a):\n",
    "    if a == 6:\n",
    "        raise Exception(\"error is \",a )\n",
    "    else:\n",
    "        print (\"input is ok\")\n",
    "    \n",
    "    return a"
   ]
  },
  {
   "cell_type": "code",
   "execution_count": 41,
   "id": "30c672d3",
   "metadata": {},
   "outputs": [
    {
     "ename": "Exception",
     "evalue": "('error is ', 6)",
     "output_type": "error",
     "traceback": [
      "\u001b[1;31m---------------------------------------------------------------------------\u001b[0m",
      "\u001b[1;31mException\u001b[0m                                 Traceback (most recent call last)",
      "\u001b[1;32m~\\AppData\\Local\\Temp/ipykernel_11000/2402796548.py\u001b[0m in \u001b[0;36m<module>\u001b[1;34m\u001b[0m\n\u001b[1;32m----> 1\u001b[1;33m \u001b[0mcreate_your_exception\u001b[0m\u001b[1;33m(\u001b[0m\u001b[1;36m6\u001b[0m\u001b[1;33m)\u001b[0m\u001b[1;33m\u001b[0m\u001b[1;33m\u001b[0m\u001b[0m\n\u001b[0m",
      "\u001b[1;32m~\\AppData\\Local\\Temp/ipykernel_11000/579826705.py\u001b[0m in \u001b[0;36mcreate_your_exception\u001b[1;34m(a)\u001b[0m\n\u001b[0;32m      1\u001b[0m \u001b[1;32mdef\u001b[0m \u001b[0mcreate_your_exception\u001b[0m\u001b[1;33m(\u001b[0m\u001b[0ma\u001b[0m\u001b[1;33m)\u001b[0m\u001b[1;33m:\u001b[0m\u001b[1;33m\u001b[0m\u001b[1;33m\u001b[0m\u001b[0m\n\u001b[0;32m      2\u001b[0m     \u001b[1;32mif\u001b[0m \u001b[0ma\u001b[0m \u001b[1;33m==\u001b[0m \u001b[1;36m6\u001b[0m\u001b[1;33m:\u001b[0m\u001b[1;33m\u001b[0m\u001b[1;33m\u001b[0m\u001b[0m\n\u001b[1;32m----> 3\u001b[1;33m         \u001b[1;32mraise\u001b[0m \u001b[0mException\u001b[0m\u001b[1;33m(\u001b[0m\u001b[1;34m\"error is \"\u001b[0m\u001b[1;33m,\u001b[0m\u001b[0ma\u001b[0m \u001b[1;33m)\u001b[0m\u001b[1;33m\u001b[0m\u001b[1;33m\u001b[0m\u001b[0m\n\u001b[0m\u001b[0;32m      4\u001b[0m     \u001b[1;32melse\u001b[0m\u001b[1;33m:\u001b[0m\u001b[1;33m\u001b[0m\u001b[1;33m\u001b[0m\u001b[0m\n\u001b[0;32m      5\u001b[0m         \u001b[0mprint\u001b[0m \u001b[1;33m(\u001b[0m\u001b[1;34m\"input is ok\"\u001b[0m\u001b[1;33m)\u001b[0m\u001b[1;33m\u001b[0m\u001b[1;33m\u001b[0m\u001b[0m\n",
      "\u001b[1;31mException\u001b[0m: ('error is ', 6)"
     ]
    }
   ],
   "source": [
    "create_your_exception(6)"
   ]
  },
  {
   "cell_type": "code",
   "execution_count": 42,
   "id": "2a84fcd6",
   "metadata": {},
   "outputs": [
    {
     "name": "stdout",
     "output_type": "stream",
     "text": [
      "input is ok\n"
     ]
    },
    {
     "data": {
      "text/plain": [
       "7"
      ]
     },
     "execution_count": 42,
     "metadata": {},
     "output_type": "execute_result"
    }
   ],
   "source": [
    "create_your_exception(7)"
   ]
  },
  {
   "cell_type": "code",
   "execution_count": 43,
   "id": "5f994376",
   "metadata": {},
   "outputs": [
    {
     "name": "stdout",
     "output_type": "stream",
     "text": [
      "('error is ', 6)\n"
     ]
    }
   ],
   "source": [
    "try:\n",
    "    create_your_exception(6)\n",
    "except Exception as e:\n",
    "    print(e)"
   ]
  },
  {
   "cell_type": "code",
   "execution_count": 45,
   "id": "0bce991b",
   "metadata": {},
   "outputs": [],
   "source": [
    "def create_your_exception(a):\n",
    "    if a > 6:\n",
    "        raise Exception(\"error is \",a )\n",
    "    else:\n",
    "        print (\"input is ok\")\n",
    "    \n",
    "    return a"
   ]
  },
  {
   "cell_type": "code",
   "execution_count": 46,
   "id": "ed8ad2db",
   "metadata": {},
   "outputs": [
    {
     "ename": "Exception",
     "evalue": "('error is ', 7)",
     "output_type": "error",
     "traceback": [
      "\u001b[1;31m---------------------------------------------------------------------------\u001b[0m",
      "\u001b[1;31mException\u001b[0m                                 Traceback (most recent call last)",
      "\u001b[1;32m~\\AppData\\Local\\Temp/ipykernel_11000/2915986467.py\u001b[0m in \u001b[0;36m<module>\u001b[1;34m\u001b[0m\n\u001b[1;32m----> 1\u001b[1;33m \u001b[0mcreate_your_exception\u001b[0m\u001b[1;33m(\u001b[0m\u001b[1;36m7\u001b[0m\u001b[1;33m)\u001b[0m\u001b[1;33m\u001b[0m\u001b[1;33m\u001b[0m\u001b[0m\n\u001b[0m",
      "\u001b[1;32m~\\AppData\\Local\\Temp/ipykernel_11000/542917996.py\u001b[0m in \u001b[0;36mcreate_your_exception\u001b[1;34m(a)\u001b[0m\n\u001b[0;32m      1\u001b[0m \u001b[1;32mdef\u001b[0m \u001b[0mcreate_your_exception\u001b[0m\u001b[1;33m(\u001b[0m\u001b[0ma\u001b[0m\u001b[1;33m)\u001b[0m\u001b[1;33m:\u001b[0m\u001b[1;33m\u001b[0m\u001b[1;33m\u001b[0m\u001b[0m\n\u001b[0;32m      2\u001b[0m     \u001b[1;32mif\u001b[0m \u001b[0ma\u001b[0m \u001b[1;33m>\u001b[0m \u001b[1;36m6\u001b[0m\u001b[1;33m:\u001b[0m\u001b[1;33m\u001b[0m\u001b[1;33m\u001b[0m\u001b[0m\n\u001b[1;32m----> 3\u001b[1;33m         \u001b[1;32mraise\u001b[0m \u001b[0mException\u001b[0m\u001b[1;33m(\u001b[0m\u001b[1;34m\"error is \"\u001b[0m\u001b[1;33m,\u001b[0m\u001b[0ma\u001b[0m \u001b[1;33m)\u001b[0m\u001b[1;33m\u001b[0m\u001b[1;33m\u001b[0m\u001b[0m\n\u001b[0m\u001b[0;32m      4\u001b[0m     \u001b[1;32melse\u001b[0m\u001b[1;33m:\u001b[0m\u001b[1;33m\u001b[0m\u001b[1;33m\u001b[0m\u001b[0m\n\u001b[0;32m      5\u001b[0m         \u001b[0mprint\u001b[0m \u001b[1;33m(\u001b[0m\u001b[1;34m\"input is ok\"\u001b[0m\u001b[1;33m)\u001b[0m\u001b[1;33m\u001b[0m\u001b[1;33m\u001b[0m\u001b[0m\n",
      "\u001b[1;31mException\u001b[0m: ('error is ', 7)"
     ]
    }
   ],
   "source": [
    "create_your_exception(7)"
   ]
  },
  {
   "cell_type": "code",
   "execution_count": 48,
   "id": "ee70e264",
   "metadata": {},
   "outputs": [
    {
     "name": "stdout",
     "output_type": "stream",
     "text": [
      "('error is ', 10)\n"
     ]
    }
   ],
   "source": [
    "try:\n",
    "    create_your_exception(10)\n",
    "except Exception as e:\n",
    "    print(e)"
   ]
  },
  {
   "cell_type": "code",
   "execution_count": null,
   "id": "2b61b3e8",
   "metadata": {},
   "outputs": [],
   "source": []
  }
 ],
 "metadata": {
  "kernelspec": {
   "display_name": "Python 3 (ipykernel)",
   "language": "python",
   "name": "python3"
  },
  "language_info": {
   "codemirror_mode": {
    "name": "ipython",
    "version": 3
   },
   "file_extension": ".py",
   "mimetype": "text/x-python",
   "name": "python",
   "nbconvert_exporter": "python",
   "pygments_lexer": "ipython3",
   "version": "3.9.7"
  }
 },
 "nbformat": 4,
 "nbformat_minor": 5
}
