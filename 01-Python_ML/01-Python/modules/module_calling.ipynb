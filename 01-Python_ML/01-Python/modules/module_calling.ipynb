{
 "cells": [
  {
   "cell_type": "code",
   "execution_count": 5,
   "id": "7b08beec",
   "metadata": {},
   "outputs": [],
   "source": [
    "import sys\n",
    "sys.path.insert(1, 'test')"
   ]
  },
  {
   "cell_type": "code",
   "execution_count": 6,
   "id": "06281395",
   "metadata": {},
   "outputs": [],
   "source": [
    "import mod1, mod2, mod3"
   ]
  },
  {
   "cell_type": "code",
   "execution_count": 7,
   "id": "4e1a7f9b",
   "metadata": {},
   "outputs": [
    {
     "data": {
      "text/plain": [
       "'sachin'"
      ]
     },
     "execution_count": 7,
     "metadata": {},
     "output_type": "execute_result"
    }
   ],
   "source": [
    "mod1.fun1()"
   ]
  },
  {
   "cell_type": "code",
   "execution_count": 8,
   "id": "9d4d20d2",
   "metadata": {},
   "outputs": [
    {
     "data": {
      "text/plain": [
       "30"
      ]
     },
     "execution_count": 8,
     "metadata": {},
     "output_type": "execute_result"
    }
   ],
   "source": [
    "mod2.fun22()"
   ]
  },
  {
   "cell_type": "code",
   "execution_count": 9,
   "id": "e67cecd4",
   "metadata": {},
   "outputs": [
    {
     "data": {
      "text/plain": [
       "'scala'"
      ]
     },
     "execution_count": 9,
     "metadata": {},
     "output_type": "execute_result"
    }
   ],
   "source": [
    "mod3.fun33()"
   ]
  },
  {
   "cell_type": "code",
   "execution_count": null,
   "id": "d077c40c",
   "metadata": {},
   "outputs": [],
   "source": [
    "print(\"hello\")"
   ]
  },
  {
   "cell_type": "code",
   "execution_count": null,
   "id": "1c9fea45",
   "metadata": {},
   "outputs": [],
   "source": [
    "from test."
   ]
  },
  {
   "cell_type": "code",
   "execution_count": null,
   "id": "f6bfe7f3",
   "metadata": {},
   "outputs": [],
   "source": [
    "mod1.fun1()"
   ]
  },
  {
   "cell_type": "code",
   "execution_count": 2,
   "id": "b1b876b1",
   "metadata": {},
   "outputs": [],
   "source": [
    "from test123 import mod1"
   ]
  },
  {
   "cell_type": "code",
   "execution_count": 3,
   "id": "63ed92f3",
   "metadata": {},
   "outputs": [
    {
     "data": {
      "text/plain": [
       "'sachin'"
      ]
     },
     "execution_count": 3,
     "metadata": {},
     "output_type": "execute_result"
    }
   ],
   "source": [
    "mod1.fun1()"
   ]
  },
  {
   "cell_type": "code",
   "execution_count": null,
   "id": "2f96009e",
   "metadata": {},
   "outputs": [],
   "source": []
  }
 ],
 "metadata": {
  "kernelspec": {
   "display_name": "Python 3 (ipykernel)",
   "language": "python",
   "name": "python3"
  },
  "language_info": {
   "codemirror_mode": {
    "name": "ipython",
    "version": 3
   },
   "file_extension": ".py",
   "mimetype": "text/x-python",
   "name": "python",
   "nbconvert_exporter": "python",
   "pygments_lexer": "ipython3",
   "version": "3.9.7"
  }
 },
 "nbformat": 4,
 "nbformat_minor": 5
}
