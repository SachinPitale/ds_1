{
 "cells": [
  {
   "cell_type": "code",
   "execution_count": 18,
   "id": "cdda8184",
   "metadata": {},
   "outputs": [
    {
     "name": "stdout",
     "output_type": "stream",
     "text": [
      "Enter the integer which you find to print all the even number:  10\n",
      "('All the even number are', [0, 2, 4, 6, 8])\n"
     ]
    }
   ],
   "source": [
    "import logging as lg\n",
    "lg.basicConfig(filename = 'even.log', level= lg.INFO, format = '%(asctime)s %(message)s')\n",
    "try:\n",
    "    a = int(input(\"Enter the integer which you find to print all the even number:  \"))\n",
    "except ValueError as e:\n",
    "    print (e)\n",
    "    print(\"Enter only interger value\")\n",
    "    lg.error(e)\n",
    "except Exception as e:\n",
    "    print(\"The exception error is: \", e)\n",
    "    print(\"Enter only interger value\")\n",
    "    lg.error(e)\n",
    "else:\n",
    "    import mod1\n",
    "    l1 = (mod1.evennumber(a))\n",
    "    print (l1)\n",
    "    lg.info(l1)\n",
    "    \n",
    "\n",
    "    \n",
    "\n",
    "\n",
    "\n",
    "        "
   ]
  },
  {
   "cell_type": "code",
   "execution_count": 5,
   "id": "89a94317",
   "metadata": {},
   "outputs": [],
   "source": [
    "import mod1"
   ]
  },
  {
   "cell_type": "code",
   "execution_count": null,
   "id": "f6441bf8",
   "metadata": {},
   "outputs": [],
   "source": []
  }
 ],
 "metadata": {
  "kernelspec": {
   "display_name": "Python 3 (ipykernel)",
   "language": "python",
   "name": "python3"
  },
  "language_info": {
   "codemirror_mode": {
    "name": "ipython",
    "version": 3
   },
   "file_extension": ".py",
   "mimetype": "text/x-python",
   "name": "python",
   "nbconvert_exporter": "python",
   "pygments_lexer": "ipython3",
   "version": "3.9.7"
  }
 },
 "nbformat": 4,
 "nbformat_minor": 5
}
