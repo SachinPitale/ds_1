{
 "cells": [
  {
   "cell_type": "code",
   "execution_count": 1,
   "id": "e95499b5",
   "metadata": {},
   "outputs": [],
   "source": [
    "t = ()"
   ]
  },
  {
   "cell_type": "code",
   "execution_count": 2,
   "id": "0cd6b89f",
   "metadata": {},
   "outputs": [
    {
     "data": {
      "text/plain": [
       "tuple"
      ]
     },
     "execution_count": 2,
     "metadata": {},
     "output_type": "execute_result"
    }
   ],
   "source": [
    "type(t)"
   ]
  },
  {
   "cell_type": "code",
   "execution_count": 39,
   "id": "98e19eb3",
   "metadata": {},
   "outputs": [],
   "source": [
    "t1 = (34,54,\"sachin\",78.5, 34,34,True)"
   ]
  },
  {
   "cell_type": "code",
   "execution_count": 14,
   "id": "60c2e61c",
   "metadata": {},
   "outputs": [],
   "source": [
    "l1 = [95,278,\"sachin\", 34.5,True]"
   ]
  },
  {
   "cell_type": "code",
   "execution_count": 5,
   "id": "d5a66f3e",
   "metadata": {},
   "outputs": [
    {
     "data": {
      "text/plain": [
       "34"
      ]
     },
     "execution_count": 5,
     "metadata": {},
     "output_type": "execute_result"
    }
   ],
   "source": [
    "t1[0]"
   ]
  },
  {
   "cell_type": "code",
   "execution_count": 6,
   "id": "832f0769",
   "metadata": {},
   "outputs": [
    {
     "data": {
      "text/plain": [
       "(True, 78.5, 'sachin', 54, 34)"
      ]
     },
     "execution_count": 6,
     "metadata": {},
     "output_type": "execute_result"
    }
   ],
   "source": [
    "t1[::-1]"
   ]
  },
  {
   "cell_type": "code",
   "execution_count": 15,
   "id": "cdb9a047",
   "metadata": {},
   "outputs": [],
   "source": [
    "l1[0] = 237"
   ]
  },
  {
   "cell_type": "code",
   "execution_count": 16,
   "id": "4d7de380",
   "metadata": {},
   "outputs": [
    {
     "data": {
      "text/plain": [
       "237"
      ]
     },
     "execution_count": 16,
     "metadata": {},
     "output_type": "execute_result"
    }
   ],
   "source": [
    "l1[0]"
   ]
  },
  {
   "cell_type": "code",
   "execution_count": 17,
   "id": "f664a4b3",
   "metadata": {},
   "outputs": [
    {
     "ename": "TypeError",
     "evalue": "'tuple' object does not support item assignment",
     "output_type": "error",
     "traceback": [
      "\u001b[1;31m---------------------------------------------------------------------------\u001b[0m",
      "\u001b[1;31mTypeError\u001b[0m                                 Traceback (most recent call last)",
      "\u001b[1;32m~\\AppData\\Local\\Temp/ipykernel_5776/3087799163.py\u001b[0m in \u001b[0;36m<module>\u001b[1;34m\u001b[0m\n\u001b[1;32m----> 1\u001b[1;33m \u001b[0mt1\u001b[0m\u001b[1;33m[\u001b[0m\u001b[1;36m0\u001b[0m\u001b[1;33m]\u001b[0m \u001b[1;33m=\u001b[0m \u001b[1;36m237\u001b[0m\u001b[1;33m\u001b[0m\u001b[1;33m\u001b[0m\u001b[0m\n\u001b[0m",
      "\u001b[1;31mTypeError\u001b[0m: 'tuple' object does not support item assignment"
     ]
    }
   ],
   "source": [
    "t1[0] = 237"
   ]
  },
  {
   "cell_type": "code",
   "execution_count": 18,
   "id": "e224576b",
   "metadata": {},
   "outputs": [
    {
     "data": {
      "text/plain": [
       "(34, 54, 'sachin', 78.5, True)"
      ]
     },
     "execution_count": 18,
     "metadata": {},
     "output_type": "execute_result"
    }
   ],
   "source": [
    "t1[0:300]"
   ]
  },
  {
   "cell_type": "code",
   "execution_count": 19,
   "id": "8163661f",
   "metadata": {},
   "outputs": [
    {
     "data": {
      "text/plain": [
       "True"
      ]
     },
     "execution_count": 19,
     "metadata": {},
     "output_type": "execute_result"
    }
   ],
   "source": [
    "t1[-1]"
   ]
  },
  {
   "cell_type": "code",
   "execution_count": 20,
   "id": "ff98c575",
   "metadata": {},
   "outputs": [],
   "source": [
    "t2 = (234,54,84)"
   ]
  },
  {
   "cell_type": "code",
   "execution_count": 21,
   "id": "e3df4121",
   "metadata": {},
   "outputs": [],
   "source": [
    "l2 = [34,68,\"sachin\"]"
   ]
  },
  {
   "cell_type": "code",
   "execution_count": 25,
   "id": "1ae4fdc0",
   "metadata": {},
   "outputs": [
    {
     "data": {
      "text/plain": [
       "[237, 278, 'sachin', 34.5, True]"
      ]
     },
     "execution_count": 25,
     "metadata": {},
     "output_type": "execute_result"
    }
   ],
   "source": [
    "l1"
   ]
  },
  {
   "cell_type": "code",
   "execution_count": 23,
   "id": "4214e7e3",
   "metadata": {},
   "outputs": [
    {
     "data": {
      "text/plain": [
       "[237, 278, 'sachin', 34.5, True, 34, 68, 'sachin']"
      ]
     },
     "execution_count": 23,
     "metadata": {},
     "output_type": "execute_result"
    }
   ],
   "source": [
    "l1 + l2"
   ]
  },
  {
   "cell_type": "code",
   "execution_count": 24,
   "id": "2de43f04",
   "metadata": {},
   "outputs": [
    {
     "data": {
      "text/plain": [
       "(34, 54, 'sachin', 78.5, True, 234, 54, 84)"
      ]
     },
     "execution_count": 24,
     "metadata": {},
     "output_type": "execute_result"
    }
   ],
   "source": [
    "t1 + t2"
   ]
  },
  {
   "cell_type": "code",
   "execution_count": 26,
   "id": "804fce23",
   "metadata": {},
   "outputs": [
    {
     "data": {
      "text/plain": [
       "(34, 54, 'sachin', 78.5, True, 34, 54, 'sachin', 78.5, True)"
      ]
     },
     "execution_count": 26,
     "metadata": {},
     "output_type": "execute_result"
    }
   ],
   "source": [
    "t1 * 2"
   ]
  },
  {
   "cell_type": "code",
   "execution_count": 27,
   "id": "0ce80245",
   "metadata": {},
   "outputs": [
    {
     "data": {
      "text/plain": [
       "(34, 54, 'sachin', 78.5, True)"
      ]
     },
     "execution_count": 27,
     "metadata": {},
     "output_type": "execute_result"
    }
   ],
   "source": [
    "t1"
   ]
  },
  {
   "cell_type": "code",
   "execution_count": 28,
   "id": "9af3eca1",
   "metadata": {},
   "outputs": [
    {
     "data": {
      "text/plain": [
       "True"
      ]
     },
     "execution_count": 28,
     "metadata": {},
     "output_type": "execute_result"
    }
   ],
   "source": [
    "34 in t1"
   ]
  },
  {
   "cell_type": "code",
   "execution_count": 29,
   "id": "9ef1414e",
   "metadata": {},
   "outputs": [
    {
     "data": {
      "text/plain": [
       "False"
      ]
     },
     "execution_count": 29,
     "metadata": {},
     "output_type": "execute_result"
    }
   ],
   "source": [
    "278 in t1"
   ]
  },
  {
   "cell_type": "code",
   "execution_count": 30,
   "id": "33932c04",
   "metadata": {},
   "outputs": [],
   "source": [
    "# max function is apply for similar data type, like int, string\n"
   ]
  },
  {
   "cell_type": "code",
   "execution_count": 31,
   "id": "44644073",
   "metadata": {},
   "outputs": [
    {
     "ename": "TypeError",
     "evalue": "'>' not supported between instances of 'str' and 'int'",
     "output_type": "error",
     "traceback": [
      "\u001b[1;31m---------------------------------------------------------------------------\u001b[0m",
      "\u001b[1;31mTypeError\u001b[0m                                 Traceback (most recent call last)",
      "\u001b[1;32m~\\AppData\\Local\\Temp/ipykernel_5776/4228548164.py\u001b[0m in \u001b[0;36m<module>\u001b[1;34m\u001b[0m\n\u001b[1;32m----> 1\u001b[1;33m \u001b[0mmax\u001b[0m\u001b[1;33m(\u001b[0m\u001b[0ml1\u001b[0m\u001b[1;33m)\u001b[0m\u001b[1;33m\u001b[0m\u001b[1;33m\u001b[0m\u001b[0m\n\u001b[0m",
      "\u001b[1;31mTypeError\u001b[0m: '>' not supported between instances of 'str' and 'int'"
     ]
    }
   ],
   "source": [
    "max(l1)"
   ]
  },
  {
   "cell_type": "code",
   "execution_count": 32,
   "id": "a87b1921",
   "metadata": {},
   "outputs": [],
   "source": [
    "t3 = (39,80,278)"
   ]
  },
  {
   "cell_type": "code",
   "execution_count": 34,
   "id": "b3a3fdae",
   "metadata": {},
   "outputs": [
    {
     "data": {
      "text/plain": [
       "278"
      ]
     },
     "execution_count": 34,
     "metadata": {},
     "output_type": "execute_result"
    }
   ],
   "source": [
    "max(t3)"
   ]
  },
  {
   "cell_type": "code",
   "execution_count": 35,
   "id": "b2b3843c",
   "metadata": {},
   "outputs": [
    {
     "data": {
      "text/plain": [
       "1"
      ]
     },
     "execution_count": 35,
     "metadata": {},
     "output_type": "execute_result"
    }
   ],
   "source": [
    "t1.count(34)"
   ]
  },
  {
   "cell_type": "code",
   "execution_count": 38,
   "id": "0a2ae014",
   "metadata": {},
   "outputs": [
    {
     "data": {
      "text/plain": [
       "3"
      ]
     },
     "execution_count": 38,
     "metadata": {},
     "output_type": "execute_result"
    }
   ],
   "source": [
    "t1.index(78.5)"
   ]
  },
  {
   "cell_type": "code",
   "execution_count": 37,
   "id": "db5656f0",
   "metadata": {},
   "outputs": [
    {
     "data": {
      "text/plain": [
       "(34, 54, 'sachin', 78.5, True)"
      ]
     },
     "execution_count": 37,
     "metadata": {},
     "output_type": "execute_result"
    }
   ],
   "source": [
    "t1"
   ]
  },
  {
   "cell_type": "code",
   "execution_count": 40,
   "id": "627e6ff3",
   "metadata": {},
   "outputs": [
    {
     "data": {
      "text/plain": [
       "3"
      ]
     },
     "execution_count": 40,
     "metadata": {},
     "output_type": "execute_result"
    }
   ],
   "source": [
    "t1.count(34)"
   ]
  },
  {
   "cell_type": "code",
   "execution_count": 41,
   "id": "d4a39096",
   "metadata": {},
   "outputs": [
    {
     "data": {
      "text/plain": [
       "0"
      ]
     },
     "execution_count": 41,
     "metadata": {},
     "output_type": "execute_result"
    }
   ],
   "source": [
    "t1.index(34)"
   ]
  },
  {
   "cell_type": "code",
   "execution_count": 42,
   "id": "f58bc8a8",
   "metadata": {},
   "outputs": [
    {
     "ename": "TypeError",
     "evalue": "'<' not supported between instances of 'str' and 'int'",
     "output_type": "error",
     "traceback": [
      "\u001b[1;31m---------------------------------------------------------------------------\u001b[0m",
      "\u001b[1;31mTypeError\u001b[0m                                 Traceback (most recent call last)",
      "\u001b[1;32m~\\AppData\\Local\\Temp/ipykernel_5776/1277130607.py\u001b[0m in \u001b[0;36m<module>\u001b[1;34m\u001b[0m\n\u001b[1;32m----> 1\u001b[1;33m \u001b[0mmin\u001b[0m\u001b[1;33m(\u001b[0m\u001b[0mt1\u001b[0m\u001b[1;33m)\u001b[0m\u001b[1;33m\u001b[0m\u001b[1;33m\u001b[0m\u001b[0m\n\u001b[0m",
      "\u001b[1;31mTypeError\u001b[0m: '<' not supported between instances of 'str' and 'int'"
     ]
    }
   ],
   "source": [
    "min(t1)"
   ]
  },
  {
   "cell_type": "code",
   "execution_count": 43,
   "id": "560a065f",
   "metadata": {},
   "outputs": [
    {
     "data": {
      "text/plain": [
       "39"
      ]
     },
     "execution_count": 43,
     "metadata": {},
     "output_type": "execute_result"
    }
   ],
   "source": [
    "min(t3)"
   ]
  },
  {
   "cell_type": "code",
   "execution_count": 44,
   "id": "c8eaa68f",
   "metadata": {},
   "outputs": [],
   "source": [
    "# add the element in existing tuple\n",
    "# Directly is not possible. but we have following work around\n",
    "# 1. we need to covert the tuple in list\n",
    "# 2. add new element value in list at particuler index\n",
    "# 3. convert list into tuple"
   ]
  },
  {
   "cell_type": "code",
   "execution_count": 54,
   "id": "23c4330d",
   "metadata": {},
   "outputs": [
    {
     "data": {
      "text/plain": [
       "(34, 54, 'sachin', 278, 98, 98, 78.5, 34, 34, True)"
      ]
     },
     "execution_count": 54,
     "metadata": {},
     "output_type": "execute_result"
    }
   ],
   "source": [
    "t1\n",
    "l1=list(t1)\n",
    "l1\n",
    "l1.insert(3,278)\n",
    "l1\n",
    "t1 = tuple(l1) # It will create new memory location\n",
    "t1"
   ]
  },
  {
   "cell_type": "code",
   "execution_count": 55,
   "id": "52f2fd73",
   "metadata": {},
   "outputs": [],
   "source": [
    "# Nested tuple supported here\n",
    "t = ((2,3,4,5),(9,8,\"sachin\"),(11,15,\"xyz\"),\"pqr\", 45+4j)"
   ]
  },
  {
   "cell_type": "code",
   "execution_count": 56,
   "id": "aeb241ed",
   "metadata": {},
   "outputs": [
    {
     "data": {
      "text/plain": [
       "((2, 3, 4, 5), (9, 8, 'sachin'), (11, 15, 'xyz'), 'pqr', (45+4j))"
      ]
     },
     "execution_count": 56,
     "metadata": {},
     "output_type": "execute_result"
    }
   ],
   "source": [
    "t"
   ]
  },
  {
   "cell_type": "code",
   "execution_count": 57,
   "id": "dd924b4f",
   "metadata": {},
   "outputs": [
    {
     "name": "stdout",
     "output_type": "stream",
     "text": [
      "(2, 3, 4, 5) <class 'tuple'>\n",
      "(9, 8, 'sachin') <class 'tuple'>\n",
      "(11, 15, 'xyz') <class 'tuple'>\n",
      "pqr <class 'str'>\n",
      "(45+4j) <class 'complex'>\n"
     ]
    }
   ],
   "source": [
    "for i in t:\n",
    "    print (i, type(i))"
   ]
  },
  {
   "cell_type": "code",
   "execution_count": 61,
   "id": "505616ea",
   "metadata": {},
   "outputs": [
    {
     "data": {
      "text/plain": [
       "((2, 3, 4, 5), (9, 8, 'sachin'), (11, 15, 'xyz'), 'pqr', (45+4j))"
      ]
     },
     "execution_count": 61,
     "metadata": {},
     "output_type": "execute_result"
    }
   ],
   "source": [
    "t"
   ]
  },
  {
   "cell_type": "code",
   "execution_count": 65,
   "id": "2907357b",
   "metadata": {},
   "outputs": [
    {
     "name": "stdout",
     "output_type": "stream",
     "text": [
      "sachin 1 2\n",
      "xyz 2 2\n"
     ]
    }
   ],
   "source": [
    "c = 0\n",
    "\n",
    "for i in t:\n",
    "    if type(i) == tuple:\n",
    "        d = 0\n",
    "        for j in i:\n",
    "            if type(j) == str:\n",
    "                print(j, c,d)\n",
    "            \n",
    "            d = d +1 \n",
    "    c = c + 1"
   ]
  },
  {
   "cell_type": "code",
   "execution_count": 67,
   "id": "f4d6fbba",
   "metadata": {},
   "outputs": [
    {
     "data": {
      "text/plain": [
       "'xyz'"
      ]
     },
     "execution_count": 67,
     "metadata": {},
     "output_type": "execute_result"
    }
   ],
   "source": [
    "t[2][2]"
   ]
  },
  {
   "cell_type": "code",
   "execution_count": 3,
   "id": "78e192e6",
   "metadata": {},
   "outputs": [],
   "source": [
    "t = ((2,3,4,5),(9,8,\"sachin\"),(11,15,\"xyz\"),[11,12,13,14],\"pqr\", 45+4j, [4,5,6,7])"
   ]
  },
  {
   "cell_type": "code",
   "execution_count": 70,
   "id": "5f9601c8",
   "metadata": {},
   "outputs": [
    {
     "data": {
      "text/plain": [
       "((2, 3, 4, 5),\n",
       " (9, 8, 'sachin'),\n",
       " (11, 15, 'xyz'),\n",
       " [11, 12, 13, 14],\n",
       " 'pqr',\n",
       " (45+4j),\n",
       " [4, 5, 6, 7])"
      ]
     },
     "execution_count": 70,
     "metadata": {},
     "output_type": "execute_result"
    }
   ],
   "source": [
    "t"
   ]
  },
  {
   "cell_type": "code",
   "execution_count": 4,
   "id": "585de47f",
   "metadata": {},
   "outputs": [
    {
     "name": "stdout",
     "output_type": "stream",
     "text": [
      "[[11, 12, 13, 14], [4, 5, 6, 7]] 2\n"
     ]
    }
   ],
   "source": [
    "l = []\n",
    "c = 0\n",
    "for i in t:\n",
    "    if type(i) == list:\n",
    "        c = c +1\n",
    "        l.append(i)\n",
    "        \n",
    "    \n",
    "print (l, c)\n",
    "\n",
    "for i in range(0,c):\n",
    "     a = str(\"e\") + str(i)\n",
    "     a = l[i]\n"
   ]
  },
  {
   "cell_type": "code",
   "execution_count": 5,
   "id": "e05c4afd",
   "metadata": {},
   "outputs": [],
   "source": [
    "l1 = []\n",
    "for i in range(c):\n",
    "    l.append(a[i])"
   ]
  },
  {
   "cell_type": "code",
   "execution_count": 6,
   "id": "a6c01383",
   "metadata": {},
   "outputs": [
    {
     "ename": "NameError",
     "evalue": "name 'e' is not defined",
     "output_type": "error",
     "traceback": [
      "\u001b[1;31m---------------------------------------------------------------------------\u001b[0m",
      "\u001b[1;31mNameError\u001b[0m                                 Traceback (most recent call last)",
      "\u001b[1;32m~\\AppData\\Local\\Temp/ipykernel_10840/2704890129.py\u001b[0m in \u001b[0;36m<module>\u001b[1;34m\u001b[0m\n\u001b[1;32m----> 1\u001b[1;33m \u001b[0mrange\u001b[0m\u001b[1;33m(\u001b[0m\u001b[0ma\u001b[0m\u001b[1;33m,\u001b[0m\u001b[0me\u001b[0m\u001b[1;33m)\u001b[0m\u001b[1;33m\u001b[0m\u001b[1;33m\u001b[0m\u001b[0m\n\u001b[0m",
      "\u001b[1;31mNameError\u001b[0m: name 'e' is not defined"
     ]
    }
   ],
   "source": [
    "range(a,e)"
   ]
  },
  {
   "cell_type": "code",
   "execution_count": 80,
   "id": "0bd44b9a",
   "metadata": {},
   "outputs": [
    {
     "ename": "SyntaxError",
     "evalue": "cannot assign to literal (Temp/ipykernel_5776/2382905016.py, line 1)",
     "output_type": "error",
     "traceback": [
      "\u001b[1;36m  File \u001b[1;32m\"C:\\Users\\pc\\AppData\\Local\\Temp/ipykernel_5776/2382905016.py\"\u001b[1;36m, line \u001b[1;32m1\u001b[0m\n\u001b[1;33m    1 = [3,4]\u001b[0m\n\u001b[1;37m    ^\u001b[0m\n\u001b[1;31mSyntaxError\u001b[0m\u001b[1;31m:\u001b[0m cannot assign to literal\n"
     ]
    }
   ],
   "source": [
    "1 = [3,4]"
   ]
  },
  {
   "cell_type": "code",
   "execution_count": 112,
   "id": "77340994",
   "metadata": {},
   "outputs": [],
   "source": [
    "t = ((2,3,4,5),(9,8,\"sachin\"),(11,15,\"xyz\"),[11,12,13,14],\"pqr\", 45+4j, [4,5,6,7],(78,58,348))"
   ]
  },
  {
   "cell_type": "code",
   "execution_count": 7,
   "id": "aaba6cfd",
   "metadata": {},
   "outputs": [
    {
     "name": "stdout",
     "output_type": "stream",
     "text": [
      "2\n",
      "9\n",
      "11\n"
     ]
    }
   ],
   "source": [
    "# To find the 1st element of each tuple\n",
    "for i in t:\n",
    "    if type(i) == tuple:\n",
    "        print(i[0])"
   ]
  },
  {
   "cell_type": "code",
   "execution_count": 117,
   "id": "92d44443",
   "metadata": {},
   "outputs": [
    {
     "data": {
      "text/plain": [
       "(34, 54, 'sachin', 278, 98, 98, 78.5, 34, 34, True)"
      ]
     },
     "execution_count": 117,
     "metadata": {},
     "output_type": "execute_result"
    }
   ],
   "source": [
    "t1"
   ]
  },
  {
   "cell_type": "code",
   "execution_count": 118,
   "id": "82ae57b5",
   "metadata": {},
   "outputs": [
    {
     "data": {
      "text/plain": [
       "(234, 54, 84)"
      ]
     },
     "execution_count": 118,
     "metadata": {},
     "output_type": "execute_result"
    }
   ],
   "source": [
    "t2"
   ]
  },
  {
   "cell_type": "code",
   "execution_count": 120,
   "id": "ed7f9826",
   "metadata": {},
   "outputs": [
    {
     "name": "stdout",
     "output_type": "stream",
     "text": [
      "Tuples are not same\n"
     ]
    }
   ],
   "source": [
    "# compare two tuples\n",
    "if len(t1) != len(t2):\n",
    "    print(\"Tuples are not same\")"
   ]
  },
  {
   "cell_type": "code",
   "execution_count": 122,
   "id": "d4f7e911",
   "metadata": {},
   "outputs": [],
   "source": [
    "t = (4,8,\"sachin\", \"sudh\",\"elon\",34.5)"
   ]
  },
  {
   "cell_type": "code",
   "execution_count": 125,
   "id": "4103e4dd",
   "metadata": {},
   "outputs": [
    {
     "name": "stdout",
     "output_type": "stream",
     "text": [
      "Enter your name and check your name is presnet or not in our database: sudh\n",
      "your name is available as sudh\n"
     ]
    }
   ],
   "source": [
    "name = input(\"Enter your name and check your name is presnet or not in our database: \")\n",
    "if name in t:\n",
    "    print (\"your name is available as\", name)\n",
    "else:\n",
    "    print(\"your name is not available in our database,\")"
   ]
  },
  {
   "cell_type": "code",
   "execution_count": 126,
   "id": "8fd63d22",
   "metadata": {},
   "outputs": [],
   "source": [
    "# To delete the tuple"
   ]
  },
  {
   "cell_type": "code",
   "execution_count": 127,
   "id": "7ff299c2",
   "metadata": {},
   "outputs": [
    {
     "data": {
      "text/plain": [
       "(234, 54, 84)"
      ]
     },
     "execution_count": 127,
     "metadata": {},
     "output_type": "execute_result"
    }
   ],
   "source": [
    "t2"
   ]
  },
  {
   "cell_type": "code",
   "execution_count": 128,
   "id": "1049b2bd",
   "metadata": {},
   "outputs": [],
   "source": [
    "del(t2)"
   ]
  },
  {
   "cell_type": "code",
   "execution_count": 129,
   "id": "b965f7f1",
   "metadata": {},
   "outputs": [
    {
     "ename": "NameError",
     "evalue": "name 't2' is not defined",
     "output_type": "error",
     "traceback": [
      "\u001b[1;31m---------------------------------------------------------------------------\u001b[0m",
      "\u001b[1;31mNameError\u001b[0m                                 Traceback (most recent call last)",
      "\u001b[1;32m~\\AppData\\Local\\Temp/ipykernel_5776/2995953478.py\u001b[0m in \u001b[0;36m<module>\u001b[1;34m\u001b[0m\n\u001b[1;32m----> 1\u001b[1;33m \u001b[0mt2\u001b[0m\u001b[1;33m\u001b[0m\u001b[1;33m\u001b[0m\u001b[0m\n\u001b[0m",
      "\u001b[1;31mNameError\u001b[0m: name 't2' is not defined"
     ]
    }
   ],
   "source": [
    "t2"
   ]
  },
  {
   "cell_type": "code",
   "execution_count": 130,
   "id": "adc35e7e",
   "metadata": {},
   "outputs": [
    {
     "data": {
      "text/plain": [
       "[34, 68, 'sachin']"
      ]
     },
     "execution_count": 130,
     "metadata": {},
     "output_type": "execute_result"
    }
   ],
   "source": [
    "l2"
   ]
  },
  {
   "cell_type": "code",
   "execution_count": 131,
   "id": "db6a6634",
   "metadata": {},
   "outputs": [],
   "source": [
    "del(l2)"
   ]
  },
  {
   "cell_type": "code",
   "execution_count": 132,
   "id": "2337d395",
   "metadata": {},
   "outputs": [
    {
     "ename": "NameError",
     "evalue": "name 'l2' is not defined",
     "output_type": "error",
     "traceback": [
      "\u001b[1;31m---------------------------------------------------------------------------\u001b[0m",
      "\u001b[1;31mNameError\u001b[0m                                 Traceback (most recent call last)",
      "\u001b[1;32m~\\AppData\\Local\\Temp/ipykernel_5776/2371406284.py\u001b[0m in \u001b[0;36m<module>\u001b[1;34m\u001b[0m\n\u001b[1;32m----> 1\u001b[1;33m \u001b[0ml2\u001b[0m\u001b[1;33m\u001b[0m\u001b[1;33m\u001b[0m\u001b[0m\n\u001b[0m",
      "\u001b[1;31mNameError\u001b[0m: name 'l2' is not defined"
     ]
    }
   ],
   "source": [
    "l2"
   ]
  },
  {
   "cell_type": "code",
   "execution_count": 177,
   "id": "82a9f6e5",
   "metadata": {},
   "outputs": [],
   "source": [
    "l = [34,54,45,45,68,95,85,95,\"sachin\",95,2,\"sachin\", 10, \"sachin\"]"
   ]
  },
  {
   "cell_type": "code",
   "execution_count": 178,
   "id": "dfad1051",
   "metadata": {},
   "outputs": [
    {
     "name": "stdout",
     "output_type": "stream",
     "text": [
      "The number is  unique in list 34\n",
      "The number is  unique in list 54\n",
      "the number is not unique in list 45\n",
      "The number is  unique in list 68\n",
      "the number is not unique in list 95\n",
      "the number is not unique in list 95\n",
      "The number is  unique in list 95\n",
      "The number is  unique in list 2\n",
      "the number is not unique in list sachin\n",
      "the number is not unique in list sachin\n"
     ]
    }
   ],
   "source": [
    "# To find unique number in list and create new list with unique number\n",
    "\n",
    "for i in l:\n",
    "    if l.count(i ) <= 1:\n",
    "        print(\"The number is  unique in list\", i)\n",
    "    else:\n",
    "        print(\"the number is not unique in list\", i)\n",
    "        l.remove(i)\n",
    "        "
   ]
  },
  {
   "cell_type": "code",
   "execution_count": 179,
   "id": "be4b3916",
   "metadata": {},
   "outputs": [
    {
     "data": {
      "text/plain": [
       "[34, 54, 45, 68, 85, 95, 2, 10, 'sachin']"
      ]
     },
     "execution_count": 179,
     "metadata": {},
     "output_type": "execute_result"
    }
   ],
   "source": [
    "l"
   ]
  },
  {
   "cell_type": "code",
   "execution_count": 143,
   "id": "ac71bc93",
   "metadata": {},
   "outputs": [],
   "source": [
    "################################################################\n",
    "# Set\n",
    "# To set is collection of data, which is always tring to hold unique data except case sensitive(like upper and lower case)\n",
    "# Where we want to remove some duplicate we used set\n",
    "# Set doesn't support index operator"
   ]
  },
  {
   "cell_type": "code",
   "execution_count": 181,
   "id": "18fa9470",
   "metadata": {},
   "outputs": [],
   "source": [
    "l = [34,54,45,45,68,95,85,95,\"sachin\",95,2,\"sachin\", 10, \"sachin\"]"
   ]
  },
  {
   "cell_type": "code",
   "execution_count": 180,
   "id": "bf674b85",
   "metadata": {},
   "outputs": [
    {
     "data": {
      "text/plain": [
       "{10, 2, 34, 45, 54, 68, 85, 95, 'sachin'}"
      ]
     },
     "execution_count": 180,
     "metadata": {},
     "output_type": "execute_result"
    }
   ],
   "source": [
    "set(l)"
   ]
  },
  {
   "cell_type": "code",
   "execution_count": 182,
   "id": "7aa10149",
   "metadata": {},
   "outputs": [],
   "source": [
    "s = set(l)"
   ]
  },
  {
   "cell_type": "code",
   "execution_count": 183,
   "id": "371fc668",
   "metadata": {},
   "outputs": [
    {
     "data": {
      "text/plain": [
       "{10, 2, 34, 45, 54, 68, 85, 95, 'sachin'}"
      ]
     },
     "execution_count": 183,
     "metadata": {},
     "output_type": "execute_result"
    }
   ],
   "source": [
    "s"
   ]
  },
  {
   "cell_type": "code",
   "execution_count": 184,
   "id": "0053d691",
   "metadata": {},
   "outputs": [
    {
     "name": "stdout",
     "output_type": "stream",
     "text": [
      "sachin\n",
      "34\n",
      "2\n",
      "68\n",
      "10\n",
      "45\n",
      "85\n",
      "54\n",
      "95\n"
     ]
    }
   ],
   "source": [
    "for i in s:\n",
    "    print(i)"
   ]
  },
  {
   "cell_type": "code",
   "execution_count": 186,
   "id": "4c461ee3",
   "metadata": {},
   "outputs": [
    {
     "data": {
      "text/plain": [
       "True"
      ]
     },
     "execution_count": 186,
     "metadata": {},
     "output_type": "execute_result"
    }
   ],
   "source": [
    "10 in s"
   ]
  },
  {
   "cell_type": "code",
   "execution_count": 187,
   "id": "a1770b1b",
   "metadata": {},
   "outputs": [
    {
     "ename": "TypeError",
     "evalue": "'set' object is not subscriptable",
     "output_type": "error",
     "traceback": [
      "\u001b[1;31m---------------------------------------------------------------------------\u001b[0m",
      "\u001b[1;31mTypeError\u001b[0m                                 Traceback (most recent call last)",
      "\u001b[1;32m~\\AppData\\Local\\Temp/ipykernel_5776/243613605.py\u001b[0m in \u001b[0;36m<module>\u001b[1;34m\u001b[0m\n\u001b[1;32m----> 1\u001b[1;33m \u001b[0ms\u001b[0m\u001b[1;33m[\u001b[0m\u001b[1;36m0\u001b[0m\u001b[1;33m]\u001b[0m\u001b[1;33m\u001b[0m\u001b[1;33m\u001b[0m\u001b[0m\n\u001b[0m",
      "\u001b[1;31mTypeError\u001b[0m: 'set' object is not subscriptable"
     ]
    }
   ],
   "source": [
    "s[0]"
   ]
  },
  {
   "cell_type": "code",
   "execution_count": null,
   "id": "f560edd5",
   "metadata": {},
   "outputs": [],
   "source": [
    "s = set()\n",
    "s"
   ]
  },
  {
   "cell_type": "code",
   "execution_count": null,
   "id": "b45b03f8",
   "metadata": {},
   "outputs": [],
   "source": [
    "s.add(45)"
   ]
  },
  {
   "cell_type": "code",
   "execution_count": 190,
   "id": "5cd23b51",
   "metadata": {},
   "outputs": [
    {
     "data": {
      "text/plain": [
       "{45}"
      ]
     },
     "execution_count": 190,
     "metadata": {},
     "output_type": "execute_result"
    }
   ],
   "source": [
    "s"
   ]
  },
  {
   "cell_type": "code",
   "execution_count": null,
   "id": "10f21699",
   "metadata": {},
   "outputs": [],
   "source": [
    "s.add(\"sachin\")"
   ]
  },
  {
   "cell_type": "code",
   "execution_count": null,
   "id": "baadcf67",
   "metadata": {},
   "outputs": [],
   "source": [
    "s.add(\"pitae\")"
   ]
  },
  {
   "cell_type": "code",
   "execution_count": 193,
   "id": "1cde7fa5",
   "metadata": {},
   "outputs": [
    {
     "data": {
      "text/plain": [
       "{45, 'pitae', 'sachin'}"
      ]
     },
     "execution_count": 193,
     "metadata": {},
     "output_type": "execute_result"
    }
   ],
   "source": [
    "s"
   ]
  },
  {
   "cell_type": "code",
   "execution_count": 194,
   "id": "f545c236",
   "metadata": {},
   "outputs": [
    {
     "ename": "TypeError",
     "evalue": "unhashable type: 'list'",
     "output_type": "error",
     "traceback": [
      "\u001b[1;31m---------------------------------------------------------------------------\u001b[0m",
      "\u001b[1;31mTypeError\u001b[0m                                 Traceback (most recent call last)",
      "\u001b[1;32m~\\AppData\\Local\\Temp/ipykernel_5776/3267899118.py\u001b[0m in \u001b[0;36m<module>\u001b[1;34m\u001b[0m\n\u001b[1;32m----> 1\u001b[1;33m \u001b[0ms\u001b[0m\u001b[1;33m.\u001b[0m\u001b[0madd\u001b[0m\u001b[1;33m(\u001b[0m\u001b[1;33m[\u001b[0m\u001b[1;36m1\u001b[0m\u001b[1;33m,\u001b[0m\u001b[1;36m5\u001b[0m\u001b[1;33m]\u001b[0m\u001b[1;33m)\u001b[0m\u001b[1;33m\u001b[0m\u001b[1;33m\u001b[0m\u001b[0m\n\u001b[0m",
      "\u001b[1;31mTypeError\u001b[0m: unhashable type: 'list'"
     ]
    }
   ],
   "source": [
    "s.add([1,5])"
   ]
  },
  {
   "cell_type": "code",
   "execution_count": 195,
   "id": "0158fe61",
   "metadata": {},
   "outputs": [],
   "source": [
    "s.remove(45)"
   ]
  },
  {
   "cell_type": "code",
   "execution_count": 196,
   "id": "12b5685c",
   "metadata": {},
   "outputs": [
    {
     "data": {
      "text/plain": [
       "{'pitae', 'sachin'}"
      ]
     },
     "execution_count": 196,
     "metadata": {},
     "output_type": "execute_result"
    }
   ],
   "source": [
    "s"
   ]
  },
  {
   "cell_type": "code",
   "execution_count": 197,
   "id": "f930fb43",
   "metadata": {},
   "outputs": [
    {
     "ename": "KeyError",
     "evalue": "45",
     "output_type": "error",
     "traceback": [
      "\u001b[1;31m---------------------------------------------------------------------------\u001b[0m",
      "\u001b[1;31mKeyError\u001b[0m                                  Traceback (most recent call last)",
      "\u001b[1;32m~\\AppData\\Local\\Temp/ipykernel_5776/2010124880.py\u001b[0m in \u001b[0;36m<module>\u001b[1;34m\u001b[0m\n\u001b[1;32m----> 1\u001b[1;33m \u001b[0ms\u001b[0m\u001b[1;33m.\u001b[0m\u001b[0mremove\u001b[0m\u001b[1;33m(\u001b[0m\u001b[1;36m45\u001b[0m\u001b[1;33m)\u001b[0m\u001b[1;33m\u001b[0m\u001b[1;33m\u001b[0m\u001b[0m\n\u001b[0m",
      "\u001b[1;31mKeyError\u001b[0m: 45"
     ]
    }
   ],
   "source": [
    "s.remove(45)"
   ]
  },
  {
   "cell_type": "code",
   "execution_count": 199,
   "id": "df65726a",
   "metadata": {},
   "outputs": [
    {
     "data": {
      "text/plain": [
       "False"
      ]
     },
     "execution_count": 199,
     "metadata": {},
     "output_type": "execute_result"
    }
   ],
   "source": [
    "45 in s"
   ]
  },
  {
   "cell_type": "code",
   "execution_count": 200,
   "id": "baaeb4d9",
   "metadata": {},
   "outputs": [],
   "source": [
    "s.add(45)"
   ]
  },
  {
   "cell_type": "code",
   "execution_count": 201,
   "id": "a8f3c77f",
   "metadata": {},
   "outputs": [
    {
     "data": {
      "text/plain": [
       "{45, 'pitae', 'sachin'}"
      ]
     },
     "execution_count": 201,
     "metadata": {},
     "output_type": "execute_result"
    }
   ],
   "source": [
    "s"
   ]
  },
  {
   "cell_type": "code",
   "execution_count": null,
   "id": "d0363c9f",
   "metadata": {},
   "outputs": [],
   "source": [
    "s.add(\"wer\")"
   ]
  },
  {
   "cell_type": "code",
   "execution_count": null,
   "id": "ee6c326c",
   "metadata": {},
   "outputs": [],
   "source": [
    "s.add(234)"
   ]
  },
  {
   "cell_type": "code",
   "execution_count": null,
   "id": "441ac098",
   "metadata": {},
   "outputs": [],
   "source": [
    "s.add(346)"
   ]
  },
  {
   "cell_type": "code",
   "execution_count": 206,
   "id": "7ab56f85",
   "metadata": {},
   "outputs": [
    {
     "data": {
      "text/plain": [
       "{234, 346, 45, 'pitae', 'sachin', 'wer'}"
      ]
     },
     "execution_count": 206,
     "metadata": {},
     "output_type": "execute_result"
    }
   ],
   "source": [
    "s"
   ]
  },
  {
   "cell_type": "code",
   "execution_count": 207,
   "id": "89079828",
   "metadata": {},
   "outputs": [],
   "source": [
    "s1 = set()"
   ]
  },
  {
   "cell_type": "code",
   "execution_count": 208,
   "id": "26ee758e",
   "metadata": {},
   "outputs": [],
   "source": [
    "s1.add(45)"
   ]
  },
  {
   "cell_type": "code",
   "execution_count": 209,
   "id": "a5a7f64d",
   "metadata": {},
   "outputs": [],
   "source": [
    "s1.add(78)"
   ]
  },
  {
   "cell_type": "code",
   "execution_count": 210,
   "id": "3b8f26a6",
   "metadata": {},
   "outputs": [
    {
     "ename": "TypeError",
     "evalue": "unsupported operand type(s) for +: 'set' and 'set'",
     "output_type": "error",
     "traceback": [
      "\u001b[1;31m---------------------------------------------------------------------------\u001b[0m",
      "\u001b[1;31mTypeError\u001b[0m                                 Traceback (most recent call last)",
      "\u001b[1;32m~\\AppData\\Local\\Temp/ipykernel_5776/2184606050.py\u001b[0m in \u001b[0;36m<module>\u001b[1;34m\u001b[0m\n\u001b[1;32m----> 1\u001b[1;33m \u001b[0ms\u001b[0m \u001b[1;33m+\u001b[0m \u001b[0ms1\u001b[0m\u001b[1;33m\u001b[0m\u001b[1;33m\u001b[0m\u001b[0m\n\u001b[0m",
      "\u001b[1;31mTypeError\u001b[0m: unsupported operand type(s) for +: 'set' and 'set'"
     ]
    }
   ],
   "source": [
    "s + s1"
   ]
  },
  {
   "cell_type": "code",
   "execution_count": null,
   "id": "3e89a486",
   "metadata": {},
   "outputs": [],
   "source": [
    "s"
   ]
  },
  {
   "cell_type": "code",
   "execution_count": 212,
   "id": "f6d60e4d",
   "metadata": {},
   "outputs": [],
   "source": [
    "l4 = list(s)"
   ]
  },
  {
   "cell_type": "code",
   "execution_count": 213,
   "id": "b0426118",
   "metadata": {},
   "outputs": [
    {
     "data": {
      "text/plain": [
       "['sachin', 234, 45, 346, 'pitae', 'wer']"
      ]
     },
     "execution_count": 213,
     "metadata": {},
     "output_type": "execute_result"
    }
   ],
   "source": [
    "l4"
   ]
  },
  {
   "cell_type": "code",
   "execution_count": 214,
   "id": "61957078",
   "metadata": {},
   "outputs": [],
   "source": [
    "l4.append(\"pitale\")"
   ]
  },
  {
   "cell_type": "code",
   "execution_count": 215,
   "id": "68a7242e",
   "metadata": {},
   "outputs": [
    {
     "data": {
      "text/plain": [
       "['sachin', 234, 45, 346, 'pitae', 'wer', 'pitale']"
      ]
     },
     "execution_count": 215,
     "metadata": {},
     "output_type": "execute_result"
    }
   ],
   "source": [
    "l4"
   ]
  },
  {
   "cell_type": "code",
   "execution_count": 216,
   "id": "84a8d0d0",
   "metadata": {},
   "outputs": [],
   "source": [
    "l4.insert(2,278)"
   ]
  },
  {
   "cell_type": "code",
   "execution_count": 217,
   "id": "2c271b13",
   "metadata": {},
   "outputs": [
    {
     "data": {
      "text/plain": [
       "['sachin', 234, 278, 45, 346, 'pitae', 'wer', 'pitale']"
      ]
     },
     "execution_count": 217,
     "metadata": {},
     "output_type": "execute_result"
    }
   ],
   "source": [
    "l4"
   ]
  },
  {
   "cell_type": "code",
   "execution_count": 107,
   "id": "eb7236f4",
   "metadata": {},
   "outputs": [],
   "source": [
    "s = set()"
   ]
  },
  {
   "cell_type": "code",
   "execution_count": 108,
   "id": "af4bb0c4",
   "metadata": {},
   "outputs": [],
   "source": [
    "s.add(45)"
   ]
  },
  {
   "cell_type": "code",
   "execution_count": 4,
   "id": "bacf6541",
   "metadata": {},
   "outputs": [],
   "source": [
    "s.add(98)"
   ]
  },
  {
   "cell_type": "code",
   "execution_count": 5,
   "id": "be8abdce",
   "metadata": {},
   "outputs": [],
   "source": [
    "s.add(\"sachin\")"
   ]
  },
  {
   "cell_type": "code",
   "execution_count": null,
   "id": "87daeb5b",
   "metadata": {},
   "outputs": [],
   "source": [
    "s."
   ]
  },
  {
   "cell_type": "code",
   "execution_count": 6,
   "id": "e4bf9379",
   "metadata": {},
   "outputs": [],
   "source": [
    "t4 = tuple(s)"
   ]
  },
  {
   "cell_type": "code",
   "execution_count": 7,
   "id": "743794ca",
   "metadata": {},
   "outputs": [
    {
     "data": {
      "text/plain": [
       "('sachin', 98, 45)"
      ]
     },
     "execution_count": 7,
     "metadata": {},
     "output_type": "execute_result"
    }
   ],
   "source": [
    "t4"
   ]
  },
  {
   "cell_type": "code",
   "execution_count": 8,
   "id": "a86c9695",
   "metadata": {},
   "outputs": [
    {
     "data": {
      "text/plain": [
       "{45, 98, 'sachin'}"
      ]
     },
     "execution_count": 8,
     "metadata": {},
     "output_type": "execute_result"
    }
   ],
   "source": [
    "set(t4)"
   ]
  },
  {
   "cell_type": "code",
   "execution_count": 9,
   "id": "0796f4be",
   "metadata": {},
   "outputs": [
    {
     "data": {
      "text/plain": [
       "['sachin', 98, 45]"
      ]
     },
     "execution_count": 9,
     "metadata": {},
     "output_type": "execute_result"
    }
   ],
   "source": [
    "list(t4)"
   ]
  },
  {
   "cell_type": "code",
   "execution_count": 10,
   "id": "e3325632",
   "metadata": {},
   "outputs": [],
   "source": [
    "# List : It is mutable object, we can add element later also\n",
    "# tuple: It is immutable object, we can't add element in later\n",
    "# set: It contain unique un order data"
   ]
  },
  {
   "cell_type": "code",
   "execution_count": null,
   "id": "bbc2cf12",
   "metadata": {},
   "outputs": [],
   "source": []
  },
  {
   "cell_type": "code",
   "execution_count": 11,
   "id": "29bf4179",
   "metadata": {},
   "outputs": [],
   "source": [
    "\n",
    "#####################################################################################################\n",
    "# Dict"
   ]
  },
  {
   "cell_type": "code",
   "execution_count": 12,
   "id": "64d7eedb",
   "metadata": {},
   "outputs": [],
   "source": [
    "x = {}"
   ]
  },
  {
   "cell_type": "code",
   "execution_count": 13,
   "id": "f2d3e057",
   "metadata": {},
   "outputs": [
    {
     "data": {
      "text/plain": [
       "dict"
      ]
     },
     "execution_count": 13,
     "metadata": {},
     "output_type": "execute_result"
    }
   ],
   "source": [
    "type(x)"
   ]
  },
  {
   "cell_type": "code",
   "execution_count": 14,
   "id": "20f2ff61",
   "metadata": {},
   "outputs": [],
   "source": [
    "x1 = {34,63}"
   ]
  },
  {
   "cell_type": "code",
   "execution_count": 15,
   "id": "b85664ce",
   "metadata": {},
   "outputs": [
    {
     "data": {
      "text/plain": [
       "set"
      ]
     },
     "execution_count": 15,
     "metadata": {},
     "output_type": "execute_result"
    }
   ],
   "source": [
    "type(x1)"
   ]
  },
  {
   "cell_type": "code",
   "execution_count": 16,
   "id": "6dabd163",
   "metadata": {},
   "outputs": [],
   "source": [
    "x = {\"name\": \"sachin\", \"age\": \"30\"}"
   ]
  },
  {
   "cell_type": "code",
   "execution_count": 17,
   "id": "9f948164",
   "metadata": {},
   "outputs": [
    {
     "data": {
      "text/plain": [
       "dict"
      ]
     },
     "execution_count": 17,
     "metadata": {},
     "output_type": "execute_result"
    }
   ],
   "source": [
    "type(x)"
   ]
  },
  {
   "cell_type": "code",
   "execution_count": 26,
   "id": "549f4ad1",
   "metadata": {},
   "outputs": [],
   "source": [
    "x1 = {\"name\": \"sachin\" , \"age\": 30 , True : \"yes\" , 34.5 : \"no\" }"
   ]
  },
  {
   "cell_type": "code",
   "execution_count": 2,
   "id": "febb0e48",
   "metadata": {},
   "outputs": [
    {
     "ename": "TypeError",
     "evalue": "unhashable type: 'list'",
     "output_type": "error",
     "traceback": [
      "\u001b[1;31m---------------------------------------------------------------------------\u001b[0m",
      "\u001b[1;31mTypeError\u001b[0m                                 Traceback (most recent call last)",
      "\u001b[1;32m~\\AppData\\Local\\Temp/ipykernel_5404/278077782.py\u001b[0m in \u001b[0;36m<module>\u001b[1;34m\u001b[0m\n\u001b[1;32m----> 1\u001b[1;33m \u001b[0mx2\u001b[0m \u001b[1;33m=\u001b[0m \u001b[1;33m{\u001b[0m\u001b[1;33m[\u001b[0m\u001b[1;36m4\u001b[0m\u001b[1;33m,\u001b[0m\u001b[1;36m6\u001b[0m\u001b[1;33m,\u001b[0m\u001b[1;36m7\u001b[0m\u001b[1;33m,\u001b[0m\u001b[1;36m8\u001b[0m\u001b[1;33m]\u001b[0m \u001b[1;33m:\u001b[0m \u001b[1;34m\"abc\"\u001b[0m\u001b[1;33m,\u001b[0m \u001b[1;34m\"pqr\"\u001b[0m\u001b[1;33m:\u001b[0m\u001b[1;34m\"xzy\"\u001b[0m \u001b[1;33m}\u001b[0m\u001b[1;33m\u001b[0m\u001b[1;33m\u001b[0m\u001b[0m\n\u001b[0m",
      "\u001b[1;31mTypeError\u001b[0m: unhashable type: 'list'"
     ]
    }
   ],
   "source": [
    "x2 = {[4,6,7,8] : \"abc\", \"pqr\":\"xzy\" }"
   ]
  },
  {
   "cell_type": "code",
   "execution_count": 3,
   "id": "50ca854b",
   "metadata": {},
   "outputs": [],
   "source": [
    "x3 = {(4,6,7,8) : \"abc\", \"pqr\":\"xzy\" }"
   ]
  },
  {
   "cell_type": "code",
   "execution_count": 4,
   "id": "835c5ca2",
   "metadata": {},
   "outputs": [
    {
     "ename": "TypeError",
     "evalue": "unhashable type: 'set'",
     "output_type": "error",
     "traceback": [
      "\u001b[1;31m---------------------------------------------------------------------------\u001b[0m",
      "\u001b[1;31mTypeError\u001b[0m                                 Traceback (most recent call last)",
      "\u001b[1;32m~\\AppData\\Local\\Temp/ipykernel_5404/3740632559.py\u001b[0m in \u001b[0;36m<module>\u001b[1;34m\u001b[0m\n\u001b[1;32m----> 1\u001b[1;33m \u001b[0mx4\u001b[0m \u001b[1;33m=\u001b[0m \u001b[1;33m{\u001b[0m\u001b[1;33m{\u001b[0m\u001b[1;36m4\u001b[0m\u001b[1;33m,\u001b[0m\u001b[1;36m6\u001b[0m\u001b[1;33m,\u001b[0m\u001b[1;36m7\u001b[0m\u001b[1;33m,\u001b[0m\u001b[1;36m8\u001b[0m\u001b[1;33m}\u001b[0m \u001b[1;33m:\u001b[0m \u001b[1;34m\"abc\"\u001b[0m\u001b[1;33m,\u001b[0m \u001b[1;34m\"pqr\"\u001b[0m\u001b[1;33m:\u001b[0m\u001b[1;34m\"xzy\"\u001b[0m \u001b[1;33m}\u001b[0m\u001b[1;33m\u001b[0m\u001b[1;33m\u001b[0m\u001b[0m\n\u001b[0m",
      "\u001b[1;31mTypeError\u001b[0m: unhashable type: 'set'"
     ]
    }
   ],
   "source": [
    "x4 = {{4,6,7,8} : \"abc\", \"pqr\":\"xzy\" }"
   ]
  },
  {
   "cell_type": "code",
   "execution_count": 5,
   "id": "5c3a9ad7",
   "metadata": {},
   "outputs": [],
   "source": []
  },
  {
   "cell_type": "code",
   "execution_count": 16,
   "id": "627f07ca",
   "metadata": {},
   "outputs": [
    {
     "name": "stdout",
     "output_type": "stream",
     "text": [
      "3\n"
     ]
    }
   ],
   "source": [
    "# check 4 is present or not in list. if present print index value of 4\n",
    "l = [1,2,3,4,5]\n",
    "\n",
    "if 4 in l:\n",
    "    print(l.index(4))"
   ]
  },
  {
   "cell_type": "code",
   "execution_count": 15,
   "id": "84c4e594",
   "metadata": {},
   "outputs": [
    {
     "data": {
      "text/plain": [
       "3"
      ]
     },
     "execution_count": 15,
     "metadata": {},
     "output_type": "execute_result"
    }
   ],
   "source": [
    "l.index(4)"
   ]
  },
  {
   "cell_type": "code",
   "execution_count": 23,
   "id": "750d4b0b",
   "metadata": {},
   "outputs": [],
   "source": [
    "x1 = {\"name\": \"sachin\" , \"age\": 30 , True : \"yes\" , 34.5 : \"no\", \"sffg\" : [37,38,54,85], \"abc\":  {\"k1\":\"wer\",\"k4\": [345,53455,534]} }"
   ]
  },
  {
   "cell_type": "code",
   "execution_count": 18,
   "id": "56ba1f63",
   "metadata": {},
   "outputs": [
    {
     "data": {
      "text/plain": [
       "30"
      ]
     },
     "execution_count": 18,
     "metadata": {},
     "output_type": "execute_result"
    }
   ],
   "source": [
    "x1[\"age\"]"
   ]
  },
  {
   "cell_type": "code",
   "execution_count": 19,
   "id": "2031e58f",
   "metadata": {},
   "outputs": [
    {
     "data": {
      "text/plain": [
       "'sachin'"
      ]
     },
     "execution_count": 19,
     "metadata": {},
     "output_type": "execute_result"
    }
   ],
   "source": [
    "x1[\"name\"]"
   ]
  },
  {
   "cell_type": "code",
   "execution_count": 22,
   "id": "fd0dabae",
   "metadata": {},
   "outputs": [
    {
     "data": {
      "text/plain": [
       "54"
      ]
     },
     "execution_count": 22,
     "metadata": {},
     "output_type": "execute_result"
    }
   ],
   "source": [
    "x1[\"sffg\"][2]"
   ]
  },
  {
   "cell_type": "code",
   "execution_count": 27,
   "id": "eac9ee60",
   "metadata": {},
   "outputs": [
    {
     "data": {
      "text/plain": [
       "[345, 53455, 534]"
      ]
     },
     "execution_count": 27,
     "metadata": {},
     "output_type": "execute_result"
    }
   ],
   "source": [
    "x1[\"abc\"][\"k4\"]"
   ]
  },
  {
   "cell_type": "code",
   "execution_count": 65,
   "id": "511da74d",
   "metadata": {},
   "outputs": [
    {
     "data": {
      "text/plain": [
       "int"
      ]
     },
     "execution_count": 65,
     "metadata": {},
     "output_type": "execute_result"
    }
   ],
   "source": [
    "x1[\"abc\"][\"k4\"][2]"
   ]
  },
  {
   "cell_type": "code",
   "execution_count": 18,
   "id": "34b1fbe4",
   "metadata": {},
   "outputs": [],
   "source": [
    "x3 = {5:\"wer\", \"k4\": [345,534535,534]}"
   ]
  },
  {
   "cell_type": "code",
   "execution_count": 30,
   "id": "6524de6a",
   "metadata": {},
   "outputs": [],
   "source": [
    "x4 = {\"k4\" : \"FSdfs\"}"
   ]
  },
  {
   "cell_type": "code",
   "execution_count": 31,
   "id": "2730c13f",
   "metadata": {},
   "outputs": [
    {
     "ename": "TypeError",
     "evalue": "unsupported operand type(s) for +: 'dict' and 'dict'",
     "output_type": "error",
     "traceback": [
      "\u001b[1;31m---------------------------------------------------------------------------\u001b[0m",
      "\u001b[1;31mTypeError\u001b[0m                                 Traceback (most recent call last)",
      "\u001b[1;32m~\\AppData\\Local\\Temp/ipykernel_5404/4051029926.py\u001b[0m in \u001b[0;36m<module>\u001b[1;34m\u001b[0m\n\u001b[1;32m----> 1\u001b[1;33m \u001b[0mx3\u001b[0m \u001b[1;33m+\u001b[0m \u001b[0mx4\u001b[0m\u001b[1;33m\u001b[0m\u001b[1;33m\u001b[0m\u001b[0m\n\u001b[0m",
      "\u001b[1;31mTypeError\u001b[0m: unsupported operand type(s) for +: 'dict' and 'dict'"
     ]
    }
   ],
   "source": [
    "x3 + x4"
   ]
  },
  {
   "cell_type": "code",
   "execution_count": 32,
   "id": "324a2956",
   "metadata": {},
   "outputs": [
    {
     "data": {
      "text/plain": [
       "{5: 'wer', 'k4': [345, 534535, 534]}"
      ]
     },
     "execution_count": 32,
     "metadata": {},
     "output_type": "execute_result"
    }
   ],
   "source": [
    "x3 "
   ]
  },
  {
   "cell_type": "code",
   "execution_count": 33,
   "id": "35556d08",
   "metadata": {},
   "outputs": [
    {
     "data": {
      "text/plain": [
       "[345, 534535, 534]"
      ]
     },
     "execution_count": 33,
     "metadata": {},
     "output_type": "execute_result"
    }
   ],
   "source": [
    "x3['k4']"
   ]
  },
  {
   "cell_type": "code",
   "execution_count": 34,
   "id": "c63f55c9",
   "metadata": {},
   "outputs": [],
   "source": [
    "x3['k4'] = \"sachin\""
   ]
  },
  {
   "cell_type": "code",
   "execution_count": 35,
   "id": "59c9be87",
   "metadata": {},
   "outputs": [
    {
     "data": {
      "text/plain": [
       "{5: 'wer', 'k4': 'sachin'}"
      ]
     },
     "execution_count": 35,
     "metadata": {},
     "output_type": "execute_result"
    }
   ],
   "source": [
    "x3"
   ]
  },
  {
   "cell_type": "code",
   "execution_count": 36,
   "id": "bc7c23bd",
   "metadata": {},
   "outputs": [],
   "source": [
    "x3['k4'] = 456"
   ]
  },
  {
   "cell_type": "code",
   "execution_count": 37,
   "id": "98c7695a",
   "metadata": {},
   "outputs": [
    {
     "data": {
      "text/plain": [
       "{5: 'wer', 'k4': 456}"
      ]
     },
     "execution_count": 37,
     "metadata": {},
     "output_type": "execute_result"
    }
   ],
   "source": [
    "x3"
   ]
  },
  {
   "cell_type": "code",
   "execution_count": 38,
   "id": "f15b5a2a",
   "metadata": {},
   "outputs": [],
   "source": [
    "x3['k4'] -= 10"
   ]
  },
  {
   "cell_type": "code",
   "execution_count": 39,
   "id": "698c60f7",
   "metadata": {},
   "outputs": [
    {
     "data": {
      "text/plain": [
       "{5: 'wer', 'k4': 446}"
      ]
     },
     "execution_count": 39,
     "metadata": {},
     "output_type": "execute_result"
    }
   ],
   "source": [
    "x3"
   ]
  },
  {
   "cell_type": "code",
   "execution_count": 40,
   "id": "cc6576a4",
   "metadata": {},
   "outputs": [],
   "source": [
    "x3['k4'] += 10"
   ]
  },
  {
   "cell_type": "code",
   "execution_count": 42,
   "id": "702f34c1",
   "metadata": {},
   "outputs": [
    {
     "data": {
      "text/plain": [
       "{5: 'wer', 'k4': 456}"
      ]
     },
     "execution_count": 42,
     "metadata": {},
     "output_type": "execute_result"
    }
   ],
   "source": [
    "x3"
   ]
  },
  {
   "cell_type": "code",
   "execution_count": 43,
   "id": "5f2722cf",
   "metadata": {},
   "outputs": [],
   "source": [
    "x3['k4'] *= 2"
   ]
  },
  {
   "cell_type": "code",
   "execution_count": 45,
   "id": "994a00e3",
   "metadata": {},
   "outputs": [
    {
     "data": {
      "text/plain": [
       "{5: 'wer', 'k4': 912}"
      ]
     },
     "execution_count": 45,
     "metadata": {},
     "output_type": "execute_result"
    }
   ],
   "source": [
    "x3"
   ]
  },
  {
   "cell_type": "code",
   "execution_count": 46,
   "id": "a80ef083",
   "metadata": {},
   "outputs": [],
   "source": [
    "x3['k4'] /= 2"
   ]
  },
  {
   "cell_type": "code",
   "execution_count": 47,
   "id": "fdd5da52",
   "metadata": {},
   "outputs": [
    {
     "data": {
      "text/plain": [
       "{5: 'wer', 'k4': 456.0}"
      ]
     },
     "execution_count": 47,
     "metadata": {},
     "output_type": "execute_result"
    }
   ],
   "source": [
    "x3"
   ]
  },
  {
   "cell_type": "code",
   "execution_count": 48,
   "id": "eeadaaec",
   "metadata": {},
   "outputs": [],
   "source": [
    "x3['k4'] %= 2"
   ]
  },
  {
   "cell_type": "code",
   "execution_count": 55,
   "id": "d2c55cb4",
   "metadata": {},
   "outputs": [],
   "source": [
    "x3['k4'] = 2048"
   ]
  },
  {
   "cell_type": "code",
   "execution_count": 56,
   "id": "b7adcffb",
   "metadata": {},
   "outputs": [
    {
     "data": {
      "text/plain": [
       "{5: 'wer', 'k4': 2048}"
      ]
     },
     "execution_count": 56,
     "metadata": {},
     "output_type": "execute_result"
    }
   ],
   "source": [
    "x3"
   ]
  },
  {
   "cell_type": "code",
   "execution_count": 50,
   "id": "a1c8f0ae",
   "metadata": {},
   "outputs": [
    {
     "data": {
      "text/plain": [
       "dict_keys([5, 'k4'])"
      ]
     },
     "execution_count": 50,
     "metadata": {},
     "output_type": "execute_result"
    }
   ],
   "source": [
    "# To find the all the keys\n",
    "\n",
    "x3.keys()"
   ]
  },
  {
   "cell_type": "code",
   "execution_count": 51,
   "id": "b04fede6",
   "metadata": {},
   "outputs": [
    {
     "data": {
      "text/plain": [
       "True"
      ]
     },
     "execution_count": 51,
     "metadata": {},
     "output_type": "execute_result"
    }
   ],
   "source": [
    "'k4' in x3.keys()"
   ]
  },
  {
   "cell_type": "code",
   "execution_count": 52,
   "id": "c195c7c1",
   "metadata": {},
   "outputs": [
    {
     "name": "stdout",
     "output_type": "stream",
     "text": [
      "5\n",
      "k4\n"
     ]
    }
   ],
   "source": [
    "for i in x3:\n",
    "    print(i)"
   ]
  },
  {
   "cell_type": "code",
   "execution_count": 57,
   "id": "a6eb5460",
   "metadata": {},
   "outputs": [
    {
     "name": "stdout",
     "output_type": "stream",
     "text": [
      "wer\n",
      "2048\n"
     ]
    }
   ],
   "source": [
    "for i in x3.keys():\n",
    "    print(x3[i])"
   ]
  },
  {
   "cell_type": "code",
   "execution_count": 59,
   "id": "f0c9f2d9",
   "metadata": {},
   "outputs": [
    {
     "data": {
      "text/plain": [
       "{'name': 'sachin',\n",
       " 'age': 30,\n",
       " True: 'yes',\n",
       " 34.5: 'no',\n",
       " 'sffg': [37, 38, 54, 85],\n",
       " 'abc': {'k1': 'wer', 'k4': [345, 53455, 534]}}"
      ]
     },
     "execution_count": 59,
     "metadata": {},
     "output_type": "execute_result"
    }
   ],
   "source": [
    "x1"
   ]
  },
  {
   "cell_type": "code",
   "execution_count": 60,
   "id": "62fc56e4",
   "metadata": {},
   "outputs": [
    {
     "data": {
      "text/plain": [
       "dict_keys(['name', 'age', True, 34.5, 'sffg', 'abc'])"
      ]
     },
     "execution_count": 60,
     "metadata": {},
     "output_type": "execute_result"
    }
   ],
   "source": [
    "x1.keys()"
   ]
  },
  {
   "cell_type": "code",
   "execution_count": 61,
   "id": "b525b056",
   "metadata": {},
   "outputs": [
    {
     "name": "stdout",
     "output_type": "stream",
     "text": [
      "sachin\n",
      "30\n",
      "yes\n",
      "no\n",
      "[37, 38, 54, 85]\n",
      "{'k1': 'wer', 'k4': [345, 53455, 534]}\n"
     ]
    }
   ],
   "source": [
    "for i in x1.keys():\n",
    "    print(x1[i])"
   ]
  },
  {
   "cell_type": "code",
   "execution_count": 63,
   "id": "089eff56",
   "metadata": {},
   "outputs": [
    {
     "name": "stdout",
     "output_type": "stream",
     "text": [
      "<class 'str'>\n",
      "<class 'int'>\n",
      "<class 'str'>\n",
      "<class 'str'>\n",
      "<class 'list'>\n",
      "<class 'dict'>\n"
     ]
    }
   ],
   "source": [
    "for i in x1.keys():\n",
    "    print(type(x1[i]))"
   ]
  },
  {
   "cell_type": "code",
   "execution_count": 64,
   "id": "417b9745",
   "metadata": {},
   "outputs": [
    {
     "data": {
      "text/plain": [
       "{'name': 'sachin',\n",
       " 'age': 30,\n",
       " True: 'yes',\n",
       " 34.5: 'no',\n",
       " 'sffg': [37, 38, 54, 85],\n",
       " 'abc': {'k1': 'wer', 'k4': [345, 53455, 534]}}"
      ]
     },
     "execution_count": 64,
     "metadata": {},
     "output_type": "execute_result"
    }
   ],
   "source": [
    "x1"
   ]
  },
  {
   "cell_type": "code",
   "execution_count": 81,
   "id": "6db3241a",
   "metadata": {},
   "outputs": [
    {
     "name": "stdout",
     "output_type": "stream",
     "text": [
      "[37, 38, 54, 85]\n",
      "k1\n",
      "<class 'str'>\n",
      "k4\n",
      "<class 'list'>\n"
     ]
    }
   ],
   "source": [
    "# To find list and dict inside dict and print data type\n",
    "for i in x1.keys():\n",
    "    if type(x1[i]) == list:\n",
    "        print(x1[i])\n",
    "        for j in x1[i]:\n",
    "            #print(type(j))\n",
    "            pass\n",
    "    elif type(x1[i]) == dict:\n",
    "        for j in x1[i].keys():\n",
    "            print(j)\n",
    "            print(type(x1[i][j]))\n",
    "            \n",
    "      "
   ]
  },
  {
   "cell_type": "code",
   "execution_count": 72,
   "id": "67b9a0bd",
   "metadata": {},
   "outputs": [
    {
     "data": {
      "text/plain": [
       "dict"
      ]
     },
     "execution_count": 72,
     "metadata": {},
     "output_type": "execute_result"
    }
   ],
   "source": [
    "type(x2)"
   ]
  },
  {
   "cell_type": "code",
   "execution_count": 83,
   "id": "41288260",
   "metadata": {},
   "outputs": [
    {
     "data": {
      "text/plain": [
       "{'name': 'sachin',\n",
       " 'age': 30,\n",
       " True: 'yes',\n",
       " 34.5: 'no',\n",
       " 'sffg': [37, 38, 54, 85],\n",
       " 'abc': {'k1': 'wer', 'k4': [345, 53455, 534]}}"
      ]
     },
     "execution_count": 83,
     "metadata": {},
     "output_type": "execute_result"
    }
   ],
   "source": [
    "x1"
   ]
  },
  {
   "cell_type": "code",
   "execution_count": 84,
   "id": "c02141c8",
   "metadata": {},
   "outputs": [
    {
     "data": {
      "text/plain": [
       "dict_items([('name', 'sachin'), ('age', 30), (True, 'yes'), (34.5, 'no'), ('sffg', [37, 38, 54, 85]), ('abc', {'k1': 'wer', 'k4': [345, 53455, 534]})])"
      ]
     },
     "execution_count": 84,
     "metadata": {},
     "output_type": "execute_result"
    }
   ],
   "source": [
    "# item will create tuple from dict\n",
    "\n",
    "x1.items()"
   ]
  },
  {
   "cell_type": "code",
   "execution_count": 85,
   "id": "ed515565",
   "metadata": {},
   "outputs": [
    {
     "name": "stdout",
     "output_type": "stream",
     "text": [
      "('name', 'sachin')\n",
      "('age', 30)\n",
      "(True, 'yes')\n",
      "(34.5, 'no')\n",
      "('sffg', [37, 38, 54, 85])\n",
      "('abc', {'k1': 'wer', 'k4': [345, 53455, 534]})\n"
     ]
    }
   ],
   "source": [
    "for i in x1.items():\n",
    "    print(i)"
   ]
  },
  {
   "cell_type": "code",
   "execution_count": 86,
   "id": "d6c5e888",
   "metadata": {},
   "outputs": [
    {
     "name": "stdout",
     "output_type": "stream",
     "text": [
      "name\n",
      "age\n",
      "True\n",
      "34.5\n",
      "sffg\n",
      "abc\n"
     ]
    }
   ],
   "source": [
    "# To print all the keys\n",
    "for i in x1.items():\n",
    "    print(i[0])"
   ]
  },
  {
   "cell_type": "code",
   "execution_count": 87,
   "id": "ee149ef5",
   "metadata": {},
   "outputs": [
    {
     "name": "stdout",
     "output_type": "stream",
     "text": [
      "sachin\n",
      "30\n",
      "yes\n",
      "no\n",
      "[37, 38, 54, 85]\n",
      "{'k1': 'wer', 'k4': [345, 53455, 534]}\n"
     ]
    }
   ],
   "source": [
    "# To print  all the values\n",
    "\n",
    "for i in x1.items():\n",
    "    print(i[1])"
   ]
  },
  {
   "cell_type": "code",
   "execution_count": 88,
   "id": "a184bfd1",
   "metadata": {},
   "outputs": [],
   "source": [
    "x5 = {(34,56,76) : \"sadaldjfal\"}"
   ]
  },
  {
   "cell_type": "code",
   "execution_count": 89,
   "id": "e6d10e5e",
   "metadata": {},
   "outputs": [
    {
     "data": {
      "text/plain": [
       "{(34, 56, 76): 'sadaldjfal'}"
      ]
     },
     "execution_count": 89,
     "metadata": {},
     "output_type": "execute_result"
    }
   ],
   "source": [
    "x5"
   ]
  },
  {
   "cell_type": "code",
   "execution_count": 90,
   "id": "c5b45e1a",
   "metadata": {},
   "outputs": [
    {
     "data": {
      "text/plain": [
       "'sadaldjfal'"
      ]
     },
     "execution_count": 90,
     "metadata": {},
     "output_type": "execute_result"
    }
   ],
   "source": [
    "x5[(34,56,76)]"
   ]
  },
  {
   "cell_type": "code",
   "execution_count": 91,
   "id": "db9ee2d9",
   "metadata": {},
   "outputs": [
    {
     "data": {
      "text/plain": [
       "{'name': 'sachin',\n",
       " 'age': 30,\n",
       " True: 'yes',\n",
       " 34.5: 'no',\n",
       " 'sffg': [37, 38, 54, 85],\n",
       " 'abc': {'k1': 'wer', 'k4': [345, 53455, 534]}}"
      ]
     },
     "execution_count": 91,
     "metadata": {},
     "output_type": "execute_result"
    }
   ],
   "source": [
    "x1"
   ]
  },
  {
   "cell_type": "code",
   "execution_count": 94,
   "id": "df491697",
   "metadata": {},
   "outputs": [
    {
     "data": {
      "text/plain": [
       "6"
      ]
     },
     "execution_count": 94,
     "metadata": {},
     "output_type": "execute_result"
    }
   ],
   "source": [
    "# To find total key value pair number\n",
    "len(x1)"
   ]
  },
  {
   "cell_type": "code",
   "execution_count": 99,
   "id": "072f1bb0",
   "metadata": {},
   "outputs": [
    {
     "data": {
      "text/plain": [
       "'sachin'"
      ]
     },
     "execution_count": 99,
     "metadata": {},
     "output_type": "execute_result"
    }
   ],
   "source": [
    "x1.get(\"name\")"
   ]
  },
  {
   "cell_type": "code",
   "execution_count": 100,
   "id": "4418ef5b",
   "metadata": {},
   "outputs": [],
   "source": [
    "e = {56 : {45,68,98}}\n"
   ]
  },
  {
   "cell_type": "code",
   "execution_count": 104,
   "id": "772e3ec9",
   "metadata": {},
   "outputs": [],
   "source": [
    "a=list(e[56])"
   ]
  },
  {
   "cell_type": "code",
   "execution_count": 106,
   "id": "5beeacaa",
   "metadata": {},
   "outputs": [
    {
     "data": {
      "text/plain": [
       "45"
      ]
     },
     "execution_count": 106,
     "metadata": {},
     "output_type": "execute_result"
    }
   ],
   "source": [
    "a[2]"
   ]
  },
  {
   "cell_type": "code",
   "execution_count": 43,
   "id": "fcfc9cda",
   "metadata": {},
   "outputs": [
    {
     "name": "stdout",
     "output_type": "stream",
     "text": [
      "Enter your paragraph:   Jobs was born in San Francisco, California, and put up for adoption. He was raised in the San Francisco Bay Area. He attended Reed College in before dropping out that same year, and traveled through India in seeking enlightenment and studying Zen Buddhism\n",
      "\n",
      "\n",
      "This is  dict of value\n",
      "{'Buddhism': 'sachin', 'California,': 'sachin', 'attended': 'sachin', 'up': 'sachin', 'born': 'sachin', 'He': 'sachin', 'for': 'sachin', 'Reed': 'sachin', 'studying': 'sachin', 'Francisco,': 'sachin', 'India': 'sachin', 'Area.': 'sachin', 'that': 'sachin', 'traveled': 'sachin', 'same': 'sachin', 'the': 'sachin', 'Francisco': 'sachin', 'out': 'sachin', 'was': 'sachin', 'enlightenment': 'sachin', 'dropping': 'sachin', 'raised': 'sachin', 'before': 'sachin', 'seeking': 'sachin', 'College': 'sachin', 'and': 'sachin', 'year,': 'sachin', 'Jobs': 'sachin', 'San': 'sachin', 'adoption.': 'sachin', 'through': 'sachin', 'Zen': 'sachin', 'Bay': 'sachin', 'put': 'sachin', 'in': 'sachin'}\n",
      "\n",
      "\n",
      "This is tuple of value\n",
      "('sachin', 'sachin', 'sachin', 'sachin', 'sachin', 'sachin', 'sachin', 'sachin', 'sachin', 'sachin', 'sachin', 'sachin', 'sachin', 'sachin', 'sachin', 'sachin', 'sachin', 'sachin', 'sachin', 'sachin', 'sachin', 'sachin', 'sachin', 'sachin', 'sachin', 'sachin', 'sachin', 'sachin', 'sachin', 'sachin', 'sachin', 'sachin', 'sachin', 'sachin', 'sachin')\n",
      "\n",
      "\n",
      "This is list of key value\n",
      "['Buddhism', 'California,', 'attended', 'up', 'born', 'He', 'for', 'Reed', 'studying', 'Francisco,', 'India', 'Area.', 'that', 'traveled', 'same', 'the', 'Francisco', 'out', 'was', 'enlightenment', 'dropping', 'raised', 'before', 'seeking', 'College', 'and', 'year,', 'Jobs', 'San', 'adoption.', 'through', 'Zen', 'Bay', 'put', 'in']\n"
     ]
    }
   ],
   "source": [
    "# Question: Take input as a paragraph by using input fuction\n",
    "para = input(\"Enter your paragraph:   \")\n",
    "\n",
    "#Q1: Convert all of this input int list of words\n",
    "l = list([para])\n",
    "l1 = []\n",
    "for item in l:\n",
    "    for i in item.split():\n",
    "        l1.append(i)\n",
    "#Q2 remove all the duplicate element from list\n",
    "l1 = set(l1)\n",
    "l1 = list(l1)\n",
    "\n",
    "#Q3 use above distinct value element as a key for dictonary and assign your name as a value and all the key for dict\n",
    "\n",
    "d1 = {}\n",
    "for i in l1:\n",
    "    d1[i] = \"sachin\"\n",
    "print(\"\\n\")\n",
    "print(\"This is  dict of value\")\n",
    "print (d1)\n",
    "\n",
    "# Q4 Try to print tuple value of all the values\n",
    "l3 = []\n",
    "for i in d1.items():\n",
    "    l3.append(i[1])\n",
    "t = tuple(l3)\n",
    "print(\"\\n\")\n",
    "print(\"This is tuple of value\")\n",
    "print(t)\n",
    "\n",
    "# Q5 Try to print list of all the key\n",
    "l4 = []\n",
    "for i in d1.items():\n",
    "    l4.append(i[0])\n",
    "print(\"\\n\")\n",
    "print(\"This is list of key value\")\n",
    "print(l4)"
   ]
  },
  {
   "cell_type": "code",
   "execution_count": 44,
   "id": "d6d6c4c8",
   "metadata": {},
   "outputs": [
    {
     "name": "stdout",
     "output_type": "stream",
     "text": [
      "Enter your name:  My name is sachin\n",
      "['My', 'name', 'is', 'sachin']\n"
     ]
    }
   ],
   "source": [
    "name = input(\"Enter your name:  \")\n",
    "data = name.split(\" \")\n",
    "print(data)"
   ]
  },
  {
   "cell_type": "code",
   "execution_count": 46,
   "id": "64228be9",
   "metadata": {},
   "outputs": [
    {
     "data": {
      "text/plain": [
       "list"
      ]
     },
     "execution_count": 46,
     "metadata": {},
     "output_type": "execute_result"
    }
   ],
   "source": [
    "type(data)"
   ]
  },
  {
   "cell_type": "code",
   "execution_count": 54,
   "id": "9e9990fd",
   "metadata": {},
   "outputs": [
    {
     "name": "stdout",
     "output_type": "stream",
     "text": [
      "Enter your paragraph:   My name is antaldj\n"
     ]
    }
   ],
   "source": [
    "para = input(\"Enter your paragraph:   \")\n",
    "l = para.split()\n",
    "s = set(l) \n",
    "d = {}\n",
    "for i in s: d[i] = \"sachin\"\n",
    "t=tuple(d.values())\n",
    "l = list(d.keys())"
   ]
  },
  {
   "cell_type": "code",
   "execution_count": 52,
   "id": "08eb5814",
   "metadata": {},
   "outputs": [
    {
     "data": {
      "text/plain": [
       "{'my': 'sachin', 'name': 'sachin', 'is': 'sachin', 'sachin': 'sachin'}"
      ]
     },
     "execution_count": 52,
     "metadata": {},
     "output_type": "execute_result"
    }
   ],
   "source": [
    "d"
   ]
  },
  {
   "cell_type": "code",
   "execution_count": 53,
   "id": "f0393f72",
   "metadata": {},
   "outputs": [
    {
     "data": {
      "text/plain": [
       "dict_values(['sachin', 'sachin', 'sachin', 'sachin'])"
      ]
     },
     "execution_count": 53,
     "metadata": {},
     "output_type": "execute_result"
    }
   ],
   "source": [
    "d.values()"
   ]
  },
  {
   "cell_type": "code",
   "execution_count": 55,
   "id": "b15e02af",
   "metadata": {},
   "outputs": [
    {
     "data": {
      "text/plain": [
       "['antaldj', 'My', 'name', 'is']"
      ]
     },
     "execution_count": 55,
     "metadata": {},
     "output_type": "execute_result"
    }
   ],
   "source": [
    "l"
   ]
  },
  {
   "cell_type": "code",
   "execution_count": 56,
   "id": "be2dd94a",
   "metadata": {},
   "outputs": [
    {
     "data": {
      "text/plain": [
       "('sachin', 'sachin', 'sachin', 'sachin')"
      ]
     },
     "execution_count": 56,
     "metadata": {},
     "output_type": "execute_result"
    }
   ],
   "source": [
    "t"
   ]
  },
  {
   "cell_type": "code",
   "execution_count": null,
   "id": "75ffa180",
   "metadata": {},
   "outputs": [],
   "source": []
  },
  {
   "cell_type": "code",
   "execution_count": null,
   "id": "6d82ca8f",
   "metadata": {},
   "outputs": [],
   "source": []
  },
  {
   "cell_type": "code",
   "execution_count": null,
   "id": "dd878c59",
   "metadata": {},
   "outputs": [],
   "source": []
  },
  {
   "cell_type": "code",
   "execution_count": null,
   "id": "9e8c23ed",
   "metadata": {},
   "outputs": [],
   "source": []
  },
  {
   "cell_type": "code",
   "execution_count": null,
   "id": "5b385dbe",
   "metadata": {},
   "outputs": [],
   "source": []
  },
  {
   "cell_type": "code",
   "execution_count": null,
   "id": "7c3a6922",
   "metadata": {},
   "outputs": [],
   "source": []
  },
  {
   "cell_type": "code",
   "execution_count": 68,
   "id": "d15d5bdb",
   "metadata": {},
   "outputs": [],
   "source": [
    "d = {\"company\" : \"abc\", \"cource\": \"fsds\",\"year\" : 2020}"
   ]
  },
  {
   "cell_type": "code",
   "execution_count": 59,
   "id": "16065017",
   "metadata": {},
   "outputs": [
    {
     "name": "stdout",
     "output_type": "stream",
     "text": [
      "print a key:   company ; value of key:  abc\n",
      "print a key:   cource ; value of key:  fsds\n",
      "print a key:   year ; value of key:  2021\n"
     ]
    }
   ],
   "source": [
    "for i in d:\n",
    "    print (\"print a key:  \", i,\";\" , \"value of key: \", d[i] )"
   ]
  },
  {
   "cell_type": "code",
   "execution_count": 60,
   "id": "c37990be",
   "metadata": {},
   "outputs": [
    {
     "name": "stdout",
     "output_type": "stream",
     "text": [
      "company\n",
      "cource\n",
      "year\n"
     ]
    }
   ],
   "source": [
    "for i in d.keys():\n",
    "    print(i)"
   ]
  },
  {
   "cell_type": "code",
   "execution_count": 62,
   "id": "8da580a1",
   "metadata": {},
   "outputs": [
    {
     "name": "stdout",
     "output_type": "stream",
     "text": [
      "abc\n",
      "fsds\n",
      "2021\n"
     ]
    }
   ],
   "source": [
    "for i in d.values():\n",
    "    print(i)"
   ]
  },
  {
   "cell_type": "code",
   "execution_count": 64,
   "id": "733b5e66",
   "metadata": {},
   "outputs": [
    {
     "data": {
      "text/plain": [
       "False"
      ]
     },
     "execution_count": 64,
     "metadata": {},
     "output_type": "execute_result"
    }
   ],
   "source": [
    "\"course\" in d"
   ]
  },
  {
   "cell_type": "code",
   "execution_count": 71,
   "id": "93566a36",
   "metadata": {},
   "outputs": [
    {
     "data": {
      "text/plain": [
       "{'company': 'abc', 'cource': 'fsds', 'year': 2021}"
      ]
     },
     "execution_count": 71,
     "metadata": {},
     "output_type": "execute_result"
    }
   ],
   "source": [
    "d"
   ]
  },
  {
   "cell_type": "code",
   "execution_count": 70,
   "id": "558924a5",
   "metadata": {},
   "outputs": [],
   "source": [
    "if d['year'] == 2021:\n",
    "    print(\"same year\")\n",
    "else:\n",
    "    d['year'] = 2021"
   ]
  },
  {
   "cell_type": "code",
   "execution_count": 72,
   "id": "b1154dd0",
   "metadata": {},
   "outputs": [],
   "source": [
    "my_dict = {}\n",
    "for i in range(10):\n",
    "    my_dict[i] = i * i"
   ]
  },
  {
   "cell_type": "code",
   "execution_count": 73,
   "id": "575c3c8e",
   "metadata": {},
   "outputs": [
    {
     "data": {
      "text/plain": [
       "{0: 0, 1: 1, 2: 4, 3: 9, 4: 16, 5: 25, 6: 36, 7: 49, 8: 64, 9: 81}"
      ]
     },
     "execution_count": 73,
     "metadata": {},
     "output_type": "execute_result"
    }
   ],
   "source": [
    "my_dict"
   ]
  },
  {
   "cell_type": "code",
   "execution_count": 77,
   "id": "43dcc68e",
   "metadata": {},
   "outputs": [
    {
     "data": {
      "text/plain": [
       "{1: 1, 2: 4, 3: 9, 4: 16, 5: 25, 6: 36, 7: 49, 8: 64, 9: 81, 10: 100}"
      ]
     },
     "execution_count": 77,
     "metadata": {},
     "output_type": "execute_result"
    }
   ],
   "source": [
    "{i : i*i for i in range(1,11)}"
   ]
  },
  {
   "cell_type": "code",
   "execution_count": 78,
   "id": "36910edc",
   "metadata": {},
   "outputs": [
    {
     "data": {
      "text/plain": [
       "{2: 6, 4: 12, 6: 18, 8: 24}"
      ]
     },
     "execution_count": 78,
     "metadata": {},
     "output_type": "execute_result"
    }
   ],
   "source": [
    "{i: i * 3 for i in range(1,10) if i%2== 0  }"
   ]
  },
  {
   "cell_type": "code",
   "execution_count": 80,
   "id": "6a3e1a5e",
   "metadata": {},
   "outputs": [
    {
     "ename": "SyntaxError",
     "evalue": "invalid syntax (Temp/ipykernel_3252/1060257839.py, line 1)",
     "output_type": "error",
     "traceback": [
      "\u001b[1;36m  File \u001b[1;32m\"C:\\Users\\pc\\AppData\\Local\\Temp/ipykernel_3252/1060257839.py\"\u001b[1;36m, line \u001b[1;32m1\u001b[0m\n\u001b[1;33m    {i: if i%2== 0  else i * 3 for i in range(1,10)   }\u001b[0m\n\u001b[1;37m        ^\u001b[0m\n\u001b[1;31mSyntaxError\u001b[0m\u001b[1;31m:\u001b[0m invalid syntax\n"
     ]
    }
   ],
   "source": [
    "{i: if i%2== 0  else i * 3 for i in range(1,10)   }"
   ]
  },
  {
   "cell_type": "code",
   "execution_count": 81,
   "id": "a8e88141",
   "metadata": {},
   "outputs": [
    {
     "data": {
      "text/plain": [
       "{'company': 'abc', 'cource': 'fsds', 'year': 2021}"
      ]
     },
     "execution_count": 81,
     "metadata": {},
     "output_type": "execute_result"
    }
   ],
   "source": [
    "d"
   ]
  },
  {
   "cell_type": "code",
   "execution_count": 83,
   "id": "975a66b6",
   "metadata": {},
   "outputs": [],
   "source": [
    "d.get(\"companyabc\")"
   ]
  },
  {
   "cell_type": "code",
   "execution_count": 90,
   "id": "1f2ec6cf",
   "metadata": {},
   "outputs": [],
   "source": [
    "spam = [int(int('3' * 2)/11)]"
   ]
  },
  {
   "cell_type": "code",
   "execution_count": 93,
   "id": "ff532942",
   "metadata": {},
   "outputs": [
    {
     "data": {
      "text/plain": [
       "[3]"
      ]
     },
     "execution_count": 93,
     "metadata": {},
     "output_type": "execute_result"
    }
   ],
   "source": [
    "spam[:2]"
   ]
  },
  {
   "cell_type": "code",
   "execution_count": 94,
   "id": "10d21716",
   "metadata": {},
   "outputs": [],
   "source": [
    "t = ()\n"
   ]
  },
  {
   "cell_type": "code",
   "execution_count": null,
   "id": "869462b4",
   "metadata": {},
   "outputs": [],
   "source": [
    "t."
   ]
  }
 ],
 "metadata": {
  "kernelspec": {
   "display_name": "Python 3 (ipykernel)",
   "language": "python",
   "name": "python3"
  },
  "language_info": {
   "codemirror_mode": {
    "name": "ipython",
    "version": 3
   },
   "file_extension": ".py",
   "mimetype": "text/x-python",
   "name": "python",
   "nbconvert_exporter": "python",
   "pygments_lexer": "ipython3",
   "version": "3.9.7"
  }
 },
 "nbformat": 4,
 "nbformat_minor": 5
}
