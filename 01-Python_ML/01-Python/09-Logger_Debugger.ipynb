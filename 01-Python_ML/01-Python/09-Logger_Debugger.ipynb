{
 "cells": [
  {
   "cell_type": "code",
   "execution_count": 1,
   "id": "a89a03d8",
   "metadata": {},
   "outputs": [],
   "source": [
    "import logging as lg"
   ]
  },
  {
   "cell_type": "code",
   "execution_count": 1,
   "id": "2010e218",
   "metadata": {},
   "outputs": [],
   "source": [
    "import os"
   ]
  },
  {
   "cell_type": "code",
   "execution_count": 6,
   "id": "96536002",
   "metadata": {},
   "outputs": [],
   "source": [
    "os.mkdir(\"logging\")"
   ]
  },
  {
   "cell_type": "code",
   "execution_count": 2,
   "id": "0cee64cd",
   "metadata": {},
   "outputs": [],
   "source": [
    "os.chdir(\"logging\")"
   ]
  },
  {
   "cell_type": "code",
   "execution_count": 6,
   "id": "3efb590f",
   "metadata": {},
   "outputs": [
    {
     "data": {
      "text/plain": [
       "'E:\\\\Data Science\\\\DS\\\\01-Python\\\\logging'"
      ]
     },
     "execution_count": 6,
     "metadata": {},
     "output_type": "execute_result"
    }
   ],
   "source": [
    "os.getcwd()"
   ]
  },
  {
   "cell_type": "code",
   "execution_count": 10,
   "id": "e9aa0f51",
   "metadata": {},
   "outputs": [],
   "source": [
    "#os.chdir(os.getcwd() + \"/ \" + \"logging\")"
   ]
  },
  {
   "cell_type": "code",
   "execution_count": 13,
   "id": "6ab5c787",
   "metadata": {},
   "outputs": [
    {
     "data": {
      "text/plain": [
       "['test.log']"
      ]
     },
     "execution_count": 13,
     "metadata": {},
     "output_type": "execute_result"
    }
   ],
   "source": [
    "os.listdir()"
   ]
  },
  {
   "cell_type": "code",
   "execution_count": 11,
   "id": "aae3edfc",
   "metadata": {},
   "outputs": [],
   "source": [
    "lg.basicConfig(filename = 'test.log', level = lg.INFO, format = '%(asctime)s %(message)s')"
   ]
  },
  {
   "cell_type": "code",
   "execution_count": 12,
   "id": "4c419446",
   "metadata": {},
   "outputs": [],
   "source": [
    "lg.info(\"I am going to start my first program\")"
   ]
  },
  {
   "cell_type": "code",
   "execution_count": 13,
   "id": "db77827d",
   "metadata": {},
   "outputs": [],
   "source": [
    "lg.warning(\"This is warning of my program to modify it\")"
   ]
  },
  {
   "cell_type": "code",
   "execution_count": 14,
   "id": "06e705e6",
   "metadata": {},
   "outputs": [],
   "source": [
    "lg.error(\"This is message for error\")"
   ]
  },
  {
   "cell_type": "code",
   "execution_count": null,
   "id": "fc90cc74",
   "metadata": {},
   "outputs": [],
   "source": []
  },
  {
   "cell_type": "code",
   "execution_count": 15,
   "id": "7a95cc9c",
   "metadata": {},
   "outputs": [],
   "source": [
    "def test(a,b):\n",
    "    div = a/b\n",
    "    return div"
   ]
  },
  {
   "cell_type": "code",
   "execution_count": 16,
   "id": "b5fbdf10",
   "metadata": {},
   "outputs": [
    {
     "ename": "ZeroDivisionError",
     "evalue": "division by zero",
     "output_type": "error",
     "traceback": [
      "\u001b[1;31m---------------------------------------------------------------------------\u001b[0m",
      "\u001b[1;31mZeroDivisionError\u001b[0m                         Traceback (most recent call last)",
      "\u001b[1;32m~\\AppData\\Local\\Temp/ipykernel_8656/2674636304.py\u001b[0m in \u001b[0;36m<module>\u001b[1;34m\u001b[0m\n\u001b[1;32m----> 1\u001b[1;33m \u001b[0mtest\u001b[0m\u001b[1;33m(\u001b[0m\u001b[1;36m4\u001b[0m\u001b[1;33m,\u001b[0m\u001b[1;36m0\u001b[0m\u001b[1;33m)\u001b[0m\u001b[1;33m\u001b[0m\u001b[1;33m\u001b[0m\u001b[0m\n\u001b[0m",
      "\u001b[1;32m~\\AppData\\Local\\Temp/ipykernel_8656/1490248513.py\u001b[0m in \u001b[0;36mtest\u001b[1;34m(a, b)\u001b[0m\n\u001b[0;32m      1\u001b[0m \u001b[1;32mdef\u001b[0m \u001b[0mtest\u001b[0m\u001b[1;33m(\u001b[0m\u001b[0ma\u001b[0m\u001b[1;33m,\u001b[0m\u001b[0mb\u001b[0m\u001b[1;33m)\u001b[0m\u001b[1;33m:\u001b[0m\u001b[1;33m\u001b[0m\u001b[1;33m\u001b[0m\u001b[0m\n\u001b[1;32m----> 2\u001b[1;33m     \u001b[0mdiv\u001b[0m \u001b[1;33m=\u001b[0m \u001b[0ma\u001b[0m\u001b[1;33m/\u001b[0m\u001b[0mb\u001b[0m\u001b[1;33m\u001b[0m\u001b[1;33m\u001b[0m\u001b[0m\n\u001b[0m\u001b[0;32m      3\u001b[0m     \u001b[1;32mreturn\u001b[0m \u001b[0mdiv\u001b[0m\u001b[1;33m\u001b[0m\u001b[1;33m\u001b[0m\u001b[0m\n",
      "\u001b[1;31mZeroDivisionError\u001b[0m: division by zero"
     ]
    }
   ],
   "source": [
    "test(4,0)"
   ]
  },
  {
   "cell_type": "code",
   "execution_count": 1,
   "id": "9fd4ebfc",
   "metadata": {},
   "outputs": [],
   "source": [
    "def division(a,b):\n",
    "    try:\n",
    "        lg.info(\"First input =  \" +str(a))\n",
    "        lg.info(\"second input =  \" +str(b))\n",
    "        div = a/b\n",
    "        return div\n",
    "    except Exception as e:\n",
    "        print(\"You can check you log file more info. your code has failed\")\n",
    "        lg.error(\"Error has occured\")\n",
    "        lg.exception(str(e))"
   ]
  },
  {
   "cell_type": "code",
   "execution_count": 2,
   "id": "9808b32b",
   "metadata": {},
   "outputs": [
    {
     "name": "stdout",
     "output_type": "stream",
     "text": [
      "You can check you log file more info. your code has failed\n"
     ]
    },
    {
     "ename": "NameError",
     "evalue": "name 'lg' is not defined",
     "output_type": "error",
     "traceback": [
      "\u001b[1;31m---------------------------------------------------------------------------\u001b[0m",
      "\u001b[1;31mNameError\u001b[0m                                 Traceback (most recent call last)",
      "\u001b[1;32m~\\AppData\\Local\\Temp/ipykernel_5816/2270392347.py\u001b[0m in \u001b[0;36mdivision\u001b[1;34m(a, b)\u001b[0m\n\u001b[0;32m      2\u001b[0m     \u001b[1;32mtry\u001b[0m\u001b[1;33m:\u001b[0m\u001b[1;33m\u001b[0m\u001b[1;33m\u001b[0m\u001b[0m\n\u001b[1;32m----> 3\u001b[1;33m         \u001b[0mlg\u001b[0m\u001b[1;33m.\u001b[0m\u001b[0minfo\u001b[0m\u001b[1;33m(\u001b[0m\u001b[1;34m\"First input =  \"\u001b[0m \u001b[1;33m+\u001b[0m\u001b[0mstr\u001b[0m\u001b[1;33m(\u001b[0m\u001b[0ma\u001b[0m\u001b[1;33m)\u001b[0m\u001b[1;33m)\u001b[0m\u001b[1;33m\u001b[0m\u001b[1;33m\u001b[0m\u001b[0m\n\u001b[0m\u001b[0;32m      4\u001b[0m         \u001b[0mlg\u001b[0m\u001b[1;33m.\u001b[0m\u001b[0minfo\u001b[0m\u001b[1;33m(\u001b[0m\u001b[1;34m\"second input =  \"\u001b[0m \u001b[1;33m+\u001b[0m\u001b[0mstr\u001b[0m\u001b[1;33m(\u001b[0m\u001b[0mb\u001b[0m\u001b[1;33m)\u001b[0m\u001b[1;33m)\u001b[0m\u001b[1;33m\u001b[0m\u001b[1;33m\u001b[0m\u001b[0m\n",
      "\u001b[1;31mNameError\u001b[0m: name 'lg' is not defined",
      "\nDuring handling of the above exception, another exception occurred:\n",
      "\u001b[1;31mNameError\u001b[0m                                 Traceback (most recent call last)",
      "\u001b[1;32m~\\AppData\\Local\\Temp/ipykernel_5816/2921484166.py\u001b[0m in \u001b[0;36m<module>\u001b[1;34m\u001b[0m\n\u001b[1;32m----> 1\u001b[1;33m \u001b[0mdivision\u001b[0m\u001b[1;33m(\u001b[0m\u001b[1;36m4\u001b[0m\u001b[1;33m,\u001b[0m\u001b[1;36m0\u001b[0m\u001b[1;33m)\u001b[0m\u001b[1;33m\u001b[0m\u001b[1;33m\u001b[0m\u001b[0m\n\u001b[0m",
      "\u001b[1;32m~\\AppData\\Local\\Temp/ipykernel_5816/2270392347.py\u001b[0m in \u001b[0;36mdivision\u001b[1;34m(a, b)\u001b[0m\n\u001b[0;32m      7\u001b[0m     \u001b[1;32mexcept\u001b[0m \u001b[0mException\u001b[0m \u001b[1;32mas\u001b[0m \u001b[0me\u001b[0m\u001b[1;33m:\u001b[0m\u001b[1;33m\u001b[0m\u001b[1;33m\u001b[0m\u001b[0m\n\u001b[0;32m      8\u001b[0m         \u001b[0mprint\u001b[0m\u001b[1;33m(\u001b[0m\u001b[1;34m\"You can check you log file more info. your code has failed\"\u001b[0m\u001b[1;33m)\u001b[0m\u001b[1;33m\u001b[0m\u001b[1;33m\u001b[0m\u001b[0m\n\u001b[1;32m----> 9\u001b[1;33m         \u001b[0mlg\u001b[0m\u001b[1;33m.\u001b[0m\u001b[0merror\u001b[0m\u001b[1;33m(\u001b[0m\u001b[1;34m\"Error has occured\"\u001b[0m\u001b[1;33m)\u001b[0m\u001b[1;33m\u001b[0m\u001b[1;33m\u001b[0m\u001b[0m\n\u001b[0m\u001b[0;32m     10\u001b[0m         \u001b[0mlg\u001b[0m\u001b[1;33m.\u001b[0m\u001b[0mexception\u001b[0m\u001b[1;33m(\u001b[0m\u001b[0mstr\u001b[0m\u001b[1;33m(\u001b[0m\u001b[0me\u001b[0m\u001b[1;33m)\u001b[0m\u001b[1;33m)\u001b[0m\u001b[1;33m\u001b[0m\u001b[1;33m\u001b[0m\u001b[0m\n",
      "\u001b[1;31mNameError\u001b[0m: name 'lg' is not defined"
     ]
    }
   ],
   "source": [
    "division(4,0)"
   ]
  },
  {
   "cell_type": "code",
   "execution_count": null,
   "id": "afc336ce",
   "metadata": {},
   "outputs": [],
   "source": [
    "import os"
   ]
  },
  {
   "cell_type": "code",
   "execution_count": 3,
   "id": "218b02c1",
   "metadata": {},
   "outputs": [],
   "source": [
    "os.chdir(\"logging\")"
   ]
  },
  {
   "cell_type": "code",
   "execution_count": 16,
   "id": "84926018",
   "metadata": {},
   "outputs": [],
   "source": [
    "import logging as logger\n",
    "logger.basicConfig(filename = 'test1.log', level = logger.INFO, format = '%(asctime)s %(message)s')\n",
    "def addition(a,b):\n",
    "    logger.info(\"First number is  = \"+str(a))\n",
    "    logger.info(\"Second Number is = \"+str(b))\n",
    "    add = a + b\n",
    "    logger.info(\"Addition is = \"+str(add))\n",
    "    "
   ]
  },
  {
   "cell_type": "code",
   "execution_count": 11,
   "id": "bfd3c40a",
   "metadata": {},
   "outputs": [],
   "source": [
    "addition(12,36)"
   ]
  },
  {
   "cell_type": "code",
   "execution_count": 12,
   "id": "12b3d59c",
   "metadata": {},
   "outputs": [],
   "source": [
    "addition(48,24)"
   ]
  },
  {
   "cell_type": "code",
   "execution_count": 18,
   "id": "f68c4b08",
   "metadata": {},
   "outputs": [],
   "source": [
    "logger.debug(\"This is dubug log\")\n",
    "logger.info(\"This is info log\")\n",
    "logger.warning(\"This is my warning log\")\n",
    "logger.error(\"This is my error log\")\n",
    "logger.critical(\"This is my critical log\")\n",
    "logger.exception(\"This is exception of log\")"
   ]
  },
  {
   "cell_type": "code",
   "execution_count": 19,
   "id": "e1f959a5",
   "metadata": {},
   "outputs": [],
   "source": [
    "#  To stop logging\n",
    "logger.shutdown()"
   ]
  },
  {
   "cell_type": "code",
   "execution_count": 20,
   "id": "4702149b",
   "metadata": {},
   "outputs": [],
   "source": [
    "addition(48,123)"
   ]
  },
  {
   "cell_type": "code",
   "execution_count": 4,
   "id": "4614fed2",
   "metadata": {},
   "outputs": [
    {
     "data": {
      "text/plain": [
       "'E:\\\\Data Science\\\\DS\\\\01-Python\\\\logging'"
      ]
     },
     "execution_count": 4,
     "metadata": {},
     "output_type": "execute_result"
    }
   ],
   "source": [
    "pwd"
   ]
  },
  {
   "cell_type": "code",
   "execution_count": null,
   "id": "b2792904",
   "metadata": {},
   "outputs": [],
   "source": [
    "#q1 Create a logger in your code\n",
    "#q2 create a one function which can accept only interger number of input as an arguments and it will be able to return the sum of it.\n",
    "#q3 capture the input in log\n",
    "#q4 Give user instruction in log file\n",
    "#q5 read a log file from python code and show all the log in console"
   ]
  },
  {
   "cell_type": "code",
   "execution_count": 9,
   "id": "d590b179",
   "metadata": {},
   "outputs": [],
   "source": [
    "import logging as logger\n",
    "import sys, os\n",
    "logger.basicConfig(filename = 'addition.log', level=logger.INFO, format= '%(asctime)s %(message)s')\n",
    "def addition(*args):\n",
    "    sum = 0\n",
    "    logger.info(\"User provided input argumets are = \"+str(args))\n",
    "    for i in args:\n",
    "        if type(i) == int:\n",
    "            sum = sum + i\n",
    "        else:\n",
    "            logger.error(\"Provide only integer as input parameter\")\n",
    "            logger.error(\"Execution stopped\")\n",
    "            sys.exit()\n",
    "            \n",
    "    logger.info(\"Execution has completed successfully, please find sum of user input parameter\")\n",
    "    logger.info(\"Total sum of user input = \"+str(sum))\n",
    "    \n",
    "    f = open('addition.log','r')\n",
    "    return f.read()\n"
   ]
  },
  {
   "cell_type": "code",
   "execution_count": 11,
   "id": "918573f8",
   "metadata": {},
   "outputs": [
    {
     "data": {
      "text/plain": [
       "\"2021-12-22 12:27:04,415 User provided input argumets are = (5, 6, 67, 9, 12, 'sachin')\\n2021-12-22 12:27:04,415 Provide only integer as input parameter\\n2021-12-22 12:27:04,416 Execution stopped\\n2021-12-22 12:27:22,176 User provided input argumets are = (5, 6, 67, 9, 12)\\n2021-12-22 12:27:22,177 Execution has completed successfully, please find sum of user input parameter\\n2021-12-22 12:27:22,177 Total sum of user input = 99\\n2021-12-22 12:27:38,192 User provided input argumets are = (5, 6, 67, 9, 12, 279)\\n2021-12-22 12:27:38,192 Execution has completed successfully, please find sum of user input parameter\\n2021-12-22 12:27:38,193 Total sum of user input = 378\\n2021-12-22 12:32:41,032 User provided input argumets are = (5, 6, 67, 9, 12, 279)\\n2021-12-22 12:32:41,032 Execution has completed successfully, please find sum of user input parameter\\n2021-12-22 12:32:41,033 Total sum of user input = 378\\n2021-12-22 12:34:37,281 User provided input argumets are = (5, 6, 67, 9, 12, 279, 42)\\n2021-12-22 12:34:37,281 Execution has completed successfully, please find sum of user input parameter\\n2021-12-22 12:34:37,282 Total sum of user input = 420\\n2021-12-22 13:00:42,470 User provided input argumets are = (5, 6, 67, 9, 12, 279, 42)\\n2021-12-22 13:00:42,470 Execution has completed successfully, please find sum of user input parameter\\n2021-12-22 13:00:42,471 Total sum of user input = 420\\n\""
      ]
     },
     "execution_count": 11,
     "metadata": {},
     "output_type": "execute_result"
    }
   ],
   "source": [
    "addition(5,6,67,9,12,279,42)"
   ]
  },
  {
   "cell_type": "code",
   "execution_count": null,
   "id": "8eaee052",
   "metadata": {},
   "outputs": [],
   "source": []
  },
  {
   "cell_type": "code",
   "execution_count": 3,
   "id": "3a09c29e",
   "metadata": {},
   "outputs": [
    {
     "data": {
      "text/plain": [
       "'E:\\\\Data Science\\\\DS\\\\01-Python\\\\logging'"
      ]
     },
     "execution_count": 3,
     "metadata": {},
     "output_type": "execute_result"
    }
   ],
   "source": [
    "pwd"
   ]
  },
  {
   "cell_type": "code",
   "execution_count": 1,
   "id": "07da939d",
   "metadata": {},
   "outputs": [],
   "source": [
    "import os"
   ]
  },
  {
   "cell_type": "code",
   "execution_count": 2,
   "id": "6b466980",
   "metadata": {},
   "outputs": [],
   "source": [
    "os.chdir(\"logging\")"
   ]
  },
  {
   "cell_type": "code",
   "execution_count": 3,
   "id": "d9c43aba",
   "metadata": {},
   "outputs": [],
   "source": [
    "import logging as lg"
   ]
  },
  {
   "cell_type": "code",
   "execution_count": 4,
   "id": "4124107a",
   "metadata": {},
   "outputs": [],
   "source": [
    "lg.basicConfig(level=lg.DEBUG, format='%(asctime)s %(name)s %(levelname)s %(message)s')"
   ]
  },
  {
   "cell_type": "code",
   "execution_count": 5,
   "id": "4dd781b4",
   "metadata": {},
   "outputs": [],
   "source": [
    "console_log = lg.StreamHandler()\n",
    "console_log.setLevel(lg.INFO)"
   ]
  },
  {
   "cell_type": "code",
   "execution_count": 9,
   "id": "7cedacdf",
   "metadata": {},
   "outputs": [],
   "source": [
    "format = '%(asctime)s %(name)s %(levelname)s %(message)s'"
   ]
  },
  {
   "cell_type": "code",
   "execution_count": 10,
   "id": "6aee297b",
   "metadata": {},
   "outputs": [],
   "source": [
    "console_log.setFormatter(format)"
   ]
  },
  {
   "cell_type": "code",
   "execution_count": 11,
   "id": "fca92c71",
   "metadata": {},
   "outputs": [],
   "source": [
    "lg.getLogger('').addHandler(console_log)"
   ]
  },
  {
   "cell_type": "code",
   "execution_count": 12,
   "id": "c1980863",
   "metadata": {},
   "outputs": [
    {
     "name": "stderr",
     "output_type": "stream",
     "text": [
      "2021-12-23 11:12:00,101 root INFO this is my first test code for log\n",
      "%(asctime)s %(name)s %(levelname)s %(message)s\n"
     ]
    }
   ],
   "source": [
    "lg.info(\"this is my first test code for log\")"
   ]
  },
  {
   "cell_type": "code",
   "execution_count": 13,
   "id": "12bc3eeb",
   "metadata": {},
   "outputs": [],
   "source": [
    "lg1 = lg.getLogger('lg1.area1')\n",
    "lg2 = lg.getLogger('lg2.area1')"
   ]
  },
  {
   "cell_type": "code",
   "execution_count": 14,
   "id": "61f23772",
   "metadata": {},
   "outputs": [
    {
     "name": "stderr",
     "output_type": "stream",
     "text": [
      "2021-12-23 11:12:04,555 lg1.area1 INFO this is info for logger 1\n",
      "%(asctime)s %(name)s %(levelname)s %(message)s\n",
      "2021-12-23 11:12:04,558 lg2.area1 INFO this is info for logger 2\n",
      "%(asctime)s %(name)s %(levelname)s %(message)s\n",
      "2021-12-23 11:12:04,561 lg2.area1 DEBUG this is info for debug 2\n"
     ]
    }
   ],
   "source": [
    "lg1.info(\"this is info for logger 1\")\n",
    "lg2.info(\"this is info for logger 2\")\n",
    "lg2.debug(\"this is info for debug 2\")"
   ]
  },
  {
   "cell_type": "code",
   "execution_count": null,
   "id": "cad76b8c",
   "metadata": {},
   "outputs": [],
   "source": []
  },
  {
   "cell_type": "code",
   "execution_count": null,
   "id": "331bd8d0",
   "metadata": {},
   "outputs": [],
   "source": []
  },
  {
   "cell_type": "code",
   "execution_count": null,
   "id": "15fb997c",
   "metadata": {},
   "outputs": [],
   "source": []
  },
  {
   "cell_type": "code",
   "execution_count": 1,
   "id": "91f1a0d1",
   "metadata": {},
   "outputs": [],
   "source": [
    "import os"
   ]
  },
  {
   "cell_type": "code",
   "execution_count": 2,
   "id": "888dab5b",
   "metadata": {},
   "outputs": [],
   "source": [
    "os.chdir(\"logging\")"
   ]
  },
  {
   "cell_type": "code",
   "execution_count": 5,
   "id": "03847062",
   "metadata": {},
   "outputs": [
    {
     "name": "stderr",
     "output_type": "stream",
     "text": [
      "%(asctime)s %(name)s %(levelname)s %(message)s\n",
      "%(asctime)s %(name)s %(levelname)s %(message)s\n",
      "%(asctime)s %(name)s %(levelname)s %(message)s\n",
      "%(asctime)s %(name)s %(levelname)s %(message)s\n",
      "%(asctime)s %(name)s %(levelname)s %(message)s\n",
      "%(asctime)s %(name)s %(levelname)s %(message)s\n"
     ]
    }
   ],
   "source": [
    "import logging as lg\n",
    "lg.basicConfig(filename = 'app4.log',level=lg.DEBUG, format='%(asctime)s %(name)s %(levelname)s %(message)s')\n",
    "console_log = lg.StreamHandler()  # Display the output on user console\n",
    "console_log.setLevel(lg.INFO)    # set log level\n",
    "format = '%(asctime)s %(name)s %(levelname)s %(message)s' # set log format\n",
    "console_log.setFormatter(format) # set log format for stream handler\n",
    "lg.getLogger('').addHandler(console_log) \n",
    "\n",
    "lg.info(\"this is my first test code for log\") # write log messeage in log file by root default user\n",
    "\n",
    "\n",
    "lg1 = lg.getLogger('user1') # create logging instance for users\n",
    "lg2 = lg.getLogger('user2')\n",
    "\n",
    "lg1.info(\"this is info for logger 1\") # write a data in log file\n",
    "lg2.info(\"this is info for logger 2\")\n",
    "lg2.debug(\"this is info for debug 2\")"
   ]
  },
  {
   "cell_type": "code",
   "execution_count": null,
   "id": "b8eb99d3",
   "metadata": {},
   "outputs": [],
   "source": []
  },
  {
   "cell_type": "code",
   "execution_count": null,
   "id": "8509cac3",
   "metadata": {},
   "outputs": [],
   "source": []
  },
  {
   "cell_type": "code",
   "execution_count": null,
   "id": "3da87f13",
   "metadata": {},
   "outputs": [],
   "source": []
  },
  {
   "cell_type": "code",
   "execution_count": null,
   "id": "2f7f4108",
   "metadata": {},
   "outputs": [],
   "source": []
  },
  {
   "cell_type": "code",
   "execution_count": 6,
   "id": "f3864198",
   "metadata": {},
   "outputs": [],
   "source": [
    "\n",
    "# Debugging"
   ]
  },
  {
   "cell_type": "code",
   "execution_count": 9,
   "id": "4583465f",
   "metadata": {},
   "outputs": [],
   "source": [
    "def testdebug():\n",
    "    l = []\n",
    "    for i in range(1,11):\n",
    "        l.append(i)\n",
    "        print(\"We have appened your data in list\",i)\n",
    "    return l"
   ]
  },
  {
   "cell_type": "code",
   "execution_count": 10,
   "id": "8246dbf5",
   "metadata": {},
   "outputs": [
    {
     "name": "stdout",
     "output_type": "stream",
     "text": [
      "We have appened your data in list 1\n",
      "We have appened your data in list 2\n",
      "We have appened your data in list 3\n",
      "We have appened your data in list 4\n",
      "We have appened your data in list 5\n",
      "We have appened your data in list 6\n",
      "We have appened your data in list 7\n",
      "We have appened your data in list 8\n",
      "We have appened your data in list 9\n",
      "We have appened your data in list 10\n"
     ]
    },
    {
     "data": {
      "text/plain": [
       "[1, 2, 3, 4, 5, 6, 7, 8, 9, 10]"
      ]
     },
     "execution_count": 10,
     "metadata": {},
     "output_type": "execute_result"
    }
   ],
   "source": [
    "testdebug()"
   ]
  },
  {
   "cell_type": "code",
   "execution_count": 11,
   "id": "71f3587a",
   "metadata": {},
   "outputs": [
    {
     "ename": "ModuleNotFoundError",
     "evalue": "No module named 'ipdb'",
     "output_type": "error",
     "traceback": [
      "\u001b[1;31m---------------------------------------------------------------------------\u001b[0m",
      "\u001b[1;31mModuleNotFoundError\u001b[0m                       Traceback (most recent call last)",
      "\u001b[1;32m~\\AppData\\Local\\Temp/ipykernel_6712/2241182999.py\u001b[0m in \u001b[0;36m<module>\u001b[1;34m\u001b[0m\n\u001b[1;32m----> 1\u001b[1;33m \u001b[1;32mimport\u001b[0m \u001b[0mipdb\u001b[0m\u001b[1;33m\u001b[0m\u001b[1;33m\u001b[0m\u001b[0m\n\u001b[0m",
      "\u001b[1;31mModuleNotFoundError\u001b[0m: No module named 'ipdb'"
     ]
    }
   ],
   "source": [
    "import ipdb"
   ]
  },
  {
   "cell_type": "code",
   "execution_count": 12,
   "id": "d7156990",
   "metadata": {},
   "outputs": [
    {
     "name": "stdout",
     "output_type": "stream",
     "text": [
      "Collecting ipdb\n",
      "  Downloading ipdb-0.13.9.tar.gz (16 kB)\n",
      "Requirement already satisfied: setuptools in c:\\users\\delll\\anaconda3\\lib\\site-packages (from ipdb) (58.0.4)\n",
      "Requirement already satisfied: ipython>=7.17.0 in c:\\users\\delll\\anaconda3\\lib\\site-packages (from ipdb) (7.29.0)\n",
      "Requirement already satisfied: toml>=0.10.2 in c:\\users\\delll\\anaconda3\\lib\\site-packages (from ipdb) (0.10.2)\n",
      "Requirement already satisfied: decorator in c:\\users\\delll\\anaconda3\\lib\\site-packages (from ipdb) (5.1.0)\n",
      "Requirement already satisfied: matplotlib-inline in c:\\users\\delll\\anaconda3\\lib\\site-packages (from ipython>=7.17.0->ipdb) (0.1.2)\n",
      "Requirement already satisfied: jedi>=0.16 in c:\\users\\delll\\anaconda3\\lib\\site-packages (from ipython>=7.17.0->ipdb) (0.18.0)\n",
      "Requirement already satisfied: traitlets>=4.2 in c:\\users\\delll\\anaconda3\\lib\\site-packages (from ipython>=7.17.0->ipdb) (5.1.0)\n",
      "Requirement already satisfied: pickleshare in c:\\users\\delll\\anaconda3\\lib\\site-packages (from ipython>=7.17.0->ipdb) (0.7.5)\n",
      "Requirement already satisfied: backcall in c:\\users\\delll\\anaconda3\\lib\\site-packages (from ipython>=7.17.0->ipdb) (0.2.0)\n",
      "Requirement already satisfied: prompt-toolkit!=3.0.0,!=3.0.1,<3.1.0,>=2.0.0 in c:\\users\\delll\\anaconda3\\lib\\site-packages (from ipython>=7.17.0->ipdb) (3.0.20)\n",
      "Requirement already satisfied: pygments in c:\\users\\delll\\anaconda3\\lib\\site-packages (from ipython>=7.17.0->ipdb) (2.10.0)\n",
      "Requirement already satisfied: colorama in c:\\users\\delll\\anaconda3\\lib\\site-packages (from ipython>=7.17.0->ipdb) (0.4.4)\n",
      "Requirement already satisfied: parso<0.9.0,>=0.8.0 in c:\\users\\delll\\anaconda3\\lib\\site-packages (from jedi>=0.16->ipython>=7.17.0->ipdb) (0.8.2)\n",
      "Requirement already satisfied: wcwidth in c:\\users\\delll\\anaconda3\\lib\\site-packages (from prompt-toolkit!=3.0.0,!=3.0.1,<3.1.0,>=2.0.0->ipython>=7.17.0->ipdb) (0.2.5)\n",
      "Building wheels for collected packages: ipdb\n",
      "  Building wheel for ipdb (setup.py): started\n",
      "  Building wheel for ipdb (setup.py): finished with status 'done'\n",
      "  Created wheel for ipdb: filename=ipdb-0.13.9-py3-none-any.whl size=11648 sha256=f92a8220c391d4230050f262bc7e255fc81985488e96f60dd1d7ceae3153dea0\n",
      "  Stored in directory: c:\\users\\delll\\appdata\\local\\pip\\cache\\wheels\\f7\\29\\9a\\cf774cd86e9802f075a0be1c9e0830bc062d07897b2e9e87cd\n",
      "Successfully built ipdb\n",
      "Installing collected packages: ipdb\n",
      "Successfully installed ipdb-0.13.9\n"
     ]
    }
   ],
   "source": [
    "!pip install ipdb"
   ]
  },
  {
   "cell_type": "code",
   "execution_count": 3,
   "id": "8955e48f",
   "metadata": {},
   "outputs": [],
   "source": [
    "import ipdb"
   ]
  },
  {
   "cell_type": "code",
   "execution_count": 4,
   "id": "6a91e18b",
   "metadata": {},
   "outputs": [],
   "source": [
    "def testdebug():\n",
    "    ipdb.set_trace()\n",
    "    l = []\n",
    "    for i in range(1,11):\n",
    "        l.append(i)\n",
    "        print(\"We have appened your data in list\",i)\n",
    "    return l"
   ]
  },
  {
   "cell_type": "code",
   "execution_count": null,
   "id": "04e337a1",
   "metadata": {},
   "outputs": [
    {
     "name": "stdout",
     "output_type": "stream",
     "text": [
      "> \u001b[1;32mc:\\users\\delll\\appdata\\local\\temp\\ipykernel_11424\\4026971253.py\u001b[0m(3)\u001b[0;36mtestdebug\u001b[1;34m()\u001b[0m\n",
      "\n",
      "ipdb> h\n",
      "\n",
      "Documented commands (type help <topic>):\n",
      "========================================\n",
      "EOF    commands   enable    ll        pp       s                until \n",
      "a      condition  exit      longlist  psource  skip_hidden      up    \n",
      "alias  cont       h         n         q        skip_predicates  w     \n",
      "args   context    help      next      quit     source           whatis\n",
      "b      continue   ignore    p         r        step             where \n",
      "break  d          interact  pdef      restart  tbreak         \n",
      "bt     debug      j         pdoc      return   u              \n",
      "c      disable    jump      pfile     retval   unalias        \n",
      "cl     display    l         pinfo     run      undisplay      \n",
      "clear  down       list      pinfo2    rv       unt            \n",
      "\n",
      "Miscellaneous help topics:\n",
      "==========================\n",
      "exec  pdb\n",
      "\n",
      "ipdb> \n",
      "\n",
      "Documented commands (type help <topic>):\n",
      "========================================\n",
      "EOF    commands   enable    ll        pp       s                until \n",
      "a      condition  exit      longlist  psource  skip_hidden      up    \n",
      "alias  cont       h         n         q        skip_predicates  w     \n",
      "args   context    help      next      quit     source           whatis\n",
      "b      continue   ignore    p         r        step             where \n",
      "break  d          interact  pdef      restart  tbreak         \n",
      "bt     debug      j         pdoc      return   u              \n",
      "c      disable    jump      pfile     retval   unalias        \n",
      "cl     display    l         pinfo     run      undisplay      \n",
      "clear  down       list      pinfo2    rv       unt            \n",
      "\n",
      "Miscellaneous help topics:\n",
      "==========================\n",
      "exec  pdb\n",
      "\n",
      "ipdb> n\n",
      "> \u001b[1;32mc:\\users\\delll\\appdata\\local\\temp\\ipykernel_11424\\4026971253.py\u001b[0m(4)\u001b[0;36mtestdebug\u001b[1;34m()\u001b[0m\n",
      "\n",
      "ipdb> n\n",
      "> \u001b[1;32mc:\\users\\delll\\appdata\\local\\temp\\ipykernel_11424\\4026971253.py\u001b[0m(5)\u001b[0;36mtestdebug\u001b[1;34m()\u001b[0m\n",
      "\n",
      "ipdb> break\n"
     ]
    }
   ],
   "source": [
    "testdebug()"
   ]
  },
  {
   "cell_type": "code",
   "execution_count": null,
   "id": "a7701460",
   "metadata": {},
   "outputs": [],
   "source": []
  }
 ],
 "metadata": {
  "kernelspec": {
   "display_name": "Python 3 (ipykernel)",
   "language": "python",
   "name": "python3"
  },
  "language_info": {
   "codemirror_mode": {
    "name": "ipython",
    "version": 3
   },
   "file_extension": ".py",
   "mimetype": "text/x-python",
   "name": "python",
   "nbconvert_exporter": "python",
   "pygments_lexer": "ipython3",
   "version": "3.9.7"
  }
 },
 "nbformat": 4,
 "nbformat_minor": 5
}
