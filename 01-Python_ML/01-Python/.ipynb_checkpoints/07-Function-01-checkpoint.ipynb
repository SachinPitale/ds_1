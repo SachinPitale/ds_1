{
 "cells": [
  {
   "cell_type": "code",
   "execution_count": 1,
   "id": "6ceef06f",
   "metadata": {},
   "outputs": [
    {
     "data": {
      "text/plain": [
       "32"
      ]
     },
     "execution_count": 1,
     "metadata": {},
     "output_type": "execute_result"
    }
   ],
   "source": [
    "a= 10\n",
    "b= 22\n",
    "a + b"
   ]
  },
  {
   "cell_type": "code",
   "execution_count": null,
   "id": "2007388a",
   "metadata": {},
   "outputs": [],
   "source": [
    "# def = defination of function"
   ]
  },
  {
   "cell_type": "code",
   "execution_count": 2,
   "id": "e98ab79a",
   "metadata": {},
   "outputs": [],
   "source": [
    "def test(x,y):\n",
    "    print(x+y)"
   ]
  },
  {
   "cell_type": "code",
   "execution_count": 3,
   "id": "c8116987",
   "metadata": {},
   "outputs": [
    {
     "name": "stdout",
     "output_type": "stream",
     "text": [
      "71\n"
     ]
    }
   ],
   "source": [
    "test(23,48)"
   ]
  },
  {
   "cell_type": "code",
   "execution_count": null,
   "id": "d962052a",
   "metadata": {},
   "outputs": [],
   "source": [
    "test(33,59) + 12"
   ]
  },
  {
   "cell_type": "code",
   "execution_count": null,
   "id": "67576b8d",
   "metadata": {},
   "outputs": [],
   "source": [
    "test(313,159)"
   ]
  },
  {
   "cell_type": "code",
   "execution_count": null,
   "id": "e888a5e4",
   "metadata": {},
   "outputs": [],
   "source": [
    "# return also provide output of data\n",
    "def test1(m,b):\n",
    "    return m * b"
   ]
  },
  {
   "cell_type": "code",
   "execution_count": null,
   "id": "25b1b5da",
   "metadata": {},
   "outputs": [],
   "source": [
    "test1(5,9)"
   ]
  },
  {
   "cell_type": "code",
   "execution_count": null,
   "id": "611526f4",
   "metadata": {},
   "outputs": [],
   "source": [
    "test1(5,39) + 6"
   ]
  },
  {
   "cell_type": "code",
   "execution_count": null,
   "id": "15a162f7",
   "metadata": {},
   "outputs": [],
   "source": [
    "a = test1(9,39)"
   ]
  },
  {
   "cell_type": "code",
   "execution_count": null,
   "id": "b52fa07d",
   "metadata": {},
   "outputs": [],
   "source": [
    "a"
   ]
  },
  {
   "cell_type": "code",
   "execution_count": null,
   "id": "918cedc5",
   "metadata": {},
   "outputs": [],
   "source": [
    "type(a)"
   ]
  },
  {
   "cell_type": "code",
   "execution_count": null,
   "id": "a4b7a0aa",
   "metadata": {},
   "outputs": [],
   "source": [
    "def test2(m,n,p):\n",
    "    return m + n"
   ]
  },
  {
   "cell_type": "code",
   "execution_count": null,
   "id": "276c81b6",
   "metadata": {},
   "outputs": [],
   "source": [
    "test2(2,3)"
   ]
  },
  {
   "cell_type": "code",
   "execution_count": null,
   "id": "a3cb5fcd",
   "metadata": {},
   "outputs": [],
   "source": [
    "test2(2,3,4)"
   ]
  },
  {
   "cell_type": "code",
   "execution_count": null,
   "id": "e7fb5d61",
   "metadata": {},
   "outputs": [],
   "source": [
    "def test3(m, n):\n",
    "    return m * 10, n * 40, m + n"
   ]
  },
  {
   "cell_type": "code",
   "execution_count": null,
   "id": "085b80df",
   "metadata": {},
   "outputs": [],
   "source": [
    "test3(2,4)"
   ]
  },
  {
   "cell_type": "code",
   "execution_count": null,
   "id": "c5a31575",
   "metadata": {},
   "outputs": [],
   "source": [
    "# It provide by default value is tuple\n",
    "type(test3(2,4))"
   ]
  },
  {
   "cell_type": "code",
   "execution_count": null,
   "id": "649c2fb3",
   "metadata": {},
   "outputs": [],
   "source": [
    "# To assign value to each variable\n",
    "a, b, c = test3(2,9)"
   ]
  },
  {
   "cell_type": "code",
   "execution_count": null,
   "id": "1bdb73d8",
   "metadata": {},
   "outputs": [],
   "source": [
    "a"
   ]
  },
  {
   "cell_type": "code",
   "execution_count": null,
   "id": "ddbf8a90",
   "metadata": {},
   "outputs": [],
   "source": [
    "b"
   ]
  },
  {
   "cell_type": "code",
   "execution_count": null,
   "id": "1a7ce64b",
   "metadata": {},
   "outputs": [],
   "source": [
    "c"
   ]
  },
  {
   "cell_type": "code",
   "execution_count": null,
   "id": "40c5b0a6",
   "metadata": {},
   "outputs": [],
   "source": [
    "# I am internet only first two data \n",
    "\n",
    "a, b, _ = test3(2,9)"
   ]
  },
  {
   "cell_type": "code",
   "execution_count": null,
   "id": "b74ece89",
   "metadata": {},
   "outputs": [],
   "source": [
    "a"
   ]
  },
  {
   "cell_type": "code",
   "execution_count": null,
   "id": "7924b813",
   "metadata": {},
   "outputs": [],
   "source": [
    "b"
   ]
  },
  {
   "cell_type": "code",
   "execution_count": null,
   "id": "2fc247fd",
   "metadata": {},
   "outputs": [],
   "source": [
    "# _ it is just placeholder, it contain random data value. we can't be use it value later.\n",
    "_"
   ]
  },
  {
   "cell_type": "code",
   "execution_count": null,
   "id": "e4476086",
   "metadata": {},
   "outputs": [],
   "source": [
    "# I am internet only first and third data \n",
    "a,_,b= test3(2,9)"
   ]
  },
  {
   "cell_type": "code",
   "execution_count": null,
   "id": "4c2314e7",
   "metadata": {},
   "outputs": [],
   "source": [
    "a"
   ]
  },
  {
   "cell_type": "code",
   "execution_count": null,
   "id": "78b3ab0e",
   "metadata": {},
   "outputs": [],
   "source": [
    "_"
   ]
  },
  {
   "cell_type": "code",
   "execution_count": null,
   "id": "1b1f64f9",
   "metadata": {},
   "outputs": [],
   "source": [
    "b"
   ]
  },
  {
   "cell_type": "code",
   "execution_count": null,
   "id": "45731f96",
   "metadata": {},
   "outputs": [],
   "source": [
    "def test():\n",
    "    print(\"This is my first function\")"
   ]
  },
  {
   "cell_type": "code",
   "execution_count": null,
   "id": "6567bb69",
   "metadata": {},
   "outputs": [],
   "source": [
    "m =test()"
   ]
  },
  {
   "cell_type": "code",
   "execution_count": null,
   "id": "6f5a110d",
   "metadata": {},
   "outputs": [],
   "source": [
    "type(m)"
   ]
  },
  {
   "cell_type": "code",
   "execution_count": null,
   "id": "40b5b467",
   "metadata": {},
   "outputs": [],
   "source": [
    "def test7():\n",
    "    return \"this is my first function program\""
   ]
  },
  {
   "cell_type": "code",
   "execution_count": null,
   "id": "7300c38e",
   "metadata": {},
   "outputs": [],
   "source": [
    "n=test7() + \" Let's begin\""
   ]
  },
  {
   "cell_type": "code",
   "execution_count": null,
   "id": "fc88a18b",
   "metadata": {},
   "outputs": [],
   "source": [
    "n"
   ]
  },
  {
   "cell_type": "code",
   "execution_count": null,
   "id": "dcba3d46",
   "metadata": {},
   "outputs": [],
   "source": [
    "type(n)"
   ]
  },
  {
   "cell_type": "code",
   "execution_count": 1,
   "id": "24be864c",
   "metadata": {},
   "outputs": [],
   "source": [
    "def test8(n):\n",
    "    return n * 2"
   ]
  },
  {
   "cell_type": "code",
   "execution_count": 2,
   "id": "6d691da3",
   "metadata": {},
   "outputs": [
    {
     "data": {
      "text/plain": [
       "4"
      ]
     },
     "execution_count": 2,
     "metadata": {},
     "output_type": "execute_result"
    }
   ],
   "source": [
    "test8(2)"
   ]
  },
  {
   "cell_type": "code",
   "execution_count": 3,
   "id": "5e6f2393",
   "metadata": {},
   "outputs": [
    {
     "data": {
      "text/plain": [
       "[3, 4, 5, 6, 7, 3, 4, 5, 6, 7]"
      ]
     },
     "execution_count": 3,
     "metadata": {},
     "output_type": "execute_result"
    }
   ],
   "source": [
    "test8([3,4,5,6,7])"
   ]
  },
  {
   "cell_type": "code",
   "execution_count": 4,
   "id": "7f1c38fe",
   "metadata": {},
   "outputs": [],
   "source": [
    "def test9(n):\n",
    "    return n, n*7"
   ]
  },
  {
   "cell_type": "code",
   "execution_count": 5,
   "id": "ac44ddc9",
   "metadata": {},
   "outputs": [
    {
     "data": {
      "text/plain": [
       "([4, 5], [4, 5, 4, 5, 4, 5, 4, 5, 4, 5, 4, 5, 4, 5])"
      ]
     },
     "execution_count": 5,
     "metadata": {},
     "output_type": "execute_result"
    }
   ],
   "source": [
    "test9([4,5])"
   ]
  },
  {
   "cell_type": "code",
   "execution_count": null,
   "id": "7cd806ef",
   "metadata": {},
   "outputs": [],
   "source": [
    "type(test9([4,5]))"
   ]
  },
  {
   "cell_type": "code",
   "execution_count": null,
   "id": "48ead53f",
   "metadata": {},
   "outputs": [],
   "source": [
    "b = test9([4,5])"
   ]
  },
  {
   "cell_type": "code",
   "execution_count": null,
   "id": "dd32ee84",
   "metadata": {},
   "outputs": [],
   "source": [
    "b"
   ]
  },
  {
   "cell_type": "code",
   "execution_count": null,
   "id": "9334ad0f",
   "metadata": {},
   "outputs": [],
   "source": [
    "b[0]"
   ]
  },
  {
   "cell_type": "code",
   "execution_count": null,
   "id": "2eadf9d3",
   "metadata": {},
   "outputs": [],
   "source": [
    "b[1]"
   ]
  },
  {
   "cell_type": "code",
   "execution_count": null,
   "id": "12accc2b",
   "metadata": {},
   "outputs": [],
   "source": [
    "def test10(m, n = 90):\n",
    "    return m + n"
   ]
  },
  {
   "cell_type": "code",
   "execution_count": null,
   "id": "6048da30",
   "metadata": {},
   "outputs": [],
   "source": [
    "test10(30)"
   ]
  },
  {
   "cell_type": "code",
   "execution_count": null,
   "id": "55090c1e",
   "metadata": {},
   "outputs": [],
   "source": [
    "test10(30,60)"
   ]
  },
  {
   "cell_type": "code",
   "execution_count": null,
   "id": "b373d5f9",
   "metadata": {},
   "outputs": [],
   "source": [
    "def boolx(x = True, y = False):\n",
    "    return x + y"
   ]
  },
  {
   "cell_type": "code",
   "execution_count": null,
   "id": "426886aa",
   "metadata": {},
   "outputs": [],
   "source": [
    "boolx()"
   ]
  },
  {
   "cell_type": "code",
   "execution_count": null,
   "id": "c79cb61e",
   "metadata": {},
   "outputs": [],
   "source": [
    "boolx(False)"
   ]
  },
  {
   "cell_type": "code",
   "execution_count": null,
   "id": "d9383010",
   "metadata": {},
   "outputs": [],
   "source": [
    "type(boolx(False))"
   ]
  },
  {
   "cell_type": "code",
   "execution_count": null,
   "id": "fb11ecc4",
   "metadata": {},
   "outputs": [],
   "source": [
    "boolx(False, +8)"
   ]
  },
  {
   "cell_type": "code",
   "execution_count": 4,
   "id": "0c37fe76",
   "metadata": {},
   "outputs": [],
   "source": [
    "def travel(bike = True, car = False):\n",
    "    plan_travel = bike or car\n",
    "    return bike, car, plan_travel"
   ]
  },
  {
   "cell_type": "code",
   "execution_count": 5,
   "id": "d5255bbd",
   "metadata": {},
   "outputs": [
    {
     "data": {
      "text/plain": [
       "(True, False, True)"
      ]
     },
     "execution_count": 5,
     "metadata": {},
     "output_type": "execute_result"
    }
   ],
   "source": [
    "travel()"
   ]
  },
  {
   "cell_type": "code",
   "execution_count": 6,
   "id": "ca85b26b",
   "metadata": {},
   "outputs": [
    {
     "data": {
      "text/plain": [
       "(False, False, False)"
      ]
     },
     "execution_count": 6,
     "metadata": {},
     "output_type": "execute_result"
    }
   ],
   "source": [
    "travel(False)"
   ]
  },
  {
   "cell_type": "code",
   "execution_count": 7,
   "id": "50231ca2",
   "metadata": {},
   "outputs": [
    {
     "data": {
      "text/plain": [
       "(True, True, True)"
      ]
     },
     "execution_count": 7,
     "metadata": {},
     "output_type": "execute_result"
    }
   ],
   "source": [
    "travel(car = True)"
   ]
  },
  {
   "cell_type": "code",
   "execution_count": 8,
   "id": "e83baa65",
   "metadata": {},
   "outputs": [
    {
     "data": {
      "text/plain": [
       "((True, True, True), True, (True, True, True))"
      ]
     },
     "execution_count": 8,
     "metadata": {},
     "output_type": "execute_result"
    }
   ],
   "source": [
    "travel(_, True)"
   ]
  },
  {
   "cell_type": "code",
   "execution_count": 9,
   "id": "0918185c",
   "metadata": {},
   "outputs": [
    {
     "data": {
      "text/plain": [
       "((True, True, True), True, (True, True, True))"
      ]
     },
     "execution_count": 9,
     "metadata": {},
     "output_type": "execute_result"
    }
   ],
   "source": [
    "_"
   ]
  },
  {
   "cell_type": "code",
   "execution_count": 12,
   "id": "5815d207",
   "metadata": {},
   "outputs": [],
   "source": [
    "# *args take multiple data. We used this argument, when we don't know, how many argument will be pass by user\n",
    "def test11(*args):\n",
    "    return args"
   ]
  },
  {
   "cell_type": "code",
   "execution_count": 13,
   "id": "2a59e2a8",
   "metadata": {},
   "outputs": [
    {
     "data": {
      "text/plain": [
       "('sachin', 'pitale', 3, [4, 5, 6, 78])"
      ]
     },
     "execution_count": 13,
     "metadata": {},
     "output_type": "execute_result"
    }
   ],
   "source": [
    "test11(\"sachin\",\"pitale\",3,[4,5,6,78])"
   ]
  },
  {
   "cell_type": "code",
   "execution_count": 60,
   "id": "52fbbf18",
   "metadata": {},
   "outputs": [],
   "source": [
    "# concate the user provided multiple list\n",
    "def listcont(*args):\n",
    "    a = []\n",
    "    c = range(len(args))\n",
    "    for i in c:\n",
    "         a = a + args[i]\n",
    "    return a\n",
    "        \n",
    "      \n",
    "    \n",
    "        "
   ]
  },
  {
   "cell_type": "code",
   "execution_count": 63,
   "id": "cabd07d2",
   "metadata": {},
   "outputs": [
    {
     "data": {
      "text/plain": [
       "[4, 5, 7, 8, 10, 12, 13, 78, 95, 85]"
      ]
     },
     "execution_count": 63,
     "metadata": {},
     "output_type": "execute_result"
    }
   ],
   "source": [
    "listcont([4,5],[7,8],[10,12,13],[78,95,85])"
   ]
  },
  {
   "cell_type": "code",
   "execution_count": 82,
   "id": "3fe47897",
   "metadata": {},
   "outputs": [],
   "source": [
    "# concate the user provided multiple list\n",
    "def listcontcomp(*args):\n",
    "    a= []\n",
    "    return [i for i in args]"
   ]
  },
  {
   "cell_type": "code",
   "execution_count": 83,
   "id": "04c15465",
   "metadata": {},
   "outputs": [
    {
     "data": {
      "text/plain": [
       "[[4, 5], [7, 8], [10, 12, 13], [78, 95, 85]]"
      ]
     },
     "execution_count": 83,
     "metadata": {},
     "output_type": "execute_result"
    }
   ],
   "source": [
    "listcontcomp([4,5],[7,8],[10,12,13],[78,95,85])"
   ]
  },
  {
   "cell_type": "code",
   "execution_count": 87,
   "id": "a0a6b2b8",
   "metadata": {},
   "outputs": [],
   "source": [
    "# This function will only take list and append in default list and print. rest of other data type will ignore\n",
    "def listcontwithlist(*args):\n",
    "    a = []\n",
    "    for i in args:\n",
    "        if type(i) == list:\n",
    "            a = a + i\n",
    "    return a\n",
    "        "
   ]
  },
  {
   "cell_type": "code",
   "execution_count": 88,
   "id": "5fbf3564",
   "metadata": {},
   "outputs": [
    {
     "data": {
      "text/plain": [
       "[4, 5, 7, 8, 10, 12, 13, 78, 95, 85]"
      ]
     },
     "execution_count": 88,
     "metadata": {},
     "output_type": "execute_result"
    }
   ],
   "source": [
    "listcontwithlist([4,5],[7,8],[10,12,13],[78,95,85], \"abc\", \"xyz\", 64)"
   ]
  },
  {
   "cell_type": "code",
   "execution_count": 90,
   "id": "8754773a",
   "metadata": {},
   "outputs": [],
   "source": [
    "# **kwargs\n",
    "\n",
    "def test16(**kwargs):\n",
    "    return kwargs"
   ]
  },
  {
   "cell_type": "code",
   "execution_count": 91,
   "id": "bb7bb089",
   "metadata": {},
   "outputs": [
    {
     "ename": "TypeError",
     "evalue": "test16() takes 0 positional arguments but 3 were given",
     "output_type": "error",
     "traceback": [
      "\u001b[1;31m---------------------------------------------------------------------------\u001b[0m",
      "\u001b[1;31mTypeError\u001b[0m                                 Traceback (most recent call last)",
      "\u001b[1;32m~\\AppData\\Local\\Temp/ipykernel_3756/3654214033.py\u001b[0m in \u001b[0;36m<module>\u001b[1;34m\u001b[0m\n\u001b[1;32m----> 1\u001b[1;33m \u001b[0mtest16\u001b[0m\u001b[1;33m(\u001b[0m\u001b[1;36m3\u001b[0m\u001b[1;33m,\u001b[0m\u001b[1;36m4\u001b[0m\u001b[1;33m,\u001b[0m\u001b[1;36m5\u001b[0m\u001b[1;33m)\u001b[0m\u001b[1;33m\u001b[0m\u001b[1;33m\u001b[0m\u001b[0m\n\u001b[0m",
      "\u001b[1;31mTypeError\u001b[0m: test16() takes 0 positional arguments but 3 were given"
     ]
    }
   ],
   "source": [
    "test16(3,4,5)"
   ]
  },
  {
   "cell_type": "code",
   "execution_count": 92,
   "id": "2ef97396",
   "metadata": {},
   "outputs": [
    {
     "data": {
      "text/plain": [
       "{'a': 3, 'b': 4, 'c': 5}"
      ]
     },
     "execution_count": 92,
     "metadata": {},
     "output_type": "execute_result"
    }
   ],
   "source": [
    "test16(a=3,b=4,c=5)"
   ]
  },
  {
   "cell_type": "code",
   "execution_count": 93,
   "id": "1aaa11cb",
   "metadata": {},
   "outputs": [],
   "source": [
    "# Q1: Create a function to take any number of mixed data and try to create a list of separate data based on datatype and return multiple result"
   ]
  },
  {
   "cell_type": "code",
   "execution_count": 138,
   "id": "01f5de51",
   "metadata": {},
   "outputs": [],
   "source": [
    "def separatedatabydatatype(*args):\n",
    "    l= list(args)\n",
    "    i1 = []\n",
    "    l1 = []\n",
    "    s1 = []\n",
    "    t1 = []\n",
    "    f1 = []\n",
    "    d1 = []\n",
    "    for i in l:\n",
    "        if type(i) == int:\n",
    "            i1.append(i)  \n",
    "        elif type(i) == list:\n",
    "            l1.append(i)\n",
    "        elif type(i) == str:\n",
    "            s1.append(i)\n",
    "        elif type(i) == tuple:\n",
    "            t1.append(i)\n",
    "        elif type(i) == float:\n",
    "            f1.append(i)\n",
    "        elif type(i) == dict:\n",
    "            d1.append(i)\n",
    "   \n",
    "   \n",
    "            \n",
    "    return i1,l1,s1,t1,f1,d1\n",
    "            \n",
    "            \n",
    "    "
   ]
  },
  {
   "cell_type": "code",
   "execution_count": 139,
   "id": "b5ab88c1",
   "metadata": {},
   "outputs": [
    {
     "data": {
      "text/plain": [
       "([54, 34, 78],\n",
       " [[3, 4, 5, 67, 8], [34, 8, 9, 10]],\n",
       " ['sachin', 'pitale'],\n",
       " [(4, 5, 6, 7), (8, 9, 10, 11)],\n",
       " [54.6, 278.7],\n",
       " [{'a': 1, 'b': 2}, {'c': 3, 'd': 4}])"
      ]
     },
     "execution_count": 139,
     "metadata": {},
     "output_type": "execute_result"
    }
   ],
   "source": [
    "separatedatabydatatype(54,34,[3,4,5,67,8],[34,8,9,10],\"sachin\",78,\"pitale\",(4,5,6,7),(8,9,10,11),54.6,{\"a\":1,\"b\":2},278.7,{\"c\":3,\"d\":4})"
   ]
  },
  {
   "cell_type": "code",
   "execution_count": 140,
   "id": "c9e891fc",
   "metadata": {},
   "outputs": [],
   "source": [
    "# Q2: Create a function which will be able to use *args and **kwargs and it  will be able to do all the list value Concatition and return a list"
   ]
  },
  {
   "cell_type": "code",
   "execution_count": 4,
   "id": "82f57bec",
   "metadata": {},
   "outputs": [],
   "source": [
    "def test15(*args, **kwargs):\n",
    "    l = []\n",
    "    l1 = []\n",
    "    for i in args:\n",
    "        if type(i) == list:\n",
    "            l.append(i)\n",
    "    \n",
    "    \n",
    "    for j in kwargs:\n",
    "        if type(kwargs[j]) == list:\n",
    "            l.append(kwargs[j])\n",
    "    return l"
   ]
  },
  {
   "cell_type": "code",
   "execution_count": 5,
   "id": "10071cbc",
   "metadata": {},
   "outputs": [
    {
     "data": {
      "text/plain": [
       "[[34, 5, 6], [23, 78], [3, 4, 5, 6]]"
      ]
     },
     "execution_count": 5,
     "metadata": {},
     "output_type": "execute_result"
    }
   ],
   "source": [
    "test15(3,4,[34,5,6],54.10,[23,78],a=2,b=[3,4,5,6])"
   ]
  },
  {
   "cell_type": "code",
   "execution_count": 1,
   "id": "c1d5205b",
   "metadata": {},
   "outputs": [
    {
     "data": {
      "text/plain": [
       "{int: [1, 2, 3], list: [[4, 5, 6]], float: [34.5], complex: [(35+6j)]}"
      ]
     },
     "execution_count": 1,
     "metadata": {},
     "output_type": "execute_result"
    }
   ],
   "source": [
    "def func1(*args):\n",
    "    dt = {}\n",
    "    for i in args:\n",
    "        if type(i) in dt:\n",
    "            dt[type(i)].append(i)\n",
    "        else:\n",
    "            dt[type(i)] = [i]\n",
    "    return dt\n",
    "\n",
    "func1(1,2,3,[4,5,6],34.5,35+6j)\n"
   ]
  },
  {
   "cell_type": "code",
   "execution_count": 8,
   "id": "225bc615",
   "metadata": {},
   "outputs": [],
   "source": [
    "def test(x = 10, y = 5):\n",
    "    return x+y"
   ]
  },
  {
   "cell_type": "code",
   "execution_count": 9,
   "id": "55fac68f",
   "metadata": {},
   "outputs": [
    {
     "data": {
      "text/plain": [
       "30"
      ]
     },
     "execution_count": 9,
     "metadata": {},
     "output_type": "execute_result"
    }
   ],
   "source": [
    "test(10,20)"
   ]
  },
  {
   "cell_type": "code",
   "execution_count": 13,
   "id": "ef0a9a66",
   "metadata": {},
   "outputs": [
    {
     "data": {
      "text/plain": [
       "0.67"
      ]
     },
     "execution_count": 13,
     "metadata": {},
     "output_type": "execute_result"
    }
   ],
   "source": [
    "round(2/3, ndigits=2)"
   ]
  },
  {
   "cell_type": "code",
   "execution_count": null,
   "id": "24fbd987",
   "metadata": {},
   "outputs": [],
   "source": []
  }
 ],
 "metadata": {
  "kernelspec": {
   "display_name": "Python 3 (ipykernel)",
   "language": "python",
   "name": "python3"
  },
  "language_info": {
   "codemirror_mode": {
    "name": "ipython",
    "version": 3
   },
   "file_extension": ".py",
   "mimetype": "text/x-python",
   "name": "python",
   "nbconvert_exporter": "python",
   "pygments_lexer": "ipython3",
   "version": "3.9.7"
  }
 },
 "nbformat": 4,
 "nbformat_minor": 5
}
