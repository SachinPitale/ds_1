{
 "cells": [
  {
   "cell_type": "code",
   "execution_count": 28,
   "id": "faffd5f7",
   "metadata": {},
   "outputs": [
    {
     "name": "stdout",
     "output_type": "stream",
     "text": [
      "1\n",
      "2\n",
      "3\n",
      "4\n",
      "5 is not less than 5\n"
     ]
    }
   ],
   "source": [
    "i = 1\n",
    "notes = 5\n",
    "\n",
    "while i < notes:\n",
    "    print (i)\n",
    "    i += 1\n",
    "else:\n",
    "    print (i, \"is not less than\", notes)"
   ]
  },
  {
   "cell_type": "code",
   "execution_count": 1,
   "id": "8ff56479",
   "metadata": {},
   "outputs": [
    {
     "name": "stdout",
     "output_type": "stream",
     "text": [
      "a\n",
      "y name is\n",
      "ynm s\n",
      " si eman\n",
      " iea\n",
      "n\n",
      "nihcas si eman yM\n",
      "My\n"
     ]
    }
   ],
   "source": [
    "name = \"My name is sachin\"\n",
    "print(name[4])\n",
    "print(name[1:10])\n",
    "print(name[1:10:2])\n",
    "print(name[10:2:-1])\n",
    "print(name[10:2:-2])\n",
    "print(name[-1])\n",
    "print(name[::-1])\n",
    "print(name[0:2])"
   ]
  },
  {
   "cell_type": "code",
   "execution_count": 25,
   "id": "d1c3cc72",
   "metadata": {},
   "outputs": [
    {
     "name": "stdout",
     "output_type": "stream",
     "text": [
      "M\n",
      "y\n",
      " \n",
      "n\n",
      "a char found in string\n",
      "\n",
      "a\n",
      "m\n",
      "e\n",
      " \n",
      "i\n",
      "s\n",
      " \n",
      "s\n",
      "a char found in string\n",
      "\n",
      "a\n",
      "c\n",
      "h\n",
      "i\n",
      "n\n",
      "print the else condition\n"
     ]
    }
   ],
   "source": [
    "# for loop else condition try to execute when for loop is complete itself.\n",
    "name = \"My name is sachin\"\n",
    "for i in name:\n",
    "    if i == \"a\":\n",
    "        print(\"a char found in string\\n\") \n",
    "    print (i)\n",
    "else:\n",
    "     print(\"print the else condition\")"
   ]
  },
  {
   "cell_type": "code",
   "execution_count": 11,
   "id": "93c2d089",
   "metadata": {},
   "outputs": [
    {
     "name": "stdout",
     "output_type": "stream",
     "text": [
      "M\n",
      "y\n",
      " \n",
      "n\n",
      "a\n",
      "m\n",
      "e\n",
      " \n"
     ]
    }
   ],
   "source": [
    "for i in name:\n",
    "    if i == \"i\":\n",
    "        break\n",
    "    print (i)\n",
    "else:\n",
    "    print(\"print the else condition\")"
   ]
  },
  {
   "cell_type": "code",
   "execution_count": 13,
   "id": "189cb404",
   "metadata": {},
   "outputs": [
    {
     "name": "stdout",
     "output_type": "stream",
     "text": [
      "M\n",
      "y\n",
      " \n",
      "n\n",
      "a\n",
      "m\n",
      "e\n",
      " \n",
      "s\n",
      " \n",
      "s\n",
      "a\n",
      "c\n",
      "h\n",
      "n\n",
      "print the else condition\n"
     ]
    }
   ],
   "source": [
    "# continue statement it directly go again to loop and run with next iteration.\n",
    "for i in name:\n",
    "    if i == \"i\":\n",
    "        continue\n",
    "    print (i)\n",
    "else:\n",
    "    print(\"print the else condition\")"
   ]
  },
  {
   "cell_type": "code",
   "execution_count": 26,
   "id": "69f3b93d",
   "metadata": {},
   "outputs": [
    {
     "name": "stdout",
     "output_type": "stream",
     "text": [
      "ieuro\n"
     ]
    }
   ],
   "source": [
    "s = \"ineuron\"\n",
    "ss = \"\"\n",
    "for i in range(len(s)):\n",
    "    if s[i] == \"n\":\n",
    "        continue\n",
    "    else:\n",
    "        ss = ss + s[i]\n",
    "\n",
    "print(ss)"
   ]
  },
  {
   "cell_type": "code",
   "execution_count": 24,
   "id": "22d1aed2",
   "metadata": {},
   "outputs": [
    {
     "data": {
      "text/plain": [
       "'ieuro'"
      ]
     },
     "execution_count": 24,
     "metadata": {},
     "output_type": "execute_result"
    }
   ],
   "source": [
    "ss"
   ]
  },
  {
   "cell_type": "code",
   "execution_count": 1,
   "id": "f5ce5c4a",
   "metadata": {},
   "outputs": [
    {
     "data": {
      "text/plain": [
       "23"
      ]
     },
     "execution_count": 1,
     "metadata": {},
     "output_type": "execute_result"
    }
   ],
   "source": [
    "bacon = 22\n",
    "bacon + 1"
   ]
  },
  {
   "cell_type": "code",
   "execution_count": 2,
   "id": "b7c16db8",
   "metadata": {},
   "outputs": [
    {
     "data": {
      "text/plain": [
       "22"
      ]
     },
     "execution_count": 2,
     "metadata": {},
     "output_type": "execute_result"
    }
   ],
   "source": [
    "bacon\n"
   ]
  },
  {
   "cell_type": "code",
   "execution_count": 6,
   "id": "3f968fda",
   "metadata": {},
   "outputs": [
    {
     "name": "stdout",
     "output_type": "stream",
     "text": [
      "+\r\n",
      "++\r\n",
      "+++\r\n",
      "++++\r\n",
      "+++++\r\n",
      "++++++\r\n",
      "+++++++\r\n",
      "++++++++\r\n",
      "+++++++++\r\n",
      "++++++++++\r\n"
     ]
    }
   ],
   "source": [
    "n = 10\n",
    "for i in range(0, n):\n",
    "    for j in range(0, i + 1):\n",
    "        print (\"+\", end = \"\")\n",
    "    print(\"\\r\")\n",
    "    "
   ]
  },
  {
   "cell_type": "code",
   "execution_count": 1,
   "id": "af847555",
   "metadata": {},
   "outputs": [
    {
     "name": "stdout",
     "output_type": "stream",
     "text": [
      "*******\r\n",
      "******\r\n",
      "*****\r\n",
      "****\r\n",
      "***\r\n",
      "**\r\n",
      "*\r\n"
     ]
    }
   ],
   "source": [
    "\n",
    "m = 7\n",
    "for i in range(0, m):\n",
    "    for j in range(m - i ):\n",
    "        print (\"*\", end = \"\")\n",
    "    print(\"\\r\")\n",
    "        "
   ]
  },
  {
   "cell_type": "code",
   "execution_count": 8,
   "id": "1376501d",
   "metadata": {},
   "outputs": [
    {
     "name": "stdout",
     "output_type": "stream",
     "text": [
      "* \r\n",
      "* * \r\n",
      "* * * \r\n",
      "* * * * \r\n",
      "* * * * * \r\n",
      "* * * * * * \r\n",
      "* * * * * * * \r\n",
      "* * * * * * * * \r\n",
      "* * * * * * * * * \r\n",
      "* * * * * * * * * * \r\n",
      "* * * * * * * * * * \r\n",
      "* * * * * * * * * \r\n",
      "* * * * * * * * \r\n",
      "* * * * * * * \r\n",
      "* * * * * * \r\n",
      "* * * * * \r\n",
      "* * * * \r\n",
      "* * * \r\n",
      "* * \r\n",
      "* \r\n"
     ]
    }
   ],
   "source": [
    "p = 10\n",
    "\n",
    "for i in range(0, p):\n",
    "    for j in range(0, i + 1):\n",
    "        print(\"*\", end = \" \")\n",
    "    print(\"\\r\")\n",
    "for m in range(0, p):\n",
    "    for n in range(p - m):\n",
    "        print(\"*\", end =\" \")\n",
    "    print(\"\\r\")"
   ]
  },
  {
   "cell_type": "code",
   "execution_count": 16,
   "id": "b85ee295",
   "metadata": {},
   "outputs": [
    {
     "name": "stdout",
     "output_type": "stream",
     "text": [
      "********\r\n",
      "********\r\n",
      "********\r\n",
      "********\r\n",
      "********\r\n",
      "********\r\n",
      "********\r\n",
      "********\r\n"
     ]
    }
   ],
   "source": [
    "a = 8\n",
    "for i in range(0, a):\n",
    "    for j in range(0, a):\n",
    "        print (\"*\", end=\"\")\n",
    "    print(\"\\r\")"
   ]
  },
  {
   "cell_type": "code",
   "execution_count": 33,
   "id": "59db4b05",
   "metadata": {},
   "outputs": [
    {
     "name": "stdout",
     "output_type": "stream",
     "text": [
      "        * * * * * * \n",
      "         * * * * * \n",
      "          * * * * \n",
      "           * * * \n",
      "            * * \n",
      "             * \n"
     ]
    }
   ],
   "source": [
    "num = 5\n",
    "m = 2 * num - 2\n",
    "for i in range(num, -1, -1):\n",
    "    for j in range(m, 0, -1):\n",
    "        print(end=\" \")\n",
    "    m = m + 1\n",
    "    for j in range(0, i + 1):\n",
    "        print(\"*\", end=\" \")\n",
    "    print(\"\")\n",
    "        "
   ]
  },
  {
   "cell_type": "code",
   "execution_count": 46,
   "id": "383255ec",
   "metadata": {},
   "outputs": [
    {
     "name": "stdout",
     "output_type": "stream",
     "text": [
      "                  \n",
      "                 \n",
      "                * \n",
      "               * * \n",
      "              * * * \n",
      "             * * * * \n",
      "            * * * * * \n",
      "           * * * * * * \n",
      "          * * * * * * * \n"
     ]
    }
   ],
   "source": [
    "num = 9\n",
    "m = 2 * num + 2\n",
    "for i in range(0, num):\n",
    "    for j in range(0, m):\n",
    "        print( end=\" \")\n",
    "    m = m - 1\n",
    "    for j in range(0, i -1):\n",
    "        print(\"*\", end=\" \")\n",
    "    print(\"\")"
   ]
  },
  {
   "cell_type": "code",
   "execution_count": 17,
   "id": "7d1a792a",
   "metadata": {},
   "outputs": [
    {
     "name": "stdout",
     "output_type": "stream",
     "text": [
      "        * \n",
      "       * * \n",
      "      * * * \n",
      "     * * * * \n",
      "    * * * * * \n",
      "   * * * * * * \n",
      "  * * * * * * * \n",
      " * * * * * * * * \n",
      "* * * * * * * * * \n"
     ]
    }
   ],
   "source": [
    "n = 9\n",
    "i = 0\n",
    "while i < n:\n",
    "    print (' '*(n-i-1) + '* '*(i+1)  )\n",
    "    i +=1 \n",
    "    \n",
    "    "
   ]
  },
  {
   "cell_type": "code",
   "execution_count": 22,
   "id": "1a65a417",
   "metadata": {},
   "outputs": [
    {
     "name": "stdout",
     "output_type": "stream",
     "text": [
      "* * * *     \n",
      "* * *    \n",
      "* *   \n"
     ]
    }
   ],
   "source": [
    "n = 3\n",
    "i = 0\n",
    "while n > i:\n",
    "    print ( '* '*(n+1)+ ' '*(n+i+1)  )\n",
    "    n -=1"
   ]
  },
  {
   "cell_type": "code",
   "execution_count": 24,
   "id": "69eeab20",
   "metadata": {},
   "outputs": [
    {
     "name": "stdout",
     "output_type": "stream",
     "text": [
      "        * \n",
      "      * * \n",
      "    * * * \n",
      "  * * * * \n",
      "* * * * * \n",
      "  * * * * \n",
      "    * * * \n",
      "      * * \n",
      "        * \n",
      "          \n"
     ]
    }
   ],
   "source": []
  },
  {
   "cell_type": "code",
   "execution_count": 27,
   "id": "ceab0f0a",
   "metadata": {},
   "outputs": [
    {
     "data": {
      "text/plain": [
       "True"
      ]
     },
     "execution_count": 27,
     "metadata": {},
     "output_type": "execute_result"
    }
   ],
   "source": [
    "(5 > 4) or (3 == 5)"
   ]
  },
  {
   "cell_type": "code",
   "execution_count": 30,
   "id": "3c134e06",
   "metadata": {},
   "outputs": [
    {
     "name": "stdout",
     "output_type": "stream",
     "text": [
      "0\n",
      "1\n",
      "2\n",
      "3\n",
      "4\n",
      "5\n",
      "6\n",
      "7\n",
      "8\n",
      "9\n"
     ]
    }
   ],
   "source": [
    "for i in range(0,10):\n",
    "    print(i)"
   ]
  },
  {
   "cell_type": "code",
   "execution_count": 33,
   "id": "02895383",
   "metadata": {},
   "outputs": [
    {
     "name": "stdout",
     "output_type": "stream",
     "text": [
      "Number is = 1\n",
      "Number is = 2\n",
      "Number is = 3\n",
      "Number is = 4\n",
      "Number is = 5\n",
      "Number is = 6\n",
      "Number is = 7\n",
      "Number is = 8\n",
      "Number is = 9\n",
      "Number is = 10\n"
     ]
    }
   ],
   "source": [
    "\n",
    "    \n",
    "num = 1\n",
    "while num <= 10:\n",
    "    print (\"Number is =\", num)\n",
    "    num +=1\n",
    "    "
   ]
  },
  {
   "cell_type": "code",
   "execution_count": 1,
   "id": "b8151a05",
   "metadata": {},
   "outputs": [],
   "source": [
    "l = [\"sachin\", \"pitale\", 5467, 54.8, 64+6j]"
   ]
  },
  {
   "cell_type": "code",
   "execution_count": 2,
   "id": "b423f2a4",
   "metadata": {},
   "outputs": [
    {
     "data": {
      "text/plain": [
       "['sachin', 'pitale', 5467, 54.8, (64+6j)]"
      ]
     },
     "execution_count": 2,
     "metadata": {},
     "output_type": "execute_result"
    }
   ],
   "source": [
    "l"
   ]
  },
  {
   "cell_type": "code",
   "execution_count": 3,
   "id": "73b7c7bd",
   "metadata": {},
   "outputs": [
    {
     "data": {
      "text/plain": [
       "'sachin'"
      ]
     },
     "execution_count": 3,
     "metadata": {},
     "output_type": "execute_result"
    }
   ],
   "source": [
    "l[0]"
   ]
  },
  {
   "cell_type": "code",
   "execution_count": 4,
   "id": "ca258327",
   "metadata": {},
   "outputs": [
    {
     "data": {
      "text/plain": [
       "5467"
      ]
     },
     "execution_count": 4,
     "metadata": {},
     "output_type": "execute_result"
    }
   ],
   "source": [
    "l[2]"
   ]
  },
  {
   "cell_type": "code",
   "execution_count": 5,
   "id": "e479af13",
   "metadata": {},
   "outputs": [
    {
     "data": {
      "text/plain": [
       "list"
      ]
     },
     "execution_count": 5,
     "metadata": {},
     "output_type": "execute_result"
    }
   ],
   "source": [
    "type(l)"
   ]
  },
  {
   "cell_type": "code",
   "execution_count": 7,
   "id": "5f0310ff",
   "metadata": {},
   "outputs": [],
   "source": [
    "l = [\"sachin\", 34535, \"sfasfa\", True, 45+8j, [3,4,5,\"abc\"], 6.87]"
   ]
  },
  {
   "cell_type": "code",
   "execution_count": 10,
   "id": "b716a25e",
   "metadata": {},
   "outputs": [
    {
     "name": "stdout",
     "output_type": "stream",
     "text": [
      "<class 'int'>\n",
      "<class 'int'>\n",
      "<class 'int'>\n",
      "<class 'str'>\n"
     ]
    }
   ],
   "source": [
    "for i in l:\n",
    "    if type(i) == list:\n",
    "        for j in i:\n",
    "            print(type(j))\n",
    "    "
   ]
  },
  {
   "cell_type": "code",
   "execution_count": 13,
   "id": "28dc58d1",
   "metadata": {},
   "outputs": [
    {
     "name": "stdout",
     "output_type": "stream",
     "text": [
      "3\n",
      "4\n",
      "5\n",
      "0\n"
     ]
    }
   ],
   "source": [
    "for i in l:\n",
    "    if type(i) == list:\n",
    "        for j in i:\n",
    "            n = 0\n",
    "            if type(j) == int:\n",
    "                n = n + j\n",
    "            print(n)\n",
    "    "
   ]
  },
  {
   "cell_type": "code",
   "execution_count": 14,
   "id": "608ae23d",
   "metadata": {},
   "outputs": [
    {
     "data": {
      "text/plain": [
       "['sachin', 34535, 'sfasfa', True, (45+8j)]"
      ]
     },
     "execution_count": 14,
     "metadata": {},
     "output_type": "execute_result"
    }
   ],
   "source": [
    "l[0:5]"
   ]
  },
  {
   "cell_type": "code",
   "execution_count": 15,
   "id": "570da3f6",
   "metadata": {},
   "outputs": [
    {
     "data": {
      "text/plain": [
       "[]"
      ]
     },
     "execution_count": 15,
     "metadata": {},
     "output_type": "execute_result"
    }
   ],
   "source": [
    "l[8:3]"
   ]
  },
  {
   "cell_type": "code",
   "execution_count": 16,
   "id": "8bfe460e",
   "metadata": {},
   "outputs": [],
   "source": [
    "l[0] = \"Sachin\""
   ]
  },
  {
   "cell_type": "code",
   "execution_count": 17,
   "id": "062b43ce",
   "metadata": {},
   "outputs": [
    {
     "data": {
      "text/plain": [
       "['Sachin', 34535, 'sfasfa', True, (45+8j), [3, 4, 5, 'abc'], 6.87]"
      ]
     },
     "execution_count": 17,
     "metadata": {},
     "output_type": "execute_result"
    }
   ],
   "source": [
    "l"
   ]
  },
  {
   "cell_type": "code",
   "execution_count": 18,
   "id": "13c15d36",
   "metadata": {},
   "outputs": [
    {
     "data": {
      "text/plain": [
       "range(1, 20)"
      ]
     },
     "execution_count": 18,
     "metadata": {},
     "output_type": "execute_result"
    }
   ],
   "source": [
    "range(1,20)"
   ]
  },
  {
   "cell_type": "code",
   "execution_count": 20,
   "id": "49f3e41d",
   "metadata": {},
   "outputs": [
    {
     "name": "stdout",
     "output_type": "stream",
     "text": [
      "1\n",
      "2\n",
      "3\n",
      "4\n",
      "5\n",
      "6\n",
      "7\n",
      "8\n",
      "9\n",
      "10\n",
      "11\n",
      "12\n",
      "13\n",
      "14\n",
      "15\n",
      "16\n",
      "17\n",
      "18\n",
      "19\n",
      "20\n"
     ]
    }
   ],
   "source": [
    "for i in range(1,21):\n",
    "    print(i)"
   ]
  },
  {
   "cell_type": "code",
   "execution_count": 3,
   "id": "e657feba",
   "metadata": {},
   "outputs": [],
   "source": [
    "l2 = list(range(1,21))"
   ]
  },
  {
   "cell_type": "code",
   "execution_count": 4,
   "id": "bdfd1359",
   "metadata": {},
   "outputs": [
    {
     "data": {
      "text/plain": [
       "[1, 2, 3, 4, 5, 6, 7, 8, 9, 10, 11, 12, 13, 14, 15, 16, 17, 18, 19, 20]"
      ]
     },
     "execution_count": 4,
     "metadata": {},
     "output_type": "execute_result"
    }
   ],
   "source": [
    "l2"
   ]
  },
  {
   "cell_type": "code",
   "execution_count": 5,
   "id": "7ffb13f4",
   "metadata": {},
   "outputs": [],
   "source": [
    "a = \"sachin\""
   ]
  },
  {
   "cell_type": "code",
   "execution_count": 8,
   "id": "f1c3c371",
   "metadata": {},
   "outputs": [
    {
     "name": "stdout",
     "output_type": "stream",
     "text": [
      "sachin"
     ]
    }
   ],
   "source": [
    "for i in a:\n",
    "    print(i, end=\"\")"
   ]
  },
  {
   "cell_type": "code",
   "execution_count": 9,
   "id": "10675d74",
   "metadata": {},
   "outputs": [
    {
     "data": {
      "text/plain": [
       "range(7, 0, -1)"
      ]
     },
     "execution_count": 9,
     "metadata": {},
     "output_type": "execute_result"
    }
   ],
   "source": [
    "range(7,0,-1)"
   ]
  },
  {
   "cell_type": "code",
   "execution_count": 10,
   "id": "70f8e917",
   "metadata": {},
   "outputs": [
    {
     "name": "stdout",
     "output_type": "stream",
     "text": [
      "7\n",
      "6\n",
      "5\n",
      "4\n",
      "3\n",
      "2\n",
      "1\n"
     ]
    }
   ],
   "source": [
    "for i in range(7,0,-1):\n",
    "    print(i)"
   ]
  },
  {
   "cell_type": "code",
   "execution_count": 14,
   "id": "2b4ddd65",
   "metadata": {},
   "outputs": [
    {
     "name": "stdout",
     "output_type": "stream",
     "text": [
      "*******\r\n",
      "*****\r\n",
      "***\r\n",
      "*\r\n",
      "\r\n",
      "\r\n"
     ]
    }
   ],
   "source": [
    "n = 7\n",
    "j = 8\n",
    "\n",
    "for i in range(0,n-1):\n",
    "    for j in range(0,j-1):\n",
    "        print(\"*\", end=\"\")\n",
    "    print(\"\\r\")"
   ]
  },
  {
   "cell_type": "code",
   "execution_count": 40,
   "id": "8885614f",
   "metadata": {},
   "outputs": [],
   "source": [
    "a = \"my name Is Sachin\"\n"
   ]
  },
  {
   "cell_type": "code",
   "execution_count": 41,
   "id": "20f6894a",
   "metadata": {},
   "outputs": [
    {
     "name": "stdout",
     "output_type": "stream",
     "text": [
      "[]\n",
      "Your string is title\n"
     ]
    }
   ],
   "source": [
    "count = 0\n",
    "d = []\n",
    "if count == 0:\n",
    "    if (a[0].isupper()):\n",
    "        for i in a:\n",
    "            if i == \" \":\n",
    "                b = count + 1\n",
    "                c = a[b].isupper()\n",
    "                d.append(c)\n",
    "            count = count + 1\n",
    "\n",
    "print(d)\n",
    "if not d:\n",
    "    if False in d:\n",
    "        print (\"Your string is not title\")\n",
    "    else:\n",
    "        print (\"Your string is title\")"
   ]
  },
  {
   "cell_type": "code",
   "execution_count": 35,
   "id": "5b9f4392",
   "metadata": {},
   "outputs": [
    {
     "name": "stdout",
     "output_type": "stream",
     "text": [
      "hello\n"
     ]
    }
   ],
   "source": [
    "\n",
    "if not d:\n",
    "    print(\"hello\")"
   ]
  },
  {
   "cell_type": "code",
   "execution_count": 14,
   "id": "f943b784",
   "metadata": {},
   "outputs": [
    {
     "name": "stdout",
     "output_type": "stream",
     "text": [
      "hello\n"
     ]
    }
   ],
   "source": [
    "if a[0].isupper:\n",
    "    print (\"hello\")"
   ]
  },
  {
   "cell_type": "code",
   "execution_count": null,
   "id": "c7a5a74b",
   "metadata": {},
   "outputs": [],
   "source": []
  }
 ],
 "metadata": {
  "kernelspec": {
   "display_name": "Python 3 (ipykernel)",
   "language": "python",
   "name": "python3"
  },
  "language_info": {
   "codemirror_mode": {
    "name": "ipython",
    "version": 3
   },
   "file_extension": ".py",
   "mimetype": "text/x-python",
   "name": "python",
   "nbconvert_exporter": "python",
   "pygments_lexer": "ipython3",
   "version": "3.9.7"
  }
 },
 "nbformat": 4,
 "nbformat_minor": 5
}
