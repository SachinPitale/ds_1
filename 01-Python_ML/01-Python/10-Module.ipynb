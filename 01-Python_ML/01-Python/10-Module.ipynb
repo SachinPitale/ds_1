{
 "cells": [
  {
   "cell_type": "code",
   "execution_count": 1,
   "id": "bb2c5d39",
   "metadata": {},
   "outputs": [],
   "source": [
    "import math"
   ]
  },
  {
   "cell_type": "code",
   "execution_count": 6,
   "id": "c6fc6ff1",
   "metadata": {},
   "outputs": [
    {
     "data": {
      "text/plain": [
       "15.0"
      ]
     },
     "execution_count": 6,
     "metadata": {},
     "output_type": "execute_result"
    }
   ],
   "source": [
    "math.sqrt(225)"
   ]
  },
  {
   "cell_type": "code",
   "execution_count": 8,
   "id": "0a4e8974",
   "metadata": {},
   "outputs": [],
   "source": [
    "from math import sqrt"
   ]
  },
  {
   "cell_type": "code",
   "execution_count": 10,
   "id": "60080b86",
   "metadata": {},
   "outputs": [
    {
     "data": {
      "text/plain": [
       "3.0"
      ]
     },
     "execution_count": 10,
     "metadata": {},
     "output_type": "execute_result"
    }
   ],
   "source": [
    "sqrt(9)"
   ]
  },
  {
   "cell_type": "code",
   "execution_count": 11,
   "id": "d03657c1",
   "metadata": {},
   "outputs": [],
   "source": [
    "from math import sqrt, pi"
   ]
  },
  {
   "cell_type": "code",
   "execution_count": 12,
   "id": "46837e62",
   "metadata": {},
   "outputs": [
    {
     "data": {
      "text/plain": [
       "3.141592653589793"
      ]
     },
     "execution_count": 12,
     "metadata": {},
     "output_type": "execute_result"
    }
   ],
   "source": [
    "pi"
   ]
  },
  {
   "cell_type": "code",
   "execution_count": 13,
   "id": "9f948e70",
   "metadata": {},
   "outputs": [],
   "source": [
    "from math import * # all function will be import"
   ]
  },
  {
   "cell_type": "code",
   "execution_count": 14,
   "id": "4f338482",
   "metadata": {},
   "outputs": [
    {
     "data": {
      "text/plain": [
       "-0.5440211108893698"
      ]
     },
     "execution_count": 14,
     "metadata": {},
     "output_type": "execute_result"
    }
   ],
   "source": [
    "sin(10)"
   ]
  },
  {
   "cell_type": "code",
   "execution_count": 15,
   "id": "7d4abcb5",
   "metadata": {},
   "outputs": [
    {
     "data": {
      "text/plain": [
       "0.0"
      ]
     },
     "execution_count": 15,
     "metadata": {},
     "output_type": "execute_result"
    }
   ],
   "source": [
    "sin(0)"
   ]
  },
  {
   "cell_type": "code",
   "execution_count": 16,
   "id": "d15c2a44",
   "metadata": {},
   "outputs": [
    {
     "data": {
      "text/plain": [
       "12.0"
      ]
     },
     "execution_count": 16,
     "metadata": {},
     "output_type": "execute_result"
    }
   ],
   "source": [
    "sqrt(144)"
   ]
  },
  {
   "cell_type": "code",
   "execution_count": 17,
   "id": "f3f20cb3",
   "metadata": {},
   "outputs": [
    {
     "data": {
      "text/plain": [
       "3.141592653589793"
      ]
     },
     "execution_count": 17,
     "metadata": {},
     "output_type": "execute_result"
    }
   ],
   "source": [
    "pi"
   ]
  },
  {
   "cell_type": "code",
   "execution_count": 18,
   "id": "1b6a30e5",
   "metadata": {},
   "outputs": [
    {
     "name": "stdout",
     "output_type": "stream",
     "text": [
      "This is my first ever module\n"
     ]
    }
   ],
   "source": [
    "import moduleone"
   ]
  },
  {
   "cell_type": "code",
   "execution_count": 19,
   "id": "5e9c7e84",
   "metadata": {},
   "outputs": [],
   "source": [
    "import moduleone"
   ]
  },
  {
   "cell_type": "code",
   "execution_count": 21,
   "id": "04027242",
   "metadata": {},
   "outputs": [],
   "source": [
    "import moduleone"
   ]
  },
  {
   "cell_type": "code",
   "execution_count": 23,
   "id": "de9235b5",
   "metadata": {},
   "outputs": [],
   "source": [
    "import moduleone"
   ]
  },
  {
   "cell_type": "code",
   "execution_count": 24,
   "id": "9ee58a66",
   "metadata": {},
   "outputs": [],
   "source": [
    "# We will get module output is once, if you want multiple time. use imp module. It will reload the module again and again"
   ]
  },
  {
   "cell_type": "code",
   "execution_count": 25,
   "id": "fb83e837",
   "metadata": {},
   "outputs": [],
   "source": [
    "import imp"
   ]
  },
  {
   "cell_type": "code",
   "execution_count": 33,
   "id": "92814636",
   "metadata": {},
   "outputs": [
    {
     "data": {
      "text/plain": [
       "<module 'addition' from 'E:\\\\Data Science\\\\DS\\\\01-Python\\\\addition.py'>"
      ]
     },
     "execution_count": 33,
     "metadata": {},
     "output_type": "execute_result"
    }
   ],
   "source": [
    "imp.reload(addition)"
   ]
  },
  {
   "cell_type": "code",
   "execution_count": null,
   "id": "27163214",
   "metadata": {},
   "outputs": [],
   "source": []
  },
  {
   "cell_type": "code",
   "execution_count": 29,
   "id": "9c059b9c",
   "metadata": {},
   "outputs": [],
   "source": [
    "import addition"
   ]
  },
  {
   "cell_type": "code",
   "execution_count": 31,
   "id": "a389ce75",
   "metadata": {},
   "outputs": [
    {
     "data": {
      "text/plain": [
       "36"
      ]
     },
     "execution_count": 31,
     "metadata": {},
     "output_type": "execute_result"
    }
   ],
   "source": [
    "addition.addition1(12,24)"
   ]
  },
  {
   "cell_type": "code",
   "execution_count": 34,
   "id": "c091b1b7",
   "metadata": {},
   "outputs": [],
   "source": [
    "import addition"
   ]
  },
  {
   "cell_type": "code",
   "execution_count": 36,
   "id": "1265e0a9",
   "metadata": {},
   "outputs": [
    {
     "data": {
      "text/plain": [
       "270"
      ]
     },
     "execution_count": 36,
     "metadata": {},
     "output_type": "execute_result"
    }
   ],
   "source": [
    "addition.mul(27,10)"
   ]
  },
  {
   "cell_type": "code",
   "execution_count": 37,
   "id": "ead92c5f",
   "metadata": {},
   "outputs": [
    {
     "data": {
      "text/plain": [
       "5764801"
      ]
     },
     "execution_count": 37,
     "metadata": {},
     "output_type": "execute_result"
    }
   ],
   "source": [
    "addition.power(7,8)"
   ]
  },
  {
   "cell_type": "code",
   "execution_count": 38,
   "id": "3431c751",
   "metadata": {},
   "outputs": [],
   "source": [
    "import module2"
   ]
  },
  {
   "cell_type": "code",
   "execution_count": 41,
   "id": "6884a36d",
   "metadata": {},
   "outputs": [
    {
     "data": {
      "text/plain": [
       "'This is my tasks'"
      ]
     },
     "execution_count": 41,
     "metadata": {},
     "output_type": "execute_result"
    }
   ],
   "source": [
    "module2.msg()"
   ]
  },
  {
   "cell_type": "code",
   "execution_count": 42,
   "id": "efc84d27",
   "metadata": {},
   "outputs": [
    {
     "data": {
      "text/plain": [
       "['ml', 'dl', 'nlp', 'cv', 'py', 'stat', 'vi']"
      ]
     },
     "execution_count": 42,
     "metadata": {},
     "output_type": "execute_result"
    }
   ],
   "source": [
    "module2.course()"
   ]
  },
  {
   "cell_type": "code",
   "execution_count": 45,
   "id": "a2dba3ff",
   "metadata": {},
   "outputs": [],
   "source": [
    "from module2 import msg # import one function or method"
   ]
  },
  {
   "cell_type": "code",
   "execution_count": 46,
   "id": "277a9578",
   "metadata": {},
   "outputs": [
    {
     "data": {
      "text/plain": [
       "'This is my tasks'"
      ]
     },
     "execution_count": 46,
     "metadata": {},
     "output_type": "execute_result"
    }
   ],
   "source": [
    "msg()"
   ]
  },
  {
   "cell_type": "code",
   "execution_count": 47,
   "id": "17ee346d",
   "metadata": {},
   "outputs": [],
   "source": [
    "from module2 import course"
   ]
  },
  {
   "cell_type": "code",
   "execution_count": 48,
   "id": "6f1f86f0",
   "metadata": {},
   "outputs": [
    {
     "data": {
      "text/plain": [
       "['ml', 'dl', 'nlp', 'cv', 'py', 'stat', 'vi']"
      ]
     },
     "execution_count": 48,
     "metadata": {},
     "output_type": "execute_result"
    }
   ],
   "source": [
    "course()"
   ]
  },
  {
   "cell_type": "code",
   "execution_count": null,
   "id": "6baf0f39",
   "metadata": {},
   "outputs": [],
   "source": []
  }
 ],
 "metadata": {
  "kernelspec": {
   "display_name": "Python 3 (ipykernel)",
   "language": "python",
   "name": "python3"
  },
  "language_info": {
   "codemirror_mode": {
    "name": "ipython",
    "version": 3
   },
   "file_extension": ".py",
   "mimetype": "text/x-python",
   "name": "python",
   "nbconvert_exporter": "python",
   "pygments_lexer": "ipython3",
   "version": "3.9.7"
  }
 },
 "nbformat": 4,
 "nbformat_minor": 5
}
