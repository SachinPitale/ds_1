{
 "cells": [
  {
   "cell_type": "code",
   "execution_count": 3,
   "id": "77d1dec1",
   "metadata": {},
   "outputs": [],
   "source": [
    "# 1.you have to write a fun which will take string and return a len of it without using inbuilt fun len."
   ]
  },
  {
   "cell_type": "code",
   "execution_count": 5,
   "id": "36927258",
   "metadata": {},
   "outputs": [],
   "source": [
    "def stringlen(a):\n",
    "    \"\"\"\n",
    "    It is string len function, basically it will count the all string element and give you output\n",
    "    os Integer\n",
    "    \"\"\"\n",
    "    if type(a) == str:\n",
    "        count = 0\n",
    "        for i in a:\n",
    "            count = count + 1\n",
    "    else:\n",
    "        return \"The function accept only string as input parameter\"\n",
    "    \n",
    "    return count"
   ]
  },
  {
   "cell_type": "code",
   "execution_count": 10,
   "id": "ed1f1c39",
   "metadata": {},
   "outputs": [
    {
     "data": {
      "text/plain": [
       "28"
      ]
     },
     "execution_count": 10,
     "metadata": {},
     "output_type": "execute_result"
    }
   ],
   "source": [
    "stringlen(\"This is my first function\")"
   ]
  },
  {
   "cell_type": "code",
   "execution_count": null,
   "id": "b45a24de",
   "metadata": {},
   "outputs": [],
   "source": [
    "# 2.Write a function which will be able to print an index of all premitive element which you will pass"
   ]
  },
  {
   "cell_type": "code",
   "execution_count": 21,
   "id": "e79b0ee4",
   "metadata": {},
   "outputs": [],
   "source": [
    "def indexelement(a):\n",
    "    \"\"\"\n",
    "    The function will return all the index number of premitive data element\n",
    "    \"\"\"\n",
    "    for i,j in enumerate(a):\n",
    "        print (\"element is\", j, \"index number = \", i)"
   ]
  },
  {
   "cell_type": "code",
   "execution_count": 23,
   "id": "09a9055e",
   "metadata": {},
   "outputs": [
    {
     "name": "stdout",
     "output_type": "stream",
     "text": [
      "element is 3 index number =  0\n",
      "element is 4 index number =  1\n",
      "element is 5 index number =  2\n",
      "element is 5 index number =  3\n"
     ]
    }
   ],
   "source": [
    "indexelement((3,4,5,5))"
   ]
  },
  {
   "cell_type": "code",
   "execution_count": 24,
   "id": "6fd1bd5e",
   "metadata": {},
   "outputs": [
    {
     "name": "stdout",
     "output_type": "stream",
     "text": [
      "element is a index number =  0\n",
      "element is b index number =  1\n"
     ]
    }
   ],
   "source": [
    "indexelement({'a':1,'b':2})"
   ]
  },
  {
   "cell_type": "code",
   "execution_count": null,
   "id": "65f356b1",
   "metadata": {},
   "outputs": [],
   "source": []
  },
  {
   "cell_type": "code",
   "execution_count": 25,
   "id": "1d00b414",
   "metadata": {},
   "outputs": [],
   "source": [
    "# 3. Write a function which will take input as dictonary and give me out as a list of all the values even in case of 2 level"
   ]
  },
  {
   "cell_type": "code",
   "execution_count": 36,
   "id": "43809017",
   "metadata": {},
   "outputs": [],
   "source": [
    "def dictlist(x):\n",
    "    \"\"\"\n",
    "    The function will accept the dict as input and provide all the values in list format\n",
    "    \"\"\"\n",
    "    if type(x) == dict:\n",
    "        l = []\n",
    "        for i in x.values():\n",
    "            for j in i.values():\n",
    "                l.append(j)\n",
    "    else:\n",
    "        return \"The function accepts only dict as input parameter \"\n",
    "    \n",
    "    return l\n",
    "        "
   ]
  },
  {
   "cell_type": "code",
   "execution_count": 37,
   "id": "f25587cf",
   "metadata": {},
   "outputs": [],
   "source": [
    "d = {'d1':{'a':1,'b':2},'d2':{'c':3,'d':4}}"
   ]
  },
  {
   "cell_type": "code",
   "execution_count": 38,
   "id": "5bc9ccd6",
   "metadata": {},
   "outputs": [
    {
     "data": {
      "text/plain": [
       "[1, 2, 3, 4]"
      ]
     },
     "execution_count": 38,
     "metadata": {},
     "output_type": "execute_result"
    }
   ],
   "source": [
    "dictlist(d)"
   ]
  },
  {
   "cell_type": "code",
   "execution_count": 41,
   "id": "a621f181",
   "metadata": {},
   "outputs": [
    {
     "data": {
      "text/plain": [
       "['xyz', 100011, 'abc', 1201, 'pqr', 'programming']"
      ]
     },
     "execution_count": 41,
     "metadata": {},
     "output_type": "execute_result"
    }
   ],
   "source": [
    "dictlist({\"student\":{\"name\":'xyz',\"Roll no\":100011}, \"emp\": {\"name\":'abc',\"emp_id\": 1201}, \"teacher\":{\"name\": \"pqr\",\"subject\":\"programming\"}})"
   ]
  },
  {
   "cell_type": "code",
   "execution_count": null,
   "id": "b27d1cf8",
   "metadata": {},
   "outputs": [],
   "source": []
  },
  {
   "cell_type": "code",
   "execution_count": 42,
   "id": "4b3269a0",
   "metadata": {},
   "outputs": [],
   "source": [
    "#4. write a fun which will take another function as input and retrun me output."
   ]
  },
  {
   "cell_type": "code",
   "execution_count": 45,
   "id": "2258095c",
   "metadata": {},
   "outputs": [],
   "source": [
    "\n"
   ]
  },
  {
   "cell_type": "code",
   "execution_count": 72,
   "id": "d4c3d043",
   "metadata": {},
   "outputs": [],
   "source": [
    "def test1(a):\n",
    "    \"\"\"\n",
    "    The function will check number is even or odd\n",
    "    \"\"\"\n",
    "    if a%2==0:\n",
    "        return (\"your number is even\", a)\n",
    "    else:\n",
    "        return (\"your number is odd\", a)\n",
    "\n",
    "def test2(a,b):\n",
    "    \"\"\"\n",
    "    The function will accept int number only and provide output as sum of two argument\n",
    "    \"\"\"\n",
    "    if type(a) == int and type(b) == int:\n",
    "        c = a + b\n",
    "        \n",
    "    else:\n",
    "        return \"The function accept only int as parameter\"\n",
    "    return test1(c)    "
   ]
  },
  {
   "cell_type": "code",
   "execution_count": 73,
   "id": "339dcba3",
   "metadata": {},
   "outputs": [
    {
     "data": {
      "text/plain": [
       "('your number is even', 30)"
      ]
     },
     "execution_count": 73,
     "metadata": {},
     "output_type": "execute_result"
    }
   ],
   "source": [
    "test2(2,28)"
   ]
  },
  {
   "cell_type": "code",
   "execution_count": 74,
   "id": "5eb4ee92",
   "metadata": {},
   "outputs": [
    {
     "data": {
      "text/plain": [
       "('your number is odd', 53)"
      ]
     },
     "execution_count": 74,
     "metadata": {},
     "output_type": "execute_result"
    }
   ],
   "source": [
    "test2(25,28)"
   ]
  },
  {
   "cell_type": "code",
   "execution_count": null,
   "id": "36bb574f",
   "metadata": {},
   "outputs": [],
   "source": []
  },
  {
   "cell_type": "code",
   "execution_count": 76,
   "id": "ad0a20f1",
   "metadata": {},
   "outputs": [],
   "source": [
    "#5.Write a fun which will take multiple list as a input and give me concatenate of all the element as output"
   ]
  },
  {
   "cell_type": "code",
   "execution_count": 80,
   "id": "4e7b5333",
   "metadata": {},
   "outputs": [],
   "source": [
    "def listcon(x):\n",
    "    \"\"\"\n",
    "    The function will accept only single or multiple list and concatenate in single element and provide output.\n",
    "    \n",
    "    \"\"\"\n",
    "    l = []\n",
    "    for i in x:\n",
    "        if type(i) == list:\n",
    "            for j in i:\n",
    "                l.append(j)\n",
    "        else:\n",
    "            return \"Input parameter accept only list\"\n",
    "    return l\n",
    "                \n",
    "    "
   ]
  },
  {
   "cell_type": "code",
   "execution_count": 84,
   "id": "b1232b84",
   "metadata": {},
   "outputs": [
    {
     "data": {
      "text/plain": [
       "[1, 2, 3, 5, 7, 8, 9, 10, 15, 16, 17, 18]"
      ]
     },
     "execution_count": 84,
     "metadata": {},
     "output_type": "execute_result"
    }
   ],
   "source": [
    "listcon([[1,2,3,5],[7,8,9,10],[15,16,17,18],])"
   ]
  },
  {
   "cell_type": "code",
   "execution_count": null,
   "id": "4e5e9b42",
   "metadata": {},
   "outputs": [],
   "source": []
  },
  {
   "cell_type": "code",
   "execution_count": 85,
   "id": "b2cbbb94",
   "metadata": {},
   "outputs": [
    {
     "data": {
      "text/plain": [
       "'Input parameter accept only list'"
      ]
     },
     "execution_count": 85,
     "metadata": {},
     "output_type": "execute_result"
    }
   ],
   "source": [
    "listcon([[1,2,3,5],[7,8,9,10],\"xyz\",True,[15,16,17,18],])"
   ]
  },
  {
   "cell_type": "code",
   "execution_count": null,
   "id": "6f6e62fe",
   "metadata": {},
   "outputs": [],
   "source": []
  },
  {
   "cell_type": "code",
   "execution_count": null,
   "id": "5ad49f04",
   "metadata": {},
   "outputs": [],
   "source": [
    "#6. Write a function which will be able to take a list as an input return an index of each element like a inbuild index function but even if we have repetative element it should retrun index"
   ]
  },
  {
   "cell_type": "code",
   "execution_count": 92,
   "id": "128dea99",
   "metadata": {},
   "outputs": [],
   "source": [
    "def listindexing(x):\n",
    "    \"\"\"\n",
    "    The function will accept list only and provide the index number of each element\n",
    "    \"\"\"\n",
    "    if type(x) == list:\n",
    "        for i,j in enumerate(x):\n",
    "            print(j,i)"
   ]
  },
  {
   "cell_type": "code",
   "execution_count": 98,
   "id": "49e419ef",
   "metadata": {},
   "outputs": [
    {
     "name": "stdout",
     "output_type": "stream",
     "text": [
      "3 0\n",
      "4 1\n",
      "5 2\n",
      "3 3\n",
      "abc 4\n",
      "True 5\n",
      "abc 6\n"
     ]
    }
   ],
   "source": [
    "listindexing([3,4,5,3,\"abc\",True,\"abc\"])"
   ]
  },
  {
   "cell_type": "code",
   "execution_count": null,
   "id": "c2b379f5",
   "metadata": {},
   "outputs": [],
   "source": []
  },
  {
   "cell_type": "code",
   "execution_count": 117,
   "id": "9b125177",
   "metadata": {},
   "outputs": [],
   "source": [
    "# 7. write a function which will would return list of all the file name from a directory"
   ]
  },
  {
   "cell_type": "code",
   "execution_count": 147,
   "id": "ecf6bf1f",
   "metadata": {},
   "outputs": [],
   "source": [
    "def listfile(x):\n",
    "    \"\"\"\n",
    "    The function will accept the input as directory path, In which you want list all the files \n",
    "    \"\"\"\n",
    "    import os\n",
    "    l = []\n",
    "    if os.path.exists(x):\n",
    "        os.chdir(x)\n",
    "        for i in os.listdir():\n",
    "            if os.path.isfile(i):\n",
    "                l.append(i)\n",
    "          \n",
    "        if l:\n",
    "            return l\n",
    "        else:\n",
    "            return \"We did not found any file in user specified directory\"\n",
    "    else:\n",
    "        return \"User Provided directory not exist\"\n",
    "            \n",
    "        \n",
    "    os.chdir(\"E:\\\\Data Science\\\\DS\\\\01-Python\\\\Assignments\\\\04-Assignment\")"
   ]
  },
  {
   "cell_type": "code",
   "execution_count": 148,
   "id": "86ce7295",
   "metadata": {},
   "outputs": [],
   "source": [
    "os.chdir(\"E:\\\\Data Science\\\\DS\\\\01-Python\\\\Assignments\\\\04-Assignment\")"
   ]
  },
  {
   "cell_type": "code",
   "execution_count": 145,
   "id": "1e6d8538",
   "metadata": {},
   "outputs": [
    {
     "data": {
      "text/plain": [
       "'E:\\\\Data Science\\\\DS\\\\01-Python\\\\Assignments\\\\04-Assignment'"
      ]
     },
     "execution_count": 145,
     "metadata": {},
     "output_type": "execute_result"
    }
   ],
   "source": [
    "pwd"
   ]
  },
  {
   "cell_type": "code",
   "execution_count": 149,
   "id": "c5272f4d",
   "metadata": {},
   "outputs": [
    {
     "data": {
      "text/plain": [
       "['addition.log', 'app4.log', 'test.log', 'test1.log', 'test4.log']"
      ]
     },
     "execution_count": 149,
     "metadata": {},
     "output_type": "execute_result"
    }
   ],
   "source": [
    "listfile(\"E:\\\\Data Science\\\\DS\\\\01-Python\\\\logging\")"
   ]
  },
  {
   "cell_type": "code",
   "execution_count": 150,
   "id": "6339a77b",
   "metadata": {},
   "outputs": [
    {
     "data": {
      "text/plain": [
       "'User Provided directory not exist'"
      ]
     },
     "execution_count": 150,
     "metadata": {},
     "output_type": "execute_result"
    }
   ],
   "source": [
    "listfile(\"E:\\\\Data Science\\\\DS\\\\01-Python\\\\logging\\\\abc\")"
   ]
  },
  {
   "cell_type": "code",
   "execution_count": 152,
   "id": "363c3bb0",
   "metadata": {},
   "outputs": [
    {
     "data": {
      "text/plain": [
       "'We did not found any file in user specified directory'"
      ]
     },
     "execution_count": 152,
     "metadata": {},
     "output_type": "execute_result"
    }
   ],
   "source": [
    "listfile(\"E:\\Data Science\\DS\\01-Python\\logging\\abc\") "
   ]
  },
  {
   "cell_type": "code",
   "execution_count": null,
   "id": "090d80af",
   "metadata": {},
   "outputs": [],
   "source": []
  },
  {
   "cell_type": "code",
   "execution_count": null,
   "id": "86e7f5a9",
   "metadata": {},
   "outputs": [],
   "source": []
  },
  {
   "cell_type": "code",
   "execution_count": null,
   "id": "8b0963f2",
   "metadata": {},
   "outputs": [],
   "source": []
  },
  {
   "cell_type": "code",
   "execution_count": 1,
   "id": "2809750a",
   "metadata": {},
   "outputs": [],
   "source": [
    "#8. write a function which will be able to show your system configuration"
   ]
  },
  {
   "cell_type": "code",
   "execution_count": 37,
   "id": "d32b728d",
   "metadata": {},
   "outputs": [],
   "source": [
    "def systeminfo():\n",
    "    \"\"\"\n",
    "    User will get all the information about the system\n",
    "    \"\"\"\n",
    "    import platform\n",
    "    \n",
    "    print (\"system os : \", platform.system())\n",
    "    print (\"Node name : \", platform.node())\n",
    "    print (\"Major Verson : \", platform.release())\n",
    "    print(\"Os version : \", platform.version())\n",
    "    print(\"CPU : \", platform.machine())\n",
    "    print(\"processor: \", platform.processor())\n",
    "    print(\"Architecture : \", platform.architecture())"
   ]
  },
  {
   "cell_type": "code",
   "execution_count": 38,
   "id": "2ebe1cd1",
   "metadata": {},
   "outputs": [
    {
     "name": "stdout",
     "output_type": "stream",
     "text": [
      "system os :  Windows\n",
      "Node name :  DESKTOP-D2GQ5FK\n",
      "Major Verson :  10\n",
      "Os version :  10.0.19042\n",
      "CPU :  AMD64\n",
      "processor:  Intel64 Family 6 Model 42 Stepping 7, GenuineIntel\n",
      "Architecture :  ('64bit', 'WindowsPE')\n"
     ]
    }
   ],
   "source": [
    "systeminfo()"
   ]
  },
  {
   "cell_type": "code",
   "execution_count": null,
   "id": "ab9842d1",
   "metadata": {},
   "outputs": [],
   "source": []
  },
  {
   "cell_type": "code",
   "execution_count": 39,
   "id": "82626b77",
   "metadata": {},
   "outputs": [],
   "source": [
    "#9. write a function which will be able to show date and time."
   ]
  },
  {
   "cell_type": "code",
   "execution_count": 53,
   "id": "5c666337",
   "metadata": {},
   "outputs": [],
   "source": [
    "def datetimeinfo():\n",
    "    \"\"\"\n",
    "    To view today's date and current time\n",
    "    \"\"\"\n",
    "    from datetime import datetime\n",
    "    today = datetime.now()\n",
    "    today = today.strftime(\"%d-%m-%y %H:%M:%S\")\n",
    "    print(\"date and time : \", today)\n",
    "    \n",
    "    \n",
    "    "
   ]
  },
  {
   "cell_type": "code",
   "execution_count": 54,
   "id": "b0fb1be3",
   "metadata": {},
   "outputs": [
    {
     "name": "stdout",
     "output_type": "stream",
     "text": [
      "date and time :  31-12-21 20:44:41\n"
     ]
    }
   ],
   "source": [
    "datetimeinfo()"
   ]
  },
  {
   "cell_type": "code",
   "execution_count": null,
   "id": "871bd064",
   "metadata": {},
   "outputs": [],
   "source": []
  },
  {
   "cell_type": "code",
   "execution_count": null,
   "id": "741c1f06",
   "metadata": {},
   "outputs": [],
   "source": []
  },
  {
   "cell_type": "code",
   "execution_count": 55,
   "id": "d92a1971",
   "metadata": {},
   "outputs": [],
   "source": [
    "# 10.write a function which will be able to read a image file and show it to you."
   ]
  },
  {
   "cell_type": "code",
   "execution_count": 5,
   "id": "9e8100e3",
   "metadata": {},
   "outputs": [],
   "source": [
    "from PIL import Image"
   ]
  },
  {
   "cell_type": "code",
   "execution_count": 9,
   "id": "d9e1a600",
   "metadata": {},
   "outputs": [],
   "source": [
    "img1 = Image.open(\"E:\\\\Data Science\\\\DS\\\\01-Python\\\\logging\\\\img1.jpg\")\n",
    "img1.show()"
   ]
  },
  {
   "cell_type": "code",
   "execution_count": 10,
   "id": "5a069666",
   "metadata": {},
   "outputs": [],
   "source": [
    "def showimg(x):\n",
    "    \"\"\"\n",
    "    The function will display the .jpg image\n",
    "    Require file name to display\n",
    "    \"\"\"\n",
    "    import os\n",
    "    from PIL import Image\n",
    "    if os.path.isfile(x):\n",
    "        if x.endswith(\".jpg\"):\n",
    "            img = Image.open(x)\n",
    "            img.show()\n",
    "        else:\n",
    "            return \"File is not .jpg format\"\n",
    "    else:\n",
    "        return \"user provided file doesn't exist on filesystem\"\n",
    "        \n",
    "    \n",
    "    "
   ]
  },
  {
   "cell_type": "code",
   "execution_count": 23,
   "id": "0feb8e93",
   "metadata": {},
   "outputs": [],
   "source": [
    "showimg(\"E:\\\\Data Science\\\\DS\\\\01-Python\\\\logging\\\\img1.jpg\")"
   ]
  },
  {
   "cell_type": "code",
   "execution_count": 17,
   "id": "87cc1ecf",
   "metadata": {},
   "outputs": [
    {
     "data": {
      "text/plain": [
       "'File is not .jpg format'"
      ]
     },
     "execution_count": 17,
     "metadata": {},
     "output_type": "execute_result"
    }
   ],
   "source": [
    "showimg(\"E:\\\\Data Science\\\\DS\\\\01-Python\\\\logging\\\\test.log\")"
   ]
  },
  {
   "cell_type": "code",
   "execution_count": 22,
   "id": "5be3a470",
   "metadata": {},
   "outputs": [
    {
     "data": {
      "text/plain": [
       "\"user provided file doesn't exist on filesystem\""
      ]
     },
     "execution_count": 22,
     "metadata": {},
     "output_type": "execute_result"
    }
   ],
   "source": [
    "showimg(\"E:\\\\Data Science\\\\DS\\\\01-Python\\\\logging\\\\img.jpg\")"
   ]
  },
  {
   "cell_type": "code",
   "execution_count": null,
   "id": "b570cb74",
   "metadata": {},
   "outputs": [],
   "source": []
  },
  {
   "cell_type": "code",
   "execution_count": null,
   "id": "e953be8a",
   "metadata": {},
   "outputs": [],
   "source": []
  },
  {
   "cell_type": "code",
   "execution_count": 24,
   "id": "db58eecc",
   "metadata": {},
   "outputs": [],
   "source": [
    "# 11. write a function which can read video file and play for you"
   ]
  },
  {
   "cell_type": "code",
   "execution_count": 28,
   "id": "5c06a5d2",
   "metadata": {},
   "outputs": [
    {
     "name": "stdout",
     "output_type": "stream",
     "text": [
      "Collecting pafy\n",
      "  Downloading pafy-0.5.5-py2.py3-none-any.whl (35 kB)\n",
      "Installing collected packages: pafy\n",
      "Successfully installed pafy-0.5.5\n"
     ]
    }
   ],
   "source": [
    "! pip install pafy"
   ]
  },
  {
   "cell_type": "code",
   "execution_count": 30,
   "id": "d5f06374",
   "metadata": {},
   "outputs": [
    {
     "ename": "ImportError",
     "evalue": "pafy: youtube-dl not found; you can use the internal backend by setting the environmental variable PAFY_BACKEND to \"internal\". It is not enabled by default because it is not as well maintained as the youtube-dl backend.",
     "output_type": "error",
     "traceback": [
      "\u001b[1;31m---------------------------------------------------------------------------\u001b[0m",
      "\u001b[1;31mModuleNotFoundError\u001b[0m                       Traceback (most recent call last)",
      "\u001b[1;32m~\\anaconda3\\lib\\site-packages\\pafy\\pafy.py\u001b[0m in \u001b[0;36m<module>\u001b[1;34m\u001b[0m\n\u001b[0;32m     47\u001b[0m     \u001b[1;32mtry\u001b[0m\u001b[1;33m:\u001b[0m\u001b[1;33m\u001b[0m\u001b[1;33m\u001b[0m\u001b[0m\n\u001b[1;32m---> 48\u001b[1;33m         \u001b[1;32mimport\u001b[0m \u001b[0myoutube_dl\u001b[0m\u001b[1;33m\u001b[0m\u001b[1;33m\u001b[0m\u001b[0m\n\u001b[0m\u001b[0;32m     49\u001b[0m         \u001b[0mbackend\u001b[0m \u001b[1;33m=\u001b[0m \u001b[1;34m\"youtube-dl\"\u001b[0m\u001b[1;33m\u001b[0m\u001b[1;33m\u001b[0m\u001b[0m\n",
      "\u001b[1;31mModuleNotFoundError\u001b[0m: No module named 'youtube_dl'",
      "\nDuring handling of the above exception, another exception occurred:\n",
      "\u001b[1;31mImportError\u001b[0m                               Traceback (most recent call last)",
      "\u001b[1;32m~\\AppData\\Local\\Temp/ipykernel_3012/2576932361.py\u001b[0m in \u001b[0;36m<module>\u001b[1;34m\u001b[0m\n\u001b[1;32m----> 1\u001b[1;33m \u001b[1;32mimport\u001b[0m \u001b[0mpafy\u001b[0m\u001b[1;33m\u001b[0m\u001b[1;33m\u001b[0m\u001b[0m\n\u001b[0m",
      "\u001b[1;32m~\\anaconda3\\lib\\site-packages\\pafy\\__init__.py\u001b[0m in \u001b[0;36m<module>\u001b[1;34m\u001b[0m\n\u001b[0;32m      5\u001b[0m \u001b[1;33m\u001b[0m\u001b[0m\n\u001b[0;32m      6\u001b[0m \u001b[1;31m# External api\u001b[0m\u001b[1;33m\u001b[0m\u001b[1;33m\u001b[0m\u001b[0m\n\u001b[1;32m----> 7\u001b[1;33m \u001b[1;32mfrom\u001b[0m \u001b[1;33m.\u001b[0m\u001b[0mpafy\u001b[0m \u001b[1;32mimport\u001b[0m \u001b[0mnew\u001b[0m\u001b[1;33m\u001b[0m\u001b[1;33m\u001b[0m\u001b[0m\n\u001b[0m\u001b[0;32m      8\u001b[0m \u001b[1;32mfrom\u001b[0m \u001b[1;33m.\u001b[0m\u001b[0mpafy\u001b[0m \u001b[1;32mimport\u001b[0m \u001b[0mset_api_key\u001b[0m\u001b[1;33m\u001b[0m\u001b[1;33m\u001b[0m\u001b[0m\n\u001b[0;32m      9\u001b[0m \u001b[1;32mfrom\u001b[0m \u001b[1;33m.\u001b[0m\u001b[0mpafy\u001b[0m \u001b[1;32mimport\u001b[0m \u001b[0mload_cache\u001b[0m\u001b[1;33m,\u001b[0m \u001b[0mdump_cache\u001b[0m\u001b[1;33m\u001b[0m\u001b[1;33m\u001b[0m\u001b[0m\n",
      "\u001b[1;32m~\\anaconda3\\lib\\site-packages\\pafy\\pafy.py\u001b[0m in \u001b[0;36m<module>\u001b[1;34m\u001b[0m\n\u001b[0;32m     49\u001b[0m         \u001b[0mbackend\u001b[0m \u001b[1;33m=\u001b[0m \u001b[1;34m\"youtube-dl\"\u001b[0m\u001b[1;33m\u001b[0m\u001b[1;33m\u001b[0m\u001b[0m\n\u001b[0;32m     50\u001b[0m     \u001b[1;32mexcept\u001b[0m \u001b[0mImportError\u001b[0m\u001b[1;33m:\u001b[0m\u001b[1;33m\u001b[0m\u001b[1;33m\u001b[0m\u001b[0m\n\u001b[1;32m---> 51\u001b[1;33m         raise ImportError(\n\u001b[0m\u001b[0;32m     52\u001b[0m                \u001b[1;34m\"pafy: youtube-dl not found; you can use the internal backend by \"\u001b[0m\u001b[1;33m\u001b[0m\u001b[1;33m\u001b[0m\u001b[0m\n\u001b[0;32m     53\u001b[0m                \u001b[1;34m\"setting the environmental variable PAFY_BACKEND to \\\"internal\\\". \"\u001b[0m\u001b[1;33m\u001b[0m\u001b[1;33m\u001b[0m\u001b[0m\n",
      "\u001b[1;31mImportError\u001b[0m: pafy: youtube-dl not found; you can use the internal backend by setting the environmental variable PAFY_BACKEND to \"internal\". It is not enabled by default because it is not as well maintained as the youtube-dl backend."
     ]
    }
   ],
   "source": [
    "import pafy"
   ]
  },
  {
   "cell_type": "code",
   "execution_count": null,
   "id": "f7080311",
   "metadata": {},
   "outputs": [],
   "source": []
  },
  {
   "cell_type": "code",
   "execution_count": null,
   "id": "05a859ff",
   "metadata": {},
   "outputs": [],
   "source": []
  },
  {
   "cell_type": "code",
   "execution_count": null,
   "id": "2d663b5c",
   "metadata": {},
   "outputs": [],
   "source": []
  },
  {
   "cell_type": "code",
   "execution_count": 31,
   "id": "20883c09",
   "metadata": {},
   "outputs": [],
   "source": [
    "# 12. write a function which can move a file from one directory to another directory"
   ]
  },
  {
   "cell_type": "code",
   "execution_count": 49,
   "id": "80a9f728",
   "metadata": {},
   "outputs": [],
   "source": [
    "def movefile(x,y):\n",
    "    \"\"\"\n",
    "    The function will move file from one location to other location\n",
    "    Function require two argument sourcepath, destination path\n",
    "    movefile(sourcefile,destinationfile)\n",
    "    \"\"\"\n",
    "    import os\n",
    "    if os.path.isfile(x):\n",
    "        if os.path.exists(y):\n",
    "            if not os.path.exists(y):\n",
    "                os.rename(x,y)\n",
    "            else:\n",
    "                return \"copy file already exit at destination path\"\n",
    "        else:\n",
    "            return \"Destination directory doesn't exist\"\n",
    "    else:\n",
    "        return \"Source file name doesn't exist, please provide proper file name\"\n",
    "            \n",
    "            \n",
    "            "
   ]
  },
  {
   "cell_type": "code",
   "execution_count": 50,
   "id": "a90e5cff",
   "metadata": {},
   "outputs": [
    {
     "data": {
      "text/plain": [
       "\"Source file name doesn't exist, please provide proper file name\""
      ]
     },
     "execution_count": 50,
     "metadata": {},
     "output_type": "execute_result"
    }
   ],
   "source": [
    "movefile(\"E:\\\\Data Science\\\\DS\\\\01-Python\\\\logging\\\\test4.log\",\"E:\\\\Data Science\\\\DS\\\\01-Python\\\\logging\\\\abc\\\\test4.log\")"
   ]
  },
  {
   "cell_type": "code",
   "execution_count": 51,
   "id": "1cfa7092",
   "metadata": {},
   "outputs": [
    {
     "data": {
      "text/plain": [
       "\"Source file name doesn't exist, please provide proper file name\""
      ]
     },
     "execution_count": 51,
     "metadata": {},
     "output_type": "execute_result"
    }
   ],
   "source": [
    "movefile(\"E:\\\\Data Science\\\\DS\\\\01-Python\\\\logging\\\\test4.log\",\"E:\\\\Data Science\\\\DS\\\\01-Python\\\\logging\\\\abc\\\\test4.log\")"
   ]
  },
  {
   "cell_type": "code",
   "execution_count": 52,
   "id": "4e666f59",
   "metadata": {},
   "outputs": [
    {
     "data": {
      "text/plain": [
       "'copy file already exit at destination path'"
      ]
     },
     "execution_count": 52,
     "metadata": {},
     "output_type": "execute_result"
    }
   ],
   "source": [
    "movefile(\"E:\\\\Data Science\\\\DS\\\\01-Python\\\\logging\\\\test1.log\",\"E:\\\\Data Science\\\\DS\\\\01-Python\\\\logging\\\\abc\\\\test4.log\")"
   ]
  },
  {
   "cell_type": "code",
   "execution_count": 54,
   "id": "ed077f16",
   "metadata": {},
   "outputs": [
    {
     "data": {
      "text/plain": [
       "\"Destination directory doesn't exist\""
      ]
     },
     "execution_count": 54,
     "metadata": {},
     "output_type": "execute_result"
    }
   ],
   "source": [
    "movefile(\"E:\\\\Data Science\\\\DS\\\\01-Python\\\\logging\\\\test1.log\",\"E:\\\\Data Science\\\\DS\\\\01-Python\\\\logging\\\\abcxyz\\\\test4.log\")"
   ]
  },
  {
   "cell_type": "code",
   "execution_count": null,
   "id": "849113c1",
   "metadata": {},
   "outputs": [],
   "source": []
  },
  {
   "cell_type": "code",
   "execution_count": null,
   "id": "9142d5c8",
   "metadata": {},
   "outputs": [],
   "source": []
  },
  {
   "cell_type": "code",
   "execution_count": null,
   "id": "2f070860",
   "metadata": {},
   "outputs": [],
   "source": []
  },
  {
   "cell_type": "code",
   "execution_count": null,
   "id": "cfd67143",
   "metadata": {},
   "outputs": [],
   "source": []
  },
  {
   "cell_type": "code",
   "execution_count": 55,
   "id": "83b9c7b7",
   "metadata": {},
   "outputs": [],
   "source": [
    "#13. write a function which will be able to shutdown your system"
   ]
  },
  {
   "cell_type": "code",
   "execution_count": 56,
   "id": "83c21755",
   "metadata": {},
   "outputs": [],
   "source": [
    "def sysshutdown():\n",
    "    \"\"\"\n",
    "    The function will ask you do you want to shutdown the system\n",
    "    \"\"\"\n",
    "    import os\n",
    "    sh = input(\"Do you want to shutdown your system:  \")\n",
    "    \n",
    "    if sh == \"yes\" or sh ==\"YES\":\n",
    "        os.system(\"shutdown /s /t 1\")\n",
    "    elif sh == \"no\" or sh == \"NO\":\n",
    "        exit()\n",
    "    else:\n",
    "        return \"Provide only yes or no as user parameter\"\n",
    "    "
   ]
  },
  {
   "cell_type": "code",
   "execution_count": 57,
   "id": "01b3d14e",
   "metadata": {},
   "outputs": [
    {
     "name": "stdout",
     "output_type": "stream",
     "text": [
      "Do you want to shutdown your system:  no\n"
     ]
    }
   ],
   "source": [
    "sysshutdown()"
   ]
  },
  {
   "cell_type": "code",
   "execution_count": null,
   "id": "06372cf5",
   "metadata": {},
   "outputs": [],
   "source": []
  },
  {
   "cell_type": "code",
   "execution_count": 2,
   "id": "86306e17",
   "metadata": {},
   "outputs": [],
   "source": [
    "# 14. wrtie a function which will be able to access you mail"
   ]
  },
  {
   "cell_type": "code",
   "execution_count": 5,
   "id": "939b12b5",
   "metadata": {},
   "outputs": [
    {
     "name": "stdout",
     "output_type": "stream",
     "text": [
      "enter you password : \n"
     ]
    }
   ],
   "source": [
    "import imaplib, email\n",
    "user = 'sachin22@gmail.com'\n",
    "password = input(\"enter you password : \")\n",
    "imap_url = 'imap.gamil.com'\n",
    "\n",
    "def get_body(msg):\n",
    "    pass\n",
    "    "
   ]
  },
  {
   "cell_type": "code",
   "execution_count": 6,
   "id": "49cb330e",
   "metadata": {},
   "outputs": [],
   "source": [
    "# 15. write a fun by which i can send a mail to anyone"
   ]
  },
  {
   "cell_type": "code",
   "execution_count": 14,
   "id": "2d8b2b87",
   "metadata": {},
   "outputs": [
    {
     "ename": "SMTPAuthenticationError",
     "evalue": "(535, b'5.7.8 Username and Password not accepted. Learn more at\\n5.7.8  https://support.google.com/mail/?p=BadCredentials c11sm31163079pfv.85 - gsmtp')",
     "output_type": "error",
     "traceback": [
      "\u001b[1;31m---------------------------------------------------------------------------\u001b[0m",
      "\u001b[1;31mSMTPAuthenticationError\u001b[0m                   Traceback (most recent call last)",
      "\u001b[1;32m~\\AppData\\Local\\Temp/ipykernel_2672/1822161730.py\u001b[0m in \u001b[0;36m<module>\u001b[1;34m\u001b[0m\n\u001b[0;32m     12\u001b[0m \u001b[0mcontext\u001b[0m \u001b[1;33m=\u001b[0m \u001b[0mssl\u001b[0m\u001b[1;33m.\u001b[0m\u001b[0mcreate_default_context\u001b[0m\u001b[1;33m(\u001b[0m\u001b[1;33m)\u001b[0m\u001b[1;33m\u001b[0m\u001b[1;33m\u001b[0m\u001b[0m\n\u001b[0;32m     13\u001b[0m \u001b[1;32mwith\u001b[0m \u001b[0msmtplib\u001b[0m\u001b[1;33m.\u001b[0m\u001b[0mSMTP_SSL\u001b[0m\u001b[1;33m(\u001b[0m\u001b[0mserver\u001b[0m\u001b[1;33m,\u001b[0m\u001b[0mport\u001b[0m\u001b[1;33m,\u001b[0m\u001b[0mcontext\u001b[0m\u001b[1;33m=\u001b[0m\u001b[0mcontext\u001b[0m\u001b[1;33m)\u001b[0m \u001b[1;32mas\u001b[0m \u001b[0mserver\u001b[0m\u001b[1;33m:\u001b[0m\u001b[1;33m\u001b[0m\u001b[1;33m\u001b[0m\u001b[0m\n\u001b[1;32m---> 14\u001b[1;33m     \u001b[0mserver\u001b[0m\u001b[1;33m.\u001b[0m\u001b[0mlogin\u001b[0m\u001b[1;33m(\u001b[0m\u001b[0msender\u001b[0m\u001b[1;33m,\u001b[0m\u001b[0mpassword\u001b[0m\u001b[1;33m)\u001b[0m\u001b[1;33m\u001b[0m\u001b[1;33m\u001b[0m\u001b[0m\n\u001b[0m\u001b[0;32m     15\u001b[0m     \u001b[0mserver\u001b[0m\u001b[1;33m.\u001b[0m\u001b[0msendmail\u001b[0m\u001b[1;33m(\u001b[0m\u001b[0msender\u001b[0m\u001b[1;33m,\u001b[0m\u001b[0mreciever\u001b[0m\u001b[1;33m,\u001b[0m\u001b[0mmessage\u001b[0m\u001b[1;33m)\u001b[0m\u001b[1;33m\u001b[0m\u001b[1;33m\u001b[0m\u001b[0m\n\u001b[0;32m     16\u001b[0m \u001b[1;33m\u001b[0m\u001b[0m\n",
      "\u001b[1;32m~\\anaconda3\\lib\\smtplib.py\u001b[0m in \u001b[0;36mlogin\u001b[1;34m(self, user, password, initial_response_ok)\u001b[0m\n\u001b[0;32m    748\u001b[0m \u001b[1;33m\u001b[0m\u001b[0m\n\u001b[0;32m    749\u001b[0m         \u001b[1;31m# We could not login successfully.  Return result of last attempt.\u001b[0m\u001b[1;33m\u001b[0m\u001b[1;33m\u001b[0m\u001b[0m\n\u001b[1;32m--> 750\u001b[1;33m         \u001b[1;32mraise\u001b[0m \u001b[0mlast_exception\u001b[0m\u001b[1;33m\u001b[0m\u001b[1;33m\u001b[0m\u001b[0m\n\u001b[0m\u001b[0;32m    751\u001b[0m \u001b[1;33m\u001b[0m\u001b[0m\n\u001b[0;32m    752\u001b[0m     \u001b[1;32mdef\u001b[0m \u001b[0mstarttls\u001b[0m\u001b[1;33m(\u001b[0m\u001b[0mself\u001b[0m\u001b[1;33m,\u001b[0m \u001b[0mkeyfile\u001b[0m\u001b[1;33m=\u001b[0m\u001b[1;32mNone\u001b[0m\u001b[1;33m,\u001b[0m \u001b[0mcertfile\u001b[0m\u001b[1;33m=\u001b[0m\u001b[1;32mNone\u001b[0m\u001b[1;33m,\u001b[0m \u001b[0mcontext\u001b[0m\u001b[1;33m=\u001b[0m\u001b[1;32mNone\u001b[0m\u001b[1;33m)\u001b[0m\u001b[1;33m:\u001b[0m\u001b[1;33m\u001b[0m\u001b[1;33m\u001b[0m\u001b[0m\n",
      "\u001b[1;32m~\\anaconda3\\lib\\smtplib.py\u001b[0m in \u001b[0;36mlogin\u001b[1;34m(self, user, password, initial_response_ok)\u001b[0m\n\u001b[0;32m    737\u001b[0m             \u001b[0mmethod_name\u001b[0m \u001b[1;33m=\u001b[0m \u001b[1;34m'auth_'\u001b[0m \u001b[1;33m+\u001b[0m \u001b[0mauthmethod\u001b[0m\u001b[1;33m.\u001b[0m\u001b[0mlower\u001b[0m\u001b[1;33m(\u001b[0m\u001b[1;33m)\u001b[0m\u001b[1;33m.\u001b[0m\u001b[0mreplace\u001b[0m\u001b[1;33m(\u001b[0m\u001b[1;34m'-'\u001b[0m\u001b[1;33m,\u001b[0m \u001b[1;34m'_'\u001b[0m\u001b[1;33m)\u001b[0m\u001b[1;33m\u001b[0m\u001b[1;33m\u001b[0m\u001b[0m\n\u001b[0;32m    738\u001b[0m             \u001b[1;32mtry\u001b[0m\u001b[1;33m:\u001b[0m\u001b[1;33m\u001b[0m\u001b[1;33m\u001b[0m\u001b[0m\n\u001b[1;32m--> 739\u001b[1;33m                 (code, resp) = self.auth(\n\u001b[0m\u001b[0;32m    740\u001b[0m                     \u001b[0mauthmethod\u001b[0m\u001b[1;33m,\u001b[0m \u001b[0mgetattr\u001b[0m\u001b[1;33m(\u001b[0m\u001b[0mself\u001b[0m\u001b[1;33m,\u001b[0m \u001b[0mmethod_name\u001b[0m\u001b[1;33m)\u001b[0m\u001b[1;33m,\u001b[0m\u001b[1;33m\u001b[0m\u001b[1;33m\u001b[0m\u001b[0m\n\u001b[0;32m    741\u001b[0m                     initial_response_ok=initial_response_ok)\n",
      "\u001b[1;32m~\\anaconda3\\lib\\smtplib.py\u001b[0m in \u001b[0;36mauth\u001b[1;34m(self, mechanism, authobject, initial_response_ok)\u001b[0m\n\u001b[0;32m    660\u001b[0m         \u001b[1;32mif\u001b[0m \u001b[0mcode\u001b[0m \u001b[1;32min\u001b[0m \u001b[1;33m(\u001b[0m\u001b[1;36m235\u001b[0m\u001b[1;33m,\u001b[0m \u001b[1;36m503\u001b[0m\u001b[1;33m)\u001b[0m\u001b[1;33m:\u001b[0m\u001b[1;33m\u001b[0m\u001b[1;33m\u001b[0m\u001b[0m\n\u001b[0;32m    661\u001b[0m             \u001b[1;32mreturn\u001b[0m \u001b[1;33m(\u001b[0m\u001b[0mcode\u001b[0m\u001b[1;33m,\u001b[0m \u001b[0mresp\u001b[0m\u001b[1;33m)\u001b[0m\u001b[1;33m\u001b[0m\u001b[1;33m\u001b[0m\u001b[0m\n\u001b[1;32m--> 662\u001b[1;33m         \u001b[1;32mraise\u001b[0m \u001b[0mSMTPAuthenticationError\u001b[0m\u001b[1;33m(\u001b[0m\u001b[0mcode\u001b[0m\u001b[1;33m,\u001b[0m \u001b[0mresp\u001b[0m\u001b[1;33m)\u001b[0m\u001b[1;33m\u001b[0m\u001b[1;33m\u001b[0m\u001b[0m\n\u001b[0m\u001b[0;32m    663\u001b[0m \u001b[1;33m\u001b[0m\u001b[0m\n\u001b[0;32m    664\u001b[0m     \u001b[1;32mdef\u001b[0m \u001b[0mauth_cram_md5\u001b[0m\u001b[1;33m(\u001b[0m\u001b[0mself\u001b[0m\u001b[1;33m,\u001b[0m \u001b[0mchallenge\u001b[0m\u001b[1;33m=\u001b[0m\u001b[1;32mNone\u001b[0m\u001b[1;33m)\u001b[0m\u001b[1;33m:\u001b[0m\u001b[1;33m\u001b[0m\u001b[1;33m\u001b[0m\u001b[0m\n",
      "\u001b[1;31mSMTPAuthenticationError\u001b[0m: (535, b'5.7.8 Username and Password not accepted. Learn more at\\n5.7.8  https://support.google.com/mail/?p=BadCredentials c11sm31163079pfv.85 - gsmtp')"
     ]
    }
   ],
   "source": [
    "import smtplib, ssl\n",
    "port = 465\n",
    "server = \"smtp.gmail.com\"\n",
    "sender = \"sachinpitale38@gmail.com\"\n",
    "reciever = \"sachinpitale22@gmail.com\"\n",
    "password = \"Shubh@ng!@$@ch!n\"\n",
    "message = \"\"\"\\\n",
    "Subject: Hi there\n",
    "\n",
    "This message is sent from Python.\"\"\"\n",
    "\n",
    "context = ssl.create_default_context()\n",
    "with smtplib.SMTP_SSL(server,port,context=context) as server:\n",
    "    server.login(sender,password)\n",
    "    server.sendmail(sender,reciever,message)\n",
    "\n"
   ]
  },
  {
   "cell_type": "code",
   "execution_count": null,
   "id": "4ba4179e",
   "metadata": {},
   "outputs": [],
   "source": []
  },
  {
   "cell_type": "code",
   "execution_count": null,
   "id": "dbea3626",
   "metadata": {},
   "outputs": [],
   "source": []
  },
  {
   "cell_type": "code",
   "execution_count": null,
   "id": "ac942fa2",
   "metadata": {},
   "outputs": [],
   "source": []
  },
  {
   "cell_type": "code",
   "execution_count": null,
   "id": "d9939adf",
   "metadata": {},
   "outputs": [],
   "source": []
  },
  {
   "cell_type": "code",
   "execution_count": 15,
   "id": "5374faa4",
   "metadata": {},
   "outputs": [],
   "source": [
    "# 16. write a func to read a complete PDF file"
   ]
  },
  {
   "cell_type": "code",
   "execution_count": 3,
   "id": "b0422281",
   "metadata": {},
   "outputs": [],
   "source": [
    "import PyPDF2"
   ]
  },
  {
   "cell_type": "code",
   "execution_count": 1,
   "id": "ed9b3606",
   "metadata": {},
   "outputs": [
    {
     "name": "stdout",
     "output_type": "stream",
     "text": [
      "Requirement already satisfied: PyPDF2 in c:\\users\\delll\\anaconda3\\lib\\site-packages (1.26.0)\n"
     ]
    }
   ],
   "source": []
  },
  {
   "cell_type": "code",
   "execution_count": 7,
   "id": "09fd40be",
   "metadata": {},
   "outputs": [
    {
     "name": "stdout",
     "output_type": "stream",
     "text": [
      "1\n",
      "\n"
     ]
    }
   ],
   "source": [
    "fileobj = open('C://Users//Delll//Downloads//S27494303D.pdf','rb')\n",
    "pdfreader = PyPDF2.PdfFileReader(fileobj)\n",
    "print(pdfreader.numPages)\n",
    "pageObj = pdfreader.getPage(0)\n",
    "print(pageObj.extractText())\n",
    "fileobj.close()\n"
   ]
  },
  {
   "cell_type": "code",
   "execution_count": 10,
   "id": "1032fd95",
   "metadata": {},
   "outputs": [],
   "source": [
    "# importing the required modules\n",
    "import PyPDF2\n",
    " \n",
    "def PDFrotate(origFileName, newFileName, rotation):\n",
    " \n",
    "    # creating a pdf File object of original pdf\n",
    "    pdfFileObj = open(origFileName, 'rb')\n",
    "     \n",
    "    # creating a pdf Reader object\n",
    "    pdfReader = PyPDF2.PdfFileReader(pdfFileObj)\n",
    " \n",
    "    # creating a pdf writer object for new pdf\n",
    "    pdfWriter = PyPDF2.PdfFileWriter()\n",
    "     \n",
    "    # rotating each page\n",
    "    for page in range(pdfReader.numPages):\n",
    " \n",
    "        # creating rotated page object\n",
    "        pageObj = pdfReader.getPage(page)\n",
    "        pageObj.rotateClockwise(rotation)\n",
    " \n",
    "        # adding rotated page object to pdf writer\n",
    "        pdfWriter.addPage(pageObj)\n",
    " \n",
    "    # new pdf file object\n",
    "    newFile = open(newFileName, 'wb')\n",
    "     \n",
    "    # writing rotated pages to new file\n",
    "    pdfWriter.write(newFile)\n",
    " \n",
    "    # closing the original pdf file object\n",
    "    pdfFileObj.close()\n",
    "     \n",
    "    # closing the new pdf file object\n",
    "    newFile.close()\n",
    "     \n",
    " \n",
    "def main():\n",
    " \n",
    "    # original pdf file name\n",
    "    origFileName = 'C://Users//Delll//Downloads//S27494303D.pdf'\n",
    "    \n",
    "    # new pdf file name\n",
    "    newFileName = 'rotated_example.pdf'\n",
    "     \n",
    "    # rotation angle\n",
    "    rotation = 270\n",
    "     \n",
    "    # calling the PDFrotate function\n",
    "    PDFrotate(origFileName, newFileName, rotation)\n",
    "     \n",
    "if __name__ == \"__main__\":\n",
    "    # calling the main function\n",
    "    main()"
   ]
  },
  {
   "cell_type": "code",
   "execution_count": null,
   "id": "e75b5b70",
   "metadata": {},
   "outputs": [],
   "source": []
  },
  {
   "cell_type": "code",
   "execution_count": 20,
   "id": "1edd1531",
   "metadata": {},
   "outputs": [
    {
     "ename": "ModuleNotFoundError",
     "evalue": "No module named 'exceptions'",
     "output_type": "error",
     "traceback": [
      "\u001b[1;31m---------------------------------------------------------------------------\u001b[0m",
      "\u001b[1;31mModuleNotFoundError\u001b[0m                       Traceback (most recent call last)",
      "\u001b[1;32m~\\AppData\\Local\\Temp/ipykernel_10824/2490520143.py\u001b[0m in \u001b[0;36m<module>\u001b[1;34m\u001b[0m\n\u001b[1;32m----> 1\u001b[1;33m \u001b[1;32mimport\u001b[0m \u001b[0mexceptions\u001b[0m\u001b[1;33m\u001b[0m\u001b[1;33m\u001b[0m\u001b[0m\n\u001b[0m",
      "\u001b[1;31mModuleNotFoundError\u001b[0m: No module named 'exceptions'"
     ]
    }
   ],
   "source": [
    "import exceptions"
   ]
  },
  {
   "cell_type": "code",
   "execution_count": 11,
   "id": "b4da4699",
   "metadata": {},
   "outputs": [],
   "source": [
    "# 17. Write a func to read a word file"
   ]
  },
  {
   "cell_type": "code",
   "execution_count": 4,
   "id": "752fec63",
   "metadata": {},
   "outputs": [
    {
     "name": "stdout",
     "output_type": "stream",
     "text": [
      "1. In the below elements which of them are values or an expression? eg:- values can be integer or string and expressions will be mathematical operators.\n",
      "* \n",
      "'hello'\n",
      "-87.8\n",
      "- \n",
      "/ \n",
      "\n",
      "6 \n",
      "\n",
      "2. What is the difference between string and variable?\n",
      "\n",
      "3. Describe three different data types.\n",
      "\n",
      "4. What is an expression made up of? What do all expressions do?\n",
      "5. This assignment statements, like spam = 10. What is the difference between an expression and a statement?\n",
      "6. After running the following code, what does the variable bacon contain?\n",
      "bacon = 22\n",
      "bacon + 1\n",
      "\n",
      "7. What should the values of the following two terms be?\n",
      "'spam' + 'spamspam'\n",
      "'spam' * 3\n",
      "\n",
      "8. Why is eggs a valid variable name while 100 is invalid?\n",
      "9. What three functions can be used to get the integer, floating-point number, or string version of a value?\n",
      "10. Why does this expression cause an error? How can you fix it?\n",
      "'I have eaten ' + 99 + ' burritos.'\n",
      "\n",
      "\n"
     ]
    }
   ],
   "source": [
    "import docx\n",
    "doc = docx.Document('C://Users//Delll//Downloads//Assignment_1.docx')\n",
    "all_paras = doc.paragraphs\n",
    "len(all_paras)\n",
    "\n",
    "for para in all_paras:\n",
    "    print(para.text)"
   ]
  },
  {
   "cell_type": "code",
   "execution_count": 7,
   "id": "20644c5d",
   "metadata": {},
   "outputs": [],
   "source": [
    "def readdocxfile(x):\n",
    "    \"\"\"\n",
    "    The function will accept one argument as docx file and display the content of the file\n",
    "    \n",
    "    \"\"\"\n",
    "    import os\n",
    "    import docx\n",
    "    if os.path.exists(x):\n",
    "        if x.endswith(\".docx\"):\n",
    "            doc = docx.Document(x)\n",
    "            all_paras = doc.paragraphs\n",
    "            len(all_paras)\n",
    "\n",
    "            for para in all_paras:\n",
    "                print(para.text)\n",
    "        else:\n",
    "            return \"Provide only .docx file to display the content\"\n",
    "    else:\n",
    "        return \"User provided file doesn't exist on filesystem\"\n",
    "            "
   ]
  },
  {
   "cell_type": "code",
   "execution_count": 6,
   "id": "e459d18e",
   "metadata": {},
   "outputs": [
    {
     "name": "stdout",
     "output_type": "stream",
     "text": [
      "1. In the below elements which of them are values or an expression? eg:- values can be integer or string and expressions will be mathematical operators.\n",
      "* \n",
      "'hello'\n",
      "-87.8\n",
      "- \n",
      "/ \n",
      "\n",
      "6 \n",
      "\n",
      "2. What is the difference between string and variable?\n",
      "\n",
      "3. Describe three different data types.\n",
      "\n",
      "4. What is an expression made up of? What do all expressions do?\n",
      "5. This assignment statements, like spam = 10. What is the difference between an expression and a statement?\n",
      "6. After running the following code, what does the variable bacon contain?\n",
      "bacon = 22\n",
      "bacon + 1\n",
      "\n",
      "7. What should the values of the following two terms be?\n",
      "'spam' + 'spamspam'\n",
      "'spam' * 3\n",
      "\n",
      "8. Why is eggs a valid variable name while 100 is invalid?\n",
      "9. What three functions can be used to get the integer, floating-point number, or string version of a value?\n",
      "10. Why does this expression cause an error? How can you fix it?\n",
      "'I have eaten ' + 99 + ' burritos.'\n",
      "\n",
      "\n"
     ]
    }
   ],
   "source": [
    "readdocxfile('C://Users//Delll//Downloads//Assignment_1.docx')"
   ]
  },
  {
   "cell_type": "code",
   "execution_count": 9,
   "id": "a8488d98",
   "metadata": {},
   "outputs": [
    {
     "data": {
      "text/plain": [
       "\"User provided file doesn't exist on filesystem\""
      ]
     },
     "execution_count": 9,
     "metadata": {},
     "output_type": "execute_result"
    }
   ],
   "source": [
    "readdocxfile('C://Users//Delll//Downloads//Assignment_2.docx')"
   ]
  },
  {
   "cell_type": "code",
   "execution_count": 10,
   "id": "72b09381",
   "metadata": {},
   "outputs": [
    {
     "data": {
      "text/plain": [
       "'Provide only .docx file to display the content'"
      ]
     },
     "execution_count": 10,
     "metadata": {},
     "output_type": "execute_result"
    }
   ],
   "source": [
    "readdocxfile('C://Users//Delll//Downloads//S27494303D.pdf')"
   ]
  },
  {
   "cell_type": "code",
   "execution_count": null,
   "id": "ebdc10fd",
   "metadata": {},
   "outputs": [],
   "source": []
  },
  {
   "cell_type": "code",
   "execution_count": 11,
   "id": "e4decaee",
   "metadata": {},
   "outputs": [],
   "source": [
    "# 18. Write a function which can help you to filter only word file from a directory"
   ]
  },
  {
   "cell_type": "code",
   "execution_count": 12,
   "id": "875cf789",
   "metadata": {},
   "outputs": [],
   "source": [
    "def findwordfile(x):\n",
    "    \"\"\"\n",
    "    The function will take an argument as directory path name and give output as all docx file\n",
    "    \"\"\"\n",
    "    import os, docx\n",
    "    l = []\n",
    "    if os.path.exists(x):\n",
    "        os.chdir(x)\n",
    "        for i in os.listdir():\n",
    "            if i.endswith(\".docx\"):\n",
    "                l.append(i)\n",
    "    else:\n",
    "        return \"User provided file doesn't exist on filesystem\"\n",
    "    \n",
    "    \n",
    "    return l"
   ]
  },
  {
   "cell_type": "code",
   "execution_count": 14,
   "id": "3dec2723",
   "metadata": {},
   "outputs": [
    {
     "data": {
      "text/plain": [
       "\"User provided file doesn't exist on filesystem\""
      ]
     },
     "execution_count": 14,
     "metadata": {},
     "output_type": "execute_result"
    }
   ],
   "source": [
    "findwordfile('C://Users//Delll//Downloads')"
   ]
  },
  {
   "cell_type": "code",
   "execution_count": 15,
   "id": "a10031b6",
   "metadata": {},
   "outputs": [
    {
     "data": {
      "text/plain": [
       "\"User provided file doesn't exist on filesystem\""
      ]
     },
     "execution_count": 15,
     "metadata": {},
     "output_type": "execute_result"
    }
   ],
   "source": [
    "findwordfile('C://Users//Delll//Downloadsdafda')"
   ]
  },
  {
   "cell_type": "code",
   "execution_count": 16,
   "id": "23ca1c7d",
   "metadata": {},
   "outputs": [],
   "source": [
    "# 19. write a function by which you can print an ip address of your system"
   ]
  },
  {
   "cell_type": "code",
   "execution_count": 17,
   "id": "5dd0ab03",
   "metadata": {},
   "outputs": [],
   "source": [
    "import socket"
   ]
  },
  {
   "cell_type": "code",
   "execution_count": 18,
   "id": "480be720",
   "metadata": {},
   "outputs": [
    {
     "name": "stdout",
     "output_type": "stream",
     "text": [
      "Your Computer Name is:DESKTOP-D2GQ5FK\n",
      "Your Computer IP Address is:192.168.0.102\n"
     ]
    }
   ],
   "source": [
    "hostname = socket.gethostname()   \n",
    "IPAddr = socket.gethostbyname(hostname)  \n",
    "print(\"Your Computer Name is:\" + hostname)   \n",
    "print(\"Your Computer IP Address is:\" + IPAddr)  "
   ]
  },
  {
   "cell_type": "code",
   "execution_count": 25,
   "id": "7479dcb6",
   "metadata": {},
   "outputs": [],
   "source": [
    "def getipaddressoflocalsys():\n",
    "    \"\"\"\n",
    "    It will print Computer ip address\n",
    "    \"\"\"\n",
    "    host = socket.gethostname()   \n",
    "    IP = socket.gethostbyname(host)\n",
    "    print(\"Your Computer IP Address is:  \" + IPAddr) "
   ]
  },
  {
   "cell_type": "code",
   "execution_count": 26,
   "id": "29c1ac13",
   "metadata": {},
   "outputs": [
    {
     "name": "stdout",
     "output_type": "stream",
     "text": [
      "Your Computer IP Address is:  192.168.0.102\n"
     ]
    }
   ],
   "source": [
    "getipaddressoflocalsys()"
   ]
  },
  {
   "cell_type": "code",
   "execution_count": 27,
   "id": "980ab465",
   "metadata": {},
   "outputs": [],
   "source": [
    "# 20. wrtie a function by which you will be able to append two PDF files  "
   ]
  },
  {
   "cell_type": "code",
   "execution_count": null,
   "id": "f1c97b24",
   "metadata": {},
   "outputs": [],
   "source": []
  }
 ],
 "metadata": {
  "kernelspec": {
   "display_name": "Python 3 (ipykernel)",
   "language": "python",
   "name": "python3"
  },
  "language_info": {
   "codemirror_mode": {
    "name": "ipython",
    "version": 3
   },
   "file_extension": ".py",
   "mimetype": "text/x-python",
   "name": "python",
   "nbconvert_exporter": "python",
   "pygments_lexer": "ipython3",
   "version": "3.9.7"
  }
 },
 "nbformat": 4,
 "nbformat_minor": 5
}
