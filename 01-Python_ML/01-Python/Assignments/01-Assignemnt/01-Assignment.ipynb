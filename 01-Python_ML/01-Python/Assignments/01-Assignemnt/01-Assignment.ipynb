{
 "cells": [
  {
   "cell_type": "code",
   "execution_count": 1,
   "id": "0287fd5b",
   "metadata": {},
   "outputs": [
    {
     "data": {
      "text/plain": [
       "'\\nQ1: Create a class name as Data \\n   define the following class variable\\n   1. file name\\n   2. filetype\\n   3. date\\n   4. filesize\\n   \\ncreate a function name as open_file and do following tasks\\n1. create a file if not exist\\n2. write something in file\\n\\ncreate a new function name as read_file and do following tasks\\n1. read the content of the file\\n\\ncreate a function name as append data in file and show the content.\\n\\n'"
      ]
     },
     "execution_count": 1,
     "metadata": {},
     "output_type": "execute_result"
    }
   ],
   "source": [
    "\"\"\"\n",
    "Q1: Create a class name as Data \n",
    "   define the following class variable\n",
    "   1. file name\n",
    "   2. filetype\n",
    "   3. date\n",
    "   4. filesize\n",
    "   \n",
    "create a function name as open_file and do following tasks\n",
    "1. create a file if not exist\n",
    "2. write something in file\n",
    "\n",
    "create a new function name as read_file and do following tasks\n",
    "1. read the content of the file\n",
    "\n",
    "create a function name as append data in file and show the content.\n",
    "\n",
    "\"\"\"\n"
   ]
  },
  {
   "cell_type": "code",
   "execution_count": null,
   "id": "7c361f01",
   "metadata": {},
   "outputs": [],
   "source": []
  },
  {
   "cell_type": "code",
   "execution_count": null,
   "id": "e2c238be",
   "metadata": {},
   "outputs": [],
   "source": []
  },
  {
   "cell_type": "code",
   "execution_count": 26,
   "id": "e9af8125",
   "metadata": {},
   "outputs": [],
   "source": [
    "import os\n",
    "class data:\n",
    "    def __init__(self,file_name,file_type,date,size):\n",
    "        self.fname = file_name\n",
    "        self.ftype = file_type\n",
    "        self.date = date\n",
    "        self.size = size\n",
    "    \n",
    "    def open_file(self):\n",
    "        if not  os.path.isfile(self.fname):\n",
    "            f = open(self.fname,'w')\n",
    "            f.write(\"This file is created by oops programming\")\n",
    "            f.close()\n",
    "        else:\n",
    "            print (\"File is already exist\")\n",
    "    def read_file(self):\n",
    "        if os.path.isfile(self.fname):\n",
    "            f = open(self.fname, 'r')\n",
    "            print(f.read())\n",
    "            f.close()\n",
    "        \n",
    "    def append_data(self,data):\n",
    "        if os.path.isfile(self.fname):\n",
    "            f = open(self.fname, 'a')\n",
    "            f.write(data)\n",
    "            f.close()\n",
    "            self.read_file()"
   ]
  },
  {
   "cell_type": "code",
   "execution_count": 27,
   "id": "5a4d5021",
   "metadata": {},
   "outputs": [],
   "source": [
    "test1 = data('test1.txt','txt','27122021',4)"
   ]
  },
  {
   "cell_type": "code",
   "execution_count": 28,
   "id": "14d957ec",
   "metadata": {},
   "outputs": [
    {
     "name": "stdout",
     "output_type": "stream",
     "text": [
      "File is already exist\n"
     ]
    }
   ],
   "source": [
    "test1.open_file()"
   ]
  },
  {
   "cell_type": "code",
   "execution_count": 29,
   "id": "7e26426c",
   "metadata": {},
   "outputs": [
    {
     "name": "stdout",
     "output_type": "stream",
     "text": [
      "This file is created by oops programmingData is append by data class append data methodData is append by data class append data method\n"
     ]
    }
   ],
   "source": [
    "test1.read_file()"
   ]
  },
  {
   "cell_type": "code",
   "execution_count": 30,
   "id": "63378c81",
   "metadata": {},
   "outputs": [
    {
     "name": "stdout",
     "output_type": "stream",
     "text": [
      "This file is created by oops programmingData is append by data class append data methodData is append by data class append data methoduser provided data\n"
     ]
    }
   ],
   "source": [
    "test1.append_data(\"user provided data\")"
   ]
  },
  {
   "cell_type": "code",
   "execution_count": null,
   "id": "c4d50e66",
   "metadata": {},
   "outputs": [],
   "source": []
  }
 ],
 "metadata": {
  "kernelspec": {
   "display_name": "Python 3 (ipykernel)",
   "language": "python",
   "name": "python3"
  },
  "language_info": {
   "codemirror_mode": {
    "name": "ipython",
    "version": 3
   },
   "file_extension": ".py",
   "mimetype": "text/x-python",
   "name": "python",
   "nbconvert_exporter": "python",
   "pygments_lexer": "ipython3",
   "version": "3.9.7"
  }
 },
 "nbformat": 4,
 "nbformat_minor": 5
}
