{
 "cells": [
  {
   "cell_type": "code",
   "execution_count": null,
   "id": "e7caf940",
   "metadata": {},
   "outputs": [],
   "source": [
    "\"\"\"\n",
    "Q:\n",
    "1. Create a two following class\n",
    "    a. test\n",
    "    b. test1\n",
    "2. Create function as a() in both the class and print some unique string\n",
    "3. Create a third class is name test2 with test, test1 parent class.\n",
    "4. Try to access a() function from test and test1 classes\n",
    "\"\"\""
   ]
  },
  {
   "cell_type": "code",
   "execution_count": null,
   "id": "48a0dcb9",
   "metadata": {},
   "outputs": [],
   "source": []
  },
  {
   "cell_type": "code",
   "execution_count": 1,
   "id": "0f43dbaa",
   "metadata": {},
   "outputs": [],
   "source": [
    "class test:\n",
    "    def __init__(self):\n",
    "        pass\n",
    "    def a(self):\n",
    "        return \"This is test class a function\"\n",
    "    def __str__(self):\n",
    "        return \"It is test class\""
   ]
  },
  {
   "cell_type": "code",
   "execution_count": null,
   "id": "53313fa0",
   "metadata": {},
   "outputs": [],
   "source": []
  },
  {
   "cell_type": "code",
   "execution_count": 15,
   "id": "ac07ae1c",
   "metadata": {},
   "outputs": [],
   "source": [
    "class test1:\n",
    "    def __init__(self):\n",
    "        pass\n",
    "    def a(self):\n",
    "        return \"This is test1 class a function\"\n",
    "    def __str__(self):\n",
    "        return \"It is test1 class\""
   ]
  },
  {
   "cell_type": "code",
   "execution_count": null,
   "id": "ce69c028",
   "metadata": {},
   "outputs": [],
   "source": []
  },
  {
   "cell_type": "code",
   "execution_count": 61,
   "id": "82a10f2a",
   "metadata": {},
   "outputs": [],
   "source": [
    "class test2(test,test1):\n",
    "    def __init__(self):\n",
    "        pass\n",
    "        \n",
    "\n",
    "\n",
    "\n"
   ]
  },
  {
   "cell_type": "code",
   "execution_count": 62,
   "id": "20a0c8fc",
   "metadata": {},
   "outputs": [],
   "source": [
    "b = test2()"
   ]
  },
  {
   "cell_type": "code",
   "execution_count": 63,
   "id": "12fe2bfe",
   "metadata": {},
   "outputs": [
    {
     "name": "stdout",
     "output_type": "stream",
     "text": [
      "test1 class\n"
     ]
    }
   ],
   "source": [
    "test1.a(b)"
   ]
  },
  {
   "cell_type": "code",
   "execution_count": 64,
   "id": "6f5a50e3",
   "metadata": {},
   "outputs": [
    {
     "name": "stdout",
     "output_type": "stream",
     "text": [
      "test class\n"
     ]
    }
   ],
   "source": [
    "test.a(b)"
   ]
  },
  {
   "cell_type": "code",
   "execution_count": null,
   "id": "6e2664dd",
   "metadata": {},
   "outputs": [],
   "source": []
  },
  {
   "cell_type": "code",
   "execution_count": null,
   "id": "9485e30c",
   "metadata": {},
   "outputs": [],
   "source": []
  },
  {
   "cell_type": "code",
   "execution_count": 57,
   "id": "57cdeb5e",
   "metadata": {},
   "outputs": [
    {
     "name": "stdout",
     "output_type": "stream",
     "text": [
      "test class\n",
      "test1 class\n",
      "test2 class\n"
     ]
    }
   ],
   "source": [
    "class test:\n",
    "    def a(self):\n",
    "        print(\"test class\")\n",
    "\n",
    "class test1:\n",
    "    def a(self):\n",
    "        print(\"test1 class\")\n",
    "\n",
    "class test2(test,test1):\n",
    "    def a(self):\n",
    "        test.a(self)\n",
    "        test1.a(self)\n",
    "    "
   ]
  },
  {
   "cell_type": "code",
   "execution_count": 66,
   "id": "adfe30d8",
   "metadata": {},
   "outputs": [],
   "source": [
    "t = test2()"
   ]
  },
  {
   "cell_type": "code",
   "execution_count": 67,
   "id": "ca759628",
   "metadata": {},
   "outputs": [
    {
     "name": "stdout",
     "output_type": "stream",
     "text": [
      "test class\n"
     ]
    }
   ],
   "source": [
    "t.a()"
   ]
  },
  {
   "cell_type": "code",
   "execution_count": null,
   "id": "89cfe473",
   "metadata": {},
   "outputs": [],
   "source": []
  }
 ],
 "metadata": {
  "kernelspec": {
   "display_name": "Python 3 (ipykernel)",
   "language": "python",
   "name": "python3"
  },
  "language_info": {
   "codemirror_mode": {
    "name": "ipython",
    "version": 3
   },
   "file_extension": ".py",
   "mimetype": "text/x-python",
   "name": "python",
   "nbconvert_exporter": "python",
   "pygments_lexer": "ipython3",
   "version": "3.9.7"
  }
 },
 "nbformat": 4,
 "nbformat_minor": 5
}
