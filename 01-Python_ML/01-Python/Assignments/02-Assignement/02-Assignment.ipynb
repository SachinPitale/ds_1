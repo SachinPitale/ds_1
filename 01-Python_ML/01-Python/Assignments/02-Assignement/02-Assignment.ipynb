{
 "cells": [
  {
   "cell_type": "code",
   "execution_count": null,
   "id": "3c7afb03",
   "metadata": {},
   "outputs": [],
   "source": [
    "\"\"\"\n",
    "Q1: Create a class name as Data \n",
    "   define the following class variable\n",
    "   1. file name\n",
    "   2. filetype\n",
    "   3. date\n",
    "   4. filesize\n",
    "   \n",
    "create a function name as open_file and do following tasks\n",
    "1. create a file if not exist\n",
    "2. write something in file\n",
    "\n",
    "create a new function name as read_file and do following tasks\n",
    "1. read the content of the file\n",
    "\n",
    "create a function name as append data in file and show the content.\n",
    "\n",
    "used exception handling and logging for this class\n",
    "\"\"\""
   ]
  },
  {
   "cell_type": "code",
   "execution_count": null,
   "id": "2f2e21fc",
   "metadata": {},
   "outputs": [],
   "source": []
  },
  {
   "cell_type": "code",
   "execution_count": 52,
   "id": "a821f2bb",
   "metadata": {},
   "outputs": [],
   "source": [
    "import os\n",
    "import logging as lg\n",
    "class data:\n",
    "    def __init__(self,file_name,file_type,date,size):\n",
    "        self.fname = file_name\n",
    "        self.ftype = file_type\n",
    "        self.date = date\n",
    "        self.size = size\n",
    "    \n",
    "    lg.basicConfig(filename = 'data.log', level=lg.ERROR, format= '%(asctime)s %(message)s')\n",
    "    \n",
    "    def log_write(self,error):\n",
    "        lg.error(error)\n",
    "        \n",
    "    \n",
    "    def open_file(self):\n",
    "        if not  os.path.isfile(self.fname):\n",
    "            try:\n",
    "                f = open(self.fname,'w')\n",
    "            except Exception as e:\n",
    "                self.log_write(e)\n",
    "            else:\n",
    "                f.write(\"This file is created by oops programming\")\n",
    "                f.close()\n",
    "        else:\n",
    "            self.log_write(\"File is already exist\")\n",
    "            \n",
    "    def read_file(self):\n",
    "        try:\n",
    "            f = open(self.fname, 'r')\n",
    "        except Exception as e:\n",
    "            print(e)\n",
    "            self.log_write(e)\n",
    "        else:\n",
    "            print(f.read())\n",
    "            f.close()\n",
    "        \n",
    "    def append_data(self,data):\n",
    "        if os.path.isfile(self.fname):\n",
    "            try:\n",
    "                f = open(self.fname, 'a')\n",
    "            except Exception as e:\n",
    "                self.log_write(e)\n",
    "                print(e)\n",
    "            else:\n",
    "                f.write(data)\n",
    "                f.close()\n",
    "                self.read_file()"
   ]
  },
  {
   "cell_type": "code",
   "execution_count": 54,
   "id": "243d4cf5",
   "metadata": {},
   "outputs": [],
   "source": [
    "test1 = data('test1.txt','txt','27122021',4)"
   ]
  },
  {
   "cell_type": "code",
   "execution_count": 55,
   "id": "7dd43f03",
   "metadata": {},
   "outputs": [],
   "source": [
    "test1.open_file()"
   ]
  },
  {
   "cell_type": "code",
   "execution_count": 58,
   "id": "7b98f606",
   "metadata": {},
   "outputs": [],
   "source": [
    "test2 = data('test2.txt','txt','27122021',4)"
   ]
  },
  {
   "cell_type": "code",
   "execution_count": 35,
   "id": "a7ebce71",
   "metadata": {},
   "outputs": [
    {
     "name": "stdout",
     "output_type": "stream",
     "text": [
      "[Errno 2] No such file or directory: 'test2.txt'\n"
     ]
    }
   ],
   "source": [
    "test2.read_file()"
   ]
  },
  {
   "cell_type": "code",
   "execution_count": 61,
   "id": "79aa788c",
   "metadata": {},
   "outputs": [
    {
     "name": "stdout",
     "output_type": "stream",
     "text": [
      "This file is created by oops programmingnew textnew textadfa  new textadfa\n"
     ]
    }
   ],
   "source": [
    "test1.append_data(\"  new textadfa\")"
   ]
  },
  {
   "cell_type": "code",
   "execution_count": 62,
   "id": "91bb4977",
   "metadata": {},
   "outputs": [],
   "source": [
    "test2.append_data(\"nex text\")"
   ]
  },
  {
   "cell_type": "code",
   "execution_count": 63,
   "id": "be6a2ca8",
   "metadata": {},
   "outputs": [],
   "source": [
    "test2.append_data(\"new text\")"
   ]
  },
  {
   "cell_type": "code",
   "execution_count": 65,
   "id": "37e57d9d",
   "metadata": {},
   "outputs": [],
   "source": []
  },
  {
   "cell_type": "code",
   "execution_count": null,
   "id": "26a844ff",
   "metadata": {},
   "outputs": [],
   "source": [
    "import os\n",
    "import logging as lg\n",
    "class data:\n",
    "    def __init__(self,file_name,file_type,date,size):\n",
    "        self.fname = file_name\n",
    "        self.ftype = file_type\n",
    "        self.date = date\n",
    "        self.size = size\n",
    "    \n",
    "    lg.basicConfig(filename = 'data.log', level=lg.ERROR, format= '%(asctime)s %(message)s')\n",
    "    \n",
    "    def log_write(self,error):\n",
    "        lg.error(error)\n",
    "        \n",
    "    \n",
    "    def open_file(self):\n",
    "        if not  os.path.isfile(self.fname):\n",
    "            try:\n",
    "                f = open(self.fname,'w')\n",
    "            except Exception as e:\n",
    "                self.log_write(e)\n",
    "            else:\n",
    "                f.write(\"This file is created by oops programming\")\n",
    "                f.close()\n",
    "        else:\n",
    "            self.log_write(\"File is already exist\")\n",
    "            \n",
    "    def read_file(self):\n",
    "        if \n",
    "        try:\n",
    "            f = open(self.fname, 'r')\n",
    "        except Exception as e:\n",
    "            print(e)\n",
    "            self.log_write(e)\n",
    "        else:\n",
    "            print(f.read())\n",
    "            f.close()\n",
    "        \n",
    "    def append_data(self,data):\n",
    "        if os.path.isfile(self.fname):\n",
    "            try:\n",
    "                f = open(self.fname, 'a')\n",
    "            except Exception as e:\n",
    "                self.log_write(e)\n",
    "                print(e)\n",
    "            else:\n",
    "                f.write(data)\n",
    "                f.close()\n",
    "                self.read_file()"
   ]
  }
 ],
 "metadata": {
  "kernelspec": {
   "display_name": "Python 3 (ipykernel)",
   "language": "python",
   "name": "python3"
  },
  "language_info": {
   "codemirror_mode": {
    "name": "ipython",
    "version": 3
   },
   "file_extension": ".py",
   "mimetype": "text/x-python",
   "name": "python",
   "nbconvert_exporter": "python",
   "pygments_lexer": "ipython3",
   "version": "3.9.7"
  }
 },
 "nbformat": 4,
 "nbformat_minor": 5
}
