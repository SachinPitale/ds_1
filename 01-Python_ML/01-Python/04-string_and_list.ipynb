{
 "cells": [
  {
   "cell_type": "code",
   "execution_count": 1,
   "id": "928b7024",
   "metadata": {},
   "outputs": [],
   "source": [
    "a = \"sachin\""
   ]
  },
  {
   "cell_type": "code",
   "execution_count": 2,
   "id": "9de7bf0b",
   "metadata": {},
   "outputs": [],
   "source": [
    "b = 'sachin'"
   ]
  },
  {
   "cell_type": "code",
   "execution_count": 3,
   "id": "d995c92c",
   "metadata": {},
   "outputs": [
    {
     "data": {
      "text/plain": [
       "'sachin'"
      ]
     },
     "execution_count": 3,
     "metadata": {},
     "output_type": "execute_result"
    }
   ],
   "source": [
    "a"
   ]
  },
  {
   "cell_type": "code",
   "execution_count": 4,
   "id": "1039cd6c",
   "metadata": {},
   "outputs": [
    {
     "data": {
      "text/plain": [
       "'sachin'"
      ]
     },
     "execution_count": 4,
     "metadata": {},
     "output_type": "execute_result"
    }
   ],
   "source": [
    "b"
   ]
  },
  {
   "cell_type": "code",
   "execution_count": 5,
   "id": "9e2b87ea",
   "metadata": {},
   "outputs": [
    {
     "data": {
      "text/plain": [
       "('sachin', 'sachin')"
      ]
     },
     "execution_count": 5,
     "metadata": {},
     "output_type": "execute_result"
    }
   ],
   "source": [
    "a,b"
   ]
  },
  {
   "cell_type": "code",
   "execution_count": 9,
   "id": "8e0fcb5c",
   "metadata": {},
   "outputs": [],
   "source": [
    "c = \"this is my first class for full stack data science batch, that's why i have joined the class\""
   ]
  },
  {
   "cell_type": "code",
   "execution_count": 10,
   "id": "827cc298",
   "metadata": {},
   "outputs": [
    {
     "data": {
      "text/plain": [
       "\"this is my first class for full stack data science batch, that's why i have joined the class\""
      ]
     },
     "execution_count": 10,
     "metadata": {},
     "output_type": "execute_result"
    }
   ],
   "source": [
    "c"
   ]
  },
  {
   "cell_type": "code",
   "execution_count": 11,
   "id": "4206e3eb",
   "metadata": {},
   "outputs": [],
   "source": [
    "z = 'this is my first class for full stack data science batch, that\"s why i have joined the class'"
   ]
  },
  {
   "cell_type": "code",
   "execution_count": 12,
   "id": "015a5e3e",
   "metadata": {},
   "outputs": [
    {
     "data": {
      "text/plain": [
       "'this is my first class for full stack data science batch, that\"s why i have joined the class'"
      ]
     },
     "execution_count": 12,
     "metadata": {},
     "output_type": "execute_result"
    }
   ],
   "source": [
    "z"
   ]
  },
  {
   "cell_type": "code",
   "execution_count": 9,
   "id": "2be246a7",
   "metadata": {},
   "outputs": [],
   "source": [
    "s = \"this is my full stack  class\""
   ]
  },
  {
   "cell_type": "code",
   "execution_count": 12,
   "id": "37123af8",
   "metadata": {},
   "outputs": [
    {
     "name": "stdout",
     "output_type": "stream",
     "text": [
      "ssalc  kcats lluf ym si siht"
     ]
    }
   ],
   "source": [
    "l = len(s)\n",
    "\n",
    "a = 1\n",
    "while l >= a:\n",
    "    print(s[-a], end=\"\")\n",
    "    a = a + 1 \n",
    "    "
   ]
  },
  {
   "cell_type": "code",
   "execution_count": 5,
   "id": "05c4e5eb",
   "metadata": {},
   "outputs": [],
   "source": [
    "l = len(s) +1"
   ]
  },
  {
   "cell_type": "code",
   "execution_count": 6,
   "id": "b0e46579",
   "metadata": {},
   "outputs": [
    {
     "data": {
      "text/plain": [
       "29"
      ]
     },
     "execution_count": 6,
     "metadata": {},
     "output_type": "execute_result"
    }
   ],
   "source": [
    "l"
   ]
  },
  {
   "cell_type": "code",
   "execution_count": 14,
   "id": "c286e02d",
   "metadata": {},
   "outputs": [
    {
     "data": {
      "text/plain": [
       "'t'"
      ]
     },
     "execution_count": 14,
     "metadata": {},
     "output_type": "execute_result"
    }
   ],
   "source": [
    "s[0]"
   ]
  },
  {
   "cell_type": "code",
   "execution_count": 15,
   "id": "bbe53338",
   "metadata": {},
   "outputs": [
    {
     "data": {
      "text/plain": [
       "'s'"
      ]
     },
     "execution_count": 15,
     "metadata": {},
     "output_type": "execute_result"
    }
   ],
   "source": [
    "s[-1]"
   ]
  },
  {
   "cell_type": "code",
   "execution_count": 16,
   "id": "92460347",
   "metadata": {},
   "outputs": [
    {
     "data": {
      "text/plain": [
       "28"
      ]
     },
     "execution_count": 16,
     "metadata": {},
     "output_type": "execute_result"
    }
   ],
   "source": [
    "len(s)"
   ]
  },
  {
   "cell_type": "code",
   "execution_count": 17,
   "id": "d1348d45",
   "metadata": {},
   "outputs": [
    {
     "ename": "IndexError",
     "evalue": "string index out of range",
     "output_type": "error",
     "traceback": [
      "\u001b[1;31m---------------------------------------------------------------------------\u001b[0m",
      "\u001b[1;31mIndexError\u001b[0m                                Traceback (most recent call last)",
      "\u001b[1;32m~\\AppData\\Local\\Temp/ipykernel_4988/2390001549.py\u001b[0m in \u001b[0;36m<module>\u001b[1;34m\u001b[0m\n\u001b[1;32m----> 1\u001b[1;33m \u001b[0ms\u001b[0m\u001b[1;33m[\u001b[0m\u001b[1;36m100\u001b[0m\u001b[1;33m]\u001b[0m\u001b[1;33m\u001b[0m\u001b[1;33m\u001b[0m\u001b[0m\n\u001b[0m",
      "\u001b[1;31mIndexError\u001b[0m: string index out of range"
     ]
    }
   ],
   "source": [
    "s[100]"
   ]
  },
  {
   "cell_type": "code",
   "execution_count": 18,
   "id": "85806b00",
   "metadata": {},
   "outputs": [
    {
     "data": {
      "text/plain": [
       "' is my full stac'"
      ]
     },
     "execution_count": 18,
     "metadata": {},
     "output_type": "execute_result"
    }
   ],
   "source": [
    "s[4:20]"
   ]
  },
  {
   "cell_type": "code",
   "execution_count": 20,
   "id": "85230065",
   "metadata": {},
   "outputs": [
    {
     "data": {
      "text/plain": [
       "' is my full stack  class'"
      ]
     },
     "execution_count": 20,
     "metadata": {},
     "output_type": "execute_result"
    }
   ],
   "source": [
    "s[4:100]"
   ]
  },
  {
   "cell_type": "code",
   "execution_count": 22,
   "id": "27b83042",
   "metadata": {},
   "outputs": [
    {
     "data": {
      "text/plain": [
       "'ssalc  kc'"
      ]
     },
     "execution_count": 22,
     "metadata": {},
     "output_type": "execute_result"
    }
   ],
   "source": [
    "s[-1:-10:-1]"
   ]
  },
  {
   "cell_type": "code",
   "execution_count": 23,
   "id": "d83576aa",
   "metadata": {},
   "outputs": [
    {
     "data": {
      "text/plain": [
       "'this is my full stack  class'"
      ]
     },
     "execution_count": 23,
     "metadata": {},
     "output_type": "execute_result"
    }
   ],
   "source": [
    "s"
   ]
  },
  {
   "cell_type": "code",
   "execution_count": 28,
   "id": "88f39103",
   "metadata": {},
   "outputs": [
    {
     "name": "stdout",
     "output_type": "stream",
     "text": [
      "this is my full stack  class"
     ]
    }
   ],
   "source": [
    "for i in s:\n",
    "    print(i, end=\"\")"
   ]
  },
  {
   "cell_type": "code",
   "execution_count": 33,
   "id": "53c6e361",
   "metadata": {},
   "outputs": [
    {
     "data": {
      "text/plain": [
       "<reversed at 0x196de29d460>"
      ]
     },
     "execution_count": 33,
     "metadata": {},
     "output_type": "execute_result"
    }
   ],
   "source": [
    "reversed(s)"
   ]
  },
  {
   "cell_type": "code",
   "execution_count": 34,
   "id": "493ce0ba",
   "metadata": {},
   "outputs": [
    {
     "data": {
      "text/plain": [
       "'this is my full stack  class'"
      ]
     },
     "execution_count": 34,
     "metadata": {},
     "output_type": "execute_result"
    }
   ],
   "source": [
    "s"
   ]
  },
  {
   "cell_type": "code",
   "execution_count": 71,
   "id": "11469b6d",
   "metadata": {},
   "outputs": [
    {
     "data": {
      "text/plain": [
       "'ssalc  kcats lluf ym si siht'"
      ]
     },
     "execution_count": 71,
     "metadata": {},
     "output_type": "execute_result"
    }
   ],
   "source": [
    "s[::-1]\n"
   ]
  },
  {
   "cell_type": "code",
   "execution_count": 95,
   "id": "d2f5b1e4",
   "metadata": {},
   "outputs": [
    {
     "name": "stdout",
     "output_type": "stream",
     "text": [
      "ssalc  kcats lluf ym si siht"
     ]
    }
   ],
   "source": [
    "c=len(s) +1\n",
    "upperbond=range(-1, -c,-1)\n",
    "for i in upperbond:\n",
    "    print(s[i], end=\"\")"
   ]
  },
  {
   "cell_type": "code",
   "execution_count": 86,
   "id": "d4b12b49",
   "metadata": {},
   "outputs": [
    {
     "data": {
      "text/plain": [
       "range(-1, -28, -1)"
      ]
     },
     "execution_count": 86,
     "metadata": {},
     "output_type": "execute_result"
    }
   ],
   "source": [
    "range(-1,-c,-1)"
   ]
  },
  {
   "cell_type": "code",
   "execution_count": 96,
   "id": "eda5ca15",
   "metadata": {},
   "outputs": [
    {
     "data": {
      "text/plain": [
       "'this is my full stack  class'"
      ]
     },
     "execution_count": 96,
     "metadata": {},
     "output_type": "execute_result"
    }
   ],
   "source": [
    "s"
   ]
  },
  {
   "cell_type": "code",
   "execution_count": 97,
   "id": "0e3d8a9d",
   "metadata": {},
   "outputs": [
    {
     "ename": "TypeError",
     "evalue": "'str' object does not support item assignment",
     "output_type": "error",
     "traceback": [
      "\u001b[1;31m---------------------------------------------------------------------------\u001b[0m",
      "\u001b[1;31mTypeError\u001b[0m                                 Traceback (most recent call last)",
      "\u001b[1;32m~\\AppData\\Local\\Temp/ipykernel_4988/2064117226.py\u001b[0m in \u001b[0;36m<module>\u001b[1;34m\u001b[0m\n\u001b[1;32m----> 1\u001b[1;33m \u001b[0ms\u001b[0m\u001b[1;33m[\u001b[0m\u001b[1;36m0\u001b[0m\u001b[1;33m]\u001b[0m \u001b[1;33m=\u001b[0m\u001b[1;34m\"T\"\u001b[0m\u001b[1;33m\u001b[0m\u001b[1;33m\u001b[0m\u001b[0m\n\u001b[0m",
      "\u001b[1;31mTypeError\u001b[0m: 'str' object does not support item assignment"
     ]
    }
   ],
   "source": [
    "s[0] =\"T\""
   ]
  },
  {
   "cell_type": "code",
   "execution_count": 98,
   "id": "851f96e9",
   "metadata": {},
   "outputs": [],
   "source": [
    "l = [\"sachin\", \"pitale\", 54, True, 54.6, 54+6j]"
   ]
  },
  {
   "cell_type": "code",
   "execution_count": 99,
   "id": "4de877e1",
   "metadata": {},
   "outputs": [
    {
     "data": {
      "text/plain": [
       "54"
      ]
     },
     "execution_count": 99,
     "metadata": {},
     "output_type": "execute_result"
    }
   ],
   "source": [
    "l[2]"
   ]
  },
  {
   "cell_type": "code",
   "execution_count": 100,
   "id": "1726022d",
   "metadata": {},
   "outputs": [],
   "source": [
    "l[2]= 278"
   ]
  },
  {
   "cell_type": "code",
   "execution_count": 101,
   "id": "834520cd",
   "metadata": {},
   "outputs": [
    {
     "data": {
      "text/plain": [
       "['sachin', 'pitale', 278, True, 54.6, (54+6j)]"
      ]
     },
     "execution_count": 101,
     "metadata": {},
     "output_type": "execute_result"
    }
   ],
   "source": [
    "l"
   ]
  },
  {
   "cell_type": "code",
   "execution_count": 103,
   "id": "42f673f9",
   "metadata": {},
   "outputs": [],
   "source": [
    "reversed()"
   ]
  },
  {
   "cell_type": "code",
   "execution_count": 104,
   "id": "a2ed9926",
   "metadata": {},
   "outputs": [
    {
     "data": {
      "text/plain": [
       "<reversed at 0x196de291fd0>"
      ]
     },
     "execution_count": 104,
     "metadata": {},
     "output_type": "execute_result"
    }
   ],
   "source": [
    "a"
   ]
  },
  {
   "cell_type": "code",
   "execution_count": 105,
   "id": "76c06951",
   "metadata": {},
   "outputs": [
    {
     "data": {
      "text/plain": [
       "'sachin pitale'"
      ]
     },
     "execution_count": 105,
     "metadata": {},
     "output_type": "execute_result"
    }
   ],
   "source": [
    "\"sachin\" + \" pitale\""
   ]
  },
  {
   "cell_type": "code",
   "execution_count": 106,
   "id": "11441556",
   "metadata": {},
   "outputs": [
    {
     "ename": "TypeError",
     "evalue": "can only concatenate str (not \"int\") to str",
     "output_type": "error",
     "traceback": [
      "\u001b[1;31m---------------------------------------------------------------------------\u001b[0m",
      "\u001b[1;31mTypeError\u001b[0m                                 Traceback (most recent call last)",
      "\u001b[1;32m~\\AppData\\Local\\Temp/ipykernel_4988/1822829554.py\u001b[0m in \u001b[0;36m<module>\u001b[1;34m\u001b[0m\n\u001b[1;32m----> 1\u001b[1;33m \u001b[1;34m\"sachin\"\u001b[0m \u001b[1;33m+\u001b[0m \u001b[1;36m3\u001b[0m\u001b[1;33m\u001b[0m\u001b[1;33m\u001b[0m\u001b[0m\n\u001b[0m",
      "\u001b[1;31mTypeError\u001b[0m: can only concatenate str (not \"int\") to str"
     ]
    }
   ],
   "source": [
    "\"sachin\" + 3"
   ]
  },
  {
   "cell_type": "code",
   "execution_count": 107,
   "id": "9d2cf41a",
   "metadata": {},
   "outputs": [
    {
     "data": {
      "text/plain": [
       "'sachin3'"
      ]
     },
     "execution_count": 107,
     "metadata": {},
     "output_type": "execute_result"
    }
   ],
   "source": [
    "\"sachin\" + str(3)"
   ]
  },
  {
   "cell_type": "code",
   "execution_count": 108,
   "id": "dc06a00d",
   "metadata": {},
   "outputs": [
    {
     "ename": "TypeError",
     "evalue": "can only concatenate str (not \"list\") to str",
     "output_type": "error",
     "traceback": [
      "\u001b[1;31m---------------------------------------------------------------------------\u001b[0m",
      "\u001b[1;31mTypeError\u001b[0m                                 Traceback (most recent call last)",
      "\u001b[1;32m~\\AppData\\Local\\Temp/ipykernel_4988/789687264.py\u001b[0m in \u001b[0;36m<module>\u001b[1;34m\u001b[0m\n\u001b[1;32m----> 1\u001b[1;33m \u001b[1;34m\"sachin\"\u001b[0m \u001b[1;33m+\u001b[0m \u001b[1;33m[\u001b[0m\u001b[1;34m\"pitale\"\u001b[0m\u001b[1;33m,\u001b[0m \u001b[1;36m34\u001b[0m\u001b[1;33m,\u001b[0m \u001b[1;36m5\u001b[0m\u001b[1;33m,\u001b[0m \u001b[1;36m6\u001b[0m\u001b[1;33m]\u001b[0m\u001b[1;33m\u001b[0m\u001b[1;33m\u001b[0m\u001b[0m\n\u001b[0m",
      "\u001b[1;31mTypeError\u001b[0m: can only concatenate str (not \"list\") to str"
     ]
    }
   ],
   "source": [
    "\"sachin\" + [\"pitale\", 34, 5, 6]"
   ]
  },
  {
   "cell_type": "code",
   "execution_count": 109,
   "id": "9e81c9e0",
   "metadata": {},
   "outputs": [
    {
     "data": {
      "text/plain": [
       "\"sachin['pitale', 34, 5, 6]\""
      ]
     },
     "execution_count": 109,
     "metadata": {},
     "output_type": "execute_result"
    }
   ],
   "source": [
    "\"sachin\" + str([\"pitale\", 34, 5, 6])"
   ]
  },
  {
   "cell_type": "code",
   "execution_count": 2,
   "id": "0dca1946",
   "metadata": {},
   "outputs": [],
   "source": [
    "s = \"my name is a sachin\""
   ]
  },
  {
   "cell_type": "code",
   "execution_count": 111,
   "id": "de7ae043",
   "metadata": {},
   "outputs": [
    {
     "data": {
      "text/plain": [
       "'MY NAME IS SACHIN'"
      ]
     },
     "execution_count": 111,
     "metadata": {},
     "output_type": "execute_result"
    }
   ],
   "source": [
    "s.upper()"
   ]
  },
  {
   "cell_type": "code",
   "execution_count": 112,
   "id": "5365d083",
   "metadata": {},
   "outputs": [
    {
     "data": {
      "text/plain": [
       "'my name is sachin'"
      ]
     },
     "execution_count": 112,
     "metadata": {},
     "output_type": "execute_result"
    }
   ],
   "source": [
    "s"
   ]
  },
  {
   "cell_type": "code",
   "execution_count": 115,
   "id": "9ac5b1a9",
   "metadata": {},
   "outputs": [
    {
     "data": {
      "text/plain": [
       "True"
      ]
     },
     "execution_count": 115,
     "metadata": {},
     "output_type": "execute_result"
    }
   ],
   "source": [
    "s.endswith(\"n\")"
   ]
  },
  {
   "cell_type": "code",
   "execution_count": 117,
   "id": "a01d0ced",
   "metadata": {},
   "outputs": [
    {
     "data": {
      "text/plain": [
       "'MY NAME IS SACHIN'"
      ]
     },
     "execution_count": 117,
     "metadata": {},
     "output_type": "execute_result"
    }
   ],
   "source": [
    "s.swapcase()"
   ]
  },
  {
   "cell_type": "code",
   "execution_count": 118,
   "id": "8a4c2761",
   "metadata": {},
   "outputs": [
    {
     "data": {
      "text/plain": [
       "4"
      ]
     },
     "execution_count": 118,
     "metadata": {},
     "output_type": "execute_result"
    }
   ],
   "source": [
    "s.find('a')"
   ]
  },
  {
   "cell_type": "code",
   "execution_count": 134,
   "id": "032e4c31",
   "metadata": {},
   "outputs": [
    {
     "name": "stdout",
     "output_type": "stream",
     "text": [
      "Enter your char which you want to fine:  s\n",
      "s 9\n",
      "s 13\n"
     ]
    }
   ],
   "source": [
    "char=input(\"Enter your char which you want to find:  \")\n",
    "count=0\n",
    "for i in s:\n",
    "    count = count +1\n",
    "    if char == i:\n",
    "        print(i, count-1)"
   ]
  },
  {
   "cell_type": "code",
   "execution_count": 3,
   "id": "e4d11c7c",
   "metadata": {},
   "outputs": [
    {
     "name": "stdout",
     "output_type": "stream",
     "text": [
      "your word is present in database or not: sachin\n",
      "your word is present in database sachin\n"
     ]
    }
   ],
   "source": [
    "a = input(\"your word is present in database or not: \")\n",
    "b=s.split()\n",
    "if a in b:\n",
    "    print (\"your word is present in database\", a)\n",
    "else:\n",
    "    print(\"Your word is not preset in database\",a)"
   ]
  },
  {
   "cell_type": "code",
   "execution_count": 132,
   "id": "b07ede37",
   "metadata": {},
   "outputs": [
    {
     "data": {
      "text/plain": [
       "'m'"
      ]
     },
     "execution_count": 132,
     "metadata": {},
     "output_type": "execute_result"
    }
   ],
   "source": [
    "s[5]"
   ]
  },
  {
   "cell_type": "code",
   "execution_count": 151,
   "id": "59194faf",
   "metadata": {},
   "outputs": [
    {
     "name": "stdout",
     "output_type": "stream",
     "text": [
      "m 0\n",
      "\n",
      "\n",
      "n 3\n",
      "a 4\n",
      "m 5\n",
      "e 6\n",
      "\n",
      "\n",
      "\n",
      "\n",
      "\n",
      "m 12\n",
      "\n"
     ]
    }
   ],
   "source": [
    "s = \"my name is  my\"\n",
    "c = 0\n",
    "for i in s:\n",
    "    c = c + 1\n",
    "    if i == \"n\":\n",
    "        print(i, c -1)\n",
    "    elif i == \"a\":\n",
    "        print(i, c -1)\n",
    "    elif i == \"m\":\n",
    "        print(i, c -1)\n",
    "    elif i == \"e\":\n",
    "        print(i, c -1)\n",
    "    else:\n",
    "        print(\"\")\n",
    "        \n",
    "        "
   ]
  },
  {
   "cell_type": "code",
   "execution_count": 152,
   "id": "b93a3427",
   "metadata": {},
   "outputs": [
    {
     "name": "stdout",
     "output_type": "stream",
     "text": [
      "3\n",
      "4\n",
      "5\n",
      "6\n"
     ]
    }
   ],
   "source": [
    "b=s.find('name')\n",
    "for i in range(len(\"name\")):\n",
    "    print(b + i)"
   ]
  },
  {
   "cell_type": "code",
   "execution_count": 148,
   "id": "b0f8d19a",
   "metadata": {},
   "outputs": [
    {
     "data": {
      "text/plain": [
       "'my name is '"
      ]
     },
     "execution_count": 148,
     "metadata": {},
     "output_type": "execute_result"
    }
   ],
   "source": [
    "s"
   ]
  },
  {
   "cell_type": "code",
   "execution_count": 149,
   "id": "80a3286d",
   "metadata": {},
   "outputs": [
    {
     "data": {
      "text/plain": [
       "2"
      ]
     },
     "execution_count": 149,
     "metadata": {},
     "output_type": "execute_result"
    }
   ],
   "source": [
    "s.count('m')"
   ]
  },
  {
   "cell_type": "code",
   "execution_count": 153,
   "id": "bcc9c10d",
   "metadata": {},
   "outputs": [
    {
     "data": {
      "text/plain": [
       "2"
      ]
     },
     "execution_count": 153,
     "metadata": {},
     "output_type": "execute_result"
    }
   ],
   "source": [
    "s.count(\"my\")"
   ]
  },
  {
   "cell_type": "code",
   "execution_count": 154,
   "id": "ffdfca76",
   "metadata": {},
   "outputs": [
    {
     "data": {
      "text/plain": [
       "'my name is  my'"
      ]
     },
     "execution_count": 154,
     "metadata": {},
     "output_type": "execute_result"
    }
   ],
   "source": [
    "s"
   ]
  },
  {
   "cell_type": "code",
   "execution_count": 155,
   "id": "28bbce93",
   "metadata": {},
   "outputs": [
    {
     "data": {
      "text/plain": [
       "['', 'y na', 'e is  ', 'y']"
      ]
     },
     "execution_count": 155,
     "metadata": {},
     "output_type": "execute_result"
    }
   ],
   "source": [
    "s.split(\"m\")"
   ]
  },
  {
   "cell_type": "code",
   "execution_count": 156,
   "id": "ed89cf6e",
   "metadata": {},
   "outputs": [],
   "source": [
    "a = \"I am learning python program\""
   ]
  },
  {
   "cell_type": "code",
   "execution_count": 157,
   "id": "1ccbc647",
   "metadata": {},
   "outputs": [
    {
     "data": {
      "text/plain": [
       "'I am learning python program'"
      ]
     },
     "execution_count": 157,
     "metadata": {},
     "output_type": "execute_result"
    }
   ],
   "source": [
    "a"
   ]
  },
  {
   "cell_type": "code",
   "execution_count": 162,
   "id": "706e51ae",
   "metadata": {},
   "outputs": [
    {
     "data": {
      "text/plain": [
       "'I_am_learning_python_program'"
      ]
     },
     "execution_count": 162,
     "metadata": {},
     "output_type": "execute_result"
    }
   ],
   "source": [
    "a.replace(\" \", \"_\")"
   ]
  },
  {
   "cell_type": "code",
   "execution_count": 166,
   "id": "6751f973",
   "metadata": {},
   "outputs": [
    {
     "data": {
      "text/plain": [
       "'MY NAME IS  MY'"
      ]
     },
     "execution_count": 166,
     "metadata": {},
     "output_type": "execute_result"
    }
   ],
   "source": [
    "s.upper() "
   ]
  },
  {
   "cell_type": "code",
   "execution_count": 167,
   "id": "0aaf13cb",
   "metadata": {},
   "outputs": [
    {
     "data": {
      "text/plain": [
       "'my name is  my'"
      ]
     },
     "execution_count": 167,
     "metadata": {},
     "output_type": "execute_result"
    }
   ],
   "source": [
    "s.lower()"
   ]
  },
  {
   "cell_type": "code",
   "execution_count": 168,
   "id": "f3f45f30",
   "metadata": {},
   "outputs": [
    {
     "data": {
      "text/plain": [
       "'My Name Is  My'"
      ]
     },
     "execution_count": 168,
     "metadata": {},
     "output_type": "execute_result"
    }
   ],
   "source": [
    "s.title()"
   ]
  },
  {
   "cell_type": "code",
   "execution_count": 169,
   "id": "610133fd",
   "metadata": {},
   "outputs": [
    {
     "data": {
      "text/plain": [
       "'my name is  my'"
      ]
     },
     "execution_count": 169,
     "metadata": {},
     "output_type": "execute_result"
    }
   ],
   "source": [
    "s"
   ]
  },
  {
   "cell_type": "code",
   "execution_count": 170,
   "id": "6c466121",
   "metadata": {},
   "outputs": [
    {
     "data": {
      "text/plain": [
       "'MY NAME IS  MY'"
      ]
     },
     "execution_count": 170,
     "metadata": {},
     "output_type": "execute_result"
    }
   ],
   "source": [
    "s.swapcase()"
   ]
  },
  {
   "cell_type": "code",
   "execution_count": 171,
   "id": "a398bacf",
   "metadata": {},
   "outputs": [
    {
     "data": {
      "text/plain": [
       "'m y   n a m e   i s     m y'"
      ]
     },
     "execution_count": 171,
     "metadata": {},
     "output_type": "execute_result"
    }
   ],
   "source": [
    "\" \".join(s)"
   ]
  },
  {
   "cell_type": "code",
   "execution_count": 172,
   "id": "a2dba195",
   "metadata": {},
   "outputs": [
    {
     "data": {
      "text/plain": [
       "['y', 'm', ' ', ' ', 's', 'i', ' ', 'e', 'm', 'a', 'n', ' ', 'y', 'm']"
      ]
     },
     "execution_count": 172,
     "metadata": {},
     "output_type": "execute_result"
    }
   ],
   "source": [
    "list(reversed(s))"
   ]
  },
  {
   "cell_type": "code",
   "execution_count": 176,
   "id": "00533e5b",
   "metadata": {},
   "outputs": [
    {
     "name": "stdout",
     "output_type": "stream",
     "text": [
      "ym  si eman ym"
     ]
    }
   ],
   "source": [
    "for i in reversed(s):\n",
    "    print(i, end=\"\")"
   ]
  },
  {
   "cell_type": "code",
   "execution_count": 177,
   "id": "9ce2e054",
   "metadata": {},
   "outputs": [],
   "source": [
    "s = \"      sachin      \""
   ]
  },
  {
   "cell_type": "code",
   "execution_count": 178,
   "id": "4efc3827",
   "metadata": {},
   "outputs": [
    {
     "data": {
      "text/plain": [
       "'sachin'"
      ]
     },
     "execution_count": 178,
     "metadata": {},
     "output_type": "execute_result"
    }
   ],
   "source": [
    "s.strip()"
   ]
  },
  {
   "cell_type": "code",
   "execution_count": 179,
   "id": "021de645",
   "metadata": {},
   "outputs": [
    {
     "data": {
      "text/plain": [
       "'      sachin'"
      ]
     },
     "execution_count": 179,
     "metadata": {},
     "output_type": "execute_result"
    }
   ],
   "source": [
    "s.rstrip()"
   ]
  },
  {
   "cell_type": "code",
   "execution_count": 180,
   "id": "3d7ed7d6",
   "metadata": {},
   "outputs": [
    {
     "data": {
      "text/plain": [
       "'sachin      '"
      ]
     },
     "execution_count": 180,
     "metadata": {},
     "output_type": "execute_result"
    }
   ],
   "source": [
    "s.lstrip()"
   ]
  },
  {
   "cell_type": "code",
   "execution_count": 181,
   "id": "535f98d8",
   "metadata": {},
   "outputs": [],
   "source": [
    "s = \"greeting from data science\""
   ]
  },
  {
   "cell_type": "code",
   "execution_count": 182,
   "id": "0441a3d5",
   "metadata": {},
   "outputs": [
    {
     "data": {
      "text/plain": [
       "'welcome from data science'"
      ]
     },
     "execution_count": 182,
     "metadata": {},
     "output_type": "execute_result"
    }
   ],
   "source": [
    "s.replace(\"greeting\", \"welcome\")"
   ]
  },
  {
   "cell_type": "code",
   "execution_count": 183,
   "id": "6d5e5d31",
   "metadata": {},
   "outputs": [
    {
     "data": {
      "text/plain": [
       "'greeting from data science'"
      ]
     },
     "execution_count": 183,
     "metadata": {},
     "output_type": "execute_result"
    }
   ],
   "source": [
    "s"
   ]
  },
  {
   "cell_type": "code",
   "execution_count": 184,
   "id": "bf35ca85",
   "metadata": {},
   "outputs": [
    {
     "data": {
      "text/plain": [
       "1747495344688"
      ]
     },
     "execution_count": 184,
     "metadata": {},
     "output_type": "execute_result"
    }
   ],
   "source": [
    "id(s)"
   ]
  },
  {
   "cell_type": "code",
   "execution_count": 185,
   "id": "0165c791",
   "metadata": {},
   "outputs": [],
   "source": [
    "s = s.replace(\"greeting\", \"welcome\")"
   ]
  },
  {
   "cell_type": "code",
   "execution_count": 186,
   "id": "32f016bd",
   "metadata": {},
   "outputs": [
    {
     "data": {
      "text/plain": [
       "'welcome from data science'"
      ]
     },
     "execution_count": 186,
     "metadata": {},
     "output_type": "execute_result"
    }
   ],
   "source": [
    "s"
   ]
  },
  {
   "cell_type": "code",
   "execution_count": 187,
   "id": "2b4dab34",
   "metadata": {},
   "outputs": [
    {
     "data": {
      "text/plain": [
       "1747487248512"
      ]
     },
     "execution_count": 187,
     "metadata": {},
     "output_type": "execute_result"
    }
   ],
   "source": [
    "id(s)"
   ]
  },
  {
   "cell_type": "code",
   "execution_count": 188,
   "id": "5ea351fc",
   "metadata": {},
   "outputs": [],
   "source": [
    "l = [1,2,3,4]"
   ]
  },
  {
   "cell_type": "code",
   "execution_count": 189,
   "id": "0e93a218",
   "metadata": {},
   "outputs": [
    {
     "data": {
      "text/plain": [
       "1747489932288"
      ]
     },
     "execution_count": 189,
     "metadata": {},
     "output_type": "execute_result"
    }
   ],
   "source": [
    "id(l)"
   ]
  },
  {
   "cell_type": "code",
   "execution_count": 190,
   "id": "f6437881",
   "metadata": {},
   "outputs": [],
   "source": [
    "l[1] = 48"
   ]
  },
  {
   "cell_type": "code",
   "execution_count": 191,
   "id": "b6f7c08f",
   "metadata": {},
   "outputs": [
    {
     "data": {
      "text/plain": [
       "[1, 48, 3, 4]"
      ]
     },
     "execution_count": 191,
     "metadata": {},
     "output_type": "execute_result"
    }
   ],
   "source": [
    "l"
   ]
  },
  {
   "cell_type": "code",
   "execution_count": null,
   "id": "4145c499",
   "metadata": {},
   "outputs": [],
   "source": [
    "minnum = min(l)\n",
    "maxnum = max(l)\n",
    "l1 = []\n",
    "l1.append(minnum)\n",
    "\n",
    "for i in l:\n",
    "    if i > minnum and i < maxnum:\n",
    "        l1.append(i)\n",
    "        minnum = i\n",
    "l1.append(maxnum)        \n",
    "print(l1)"
   ]
  },
  {
   "cell_type": "code",
   "execution_count": 192,
   "id": "7e26963b",
   "metadata": {},
   "outputs": [
    {
     "data": {
      "text/plain": [
       "1747489932288"
      ]
     },
     "execution_count": 192,
     "metadata": {},
     "output_type": "execute_result"
    }
   ],
   "source": [
    "id(l)"
   ]
  },
  {
   "cell_type": "code",
   "execution_count": 193,
   "id": "60be780c",
   "metadata": {},
   "outputs": [],
   "source": [
    "s = \"sachin\\tpitale\""
   ]
  },
  {
   "cell_type": "code",
   "execution_count": 194,
   "id": "f8ba3a3c",
   "metadata": {},
   "outputs": [
    {
     "data": {
      "text/plain": [
       "'sachin\\tpitale'"
      ]
     },
     "execution_count": 194,
     "metadata": {},
     "output_type": "execute_result"
    }
   ],
   "source": [
    "s"
   ]
  },
  {
   "cell_type": "code",
   "execution_count": 195,
   "id": "c2f31b1e",
   "metadata": {},
   "outputs": [
    {
     "data": {
      "text/plain": [
       "'sachin  pitale'"
      ]
     },
     "execution_count": 195,
     "metadata": {},
     "output_type": "execute_result"
    }
   ],
   "source": [
    "s.expandtabs()"
   ]
  },
  {
   "cell_type": "code",
   "execution_count": 8,
   "id": "78ee3fc8",
   "metadata": {},
   "outputs": [],
   "source": [
    "# Tasks\n",
    "Data=\"We all are a part of Full Stack\"\n"
   ]
  },
  {
   "cell_type": "code",
   "execution_count": 3,
   "id": "49a3ed99",
   "metadata": {},
   "outputs": [
    {
     "data": {
      "text/plain": [
       "'we all are a part of full stack batch'"
      ]
     },
     "execution_count": 3,
     "metadata": {},
     "output_type": "execute_result"
    }
   ],
   "source": [
    "#1. Normalize all the starting in lower case\n",
    "Data.lower()"
   ]
  },
  {
   "cell_type": "code",
   "execution_count": 14,
   "id": "6e2d6ddd",
   "metadata": {},
   "outputs": [
    {
     "name": "stdout",
     "output_type": "stream",
     "text": [
      "5\n"
     ]
    },
    {
     "data": {
      "text/plain": [
       "5"
      ]
     },
     "execution_count": 14,
     "metadata": {},
     "output_type": "execute_result"
    }
   ],
   "source": [
    "#2. Find the number of occurance f \"a\" in the hole string\n",
    "count = 0\n",
    "for i in Data:\n",
    "    if i == \"a\":\n",
    "        count = count +1\n",
    "    \n",
    "print(count)\n",
    "\n",
    "Data.count(\"a\")"
   ]
  },
  {
   "cell_type": "code",
   "execution_count": 10,
   "id": "aad397c8",
   "metadata": {},
   "outputs": [
    {
     "name": "stdout",
     "output_type": "stream",
     "text": [
      "a 3\n",
      "a 7\n",
      "a 11\n",
      "a 14\n",
      "a 28\n"
     ]
    }
   ],
   "source": [
    "#3. Find all the location index of \"a\" in starting\n",
    "count = 0\n",
    "for i in Data:\n",
    "    count = count + 1\n",
    "    if i == \"a\":\n",
    "        print(i, count -1)\n",
    "        "
   ]
  },
  {
   "cell_type": "code",
   "execution_count": 11,
   "id": "19987cc3",
   "metadata": {},
   "outputs": [
    {
     "data": {
      "text/plain": [
       "'a'"
      ]
     },
     "execution_count": 11,
     "metadata": {},
     "output_type": "execute_result"
    }
   ],
   "source": [
    "Data[3]"
   ]
  },
  {
   "cell_type": "code",
   "execution_count": 12,
   "id": "e3f2a201",
   "metadata": {},
   "outputs": [
    {
     "data": {
      "text/plain": [
       "'We ineuronll ineuronre ineuron pineuronrt of Full Stineuronck'"
      ]
     },
     "execution_count": 12,
     "metadata": {},
     "output_type": "execute_result"
    }
   ],
   "source": [
    "#4. replace all the \"a\" with ineuron\n",
    "Data.replace(\"a\",\"ineuron\")"
   ]
  },
  {
   "cell_type": "code",
   "execution_count": 15,
   "id": "252e81ba",
   "metadata": {},
   "outputs": [
    {
     "name": "stdout",
     "output_type": "stream",
     "text": [
      "['We', 'all', 'are', 'a', 'part', 'of', 'Full', 'Stack']\n"
     ]
    }
   ],
   "source": [
    "#5. Print all the word as list\n",
    "print(Data.split())"
   ]
  },
  {
   "cell_type": "code",
   "execution_count": 1,
   "id": "5a4d8398",
   "metadata": {},
   "outputs": [],
   "source": [
    "s =\"sachin\""
   ]
  },
  {
   "cell_type": "code",
   "execution_count": 2,
   "id": "60458677",
   "metadata": {},
   "outputs": [
    {
     "data": {
      "text/plain": [
       "'sachin'"
      ]
     },
     "execution_count": 2,
     "metadata": {},
     "output_type": "execute_result"
    }
   ],
   "source": [
    "s"
   ]
  },
  {
   "cell_type": "code",
   "execution_count": 3,
   "id": "1f05edac",
   "metadata": {},
   "outputs": [
    {
     "data": {
      "text/plain": [
       "False"
      ]
     },
     "execution_count": 3,
     "metadata": {},
     "output_type": "execute_result"
    }
   ],
   "source": [
    "s.isspace()"
   ]
  },
  {
   "cell_type": "code",
   "execution_count": 4,
   "id": "706de94d",
   "metadata": {},
   "outputs": [
    {
     "data": {
      "text/plain": [
       "False"
      ]
     },
     "execution_count": 4,
     "metadata": {},
     "output_type": "execute_result"
    }
   ],
   "source": [
    "s.isupper()"
   ]
  },
  {
   "cell_type": "code",
   "execution_count": 5,
   "id": "38f0b45b",
   "metadata": {},
   "outputs": [
    {
     "data": {
      "text/plain": [
       "True"
      ]
     },
     "execution_count": 5,
     "metadata": {},
     "output_type": "execute_result"
    }
   ],
   "source": [
    "s.islower()"
   ]
  },
  {
   "cell_type": "code",
   "execution_count": 6,
   "id": "00dadfc5",
   "metadata": {},
   "outputs": [
    {
     "data": {
      "text/plain": [
       "False"
      ]
     },
     "execution_count": 6,
     "metadata": {},
     "output_type": "execute_result"
    }
   ],
   "source": [
    "s.istitle()"
   ]
  },
  {
   "cell_type": "code",
   "execution_count": 7,
   "id": "45a33a19",
   "metadata": {},
   "outputs": [
    {
     "data": {
      "text/plain": [
       "False"
      ]
     },
     "execution_count": 7,
     "metadata": {},
     "output_type": "execute_result"
    }
   ],
   "source": [
    "s.isdigit()"
   ]
  },
  {
   "cell_type": "code",
   "execution_count": 8,
   "id": "3b640f4c",
   "metadata": {},
   "outputs": [
    {
     "data": {
      "text/plain": [
       "True"
      ]
     },
     "execution_count": 8,
     "metadata": {},
     "output_type": "execute_result"
    }
   ],
   "source": [
    "s.endswith('n')"
   ]
  },
  {
   "cell_type": "code",
   "execution_count": 9,
   "id": "e597cc78",
   "metadata": {},
   "outputs": [
    {
     "data": {
      "text/plain": [
       "True"
      ]
     },
     "execution_count": 9,
     "metadata": {},
     "output_type": "execute_result"
    }
   ],
   "source": [
    "s.startswith('s')"
   ]
  },
  {
   "cell_type": "code",
   "execution_count": 10,
   "id": "a0bb8429",
   "metadata": {},
   "outputs": [
    {
     "data": {
      "text/plain": [
       "True"
      ]
     },
     "execution_count": 10,
     "metadata": {},
     "output_type": "execute_result"
    }
   ],
   "source": [
    "s.isalnum()"
   ]
  },
  {
   "cell_type": "code",
   "execution_count": 11,
   "id": "a5506eb3",
   "metadata": {},
   "outputs": [
    {
     "data": {
      "text/plain": [
       "True"
      ]
     },
     "execution_count": 11,
     "metadata": {},
     "output_type": "execute_result"
    }
   ],
   "source": [
    "s.isalpha()"
   ]
  },
  {
   "cell_type": "code",
   "execution_count": 12,
   "id": "00575338",
   "metadata": {},
   "outputs": [
    {
     "data": {
      "text/plain": [
       "True"
      ]
     },
     "execution_count": 12,
     "metadata": {},
     "output_type": "execute_result"
    }
   ],
   "source": [
    "s.islower()"
   ]
  },
  {
   "cell_type": "code",
   "execution_count": 2,
   "id": "dc92e88b",
   "metadata": {},
   "outputs": [],
   "source": [
    "s = \"this is full stack batch\""
   ]
  },
  {
   "cell_type": "code",
   "execution_count": 14,
   "id": "93799c38",
   "metadata": {},
   "outputs": [
    {
     "data": {
      "text/plain": [
       "'this is full stack batch'"
      ]
     },
     "execution_count": 14,
     "metadata": {},
     "output_type": "execute_result"
    }
   ],
   "source": [
    "s"
   ]
  },
  {
   "cell_type": "code",
   "execution_count": 16,
   "id": "a70bad0a",
   "metadata": {},
   "outputs": [
    {
     "name": "stdout",
     "output_type": "stream",
     "text": [
      "this is full stack batch"
     ]
    }
   ],
   "source": [
    "for i in s:\n",
    "    print(i, end=\"\")"
   ]
  },
  {
   "cell_type": "code",
   "execution_count": 17,
   "id": "43b991fc",
   "metadata": {},
   "outputs": [
    {
     "data": {
      "text/plain": [
       "24"
      ]
     },
     "execution_count": 17,
     "metadata": {},
     "output_type": "execute_result"
    }
   ],
   "source": [
    "len(s)"
   ]
  },
  {
   "cell_type": "code",
   "execution_count": 18,
   "id": "9a3d5748",
   "metadata": {},
   "outputs": [
    {
     "data": {
      "text/plain": [
       "24"
      ]
     },
     "execution_count": 18,
     "metadata": {},
     "output_type": "execute_result"
    }
   ],
   "source": [
    "count = 0\n",
    "for i in s:\n",
    "    count = count + 1\n",
    "count"
   ]
  },
  {
   "cell_type": "code",
   "execution_count": 19,
   "id": "e488a3b8",
   "metadata": {},
   "outputs": [
    {
     "data": {
      "text/plain": [
       "2"
      ]
     },
     "execution_count": 19,
     "metadata": {},
     "output_type": "execute_result"
    }
   ],
   "source": [
    "s.count('a')"
   ]
  },
  {
   "cell_type": "code",
   "execution_count": 20,
   "id": "7507966a",
   "metadata": {},
   "outputs": [
    {
     "name": "stdout",
     "output_type": "stream",
     "text": [
      "t 0\n",
      "h 1\n",
      "i 2\n",
      "s 3\n",
      "  4\n",
      "i 5\n",
      "s 6\n",
      "  7\n",
      "f 8\n",
      "u 9\n",
      "l 10\n",
      "l 11\n",
      "  12\n",
      "s 13\n",
      "t 14\n",
      "a 15\n",
      "c 16\n",
      "k 17\n",
      "  18\n",
      "b 19\n",
      "a 20\n",
      "t 21\n",
      "c 22\n",
      "h 23\n"
     ]
    }
   ],
   "source": [
    "count = 0\n",
    "for i in s:\n",
    "    print(i, count)\n",
    "    count = count + 1"
   ]
  },
  {
   "cell_type": "code",
   "execution_count": 24,
   "id": "99084018",
   "metadata": {},
   "outputs": [
    {
     "name": "stdout",
     "output_type": "stream",
     "text": [
      "t\n",
      "h\n",
      "c\n",
      "t\n",
      "a\n",
      "b\n",
      " \n",
      "k\n",
      "c\n",
      "a\n",
      "t\n",
      "s\n",
      " \n",
      "l\n",
      "l\n",
      "u\n",
      "f\n",
      " \n",
      "s\n",
      "i\n",
      " \n",
      "s\n",
      "i\n",
      "h\n"
     ]
    }
   ],
   "source": [
    "a=len(s)\n",
    "for i in range(0,a):\n",
    "    print(s[-i])"
   ]
  },
  {
   "cell_type": "code",
   "execution_count": 22,
   "id": "405506a2",
   "metadata": {},
   "outputs": [
    {
     "data": {
      "text/plain": [
       "24"
      ]
     },
     "execution_count": 22,
     "metadata": {},
     "output_type": "execute_result"
    }
   ],
   "source": [
    "len(s)\n"
   ]
  },
  {
   "cell_type": "code",
   "execution_count": 25,
   "id": "8eaf1f6d",
   "metadata": {},
   "outputs": [
    {
     "data": {
      "text/plain": [
       "'this is full stack batch'"
      ]
     },
     "execution_count": 25,
     "metadata": {},
     "output_type": "execute_result"
    }
   ],
   "source": [
    "s"
   ]
  },
  {
   "cell_type": "code",
   "execution_count": 3,
   "id": "47ffc3a0",
   "metadata": {},
   "outputs": [
    {
     "name": "stdout",
     "output_type": "stream",
     "text": [
      "h\n",
      "c\n",
      "t\n",
      "a\n",
      "b\n",
      " \n",
      "k\n",
      "c\n",
      "a\n",
      "t\n",
      "s\n",
      " \n",
      "l\n",
      "l\n",
      "u\n",
      "f\n",
      " \n",
      "s\n",
      "i\n",
      " \n",
      "s\n",
      "i\n",
      "h\n",
      "t\n"
     ]
    }
   ],
   "source": [
    "a=len(s) -1\n",
    "\n",
    "while a >= 0:\n",
    "    print(s[a])\n",
    "    a = a - 1  \n"
   ]
  },
  {
   "cell_type": "code",
   "execution_count": 5,
   "id": "11c1a878",
   "metadata": {},
   "outputs": [
    {
     "name": "stdout",
     "output_type": "stream",
     "text": [
      "24\n",
      "23\n",
      "22\n",
      "21\n",
      "20\n",
      "19\n",
      "18\n",
      "17\n",
      "16\n",
      "15\n",
      "14\n",
      "13\n",
      "12\n",
      "11\n",
      "10\n",
      "9\n",
      "8\n",
      "7\n",
      "6\n",
      "5\n",
      "4\n",
      "3\n",
      "2\n",
      "1\n",
      "0\n"
     ]
    }
   ],
   "source": [
    "a=len(s)\n",
    "while a >= 0:\n",
    "    print(a)\n",
    "    a = a -1"
   ]
  },
  {
   "cell_type": "code",
   "execution_count": 6,
   "id": "7d995d73",
   "metadata": {},
   "outputs": [],
   "source": [
    "name = \"ineuron\"\n",
    "vowels = \"AaEeIiOoUu\""
   ]
  },
  {
   "cell_type": "code",
   "execution_count": 8,
   "id": "7a16f4ae",
   "metadata": {},
   "outputs": [
    {
     "name": "stdout",
     "output_type": "stream",
     "text": [
      "Vowels ['i', 'e', 'u', 'o']\n",
      "not vowels ['n', 'r', 'n']\n"
     ]
    }
   ],
   "source": [
    "# find out the vowels in the data\n",
    "v = []\n",
    "l = []\n",
    "for j in name:\n",
    "    if j == \"A\" or j == \"a\" or j == \"E\" or j == \"e\" or j == \"I\" or j == \"i\" or j == \"O\" or j == \"o\" or j == \"U\" or j == \"u\":\n",
    "        v.append(j)\n",
    "    else:\n",
    "        l.append(j)\n",
    "        \n",
    "\n",
    "\n",
    "print(\"Vowels\", v)\n",
    "print(\"not vowels\", l)\n",
    "        \n",
    "        \n"
   ]
  },
  {
   "cell_type": "code",
   "execution_count": 14,
   "id": "64428d1a",
   "metadata": {},
   "outputs": [
    {
     "name": "stdout",
     "output_type": "stream",
     "text": [
      "Vowels ['i', 'e', 'u', 'o']\n",
      "not vowels ['n', 'r', 'n']\n"
     ]
    }
   ],
   "source": [
    "l = []\n",
    "l1 = [] \n",
    "for i in name:\n",
    "    if i in vowels:\n",
    "        l.append(i)\n",
    "    else:\n",
    "        l1.append(i)\n",
    "\n",
    "print(\"Vowels\", l)\n",
    "print(\"not vowels\", l1)    \n"
   ]
  },
  {
   "cell_type": "code",
   "execution_count": 15,
   "id": "e9711ab9",
   "metadata": {},
   "outputs": [
    {
     "data": {
      "text/plain": [
       "'my name is sachin'"
      ]
     },
     "execution_count": 15,
     "metadata": {},
     "output_type": "execute_result"
    }
   ],
   "source": [
    "\"{} name is sachin\".format(\"my\")"
   ]
  },
  {
   "cell_type": "code",
   "execution_count": 16,
   "id": "7e453cfe",
   "metadata": {},
   "outputs": [
    {
     "data": {
      "text/plain": [
       "'my name is sachin'"
      ]
     },
     "execution_count": 16,
     "metadata": {},
     "output_type": "execute_result"
    }
   ],
   "source": [
    "\"{} name {} sachin\".format(\"my\",\"is\")"
   ]
  },
  {
   "cell_type": "code",
   "execution_count": 18,
   "id": "9fe2edcc",
   "metadata": {},
   "outputs": [
    {
     "name": "stdout",
     "output_type": "stream",
     "text": [
      "Enter your first name: sachin\n",
      "Enter your second name:  pitale\n",
      "Hello sachin pitale welcome to full stack batch\n"
     ]
    }
   ],
   "source": [
    "fname= input(\"Enter your first name: \")\n",
    "lname = input(\"Enter your second name:  \")\n",
    "\n",
    "print(\"Hello {} {} welcome to full stack batch\".format(fname,lname))"
   ]
  },
  {
   "cell_type": "code",
   "execution_count": 30,
   "id": "38ce6d72",
   "metadata": {},
   "outputs": [
    {
     "name": "stdout",
     "output_type": "stream",
     "text": [
      "Enter your name to check your name is phlindrom? or not?:  202\n",
      "Pelindrom\n"
     ]
    }
   ],
   "source": [
    "# To find pelindrom \n",
    "\n",
    "name = input(\"Enter your name to check your name is phlindrom? or not?:  \")\n",
    "\n",
    "if name == name[::-1]:\n",
    "    print (\"Pelindrom\")\n",
    "else:\n",
    "    print (\"Not Pelindrom\")\n",
    "    "
   ]
  },
  {
   "cell_type": "code",
   "execution_count": 80,
   "id": "85c65f49",
   "metadata": {},
   "outputs": [],
   "source": [
    "l = [\"sachin\", 34, 35, 78,[276, 378]]"
   ]
  },
  {
   "cell_type": "code",
   "execution_count": 32,
   "id": "be836039",
   "metadata": {},
   "outputs": [
    {
     "data": {
      "text/plain": [
       "35"
      ]
     },
     "execution_count": 32,
     "metadata": {},
     "output_type": "execute_result"
    }
   ],
   "source": [
    "l[2]"
   ]
  },
  {
   "cell_type": "code",
   "execution_count": 34,
   "id": "ef95e76b",
   "metadata": {},
   "outputs": [
    {
     "data": {
      "text/plain": [
       "378"
      ]
     },
     "execution_count": 34,
     "metadata": {},
     "output_type": "execute_result"
    }
   ],
   "source": [
    "l[4][1]"
   ]
  },
  {
   "cell_type": "code",
   "execution_count": 35,
   "id": "cd40a0b0",
   "metadata": {},
   "outputs": [
    {
     "data": {
      "text/plain": [
       "[[276, 378], 78, 35, 34, 'sachin']"
      ]
     },
     "execution_count": 35,
     "metadata": {},
     "output_type": "execute_result"
    }
   ],
   "source": [
    "l[::-1]"
   ]
  },
  {
   "cell_type": "code",
   "execution_count": 36,
   "id": "90c03e1a",
   "metadata": {},
   "outputs": [
    {
     "data": {
      "text/plain": [
       "['sachin', 34, 35, 78]"
      ]
     },
     "execution_count": 36,
     "metadata": {},
     "output_type": "execute_result"
    }
   ],
   "source": [
    "l[0:4]"
   ]
  },
  {
   "cell_type": "code",
   "execution_count": 37,
   "id": "085e8726",
   "metadata": {},
   "outputs": [
    {
     "data": {
      "text/plain": [
       "[78, 35, 34]"
      ]
     },
     "execution_count": 37,
     "metadata": {},
     "output_type": "execute_result"
    }
   ],
   "source": [
    "l[3:0:-1]"
   ]
  },
  {
   "cell_type": "code",
   "execution_count": 63,
   "id": "c4005cde",
   "metadata": {},
   "outputs": [
    {
     "name": "stdout",
     "output_type": "stream",
     "text": [
      "[276, 378]\n",
      "78\n",
      "35\n",
      "34\n",
      "sachin\n"
     ]
    }
   ],
   "source": [
    "for i in range(1, a +1):\n",
    "    print(l[-i])"
   ]
  },
  {
   "cell_type": "code",
   "execution_count": 64,
   "id": "8fb2f147",
   "metadata": {},
   "outputs": [],
   "source": [
    "s = \"sachin\"\n",
    "s =list(s)"
   ]
  },
  {
   "cell_type": "code",
   "execution_count": 65,
   "id": "67458749",
   "metadata": {},
   "outputs": [
    {
     "data": {
      "text/plain": [
       "['sachin', 34, 35, 78, [276, 378], 's', 'a', 'c', 'h', 'i', 'n']"
      ]
     },
     "execution_count": 65,
     "metadata": {},
     "output_type": "execute_result"
    }
   ],
   "source": [
    "l + s"
   ]
  },
  {
   "cell_type": "code",
   "execution_count": 75,
   "id": "75942830",
   "metadata": {},
   "outputs": [],
   "source": [
    "l.append(\"sachin\")"
   ]
  },
  {
   "cell_type": "code",
   "execution_count": 76,
   "id": "114850f8",
   "metadata": {},
   "outputs": [
    {
     "data": {
      "text/plain": [
       "['sachin',\n",
       " 34,\n",
       " 35,\n",
       " 78,\n",
       " [276, 378],\n",
       " 's',\n",
       " ['s', 'a', 'c', 'h', 'i', 'n'],\n",
       " ['s', 'a', 'c', 'h', 'i', 'n'],\n",
       " 'sachin']"
      ]
     },
     "execution_count": 76,
     "metadata": {},
     "output_type": "execute_result"
    }
   ],
   "source": [
    "l"
   ]
  },
  {
   "cell_type": "code",
   "execution_count": 77,
   "id": "a701b7b9",
   "metadata": {},
   "outputs": [],
   "source": [
    "s = [\"sachin\"]"
   ]
  },
  {
   "cell_type": "code",
   "execution_count": 78,
   "id": "f24c6332",
   "metadata": {},
   "outputs": [
    {
     "data": {
      "text/plain": [
       "['sachin',\n",
       " 34,\n",
       " 35,\n",
       " 78,\n",
       " [276, 378],\n",
       " 's',\n",
       " ['s', 'a', 'c', 'h', 'i', 'n'],\n",
       " ['s', 'a', 'c', 'h', 'i', 'n'],\n",
       " 'sachin',\n",
       " 'sachin']"
      ]
     },
     "execution_count": 78,
     "metadata": {},
     "output_type": "execute_result"
    }
   ],
   "source": [
    "l + s "
   ]
  },
  {
   "cell_type": "code",
   "execution_count": 81,
   "id": "eec33da2",
   "metadata": {},
   "outputs": [
    {
     "data": {
      "text/plain": [
       "5"
      ]
     },
     "execution_count": 81,
     "metadata": {},
     "output_type": "execute_result"
    }
   ],
   "source": [
    "len(l)"
   ]
  },
  {
   "cell_type": "code",
   "execution_count": 82,
   "id": "008a91cf",
   "metadata": {},
   "outputs": [
    {
     "name": "stdout",
     "output_type": "stream",
     "text": [
      "yes\n"
     ]
    }
   ],
   "source": [
    "if \"sachin\" in l:\n",
    "    print (\"yes\")"
   ]
  },
  {
   "cell_type": "code",
   "execution_count": 84,
   "id": "d8a1a8a0",
   "metadata": {},
   "outputs": [
    {
     "data": {
      "text/plain": [
       "True"
      ]
     },
     "execution_count": 84,
     "metadata": {},
     "output_type": "execute_result"
    }
   ],
   "source": [
    "\"sachin\" in l"
   ]
  },
  {
   "cell_type": "code",
   "execution_count": 85,
   "id": "ae531fe9",
   "metadata": {},
   "outputs": [
    {
     "data": {
      "text/plain": [
       "'s a c h i n'"
      ]
     },
     "execution_count": 85,
     "metadata": {},
     "output_type": "execute_result"
    }
   ],
   "source": [
    "\" \".join(\"sachin\")"
   ]
  },
  {
   "cell_type": "code",
   "execution_count": 87,
   "id": "00b3ef9a",
   "metadata": {},
   "outputs": [
    {
     "name": "stdout",
     "output_type": "stream",
     "text": [
      "h\n",
      "c\n",
      "t\n",
      "a\n",
      "b\n",
      " \n",
      "k\n",
      "c\n",
      "a\n",
      "t\n",
      "s\n",
      " \n",
      "l\n",
      "l\n",
      "u\n",
      "f\n",
      " \n",
      "y\n",
      "m\n",
      " \n",
      "s\n",
      "i\n",
      " \n",
      "s\n",
      "i\n",
      "h\n",
      "t\n"
     ]
    }
   ],
   "source": [
    "s=\"this is my full stack batch\"\n",
    "for i in range(1,len(s) +1):\n",
    "    print(s[-i])"
   ]
  },
  {
   "cell_type": "code",
   "execution_count": 88,
   "id": "89217721",
   "metadata": {},
   "outputs": [
    {
     "data": {
      "text/plain": [
       "range(0, 27)"
      ]
     },
     "execution_count": 88,
     "metadata": {},
     "output_type": "execute_result"
    }
   ],
   "source": [
    "range(len(s))"
   ]
  },
  {
   "cell_type": "code",
   "execution_count": 96,
   "id": "5947c7e7",
   "metadata": {},
   "outputs": [],
   "source": [
    "s=\"my name is sachin and name of org is ineuron\""
   ]
  },
  {
   "cell_type": "code",
   "execution_count": 90,
   "id": "feb0b9e4",
   "metadata": {},
   "outputs": [
    {
     "data": {
      "text/plain": [
       "'my name is sachin and name of org is ineuron'"
      ]
     },
     "execution_count": 90,
     "metadata": {},
     "output_type": "execute_result"
    }
   ],
   "source": [
    "s"
   ]
  },
  {
   "cell_type": "code",
   "execution_count": 128,
   "id": "e5e517a8",
   "metadata": {},
   "outputs": [
    {
     "data": {
      "text/plain": [
       "'name'"
      ]
     },
     "execution_count": 128,
     "metadata": {},
     "output_type": "execute_result"
    }
   ],
   "source": [
    "a=s.split(\"and\")\n",
    "a1=a[1]\n",
    "a1.find(\"name\")\n",
    "a1[1:5]"
   ]
  },
  {
   "cell_type": "code",
   "execution_count": 133,
   "id": "fbf5a7ce",
   "metadata": {},
   "outputs": [
    {
     "data": {
      "text/plain": [
       "22"
      ]
     },
     "execution_count": 133,
     "metadata": {},
     "output_type": "execute_result"
    }
   ],
   "source": [
    "a = s.find(\"name\")\n",
    "b = a +len(\"name\")\n",
    "s.find(\"name\", b:)"
   ]
  },
  {
   "cell_type": "code",
   "execution_count": 130,
   "id": "b9e9a441",
   "metadata": {},
   "outputs": [
    {
     "data": {
      "text/plain": [
       "3"
      ]
     },
     "execution_count": 130,
     "metadata": {},
     "output_type": "execute_result"
    }
   ],
   "source": [
    "a"
   ]
  },
  {
   "cell_type": "code",
   "execution_count": 1,
   "id": "3250311c",
   "metadata": {},
   "outputs": [],
   "source": [
    "a = \"we are all\""
   ]
  },
  {
   "cell_type": "code",
   "execution_count": 2,
   "id": "3fbdf8d7",
   "metadata": {},
   "outputs": [
    {
     "data": {
      "text/plain": [
       "'we are all'"
      ]
     },
     "execution_count": 2,
     "metadata": {},
     "output_type": "execute_result"
    }
   ],
   "source": [
    "a\n"
   ]
  },
  {
   "cell_type": "code",
   "execution_count": 3,
   "id": "2e8afb80",
   "metadata": {},
   "outputs": [
    {
     "data": {
      "text/plain": [
       "3"
      ]
     },
     "execution_count": 3,
     "metadata": {},
     "output_type": "execute_result"
    }
   ],
   "source": [
    "a.find(\"are\")"
   ]
  },
  {
   "cell_type": "code",
   "execution_count": 4,
   "id": "bb67322e",
   "metadata": {},
   "outputs": [
    {
     "data": {
      "text/plain": [
       "7"
      ]
     },
     "execution_count": 4,
     "metadata": {},
     "output_type": "execute_result"
    }
   ],
   "source": [
    "a.find(\"all\")"
   ]
  },
  {
   "cell_type": "code",
   "execution_count": 1,
   "id": "66288b4f",
   "metadata": {},
   "outputs": [],
   "source": [
    "d = {}"
   ]
  },
  {
   "cell_type": "code",
   "execution_count": 2,
   "id": "d58f03b0",
   "metadata": {},
   "outputs": [
    {
     "data": {
      "text/plain": [
       "dict"
      ]
     },
     "execution_count": 2,
     "metadata": {},
     "output_type": "execute_result"
    }
   ],
   "source": [
    "type(d)"
   ]
  },
  {
   "cell_type": "code",
   "execution_count": null,
   "id": "dbe8d69d",
   "metadata": {},
   "outputs": [],
   "source": []
  }
 ],
 "metadata": {
  "kernelspec": {
   "display_name": "Python 3 (ipykernel)",
   "language": "python",
   "name": "python3"
  },
  "language_info": {
   "codemirror_mode": {
    "name": "ipython",
    "version": 3
   },
   "file_extension": ".py",
   "mimetype": "text/x-python",
   "name": "python",
   "nbconvert_exporter": "python",
   "pygments_lexer": "ipython3",
   "version": "3.9.7"
  }
 },
 "nbformat": 4,
 "nbformat_minor": 5
}
