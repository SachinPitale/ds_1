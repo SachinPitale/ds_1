{
 "cells": [
  {
   "cell_type": "code",
   "execution_count": 16,
   "id": "98bbed8d",
   "metadata": {},
   "outputs": [],
   "source": [
    "def test(**kwargs):\n",
    "    return\"This is output of function\", kwargs, kwargs.items(), [i[0] for i in kwargs.items()],[i[1] for i in kwargs.items()]"
   ]
  },
  {
   "cell_type": "code",
   "execution_count": 17,
   "id": "d5672db2",
   "metadata": {},
   "outputs": [
    {
     "data": {
      "text/plain": [
       "('This is output of function',\n",
       " {'a': 1, 'b': 2, 'c': [3, 4, 5, 6], 'd': 'sachin'},\n",
       " dict_items([('a', 1), ('b', 2), ('c', [3, 4, 5, 6]), ('d', 'sachin')]),\n",
       " ['a', 'b', 'c', 'd'],\n",
       " [1, 2, [3, 4, 5, 6], 'sachin'])"
      ]
     },
     "execution_count": 17,
     "metadata": {},
     "output_type": "execute_result"
    }
   ],
   "source": [
    "test(a=1,b=2,c=[3,4,5,6],d=\"sachin\")"
   ]
  },
  {
   "cell_type": "code",
   "execution_count": null,
   "id": "39d794fa",
   "metadata": {},
   "outputs": [],
   "source": []
  },
  {
   "cell_type": "code",
   "execution_count": 18,
   "id": "adf0dbc3",
   "metadata": {},
   "outputs": [],
   "source": [
    "def test(name, email_id):\n",
    "    con = name+ email_id\n",
    "    return con"
   ]
  },
  {
   "cell_type": "code",
   "execution_count": 27,
   "id": "66950e72",
   "metadata": {},
   "outputs": [
    {
     "data": {
      "text/plain": [
       "'sachin@gmail.com'"
      ]
     },
     "execution_count": 27,
     "metadata": {},
     "output_type": "execute_result"
    }
   ],
   "source": [
    "test(\"sachin\",\"@gmail.com\")"
   ]
  },
  {
   "cell_type": "code",
   "execution_count": 20,
   "id": "3400789f",
   "metadata": {},
   "outputs": [],
   "source": [
    "def test1(x,y):\n",
    "    return x+y"
   ]
  },
  {
   "cell_type": "code",
   "execution_count": 21,
   "id": "b4ceea7d",
   "metadata": {},
   "outputs": [
    {
     "data": {
      "text/plain": [
       "30"
      ]
     },
     "execution_count": 21,
     "metadata": {},
     "output_type": "execute_result"
    }
   ],
   "source": [
    "test1(10,20)"
   ]
  },
  {
   "cell_type": "code",
   "execution_count": 23,
   "id": "47fdcf2d",
   "metadata": {},
   "outputs": [],
   "source": [
    "m = lambda x, y: x+y"
   ]
  },
  {
   "cell_type": "code",
   "execution_count": 24,
   "id": "233c4bc8",
   "metadata": {},
   "outputs": [
    {
     "data": {
      "text/plain": [
       "30"
      ]
     },
     "execution_count": 24,
     "metadata": {},
     "output_type": "execute_result"
    }
   ],
   "source": [
    "m(10,20)"
   ]
  },
  {
   "cell_type": "code",
   "execution_count": 25,
   "id": "0001f874",
   "metadata": {},
   "outputs": [],
   "source": [
    "email = lambda name,mail: name+mail"
   ]
  },
  {
   "cell_type": "code",
   "execution_count": 26,
   "id": "8dbabf76",
   "metadata": {},
   "outputs": [
    {
     "data": {
      "text/plain": [
       "'sachin@gmail.com'"
      ]
     },
     "execution_count": 26,
     "metadata": {},
     "output_type": "execute_result"
    }
   ],
   "source": [
    "email(\"sachin\",\"@gmail.com\")"
   ]
  },
  {
   "cell_type": "code",
   "execution_count": 28,
   "id": "752a6db3",
   "metadata": {},
   "outputs": [],
   "source": [
    "n = lambda arg1, arg2: print(arg1,arg2)"
   ]
  },
  {
   "cell_type": "code",
   "execution_count": 29,
   "id": "4042ef1b",
   "metadata": {},
   "outputs": [
    {
     "name": "stdout",
     "output_type": "stream",
     "text": [
      "sachin  Pitale\n"
     ]
    }
   ],
   "source": [
    "n(\"sachin\", \" Pitale\")"
   ]
  },
  {
   "cell_type": "code",
   "execution_count": 30,
   "id": "da8d2bdb",
   "metadata": {},
   "outputs": [],
   "source": [
    "# Local and global variable"
   ]
  },
  {
   "cell_type": "code",
   "execution_count": 31,
   "id": "58b0563a",
   "metadata": {},
   "outputs": [],
   "source": [
    "r = 10  # Global variable\n",
    "def test4(a,b): \n",
    "    r = a / b  # Local variable is first preference\n",
    "    return r"
   ]
  },
  {
   "cell_type": "code",
   "execution_count": 32,
   "id": "a694444f",
   "metadata": {},
   "outputs": [
    {
     "data": {
      "text/plain": [
       "10.0"
      ]
     },
     "execution_count": 32,
     "metadata": {},
     "output_type": "execute_result"
    }
   ],
   "source": [
    "test4(100,10)"
   ]
  },
  {
   "cell_type": "code",
   "execution_count": 33,
   "id": "bdeba863",
   "metadata": {},
   "outputs": [
    {
     "data": {
      "text/plain": [
       "1.0"
      ]
     },
     "execution_count": 33,
     "metadata": {},
     "output_type": "execute_result"
    }
   ],
   "source": [
    "test4(10,10)"
   ]
  },
  {
   "cell_type": "code",
   "execution_count": 34,
   "id": "0a2314e7",
   "metadata": {},
   "outputs": [],
   "source": [
    "# Create a docstring to understand about the your function\n",
    "\n",
    "def test5():\n",
    "    \"\"\"\n",
    "    This function is my test function. It will return print message\n",
    "    \"\"\"\n",
    "    return \"This is my first doc string function\""
   ]
  },
  {
   "cell_type": "code",
   "execution_count": 35,
   "id": "98599a79",
   "metadata": {},
   "outputs": [
    {
     "data": {
      "text/plain": [
       "'This is my first doc string function'"
      ]
     },
     "execution_count": 35,
     "metadata": {},
     "output_type": "execute_result"
    }
   ],
   "source": [
    "test5()"
   ]
  },
  {
   "cell_type": "code",
   "execution_count": 36,
   "id": "fc33ba29",
   "metadata": {},
   "outputs": [
    {
     "name": "stdout",
     "output_type": "stream",
     "text": [
      "Help on function test5 in module __main__:\n",
      "\n",
      "test5()\n",
      "    This function is my test function. It will return print message\n",
      "\n"
     ]
    }
   ],
   "source": [
    "help(test5)"
   ]
  },
  {
   "cell_type": "code",
   "execution_count": 37,
   "id": "b5d14601",
   "metadata": {},
   "outputs": [
    {
     "name": "stdout",
     "output_type": "stream",
     "text": [
      "Help on built-in function print in module builtins:\n",
      "\n",
      "print(...)\n",
      "    print(value, ..., sep=' ', end='\\n', file=sys.stdout, flush=False)\n",
      "    \n",
      "    Prints the values to a stream, or to sys.stdout by default.\n",
      "    Optional keyword arguments:\n",
      "    file:  a file-like object (stream); defaults to the current sys.stdout.\n",
      "    sep:   string inserted between values, default a space.\n",
      "    end:   string appended after the last value, default a newline.\n",
      "    flush: whether to forcibly flush the stream.\n",
      "\n"
     ]
    }
   ],
   "source": [
    "help(print)"
   ]
  },
  {
   "cell_type": "code",
   "execution_count": 44,
   "id": "5d35a508",
   "metadata": {},
   "outputs": [],
   "source": [
    "def test6(a,b):\n",
    "    \"\"\"\n",
    "    This is addition function It will accept two number and return addition of two number\n",
    "    a = 10\n",
    "    b = 30\n",
    "    \"\"\"\n",
    "    return   a + b"
   ]
  },
  {
   "cell_type": "code",
   "execution_count": 46,
   "id": "efa209c3",
   "metadata": {},
   "outputs": [
    {
     "data": {
      "text/plain": [
       "40"
      ]
     },
     "execution_count": 46,
     "metadata": {},
     "output_type": "execute_result"
    }
   ],
   "source": [
    "test6(10,30)"
   ]
  },
  {
   "cell_type": "code",
   "execution_count": 47,
   "id": "4d8cde3e",
   "metadata": {},
   "outputs": [
    {
     "ename": "TypeError",
     "evalue": "'int' object is not iterable",
     "output_type": "error",
     "traceback": [
      "\u001b[1;31m---------------------------------------------------------------------------\u001b[0m",
      "\u001b[1;31mTypeError\u001b[0m                                 Traceback (most recent call last)",
      "\u001b[1;32m~\\AppData\\Local\\Temp/ipykernel_11500/1791287181.py\u001b[0m in \u001b[0;36m<module>\u001b[1;34m\u001b[0m\n\u001b[0;32m      1\u001b[0m \u001b[1;31m# Iteranble\u001b[0m\u001b[1;33m\u001b[0m\u001b[1;33m\u001b[0m\u001b[0m\n\u001b[0;32m      2\u001b[0m \u001b[0ma\u001b[0m \u001b[1;33m=\u001b[0m \u001b[1;36m10\u001b[0m\u001b[1;33m\u001b[0m\u001b[1;33m\u001b[0m\u001b[0m\n\u001b[1;32m----> 3\u001b[1;33m \u001b[1;32mfor\u001b[0m \u001b[0mi\u001b[0m \u001b[1;32min\u001b[0m \u001b[0ma\u001b[0m\u001b[1;33m:\u001b[0m\u001b[1;33m\u001b[0m\u001b[1;33m\u001b[0m\u001b[0m\n\u001b[0m\u001b[0;32m      4\u001b[0m     \u001b[0mprint\u001b[0m\u001b[1;33m(\u001b[0m\u001b[0ma\u001b[0m\u001b[1;33m)\u001b[0m\u001b[1;33m\u001b[0m\u001b[1;33m\u001b[0m\u001b[0m\n",
      "\u001b[1;31mTypeError\u001b[0m: 'int' object is not iterable"
     ]
    }
   ],
   "source": [
    "# Iteranble\n",
    "a = 10\n",
    "for i in a:\n",
    "    print(a)"
   ]
  },
  {
   "cell_type": "code",
   "execution_count": 50,
   "id": "ad97637d",
   "metadata": {},
   "outputs": [
    {
     "name": "stdout",
     "output_type": "stream",
     "text": [
      "sachin"
     ]
    }
   ],
   "source": [
    "#Iterator\n",
    "\n",
    "s = \"sachin\"\n",
    "for i in s:\n",
    "    print(i,end=\"\")"
   ]
  },
  {
   "cell_type": "code",
   "execution_count": 51,
   "id": "fa23faf1",
   "metadata": {},
   "outputs": [
    {
     "ename": "TypeError",
     "evalue": "'str' object is not an iterator",
     "output_type": "error",
     "traceback": [
      "\u001b[1;31m---------------------------------------------------------------------------\u001b[0m",
      "\u001b[1;31mTypeError\u001b[0m                                 Traceback (most recent call last)",
      "\u001b[1;32m~\\AppData\\Local\\Temp/ipykernel_11500/1977886155.py\u001b[0m in \u001b[0;36m<module>\u001b[1;34m\u001b[0m\n\u001b[1;32m----> 1\u001b[1;33m \u001b[0mnext\u001b[0m\u001b[1;33m(\u001b[0m\u001b[0ms\u001b[0m\u001b[1;33m)\u001b[0m\u001b[1;33m\u001b[0m\u001b[1;33m\u001b[0m\u001b[0m\n\u001b[0m",
      "\u001b[1;31mTypeError\u001b[0m: 'str' object is not an iterator"
     ]
    }
   ],
   "source": [
    "next(s)"
   ]
  },
  {
   "cell_type": "code",
   "execution_count": 53,
   "id": "ecd9415a",
   "metadata": {},
   "outputs": [
    {
     "data": {
      "text/plain": [
       "<str_iterator at 0x1593596dd30>"
      ]
     },
     "execution_count": 53,
     "metadata": {},
     "output_type": "execute_result"
    }
   ],
   "source": [
    "s=iter(s)\n",
    "s"
   ]
  },
  {
   "cell_type": "code",
   "execution_count": 55,
   "id": "f6faf270",
   "metadata": {},
   "outputs": [
    {
     "data": {
      "text/plain": [
       "'s'"
      ]
     },
     "execution_count": 55,
     "metadata": {},
     "output_type": "execute_result"
    }
   ],
   "source": [
    "next(s)"
   ]
  },
  {
   "cell_type": "code",
   "execution_count": 56,
   "id": "c60c60d6",
   "metadata": {},
   "outputs": [
    {
     "data": {
      "text/plain": [
       "'a'"
      ]
     },
     "execution_count": 56,
     "metadata": {},
     "output_type": "execute_result"
    }
   ],
   "source": [
    "next(s)"
   ]
  },
  {
   "cell_type": "code",
   "execution_count": 57,
   "id": "cc4710d8",
   "metadata": {},
   "outputs": [
    {
     "data": {
      "text/plain": [
       "'c'"
      ]
     },
     "execution_count": 57,
     "metadata": {},
     "output_type": "execute_result"
    }
   ],
   "source": [
    "next(s)"
   ]
  },
  {
   "cell_type": "code",
   "execution_count": 58,
   "id": "d391cc0c",
   "metadata": {},
   "outputs": [
    {
     "data": {
      "text/plain": [
       "'h'"
      ]
     },
     "execution_count": 58,
     "metadata": {},
     "output_type": "execute_result"
    }
   ],
   "source": [
    "next(s)"
   ]
  },
  {
   "cell_type": "code",
   "execution_count": 59,
   "id": "5db53a7e",
   "metadata": {},
   "outputs": [
    {
     "data": {
      "text/plain": [
       "'i'"
      ]
     },
     "execution_count": 59,
     "metadata": {},
     "output_type": "execute_result"
    }
   ],
   "source": [
    "next(s)"
   ]
  },
  {
   "cell_type": "code",
   "execution_count": 60,
   "id": "7e459ca4",
   "metadata": {},
   "outputs": [
    {
     "data": {
      "text/plain": [
       "'n'"
      ]
     },
     "execution_count": 60,
     "metadata": {},
     "output_type": "execute_result"
    }
   ],
   "source": [
    "next(s)"
   ]
  },
  {
   "cell_type": "code",
   "execution_count": 61,
   "id": "2d43719d",
   "metadata": {},
   "outputs": [
    {
     "ename": "StopIteration",
     "evalue": "",
     "output_type": "error",
     "traceback": [
      "\u001b[1;31m---------------------------------------------------------------------------\u001b[0m",
      "\u001b[1;31mStopIteration\u001b[0m                             Traceback (most recent call last)",
      "\u001b[1;32m~\\AppData\\Local\\Temp/ipykernel_11500/1977886155.py\u001b[0m in \u001b[0;36m<module>\u001b[1;34m\u001b[0m\n\u001b[1;32m----> 1\u001b[1;33m \u001b[0mnext\u001b[0m\u001b[1;33m(\u001b[0m\u001b[0ms\u001b[0m\u001b[1;33m)\u001b[0m\u001b[1;33m\u001b[0m\u001b[1;33m\u001b[0m\u001b[0m\n\u001b[0m",
      "\u001b[1;31mStopIteration\u001b[0m: "
     ]
    }
   ],
   "source": [
    "next(s)"
   ]
  },
  {
   "cell_type": "code",
   "execution_count": 90,
   "id": "49484882",
   "metadata": {},
   "outputs": [],
   "source": [
    "l = [1,2,3,4]"
   ]
  },
  {
   "cell_type": "code",
   "execution_count": 68,
   "id": "93ac6659",
   "metadata": {},
   "outputs": [
    {
     "ename": "TypeError",
     "evalue": "'list' object is not an iterator",
     "output_type": "error",
     "traceback": [
      "\u001b[1;31m---------------------------------------------------------------------------\u001b[0m",
      "\u001b[1;31mTypeError\u001b[0m                                 Traceback (most recent call last)",
      "\u001b[1;32m~\\AppData\\Local\\Temp/ipykernel_11500/4149226997.py\u001b[0m in \u001b[0;36m<module>\u001b[1;34m\u001b[0m\n\u001b[1;32m----> 1\u001b[1;33m \u001b[0ml\u001b[0m \u001b[1;33m=\u001b[0m \u001b[0mnext\u001b[0m\u001b[1;33m(\u001b[0m\u001b[0ml\u001b[0m\u001b[1;33m)\u001b[0m\u001b[1;33m\u001b[0m\u001b[1;33m\u001b[0m\u001b[0m\n\u001b[0m",
      "\u001b[1;31mTypeError\u001b[0m: 'list' object is not an iterator"
     ]
    }
   ],
   "source": [
    " next(l)"
   ]
  },
  {
   "cell_type": "code",
   "execution_count": 69,
   "id": "e3df84f7",
   "metadata": {},
   "outputs": [],
   "source": [
    "l = iter(l)"
   ]
  },
  {
   "cell_type": "code",
   "execution_count": 70,
   "id": "15df100a",
   "metadata": {},
   "outputs": [
    {
     "data": {
      "text/plain": [
       "1"
      ]
     },
     "execution_count": 70,
     "metadata": {},
     "output_type": "execute_result"
    }
   ],
   "source": [
    "next(l)"
   ]
  },
  {
   "cell_type": "code",
   "execution_count": 71,
   "id": "71d01911",
   "metadata": {},
   "outputs": [
    {
     "data": {
      "text/plain": [
       "2"
      ]
     },
     "execution_count": 71,
     "metadata": {},
     "output_type": "execute_result"
    }
   ],
   "source": [
    "next(l)"
   ]
  },
  {
   "cell_type": "code",
   "execution_count": 72,
   "id": "95b721af",
   "metadata": {},
   "outputs": [
    {
     "data": {
      "text/plain": [
       "3"
      ]
     },
     "execution_count": 72,
     "metadata": {},
     "output_type": "execute_result"
    }
   ],
   "source": [
    "next(l)"
   ]
  },
  {
   "cell_type": "code",
   "execution_count": 73,
   "id": "e5332e93",
   "metadata": {},
   "outputs": [
    {
     "data": {
      "text/plain": [
       "4"
      ]
     },
     "execution_count": 73,
     "metadata": {},
     "output_type": "execute_result"
    }
   ],
   "source": [
    "next(l)"
   ]
  },
  {
   "cell_type": "code",
   "execution_count": 74,
   "id": "c1feb733",
   "metadata": {},
   "outputs": [
    {
     "ename": "StopIteration",
     "evalue": "",
     "output_type": "error",
     "traceback": [
      "\u001b[1;31m---------------------------------------------------------------------------\u001b[0m",
      "\u001b[1;31mStopIteration\u001b[0m                             Traceback (most recent call last)",
      "\u001b[1;32m~\\AppData\\Local\\Temp/ipykernel_11500/2016234150.py\u001b[0m in \u001b[0;36m<module>\u001b[1;34m\u001b[0m\n\u001b[1;32m----> 1\u001b[1;33m \u001b[0mnext\u001b[0m\u001b[1;33m(\u001b[0m\u001b[0ml\u001b[0m\u001b[1;33m)\u001b[0m\u001b[1;33m\u001b[0m\u001b[1;33m\u001b[0m\u001b[0m\n\u001b[0m",
      "\u001b[1;31mStopIteration\u001b[0m: "
     ]
    }
   ],
   "source": [
    "next(l)"
   ]
  },
  {
   "cell_type": "code",
   "execution_count": 75,
   "id": "6bd2bc21",
   "metadata": {},
   "outputs": [],
   "source": [
    "t= (4,5,6,7)"
   ]
  },
  {
   "cell_type": "code",
   "execution_count": 76,
   "id": "1f81e8b5",
   "metadata": {},
   "outputs": [
    {
     "data": {
      "text/plain": [
       "tuple"
      ]
     },
     "execution_count": 76,
     "metadata": {},
     "output_type": "execute_result"
    }
   ],
   "source": [
    "type(t)"
   ]
  },
  {
   "cell_type": "code",
   "execution_count": 77,
   "id": "3ae08568",
   "metadata": {},
   "outputs": [
    {
     "ename": "TypeError",
     "evalue": "'tuple' object is not an iterator",
     "output_type": "error",
     "traceback": [
      "\u001b[1;31m---------------------------------------------------------------------------\u001b[0m",
      "\u001b[1;31mTypeError\u001b[0m                                 Traceback (most recent call last)",
      "\u001b[1;32m~\\AppData\\Local\\Temp/ipykernel_11500/2139502855.py\u001b[0m in \u001b[0;36m<module>\u001b[1;34m\u001b[0m\n\u001b[1;32m----> 1\u001b[1;33m \u001b[0mnext\u001b[0m\u001b[1;33m(\u001b[0m\u001b[0mt\u001b[0m\u001b[1;33m)\u001b[0m\u001b[1;33m\u001b[0m\u001b[1;33m\u001b[0m\u001b[0m\n\u001b[0m",
      "\u001b[1;31mTypeError\u001b[0m: 'tuple' object is not an iterator"
     ]
    }
   ],
   "source": [
    "next(t)"
   ]
  },
  {
   "cell_type": "code",
   "execution_count": 78,
   "id": "c7d24dbd",
   "metadata": {},
   "outputs": [],
   "source": [
    "s = set()"
   ]
  },
  {
   "cell_type": "code",
   "execution_count": 79,
   "id": "4cf16c77",
   "metadata": {},
   "outputs": [
    {
     "data": {
      "text/plain": [
       "set"
      ]
     },
     "execution_count": 79,
     "metadata": {},
     "output_type": "execute_result"
    }
   ],
   "source": [
    "type(s)"
   ]
  },
  {
   "cell_type": "code",
   "execution_count": 80,
   "id": "b7193d34",
   "metadata": {},
   "outputs": [],
   "source": [
    "s.add(4)"
   ]
  },
  {
   "cell_type": "code",
   "execution_count": 81,
   "id": "af2046f5",
   "metadata": {},
   "outputs": [],
   "source": [
    "s.add(5)"
   ]
  },
  {
   "cell_type": "code",
   "execution_count": 82,
   "id": "7caa3cba",
   "metadata": {},
   "outputs": [
    {
     "data": {
      "text/plain": [
       "{4, 5}"
      ]
     },
     "execution_count": 82,
     "metadata": {},
     "output_type": "execute_result"
    }
   ],
   "source": [
    "s"
   ]
  },
  {
   "cell_type": "code",
   "execution_count": 84,
   "id": "7c64ae80",
   "metadata": {},
   "outputs": [
    {
     "ename": "TypeError",
     "evalue": "'set' object is not an iterator",
     "output_type": "error",
     "traceback": [
      "\u001b[1;31m---------------------------------------------------------------------------\u001b[0m",
      "\u001b[1;31mTypeError\u001b[0m                                 Traceback (most recent call last)",
      "\u001b[1;32m~\\AppData\\Local\\Temp/ipykernel_11500/1977886155.py\u001b[0m in \u001b[0;36m<module>\u001b[1;34m\u001b[0m\n\u001b[1;32m----> 1\u001b[1;33m \u001b[0mnext\u001b[0m\u001b[1;33m(\u001b[0m\u001b[0ms\u001b[0m\u001b[1;33m)\u001b[0m\u001b[1;33m\u001b[0m\u001b[1;33m\u001b[0m\u001b[0m\n\u001b[0m",
      "\u001b[1;31mTypeError\u001b[0m: 'set' object is not an iterator"
     ]
    }
   ],
   "source": [
    "next(s)"
   ]
  },
  {
   "cell_type": "code",
   "execution_count": 85,
   "id": "bd86214f",
   "metadata": {},
   "outputs": [],
   "source": [
    "d = {\"a\":1,\"b\":2}"
   ]
  },
  {
   "cell_type": "code",
   "execution_count": 87,
   "id": "b9fb14b4",
   "metadata": {},
   "outputs": [
    {
     "data": {
      "text/plain": [
       "dict"
      ]
     },
     "execution_count": 87,
     "metadata": {},
     "output_type": "execute_result"
    }
   ],
   "source": [
    "type(d)"
   ]
  },
  {
   "cell_type": "code",
   "execution_count": 88,
   "id": "25e3403e",
   "metadata": {},
   "outputs": [
    {
     "ename": "TypeError",
     "evalue": "'dict' object is not an iterator",
     "output_type": "error",
     "traceback": [
      "\u001b[1;31m---------------------------------------------------------------------------\u001b[0m",
      "\u001b[1;31mTypeError\u001b[0m                                 Traceback (most recent call last)",
      "\u001b[1;32m~\\AppData\\Local\\Temp/ipykernel_11500/3131910724.py\u001b[0m in \u001b[0;36m<module>\u001b[1;34m\u001b[0m\n\u001b[1;32m----> 1\u001b[1;33m \u001b[0mnext\u001b[0m\u001b[1;33m(\u001b[0m\u001b[0md\u001b[0m\u001b[1;33m)\u001b[0m\u001b[1;33m\u001b[0m\u001b[1;33m\u001b[0m\u001b[0m\n\u001b[0m",
      "\u001b[1;31mTypeError\u001b[0m: 'dict' object is not an iterator"
     ]
    }
   ],
   "source": [
    "next(d)"
   ]
  },
  {
   "cell_type": "code",
   "execution_count": 1,
   "id": "d23f5f52",
   "metadata": {},
   "outputs": [],
   "source": [
    "l = []\n",
    "def test4(a):\n",
    "    for i in range(a):\n",
    "        l.append(i**3)\n",
    "    return l"
   ]
  },
  {
   "cell_type": "code",
   "execution_count": 10,
   "id": "fba658e3",
   "metadata": {},
   "outputs": [
    {
     "data": {
      "text/plain": [
       "[0,\n",
       " 1,\n",
       " 8,\n",
       " 27,\n",
       " 64,\n",
       " 125,\n",
       " 216,\n",
       " 343,\n",
       " 512,\n",
       " 729,\n",
       " 0,\n",
       " 1,\n",
       " 8,\n",
       " 27,\n",
       " 64,\n",
       " 125,\n",
       " 216,\n",
       " 343,\n",
       " 512,\n",
       " 729,\n",
       " 1000,\n",
       " 1331,\n",
       " 1728,\n",
       " 2197,\n",
       " 2744,\n",
       " 3375,\n",
       " 4096,\n",
       " 4913,\n",
       " 5832,\n",
       " 6859,\n",
       " 8000,\n",
       " 9261,\n",
       " 10648,\n",
       " 12167,\n",
       " 13824,\n",
       " 15625,\n",
       " 17576,\n",
       " 19683,\n",
       " 21952,\n",
       " 24389,\n",
       " 27000,\n",
       " 29791,\n",
       " 32768,\n",
       " 35937,\n",
       " 39304,\n",
       " 42875,\n",
       " 46656,\n",
       " 50653,\n",
       " 54872,\n",
       " 59319,\n",
       " 64000,\n",
       " 68921,\n",
       " 74088,\n",
       " 79507,\n",
       " 85184,\n",
       " 91125,\n",
       " 97336,\n",
       " 103823,\n",
       " 110592,\n",
       " 117649,\n",
       " 125000,\n",
       " 132651,\n",
       " 140608,\n",
       " 148877,\n",
       " 157464,\n",
       " 166375,\n",
       " 175616,\n",
       " 185193,\n",
       " 195112,\n",
       " 205379,\n",
       " 216000,\n",
       " 226981,\n",
       " 238328,\n",
       " 250047,\n",
       " 262144,\n",
       " 274625,\n",
       " 287496,\n",
       " 300763,\n",
       " 314432,\n",
       " 328509,\n",
       " 343000,\n",
       " 357911,\n",
       " 373248,\n",
       " 389017,\n",
       " 405224,\n",
       " 421875,\n",
       " 438976,\n",
       " 456533,\n",
       " 474552,\n",
       " 493039,\n",
       " 512000,\n",
       " 531441,\n",
       " 551368,\n",
       " 571787,\n",
       " 592704,\n",
       " 614125,\n",
       " 636056,\n",
       " 658503,\n",
       " 681472,\n",
       " 704969,\n",
       " 729000,\n",
       " 753571,\n",
       " 778688,\n",
       " 804357,\n",
       " 830584,\n",
       " 857375,\n",
       " 884736,\n",
       " 912673,\n",
       " 941192,\n",
       " 970299,\n",
       " 0,\n",
       " 1,\n",
       " 8,\n",
       " 27,\n",
       " 64,\n",
       " 125,\n",
       " 216,\n",
       " 343,\n",
       " 512,\n",
       " 729,\n",
       " 1000,\n",
       " 1331,\n",
       " 1728,\n",
       " 2197,\n",
       " 2744,\n",
       " 3375,\n",
       " 4096,\n",
       " 4913,\n",
       " 5832,\n",
       " 6859,\n",
       " 8000,\n",
       " 9261,\n",
       " 10648,\n",
       " 12167,\n",
       " 13824,\n",
       " 15625,\n",
       " 17576,\n",
       " 19683,\n",
       " 21952,\n",
       " 24389,\n",
       " 27000,\n",
       " 29791,\n",
       " 32768,\n",
       " 35937,\n",
       " 39304,\n",
       " 42875,\n",
       " 46656,\n",
       " 50653,\n",
       " 54872,\n",
       " 59319,\n",
       " 64000,\n",
       " 68921,\n",
       " 74088,\n",
       " 79507,\n",
       " 85184,\n",
       " 91125,\n",
       " 97336,\n",
       " 103823,\n",
       " 110592,\n",
       " 117649,\n",
       " 125000,\n",
       " 132651,\n",
       " 140608,\n",
       " 148877,\n",
       " 157464,\n",
       " 166375,\n",
       " 175616,\n",
       " 185193,\n",
       " 195112,\n",
       " 205379,\n",
       " 216000,\n",
       " 226981,\n",
       " 238328,\n",
       " 250047,\n",
       " 262144,\n",
       " 274625,\n",
       " 287496,\n",
       " 300763,\n",
       " 314432,\n",
       " 328509,\n",
       " 343000,\n",
       " 357911,\n",
       " 373248,\n",
       " 389017,\n",
       " 405224,\n",
       " 421875,\n",
       " 438976,\n",
       " 456533,\n",
       " 474552,\n",
       " 493039,\n",
       " 512000,\n",
       " 531441,\n",
       " 551368,\n",
       " 571787,\n",
       " 592704,\n",
       " 614125,\n",
       " 636056,\n",
       " 658503,\n",
       " 681472,\n",
       " 704969,\n",
       " 729000,\n",
       " 753571,\n",
       " 778688,\n",
       " 804357,\n",
       " 830584,\n",
       " 857375,\n",
       " 884736,\n",
       " 912673,\n",
       " 941192,\n",
       " 970299,\n",
       " 1000000,\n",
       " 1030301,\n",
       " 1061208,\n",
       " 1092727,\n",
       " 1124864,\n",
       " 1157625,\n",
       " 1191016,\n",
       " 1225043,\n",
       " 1259712,\n",
       " 1295029,\n",
       " 1331000,\n",
       " 1367631,\n",
       " 1404928,\n",
       " 1442897,\n",
       " 1481544,\n",
       " 1520875,\n",
       " 1560896,\n",
       " 1601613,\n",
       " 1643032,\n",
       " 1685159,\n",
       " 1728000,\n",
       " 1771561,\n",
       " 1815848,\n",
       " 1860867,\n",
       " 1906624,\n",
       " 1953125,\n",
       " 2000376,\n",
       " 2048383,\n",
       " 2097152,\n",
       " 2146689,\n",
       " 2197000,\n",
       " 2248091,\n",
       " 2299968,\n",
       " 2352637,\n",
       " 2406104,\n",
       " 2460375,\n",
       " 2515456,\n",
       " 2571353,\n",
       " 2628072,\n",
       " 2685619,\n",
       " 2744000,\n",
       " 2803221,\n",
       " 2863288,\n",
       " 2924207,\n",
       " 2985984,\n",
       " 3048625,\n",
       " 3112136,\n",
       " 3176523,\n",
       " 3241792,\n",
       " 3307949,\n",
       " 3375000,\n",
       " 3442951,\n",
       " 3511808,\n",
       " 3581577,\n",
       " 3652264,\n",
       " 3723875,\n",
       " 3796416,\n",
       " 3869893,\n",
       " 3944312,\n",
       " 4019679,\n",
       " 4096000,\n",
       " 4173281,\n",
       " 4251528,\n",
       " 4330747,\n",
       " 4410944,\n",
       " 4492125,\n",
       " 4574296,\n",
       " 4657463,\n",
       " 4741632,\n",
       " 4826809,\n",
       " 4913000,\n",
       " 5000211,\n",
       " 5088448,\n",
       " 5177717,\n",
       " 5268024,\n",
       " 5359375,\n",
       " 5451776,\n",
       " 5545233,\n",
       " 5639752,\n",
       " 5735339,\n",
       " 5832000,\n",
       " 5929741,\n",
       " 6028568,\n",
       " 6128487,\n",
       " 6229504,\n",
       " 6331625,\n",
       " 6434856,\n",
       " 6539203,\n",
       " 6644672,\n",
       " 6751269,\n",
       " 6859000,\n",
       " 6967871,\n",
       " 7077888,\n",
       " 7189057,\n",
       " 7301384,\n",
       " 7414875,\n",
       " 7529536,\n",
       " 7645373,\n",
       " 7762392,\n",
       " 7880599,\n",
       " 8000000,\n",
       " 8120601,\n",
       " 8242408,\n",
       " 8365427,\n",
       " 8489664,\n",
       " 8615125,\n",
       " 8741816,\n",
       " 8869743,\n",
       " 8998912,\n",
       " 9129329,\n",
       " 9261000,\n",
       " 9393931,\n",
       " 9528128,\n",
       " 9663597,\n",
       " 9800344,\n",
       " 9938375,\n",
       " 10077696,\n",
       " 10218313,\n",
       " 10360232,\n",
       " 10503459,\n",
       " 10648000,\n",
       " 10793861,\n",
       " 10941048,\n",
       " 11089567,\n",
       " 11239424,\n",
       " 11390625,\n",
       " 11543176,\n",
       " 11697083,\n",
       " 11852352,\n",
       " 12008989,\n",
       " 12167000,\n",
       " 12326391,\n",
       " 12487168,\n",
       " 12649337,\n",
       " 12812904,\n",
       " 12977875,\n",
       " 13144256,\n",
       " 13312053,\n",
       " 13481272,\n",
       " 13651919,\n",
       " 13824000,\n",
       " 13997521,\n",
       " 14172488,\n",
       " 14348907,\n",
       " 14526784,\n",
       " 14706125,\n",
       " 14886936,\n",
       " 15069223,\n",
       " 15252992,\n",
       " 15438249,\n",
       " 15625000,\n",
       " 15813251,\n",
       " 16003008,\n",
       " 16194277,\n",
       " 16387064,\n",
       " 16581375,\n",
       " 16777216,\n",
       " 16974593,\n",
       " 17173512,\n",
       " 17373979,\n",
       " 17576000,\n",
       " 17779581,\n",
       " 17984728,\n",
       " 18191447,\n",
       " 18399744,\n",
       " 18609625,\n",
       " 18821096,\n",
       " 19034163,\n",
       " 19248832,\n",
       " 19465109,\n",
       " 19683000,\n",
       " 19902511,\n",
       " 20123648,\n",
       " 20346417,\n",
       " 20570824,\n",
       " 20796875,\n",
       " 21024576,\n",
       " 21253933,\n",
       " 21484952,\n",
       " 21717639,\n",
       " 21952000,\n",
       " 22188041,\n",
       " 22425768,\n",
       " 22665187,\n",
       " 22906304,\n",
       " 23149125,\n",
       " 23393656,\n",
       " 23639903,\n",
       " 23887872,\n",
       " 24137569,\n",
       " 24389000,\n",
       " 24642171,\n",
       " 24897088,\n",
       " 25153757,\n",
       " 25412184,\n",
       " 25672375,\n",
       " 25934336,\n",
       " 26198073,\n",
       " 26463592,\n",
       " 26730899,\n",
       " 27000000,\n",
       " 27270901,\n",
       " 27543608,\n",
       " 27818127,\n",
       " 28094464,\n",
       " 28372625,\n",
       " 28652616,\n",
       " 28934443,\n",
       " 29218112,\n",
       " 29503629,\n",
       " 29791000,\n",
       " 30080231,\n",
       " 30371328,\n",
       " 30664297,\n",
       " 30959144,\n",
       " 31255875,\n",
       " 31554496,\n",
       " 31855013,\n",
       " 32157432,\n",
       " 32461759,\n",
       " 32768000,\n",
       " 33076161,\n",
       " 33386248,\n",
       " 33698267,\n",
       " 34012224,\n",
       " 34328125,\n",
       " 34645976,\n",
       " 34965783,\n",
       " 35287552,\n",
       " 35611289,\n",
       " 35937000,\n",
       " 36264691,\n",
       " 36594368,\n",
       " 36926037,\n",
       " 37259704,\n",
       " 37595375,\n",
       " 37933056,\n",
       " 38272753,\n",
       " 38614472,\n",
       " 38958219,\n",
       " 39304000,\n",
       " 39651821,\n",
       " 40001688,\n",
       " 40353607,\n",
       " 40707584,\n",
       " 41063625,\n",
       " 41421736,\n",
       " 41781923,\n",
       " 42144192,\n",
       " 42508549,\n",
       " 42875000,\n",
       " 43243551,\n",
       " 43614208,\n",
       " 43986977,\n",
       " 44361864,\n",
       " 44738875,\n",
       " 45118016,\n",
       " 45499293,\n",
       " 45882712,\n",
       " 46268279,\n",
       " 46656000,\n",
       " 47045881,\n",
       " 47437928,\n",
       " 47832147,\n",
       " 48228544,\n",
       " 48627125,\n",
       " 49027896,\n",
       " 49430863,\n",
       " 49836032,\n",
       " 50243409,\n",
       " 50653000,\n",
       " 51064811,\n",
       " 51478848,\n",
       " 51895117,\n",
       " 52313624,\n",
       " 52734375,\n",
       " 53157376,\n",
       " 53582633,\n",
       " 54010152,\n",
       " 54439939,\n",
       " 54872000,\n",
       " 55306341,\n",
       " 55742968,\n",
       " 56181887,\n",
       " 56623104,\n",
       " 57066625,\n",
       " 57512456,\n",
       " 57960603,\n",
       " 58411072,\n",
       " 58863869,\n",
       " 59319000,\n",
       " 59776471,\n",
       " 60236288,\n",
       " 60698457,\n",
       " 61162984,\n",
       " 61629875,\n",
       " 62099136,\n",
       " 62570773,\n",
       " 63044792,\n",
       " 63521199,\n",
       " 64000000,\n",
       " 64481201,\n",
       " 64964808,\n",
       " 65450827,\n",
       " 65939264,\n",
       " 66430125,\n",
       " 66923416,\n",
       " 67419143,\n",
       " 67917312,\n",
       " 68417929,\n",
       " 68921000,\n",
       " 69426531,\n",
       " 69934528,\n",
       " 70444997,\n",
       " 70957944,\n",
       " 71473375,\n",
       " 71991296,\n",
       " 72511713,\n",
       " 73034632,\n",
       " 73560059,\n",
       " 74088000,\n",
       " 74618461,\n",
       " 75151448,\n",
       " 75686967,\n",
       " 76225024,\n",
       " 76765625,\n",
       " 77308776,\n",
       " 77854483,\n",
       " 78402752,\n",
       " 78953589,\n",
       " 79507000,\n",
       " 80062991,\n",
       " 80621568,\n",
       " 81182737,\n",
       " 81746504,\n",
       " 82312875,\n",
       " 82881856,\n",
       " 83453453,\n",
       " 84027672,\n",
       " 84604519,\n",
       " 85184000,\n",
       " 85766121,\n",
       " 86350888,\n",
       " 86938307,\n",
       " 87528384,\n",
       " 88121125,\n",
       " 88716536,\n",
       " 89314623,\n",
       " 89915392,\n",
       " 90518849,\n",
       " 91125000,\n",
       " 91733851,\n",
       " 92345408,\n",
       " 92959677,\n",
       " 93576664,\n",
       " 94196375,\n",
       " 94818816,\n",
       " 95443993,\n",
       " 96071912,\n",
       " 96702579,\n",
       " 97336000,\n",
       " 97972181,\n",
       " 98611128,\n",
       " 99252847,\n",
       " 99897344,\n",
       " 100544625,\n",
       " 101194696,\n",
       " 101847563,\n",
       " 102503232,\n",
       " 103161709,\n",
       " 103823000,\n",
       " 104487111,\n",
       " 105154048,\n",
       " 105823817,\n",
       " 106496424,\n",
       " 107171875,\n",
       " 107850176,\n",
       " 108531333,\n",
       " 109215352,\n",
       " 109902239,\n",
       " 110592000,\n",
       " 111284641,\n",
       " 111980168,\n",
       " 112678587,\n",
       " 113379904,\n",
       " 114084125,\n",
       " 114791256,\n",
       " 115501303,\n",
       " 116214272,\n",
       " 116930169,\n",
       " 117649000,\n",
       " 118370771,\n",
       " 119095488,\n",
       " 119823157,\n",
       " 120553784,\n",
       " 121287375,\n",
       " 122023936,\n",
       " 122763473,\n",
       " 123505992,\n",
       " 124251499,\n",
       " 125000000,\n",
       " 125751501,\n",
       " 126506008,\n",
       " 127263527,\n",
       " 128024064,\n",
       " 128787625,\n",
       " 129554216,\n",
       " 130323843,\n",
       " 131096512,\n",
       " 131872229,\n",
       " 132651000,\n",
       " 133432831,\n",
       " 134217728,\n",
       " 135005697,\n",
       " 135796744,\n",
       " 136590875,\n",
       " 137388096,\n",
       " 138188413,\n",
       " 138991832,\n",
       " 139798359,\n",
       " 140608000,\n",
       " 141420761,\n",
       " 142236648,\n",
       " 143055667,\n",
       " 143877824,\n",
       " 144703125,\n",
       " 145531576,\n",
       " 146363183,\n",
       " 147197952,\n",
       " 148035889,\n",
       " 148877000,\n",
       " 149721291,\n",
       " 150568768,\n",
       " 151419437,\n",
       " 152273304,\n",
       " 153130375,\n",
       " 153990656,\n",
       " 154854153,\n",
       " 155720872,\n",
       " 156590819,\n",
       " 157464000,\n",
       " 158340421,\n",
       " 159220088,\n",
       " 160103007,\n",
       " 160989184,\n",
       " 161878625,\n",
       " 162771336,\n",
       " 163667323,\n",
       " 164566592,\n",
       " 165469149,\n",
       " 166375000,\n",
       " 167284151,\n",
       " 168196608,\n",
       " 169112377,\n",
       " 170031464,\n",
       " 170953875,\n",
       " 171879616,\n",
       " 172808693,\n",
       " 173741112,\n",
       " 174676879,\n",
       " 175616000,\n",
       " 176558481,\n",
       " 177504328,\n",
       " 178453547,\n",
       " 179406144,\n",
       " 180362125,\n",
       " 181321496,\n",
       " 182284263,\n",
       " 183250432,\n",
       " 184220009,\n",
       " 185193000,\n",
       " 186169411,\n",
       " 187149248,\n",
       " 188132517,\n",
       " 189119224,\n",
       " 190109375,\n",
       " 191102976,\n",
       " 192100033,\n",
       " 193100552,\n",
       " 194104539,\n",
       " 195112000,\n",
       " 196122941,\n",
       " 197137368,\n",
       " 198155287,\n",
       " 199176704,\n",
       " 200201625,\n",
       " 201230056,\n",
       " 202262003,\n",
       " 203297472,\n",
       " 204336469,\n",
       " 205379000,\n",
       " 206425071,\n",
       " 207474688,\n",
       " 208527857,\n",
       " 209584584,\n",
       " 210644875,\n",
       " 211708736,\n",
       " 212776173,\n",
       " 213847192,\n",
       " 214921799,\n",
       " 216000000,\n",
       " 217081801,\n",
       " 218167208,\n",
       " 219256227,\n",
       " 220348864,\n",
       " 221445125,\n",
       " 222545016,\n",
       " 223648543,\n",
       " 224755712,\n",
       " 225866529,\n",
       " 226981000,\n",
       " 228099131,\n",
       " 229220928,\n",
       " 230346397,\n",
       " 231475544,\n",
       " 232608375,\n",
       " 233744896,\n",
       " 234885113,\n",
       " 236029032,\n",
       " 237176659,\n",
       " 238328000,\n",
       " 239483061,\n",
       " 240641848,\n",
       " 241804367,\n",
       " 242970624,\n",
       " 244140625,\n",
       " 245314376,\n",
       " 246491883,\n",
       " 247673152,\n",
       " 248858189,\n",
       " 250047000,\n",
       " 251239591,\n",
       " 252435968,\n",
       " 253636137,\n",
       " 254840104,\n",
       " 256047875,\n",
       " 257259456,\n",
       " 258474853,\n",
       " 259694072,\n",
       " 260917119,\n",
       " 262144000,\n",
       " 263374721,\n",
       " 264609288,\n",
       " 265847707,\n",
       " 267089984,\n",
       " 268336125,\n",
       " 269586136,\n",
       " 270840023,\n",
       " 272097792,\n",
       " 273359449,\n",
       " 274625000,\n",
       " 275894451,\n",
       " 277167808,\n",
       " 278445077,\n",
       " 279726264,\n",
       " 281011375,\n",
       " 282300416,\n",
       " 283593393,\n",
       " 284890312,\n",
       " 286191179,\n",
       " 287496000,\n",
       " 288804781,\n",
       " 290117528,\n",
       " 291434247,\n",
       " 292754944,\n",
       " 294079625,\n",
       " 295408296,\n",
       " 296740963,\n",
       " 298077632,\n",
       " 299418309,\n",
       " 300763000,\n",
       " 302111711,\n",
       " 303464448,\n",
       " 304821217,\n",
       " 306182024,\n",
       " 307546875,\n",
       " 308915776,\n",
       " 310288733,\n",
       " 311665752,\n",
       " 313046839,\n",
       " 314432000,\n",
       " 315821241,\n",
       " 317214568,\n",
       " 318611987,\n",
       " 320013504,\n",
       " 321419125,\n",
       " 322828856,\n",
       " 324242703,\n",
       " 325660672,\n",
       " 327082769,\n",
       " 328509000,\n",
       " 329939371,\n",
       " 331373888,\n",
       " 332812557,\n",
       " 334255384,\n",
       " 335702375,\n",
       " 337153536,\n",
       " 338608873,\n",
       " 340068392,\n",
       " 341532099,\n",
       " 343000000,\n",
       " 344472101,\n",
       " 345948408,\n",
       " 347428927,\n",
       " 348913664,\n",
       " 350402625,\n",
       " 351895816,\n",
       " 353393243,\n",
       " 354894912,\n",
       " 356400829,\n",
       " 357911000,\n",
       " 359425431,\n",
       " 360944128,\n",
       " 362467097,\n",
       " 363994344,\n",
       " 365525875,\n",
       " 367061696,\n",
       " 368601813,\n",
       " 370146232,\n",
       " 371694959,\n",
       " 373248000,\n",
       " 374805361,\n",
       " 376367048,\n",
       " 377933067,\n",
       " 379503424,\n",
       " 381078125,\n",
       " 382657176,\n",
       " 384240583,\n",
       " 385828352,\n",
       " 387420489,\n",
       " 389017000,\n",
       " 390617891,\n",
       " 392223168,\n",
       " 393832837,\n",
       " 395446904,\n",
       " 397065375,\n",
       " 398688256,\n",
       " 400315553,\n",
       " 401947272,\n",
       " 403583419,\n",
       " 405224000,\n",
       " 406869021,\n",
       " 408518488,\n",
       " 410172407,\n",
       " 411830784,\n",
       " 413493625,\n",
       " 415160936,\n",
       " 416832723,\n",
       " 418508992,\n",
       " 420189749,\n",
       " 421875000,\n",
       " 423564751,\n",
       " 425259008,\n",
       " 426957777,\n",
       " 428661064,\n",
       " 430368875,\n",
       " 432081216,\n",
       " 433798093,\n",
       " 435519512,\n",
       " 437245479,\n",
       " 438976000,\n",
       " 440711081,\n",
       " 442450728,\n",
       " 444194947,\n",
       " 445943744,\n",
       " 447697125,\n",
       " 449455096,\n",
       " 451217663,\n",
       " 452984832,\n",
       " 454756609,\n",
       " 456533000,\n",
       " 458314011,\n",
       " 460099648,\n",
       " 461889917,\n",
       " 463684824,\n",
       " 465484375,\n",
       " 467288576,\n",
       " 469097433,\n",
       " 470910952,\n",
       " 472729139,\n",
       " 474552000,\n",
       " 476379541,\n",
       " 478211768,\n",
       " 480048687,\n",
       " 481890304,\n",
       " 483736625,\n",
       " 485587656,\n",
       " 487443403,\n",
       " 489303872,\n",
       " 491169069,\n",
       " 493039000,\n",
       " 494913671,\n",
       " 496793088,\n",
       " 498677257,\n",
       " 500566184,\n",
       " 502459875,\n",
       " 504358336,\n",
       " 506261573,\n",
       " 508169592,\n",
       " 510082399,\n",
       " 512000000,\n",
       " 513922401,\n",
       " 515849608,\n",
       " 517781627,\n",
       " 519718464,\n",
       " 521660125,\n",
       " 523606616,\n",
       " 525557943,\n",
       " 527514112,\n",
       " 529475129,\n",
       " 531441000,\n",
       " 533411731,\n",
       " 535387328,\n",
       " 537367797,\n",
       " 539353144,\n",
       " 541343375,\n",
       " 543338496,\n",
       " 545338513,\n",
       " 547343432,\n",
       " 549353259,\n",
       " 551368000,\n",
       " 553387661,\n",
       " 555412248,\n",
       " 557441767,\n",
       " 559476224,\n",
       " 561515625,\n",
       " 563559976,\n",
       " 565609283,\n",
       " 567663552,\n",
       " 569722789,\n",
       " 571787000,\n",
       " 573856191,\n",
       " 575930368,\n",
       " 578009537,\n",
       " 580093704,\n",
       " 582182875,\n",
       " 584277056,\n",
       " 586376253,\n",
       " 588480472,\n",
       " 590589719,\n",
       " 592704000,\n",
       " 594823321,\n",
       " 596947688,\n",
       " 599077107,\n",
       " 601211584,\n",
       " 603351125,\n",
       " 605495736,\n",
       " 607645423,\n",
       " 609800192,\n",
       " 611960049,\n",
       " 614125000,\n",
       " 616295051,\n",
       " 618470208,\n",
       " 620650477,\n",
       " 622835864,\n",
       " 625026375,\n",
       " 627222016,\n",
       " 629422793,\n",
       " 631628712,\n",
       " 633839779,\n",
       " 636056000,\n",
       " 638277381,\n",
       " 640503928,\n",
       " 642735647,\n",
       " 644972544,\n",
       " 647214625,\n",
       " 649461896,\n",
       " 651714363,\n",
       " 653972032,\n",
       " 656234909,\n",
       " 658503000,\n",
       " 660776311,\n",
       " 663054848,\n",
       " 665338617,\n",
       " 667627624,\n",
       " 669921875,\n",
       " 672221376,\n",
       " 674526133,\n",
       " 676836152,\n",
       " 679151439,\n",
       " 681472000,\n",
       " 683797841,\n",
       " 686128968,\n",
       " 688465387,\n",
       " 690807104,\n",
       " 693154125,\n",
       " 695506456,\n",
       " 697864103,\n",
       " 700227072,\n",
       " 702595369,\n",
       " ...]"
      ]
     },
     "execution_count": 10,
     "metadata": {},
     "output_type": "execute_result"
    }
   ],
   "source": [
    "test4(10000)"
   ]
  },
  {
   "cell_type": "code",
   "execution_count": 89,
   "id": "1a5fed04",
   "metadata": {},
   "outputs": [],
   "source": [
    "# Generator\n"
   ]
  },
  {
   "cell_type": "code",
   "execution_count": 11,
   "id": "034db99a",
   "metadata": {},
   "outputs": [],
   "source": [
    "def test6(a):\n",
    "    for i in range(a):\n",
    "        yield i **3"
   ]
  },
  {
   "cell_type": "code",
   "execution_count": 12,
   "id": "29ee3f44",
   "metadata": {},
   "outputs": [
    {
     "data": {
      "text/plain": [
       "<generator object test6 at 0x000001FD55F35890>"
      ]
     },
     "execution_count": 12,
     "metadata": {},
     "output_type": "execute_result"
    }
   ],
   "source": [
    "test6(30)"
   ]
  },
  {
   "cell_type": "code",
   "execution_count": 16,
   "id": "28dd6480",
   "metadata": {},
   "outputs": [
    {
     "name": "stdout",
     "output_type": "stream",
     "text": [
      "0\n",
      "1\n",
      "8\n",
      "27\n",
      "64\n",
      "125\n",
      "216\n",
      "343\n",
      "512\n",
      "729\n",
      "1000\n",
      "1331\n",
      "1728\n",
      "2197\n",
      "2744\n",
      "3375\n",
      "4096\n",
      "4913\n",
      "5832\n",
      "6859\n",
      "8000\n",
      "9261\n",
      "10648\n",
      "12167\n",
      "13824\n",
      "15625\n",
      "17576\n",
      "19683\n",
      "21952\n",
      "24389\n"
     ]
    }
   ],
   "source": [
    "for i in test6(30):\n",
    "    print (i)"
   ]
  },
  {
   "cell_type": "code",
   "execution_count": 18,
   "id": "90a27987",
   "metadata": {},
   "outputs": [],
   "source": [
    "def test7(name):\n",
    "    name1 = name[::-1]\n",
    "    if name == name1:\n",
    "        return \"Your name is same\"\n",
    "    else:\n",
    "        return \"your name is not same\""
   ]
  },
  {
   "cell_type": "code",
   "execution_count": 21,
   "id": "ec54e470",
   "metadata": {},
   "outputs": [
    {
     "data": {
      "text/plain": [
       "'Your name is same'"
      ]
     },
     "execution_count": 21,
     "metadata": {},
     "output_type": "execute_result"
    }
   ],
   "source": [
    "test7(\"nitin\")"
   ]
  },
  {
   "cell_type": "code",
   "execution_count": 1,
   "id": "422af939",
   "metadata": {},
   "outputs": [],
   "source": [
    "#To generate fibonacci series\n",
    "def genfibonacciseries(n):\n",
    "    a= 1\n",
    "    b= 1\n",
    "    output = []\n",
    "    for i in range(n):\n",
    "        output.append(a)\n",
    "        a, b = b, a+b\n",
    "    return output"
   ]
  },
  {
   "cell_type": "code",
   "execution_count": null,
   "id": "2db51762",
   "metadata": {},
   "outputs": [],
   "source": [
    "genfibonacciseries(15)"
   ]
  },
  {
   "cell_type": "code",
   "execution_count": 2,
   "id": "320ecf79",
   "metadata": {},
   "outputs": [],
   "source": [
    "#To generate fibonacci series\n",
    "def genfibonacciserieswithyield(n):\n",
    "    a= 1\n",
    "    b= 1\n",
    "   \n",
    "    for i in range(n):\n",
    "        yield a\n",
    "        a, b = b, a+b\n",
    "    "
   ]
  },
  {
   "cell_type": "code",
   "execution_count": 47,
   "id": "20852459",
   "metadata": {},
   "outputs": [
    {
     "data": {
      "text/plain": [
       "<generator object genfibonacciserieswithyield at 0x000001FE273AB6D0>"
      ]
     },
     "execution_count": 47,
     "metadata": {},
     "output_type": "execute_result"
    }
   ],
   "source": [
    "genfibonacciserieswithyield(15)"
   ]
  },
  {
   "cell_type": "code",
   "execution_count": 3,
   "id": "02c5ac8a",
   "metadata": {
    "scrolled": true
   },
   "outputs": [
    {
     "name": "stdout",
     "output_type": "stream",
     "text": [
      "1\n",
      "1\n",
      "2\n",
      "3\n",
      "5\n",
      "8\n",
      "13\n",
      "21\n",
      "34\n",
      "55\n",
      "89\n",
      "144\n",
      "233\n",
      "377\n",
      "610\n"
     ]
    }
   ],
   "source": [
    "for i in genfibonacciserieswithyield(15):\n",
    "    print(i)"
   ]
  },
  {
   "cell_type": "code",
   "execution_count": 52,
   "id": "ea980b3b",
   "metadata": {},
   "outputs": [
    {
     "ename": "NameError",
     "evalue": "name 'a' is not defined",
     "output_type": "error",
     "traceback": [
      "\u001b[1;31m---------------------------------------------------------------------------\u001b[0m",
      "\u001b[1;31mNameError\u001b[0m                                 Traceback (most recent call last)",
      "\u001b[1;32m~\\AppData\\Local\\Temp/ipykernel_7480/2167009006.py\u001b[0m in \u001b[0;36m<module>\u001b[1;34m\u001b[0m\n\u001b[1;32m----> 1\u001b[1;33m \u001b[0ma\u001b[0m\u001b[1;33m\u001b[0m\u001b[1;33m\u001b[0m\u001b[0m\n\u001b[0m",
      "\u001b[1;31mNameError\u001b[0m: name 'a' is not defined"
     ]
    }
   ],
   "source": [
    "a"
   ]
  },
  {
   "cell_type": "code",
   "execution_count": 4,
   "id": "5300f214",
   "metadata": {},
   "outputs": [
    {
     "data": {
      "text/plain": [
       "'D:\\\\Data_science\\\\01-Python'"
      ]
     },
     "execution_count": 4,
     "metadata": {},
     "output_type": "execute_result"
    }
   ],
   "source": [
    "pwd"
   ]
  },
  {
   "cell_type": "code",
   "execution_count": 13,
   "id": "b7bff5da",
   "metadata": {},
   "outputs": [],
   "source": [
    "f = open('text.txt','w')"
   ]
  },
  {
   "cell_type": "code",
   "execution_count": 15,
   "id": "7cee5560",
   "metadata": {},
   "outputs": [],
   "source": [
    "f.write(\"Hello, I am learning python\")\n",
    "f.close()"
   ]
  },
  {
   "cell_type": "code",
   "execution_count": 18,
   "id": "2a08a0f0",
   "metadata": {},
   "outputs": [],
   "source": [
    "f = open(\"text.txt\")"
   ]
  },
  {
   "cell_type": "code",
   "execution_count": 19,
   "id": "30e372a0",
   "metadata": {},
   "outputs": [
    {
     "data": {
      "text/plain": [
       "'Hello, I am learning pythonHello, I am learning python'"
      ]
     },
     "execution_count": 19,
     "metadata": {},
     "output_type": "execute_result"
    }
   ],
   "source": [
    "f.read()"
   ]
  },
  {
   "cell_type": "code",
   "execution_count": 20,
   "id": "04313258",
   "metadata": {},
   "outputs": [
    {
     "data": {
      "text/plain": [
       "''"
      ]
     },
     "execution_count": 20,
     "metadata": {},
     "output_type": "execute_result"
    }
   ],
   "source": [
    "f.read()"
   ]
  },
  {
   "cell_type": "code",
   "execution_count": 21,
   "id": "b45a0b9e",
   "metadata": {},
   "outputs": [
    {
     "data": {
      "text/plain": [
       "10"
      ]
     },
     "execution_count": 21,
     "metadata": {},
     "output_type": "execute_result"
    }
   ],
   "source": [
    "f.seek(10)"
   ]
  },
  {
   "cell_type": "code",
   "execution_count": 22,
   "id": "ad5f3d38",
   "metadata": {},
   "outputs": [
    {
     "data": {
      "text/plain": [
       "'m learning pythonHello, I am learning python'"
      ]
     },
     "execution_count": 22,
     "metadata": {},
     "output_type": "execute_result"
    }
   ],
   "source": [
    "f.read()"
   ]
  },
  {
   "cell_type": "code",
   "execution_count": 23,
   "id": "2acc4dd9",
   "metadata": {},
   "outputs": [
    {
     "data": {
      "text/plain": [
       "''"
      ]
     },
     "execution_count": 23,
     "metadata": {},
     "output_type": "execute_result"
    }
   ],
   "source": [
    "f.read()"
   ]
  },
  {
   "cell_type": "code",
   "execution_count": 24,
   "id": "ef9823bd",
   "metadata": {},
   "outputs": [
    {
     "data": {
      "text/plain": [
       "0"
      ]
     },
     "execution_count": 24,
     "metadata": {},
     "output_type": "execute_result"
    }
   ],
   "source": [
    "f.seek(0)"
   ]
  },
  {
   "cell_type": "code",
   "execution_count": 25,
   "id": "841197ff",
   "metadata": {},
   "outputs": [
    {
     "data": {
      "text/plain": [
       "'Hello, I am learning pythonHello, I am learning python'"
      ]
     },
     "execution_count": 25,
     "metadata": {},
     "output_type": "execute_result"
    }
   ],
   "source": [
    "f.read()"
   ]
  },
  {
   "cell_type": "code",
   "execution_count": 27,
   "id": "48819f98",
   "metadata": {},
   "outputs": [],
   "source": [
    "f1 = open(\"text.txt\",\"r\")"
   ]
  },
  {
   "cell_type": "code",
   "execution_count": 28,
   "id": "01162f21",
   "metadata": {},
   "outputs": [
    {
     "ename": "UnsupportedOperation",
     "evalue": "not writable",
     "output_type": "error",
     "traceback": [
      "\u001b[1;31m---------------------------------------------------------------------------\u001b[0m",
      "\u001b[1;31mUnsupportedOperation\u001b[0m                      Traceback (most recent call last)",
      "\u001b[1;32m~\\AppData\\Local\\Temp/ipykernel_6328/3714602341.py\u001b[0m in \u001b[0;36m<module>\u001b[1;34m\u001b[0m\n\u001b[1;32m----> 1\u001b[1;33m \u001b[0mf\u001b[0m\u001b[1;33m.\u001b[0m\u001b[0mwrite\u001b[0m\u001b[1;33m(\u001b[0m\u001b[1;34m\"Hello\"\u001b[0m\u001b[1;33m)\u001b[0m\u001b[1;33m\u001b[0m\u001b[1;33m\u001b[0m\u001b[0m\n\u001b[0m",
      "\u001b[1;31mUnsupportedOperation\u001b[0m: not writable"
     ]
    }
   ],
   "source": [
    "f.write(\"Hello\")"
   ]
  },
  {
   "cell_type": "code",
   "execution_count": 29,
   "id": "f20f857d",
   "metadata": {},
   "outputs": [
    {
     "data": {
      "text/plain": [
       "''"
      ]
     },
     "execution_count": 29,
     "metadata": {},
     "output_type": "execute_result"
    }
   ],
   "source": [
    "f.read()"
   ]
  },
  {
   "cell_type": "code",
   "execution_count": 35,
   "id": "f7c6ee28",
   "metadata": {},
   "outputs": [
    {
     "data": {
      "text/plain": [
       "25"
      ]
     },
     "execution_count": 35,
     "metadata": {},
     "output_type": "execute_result"
    }
   ],
   "source": [
    "f.seek(25)"
   ]
  },
  {
   "cell_type": "code",
   "execution_count": 36,
   "id": "4571877b",
   "metadata": {},
   "outputs": [
    {
     "data": {
      "text/plain": [
       "'onHello, I am learning python'"
      ]
     },
     "execution_count": 36,
     "metadata": {},
     "output_type": "execute_result"
    }
   ],
   "source": [
    "f.read()"
   ]
  },
  {
   "cell_type": "code",
   "execution_count": 37,
   "id": "3cbc1197",
   "metadata": {},
   "outputs": [],
   "source": [
    "f.close()"
   ]
  },
  {
   "cell_type": "code",
   "execution_count": 38,
   "id": "88c18004",
   "metadata": {},
   "outputs": [
    {
     "ename": "ValueError",
     "evalue": "I/O operation on closed file.",
     "output_type": "error",
     "traceback": [
      "\u001b[1;31m---------------------------------------------------------------------------\u001b[0m",
      "\u001b[1;31mValueError\u001b[0m                                Traceback (most recent call last)",
      "\u001b[1;32m~\\AppData\\Local\\Temp/ipykernel_6328/3059900045.py\u001b[0m in \u001b[0;36m<module>\u001b[1;34m\u001b[0m\n\u001b[1;32m----> 1\u001b[1;33m \u001b[0mf\u001b[0m\u001b[1;33m.\u001b[0m\u001b[0mread\u001b[0m\u001b[1;33m(\u001b[0m\u001b[1;33m)\u001b[0m\u001b[1;33m\u001b[0m\u001b[1;33m\u001b[0m\u001b[0m\n\u001b[0m",
      "\u001b[1;31mValueError\u001b[0m: I/O operation on closed file."
     ]
    }
   ],
   "source": [
    "f.read()"
   ]
  },
  {
   "cell_type": "code",
   "execution_count": 40,
   "id": "95c28097",
   "metadata": {},
   "outputs": [],
   "source": [
    "f = open('test.txt','a')"
   ]
  },
  {
   "cell_type": "code",
   "execution_count": 42,
   "id": "55aedfc9",
   "metadata": {},
   "outputs": [
    {
     "data": {
      "text/plain": [
       "22"
      ]
     },
     "execution_count": 42,
     "metadata": {},
     "output_type": "execute_result"
    }
   ],
   "source": [
    "f.write(\"This is my second line\")"
   ]
  },
  {
   "cell_type": "code",
   "execution_count": 44,
   "id": "c268aa3e",
   "metadata": {},
   "outputs": [],
   "source": [
    "f.close()"
   ]
  },
  {
   "cell_type": "code",
   "execution_count": 47,
   "id": "8106e7f1",
   "metadata": {},
   "outputs": [],
   "source": [
    "f= open('test.txt')"
   ]
  },
  {
   "cell_type": "code",
   "execution_count": 48,
   "id": "643bafbd",
   "metadata": {},
   "outputs": [
    {
     "data": {
      "text/plain": [
       "'This is my second line'"
      ]
     },
     "execution_count": 48,
     "metadata": {},
     "output_type": "execute_result"
    }
   ],
   "source": [
    "f.read()"
   ]
  },
  {
   "cell_type": "code",
   "execution_count": 49,
   "id": "cd01bea0",
   "metadata": {},
   "outputs": [],
   "source": [
    "f.close()"
   ]
  },
  {
   "cell_type": "code",
   "execution_count": 50,
   "id": "b644984c",
   "metadata": {},
   "outputs": [],
   "source": [
    "f = open(\"text.txt\",\"a\")"
   ]
  },
  {
   "cell_type": "code",
   "execution_count": 51,
   "id": "218612a5",
   "metadata": {},
   "outputs": [
    {
     "data": {
      "text/plain": [
       "10"
      ]
     },
     "execution_count": 51,
     "metadata": {},
     "output_type": "execute_result"
    }
   ],
   "source": [
    "f.write(\"Third line\")"
   ]
  },
  {
   "cell_type": "code",
   "execution_count": 52,
   "id": "75c2317d",
   "metadata": {},
   "outputs": [],
   "source": [
    "f.close()"
   ]
  },
  {
   "cell_type": "code",
   "execution_count": 53,
   "id": "9b17f7d1",
   "metadata": {},
   "outputs": [],
   "source": [
    "f = open(\"test1.txt\",'wb')"
   ]
  },
  {
   "cell_type": "code",
   "execution_count": 54,
   "id": "710fcb97",
   "metadata": {},
   "outputs": [
    {
     "ename": "TypeError",
     "evalue": "a bytes-like object is required, not 'str'",
     "output_type": "error",
     "traceback": [
      "\u001b[1;31m---------------------------------------------------------------------------\u001b[0m",
      "\u001b[1;31mTypeError\u001b[0m                                 Traceback (most recent call last)",
      "\u001b[1;32m~\\AppData\\Local\\Temp/ipykernel_6328/3846591866.py\u001b[0m in \u001b[0;36m<module>\u001b[1;34m\u001b[0m\n\u001b[1;32m----> 1\u001b[1;33m \u001b[0mf\u001b[0m\u001b[1;33m.\u001b[0m\u001b[0mwrite\u001b[0m\u001b[1;33m(\u001b[0m\u001b[1;34m\"Hello, This is my binary file\"\u001b[0m\u001b[1;33m)\u001b[0m\u001b[1;33m\u001b[0m\u001b[1;33m\u001b[0m\u001b[0m\n\u001b[0m",
      "\u001b[1;31mTypeError\u001b[0m: a bytes-like object is required, not 'str'"
     ]
    }
   ],
   "source": [
    "f.write(\"Hello, This is my binary file\")"
   ]
  },
  {
   "cell_type": "code",
   "execution_count": 55,
   "id": "a0c468bb",
   "metadata": {},
   "outputs": [
    {
     "data": {
      "text/plain": [
       "29"
      ]
     },
     "execution_count": 55,
     "metadata": {},
     "output_type": "execute_result"
    }
   ],
   "source": [
    "# to add binary content in file always use b\n",
    "f.write(b\"Hello, This is my binary file\")"
   ]
  },
  {
   "cell_type": "code",
   "execution_count": 56,
   "id": "aa0be548",
   "metadata": {},
   "outputs": [],
   "source": [
    "f.close()"
   ]
  },
  {
   "cell_type": "code",
   "execution_count": 57,
   "id": "f631abb0",
   "metadata": {},
   "outputs": [],
   "source": [
    "f= open(\"test1.txt\",'r')"
   ]
  },
  {
   "cell_type": "code",
   "execution_count": 58,
   "id": "5823b47e",
   "metadata": {},
   "outputs": [
    {
     "data": {
      "text/plain": [
       "'Hello, This is my binary file'"
      ]
     },
     "execution_count": 58,
     "metadata": {},
     "output_type": "execute_result"
    }
   ],
   "source": [
    "f.read()"
   ]
  },
  {
   "cell_type": "code",
   "execution_count": 59,
   "id": "5df668e8",
   "metadata": {},
   "outputs": [
    {
     "data": {
      "text/plain": [
       "2"
      ]
     },
     "execution_count": 59,
     "metadata": {},
     "output_type": "execute_result"
    }
   ],
   "source": [
    "f.seek(2)"
   ]
  },
  {
   "cell_type": "code",
   "execution_count": 61,
   "id": "d57595a1",
   "metadata": {},
   "outputs": [
    {
     "data": {
      "text/plain": [
       "'lo'"
      ]
     },
     "execution_count": 61,
     "metadata": {},
     "output_type": "execute_result"
    }
   ],
   "source": [
    "f.read(2)"
   ]
  },
  {
   "cell_type": "code",
   "execution_count": 64,
   "id": "c6e92e49",
   "metadata": {},
   "outputs": [
    {
     "data": {
      "text/plain": [
       "0"
      ]
     },
     "execution_count": 64,
     "metadata": {},
     "output_type": "execute_result"
    }
   ],
   "source": [
    "f.seek(0)"
   ]
  },
  {
   "cell_type": "code",
   "execution_count": 73,
   "id": "417b3b7f",
   "metadata": {},
   "outputs": [
    {
     "ename": "UnsupportedOperation",
     "evalue": "can't do nonzero end-relative seeks",
     "output_type": "error",
     "traceback": [
      "\u001b[1;31m---------------------------------------------------------------------------\u001b[0m",
      "\u001b[1;31mUnsupportedOperation\u001b[0m                      Traceback (most recent call last)",
      "\u001b[1;32m~\\AppData\\Local\\Temp/ipykernel_6328/626550149.py\u001b[0m in \u001b[0;36m<module>\u001b[1;34m\u001b[0m\n\u001b[1;32m----> 1\u001b[1;33m \u001b[0mf\u001b[0m\u001b[1;33m.\u001b[0m\u001b[0mseek\u001b[0m\u001b[1;33m(\u001b[0m\u001b[1;33m-\u001b[0m\u001b[1;36m1\u001b[0m \u001b[1;33m,\u001b[0m \u001b[1;36m2\u001b[0m\u001b[1;33m)\u001b[0m\u001b[1;33m\u001b[0m\u001b[1;33m\u001b[0m\u001b[0m\n\u001b[0m",
      "\u001b[1;31mUnsupportedOperation\u001b[0m: can't do nonzero end-relative seeks"
     ]
    }
   ],
   "source": [
    "f.seek(-1 , 2)"
   ]
  },
  {
   "cell_type": "code",
   "execution_count": 74,
   "id": "9a125ea6",
   "metadata": {},
   "outputs": [],
   "source": [
    "f = open(\"text2.txt\",'w')"
   ]
  },
  {
   "cell_type": "code",
   "execution_count": 75,
   "id": "9f7780d3",
   "metadata": {},
   "outputs": [
    {
     "data": {
      "text/plain": [
       "34"
      ]
     },
     "execution_count": 75,
     "metadata": {},
     "output_type": "execute_result"
    }
   ],
   "source": [
    "f.write(\"fddfjaldfjlldljalfjdli idjaldjlj l\")"
   ]
  },
  {
   "cell_type": "code",
   "execution_count": 76,
   "id": "f25ffc70",
   "metadata": {},
   "outputs": [],
   "source": [
    "f.close()"
   ]
  },
  {
   "cell_type": "code",
   "execution_count": 77,
   "id": "bc3a5ee2",
   "metadata": {},
   "outputs": [],
   "source": [
    "f = open(\"text2.txt\",\"r\")"
   ]
  },
  {
   "cell_type": "code",
   "execution_count": 78,
   "id": "5f98738f",
   "metadata": {},
   "outputs": [
    {
     "data": {
      "text/plain": [
       "'fddfjaldfjlldljalfjdli idjaldjlj l'"
      ]
     },
     "execution_count": 78,
     "metadata": {},
     "output_type": "execute_result"
    }
   ],
   "source": [
    "f.read()"
   ]
  },
  {
   "cell_type": "code",
   "execution_count": 79,
   "id": "2e5a6f68",
   "metadata": {},
   "outputs": [
    {
     "data": {
      "text/plain": [
       "'\\ndfasfda\\ndafda\\nafdafd\\na\\nfafda\\nadafdatwe\\nffdafd\\ndafd\\ndafda\\ndaf\\newtafadaff\\ndafate\\nddfa\\nada\\ndafa\\nre\\nerdwe'"
      ]
     },
     "execution_count": 79,
     "metadata": {},
     "output_type": "execute_result"
    }
   ],
   "source": [
    "f.read()"
   ]
  },
  {
   "cell_type": "code",
   "execution_count": 80,
   "id": "1b529166",
   "metadata": {},
   "outputs": [
    {
     "data": {
      "text/plain": [
       "0"
      ]
     },
     "execution_count": 80,
     "metadata": {},
     "output_type": "execute_result"
    }
   ],
   "source": [
    "f.seek(0)"
   ]
  },
  {
   "cell_type": "code",
   "execution_count": 81,
   "id": "7af449e6",
   "metadata": {},
   "outputs": [
    {
     "data": {
      "text/plain": [
       "'fddfjaldfjlldljalfjdli idjaldjlj l\\n'"
      ]
     },
     "execution_count": 81,
     "metadata": {},
     "output_type": "execute_result"
    }
   ],
   "source": [
    "f.readline()"
   ]
  },
  {
   "cell_type": "code",
   "execution_count": 82,
   "id": "d736ef86",
   "metadata": {},
   "outputs": [
    {
     "data": {
      "text/plain": [
       "0"
      ]
     },
     "execution_count": 82,
     "metadata": {},
     "output_type": "execute_result"
    }
   ],
   "source": [
    "f.seek(0)"
   ]
  },
  {
   "cell_type": "code",
   "execution_count": 87,
   "id": "064baa61",
   "metadata": {},
   "outputs": [
    {
     "data": {
      "text/plain": [
       "['a\\n', 'fafda\\n', 'adafdatwe\\n']"
      ]
     },
     "execution_count": 87,
     "metadata": {},
     "output_type": "execute_result"
    }
   ],
   "source": [
    "f.readlines(9)"
   ]
  },
  {
   "cell_type": "code",
   "execution_count": 88,
   "id": "9821cc62",
   "metadata": {},
   "outputs": [
    {
     "data": {
      "text/plain": [
       "0"
      ]
     },
     "execution_count": 88,
     "metadata": {},
     "output_type": "execute_result"
    }
   ],
   "source": [
    "f.seek(0)"
   ]
  },
  {
   "cell_type": "code",
   "execution_count": 89,
   "id": "4d411790",
   "metadata": {},
   "outputs": [
    {
     "data": {
      "text/plain": [
       "'fddfjaldfjlldljalfjdli idjaldjlj l\\n'"
      ]
     },
     "execution_count": 89,
     "metadata": {},
     "output_type": "execute_result"
    }
   ],
   "source": [
    "f.readline()"
   ]
  },
  {
   "cell_type": "code",
   "execution_count": 91,
   "id": "29c3612f",
   "metadata": {},
   "outputs": [
    {
     "data": {
      "text/plain": [
       "'dafda\\n'"
      ]
     },
     "execution_count": 91,
     "metadata": {},
     "output_type": "execute_result"
    }
   ],
   "source": [
    "f.readline()"
   ]
  },
  {
   "cell_type": "code",
   "execution_count": 92,
   "id": "61c9e30c",
   "metadata": {},
   "outputs": [
    {
     "data": {
      "text/plain": [
       "'afdafd\\n'"
      ]
     },
     "execution_count": 92,
     "metadata": {},
     "output_type": "execute_result"
    }
   ],
   "source": [
    "f.readline()"
   ]
  },
  {
   "cell_type": "code",
   "execution_count": 93,
   "id": "5e28f0c3",
   "metadata": {},
   "outputs": [
    {
     "data": {
      "text/plain": [
       "'a\\n'"
      ]
     },
     "execution_count": 93,
     "metadata": {},
     "output_type": "execute_result"
    }
   ],
   "source": [
    "f.readline()"
   ]
  },
  {
   "cell_type": "code",
   "execution_count": 95,
   "id": "99a2895d",
   "metadata": {},
   "outputs": [
    {
     "data": {
      "text/plain": [
       "'adafdatwe'"
      ]
     },
     "execution_count": 95,
     "metadata": {},
     "output_type": "execute_result"
    }
   ],
   "source": [
    "f.readline(9)"
   ]
  },
  {
   "cell_type": "code",
   "execution_count": 96,
   "id": "f74497cb",
   "metadata": {},
   "outputs": [],
   "source": [
    "f.close()"
   ]
  },
  {
   "cell_type": "code",
   "execution_count": 97,
   "id": "84dfe564",
   "metadata": {},
   "outputs": [],
   "source": [
    "f = open(\"text2.txt\",\"r\")"
   ]
  },
  {
   "cell_type": "code",
   "execution_count": 101,
   "id": "fad7fd50",
   "metadata": {},
   "outputs": [
    {
     "data": {
      "text/plain": [
       "0"
      ]
     },
     "execution_count": 101,
     "metadata": {},
     "output_type": "execute_result"
    }
   ],
   "source": [
    "f.seek(0)"
   ]
  },
  {
   "cell_type": "code",
   "execution_count": 102,
   "id": "995475da",
   "metadata": {},
   "outputs": [
    {
     "name": "stdout",
     "output_type": "stream",
     "text": [
      "fddfjaldfjlldljalfjdli idjaldjlj l\n",
      "dfasfda\n",
      "dafda\n",
      "afdafd\n",
      "a\n",
      "fafda\n",
      "dadfs\n",
      "adafdatwe\n",
      "data\n",
      "ffdafd\n",
      "dafd\n",
      "dafda\n",
      "daf\n",
      "ewtafadaff\n",
      "dafate\n",
      "ddfa\n",
      "ada\n",
      "dafa\n",
      "re\n",
      "erdwe"
     ]
    }
   ],
   "source": [
    "for i in f:\n",
    "    print(i, end=\"\")"
   ]
  },
  {
   "cell_type": "code",
   "execution_count": 129,
   "id": "013d4745",
   "metadata": {},
   "outputs": [],
   "source": [
    "f.close()"
   ]
  },
  {
   "cell_type": "code",
   "execution_count": 130,
   "id": "146b4ca6",
   "metadata": {},
   "outputs": [],
   "source": [
    "f = open(\"text2.txt\", \"r\")"
   ]
  },
  {
   "cell_type": "code",
   "execution_count": 131,
   "id": "04054db1",
   "metadata": {},
   "outputs": [
    {
     "data": {
      "text/plain": [
       "''"
      ]
     },
     "execution_count": 131,
     "metadata": {},
     "output_type": "execute_result"
    }
   ],
   "source": [
    "f.read()"
   ]
  },
  {
   "cell_type": "code",
   "execution_count": 132,
   "id": "d9fb10cc",
   "metadata": {},
   "outputs": [],
   "source": [
    "f.close()"
   ]
  },
  {
   "cell_type": "code",
   "execution_count": 136,
   "id": "9227e390",
   "metadata": {},
   "outputs": [],
   "source": [
    "f2 = open(\"text2.txt\", \"r\")\n",
    "f2.read()\n",
    "f2.close()"
   ]
  },
  {
   "cell_type": "code",
   "execution_count": 36,
   "id": "abaa6a20",
   "metadata": {},
   "outputs": [
    {
     "ename": "FileNotFoundError",
     "evalue": "[Errno 2] No such file or directory: 'text2.txt'",
     "output_type": "error",
     "traceback": [
      "\u001b[1;31m---------------------------------------------------------------------------\u001b[0m",
      "\u001b[1;31mFileNotFoundError\u001b[0m                         Traceback (most recent call last)",
      "\u001b[1;32m~\\AppData\\Local\\Temp/ipykernel_6016/2145531256.py\u001b[0m in \u001b[0;36m<module>\u001b[1;34m\u001b[0m\n\u001b[1;32m----> 1\u001b[1;33m \u001b[0mf\u001b[0m \u001b[1;33m=\u001b[0m \u001b[0mopen\u001b[0m\u001b[1;33m(\u001b[0m\u001b[1;34m\"text2.txt\"\u001b[0m\u001b[1;33m,\u001b[0m\u001b[1;34m\"r\"\u001b[0m\u001b[1;33m)\u001b[0m\u001b[1;33m\u001b[0m\u001b[1;33m\u001b[0m\u001b[0m\n\u001b[0m",
      "\u001b[1;31mFileNotFoundError\u001b[0m: [Errno 2] No such file or directory: 'text2.txt'"
     ]
    }
   ],
   "source": [
    "f = open(\"text2.txt\",\"r\")"
   ]
  },
  {
   "cell_type": "code",
   "execution_count": 138,
   "id": "d02394f4",
   "metadata": {},
   "outputs": [
    {
     "name": "stdout",
     "output_type": "stream",
     "text": [
      "['sdjflasjdfla\\n', 'dafaljlfdajs\\n', 'dsfkasljflads\\n', 'sdjlad\\n', 'dsafljsl\\n', 'dsajfladsjl\\n', 'daslfjalsjf\\n', 'dldajflads\\n']\n"
     ]
    }
   ],
   "source": [
    "l = []\n",
    "for i in f:\n",
    "    l.append(i)\n",
    "print(l)"
   ]
  },
  {
   "cell_type": "code",
   "execution_count": 139,
   "id": "5cc16090",
   "metadata": {},
   "outputs": [],
   "source": [
    "f.close()"
   ]
  },
  {
   "cell_type": "code",
   "execution_count": 140,
   "id": "b8146138",
   "metadata": {},
   "outputs": [],
   "source": [
    "f = open(\"text2.txt\",\"r\")"
   ]
  },
  {
   "cell_type": "code",
   "execution_count": 141,
   "id": "acb37058",
   "metadata": {},
   "outputs": [
    {
     "data": {
      "text/plain": [
       "['sdjflasjdfla\\n',\n",
       " 'dafaljlfdajs\\n',\n",
       " 'dsfkasljflads\\n',\n",
       " 'sdjlad\\n',\n",
       " 'dsafljsl\\n',\n",
       " 'dsajfladsjl\\n',\n",
       " 'daslfjalsjf\\n',\n",
       " 'dldajflads\\n']"
      ]
     },
     "execution_count": 141,
     "metadata": {},
     "output_type": "execute_result"
    }
   ],
   "source": [
    "list(f)"
   ]
  },
  {
   "cell_type": "code",
   "execution_count": 142,
   "id": "d6c4038e",
   "metadata": {},
   "outputs": [],
   "source": [
    "f.close()"
   ]
  },
  {
   "cell_type": "code",
   "execution_count": 143,
   "id": "87986312",
   "metadata": {},
   "outputs": [],
   "source": [
    "# To open the file with write and read mode using r+ operator\n",
    "f = open(\"text2.txt\",\"r+\")"
   ]
  },
  {
   "cell_type": "code",
   "execution_count": 144,
   "id": "fd8c3b7c",
   "metadata": {},
   "outputs": [
    {
     "name": "stdout",
     "output_type": "stream",
     "text": [
      "Writing test5.txt\n"
     ]
    }
   ],
   "source": [
    "%%writefile test5.txt\n",
    "my name is sachin"
   ]
  },
  {
   "cell_type": "code",
   "execution_count": 2,
   "id": "d383a1c6",
   "metadata": {},
   "outputs": [],
   "source": [
    "import os"
   ]
  },
  {
   "cell_type": "code",
   "execution_count": 148,
   "id": "266bf585",
   "metadata": {},
   "outputs": [
    {
     "data": {
      "text/plain": [
       "'D:\\\\Data_science\\\\01-Python'"
      ]
     },
     "execution_count": 148,
     "metadata": {},
     "output_type": "execute_result"
    }
   ],
   "source": [
    "pwd"
   ]
  },
  {
   "cell_type": "code",
   "execution_count": 149,
   "id": "b9e00463",
   "metadata": {},
   "outputs": [
    {
     "data": {
      "text/plain": [
       "'D:\\\\Data_science\\\\01-Python'"
      ]
     },
     "execution_count": 149,
     "metadata": {},
     "output_type": "execute_result"
    }
   ],
   "source": [
    "os.getcwd()"
   ]
  },
  {
   "cell_type": "code",
   "execution_count": 150,
   "id": "8a8996f5",
   "metadata": {},
   "outputs": [
    {
     "data": {
      "text/plain": [
       "4"
      ]
     },
     "execution_count": 150,
     "metadata": {},
     "output_type": "execute_result"
    }
   ],
   "source": [
    "os.cpu_count()"
   ]
  },
  {
   "cell_type": "code",
   "execution_count": 152,
   "id": "33d29f66",
   "metadata": {},
   "outputs": [
    {
     "data": {
      "text/plain": [
       "['.ipynb_checkpoints',\n",
       " '01-basic_python.ipynb',\n",
       " '02-while-loop.ipynb',\n",
       " '03-for-loop.ipynb',\n",
       " '04-string_and_list.ipynb',\n",
       " '05-List.ipynb',\n",
       " '06-Tuple_set_dict.ipynb',\n",
       " '07-Function-01.ipynb',\n",
       " '08-Function-02.ipynb',\n",
       " 'test.txt',\n",
       " 'test1.txt',\n",
       " 'test5.txt',\n",
       " 'test_operation',\n",
       " 'text.txt',\n",
       " 'text2.txt',\n",
       " 'Untitled.ipynb']"
      ]
     },
     "execution_count": 152,
     "metadata": {},
     "output_type": "execute_result"
    }
   ],
   "source": [
    "os.listdir()"
   ]
  },
  {
   "cell_type": "code",
   "execution_count": 156,
   "id": "7437d16c",
   "metadata": {},
   "outputs": [
    {
     "ename": "FileNotFoundError",
     "evalue": "[WinError 3] The system cannot find the path specified: 'C:\\\\Downloads'",
     "output_type": "error",
     "traceback": [
      "\u001b[1;31m---------------------------------------------------------------------------\u001b[0m",
      "\u001b[1;31mFileNotFoundError\u001b[0m                         Traceback (most recent call last)",
      "\u001b[1;32m~\\AppData\\Local\\Temp/ipykernel_6328/3089914553.py\u001b[0m in \u001b[0;36m<module>\u001b[1;34m\u001b[0m\n\u001b[1;32m----> 1\u001b[1;33m \u001b[0mos\u001b[0m\u001b[1;33m.\u001b[0m\u001b[0mlistdir\u001b[0m\u001b[1;33m(\u001b[0m\u001b[1;34m\"C:\\\\Downloads\"\u001b[0m\u001b[1;33m)\u001b[0m\u001b[1;33m\u001b[0m\u001b[1;33m\u001b[0m\u001b[0m\n\u001b[0m",
      "\u001b[1;31mFileNotFoundError\u001b[0m: [WinError 3] The system cannot find the path specified: 'C:\\\\Downloads'"
     ]
    }
   ],
   "source": [
    "os.listdir(\"C:\\\\Downloads\")"
   ]
  },
  {
   "cell_type": "code",
   "execution_count": 157,
   "id": "82fbcb25",
   "metadata": {},
   "outputs": [],
   "source": [
    "os.chdir(\"test_operation/\")"
   ]
  },
  {
   "cell_type": "code",
   "execution_count": 158,
   "id": "a2690443",
   "metadata": {},
   "outputs": [
    {
     "data": {
      "text/plain": [
       "'D:\\\\Data_science\\\\01-Python\\\\test_operation'"
      ]
     },
     "execution_count": 158,
     "metadata": {},
     "output_type": "execute_result"
    }
   ],
   "source": [
    "pwd"
   ]
  },
  {
   "cell_type": "code",
   "execution_count": 159,
   "id": "cf16da23",
   "metadata": {},
   "outputs": [],
   "source": [
    "os.chdir(\"D:\\\\Data_science\\\\01-Python\")"
   ]
  },
  {
   "cell_type": "code",
   "execution_count": 160,
   "id": "1a266b45",
   "metadata": {},
   "outputs": [
    {
     "data": {
      "text/plain": [
       "'D:\\\\Data_science\\\\01-Python'"
      ]
     },
     "execution_count": 160,
     "metadata": {},
     "output_type": "execute_result"
    }
   ],
   "source": [
    "pwd"
   ]
  },
  {
   "cell_type": "code",
   "execution_count": 161,
   "id": "ea18a382",
   "metadata": {},
   "outputs": [],
   "source": [
    "os.mkdir(\"sachin\")"
   ]
  },
  {
   "cell_type": "code",
   "execution_count": 162,
   "id": "c8610929",
   "metadata": {},
   "outputs": [
    {
     "data": {
      "text/plain": [
       "['.ipynb_checkpoints',\n",
       " '01-basic_python.ipynb',\n",
       " '02-while-loop.ipynb',\n",
       " '03-for-loop.ipynb',\n",
       " '04-string_and_list.ipynb',\n",
       " '05-List.ipynb',\n",
       " '06-Tuple_set_dict.ipynb',\n",
       " '07-Function-01.ipynb',\n",
       " '08-Function-02.ipynb',\n",
       " 'sachin',\n",
       " 'test.txt',\n",
       " 'test1.txt',\n",
       " 'test5.txt',\n",
       " 'test_operation',\n",
       " 'text.txt',\n",
       " 'text2.txt',\n",
       " 'Untitled.ipynb']"
      ]
     },
     "execution_count": 162,
     "metadata": {},
     "output_type": "execute_result"
    }
   ],
   "source": [
    "os.listdir()"
   ]
  },
  {
   "cell_type": "code",
   "execution_count": 5,
   "id": "9b119495",
   "metadata": {},
   "outputs": [
    {
     "name": "stdout",
     "output_type": "stream",
     "text": [
      "The file is available\n",
      "sdjflasjdfla\n",
      "\n",
      "dafaljlfdajs\n",
      "\n",
      "dsfkasljflads\n",
      "\n",
      "sdjlad\n",
      "\n",
      "dsafljsl\n",
      "\n",
      "dsajfladsjl\n",
      "\n",
      "daslfjalsjf\n",
      "\n",
      "dldajflads\n",
      "\n"
     ]
    }
   ],
   "source": [
    "if \"text2.txt\" in os.listdir():\n",
    "    print(\"The file is available\")\n",
    "    f = open(\"text2.txt\",\"r+\")\n",
    "    for i in f:\n",
    "        print(i)\n",
    "else:\n",
    "    print(\"The file is not avaliable\")"
   ]
  },
  {
   "cell_type": "code",
   "execution_count": 6,
   "id": "35ffd0fd",
   "metadata": {},
   "outputs": [],
   "source": [
    "if not os.path.isdir(\"sachin\"):\n",
    "    os.mkdir(\"sachin\")"
   ]
  },
  {
   "cell_type": "code",
   "execution_count": 1,
   "id": "be34886c",
   "metadata": {},
   "outputs": [],
   "source": [
    "import os"
   ]
  },
  {
   "cell_type": "code",
   "execution_count": 2,
   "id": "4359b41d",
   "metadata": {},
   "outputs": [],
   "source": [
    "os.removedirs(\"sachin\")"
   ]
  },
  {
   "cell_type": "code",
   "execution_count": 3,
   "id": "e79dfd87",
   "metadata": {},
   "outputs": [],
   "source": [
    "# To move the file source to destination\n",
    "\n",
    "import shutil\n",
    "#shutil.move(\"source\", \"destination\")"
   ]
  },
  {
   "cell_type": "code",
   "execution_count": 5,
   "id": "3e693504",
   "metadata": {},
   "outputs": [
    {
     "ename": "NameError",
     "evalue": "name 'ls' is not defined",
     "output_type": "error",
     "traceback": [
      "\u001b[1;31m---------------------------------------------------------------------------\u001b[0m",
      "\u001b[1;31mNameError\u001b[0m                                 Traceback (most recent call last)",
      "\u001b[1;32m~\\AppData\\Local\\Temp/ipykernel_6016/4242022900.py\u001b[0m in \u001b[0;36m<module>\u001b[1;34m\u001b[0m\n\u001b[1;32m----> 1\u001b[1;33m \u001b[0mshutil\u001b[0m\u001b[1;33m.\u001b[0m\u001b[0mwhich\u001b[0m\u001b[1;33m(\u001b[0m\u001b[0mls\u001b[0m\u001b[1;33m)\u001b[0m\u001b[1;33m\u001b[0m\u001b[1;33m\u001b[0m\u001b[0m\n\u001b[0m",
      "\u001b[1;31mNameError\u001b[0m: name 'ls' is not defined"
     ]
    }
   ],
   "source": [
    "shutil.which(ls)"
   ]
  },
  {
   "cell_type": "code",
   "execution_count": 64,
   "id": "a13fa094",
   "metadata": {},
   "outputs": [],
   "source": [
    "#Q1 Create a directory\n",
    "\n",
    "import os\n",
    "# os.mkdir(\"sachin\")\n",
    "\n",
    "#q2: Create a txt file write some data in all txt  at a time\n",
    "# os.chdir(\"sachin\")\n",
    "#for i in range(1,11):\n",
    "#    file_name = (\"test{}.txt\".format(i))\n",
    "#    f = open(file_name,'w')\n",
    "#    f.write(\"Hello, I am learning python\")\n",
    "#    f.close()\n",
    "\n",
    "#q3\n",
    "#for i in os.listdir():\n",
    "#    f = open(i,'r')\n",
    "#    print(f.read())\n",
    "#    f.close()\n",
    "\n",
    "l2 = [] \n",
    "#for i in os.listdir():\n",
    "#    f = open(i,'r')\n",
    "#    l2.append(f.read())\n",
    "#    f.close()\n",
    "#q5:\n",
    "#f = open('text.txt','w')\n",
    "#for i in l2:\n",
    "#    f.write(i)\n",
    "#f.close()\n",
    "\n",
    "#q6:\n",
    "os.mkdir(\"backup\")\n"
   ]
  },
  {
   "cell_type": "code",
   "execution_count": 10,
   "id": "20fd7241",
   "metadata": {},
   "outputs": [
    {
     "data": {
      "text/plain": [
       "'D:\\\\Data_science\\\\01-Python\\\\sachin'"
      ]
     },
     "execution_count": 10,
     "metadata": {},
     "output_type": "execute_result"
    }
   ],
   "source": [
    "pwd"
   ]
  },
  {
   "cell_type": "code",
   "execution_count": 67,
   "id": "ff2a9994",
   "metadata": {},
   "outputs": [
    {
     "ename": "FileNotFoundError",
     "evalue": "[Errno 2] No such file or directory: 'abc'",
     "output_type": "error",
     "traceback": [
      "\u001b[1;31m---------------------------------------------------------------------------\u001b[0m",
      "\u001b[1;31mFileNotFoundError\u001b[0m                         Traceback (most recent call last)",
      "\u001b[1;32m~\\anaconda3\\lib\\shutil.py\u001b[0m in \u001b[0;36mmove\u001b[1;34m(src, dst, copy_function)\u001b[0m\n\u001b[0;32m    813\u001b[0m     \u001b[1;32mtry\u001b[0m\u001b[1;33m:\u001b[0m\u001b[1;33m\u001b[0m\u001b[1;33m\u001b[0m\u001b[0m\n\u001b[1;32m--> 814\u001b[1;33m         \u001b[0mos\u001b[0m\u001b[1;33m.\u001b[0m\u001b[0mrename\u001b[0m\u001b[1;33m(\u001b[0m\u001b[0msrc\u001b[0m\u001b[1;33m,\u001b[0m \u001b[0mreal_dst\u001b[0m\u001b[1;33m)\u001b[0m\u001b[1;33m\u001b[0m\u001b[1;33m\u001b[0m\u001b[0m\n\u001b[0m\u001b[0;32m    815\u001b[0m     \u001b[1;32mexcept\u001b[0m \u001b[0mOSError\u001b[0m\u001b[1;33m:\u001b[0m\u001b[1;33m\u001b[0m\u001b[1;33m\u001b[0m\u001b[0m\n",
      "\u001b[1;31mFileNotFoundError\u001b[0m: [WinError 2] The system cannot find the file specified: 'abc' -> 'backup\\\\abc'",
      "\nDuring handling of the above exception, another exception occurred:\n",
      "\u001b[1;31mFileNotFoundError\u001b[0m                         Traceback (most recent call last)",
      "\u001b[1;32m~\\AppData\\Local\\Temp/ipykernel_6016/3502211374.py\u001b[0m in \u001b[0;36m<module>\u001b[1;34m\u001b[0m\n\u001b[0;32m      1\u001b[0m \u001b[1;32mimport\u001b[0m \u001b[0mshutil\u001b[0m\u001b[1;33m\u001b[0m\u001b[1;33m\u001b[0m\u001b[0m\n\u001b[0;32m      2\u001b[0m \u001b[1;33m\u001b[0m\u001b[0m\n\u001b[1;32m----> 3\u001b[1;33m \u001b[0mshutil\u001b[0m\u001b[1;33m.\u001b[0m\u001b[0mmove\u001b[0m\u001b[1;33m(\u001b[0m\u001b[1;34m\"abc\"\u001b[0m\u001b[1;33m,\u001b[0m \u001b[1;34m\"backup\"\u001b[0m\u001b[1;33m)\u001b[0m\u001b[1;33m\u001b[0m\u001b[1;33m\u001b[0m\u001b[0m\n\u001b[0m\u001b[0;32m      4\u001b[0m \u001b[1;33m\u001b[0m\u001b[0m\n",
      "\u001b[1;32m~\\anaconda3\\lib\\shutil.py\u001b[0m in \u001b[0;36mmove\u001b[1;34m(src, dst, copy_function)\u001b[0m\n\u001b[0;32m    832\u001b[0m             \u001b[0mrmtree\u001b[0m\u001b[1;33m(\u001b[0m\u001b[0msrc\u001b[0m\u001b[1;33m)\u001b[0m\u001b[1;33m\u001b[0m\u001b[1;33m\u001b[0m\u001b[0m\n\u001b[0;32m    833\u001b[0m         \u001b[1;32melse\u001b[0m\u001b[1;33m:\u001b[0m\u001b[1;33m\u001b[0m\u001b[1;33m\u001b[0m\u001b[0m\n\u001b[1;32m--> 834\u001b[1;33m             \u001b[0mcopy_function\u001b[0m\u001b[1;33m(\u001b[0m\u001b[0msrc\u001b[0m\u001b[1;33m,\u001b[0m \u001b[0mreal_dst\u001b[0m\u001b[1;33m)\u001b[0m\u001b[1;33m\u001b[0m\u001b[1;33m\u001b[0m\u001b[0m\n\u001b[0m\u001b[0;32m    835\u001b[0m             \u001b[0mos\u001b[0m\u001b[1;33m.\u001b[0m\u001b[0munlink\u001b[0m\u001b[1;33m(\u001b[0m\u001b[0msrc\u001b[0m\u001b[1;33m)\u001b[0m\u001b[1;33m\u001b[0m\u001b[1;33m\u001b[0m\u001b[0m\n\u001b[0;32m    836\u001b[0m     \u001b[1;32mreturn\u001b[0m \u001b[0mreal_dst\u001b[0m\u001b[1;33m\u001b[0m\u001b[1;33m\u001b[0m\u001b[0m\n",
      "\u001b[1;32m~\\anaconda3\\lib\\shutil.py\u001b[0m in \u001b[0;36mcopy2\u001b[1;34m(src, dst, follow_symlinks)\u001b[0m\n\u001b[0;32m    441\u001b[0m     \u001b[1;32mif\u001b[0m \u001b[0mos\u001b[0m\u001b[1;33m.\u001b[0m\u001b[0mpath\u001b[0m\u001b[1;33m.\u001b[0m\u001b[0misdir\u001b[0m\u001b[1;33m(\u001b[0m\u001b[0mdst\u001b[0m\u001b[1;33m)\u001b[0m\u001b[1;33m:\u001b[0m\u001b[1;33m\u001b[0m\u001b[1;33m\u001b[0m\u001b[0m\n\u001b[0;32m    442\u001b[0m         \u001b[0mdst\u001b[0m \u001b[1;33m=\u001b[0m \u001b[0mos\u001b[0m\u001b[1;33m.\u001b[0m\u001b[0mpath\u001b[0m\u001b[1;33m.\u001b[0m\u001b[0mjoin\u001b[0m\u001b[1;33m(\u001b[0m\u001b[0mdst\u001b[0m\u001b[1;33m,\u001b[0m \u001b[0mos\u001b[0m\u001b[1;33m.\u001b[0m\u001b[0mpath\u001b[0m\u001b[1;33m.\u001b[0m\u001b[0mbasename\u001b[0m\u001b[1;33m(\u001b[0m\u001b[0msrc\u001b[0m\u001b[1;33m)\u001b[0m\u001b[1;33m)\u001b[0m\u001b[1;33m\u001b[0m\u001b[1;33m\u001b[0m\u001b[0m\n\u001b[1;32m--> 443\u001b[1;33m     \u001b[0mcopyfile\u001b[0m\u001b[1;33m(\u001b[0m\u001b[0msrc\u001b[0m\u001b[1;33m,\u001b[0m \u001b[0mdst\u001b[0m\u001b[1;33m,\u001b[0m \u001b[0mfollow_symlinks\u001b[0m\u001b[1;33m=\u001b[0m\u001b[0mfollow_symlinks\u001b[0m\u001b[1;33m)\u001b[0m\u001b[1;33m\u001b[0m\u001b[1;33m\u001b[0m\u001b[0m\n\u001b[0m\u001b[0;32m    444\u001b[0m     \u001b[0mcopystat\u001b[0m\u001b[1;33m(\u001b[0m\u001b[0msrc\u001b[0m\u001b[1;33m,\u001b[0m \u001b[0mdst\u001b[0m\u001b[1;33m,\u001b[0m \u001b[0mfollow_symlinks\u001b[0m\u001b[1;33m=\u001b[0m\u001b[0mfollow_symlinks\u001b[0m\u001b[1;33m)\u001b[0m\u001b[1;33m\u001b[0m\u001b[1;33m\u001b[0m\u001b[0m\n\u001b[0;32m    445\u001b[0m     \u001b[1;32mreturn\u001b[0m \u001b[0mdst\u001b[0m\u001b[1;33m\u001b[0m\u001b[1;33m\u001b[0m\u001b[0m\n",
      "\u001b[1;32m~\\anaconda3\\lib\\shutil.py\u001b[0m in \u001b[0;36mcopyfile\u001b[1;34m(src, dst, follow_symlinks)\u001b[0m\n\u001b[0;32m    263\u001b[0m     \u001b[1;32melse\u001b[0m\u001b[1;33m:\u001b[0m\u001b[1;33m\u001b[0m\u001b[1;33m\u001b[0m\u001b[0m\n\u001b[0;32m    264\u001b[0m         \u001b[1;32mtry\u001b[0m\u001b[1;33m:\u001b[0m\u001b[1;33m\u001b[0m\u001b[1;33m\u001b[0m\u001b[0m\n\u001b[1;32m--> 265\u001b[1;33m             \u001b[1;32mwith\u001b[0m \u001b[0mopen\u001b[0m\u001b[1;33m(\u001b[0m\u001b[0msrc\u001b[0m\u001b[1;33m,\u001b[0m \u001b[1;34m'rb'\u001b[0m\u001b[1;33m)\u001b[0m \u001b[1;32mas\u001b[0m \u001b[0mfsrc\u001b[0m\u001b[1;33m,\u001b[0m \u001b[0mopen\u001b[0m\u001b[1;33m(\u001b[0m\u001b[0mdst\u001b[0m\u001b[1;33m,\u001b[0m \u001b[1;34m'wb'\u001b[0m\u001b[1;33m)\u001b[0m \u001b[1;32mas\u001b[0m \u001b[0mfdst\u001b[0m\u001b[1;33m:\u001b[0m\u001b[1;33m\u001b[0m\u001b[1;33m\u001b[0m\u001b[0m\n\u001b[0m\u001b[0;32m    266\u001b[0m                 \u001b[1;31m# macOS\u001b[0m\u001b[1;33m\u001b[0m\u001b[1;33m\u001b[0m\u001b[0m\n\u001b[0;32m    267\u001b[0m                 \u001b[1;32mif\u001b[0m \u001b[0m_HAS_FCOPYFILE\u001b[0m\u001b[1;33m:\u001b[0m\u001b[1;33m\u001b[0m\u001b[1;33m\u001b[0m\u001b[0m\n",
      "\u001b[1;31mFileNotFoundError\u001b[0m: [Errno 2] No such file or directory: 'abc'"
     ]
    }
   ],
   "source": [
    "import shutil\n",
    "\n",
    "shutil.move(\"abc\", \"backup\")\n",
    "\n"
   ]
  },
  {
   "cell_type": "code",
   "execution_count": 57,
   "id": "0214f8af",
   "metadata": {},
   "outputs": [
    {
     "data": {
      "text/plain": [
       "['Hello, I am learning python',\n",
       " 'Hello, I am learning python',\n",
       " 'Hello, I am learning python',\n",
       " 'Hello, I am learning python',\n",
       " 'Hello, I am learning python',\n",
       " 'Hello, I am learning python',\n",
       " 'Hello, I am learning python',\n",
       " 'Hello, I am learning python',\n",
       " 'Hello, I am learning python',\n",
       " 'Hello, I am learning python']"
      ]
     },
     "execution_count": 57,
     "metadata": {},
     "output_type": "execute_result"
    }
   ],
   "source": [
    "l1\n",
    "\n"
   ]
  },
  {
   "cell_type": "code",
   "execution_count": 42,
   "id": "3959ffad",
   "metadata": {},
   "outputs": [
    {
     "data": {
      "text/plain": [
       "'D:\\\\Data_science\\\\01-Python\\\\sachin'"
      ]
     },
     "execution_count": 42,
     "metadata": {},
     "output_type": "execute_result"
    }
   ],
   "source": [
    "pwd"
   ]
  },
  {
   "cell_type": "code",
   "execution_count": 46,
   "id": "5a7f4044",
   "metadata": {},
   "outputs": [
    {
     "data": {
      "text/plain": [
       "'Hello, I am learning python'"
      ]
     },
     "execution_count": 46,
     "metadata": {},
     "output_type": "execute_result"
    }
   ],
   "source": [
    "f = open(\"test1.txt\",\"r\")\n",
    "f.read()"
   ]
  },
  {
   "cell_type": "code",
   "execution_count": null,
   "id": "68c13f42",
   "metadata": {},
   "outputs": [],
   "source": [
    "f = open('text.txt','w')"
   ]
  },
  {
   "cell_type": "code",
   "execution_count": null,
   "id": "e8d6c5bf",
   "metadata": {},
   "outputs": [],
   "source": []
  },
  {
   "cell_type": "code",
   "execution_count": null,
   "id": "2584bdd7",
   "metadata": {},
   "outputs": [],
   "source": []
  },
  {
   "cell_type": "code",
   "execution_count": null,
   "id": "40adf855",
   "metadata": {},
   "outputs": [],
   "source": []
  },
  {
   "cell_type": "code",
   "execution_count": 14,
   "id": "5cc08c7f",
   "metadata": {},
   "outputs": [],
   "source": [
    "import os\n",
    "import glob"
   ]
  },
  {
   "cell_type": "code",
   "execution_count": 5,
   "id": "2bf1185c",
   "metadata": {},
   "outputs": [],
   "source": [
    "os.chdir(\"c://Users//pc//Downloads\")"
   ]
  },
  {
   "cell_type": "code",
   "execution_count": 21,
   "id": "1a74d3cb",
   "metadata": {},
   "outputs": [],
   "source": [
    "\n",
    "os.mkdir(\"d://Project//Practicles\")"
   ]
  },
  {
   "cell_type": "code",
   "execution_count": 28,
   "id": "2ec14ec5",
   "metadata": {},
   "outputs": [],
   "source": [
    "Assignment = []"
   ]
  },
  {
   "cell_type": "code",
   "execution_count": 10,
   "id": "993dac0d",
   "metadata": {},
   "outputs": [
    {
     "name": "stdout",
     "output_type": "stream",
     "text": [
      "Directory exist\n"
     ]
    }
   ],
   "source": [
    "import os\n",
    "import shutil\n",
    "import glob\n",
    "destination = \"d://Project//Practicles\"\n",
    "Assignment_dir = \"d://Project//Practicles//Assignment\"\n",
    "Programming_Assingment_dir = \"d://Project//Practicles//Programming_Assingment\"\n",
    "Assignment = glob.glob(\"Assignment_*.docx\")\n",
    "Programming_Assingment = glob.glob(\"Programming_Assingment*.docx\")\n",
    "\n",
    "\n",
    "if Assignment:\n",
    "    if os.path.isdir(Assignment_dir):\n",
    "        print (\"Directory exist\")\n",
    "    else:\n",
    "        print (\"Directory not exist\")\n",
    "        print (\"We are going to create a new directory\")\n",
    "        os.mkdir(Assignment_dir)\n",
    "        if os.path.isdir(Assignment_dir):\n",
    "            print(\"Directory is succesfully created\")\n",
    "            print(os.listdir(destination))\n",
    "\n",
    "\n",
    "#for i in Assignment:\n",
    "#    file_name = (\"{}//{}\".format(Assignment_dir,i) )\n",
    "#    shutil.move(i, file_name)\n",
    "\n",
    "\n",
    "\n",
    "\n",
    "    \n",
    "\n",
    "\n",
    "        \n",
    "\n",
    "    "
   ]
  },
  {
   "cell_type": "code",
   "execution_count": 11,
   "id": "771648ec",
   "metadata": {},
   "outputs": [
    {
     "data": {
      "text/plain": [
       "['Assignment_1.docx', 'Assignment_2.docx']"
      ]
     },
     "execution_count": 11,
     "metadata": {},
     "output_type": "execute_result"
    }
   ],
   "source": [
    "Assignment"
   ]
  },
  {
   "cell_type": "code",
   "execution_count": null,
   "id": "2de2169e",
   "metadata": {
    "scrolled": true
   },
   "outputs": [
    {
     "name": "stdout",
     "output_type": "stream",
     "text": [
      "1None\n",
      ".None\n",
      " None\n",
      "INone\n",
      "nNone\n",
      " None\n",
      "tNone\n",
      "hNone\n",
      "eNone\n",
      " None\n",
      "bNone\n",
      "eNone\n",
      "lNone\n",
      "oNone\n",
      "wNone\n",
      " None\n",
      "eNone\n",
      "lNone\n",
      "eNone\n",
      "mNone\n",
      "eNone\n",
      "nNone\n",
      "tNone\n",
      "sNone\n",
      " None\n",
      "wNone\n",
      "hNone\n",
      "iNone\n",
      "cNone\n",
      "hNone\n",
      " None\n",
      "oNone\n",
      "fNone\n",
      " None\n",
      "tNone\n",
      "hNone\n",
      "eNone\n",
      "mNone\n",
      " None\n",
      "aNone\n",
      "rNone\n",
      "eNone\n",
      " None\n",
      "vNone\n",
      "aNone\n",
      "lNone\n",
      "uNone\n",
      "eNone\n",
      "sNone\n",
      " None\n",
      "oNone\n",
      "rNone\n",
      " None\n",
      "aNone\n",
      "nNone\n",
      " None\n",
      "eNone\n",
      "xNone\n",
      "pNone\n",
      "rNone\n",
      "eNone\n",
      "sNone\n",
      "sNone\n",
      "iNone\n",
      "oNone\n",
      "nNone\n",
      "?None\n",
      " None\n",
      "eNone\n",
      "gNone\n",
      ":None\n",
      "-None\n",
      " None\n",
      "vNone\n",
      "aNone\n",
      "lNone\n",
      "uNone\n",
      "eNone\n",
      "sNone\n",
      " None\n",
      "cNone\n",
      "aNone\n",
      "nNone\n",
      " None\n",
      "bNone\n",
      "eNone\n",
      " None\n",
      "iNone\n",
      "nNone\n",
      "tNone\n",
      "eNone\n",
      "gNone\n",
      "eNone\n",
      "rNone\n",
      " None\n",
      "oNone\n",
      "rNone\n",
      " None\n",
      "sNone\n",
      "tNone\n",
      "rNone\n",
      "iNone\n",
      "nNone\n",
      "gNone\n",
      " None\n",
      "aNone\n",
      "nNone\n",
      "dNone\n",
      " None\n",
      "eNone\n",
      "xNone\n",
      "pNone\n",
      "rNone\n",
      "eNone\n",
      "sNone\n",
      "sNone\n",
      "iNone\n",
      "oNone\n",
      "nNone\n",
      "sNone\n",
      " None\n",
      "wNone\n",
      "iNone\n",
      "lNone\n",
      "lNone\n",
      " None\n",
      "bNone\n",
      "eNone\n",
      " None\n",
      "mNone\n",
      "aNone\n",
      "tNone\n",
      "hNone\n",
      "eNone\n",
      "mNone\n",
      "aNone\n",
      "tNone\n",
      "iNone\n",
      "cNone\n",
      "aNone\n",
      "lNone\n",
      " None\n",
      "oNone\n",
      "pNone\n",
      "eNone\n",
      "rNone\n",
      "aNone\n",
      "tNone\n",
      "oNone\n",
      "rNone\n",
      "sNone\n",
      ".None\n",
      "\n",
      "None\n",
      "\n",
      "None\n",
      "*None\n",
      " None\n",
      "\n",
      "None\n",
      "\n",
      "None\n",
      "'None\n",
      "hNone\n",
      "eNone\n",
      "lNone\n",
      "lNone\n",
      "oNone\n",
      "'None\n",
      "\n",
      "None\n",
      "\n",
      "None\n",
      "-None\n",
      "8None\n",
      "7None\n",
      ".None\n",
      "8None\n",
      "\n",
      "None\n",
      "\n",
      "None\n",
      "-None\n",
      " None\n",
      "\n",
      "None\n",
      "\n",
      "None\n",
      "/None\n",
      " None\n",
      "\n",
      "None\n",
      "\n",
      "None\n",
      "\n",
      "None\n",
      "\n",
      "None\n",
      "6None\n",
      " None\n",
      "\n",
      "None\n",
      "\n",
      "None\n",
      "\n",
      "None\n",
      "\n",
      "None\n",
      "2None\n",
      ".None\n",
      " None\n",
      "WNone\n",
      "hNone\n",
      "aNone\n",
      "tNone\n",
      " None\n",
      "iNone\n",
      "sNone\n",
      " None\n",
      "tNone\n",
      "hNone\n",
      "eNone\n",
      " None\n",
      "dNone\n",
      "iNone\n",
      "fNone\n",
      "fNone\n",
      "eNone\n",
      "rNone\n",
      "eNone\n",
      "nNone\n",
      "cNone\n",
      "eNone\n",
      " None\n",
      "bNone\n",
      "eNone\n",
      "tNone\n",
      "wNone\n",
      "eNone\n",
      "eNone\n",
      "nNone\n",
      " None\n",
      "sNone\n",
      "tNone\n",
      "rNone\n",
      "iNone\n",
      "nNone\n",
      "gNone\n",
      " None\n",
      "aNone\n",
      "nNone\n",
      "dNone\n",
      " None\n",
      "vNone\n",
      "aNone\n",
      "rNone\n",
      "iNone\n",
      "aNone\n",
      "bNone\n",
      "lNone\n",
      "eNone\n",
      "?None\n",
      "\n",
      "None\n",
      "\n",
      "None\n",
      "\n",
      "None\n",
      "\n",
      "None\n",
      "3None\n",
      ".None\n",
      " None\n",
      "DNone\n",
      "eNone\n",
      "sNone\n",
      "cNone\n",
      "rNone\n",
      "iNone\n",
      "bNone\n",
      "eNone\n",
      " None\n",
      "tNone\n",
      "hNone\n",
      "rNone\n",
      "eNone\n",
      "eNone\n",
      " None\n",
      "dNone\n",
      "iNone\n",
      "fNone\n",
      "fNone\n",
      "eNone\n",
      "rNone\n",
      "eNone\n",
      "nNone\n",
      "tNone\n",
      " None\n",
      "dNone\n",
      "aNone\n",
      "tNone\n",
      "aNone\n",
      " None\n",
      "tNone\n",
      "yNone\n",
      "pNone\n",
      "eNone\n",
      "sNone\n",
      ".None\n",
      "\n",
      "None\n",
      "\n",
      "None\n",
      "\n",
      "None\n",
      "\n",
      "None\n",
      "4None\n",
      ".None\n",
      " None\n",
      "WNone\n",
      "hNone\n",
      "aNone\n",
      "tNone\n",
      " None\n",
      "iNone\n",
      "sNone\n",
      " None\n",
      "aNone\n",
      "nNone\n",
      " None\n",
      "eNone\n",
      "xNone\n",
      "pNone\n",
      "rNone\n",
      "eNone\n",
      "sNone\n",
      "sNone\n",
      "iNone\n",
      "oNone\n",
      "nNone\n",
      " None\n",
      "mNone\n",
      "aNone\n",
      "dNone\n",
      "eNone\n",
      " None\n",
      "uNone\n",
      "pNone\n",
      " None\n",
      "oNone\n",
      "fNone\n",
      "?None\n",
      " None\n",
      "WNone\n",
      "hNone\n",
      "aNone\n",
      "tNone\n",
      " None\n",
      "dNone\n",
      "oNone\n",
      " None\n",
      "aNone\n",
      "lNone\n",
      "lNone\n",
      " None\n",
      "eNone\n",
      "xNone\n",
      "pNone\n",
      "rNone\n",
      "eNone\n",
      "sNone\n",
      "sNone\n",
      "iNone\n",
      "oNone\n",
      "nNone\n",
      "sNone\n",
      " None\n",
      "dNone\n",
      "oNone\n",
      "?None\n",
      "\n",
      "None\n",
      "\n",
      "None\n",
      "5None\n",
      ".None\n",
      " None\n",
      "TNone\n",
      "hNone\n",
      "iNone\n",
      "sNone\n",
      " None\n",
      "aNone\n",
      "sNone\n",
      "sNone\n",
      "iNone\n",
      "gNone\n",
      "nNone\n",
      "mNone\n",
      "eNone\n",
      "nNone\n",
      "tNone\n",
      " None\n",
      "sNone\n",
      "tNone\n",
      "aNone\n",
      "tNone\n",
      "eNone\n",
      "mNone\n",
      "eNone\n",
      "nNone\n",
      "tNone\n",
      "sNone\n",
      ",None\n",
      " None\n",
      "lNone\n",
      "iNone\n",
      "kNone\n",
      "eNone\n",
      " None\n",
      "sNone\n",
      "pNone\n",
      "aNone\n",
      "mNone\n",
      " None\n",
      "=None\n",
      " None\n",
      "1None\n",
      "0None\n",
      ".None\n",
      " None\n",
      "WNone\n",
      "hNone\n",
      "aNone\n",
      "tNone\n",
      " None\n",
      "iNone\n",
      "sNone\n",
      " None\n",
      "tNone\n",
      "hNone\n",
      "eNone\n",
      " None\n",
      "dNone\n",
      "iNone\n",
      "fNone\n",
      "fNone\n",
      "eNone\n",
      "rNone\n",
      "eNone\n",
      "nNone\n",
      "cNone\n",
      "eNone\n",
      " None\n",
      "bNone\n",
      "eNone\n",
      "tNone\n",
      "wNone\n",
      "eNone\n",
      "eNone\n",
      "nNone\n",
      " None\n",
      "aNone\n",
      "nNone\n",
      " None\n",
      "eNone\n",
      "xNone\n",
      "pNone\n",
      "rNone\n",
      "eNone\n",
      "sNone\n",
      "sNone\n",
      "iNone\n",
      "oNone\n",
      "nNone\n",
      " None\n",
      "aNone\n",
      "nNone\n",
      "dNone\n",
      " None\n",
      "aNone\n",
      " None\n",
      "sNone\n",
      "tNone\n",
      "aNone\n",
      "tNone\n",
      "eNone\n",
      "mNone\n",
      "eNone\n",
      "nNone\n",
      "tNone\n",
      "?None\n",
      "\n",
      "None\n",
      "\n",
      "None\n",
      "6None\n",
      ".None\n",
      " None\n",
      "ANone\n",
      "fNone\n",
      "tNone\n",
      "eNone\n",
      "rNone\n",
      " None\n",
      "rNone\n",
      "uNone\n",
      "nNone\n",
      "nNone\n",
      "iNone\n",
      "nNone\n",
      "gNone\n",
      " None\n",
      "tNone\n",
      "hNone\n",
      "eNone\n",
      " None\n",
      "fNone\n",
      "oNone\n",
      "lNone\n",
      "lNone\n",
      "oNone\n",
      "wNone\n",
      "iNone\n",
      "nNone\n",
      "gNone\n",
      " None\n",
      "cNone\n",
      "oNone\n",
      "dNone\n",
      "eNone\n",
      ",None\n",
      " None\n",
      "wNone\n",
      "hNone\n",
      "aNone\n",
      "tNone\n",
      " None\n",
      "dNone\n",
      "oNone\n",
      "eNone\n",
      "sNone\n",
      " None\n",
      "tNone\n",
      "hNone\n",
      "eNone\n",
      " None\n",
      "vNone\n",
      "aNone\n",
      "rNone\n",
      "iNone\n",
      "aNone\n",
      "bNone\n",
      "lNone\n",
      "eNone\n",
      " None\n",
      "bNone\n",
      "aNone\n",
      "cNone\n",
      "oNone\n",
      "nNone\n",
      " None\n",
      "cNone\n",
      "oNone\n",
      "nNone\n",
      "tNone\n",
      "aNone\n",
      "iNone\n",
      "nNone\n",
      "?None\n",
      "\n",
      "None\n",
      "\n",
      "None\n",
      "bNone\n",
      "aNone\n",
      "cNone\n",
      "oNone\n",
      "nNone\n",
      " None\n",
      "=None\n",
      " None\n",
      "2None\n",
      "2None\n",
      "\n",
      "None\n",
      "\n",
      "None\n",
      "bNone\n",
      "aNone\n",
      "cNone\n",
      "oNone\n",
      "nNone\n",
      " None\n",
      "+None\n",
      " None\n",
      "1None\n",
      "\n",
      "None\n",
      "\n",
      "None\n",
      "\n",
      "None\n",
      "\n",
      "None\n",
      "7None\n",
      ".None\n",
      " None\n",
      "WNone\n",
      "hNone\n",
      "aNone\n",
      "tNone\n",
      " None\n",
      "sNone\n",
      "hNone\n",
      "oNone\n",
      "uNone\n",
      "lNone\n",
      "dNone\n",
      " None\n",
      "tNone\n",
      "hNone\n",
      "eNone\n",
      " None\n",
      "vNone\n",
      "aNone\n",
      "lNone\n",
      "uNone\n",
      "eNone\n",
      "sNone\n",
      " None\n",
      "oNone\n",
      "fNone\n",
      " None\n",
      "tNone\n",
      "hNone\n",
      "eNone\n",
      " None\n",
      "fNone\n",
      "oNone\n",
      "lNone\n",
      "lNone\n",
      "oNone\n",
      "wNone\n",
      "iNone\n",
      "nNone\n",
      "gNone\n",
      " None\n",
      "tNone\n",
      "wNone\n",
      "oNone\n",
      " None\n",
      "tNone\n",
      "eNone\n",
      "rNone\n",
      "mNone\n",
      "sNone\n",
      " None\n",
      "bNone\n",
      "eNone\n",
      "?None\n",
      "\n",
      "None\n",
      "\n",
      "None\n",
      "'None\n",
      "sNone\n",
      "pNone\n",
      "aNone\n",
      "mNone\n",
      "'None\n",
      " None\n",
      "+None\n",
      " None\n"
     ]
    }
   ],
   "source": [
    "import docx2txt\n",
    "import docx\n",
    "doc = docx.Document()\n",
    "text = docx2txt.process(\"Assignment_1.docx\")\n",
    "for i in text:\n",
    "    doc.add_heading('Assignment_1',)\n",
    "    line =(print(i, end=\"\"))\n",
    "    doc.add_paragraph(line)\n",
    "    doc.save('gfg.docx')\n",
    "    \n"
   ]
  },
  {
   "cell_type": "code",
   "execution_count": 6,
   "id": "a7302073",
   "metadata": {},
   "outputs": [
    {
     "name": "stdout",
     "output_type": "stream",
     "text": [
      "<docx.text.paragraph.Paragraph object at 0x0000023753C915E0>\n",
      "<docx.text.paragraph.Paragraph object at 0x0000023753C91BE0>\n",
      "<docx.text.paragraph.Paragraph object at 0x0000023753C91BB0>\n",
      "<docx.text.paragraph.Paragraph object at 0x0000023753C91B50>\n",
      "<docx.text.paragraph.Paragraph object at 0x0000023753C91AF0>\n",
      "<docx.text.paragraph.Paragraph object at 0x0000023753C918B0>\n",
      "<docx.text.paragraph.Paragraph object at 0x0000023753C91A30>\n",
      "<docx.text.paragraph.Paragraph object at 0x0000023753C91550>\n",
      "<docx.text.paragraph.Paragraph object at 0x0000023753C91850>\n",
      "<docx.text.paragraph.Paragraph object at 0x0000023753C91490>\n",
      "<docx.text.paragraph.Paragraph object at 0x0000023753C914F0>\n",
      "<docx.text.paragraph.Paragraph object at 0x0000023753C913D0>\n",
      "<docx.text.paragraph.Paragraph object at 0x0000023753C91430>\n",
      "<docx.text.paragraph.Paragraph object at 0x0000023753C912E0>\n",
      "<docx.text.paragraph.Paragraph object at 0x0000023753C91340>\n",
      "<docx.text.paragraph.Paragraph object at 0x0000023753C912B0>\n",
      "<docx.text.paragraph.Paragraph object at 0x0000023753C91250>\n",
      "<docx.text.paragraph.Paragraph object at 0x0000023753C91D30>\n",
      "<docx.text.paragraph.Paragraph object at 0x0000023753C91E50>\n",
      "<docx.text.paragraph.Paragraph object at 0x0000023753C819D0>\n",
      "<docx.text.paragraph.Paragraph object at 0x00000237538BA9A0>\n",
      "<docx.text.paragraph.Paragraph object at 0x00000237538BA3A0>\n",
      "<docx.text.paragraph.Paragraph object at 0x00000237538BA400>\n",
      "<docx.text.paragraph.Paragraph object at 0x00000237538BAEB0>\n",
      "<docx.text.paragraph.Paragraph object at 0x0000023753CA16A0>\n",
      "<docx.text.paragraph.Paragraph object at 0x0000023753CA1700>\n",
      "<docx.text.paragraph.Paragraph object at 0x0000023753CA1760>\n",
      "<docx.text.paragraph.Paragraph object at 0x0000023753CA17C0>\n",
      "<docx.text.paragraph.Paragraph object at 0x0000023753CA1820>\n"
     ]
    }
   ],
   "source": [
    "from docx import Document\n",
    "input = Document(\"Assignment_1.docx\")\n",
    "paragraphs = []\n",
    "for para in input.paragraphs:\n",
    "    print (para)\n",
    "    "
   ]
  },
  {
   "cell_type": "code",
   "execution_count": 9,
   "id": "7fee40c5",
   "metadata": {
    "scrolled": true
   },
   "outputs": [
    {
     "name": "stdout",
     "output_type": "stream",
     "text": [
      "1. In the below elements which of them are values or an expression? eg:- values can be integer or string and expressions will be mathematical operators.\n",
      "* \n",
      "'hello'\n",
      "-87.8\n",
      "- \n",
      "/ \n",
      "\n",
      "6 \n",
      "\n",
      "2. What is the difference between string and variable?\n",
      "\n",
      "3. Describe three different data types.\n",
      "\n",
      "4. What is an expression made up of? What do all expressions do?\n",
      "5. This assignment statements, like spam = 10. What is the difference between an expression and a statement?\n",
      "6. After running the following code, what does the variable bacon contain?\n",
      "bacon = 22\n",
      "bacon + 1\n",
      "\n",
      "7. What should the values of the following two terms be?\n",
      "'spam' + 'spamspam'\n",
      "'spam' * 3\n",
      "\n",
      "8. Why is eggs a valid variable name while 100 is invalid?\n",
      "9. What three functions can be used to get the integer, floating-point number, or string version of a value?\n",
      "10. Why does this expression cause an error? How can you fix it?\n",
      "'I have eaten ' + 99 + ' burritos.'\n",
      "\n",
      "\n"
     ]
    }
   ],
   "source": [
    "import docx\n",
    "doc = docx.Document(\"Assignment_1.docx\")\n",
    "all_paras = doc.paragraphs\n",
    "len(all_paras)\n",
    "\n",
    "for para in all_paras:\n",
    "    print(para.text)\n",
    "    "
   ]
  },
  {
   "cell_type": "code",
   "execution_count": 6,
   "id": "ded92eae",
   "metadata": {},
   "outputs": [],
   "source": [
    "import os\n",
    "os.chdir(\"d://Project//Practicles//Assignment\")"
   ]
  },
  {
   "cell_type": "code",
   "execution_count": 5,
   "id": "482e59a0",
   "metadata": {},
   "outputs": [
    {
     "data": {
      "text/plain": [
       "'d:\\\\Project\\\\Practicles\\\\Assignment'"
      ]
     },
     "execution_count": 5,
     "metadata": {},
     "output_type": "execute_result"
    }
   ],
   "source": [
    "pwd"
   ]
  },
  {
   "cell_type": "code",
   "execution_count": 6,
   "id": "bd7dabcf",
   "metadata": {},
   "outputs": [
    {
     "data": {
      "text/plain": [
       "['Assignment_1.docx', 'Assignment_2.docx', 'gfg.docx']"
      ]
     },
     "execution_count": 6,
     "metadata": {},
     "output_type": "execute_result"
    }
   ],
   "source": [
    "os.listdir()"
   ]
  },
  {
   "cell_type": "code",
   "execution_count": 12,
   "id": "df55ed87",
   "metadata": {},
   "outputs": [],
   "source": [
    "mydoc = docx.Document()\n",
    "mydoc.add_heading(\"Assignment_1\",0)\n",
    "mydoc.save(\"gfg.docx\")"
   ]
  },
  {
   "cell_type": "code",
   "execution_count": 14,
   "id": "77625df6",
   "metadata": {},
   "outputs": [],
   "source": [
    "mydoc.add_paragraph(\"This is the second paragraph of a MS Word file.\")\n",
    "mydoc.save(\"gfg.docx\")"
   ]
  },
  {
   "cell_type": "code",
   "execution_count": 16,
   "id": "700fad93",
   "metadata": {},
   "outputs": [],
   "source": [
    "import docx\n",
    "wdoc = docx.Document()\n",
    "doc = docx.Document(\"Assignment_1.docx\")\n",
    "all_paras = doc.paragraphs\n",
    "len(all_paras)\n",
    "wdoc.add_heading(\"Assignment_1\",0)\n",
    "for para in all_paras:\n",
    "    wdoc.add_paragraph(para.text)\n",
    "wdoc.save(\"gff.docx\")"
   ]
  },
  {
   "cell_type": "code",
   "execution_count": 45,
   "id": "b3b01ef7",
   "metadata": {},
   "outputs": [
    {
     "name": "stdout",
     "output_type": "stream",
     "text": [
      "Assignment_1\n",
      "Assignment_2\n"
     ]
    }
   ],
   "source": [
    "import docx\n",
    "title = \"\"\n",
    "for i in Assignment:\n",
    "    doc = docx.Document(i)\n",
    "    wdoc = docx.Document()\n",
    "    all_paras = doc.paragraphs\n",
    "    title = i.split(\".\")\n",
    "    title = title[0]\n",
    "    print(title)\n",
    "    wdoc.add_heading(title,0)\n",
    "    for para in all_paras:\n",
    "        wdoc.add_paragraph(para.text)        \n",
    "\n",
    "wdoc.save(\"abc.docx\")"
   ]
  },
  {
   "cell_type": "code",
   "execution_count": 9,
   "id": "75d28ae9",
   "metadata": {},
   "outputs": [
    {
     "data": {
      "text/plain": [
       "[]"
      ]
     },
     "execution_count": 9,
     "metadata": {},
     "output_type": "execute_result"
    }
   ],
   "source": [
    "Assignment"
   ]
  },
  {
   "cell_type": "code",
   "execution_count": 27,
   "id": "dae38a32",
   "metadata": {},
   "outputs": [
    {
     "data": {
      "text/plain": [
       "['Assignment_2', 'docx']"
      ]
     },
     "execution_count": 27,
     "metadata": {},
     "output_type": "execute_result"
    }
   ],
   "source": [
    "title"
   ]
  },
  {
   "cell_type": "code",
   "execution_count": 14,
   "id": "0eeeb6c5",
   "metadata": {},
   "outputs": [
    {
     "name": "stdout",
     "output_type": "stream",
     "text": [
      "<docx.document.Document object at 0x000002A3C325A280> 0 Assignment_1.docx\n"
     ]
    },
    {
     "ename": "AttributeError",
     "evalue": "'Document' object has no attribute 'sub_doc'",
     "output_type": "error",
     "traceback": [
      "\u001b[1;31m---------------------------------------------------------------------------\u001b[0m",
      "\u001b[1;31mAttributeError\u001b[0m                            Traceback (most recent call last)",
      "\u001b[1;32m~\\AppData\\Local\\Temp/ipykernel_9320/3837953107.py\u001b[0m in \u001b[0;36m<module>\u001b[1;34m\u001b[0m\n\u001b[0;32m      9\u001b[0m \u001b[1;33m\u001b[0m\u001b[0m\n\u001b[0;32m     10\u001b[0m     \u001b[1;32mfor\u001b[0m \u001b[0melement\u001b[0m \u001b[1;32min\u001b[0m \u001b[0msub_doc\u001b[0m\u001b[1;33m.\u001b[0m\u001b[0melement\u001b[0m\u001b[1;33m.\u001b[0m\u001b[0mbody\u001b[0m\u001b[1;33m:\u001b[0m\u001b[1;33m\u001b[0m\u001b[1;33m\u001b[0m\u001b[0m\n\u001b[1;32m---> 11\u001b[1;33m         \u001b[0mmerged_document\u001b[0m\u001b[1;33m.\u001b[0m\u001b[0msub_doc\u001b[0m\u001b[1;33m.\u001b[0m\u001b[0madd_heading\u001b[0m\u001b[1;33m(\u001b[0m\u001b[0mfile\u001b[0m\u001b[1;33m)\u001b[0m\u001b[1;33m\u001b[0m\u001b[1;33m\u001b[0m\u001b[0m\n\u001b[0m\u001b[0;32m     12\u001b[0m         \u001b[0mmerged_document\u001b[0m\u001b[1;33m.\u001b[0m\u001b[0melement\u001b[0m\u001b[1;33m.\u001b[0m\u001b[0mbody\u001b[0m\u001b[1;33m.\u001b[0m\u001b[0mappend\u001b[0m\u001b[1;33m(\u001b[0m\u001b[0melement\u001b[0m\u001b[1;33m)\u001b[0m\u001b[1;33m\u001b[0m\u001b[1;33m\u001b[0m\u001b[0m\n\u001b[0;32m     13\u001b[0m \u001b[0mmerged_document\u001b[0m\u001b[1;33m.\u001b[0m\u001b[0msave\u001b[0m\u001b[1;33m(\u001b[0m\u001b[1;34m'merged.docx'\u001b[0m\u001b[1;33m)\u001b[0m\u001b[1;33m\u001b[0m\u001b[1;33m\u001b[0m\u001b[0m\n",
      "\u001b[1;31mAttributeError\u001b[0m: 'Document' object has no attribute 'sub_doc'"
     ]
    }
   ],
   "source": [
    "from docx import Document\n",
    "merged_document = Document()\n",
    "for index, file in enumerate(Assignment):\n",
    "    sub_doc = Document(file)\n",
    "    print(sub_doc, index,file)\n",
    "\n",
    "    if index < len(Assignment)-1:\n",
    "        sub_doc.add_page_break()\n",
    "\n",
    "    for element in sub_doc.element.body:\n",
    "        merged_document.element.body.append(element)\n",
    "merged_document.save('merged.docx')"
   ]
  },
  {
   "cell_type": "code",
   "execution_count": 13,
   "id": "765de322",
   "metadata": {},
   "outputs": [
    {
     "data": {
      "text/plain": [
       "<CT_Body '<w:body>' at 0x2a3c3008c20>"
      ]
     },
     "execution_count": 13,
     "metadata": {},
     "output_type": "execute_result"
    }
   ],
   "source": [
    "sub_doc.add_heading()"
   ]
  },
  {
   "cell_type": "code",
   "execution_count": 50,
   "id": "7d344d58",
   "metadata": {},
   "outputs": [
    {
     "data": {
      "text/plain": [
       "False"
      ]
     },
     "execution_count": 50,
     "metadata": {},
     "output_type": "execute_result"
    }
   ],
   "source": [
    "1 < 1"
   ]
  },
  {
   "cell_type": "code",
   "execution_count": 5,
   "id": "1d784055",
   "metadata": {},
   "outputs": [
    {
     "data": {
      "text/plain": [
       "'D:\\\\Data_science\\\\01-Python'"
      ]
     },
     "execution_count": 5,
     "metadata": {},
     "output_type": "execute_result"
    }
   ],
   "source": [
    "pwd"
   ]
  },
  {
   "cell_type": "code",
   "execution_count": null,
   "id": "00ba7ba3",
   "metadata": {},
   "outputs": [],
   "source": []
  }
 ],
 "metadata": {
  "kernelspec": {
   "display_name": "Python 3 (ipykernel)",
   "language": "python",
   "name": "python3"
  },
  "language_info": {
   "codemirror_mode": {
    "name": "ipython",
    "version": 3
   },
   "file_extension": ".py",
   "mimetype": "text/x-python",
   "name": "python",
   "nbconvert_exporter": "python",
   "pygments_lexer": "ipython3",
   "version": "3.9.7"
  }
 },
 "nbformat": 4,
 "nbformat_minor": 5
}
